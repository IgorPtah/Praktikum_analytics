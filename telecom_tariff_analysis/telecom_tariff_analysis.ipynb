{
 "cells": [
  {
   "cell_type": "markdown",
   "metadata": {
    "toc": true
   },
   "source": [
    "<h1>Содержание<span class=\"tocSkip\"></span></h1>\n",
    "<div class=\"toc\"><ul class=\"toc-item\"><li><span><a href=\"#Определение-перспективного-тарифа-для-телеком-компании\" data-toc-modified-id=\"Определение-перспективного-тарифа-для-телеком-компании-1\"><span class=\"toc-item-num\">1&nbsp;&nbsp;</span>Определение перспективного тарифа для телеком компании</a></span></li><li><span><a href=\"#Изучение-присланных-таблиц\" data-toc-modified-id=\"Изучение-присланных-таблиц-2\"><span class=\"toc-item-num\">2&nbsp;&nbsp;</span>Изучение присланных таблиц</a></span><ul class=\"toc-item\"><li><span><a href=\"#Выводы\" data-toc-modified-id=\"Выводы-2.1\"><span class=\"toc-item-num\">2.1&nbsp;&nbsp;</span>Выводы</a></span></li></ul></li><li><span><a href=\"#Подготовка-данных\" data-toc-modified-id=\"Подготовка-данных-3\"><span class=\"toc-item-num\">3&nbsp;&nbsp;</span>Подготовка данных</a></span><ul class=\"toc-item\"><li><span><a href=\"#Обработка-полученных-данных\" data-toc-modified-id=\"Обработка-полученных-данных-3.1\"><span class=\"toc-item-num\">3.1&nbsp;&nbsp;</span>Обработка полученных данных</a></span></li><li><span><a href=\"#Выводы-по-обработке-полученных-данных\" data-toc-modified-id=\"Выводы-по-обработке-полученных-данных-3.2\"><span class=\"toc-item-num\">3.2&nbsp;&nbsp;</span>Выводы по обработке полученных данных</a></span></li><li><span><a href=\"#Промежуточные-расчеты\" data-toc-modified-id=\"Промежуточные-расчеты-3.3\"><span class=\"toc-item-num\">3.3&nbsp;&nbsp;</span>Промежуточные расчеты</a></span></li><li><span><a href=\"#Выводы-по-промежуточным-расчетам\" data-toc-modified-id=\"Выводы-по-промежуточным-расчетам-3.4\"><span class=\"toc-item-num\">3.4&nbsp;&nbsp;</span>Выводы по промежуточным расчетам</a></span></li></ul></li><li><span><a href=\"#Анализ-полученных-данных\" data-toc-modified-id=\"Анализ-полученных-данных-4\"><span class=\"toc-item-num\">4&nbsp;&nbsp;</span>Анализ полученных данных</a></span><ul class=\"toc-item\"><li><span><a href=\"#Расмотрим-статистику-по-потраченным-минутам\" data-toc-modified-id=\"Расмотрим-статистику-по-потраченным-минутам-4.1\"><span class=\"toc-item-num\">4.1&nbsp;&nbsp;</span>Расмотрим статистику по потраченным минутам</a></span></li><li><span><a href=\"#Рассмотрим-статистику-по-сообщениям\" data-toc-modified-id=\"Рассмотрим-статистику-по-сообщениям-4.2\"><span class=\"toc-item-num\">4.2&nbsp;&nbsp;</span>Рассмотрим статистику по сообщениям</a></span></li><li><span><a href=\"#Рассмотрим-статистику-по-расходованию-интернет-трафика\" data-toc-modified-id=\"Рассмотрим-статистику-по-расходованию-интернет-трафика-4.3\"><span class=\"toc-item-num\">4.3&nbsp;&nbsp;</span>Рассмотрим статистику по расходованию интернет-трафика</a></span></li></ul></li><li><span><a href=\"#Проверка-гипотез\" data-toc-modified-id=\"Проверка-гипотез-5\"><span class=\"toc-item-num\">5&nbsp;&nbsp;</span>Проверка гипотез</a></span></li><li><span><a href=\"#Выводы\" data-toc-modified-id=\"Выводы-6\"><span class=\"toc-item-num\">6&nbsp;&nbsp;</span>Выводы</a></span></li></ul></div>"
   ]
  },
  {
   "cell_type": "markdown",
   "metadata": {},
   "source": [
    "# Определение перспективного тарифа для телеком компании"
   ]
  },
  {
   "cell_type": "markdown",
   "metadata": {},
   "source": [
    "Федеральный оператор сотовой связи \"Мегалайн\" предлагает клиентам два тарифных плана: «Смарт» и «Ультра». Чтобы скорректировать рекламный бюджет, коммерческий департамент хочет понять, какой тариф приносит больше денег.\n",
    "Необхоимо сделать предварительный анализ тарифов на небольшой выборке клиентов. В нашем распоряжении данные 500 пользователей «Мегалайна»: кто они, откуда, каким тарифом пользуются, сколько звонков и сообщений каждый отправил за 2018 год. \n",
    "Нужно проанализировать поведение клиентов и сделать вывод — какой тариф лучше."
   ]
  },
  {
   "cell_type": "markdown",
   "metadata": {},
   "source": [
    "Данные переданы нам в нескольких таблицах. \n",
    "\n",
    "Таблица users (информация о пользователях):\n",
    "\n",
    "Таблица calls (информация о звонках):\n",
    "\n",
    "Таблица messages (информация о сообщениях):\n",
    "\n",
    "Таблица internet (информация об интернет-сессиях):\n",
    "\n",
    "Таблица tariffs (информация о тарифах):    "
   ]
  },
  {
   "cell_type": "markdown",
   "metadata": {},
   "source": [
    "Для выполнения задания нам необходимо выполнить следующие шаги:\n",
    "1. Изучить присланную документацию\n",
    "2. Подготовить и почистить данные\n",
    "3. Проанализировать данные и отразить это выводом\n",
    "4. Проверить гипотезы выдвинутые коммерческим департаментом (средняя выручка пользователей тарифов «Ультра» и «Смарт» различаются, средняя выручка пользователи из Москвы отличается от выручки пользователей из других регионов.)"
   ]
  },
  {
   "cell_type": "markdown",
   "metadata": {},
   "source": [
    "# Изучение присланных таблиц"
   ]
  },
  {
   "cell_type": "markdown",
   "metadata": {},
   "source": [
    "Согласно исходных данных, путь к файлам\n",
    "\n",
    "-- /datasets/calls.csv. \n",
    "\n",
    "-- /datasets/internet.csv.\n",
    "\n",
    "-- /datasets/messages.csv.\n",
    "\n",
    "-- /datasets/tariffs.csv. \n",
    "\n",
    "-- /datasets/users.csv. \n",
    "\n",
    "Откроем и рассмотрим предоставленные данные"
   ]
  },
  {
   "cell_type": "code",
   "execution_count": 1,
   "metadata": {},
   "outputs": [],
   "source": [
    "# импортируем необходимые нам библиотеки\n",
    "import pandas as pd\n",
    "import matplotlib.pyplot as plt\n",
    "import seaborn as sns\n",
    "import numpy as np\n",
    "import math as math\n",
    "from scipy import stats as st\n",
    "from IPython.display import display, HTML\n",
    "\n",
    "#Подключим файлы с данными \n",
    "calls = pd.read_csv('/datasets/calls.csv')\n",
    "internet = pd.read_csv('/datasets/internet.csv')\n",
    "messages = pd.read_csv('/datasets/messages.csv')\n",
    "tariffs = pd.read_csv('/datasets/tariffs.csv')\n",
    "users = pd.read_csv('/datasets/users.csv')\n"
   ]
  },
  {
   "cell_type": "code",
   "execution_count": 2,
   "metadata": {},
   "outputs": [
    {
     "name": "stdout",
     "output_type": "stream",
     "text": [
      "Таблица calls (информация о звонках)\n",
      "<class 'pandas.core.frame.DataFrame'>\n",
      "RangeIndex: 202607 entries, 0 to 202606\n",
      "Data columns (total 4 columns):\n",
      "id           202607 non-null object\n",
      "call_date    202607 non-null object\n",
      "duration     202607 non-null float64\n",
      "user_id      202607 non-null int64\n",
      "dtypes: float64(1), int64(1), object(2)\n",
      "memory usage: 6.2+ MB\n",
      "            duration        user_id\n",
      "count  202607.000000  202607.000000\n",
      "mean        6.755887    1253.940619\n",
      "std         5.843365     144.722751\n",
      "min         0.000000    1000.000000\n",
      "25%         1.300000    1126.000000\n",
      "50%         6.000000    1260.000000\n",
      "75%        10.700000    1379.000000\n",
      "max        38.000000    1499.000000\n"
     ]
    },
    {
     "data": {
      "text/html": [
       "<div>\n",
       "<style scoped>\n",
       "    .dataframe tbody tr th:only-of-type {\n",
       "        vertical-align: middle;\n",
       "    }\n",
       "\n",
       "    .dataframe tbody tr th {\n",
       "        vertical-align: top;\n",
       "    }\n",
       "\n",
       "    .dataframe thead th {\n",
       "        text-align: right;\n",
       "    }\n",
       "</style>\n",
       "<table border=\"1\" class=\"dataframe\">\n",
       "  <thead>\n",
       "    <tr style=\"text-align: right;\">\n",
       "      <th></th>\n",
       "      <th>id</th>\n",
       "      <th>call_date</th>\n",
       "      <th>duration</th>\n",
       "      <th>user_id</th>\n",
       "    </tr>\n",
       "  </thead>\n",
       "  <tbody>\n",
       "    <tr>\n",
       "      <td>26953</td>\n",
       "      <td>1066_374</td>\n",
       "      <td>2018-08-26</td>\n",
       "      <td>0.00</td>\n",
       "      <td>1066</td>\n",
       "    </tr>\n",
       "    <tr>\n",
       "      <td>66122</td>\n",
       "      <td>1168_1273</td>\n",
       "      <td>2018-03-28</td>\n",
       "      <td>16.05</td>\n",
       "      <td>1168</td>\n",
       "    </tr>\n",
       "    <tr>\n",
       "      <td>67325</td>\n",
       "      <td>1171_350</td>\n",
       "      <td>2018-09-14</td>\n",
       "      <td>6.23</td>\n",
       "      <td>1171</td>\n",
       "    </tr>\n",
       "    <tr>\n",
       "      <td>74643</td>\n",
       "      <td>1186_465</td>\n",
       "      <td>2018-09-02</td>\n",
       "      <td>0.79</td>\n",
       "      <td>1186</td>\n",
       "    </tr>\n",
       "    <tr>\n",
       "      <td>192311</td>\n",
       "      <td>1472_124</td>\n",
       "      <td>2018-05-04</td>\n",
       "      <td>5.94</td>\n",
       "      <td>1472</td>\n",
       "    </tr>\n",
       "    <tr>\n",
       "      <td>47375</td>\n",
       "      <td>1118_664</td>\n",
       "      <td>2018-10-24</td>\n",
       "      <td>13.41</td>\n",
       "      <td>1118</td>\n",
       "    </tr>\n",
       "    <tr>\n",
       "      <td>91143</td>\n",
       "      <td>1227_563</td>\n",
       "      <td>2018-08-03</td>\n",
       "      <td>15.15</td>\n",
       "      <td>1227</td>\n",
       "    </tr>\n",
       "    <tr>\n",
       "      <td>3818</td>\n",
       "      <td>1010_67</td>\n",
       "      <td>2018-08-16</td>\n",
       "      <td>14.29</td>\n",
       "      <td>1010</td>\n",
       "    </tr>\n",
       "    <tr>\n",
       "      <td>182822</td>\n",
       "      <td>1454_574</td>\n",
       "      <td>2018-09-23</td>\n",
       "      <td>9.98</td>\n",
       "      <td>1454</td>\n",
       "    </tr>\n",
       "    <tr>\n",
       "      <td>187346</td>\n",
       "      <td>1463_0</td>\n",
       "      <td>2018-12-05</td>\n",
       "      <td>10.63</td>\n",
       "      <td>1463</td>\n",
       "    </tr>\n",
       "  </tbody>\n",
       "</table>\n",
       "</div>"
      ],
      "text/plain": [
       "               id   call_date  duration  user_id\n",
       "26953    1066_374  2018-08-26      0.00     1066\n",
       "66122   1168_1273  2018-03-28     16.05     1168\n",
       "67325    1171_350  2018-09-14      6.23     1171\n",
       "74643    1186_465  2018-09-02      0.79     1186\n",
       "192311   1472_124  2018-05-04      5.94     1472\n",
       "47375    1118_664  2018-10-24     13.41     1118\n",
       "91143    1227_563  2018-08-03     15.15     1227\n",
       "3818      1010_67  2018-08-16     14.29     1010\n",
       "182822   1454_574  2018-09-23      9.98     1454\n",
       "187346     1463_0  2018-12-05     10.63     1463"
      ]
     },
     "execution_count": 2,
     "metadata": {},
     "output_type": "execute_result"
    }
   ],
   "source": [
    "print('Таблица calls (информация о звонках)')\n",
    "#Просмотрим общую информацию о данных\n",
    "calls.info()\n",
    "\n",
    "#Просмотрим данные функцией describle\n",
    "print(calls.describe())\n",
    "\n",
    "# Применим случайную выборку данных для первичного ознакомления\n",
    "# Укажем параметр random_state=1, для сохранения результата при повторных запусках алгоритма, если нам\n",
    "# вдруг понадобится\n",
    "\n",
    "calls.sample(10, random_state=1)"
   ]
  },
  {
   "cell_type": "markdown",
   "metadata": {},
   "source": [
    "Таблица содержит следующие данные:\n",
    "\n",
    "-- id — уникальный номер звонка\n",
    "\n",
    "-- call_date — дата звонка\n",
    "\n",
    "-- duration — длительность звонка в минутах\n",
    "\n",
    "-- user_id — идентификатор пользователя, сделавшего звонок\n",
    "\n",
    "Пропусков данных с первого взгляда не видно. Для дальнейшей проработки понадобится преобразовать формат в столбце call_date в формат даты/времени и округлить длительность разговоров (столбец duration) до минут вверх, согласно принятым в фирме требованиям"
   ]
  },
  {
   "cell_type": "code",
   "execution_count": 3,
   "metadata": {},
   "outputs": [
    {
     "name": "stdout",
     "output_type": "stream",
     "text": [
      "Таблица internet (информация об интернет-сессиях)\n",
      "<class 'pandas.core.frame.DataFrame'>\n",
      "RangeIndex: 149396 entries, 0 to 149395\n",
      "Data columns (total 5 columns):\n",
      "Unnamed: 0      149396 non-null int64\n",
      "id              149396 non-null object\n",
      "mb_used         149396 non-null float64\n",
      "session_date    149396 non-null object\n",
      "user_id         149396 non-null int64\n",
      "dtypes: float64(1), int64(2), object(2)\n",
      "memory usage: 5.7+ MB\n",
      "          Unnamed: 0        mb_used        user_id\n",
      "count  149396.000000  149396.000000  149396.000000\n",
      "mean    74697.500000     370.192426    1252.099842\n",
      "std     43127.054745     278.300951     144.050823\n",
      "min         0.000000       0.000000    1000.000000\n",
      "25%     37348.750000     138.187500    1130.000000\n",
      "50%     74697.500000     348.015000    1251.000000\n",
      "75%    112046.250000     559.552500    1380.000000\n",
      "max    149395.000000    1724.830000    1499.000000\n"
     ]
    },
    {
     "data": {
      "text/html": [
       "<div>\n",
       "<style scoped>\n",
       "    .dataframe tbody tr th:only-of-type {\n",
       "        vertical-align: middle;\n",
       "    }\n",
       "\n",
       "    .dataframe tbody tr th {\n",
       "        vertical-align: top;\n",
       "    }\n",
       "\n",
       "    .dataframe thead th {\n",
       "        text-align: right;\n",
       "    }\n",
       "</style>\n",
       "<table border=\"1\" class=\"dataframe\">\n",
       "  <thead>\n",
       "    <tr style=\"text-align: right;\">\n",
       "      <th></th>\n",
       "      <th>Unnamed: 0</th>\n",
       "      <th>id</th>\n",
       "      <th>mb_used</th>\n",
       "      <th>session_date</th>\n",
       "      <th>user_id</th>\n",
       "    </tr>\n",
       "  </thead>\n",
       "  <tbody>\n",
       "    <tr>\n",
       "      <td>35745</td>\n",
       "      <td>35745</td>\n",
       "      <td>1124_125</td>\n",
       "      <td>122.45</td>\n",
       "      <td>2018-12-03</td>\n",
       "      <td>1124</td>\n",
       "    </tr>\n",
       "    <tr>\n",
       "      <td>18383</td>\n",
       "      <td>18383</td>\n",
       "      <td>1064_102</td>\n",
       "      <td>320.60</td>\n",
       "      <td>2018-12-19</td>\n",
       "      <td>1064</td>\n",
       "    </tr>\n",
       "    <tr>\n",
       "      <td>59774</td>\n",
       "      <td>59774</td>\n",
       "      <td>1203_22</td>\n",
       "      <td>605.96</td>\n",
       "      <td>2018-06-17</td>\n",
       "      <td>1203</td>\n",
       "    </tr>\n",
       "    <tr>\n",
       "      <td>56317</td>\n",
       "      <td>56317</td>\n",
       "      <td>1188_123</td>\n",
       "      <td>781.73</td>\n",
       "      <td>2018-05-08</td>\n",
       "      <td>1188</td>\n",
       "    </tr>\n",
       "    <tr>\n",
       "      <td>52231</td>\n",
       "      <td>52231</td>\n",
       "      <td>1176_386</td>\n",
       "      <td>150.98</td>\n",
       "      <td>2018-08-20</td>\n",
       "      <td>1176</td>\n",
       "    </tr>\n",
       "    <tr>\n",
       "      <td>20276</td>\n",
       "      <td>20276</td>\n",
       "      <td>1068_26</td>\n",
       "      <td>389.65</td>\n",
       "      <td>2018-12-04</td>\n",
       "      <td>1068</td>\n",
       "    </tr>\n",
       "    <tr>\n",
       "      <td>82748</td>\n",
       "      <td>82748</td>\n",
       "      <td>1281_64</td>\n",
       "      <td>841.89</td>\n",
       "      <td>2018-11-07</td>\n",
       "      <td>1281</td>\n",
       "    </tr>\n",
       "    <tr>\n",
       "      <td>129266</td>\n",
       "      <td>129266</td>\n",
       "      <td>1431_300</td>\n",
       "      <td>461.23</td>\n",
       "      <td>2018-11-26</td>\n",
       "      <td>1431</td>\n",
       "    </tr>\n",
       "    <tr>\n",
       "      <td>46783</td>\n",
       "      <td>46783</td>\n",
       "      <td>1160_75</td>\n",
       "      <td>0.00</td>\n",
       "      <td>2018-08-15</td>\n",
       "      <td>1160</td>\n",
       "    </tr>\n",
       "    <tr>\n",
       "      <td>48492</td>\n",
       "      <td>48492</td>\n",
       "      <td>1168_260</td>\n",
       "      <td>336.06</td>\n",
       "      <td>2018-07-28</td>\n",
       "      <td>1168</td>\n",
       "    </tr>\n",
       "  </tbody>\n",
       "</table>\n",
       "</div>"
      ],
      "text/plain": [
       "        Unnamed: 0        id  mb_used session_date  user_id\n",
       "35745        35745  1124_125   122.45   2018-12-03     1124\n",
       "18383        18383  1064_102   320.60   2018-12-19     1064\n",
       "59774        59774   1203_22   605.96   2018-06-17     1203\n",
       "56317        56317  1188_123   781.73   2018-05-08     1188\n",
       "52231        52231  1176_386   150.98   2018-08-20     1176\n",
       "20276        20276   1068_26   389.65   2018-12-04     1068\n",
       "82748        82748   1281_64   841.89   2018-11-07     1281\n",
       "129266      129266  1431_300   461.23   2018-11-26     1431\n",
       "46783        46783   1160_75     0.00   2018-08-15     1160\n",
       "48492        48492  1168_260   336.06   2018-07-28     1168"
      ]
     },
     "execution_count": 3,
     "metadata": {},
     "output_type": "execute_result"
    }
   ],
   "source": [
    "print('Таблица internet (информация об интернет-сессиях)')\n",
    "#Просмотрим общую информацию о данных\n",
    "internet.info()\n",
    "\n",
    "#Просмотрим данные функцией describle\n",
    "print(internet.describe())\n",
    "\n",
    "# Применим случайную выборку данных для первичного ознакомления\n",
    "# Укажем параметр random_state=1, для сохранения результата при повторных запусках алгоритма, если нам\n",
    "# вдруг понадобится\n",
    "\n",
    "internet.sample(10, random_state=1)"
   ]
  },
  {
   "cell_type": "markdown",
   "metadata": {},
   "source": [
    "Таблица internet (информация об интернет-сессиях) содержит следующие столбцы:\n",
    "\n",
    "- id — уникальный номер сессии\n",
    "- mb_used — объём потраченного за сессию интернет-трафика (в мегабайтах)\n",
    "- session_date — дата интернет-сессии\n",
    "- user_id — идентификатор пользователя\n",
    "\n",
    "На первый взгляд видно задвоение столбца индекса, и то, что данных сильно меньше чем в предыдущем файле. Так же для дальнейшей проработки понадобится преобразовать формат в столбце session_date в формат даты/времени и округлить потраченный трафик согласно принятым в фирме требований."
   ]
  },
  {
   "cell_type": "code",
   "execution_count": 4,
   "metadata": {},
   "outputs": [
    {
     "name": "stdout",
     "output_type": "stream",
     "text": [
      "Таблица messages (информация о сообщениях)\n",
      "<class 'pandas.core.frame.DataFrame'>\n",
      "RangeIndex: 123036 entries, 0 to 123035\n",
      "Data columns (total 3 columns):\n",
      "id              123036 non-null object\n",
      "message_date    123036 non-null object\n",
      "user_id         123036 non-null int64\n",
      "dtypes: int64(1), object(2)\n",
      "memory usage: 2.8+ MB\n",
      "             user_id\n",
      "count  123036.000000\n",
      "mean     1256.989410\n",
      "std       143.523967\n",
      "min      1000.000000\n",
      "25%      1134.000000\n",
      "50%      1271.000000\n",
      "75%      1381.000000\n",
      "max      1499.000000\n"
     ]
    },
    {
     "data": {
      "text/html": [
       "<div>\n",
       "<style scoped>\n",
       "    .dataframe tbody tr th:only-of-type {\n",
       "        vertical-align: middle;\n",
       "    }\n",
       "\n",
       "    .dataframe tbody tr th {\n",
       "        vertical-align: top;\n",
       "    }\n",
       "\n",
       "    .dataframe thead th {\n",
       "        text-align: right;\n",
       "    }\n",
       "</style>\n",
       "<table border=\"1\" class=\"dataframe\">\n",
       "  <thead>\n",
       "    <tr style=\"text-align: right;\">\n",
       "      <th></th>\n",
       "      <th>id</th>\n",
       "      <th>message_date</th>\n",
       "      <th>user_id</th>\n",
       "    </tr>\n",
       "  </thead>\n",
       "  <tbody>\n",
       "    <tr>\n",
       "      <td>45696</td>\n",
       "      <td>1197_26</td>\n",
       "      <td>2018-12-31</td>\n",
       "      <td>1197</td>\n",
       "    </tr>\n",
       "    <tr>\n",
       "      <td>66091</td>\n",
       "      <td>1282_523</td>\n",
       "      <td>2018-11-30</td>\n",
       "      <td>1282</td>\n",
       "    </tr>\n",
       "    <tr>\n",
       "      <td>18743</td>\n",
       "      <td>1082_184</td>\n",
       "      <td>2018-10-18</td>\n",
       "      <td>1082</td>\n",
       "    </tr>\n",
       "    <tr>\n",
       "      <td>33759</td>\n",
       "      <td>1146_557</td>\n",
       "      <td>2018-12-22</td>\n",
       "      <td>1146</td>\n",
       "    </tr>\n",
       "    <tr>\n",
       "      <td>11403</td>\n",
       "      <td>1048_49</td>\n",
       "      <td>2018-09-27</td>\n",
       "      <td>1048</td>\n",
       "    </tr>\n",
       "    <tr>\n",
       "      <td>97793</td>\n",
       "      <td>1401_125</td>\n",
       "      <td>2018-08-10</td>\n",
       "      <td>1401</td>\n",
       "    </tr>\n",
       "    <tr>\n",
       "      <td>406</td>\n",
       "      <td>1000_406</td>\n",
       "      <td>2018-12-29</td>\n",
       "      <td>1000</td>\n",
       "    </tr>\n",
       "    <tr>\n",
       "      <td>71393</td>\n",
       "      <td>1302_221</td>\n",
       "      <td>2018-10-23</td>\n",
       "      <td>1302</td>\n",
       "    </tr>\n",
       "    <tr>\n",
       "      <td>103004</td>\n",
       "      <td>1420_11</td>\n",
       "      <td>2018-12-12</td>\n",
       "      <td>1420</td>\n",
       "    </tr>\n",
       "    <tr>\n",
       "      <td>53795</td>\n",
       "      <td>1238_208</td>\n",
       "      <td>2018-10-08</td>\n",
       "      <td>1238</td>\n",
       "    </tr>\n",
       "  </tbody>\n",
       "</table>\n",
       "</div>"
      ],
      "text/plain": [
       "              id message_date  user_id\n",
       "45696    1197_26   2018-12-31     1197\n",
       "66091   1282_523   2018-11-30     1282\n",
       "18743   1082_184   2018-10-18     1082\n",
       "33759   1146_557   2018-12-22     1146\n",
       "11403    1048_49   2018-09-27     1048\n",
       "97793   1401_125   2018-08-10     1401\n",
       "406     1000_406   2018-12-29     1000\n",
       "71393   1302_221   2018-10-23     1302\n",
       "103004   1420_11   2018-12-12     1420\n",
       "53795   1238_208   2018-10-08     1238"
      ]
     },
     "execution_count": 4,
     "metadata": {},
     "output_type": "execute_result"
    }
   ],
   "source": [
    "print('Таблица messages (информация о сообщениях)')\n",
    "#Просмотрим общую информацию о данных\n",
    "messages.info()\n",
    "\n",
    "#Просмотрим данные функцией describle\n",
    "print(messages.describe())\n",
    "\n",
    "# Применим случайную выборку данных для первичного ознакомления\n",
    "# Укажем параметр random_state=1, для сохранения результата при повторных запусках алгоритма, если нам\n",
    "# вдруг понадобится\n",
    "\n",
    "messages.sample(10, random_state=1)"
   ]
  },
  {
   "cell_type": "markdown",
   "metadata": {},
   "source": [
    "Таблица messages (информация о сообщениях содержит следующие столбцы:\n",
    "\n",
    "- id — уникальный номер сообщения\n",
    "- message_date — дата сообщения\n",
    "- user_id — идентификатор пользователя, отправившего сообщение\n",
    "\n",
    "На первый взгляд пропусков данных нет, но данных ещё меньше чем в предыдущих файлов. Так же для дальнейшей проработки понадобится преобразовать формат в столбце message_date в формат даты/времени."
   ]
  },
  {
   "cell_type": "code",
   "execution_count": 5,
   "metadata": {},
   "outputs": [
    {
     "name": "stdout",
     "output_type": "stream",
     "text": [
      "Таблица tariffs (информация о тарифах)\n",
      "<class 'pandas.core.frame.DataFrame'>\n",
      "RangeIndex: 2 entries, 0 to 1\n",
      "Data columns (total 8 columns):\n",
      "messages_included        2 non-null int64\n",
      "mb_per_month_included    2 non-null int64\n",
      "minutes_included         2 non-null int64\n",
      "rub_monthly_fee          2 non-null int64\n",
      "rub_per_gb               2 non-null int64\n",
      "rub_per_message          2 non-null int64\n",
      "rub_per_minute           2 non-null int64\n",
      "tariff_name              2 non-null object\n",
      "dtypes: int64(7), object(1)\n",
      "memory usage: 256.0+ bytes\n"
     ]
    },
    {
     "data": {
      "text/html": [
       "<div>\n",
       "<style scoped>\n",
       "    .dataframe tbody tr th:only-of-type {\n",
       "        vertical-align: middle;\n",
       "    }\n",
       "\n",
       "    .dataframe tbody tr th {\n",
       "        vertical-align: top;\n",
       "    }\n",
       "\n",
       "    .dataframe thead th {\n",
       "        text-align: right;\n",
       "    }\n",
       "</style>\n",
       "<table border=\"1\" class=\"dataframe\">\n",
       "  <thead>\n",
       "    <tr style=\"text-align: right;\">\n",
       "      <th></th>\n",
       "      <th>messages_included</th>\n",
       "      <th>mb_per_month_included</th>\n",
       "      <th>minutes_included</th>\n",
       "      <th>rub_monthly_fee</th>\n",
       "      <th>rub_per_gb</th>\n",
       "      <th>rub_per_message</th>\n",
       "      <th>rub_per_minute</th>\n",
       "    </tr>\n",
       "  </thead>\n",
       "  <tbody>\n",
       "    <tr>\n",
       "      <td>count</td>\n",
       "      <td>2.000000</td>\n",
       "      <td>2.000000</td>\n",
       "      <td>2.000000</td>\n",
       "      <td>2.000000</td>\n",
       "      <td>2.000000</td>\n",
       "      <td>2.000000</td>\n",
       "      <td>2.000000</td>\n",
       "    </tr>\n",
       "    <tr>\n",
       "      <td>mean</td>\n",
       "      <td>525.000000</td>\n",
       "      <td>23040.000000</td>\n",
       "      <td>1750.000000</td>\n",
       "      <td>1250.000000</td>\n",
       "      <td>175.000000</td>\n",
       "      <td>2.000000</td>\n",
       "      <td>2.000000</td>\n",
       "    </tr>\n",
       "    <tr>\n",
       "      <td>std</td>\n",
       "      <td>671.751442</td>\n",
       "      <td>10861.160159</td>\n",
       "      <td>1767.766953</td>\n",
       "      <td>989.949494</td>\n",
       "      <td>35.355339</td>\n",
       "      <td>1.414214</td>\n",
       "      <td>1.414214</td>\n",
       "    </tr>\n",
       "    <tr>\n",
       "      <td>min</td>\n",
       "      <td>50.000000</td>\n",
       "      <td>15360.000000</td>\n",
       "      <td>500.000000</td>\n",
       "      <td>550.000000</td>\n",
       "      <td>150.000000</td>\n",
       "      <td>1.000000</td>\n",
       "      <td>1.000000</td>\n",
       "    </tr>\n",
       "    <tr>\n",
       "      <td>25%</td>\n",
       "      <td>287.500000</td>\n",
       "      <td>19200.000000</td>\n",
       "      <td>1125.000000</td>\n",
       "      <td>900.000000</td>\n",
       "      <td>162.500000</td>\n",
       "      <td>1.500000</td>\n",
       "      <td>1.500000</td>\n",
       "    </tr>\n",
       "    <tr>\n",
       "      <td>50%</td>\n",
       "      <td>525.000000</td>\n",
       "      <td>23040.000000</td>\n",
       "      <td>1750.000000</td>\n",
       "      <td>1250.000000</td>\n",
       "      <td>175.000000</td>\n",
       "      <td>2.000000</td>\n",
       "      <td>2.000000</td>\n",
       "    </tr>\n",
       "    <tr>\n",
       "      <td>75%</td>\n",
       "      <td>762.500000</td>\n",
       "      <td>26880.000000</td>\n",
       "      <td>2375.000000</td>\n",
       "      <td>1600.000000</td>\n",
       "      <td>187.500000</td>\n",
       "      <td>2.500000</td>\n",
       "      <td>2.500000</td>\n",
       "    </tr>\n",
       "    <tr>\n",
       "      <td>max</td>\n",
       "      <td>1000.000000</td>\n",
       "      <td>30720.000000</td>\n",
       "      <td>3000.000000</td>\n",
       "      <td>1950.000000</td>\n",
       "      <td>200.000000</td>\n",
       "      <td>3.000000</td>\n",
       "      <td>3.000000</td>\n",
       "    </tr>\n",
       "  </tbody>\n",
       "</table>\n",
       "</div>"
      ],
      "text/plain": [
       "       messages_included  mb_per_month_included  minutes_included  \\\n",
       "count           2.000000               2.000000          2.000000   \n",
       "mean          525.000000           23040.000000       1750.000000   \n",
       "std           671.751442           10861.160159       1767.766953   \n",
       "min            50.000000           15360.000000        500.000000   \n",
       "25%           287.500000           19200.000000       1125.000000   \n",
       "50%           525.000000           23040.000000       1750.000000   \n",
       "75%           762.500000           26880.000000       2375.000000   \n",
       "max          1000.000000           30720.000000       3000.000000   \n",
       "\n",
       "       rub_monthly_fee  rub_per_gb  rub_per_message  rub_per_minute  \n",
       "count         2.000000    2.000000         2.000000        2.000000  \n",
       "mean       1250.000000  175.000000         2.000000        2.000000  \n",
       "std         989.949494   35.355339         1.414214        1.414214  \n",
       "min         550.000000  150.000000         1.000000        1.000000  \n",
       "25%         900.000000  162.500000         1.500000        1.500000  \n",
       "50%        1250.000000  175.000000         2.000000        2.000000  \n",
       "75%        1600.000000  187.500000         2.500000        2.500000  \n",
       "max        1950.000000  200.000000         3.000000        3.000000  "
      ]
     },
     "metadata": {},
     "output_type": "display_data"
    },
    {
     "data": {
      "text/html": [
       "<div>\n",
       "<style scoped>\n",
       "    .dataframe tbody tr th:only-of-type {\n",
       "        vertical-align: middle;\n",
       "    }\n",
       "\n",
       "    .dataframe tbody tr th {\n",
       "        vertical-align: top;\n",
       "    }\n",
       "\n",
       "    .dataframe thead th {\n",
       "        text-align: right;\n",
       "    }\n",
       "</style>\n",
       "<table border=\"1\" class=\"dataframe\">\n",
       "  <thead>\n",
       "    <tr style=\"text-align: right;\">\n",
       "      <th></th>\n",
       "      <th>messages_included</th>\n",
       "      <th>mb_per_month_included</th>\n",
       "      <th>minutes_included</th>\n",
       "      <th>rub_monthly_fee</th>\n",
       "      <th>rub_per_gb</th>\n",
       "      <th>rub_per_message</th>\n",
       "      <th>rub_per_minute</th>\n",
       "      <th>tariff_name</th>\n",
       "    </tr>\n",
       "  </thead>\n",
       "  <tbody>\n",
       "    <tr>\n",
       "      <td>0</td>\n",
       "      <td>50</td>\n",
       "      <td>15360</td>\n",
       "      <td>500</td>\n",
       "      <td>550</td>\n",
       "      <td>200</td>\n",
       "      <td>3</td>\n",
       "      <td>3</td>\n",
       "      <td>smart</td>\n",
       "    </tr>\n",
       "    <tr>\n",
       "      <td>1</td>\n",
       "      <td>1000</td>\n",
       "      <td>30720</td>\n",
       "      <td>3000</td>\n",
       "      <td>1950</td>\n",
       "      <td>150</td>\n",
       "      <td>1</td>\n",
       "      <td>1</td>\n",
       "      <td>ultra</td>\n",
       "    </tr>\n",
       "  </tbody>\n",
       "</table>\n",
       "</div>"
      ],
      "text/plain": [
       "   messages_included  mb_per_month_included  minutes_included  \\\n",
       "0                 50                  15360               500   \n",
       "1               1000                  30720              3000   \n",
       "\n",
       "   rub_monthly_fee  rub_per_gb  rub_per_message  rub_per_minute tariff_name  \n",
       "0              550         200                3               3       smart  \n",
       "1             1950         150                1               1       ultra  "
      ]
     },
     "execution_count": 5,
     "metadata": {},
     "output_type": "execute_result"
    }
   ],
   "source": [
    "print('Таблица tariffs (информация о тарифах)')\n",
    "#Просмотрим общую информацию о данных\n",
    "tariffs.info()\n",
    "\n",
    "#Просмотрим данные функцией describle\n",
    "display(tariffs.describe())\n",
    "\n",
    "#У нас всего два варианта - выведем их на экран\n",
    "\n",
    "tariffs.head(2)"
   ]
  },
  {
   "cell_type": "markdown",
   "metadata": {},
   "source": [
    "Таблица tariffs (информация о тарифах) содержит описание двух тарифов:\n",
    "\n",
    "- tariff_name — название тарифа\n",
    "\n",
    "- rub_monthly_fee — ежемесячная абонентская плата в рублях\n",
    "\n",
    "- minutes_included — количество минут разговора в месяц, включённых в абонентскую плату\n",
    "\n",
    "- messages_included — количество сообщений в месяц, включённых в абонентскую плату\n",
    "\n",
    "- mb_per_month_included — объём интернет-трафика, включённого в абонентскую плату (в мегабайтах)\n",
    "\n",
    "- rub_per_minute — стоимость минуты разговора сверх тарифного пакета (например, если в тарифе 100 минут разговора в месяц, то со 101 минуты будет взиматься плата)\n",
    "\n",
    "- rub_per_message — стоимость отправки сообщения сверх тарифного пакета\n",
    "\n",
    "- rub_per_gb — стоимость дополнительного гигабайта интернет-трафика сверх тарифного пакета (1 гигабайт = 1024 мегабайта)\n",
    "\n",
    "В целом таблица полна и проста :-)\n"
   ]
  },
  {
   "cell_type": "code",
   "execution_count": 6,
   "metadata": {},
   "outputs": [
    {
     "name": "stdout",
     "output_type": "stream",
     "text": [
      "Таблица users (информация о пользователях)\n",
      "<class 'pandas.core.frame.DataFrame'>\n",
      "RangeIndex: 500 entries, 0 to 499\n",
      "Data columns (total 8 columns):\n",
      "user_id       500 non-null int64\n",
      "age           500 non-null int64\n",
      "churn_date    38 non-null object\n",
      "city          500 non-null object\n",
      "first_name    500 non-null object\n",
      "last_name     500 non-null object\n",
      "reg_date      500 non-null object\n",
      "tariff        500 non-null object\n",
      "dtypes: int64(2), object(6)\n",
      "memory usage: 31.4+ KB\n",
      "           user_id        age\n",
      "count   500.000000  500.00000\n",
      "mean   1249.500000   46.58800\n",
      "std     144.481833   16.66763\n",
      "min    1000.000000   18.00000\n",
      "25%    1124.750000   32.00000\n",
      "50%    1249.500000   46.00000\n",
      "75%    1374.250000   62.00000\n",
      "max    1499.000000   75.00000\n"
     ]
    },
    {
     "data": {
      "text/html": [
       "<div>\n",
       "<style scoped>\n",
       "    .dataframe tbody tr th:only-of-type {\n",
       "        vertical-align: middle;\n",
       "    }\n",
       "\n",
       "    .dataframe tbody tr th {\n",
       "        vertical-align: top;\n",
       "    }\n",
       "\n",
       "    .dataframe thead th {\n",
       "        text-align: right;\n",
       "    }\n",
       "</style>\n",
       "<table border=\"1\" class=\"dataframe\">\n",
       "  <thead>\n",
       "    <tr style=\"text-align: right;\">\n",
       "      <th></th>\n",
       "      <th>user_id</th>\n",
       "      <th>age</th>\n",
       "      <th>churn_date</th>\n",
       "      <th>city</th>\n",
       "      <th>first_name</th>\n",
       "      <th>last_name</th>\n",
       "      <th>reg_date</th>\n",
       "      <th>tariff</th>\n",
       "    </tr>\n",
       "  </thead>\n",
       "  <tbody>\n",
       "    <tr>\n",
       "      <td>0</td>\n",
       "      <td>1000</td>\n",
       "      <td>52</td>\n",
       "      <td>NaN</td>\n",
       "      <td>Краснодар</td>\n",
       "      <td>Рафаил</td>\n",
       "      <td>Верещагин</td>\n",
       "      <td>2018-05-25</td>\n",
       "      <td>ultra</td>\n",
       "    </tr>\n",
       "    <tr>\n",
       "      <td>1</td>\n",
       "      <td>1001</td>\n",
       "      <td>41</td>\n",
       "      <td>NaN</td>\n",
       "      <td>Москва</td>\n",
       "      <td>Иван</td>\n",
       "      <td>Ежов</td>\n",
       "      <td>2018-11-01</td>\n",
       "      <td>smart</td>\n",
       "    </tr>\n",
       "    <tr>\n",
       "      <td>2</td>\n",
       "      <td>1002</td>\n",
       "      <td>59</td>\n",
       "      <td>NaN</td>\n",
       "      <td>Стерлитамак</td>\n",
       "      <td>Евгений</td>\n",
       "      <td>Абрамович</td>\n",
       "      <td>2018-06-17</td>\n",
       "      <td>smart</td>\n",
       "    </tr>\n",
       "    <tr>\n",
       "      <td>3</td>\n",
       "      <td>1003</td>\n",
       "      <td>23</td>\n",
       "      <td>NaN</td>\n",
       "      <td>Москва</td>\n",
       "      <td>Белла</td>\n",
       "      <td>Белякова</td>\n",
       "      <td>2018-08-17</td>\n",
       "      <td>ultra</td>\n",
       "    </tr>\n",
       "    <tr>\n",
       "      <td>4</td>\n",
       "      <td>1004</td>\n",
       "      <td>68</td>\n",
       "      <td>NaN</td>\n",
       "      <td>Новокузнецк</td>\n",
       "      <td>Татьяна</td>\n",
       "      <td>Авдеенко</td>\n",
       "      <td>2018-05-14</td>\n",
       "      <td>ultra</td>\n",
       "    </tr>\n",
       "    <tr>\n",
       "      <td>5</td>\n",
       "      <td>1005</td>\n",
       "      <td>67</td>\n",
       "      <td>NaN</td>\n",
       "      <td>Набережные Челны</td>\n",
       "      <td>Афанасий</td>\n",
       "      <td>Горлов</td>\n",
       "      <td>2018-01-25</td>\n",
       "      <td>smart</td>\n",
       "    </tr>\n",
       "    <tr>\n",
       "      <td>6</td>\n",
       "      <td>1006</td>\n",
       "      <td>21</td>\n",
       "      <td>NaN</td>\n",
       "      <td>Ульяновск</td>\n",
       "      <td>Леонид</td>\n",
       "      <td>Ермолаев</td>\n",
       "      <td>2018-02-26</td>\n",
       "      <td>smart</td>\n",
       "    </tr>\n",
       "    <tr>\n",
       "      <td>7</td>\n",
       "      <td>1007</td>\n",
       "      <td>65</td>\n",
       "      <td>NaN</td>\n",
       "      <td>Москва</td>\n",
       "      <td>Юна</td>\n",
       "      <td>Березина</td>\n",
       "      <td>2018-04-19</td>\n",
       "      <td>smart</td>\n",
       "    </tr>\n",
       "    <tr>\n",
       "      <td>8</td>\n",
       "      <td>1008</td>\n",
       "      <td>63</td>\n",
       "      <td>NaN</td>\n",
       "      <td>Челябинск</td>\n",
       "      <td>Рустэм</td>\n",
       "      <td>Пономарёв</td>\n",
       "      <td>2018-12-19</td>\n",
       "      <td>smart</td>\n",
       "    </tr>\n",
       "    <tr>\n",
       "      <td>9</td>\n",
       "      <td>1009</td>\n",
       "      <td>24</td>\n",
       "      <td>NaN</td>\n",
       "      <td>Пермь</td>\n",
       "      <td>Василиса</td>\n",
       "      <td>Блинова</td>\n",
       "      <td>2018-03-22</td>\n",
       "      <td>smart</td>\n",
       "    </tr>\n",
       "  </tbody>\n",
       "</table>\n",
       "</div>"
      ],
      "text/plain": [
       "   user_id  age churn_date              city first_name  last_name  \\\n",
       "0     1000   52        NaN         Краснодар     Рафаил  Верещагин   \n",
       "1     1001   41        NaN            Москва       Иван       Ежов   \n",
       "2     1002   59        NaN       Стерлитамак    Евгений  Абрамович   \n",
       "3     1003   23        NaN            Москва      Белла   Белякова   \n",
       "4     1004   68        NaN       Новокузнецк    Татьяна   Авдеенко   \n",
       "5     1005   67        NaN  Набережные Челны   Афанасий     Горлов   \n",
       "6     1006   21        NaN         Ульяновск     Леонид   Ермолаев   \n",
       "7     1007   65        NaN            Москва        Юна   Березина   \n",
       "8     1008   63        NaN         Челябинск     Рустэм  Пономарёв   \n",
       "9     1009   24        NaN             Пермь   Василиса    Блинова   \n",
       "\n",
       "     reg_date tariff  \n",
       "0  2018-05-25  ultra  \n",
       "1  2018-11-01  smart  \n",
       "2  2018-06-17  smart  \n",
       "3  2018-08-17  ultra  \n",
       "4  2018-05-14  ultra  \n",
       "5  2018-01-25  smart  \n",
       "6  2018-02-26  smart  \n",
       "7  2018-04-19  smart  \n",
       "8  2018-12-19  smart  \n",
       "9  2018-03-22  smart  "
      ]
     },
     "execution_count": 6,
     "metadata": {},
     "output_type": "execute_result"
    }
   ],
   "source": [
    "print('Таблица users (информация о пользователях)')\n",
    "#Просмотрим общую информацию о данных\n",
    "users.info()\n",
    "\n",
    "#Просмотрим данные функцией describle\n",
    "print(users.describe())\n",
    "\n",
    "#выведем их на экран первые несколько строк\n",
    "\n",
    "users.head(10)"
   ]
  },
  {
   "cell_type": "markdown",
   "metadata": {},
   "source": [
    "Таблица users (информация о пользователях) содержит данные:\n",
    "\n",
    "--\tuser_id — уникальный идентификатор пользователя\n",
    "\n",
    "--  first_name — имя пользователя\n",
    "\n",
    "--  last_name — фамилия пользователя\n",
    "\n",
    "--  age — возраст пользователя (годы)\n",
    "\n",
    "--  reg_date — дата подключения тарифа (день, месяц, год)\n",
    "\n",
    "--  churn_date — дата прекращения пользования тарифом (если значение пропущено, \n",
    "    то тариф ещё действовал на момент выгрузки данных)\n",
    "\n",
    "--  city — город проживания пользователя\n",
    "\n",
    "--  tarif — название тарифного плана\n",
    "\n",
    "Здесь первый раз встречаются пропуски, но тут они имеют значение - если они есть, то тариф действовал."
   ]
  },
  {
   "cell_type": "markdown",
   "metadata": {},
   "source": [
    "## Выводы"
   ]
  },
  {
   "cell_type": "markdown",
   "metadata": {},
   "source": [
    "Данные в целом в хорошем состоянии, исправления требуют совсем немного данных, но нам необходимо добавить те колонки, которые пригодятся нам для анализа. Так же у нас оказывается три уникальных столбца называющихся одинаково (id)  это точно может вызвать проблему при соединении таблиц. Также к сожалению очень немного данных о пользователях и выборка получается не очень большая.  "
   ]
  },
  {
   "cell_type": "markdown",
   "metadata": {},
   "source": [
    "# Подготовка данных"
   ]
  },
  {
   "cell_type": "markdown",
   "metadata": {},
   "source": [
    "## Обработка полученных данных"
   ]
  },
  {
   "cell_type": "markdown",
   "metadata": {},
   "source": [
    "Приведем данные к нужным нам для анализа типам, исправим ошибки и подсчитаем необходимые данные для каждого пользователя:\n",
    "\n",
    "•\tколичество сделанных звонков и израсходованных минут разговора по месяцам;\n",
    "\n",
    "•\tколичество отправленных сообщений по месяцам;\n",
    "\n",
    "•\tобъем израсходованного интернет-трафика по месяцам;\n",
    "\n",
    "•\tпомесячную выручку с каждого пользователя \n",
    "\n",
    "Для получения данных соединим таблицы в одну. Оставим только те строки, которые нам могут пригодиться в анализе. Но до этого поправим данные в отдельных таблицах.\n",
    "\n",
    "В таблице calls изменим название столбца id и переведем столбец call_date в формат даты и для дальнейшего исследования добавим столбец месяца, в котором произошел звонок. остальное у нас в порядке"
   ]
  },
  {
   "cell_type": "code",
   "execution_count": 7,
   "metadata": {},
   "outputs": [
    {
     "name": "stdout",
     "output_type": "stream",
     "text": [
      "<class 'pandas.core.frame.DataFrame'>\n",
      "RangeIndex: 202607 entries, 0 to 202606\n",
      "Data columns (total 5 columns):\n",
      "call_id       202607 non-null object\n",
      "call_date     202607 non-null datetime64[ns]\n",
      "duration      202607 non-null float64\n",
      "user_id       202607 non-null int64\n",
      "call_month    202607 non-null int64\n",
      "dtypes: datetime64[ns](1), float64(1), int64(2), object(1)\n",
      "memory usage: 7.7+ MB\n"
     ]
    },
    {
     "data": {
      "text/plain": [
       "None"
      ]
     },
     "metadata": {},
     "output_type": "display_data"
    },
    {
     "data": {
      "text/html": [
       "<div>\n",
       "<style scoped>\n",
       "    .dataframe tbody tr th:only-of-type {\n",
       "        vertical-align: middle;\n",
       "    }\n",
       "\n",
       "    .dataframe tbody tr th {\n",
       "        vertical-align: top;\n",
       "    }\n",
       "\n",
       "    .dataframe thead th {\n",
       "        text-align: right;\n",
       "    }\n",
       "</style>\n",
       "<table border=\"1\" class=\"dataframe\">\n",
       "  <thead>\n",
       "    <tr style=\"text-align: right;\">\n",
       "      <th></th>\n",
       "      <th>call_id</th>\n",
       "      <th>call_date</th>\n",
       "      <th>duration</th>\n",
       "      <th>user_id</th>\n",
       "      <th>call_month</th>\n",
       "    </tr>\n",
       "  </thead>\n",
       "  <tbody>\n",
       "    <tr>\n",
       "      <td>0</td>\n",
       "      <td>1000_0</td>\n",
       "      <td>2018-07-25</td>\n",
       "      <td>0.0</td>\n",
       "      <td>1000</td>\n",
       "      <td>7</td>\n",
       "    </tr>\n",
       "    <tr>\n",
       "      <td>1</td>\n",
       "      <td>1000_1</td>\n",
       "      <td>2018-08-17</td>\n",
       "      <td>0.0</td>\n",
       "      <td>1000</td>\n",
       "      <td>8</td>\n",
       "    </tr>\n",
       "    <tr>\n",
       "      <td>2</td>\n",
       "      <td>1000_2</td>\n",
       "      <td>2018-06-11</td>\n",
       "      <td>3.0</td>\n",
       "      <td>1000</td>\n",
       "      <td>6</td>\n",
       "    </tr>\n",
       "    <tr>\n",
       "      <td>3</td>\n",
       "      <td>1000_3</td>\n",
       "      <td>2018-09-21</td>\n",
       "      <td>14.0</td>\n",
       "      <td>1000</td>\n",
       "      <td>9</td>\n",
       "    </tr>\n",
       "    <tr>\n",
       "      <td>4</td>\n",
       "      <td>1000_4</td>\n",
       "      <td>2018-12-15</td>\n",
       "      <td>6.0</td>\n",
       "      <td>1000</td>\n",
       "      <td>12</td>\n",
       "    </tr>\n",
       "    <tr>\n",
       "      <td>5</td>\n",
       "      <td>1000_5</td>\n",
       "      <td>2018-11-02</td>\n",
       "      <td>0.0</td>\n",
       "      <td>1000</td>\n",
       "      <td>11</td>\n",
       "    </tr>\n",
       "    <tr>\n",
       "      <td>6</td>\n",
       "      <td>1000_6</td>\n",
       "      <td>2018-10-18</td>\n",
       "      <td>0.0</td>\n",
       "      <td>1000</td>\n",
       "      <td>10</td>\n",
       "    </tr>\n",
       "    <tr>\n",
       "      <td>7</td>\n",
       "      <td>1000_7</td>\n",
       "      <td>2018-08-22</td>\n",
       "      <td>19.0</td>\n",
       "      <td>1000</td>\n",
       "      <td>8</td>\n",
       "    </tr>\n",
       "    <tr>\n",
       "      <td>8</td>\n",
       "      <td>1000_8</td>\n",
       "      <td>2018-09-15</td>\n",
       "      <td>19.0</td>\n",
       "      <td>1000</td>\n",
       "      <td>9</td>\n",
       "    </tr>\n",
       "    <tr>\n",
       "      <td>9</td>\n",
       "      <td>1000_9</td>\n",
       "      <td>2018-08-15</td>\n",
       "      <td>0.0</td>\n",
       "      <td>1000</td>\n",
       "      <td>8</td>\n",
       "    </tr>\n",
       "  </tbody>\n",
       "</table>\n",
       "</div>"
      ],
      "text/plain": [
       "  call_id  call_date  duration  user_id  call_month\n",
       "0  1000_0 2018-07-25       0.0     1000           7\n",
       "1  1000_1 2018-08-17       0.0     1000           8\n",
       "2  1000_2 2018-06-11       3.0     1000           6\n",
       "3  1000_3 2018-09-21      14.0     1000           9\n",
       "4  1000_4 2018-12-15       6.0     1000          12\n",
       "5  1000_5 2018-11-02       0.0     1000          11\n",
       "6  1000_6 2018-10-18       0.0     1000          10\n",
       "7  1000_7 2018-08-22      19.0     1000           8\n",
       "8  1000_8 2018-09-15      19.0     1000           9\n",
       "9  1000_9 2018-08-15       0.0     1000           8"
      ]
     },
     "metadata": {},
     "output_type": "display_data"
    }
   ],
   "source": [
    "#Переименуем столбец\n",
    "\n",
    "calls = calls.rename(columns={'id': 'call_id'})\n",
    "\n",
    "#Переведем столбец даты звонка в формат времени\n",
    "calls['call_date'] = pd.to_datetime(calls['call_date'], format='%Y-%m-%d')\n",
    "\n",
    "#Добавим столбец месяца\n",
    "calls['call_month'] = calls['call_date'].dt.month\n",
    "\n",
    "#по правилам \"Мегалайна\" каждый звонок округляется в большую сторону до целых минут.\n",
    "#cделаем это преобразование\n",
    "\n",
    "calls['duration'] = calls['duration'].apply(np.ceil)\n",
    "\n",
    "\n",
    "# проверим результат\n",
    "display(calls.info())\n",
    "display(calls.head(10))"
   ]
  },
  {
   "cell_type": "markdown",
   "metadata": {},
   "source": [
    "У нас есть большое количество звонков с нулевой длительностью. Это пропущенные звонки. Мы не будем их удалять, оставив в таблице."
   ]
  },
  {
   "cell_type": "markdown",
   "metadata": {},
   "source": [
    "В таблице internet (информация об интернет-сессиях) изменим название столбца id и переведем столбец session_date в формат даты и для дальнейшего исследования добавим столбец месяца, в котором использовался интернет. Так же удалим ненужный и лишной столбец"
   ]
  },
  {
   "cell_type": "code",
   "execution_count": 8,
   "metadata": {
    "scrolled": true
   },
   "outputs": [
    {
     "name": "stdout",
     "output_type": "stream",
     "text": [
      "<class 'pandas.core.frame.DataFrame'>\n",
      "RangeIndex: 149396 entries, 0 to 149395\n",
      "Data columns (total 5 columns):\n",
      "internet_id      149396 non-null object\n",
      "mb_used          149396 non-null float64\n",
      "session_date     149396 non-null datetime64[ns]\n",
      "user_id          149396 non-null int64\n",
      "session_month    149396 non-null int64\n",
      "dtypes: datetime64[ns](1), float64(1), int64(2), object(1)\n",
      "memory usage: 5.7+ MB\n"
     ]
    },
    {
     "data": {
      "text/plain": [
       "None"
      ]
     },
     "metadata": {},
     "output_type": "display_data"
    },
    {
     "data": {
      "text/html": [
       "<div>\n",
       "<style scoped>\n",
       "    .dataframe tbody tr th:only-of-type {\n",
       "        vertical-align: middle;\n",
       "    }\n",
       "\n",
       "    .dataframe tbody tr th {\n",
       "        vertical-align: top;\n",
       "    }\n",
       "\n",
       "    .dataframe thead th {\n",
       "        text-align: right;\n",
       "    }\n",
       "</style>\n",
       "<table border=\"1\" class=\"dataframe\">\n",
       "  <thead>\n",
       "    <tr style=\"text-align: right;\">\n",
       "      <th></th>\n",
       "      <th>internet_id</th>\n",
       "      <th>mb_used</th>\n",
       "      <th>session_date</th>\n",
       "      <th>user_id</th>\n",
       "      <th>session_month</th>\n",
       "    </tr>\n",
       "  </thead>\n",
       "  <tbody>\n",
       "    <tr>\n",
       "      <td>0</td>\n",
       "      <td>1000_0</td>\n",
       "      <td>112.95</td>\n",
       "      <td>2018-11-25</td>\n",
       "      <td>1000</td>\n",
       "      <td>11</td>\n",
       "    </tr>\n",
       "    <tr>\n",
       "      <td>1</td>\n",
       "      <td>1000_1</td>\n",
       "      <td>1052.81</td>\n",
       "      <td>2018-09-07</td>\n",
       "      <td>1000</td>\n",
       "      <td>9</td>\n",
       "    </tr>\n",
       "    <tr>\n",
       "      <td>2</td>\n",
       "      <td>1000_2</td>\n",
       "      <td>1197.26</td>\n",
       "      <td>2018-06-25</td>\n",
       "      <td>1000</td>\n",
       "      <td>6</td>\n",
       "    </tr>\n",
       "    <tr>\n",
       "      <td>3</td>\n",
       "      <td>1000_3</td>\n",
       "      <td>550.27</td>\n",
       "      <td>2018-08-22</td>\n",
       "      <td>1000</td>\n",
       "      <td>8</td>\n",
       "    </tr>\n",
       "    <tr>\n",
       "      <td>4</td>\n",
       "      <td>1000_4</td>\n",
       "      <td>302.56</td>\n",
       "      <td>2018-09-24</td>\n",
       "      <td>1000</td>\n",
       "      <td>9</td>\n",
       "    </tr>\n",
       "    <tr>\n",
       "      <td>5</td>\n",
       "      <td>1000_5</td>\n",
       "      <td>399.97</td>\n",
       "      <td>2018-10-02</td>\n",
       "      <td>1000</td>\n",
       "      <td>10</td>\n",
       "    </tr>\n",
       "    <tr>\n",
       "      <td>6</td>\n",
       "      <td>1000_6</td>\n",
       "      <td>540.08</td>\n",
       "      <td>2018-09-07</td>\n",
       "      <td>1000</td>\n",
       "      <td>9</td>\n",
       "    </tr>\n",
       "    <tr>\n",
       "      <td>7</td>\n",
       "      <td>1000_7</td>\n",
       "      <td>415.70</td>\n",
       "      <td>2018-07-11</td>\n",
       "      <td>1000</td>\n",
       "      <td>7</td>\n",
       "    </tr>\n",
       "    <tr>\n",
       "      <td>8</td>\n",
       "      <td>1000_8</td>\n",
       "      <td>505.40</td>\n",
       "      <td>2018-10-08</td>\n",
       "      <td>1000</td>\n",
       "      <td>10</td>\n",
       "    </tr>\n",
       "    <tr>\n",
       "      <td>9</td>\n",
       "      <td>1000_9</td>\n",
       "      <td>345.54</td>\n",
       "      <td>2018-09-03</td>\n",
       "      <td>1000</td>\n",
       "      <td>9</td>\n",
       "    </tr>\n",
       "  </tbody>\n",
       "</table>\n",
       "</div>"
      ],
      "text/plain": [
       "  internet_id  mb_used session_date  user_id  session_month\n",
       "0      1000_0   112.95   2018-11-25     1000             11\n",
       "1      1000_1  1052.81   2018-09-07     1000              9\n",
       "2      1000_2  1197.26   2018-06-25     1000              6\n",
       "3      1000_3   550.27   2018-08-22     1000              8\n",
       "4      1000_4   302.56   2018-09-24     1000              9\n",
       "5      1000_5   399.97   2018-10-02     1000             10\n",
       "6      1000_6   540.08   2018-09-07     1000              9\n",
       "7      1000_7   415.70   2018-07-11     1000              7\n",
       "8      1000_8   505.40   2018-10-08     1000             10\n",
       "9      1000_9   345.54   2018-09-03     1000              9"
      ]
     },
     "metadata": {},
     "output_type": "display_data"
    },
    {
     "data": {
      "text/html": [
       "<div>\n",
       "<style scoped>\n",
       "    .dataframe tbody tr th:only-of-type {\n",
       "        vertical-align: middle;\n",
       "    }\n",
       "\n",
       "    .dataframe tbody tr th {\n",
       "        vertical-align: top;\n",
       "    }\n",
       "\n",
       "    .dataframe thead th {\n",
       "        text-align: right;\n",
       "    }\n",
       "</style>\n",
       "<table border=\"1\" class=\"dataframe\">\n",
       "  <thead>\n",
       "    <tr style=\"text-align: right;\">\n",
       "      <th></th>\n",
       "      <th>internet_id</th>\n",
       "      <th>mb_used</th>\n",
       "      <th>session_date</th>\n",
       "      <th>user_id</th>\n",
       "      <th>session_month</th>\n",
       "    </tr>\n",
       "  </thead>\n",
       "  <tbody>\n",
       "    <tr>\n",
       "      <td>11</td>\n",
       "      <td>1000_11</td>\n",
       "      <td>0.0</td>\n",
       "      <td>2018-08-28</td>\n",
       "      <td>1000</td>\n",
       "      <td>8</td>\n",
       "    </tr>\n",
       "    <tr>\n",
       "      <td>38</td>\n",
       "      <td>1000_38</td>\n",
       "      <td>0.0</td>\n",
       "      <td>2018-11-27</td>\n",
       "      <td>1000</td>\n",
       "      <td>11</td>\n",
       "    </tr>\n",
       "    <tr>\n",
       "      <td>46</td>\n",
       "      <td>1000_46</td>\n",
       "      <td>0.0</td>\n",
       "      <td>2018-06-30</td>\n",
       "      <td>1000</td>\n",
       "      <td>6</td>\n",
       "    </tr>\n",
       "    <tr>\n",
       "      <td>67</td>\n",
       "      <td>1000_67</td>\n",
       "      <td>0.0</td>\n",
       "      <td>2018-06-16</td>\n",
       "      <td>1000</td>\n",
       "      <td>6</td>\n",
       "    </tr>\n",
       "    <tr>\n",
       "      <td>72</td>\n",
       "      <td>1000_72</td>\n",
       "      <td>0.0</td>\n",
       "      <td>2018-06-15</td>\n",
       "      <td>1000</td>\n",
       "      <td>6</td>\n",
       "    </tr>\n",
       "    <tr>\n",
       "      <td>...</td>\n",
       "      <td>...</td>\n",
       "      <td>...</td>\n",
       "      <td>...</td>\n",
       "      <td>...</td>\n",
       "      <td>...</td>\n",
       "    </tr>\n",
       "    <tr>\n",
       "      <td>149380</td>\n",
       "      <td>1499_141</td>\n",
       "      <td>0.0</td>\n",
       "      <td>2018-12-11</td>\n",
       "      <td>1499</td>\n",
       "      <td>12</td>\n",
       "    </tr>\n",
       "    <tr>\n",
       "      <td>149381</td>\n",
       "      <td>1499_142</td>\n",
       "      <td>0.0</td>\n",
       "      <td>2018-11-01</td>\n",
       "      <td>1499</td>\n",
       "      <td>11</td>\n",
       "    </tr>\n",
       "    <tr>\n",
       "      <td>149383</td>\n",
       "      <td>1499_144</td>\n",
       "      <td>0.0</td>\n",
       "      <td>2018-11-27</td>\n",
       "      <td>1499</td>\n",
       "      <td>11</td>\n",
       "    </tr>\n",
       "    <tr>\n",
       "      <td>149386</td>\n",
       "      <td>1499_147</td>\n",
       "      <td>0.0</td>\n",
       "      <td>2018-10-21</td>\n",
       "      <td>1499</td>\n",
       "      <td>10</td>\n",
       "    </tr>\n",
       "    <tr>\n",
       "      <td>149393</td>\n",
       "      <td>1499_154</td>\n",
       "      <td>0.0</td>\n",
       "      <td>2018-10-27</td>\n",
       "      <td>1499</td>\n",
       "      <td>10</td>\n",
       "    </tr>\n",
       "  </tbody>\n",
       "</table>\n",
       "<p>19598 rows × 5 columns</p>\n",
       "</div>"
      ],
      "text/plain": [
       "       internet_id  mb_used session_date  user_id  session_month\n",
       "11         1000_11      0.0   2018-08-28     1000              8\n",
       "38         1000_38      0.0   2018-11-27     1000             11\n",
       "46         1000_46      0.0   2018-06-30     1000              6\n",
       "67         1000_67      0.0   2018-06-16     1000              6\n",
       "72         1000_72      0.0   2018-06-15     1000              6\n",
       "...            ...      ...          ...      ...            ...\n",
       "149380    1499_141      0.0   2018-12-11     1499             12\n",
       "149381    1499_142      0.0   2018-11-01     1499             11\n",
       "149383    1499_144      0.0   2018-11-27     1499             11\n",
       "149386    1499_147      0.0   2018-10-21     1499             10\n",
       "149393    1499_154      0.0   2018-10-27     1499             10\n",
       "\n",
       "[19598 rows x 5 columns]"
      ]
     },
     "execution_count": 8,
     "metadata": {},
     "output_type": "execute_result"
    }
   ],
   "source": [
    "#Удалим столбец\n",
    "\n",
    "internet = internet.drop(columns='Unnamed: 0')\n",
    "\n",
    "#Переименуем столбец\n",
    "\n",
    "internet = internet.rename(columns={'id': 'internet_id'})\n",
    "\n",
    "#Переведем столбец даты звонка в формат времени\n",
    "internet['session_date'] = pd.to_datetime(internet['session_date'], format='%Y-%m-%d')\n",
    "\n",
    "#Добавим столбец месяца\n",
    "internet['session_month'] = internet['session_date'].dt.month\n",
    "\n",
    "# проверим результат\n",
    "display(internet.info())\n",
    "display(internet.head(10))\n",
    "\n",
    "#проверим наличие интернет-сессий с нулевыми тратами трафика.\n",
    "internet.query('mb_used == 0.0')"
   ]
  },
  {
   "cell_type": "markdown",
   "metadata": {},
   "source": [
    "У нас есть около 19,6 тысяч интернет-сессий с нулевыми тратами интеренет-трафика. При этом это характерно для всех наших пользователей. Я предполагаю, что это служебные интеренет-сессии или же срыв связи. Мы не будем удалять данные значения, оставив в таблице. Они никоим образом не влияют на объемы потраченного трафика "
   ]
  },
  {
   "cell_type": "markdown",
   "metadata": {},
   "source": [
    "В таблице messages (информация о сообщениях) изменим название столбца id и переведем столбец message_date в формат даты и для дальнейшего исследования добавим столбец месяца. "
   ]
  },
  {
   "cell_type": "code",
   "execution_count": 9,
   "metadata": {},
   "outputs": [
    {
     "name": "stdout",
     "output_type": "stream",
     "text": [
      "<class 'pandas.core.frame.DataFrame'>\n",
      "RangeIndex: 123036 entries, 0 to 123035\n",
      "Data columns (total 4 columns):\n",
      "messages_id      123036 non-null object\n",
      "message_date     123036 non-null datetime64[ns]\n",
      "user_id          123036 non-null int64\n",
      "message_month    123036 non-null int64\n",
      "dtypes: datetime64[ns](1), int64(2), object(1)\n",
      "memory usage: 3.8+ MB\n"
     ]
    },
    {
     "data": {
      "text/plain": [
       "None"
      ]
     },
     "metadata": {},
     "output_type": "display_data"
    },
    {
     "data": {
      "text/html": [
       "<div>\n",
       "<style scoped>\n",
       "    .dataframe tbody tr th:only-of-type {\n",
       "        vertical-align: middle;\n",
       "    }\n",
       "\n",
       "    .dataframe tbody tr th {\n",
       "        vertical-align: top;\n",
       "    }\n",
       "\n",
       "    .dataframe thead th {\n",
       "        text-align: right;\n",
       "    }\n",
       "</style>\n",
       "<table border=\"1\" class=\"dataframe\">\n",
       "  <thead>\n",
       "    <tr style=\"text-align: right;\">\n",
       "      <th></th>\n",
       "      <th>messages_id</th>\n",
       "      <th>message_date</th>\n",
       "      <th>user_id</th>\n",
       "      <th>message_month</th>\n",
       "    </tr>\n",
       "  </thead>\n",
       "  <tbody>\n",
       "    <tr>\n",
       "      <td>0</td>\n",
       "      <td>1000_0</td>\n",
       "      <td>2018-06-27</td>\n",
       "      <td>1000</td>\n",
       "      <td>6</td>\n",
       "    </tr>\n",
       "    <tr>\n",
       "      <td>1</td>\n",
       "      <td>1000_1</td>\n",
       "      <td>2018-10-08</td>\n",
       "      <td>1000</td>\n",
       "      <td>10</td>\n",
       "    </tr>\n",
       "    <tr>\n",
       "      <td>2</td>\n",
       "      <td>1000_2</td>\n",
       "      <td>2018-08-04</td>\n",
       "      <td>1000</td>\n",
       "      <td>8</td>\n",
       "    </tr>\n",
       "    <tr>\n",
       "      <td>3</td>\n",
       "      <td>1000_3</td>\n",
       "      <td>2018-06-16</td>\n",
       "      <td>1000</td>\n",
       "      <td>6</td>\n",
       "    </tr>\n",
       "    <tr>\n",
       "      <td>4</td>\n",
       "      <td>1000_4</td>\n",
       "      <td>2018-12-05</td>\n",
       "      <td>1000</td>\n",
       "      <td>12</td>\n",
       "    </tr>\n",
       "    <tr>\n",
       "      <td>5</td>\n",
       "      <td>1000_5</td>\n",
       "      <td>2018-06-20</td>\n",
       "      <td>1000</td>\n",
       "      <td>6</td>\n",
       "    </tr>\n",
       "    <tr>\n",
       "      <td>6</td>\n",
       "      <td>1000_6</td>\n",
       "      <td>2018-11-19</td>\n",
       "      <td>1000</td>\n",
       "      <td>11</td>\n",
       "    </tr>\n",
       "    <tr>\n",
       "      <td>7</td>\n",
       "      <td>1000_7</td>\n",
       "      <td>2018-10-29</td>\n",
       "      <td>1000</td>\n",
       "      <td>10</td>\n",
       "    </tr>\n",
       "    <tr>\n",
       "      <td>8</td>\n",
       "      <td>1000_8</td>\n",
       "      <td>2018-06-25</td>\n",
       "      <td>1000</td>\n",
       "      <td>6</td>\n",
       "    </tr>\n",
       "    <tr>\n",
       "      <td>9</td>\n",
       "      <td>1000_9</td>\n",
       "      <td>2018-12-18</td>\n",
       "      <td>1000</td>\n",
       "      <td>12</td>\n",
       "    </tr>\n",
       "  </tbody>\n",
       "</table>\n",
       "</div>"
      ],
      "text/plain": [
       "  messages_id message_date  user_id  message_month\n",
       "0      1000_0   2018-06-27     1000              6\n",
       "1      1000_1   2018-10-08     1000             10\n",
       "2      1000_2   2018-08-04     1000              8\n",
       "3      1000_3   2018-06-16     1000              6\n",
       "4      1000_4   2018-12-05     1000             12\n",
       "5      1000_5   2018-06-20     1000              6\n",
       "6      1000_6   2018-11-19     1000             11\n",
       "7      1000_7   2018-10-29     1000             10\n",
       "8      1000_8   2018-06-25     1000              6\n",
       "9      1000_9   2018-12-18     1000             12"
      ]
     },
     "metadata": {},
     "output_type": "display_data"
    }
   ],
   "source": [
    "#Переименуем столбец\n",
    "\n",
    "messages = messages.rename(columns={'id': 'messages_id'})\n",
    "\n",
    "#Переведем столбец даты звонка в формат времени\n",
    "messages['message_date'] = pd.to_datetime(messages['message_date'], format='%Y-%m-%d')\n",
    "\n",
    "#Добавим столбец месяца\n",
    "messages['message_month'] = messages['message_date'].dt.month\n",
    "\n",
    "# проверим результат\n",
    "display(messages.info())\n",
    "display(messages.head(10))"
   ]
  },
  {
   "cell_type": "markdown",
   "metadata": {},
   "source": [
    "В таблице users (информация о пользователях) мы переведем столбцы churn_date и reg_date  в формат даты и для дальнейшего исследования добавим столбцы месяца. Перед этим дополним churn_date - заполним все пропуски датой 31.12.2021 - нас по условиям задачи интересует сравнение именно за 2018 год. Также дополним таблицу столбцом с цифровым обозначением тарифа - это потребуется далее для построения графиков."
   ]
  },
  {
   "cell_type": "code",
   "execution_count": 10,
   "metadata": {},
   "outputs": [
    {
     "name": "stdout",
     "output_type": "stream",
     "text": [
      "<class 'pandas.core.frame.DataFrame'>\n",
      "RangeIndex: 500 entries, 0 to 499\n",
      "Data columns (total 11 columns):\n",
      "user_id        500 non-null int64\n",
      "age            500 non-null int64\n",
      "churn_date     500 non-null datetime64[ns]\n",
      "city           500 non-null object\n",
      "first_name     500 non-null object\n",
      "last_name      500 non-null object\n",
      "reg_date       500 non-null datetime64[ns]\n",
      "tariff         500 non-null object\n",
      "churn_month    500 non-null int64\n",
      "reg_month      500 non-null int64\n",
      "tariff_ind     500 non-null int64\n",
      "dtypes: datetime64[ns](2), int64(5), object(4)\n",
      "memory usage: 43.1+ KB\n"
     ]
    },
    {
     "data": {
      "text/plain": [
       "None"
      ]
     },
     "metadata": {},
     "output_type": "display_data"
    },
    {
     "data": {
      "text/html": [
       "<div>\n",
       "<style scoped>\n",
       "    .dataframe tbody tr th:only-of-type {\n",
       "        vertical-align: middle;\n",
       "    }\n",
       "\n",
       "    .dataframe tbody tr th {\n",
       "        vertical-align: top;\n",
       "    }\n",
       "\n",
       "    .dataframe thead th {\n",
       "        text-align: right;\n",
       "    }\n",
       "</style>\n",
       "<table border=\"1\" class=\"dataframe\">\n",
       "  <thead>\n",
       "    <tr style=\"text-align: right;\">\n",
       "      <th></th>\n",
       "      <th>user_id</th>\n",
       "      <th>age</th>\n",
       "      <th>churn_date</th>\n",
       "      <th>city</th>\n",
       "      <th>first_name</th>\n",
       "      <th>last_name</th>\n",
       "      <th>reg_date</th>\n",
       "      <th>tariff</th>\n",
       "      <th>churn_month</th>\n",
       "      <th>reg_month</th>\n",
       "      <th>tariff_ind</th>\n",
       "    </tr>\n",
       "  </thead>\n",
       "  <tbody>\n",
       "    <tr>\n",
       "      <td>0</td>\n",
       "      <td>1000</td>\n",
       "      <td>52</td>\n",
       "      <td>2018-12-31</td>\n",
       "      <td>Краснодар</td>\n",
       "      <td>Рафаил</td>\n",
       "      <td>Верещагин</td>\n",
       "      <td>2018-05-25</td>\n",
       "      <td>ultra</td>\n",
       "      <td>12</td>\n",
       "      <td>5</td>\n",
       "      <td>1</td>\n",
       "    </tr>\n",
       "    <tr>\n",
       "      <td>1</td>\n",
       "      <td>1001</td>\n",
       "      <td>41</td>\n",
       "      <td>2018-12-31</td>\n",
       "      <td>Москва</td>\n",
       "      <td>Иван</td>\n",
       "      <td>Ежов</td>\n",
       "      <td>2018-11-01</td>\n",
       "      <td>smart</td>\n",
       "      <td>12</td>\n",
       "      <td>11</td>\n",
       "      <td>0</td>\n",
       "    </tr>\n",
       "    <tr>\n",
       "      <td>2</td>\n",
       "      <td>1002</td>\n",
       "      <td>59</td>\n",
       "      <td>2018-12-31</td>\n",
       "      <td>Стерлитамак</td>\n",
       "      <td>Евгений</td>\n",
       "      <td>Абрамович</td>\n",
       "      <td>2018-06-17</td>\n",
       "      <td>smart</td>\n",
       "      <td>12</td>\n",
       "      <td>6</td>\n",
       "      <td>0</td>\n",
       "    </tr>\n",
       "    <tr>\n",
       "      <td>3</td>\n",
       "      <td>1003</td>\n",
       "      <td>23</td>\n",
       "      <td>2018-12-31</td>\n",
       "      <td>Москва</td>\n",
       "      <td>Белла</td>\n",
       "      <td>Белякова</td>\n",
       "      <td>2018-08-17</td>\n",
       "      <td>ultra</td>\n",
       "      <td>12</td>\n",
       "      <td>8</td>\n",
       "      <td>1</td>\n",
       "    </tr>\n",
       "    <tr>\n",
       "      <td>4</td>\n",
       "      <td>1004</td>\n",
       "      <td>68</td>\n",
       "      <td>2018-12-31</td>\n",
       "      <td>Новокузнецк</td>\n",
       "      <td>Татьяна</td>\n",
       "      <td>Авдеенко</td>\n",
       "      <td>2018-05-14</td>\n",
       "      <td>ultra</td>\n",
       "      <td>12</td>\n",
       "      <td>5</td>\n",
       "      <td>1</td>\n",
       "    </tr>\n",
       "    <tr>\n",
       "      <td>5</td>\n",
       "      <td>1005</td>\n",
       "      <td>67</td>\n",
       "      <td>2018-12-31</td>\n",
       "      <td>Набережные Челны</td>\n",
       "      <td>Афанасий</td>\n",
       "      <td>Горлов</td>\n",
       "      <td>2018-01-25</td>\n",
       "      <td>smart</td>\n",
       "      <td>12</td>\n",
       "      <td>1</td>\n",
       "      <td>0</td>\n",
       "    </tr>\n",
       "    <tr>\n",
       "      <td>6</td>\n",
       "      <td>1006</td>\n",
       "      <td>21</td>\n",
       "      <td>2018-12-31</td>\n",
       "      <td>Ульяновск</td>\n",
       "      <td>Леонид</td>\n",
       "      <td>Ермолаев</td>\n",
       "      <td>2018-02-26</td>\n",
       "      <td>smart</td>\n",
       "      <td>12</td>\n",
       "      <td>2</td>\n",
       "      <td>0</td>\n",
       "    </tr>\n",
       "    <tr>\n",
       "      <td>7</td>\n",
       "      <td>1007</td>\n",
       "      <td>65</td>\n",
       "      <td>2018-12-31</td>\n",
       "      <td>Москва</td>\n",
       "      <td>Юна</td>\n",
       "      <td>Березина</td>\n",
       "      <td>2018-04-19</td>\n",
       "      <td>smart</td>\n",
       "      <td>12</td>\n",
       "      <td>4</td>\n",
       "      <td>0</td>\n",
       "    </tr>\n",
       "    <tr>\n",
       "      <td>8</td>\n",
       "      <td>1008</td>\n",
       "      <td>63</td>\n",
       "      <td>2018-12-31</td>\n",
       "      <td>Челябинск</td>\n",
       "      <td>Рустэм</td>\n",
       "      <td>Пономарёв</td>\n",
       "      <td>2018-12-19</td>\n",
       "      <td>smart</td>\n",
       "      <td>12</td>\n",
       "      <td>12</td>\n",
       "      <td>0</td>\n",
       "    </tr>\n",
       "    <tr>\n",
       "      <td>9</td>\n",
       "      <td>1009</td>\n",
       "      <td>24</td>\n",
       "      <td>2018-12-31</td>\n",
       "      <td>Пермь</td>\n",
       "      <td>Василиса</td>\n",
       "      <td>Блинова</td>\n",
       "      <td>2018-03-22</td>\n",
       "      <td>smart</td>\n",
       "      <td>12</td>\n",
       "      <td>3</td>\n",
       "      <td>0</td>\n",
       "    </tr>\n",
       "  </tbody>\n",
       "</table>\n",
       "</div>"
      ],
      "text/plain": [
       "   user_id  age churn_date              city first_name  last_name   reg_date  \\\n",
       "0     1000   52 2018-12-31         Краснодар     Рафаил  Верещагин 2018-05-25   \n",
       "1     1001   41 2018-12-31            Москва       Иван       Ежов 2018-11-01   \n",
       "2     1002   59 2018-12-31       Стерлитамак    Евгений  Абрамович 2018-06-17   \n",
       "3     1003   23 2018-12-31            Москва      Белла   Белякова 2018-08-17   \n",
       "4     1004   68 2018-12-31       Новокузнецк    Татьяна   Авдеенко 2018-05-14   \n",
       "5     1005   67 2018-12-31  Набережные Челны   Афанасий     Горлов 2018-01-25   \n",
       "6     1006   21 2018-12-31         Ульяновск     Леонид   Ермолаев 2018-02-26   \n",
       "7     1007   65 2018-12-31            Москва        Юна   Березина 2018-04-19   \n",
       "8     1008   63 2018-12-31         Челябинск     Рустэм  Пономарёв 2018-12-19   \n",
       "9     1009   24 2018-12-31             Пермь   Василиса    Блинова 2018-03-22   \n",
       "\n",
       "  tariff  churn_month  reg_month  tariff_ind  \n",
       "0  ultra           12          5           1  \n",
       "1  smart           12         11           0  \n",
       "2  smart           12          6           0  \n",
       "3  ultra           12          8           1  \n",
       "4  ultra           12          5           1  \n",
       "5  smart           12          1           0  \n",
       "6  smart           12          2           0  \n",
       "7  smart           12          4           0  \n",
       "8  smart           12         12           0  \n",
       "9  smart           12          3           0  "
      ]
     },
     "metadata": {},
     "output_type": "display_data"
    }
   ],
   "source": [
    "#Переведем столбцы даты ухода и прихода на тариф в формат времени\n",
    "users['churn_date'] = users['churn_date'].fillna(value='2018-12-31')\n",
    "users['churn_date'] = pd.to_datetime(users['churn_date'], format='%Y-%m-%d')\n",
    "users['reg_date'] = pd.to_datetime(users['reg_date'], format='%Y-%m-%d')\n",
    "\n",
    "#Добавим столбцы месяца\n",
    "users['churn_month'] = users['churn_date'].dt.month\n",
    "users['reg_month'] = users['reg_date'].dt.month\n",
    "\n",
    "#добавим служебный столбец для тарифов\n",
    "users['tariff_ind'] = users['tariff'].replace('smart', 0 ).replace('ultra', 1)\n",
    "#users['tariff_ind'] = users['tariff_ind'].replace('ultra', 1)\n",
    "\n",
    "# проверим результат\n",
    "display(users.info())\n",
    "display(users.head(10))"
   ]
  },
  {
   "cell_type": "markdown",
   "metadata": {},
   "source": [
    "## Выводы по обработке полученных данных"
   ]
  },
  {
   "cell_type": "markdown",
   "metadata": {},
   "source": [
    "Все полученные данные обработаны и приведены к нужным типам. Мы округлили сразу минуты до целых, для каждого разговора, чтобы не возвращаться к этому позже. Проверили нулевые значения. Сейчас сделаем промежуточные расчеты, которые нужны для анализа данных. \n",
    "\n",
    "Подсчитаем:\n",
    "\n",
    "- количество сделанных звонков и израсходованных минут разговора по месяцам;\n",
    "\n",
    "- количество отправленных сообщений по месяцам;\n",
    "\n",
    "- объем израсходованного интернет-трафика по месяцам;\n",
    "\n",
    "- помесячную выручку с каждого пользователя\n"
   ]
  },
  {
   "cell_type": "markdown",
   "metadata": {},
   "source": [
    "## Промежуточные расчеты"
   ]
  },
  {
   "cell_type": "markdown",
   "metadata": {},
   "source": [
    "Подсчитаем  количество сделанных звонков и израсходованных минут разговора по месяцам"
   ]
  },
  {
   "cell_type": "code",
   "execution_count": 11,
   "metadata": {},
   "outputs": [
    {
     "name": "stdout",
     "output_type": "stream",
     "text": [
      "<class 'pandas.core.frame.DataFrame'>\n",
      "RangeIndex: 492 entries, 0 to 491\n",
      "Data columns (total 13 columns):\n",
      "user_id    492 non-null int64\n",
      "jan        43 non-null float64\n",
      "feb        82 non-null float64\n",
      "mar        114 non-null float64\n",
      "apr        165 non-null float64\n",
      "may        205 non-null float64\n",
      "jun        244 non-null float64\n",
      "jul        289 non-null float64\n",
      "aug        337 non-null float64\n",
      "sep        370 non-null float64\n",
      "oct        411 non-null float64\n",
      "nov        444 non-null float64\n",
      "dec        470 non-null float64\n",
      "dtypes: float64(12), int64(1)\n",
      "memory usage: 50.1 KB\n",
      "None\n"
     ]
    },
    {
     "data": {
      "text/html": [
       "<div>\n",
       "<style scoped>\n",
       "    .dataframe tbody tr th:only-of-type {\n",
       "        vertical-align: middle;\n",
       "    }\n",
       "\n",
       "    .dataframe tbody tr th {\n",
       "        vertical-align: top;\n",
       "    }\n",
       "\n",
       "    .dataframe thead th {\n",
       "        text-align: right;\n",
       "    }\n",
       "</style>\n",
       "<table border=\"1\" class=\"dataframe\">\n",
       "  <thead>\n",
       "    <tr style=\"text-align: right;\">\n",
       "      <th></th>\n",
       "      <th>user_id</th>\n",
       "      <th>jan</th>\n",
       "      <th>feb</th>\n",
       "      <th>mar</th>\n",
       "      <th>apr</th>\n",
       "      <th>may</th>\n",
       "      <th>jun</th>\n",
       "      <th>jul</th>\n",
       "      <th>aug</th>\n",
       "      <th>sep</th>\n",
       "      <th>oct</th>\n",
       "      <th>nov</th>\n",
       "      <th>dec</th>\n",
       "    </tr>\n",
       "  </thead>\n",
       "  <tbody>\n",
       "    <tr>\n",
       "      <td>0</td>\n",
       "      <td>1000</td>\n",
       "      <td>NaN</td>\n",
       "      <td>NaN</td>\n",
       "      <td>NaN</td>\n",
       "      <td>NaN</td>\n",
       "      <td>22.0</td>\n",
       "      <td>43.0</td>\n",
       "      <td>47.0</td>\n",
       "      <td>52.0</td>\n",
       "      <td>58.0</td>\n",
       "      <td>57.0</td>\n",
       "      <td>43.0</td>\n",
       "      <td>46.0</td>\n",
       "    </tr>\n",
       "    <tr>\n",
       "      <td>1</td>\n",
       "      <td>1001</td>\n",
       "      <td>NaN</td>\n",
       "      <td>NaN</td>\n",
       "      <td>NaN</td>\n",
       "      <td>NaN</td>\n",
       "      <td>NaN</td>\n",
       "      <td>NaN</td>\n",
       "      <td>NaN</td>\n",
       "      <td>NaN</td>\n",
       "      <td>NaN</td>\n",
       "      <td>NaN</td>\n",
       "      <td>59.0</td>\n",
       "      <td>63.0</td>\n",
       "    </tr>\n",
       "    <tr>\n",
       "      <td>2</td>\n",
       "      <td>1002</td>\n",
       "      <td>NaN</td>\n",
       "      <td>NaN</td>\n",
       "      <td>NaN</td>\n",
       "      <td>NaN</td>\n",
       "      <td>NaN</td>\n",
       "      <td>15.0</td>\n",
       "      <td>26.0</td>\n",
       "      <td>42.0</td>\n",
       "      <td>36.0</td>\n",
       "      <td>33.0</td>\n",
       "      <td>32.0</td>\n",
       "      <td>33.0</td>\n",
       "    </tr>\n",
       "    <tr>\n",
       "      <td>3</td>\n",
       "      <td>1003</td>\n",
       "      <td>NaN</td>\n",
       "      <td>NaN</td>\n",
       "      <td>NaN</td>\n",
       "      <td>NaN</td>\n",
       "      <td>NaN</td>\n",
       "      <td>NaN</td>\n",
       "      <td>NaN</td>\n",
       "      <td>55.0</td>\n",
       "      <td>134.0</td>\n",
       "      <td>108.0</td>\n",
       "      <td>115.0</td>\n",
       "      <td>108.0</td>\n",
       "    </tr>\n",
       "    <tr>\n",
       "      <td>4</td>\n",
       "      <td>1004</td>\n",
       "      <td>NaN</td>\n",
       "      <td>NaN</td>\n",
       "      <td>NaN</td>\n",
       "      <td>NaN</td>\n",
       "      <td>9.0</td>\n",
       "      <td>31.0</td>\n",
       "      <td>22.0</td>\n",
       "      <td>19.0</td>\n",
       "      <td>26.0</td>\n",
       "      <td>29.0</td>\n",
       "      <td>19.0</td>\n",
       "      <td>21.0</td>\n",
       "    </tr>\n",
       "    <tr>\n",
       "      <td>5</td>\n",
       "      <td>1005</td>\n",
       "      <td>15.0</td>\n",
       "      <td>69.0</td>\n",
       "      <td>77.0</td>\n",
       "      <td>101.0</td>\n",
       "      <td>73.0</td>\n",
       "      <td>80.0</td>\n",
       "      <td>77.0</td>\n",
       "      <td>71.0</td>\n",
       "      <td>66.0</td>\n",
       "      <td>100.0</td>\n",
       "      <td>75.0</td>\n",
       "      <td>84.0</td>\n",
       "    </tr>\n",
       "    <tr>\n",
       "      <td>6</td>\n",
       "      <td>1006</td>\n",
       "      <td>NaN</td>\n",
       "      <td>3.0</td>\n",
       "      <td>46.0</td>\n",
       "      <td>47.0</td>\n",
       "      <td>56.0</td>\n",
       "      <td>53.0</td>\n",
       "      <td>49.0</td>\n",
       "      <td>42.0</td>\n",
       "      <td>54.0</td>\n",
       "      <td>44.0</td>\n",
       "      <td>62.0</td>\n",
       "      <td>50.0</td>\n",
       "    </tr>\n",
       "    <tr>\n",
       "      <td>7</td>\n",
       "      <td>1007</td>\n",
       "      <td>NaN</td>\n",
       "      <td>NaN</td>\n",
       "      <td>NaN</td>\n",
       "      <td>25.0</td>\n",
       "      <td>67.0</td>\n",
       "      <td>68.0</td>\n",
       "      <td>69.0</td>\n",
       "      <td>74.0</td>\n",
       "      <td>87.0</td>\n",
       "      <td>69.0</td>\n",
       "      <td>81.0</td>\n",
       "      <td>72.0</td>\n",
       "    </tr>\n",
       "    <tr>\n",
       "      <td>8</td>\n",
       "      <td>1008</td>\n",
       "      <td>NaN</td>\n",
       "      <td>NaN</td>\n",
       "      <td>NaN</td>\n",
       "      <td>NaN</td>\n",
       "      <td>NaN</td>\n",
       "      <td>NaN</td>\n",
       "      <td>NaN</td>\n",
       "      <td>NaN</td>\n",
       "      <td>NaN</td>\n",
       "      <td>NaN</td>\n",
       "      <td>NaN</td>\n",
       "      <td>52.0</td>\n",
       "    </tr>\n",
       "    <tr>\n",
       "      <td>9</td>\n",
       "      <td>1009</td>\n",
       "      <td>NaN</td>\n",
       "      <td>NaN</td>\n",
       "      <td>13.0</td>\n",
       "      <td>39.0</td>\n",
       "      <td>28.0</td>\n",
       "      <td>31.0</td>\n",
       "      <td>22.0</td>\n",
       "      <td>33.0</td>\n",
       "      <td>25.0</td>\n",
       "      <td>28.0</td>\n",
       "      <td>39.0</td>\n",
       "      <td>32.0</td>\n",
       "    </tr>\n",
       "  </tbody>\n",
       "</table>\n",
       "</div>"
      ],
      "text/plain": [
       "   user_id   jan   feb   mar    apr   may   jun   jul   aug    sep    oct  \\\n",
       "0     1000   NaN   NaN   NaN    NaN  22.0  43.0  47.0  52.0   58.0   57.0   \n",
       "1     1001   NaN   NaN   NaN    NaN   NaN   NaN   NaN   NaN    NaN    NaN   \n",
       "2     1002   NaN   NaN   NaN    NaN   NaN  15.0  26.0  42.0   36.0   33.0   \n",
       "3     1003   NaN   NaN   NaN    NaN   NaN   NaN   NaN  55.0  134.0  108.0   \n",
       "4     1004   NaN   NaN   NaN    NaN   9.0  31.0  22.0  19.0   26.0   29.0   \n",
       "5     1005  15.0  69.0  77.0  101.0  73.0  80.0  77.0  71.0   66.0  100.0   \n",
       "6     1006   NaN   3.0  46.0   47.0  56.0  53.0  49.0  42.0   54.0   44.0   \n",
       "7     1007   NaN   NaN   NaN   25.0  67.0  68.0  69.0  74.0   87.0   69.0   \n",
       "8     1008   NaN   NaN   NaN    NaN   NaN   NaN   NaN   NaN    NaN    NaN   \n",
       "9     1009   NaN   NaN  13.0   39.0  28.0  31.0  22.0  33.0   25.0   28.0   \n",
       "\n",
       "     nov    dec  \n",
       "0   43.0   46.0  \n",
       "1   59.0   63.0  \n",
       "2   32.0   33.0  \n",
       "3  115.0  108.0  \n",
       "4   19.0   21.0  \n",
       "5   75.0   84.0  \n",
       "6   62.0   50.0  \n",
       "7   81.0   72.0  \n",
       "8    NaN   52.0  \n",
       "9   39.0   32.0  "
      ]
     },
     "execution_count": 11,
     "metadata": {},
     "output_type": "execute_result"
    }
   ],
   "source": [
    "# подсчитаем количество звонков каждым пользователем в месяц\n",
    "calls_per_month = calls.pivot_table(index='user_id', columns='call_month', values='call_id', aggfunc='count').reset_index(drop=False)\n",
    "\n",
    "#переименуем столбцы чтобы в дальнейшем проходили нужные расчеты\n",
    "calls_per_month.columns = ['user_id', 'jan', 'feb', 'mar', 'apr', 'may', 'jun','jul', 'aug', 'sep', 'oct', 'nov', 'dec']\n",
    "\n",
    "#проверим результаты\n",
    "print(calls_per_month.info())\n",
    "calls_per_month.head(10)"
   ]
  },
  {
   "cell_type": "code",
   "execution_count": 13,
   "metadata": {},
   "outputs": [
    {
     "name": "stdout",
     "output_type": "stream",
     "text": [
      "<class 'pandas.core.frame.DataFrame'>\n",
      "RangeIndex: 492 entries, 0 to 491\n",
      "Data columns (total 13 columns):\n",
      "user_id    492 non-null int64\n",
      "jan        43 non-null float64\n",
      "feb        82 non-null float64\n",
      "mar        114 non-null float64\n",
      "apr        165 non-null float64\n",
      "may        205 non-null float64\n",
      "jun        244 non-null float64\n",
      "jul        289 non-null float64\n",
      "aug        337 non-null float64\n",
      "sep        370 non-null float64\n",
      "oct        411 non-null float64\n",
      "nov        444 non-null float64\n",
      "dec        470 non-null float64\n",
      "dtypes: float64(12), int64(1)\n",
      "memory usage: 50.1 KB\n",
      "None\n"
     ]
    },
    {
     "data": {
      "text/html": [
       "<div>\n",
       "<style scoped>\n",
       "    .dataframe tbody tr th:only-of-type {\n",
       "        vertical-align: middle;\n",
       "    }\n",
       "\n",
       "    .dataframe tbody tr th {\n",
       "        vertical-align: top;\n",
       "    }\n",
       "\n",
       "    .dataframe thead th {\n",
       "        text-align: right;\n",
       "    }\n",
       "</style>\n",
       "<table border=\"1\" class=\"dataframe\">\n",
       "  <thead>\n",
       "    <tr style=\"text-align: right;\">\n",
       "      <th></th>\n",
       "      <th>user_id</th>\n",
       "      <th>jan</th>\n",
       "      <th>feb</th>\n",
       "      <th>mar</th>\n",
       "      <th>apr</th>\n",
       "      <th>may</th>\n",
       "      <th>jun</th>\n",
       "      <th>jul</th>\n",
       "      <th>aug</th>\n",
       "      <th>sep</th>\n",
       "      <th>oct</th>\n",
       "      <th>nov</th>\n",
       "      <th>dec</th>\n",
       "    </tr>\n",
       "  </thead>\n",
       "  <tbody>\n",
       "    <tr>\n",
       "      <td>0</td>\n",
       "      <td>1000</td>\n",
       "      <td>NaN</td>\n",
       "      <td>NaN</td>\n",
       "      <td>NaN</td>\n",
       "      <td>NaN</td>\n",
       "      <td>159.0</td>\n",
       "      <td>172.0</td>\n",
       "      <td>340.0</td>\n",
       "      <td>408.0</td>\n",
       "      <td>466.0</td>\n",
       "      <td>350.0</td>\n",
       "      <td>338.0</td>\n",
       "      <td>333.0</td>\n",
       "    </tr>\n",
       "    <tr>\n",
       "      <td>1</td>\n",
       "      <td>1001</td>\n",
       "      <td>NaN</td>\n",
       "      <td>NaN</td>\n",
       "      <td>NaN</td>\n",
       "      <td>NaN</td>\n",
       "      <td>NaN</td>\n",
       "      <td>NaN</td>\n",
       "      <td>NaN</td>\n",
       "      <td>NaN</td>\n",
       "      <td>NaN</td>\n",
       "      <td>NaN</td>\n",
       "      <td>430.0</td>\n",
       "      <td>414.0</td>\n",
       "    </tr>\n",
       "    <tr>\n",
       "      <td>2</td>\n",
       "      <td>1002</td>\n",
       "      <td>NaN</td>\n",
       "      <td>NaN</td>\n",
       "      <td>NaN</td>\n",
       "      <td>NaN</td>\n",
       "      <td>NaN</td>\n",
       "      <td>117.0</td>\n",
       "      <td>214.0</td>\n",
       "      <td>289.0</td>\n",
       "      <td>206.0</td>\n",
       "      <td>212.0</td>\n",
       "      <td>243.0</td>\n",
       "      <td>236.0</td>\n",
       "    </tr>\n",
       "    <tr>\n",
       "      <td>3</td>\n",
       "      <td>1003</td>\n",
       "      <td>NaN</td>\n",
       "      <td>NaN</td>\n",
       "      <td>NaN</td>\n",
       "      <td>NaN</td>\n",
       "      <td>NaN</td>\n",
       "      <td>NaN</td>\n",
       "      <td>NaN</td>\n",
       "      <td>380.0</td>\n",
       "      <td>961.0</td>\n",
       "      <td>855.0</td>\n",
       "      <td>824.0</td>\n",
       "      <td>802.0</td>\n",
       "    </tr>\n",
       "    <tr>\n",
       "      <td>4</td>\n",
       "      <td>1004</td>\n",
       "      <td>NaN</td>\n",
       "      <td>NaN</td>\n",
       "      <td>NaN</td>\n",
       "      <td>NaN</td>\n",
       "      <td>35.0</td>\n",
       "      <td>171.0</td>\n",
       "      <td>135.0</td>\n",
       "      <td>137.0</td>\n",
       "      <td>117.0</td>\n",
       "      <td>145.0</td>\n",
       "      <td>117.0</td>\n",
       "      <td>130.0</td>\n",
       "    </tr>\n",
       "    <tr>\n",
       "      <td>5</td>\n",
       "      <td>1005</td>\n",
       "      <td>95.0</td>\n",
       "      <td>456.0</td>\n",
       "      <td>606.0</td>\n",
       "      <td>712.0</td>\n",
       "      <td>595.0</td>\n",
       "      <td>612.0</td>\n",
       "      <td>569.0</td>\n",
       "      <td>619.0</td>\n",
       "      <td>479.0</td>\n",
       "      <td>723.0</td>\n",
       "      <td>547.0</td>\n",
       "      <td>592.0</td>\n",
       "    </tr>\n",
       "    <tr>\n",
       "      <td>6</td>\n",
       "      <td>1006</td>\n",
       "      <td>NaN</td>\n",
       "      <td>42.0</td>\n",
       "      <td>286.0</td>\n",
       "      <td>356.0</td>\n",
       "      <td>370.0</td>\n",
       "      <td>478.0</td>\n",
       "      <td>316.0</td>\n",
       "      <td>275.0</td>\n",
       "      <td>360.0</td>\n",
       "      <td>267.0</td>\n",
       "      <td>372.0</td>\n",
       "      <td>379.0</td>\n",
       "    </tr>\n",
       "    <tr>\n",
       "      <td>7</td>\n",
       "      <td>1007</td>\n",
       "      <td>NaN</td>\n",
       "      <td>NaN</td>\n",
       "      <td>NaN</td>\n",
       "      <td>198.0</td>\n",
       "      <td>480.0</td>\n",
       "      <td>545.0</td>\n",
       "      <td>577.0</td>\n",
       "      <td>458.0</td>\n",
       "      <td>655.0</td>\n",
       "      <td>465.0</td>\n",
       "      <td>580.0</td>\n",
       "      <td>421.0</td>\n",
       "    </tr>\n",
       "    <tr>\n",
       "      <td>8</td>\n",
       "      <td>1008</td>\n",
       "      <td>NaN</td>\n",
       "      <td>NaN</td>\n",
       "      <td>NaN</td>\n",
       "      <td>NaN</td>\n",
       "      <td>NaN</td>\n",
       "      <td>NaN</td>\n",
       "      <td>NaN</td>\n",
       "      <td>NaN</td>\n",
       "      <td>NaN</td>\n",
       "      <td>NaN</td>\n",
       "      <td>NaN</td>\n",
       "      <td>339.0</td>\n",
       "    </tr>\n",
       "    <tr>\n",
       "      <td>9</td>\n",
       "      <td>1009</td>\n",
       "      <td>NaN</td>\n",
       "      <td>NaN</td>\n",
       "      <td>109.0</td>\n",
       "      <td>324.0</td>\n",
       "      <td>170.0</td>\n",
       "      <td>289.0</td>\n",
       "      <td>183.0</td>\n",
       "      <td>249.0</td>\n",
       "      <td>133.0</td>\n",
       "      <td>213.0</td>\n",
       "      <td>290.0</td>\n",
       "      <td>229.0</td>\n",
       "    </tr>\n",
       "  </tbody>\n",
       "</table>\n",
       "</div>"
      ],
      "text/plain": [
       "   user_id   jan    feb    mar    apr    may    jun    jul    aug    sep  \\\n",
       "0     1000   NaN    NaN    NaN    NaN  159.0  172.0  340.0  408.0  466.0   \n",
       "1     1001   NaN    NaN    NaN    NaN    NaN    NaN    NaN    NaN    NaN   \n",
       "2     1002   NaN    NaN    NaN    NaN    NaN  117.0  214.0  289.0  206.0   \n",
       "3     1003   NaN    NaN    NaN    NaN    NaN    NaN    NaN  380.0  961.0   \n",
       "4     1004   NaN    NaN    NaN    NaN   35.0  171.0  135.0  137.0  117.0   \n",
       "5     1005  95.0  456.0  606.0  712.0  595.0  612.0  569.0  619.0  479.0   \n",
       "6     1006   NaN   42.0  286.0  356.0  370.0  478.0  316.0  275.0  360.0   \n",
       "7     1007   NaN    NaN    NaN  198.0  480.0  545.0  577.0  458.0  655.0   \n",
       "8     1008   NaN    NaN    NaN    NaN    NaN    NaN    NaN    NaN    NaN   \n",
       "9     1009   NaN    NaN  109.0  324.0  170.0  289.0  183.0  249.0  133.0   \n",
       "\n",
       "     oct    nov    dec  \n",
       "0  350.0  338.0  333.0  \n",
       "1    NaN  430.0  414.0  \n",
       "2  212.0  243.0  236.0  \n",
       "3  855.0  824.0  802.0  \n",
       "4  145.0  117.0  130.0  \n",
       "5  723.0  547.0  592.0  \n",
       "6  267.0  372.0  379.0  \n",
       "7  465.0  580.0  421.0  \n",
       "8    NaN    NaN  339.0  \n",
       "9  213.0  290.0  229.0  "
      ]
     },
     "execution_count": 13,
     "metadata": {},
     "output_type": "execute_result"
    }
   ],
   "source": [
    "#подсчитаем количество израсходованных минут по месяцам\n",
    "minutes_per_month = calls.pivot_table(index='user_id',  columns='call_month' , values='duration', aggfunc='sum').reset_index(drop=False)\n",
    "\n",
    "#переименуем столбцы чтобы в дальнейшем проходили нужные расчеты\n",
    "minutes_per_month.columns = ['user_id', 'jan', 'feb', 'mar', 'apr', 'may', 'jun','jul', 'aug', 'sep', 'oct', 'nov', 'dec']\n",
    "\n",
    "#проверим результаты\n",
    "print(minutes_per_month.info())\n",
    "minutes_per_month.head(10)\n"
   ]
  },
  {
   "cell_type": "markdown",
   "metadata": {},
   "source": [
    "Похоже восемь клиентов не делали звонки вообще. Может им нужен был мобильный интернет? \n",
    "Проверим количество отправленных сообщений по месяцам. "
   ]
  },
  {
   "cell_type": "code",
   "execution_count": 14,
   "metadata": {},
   "outputs": [
    {
     "name": "stdout",
     "output_type": "stream",
     "text": [
      "<class 'pandas.core.frame.DataFrame'>\n",
      "RangeIndex: 426 entries, 0 to 425\n",
      "Data columns (total 13 columns):\n",
      "user_id    426 non-null int64\n",
      "jan        38 non-null float64\n",
      "feb        66 non-null float64\n",
      "mar        94 non-null float64\n",
      "apr        135 non-null float64\n",
      "may        174 non-null float64\n",
      "jun        209 non-null float64\n",
      "jul        247 non-null float64\n",
      "aug        292 non-null float64\n",
      "sep        318 non-null float64\n",
      "oct        357 non-null float64\n",
      "nov        383 non-null float64\n",
      "dec        404 non-null float64\n",
      "dtypes: float64(12), int64(1)\n",
      "memory usage: 43.4 KB\n",
      "None\n"
     ]
    },
    {
     "data": {
      "text/html": [
       "<div>\n",
       "<style scoped>\n",
       "    .dataframe tbody tr th:only-of-type {\n",
       "        vertical-align: middle;\n",
       "    }\n",
       "\n",
       "    .dataframe tbody tr th {\n",
       "        vertical-align: top;\n",
       "    }\n",
       "\n",
       "    .dataframe thead th {\n",
       "        text-align: right;\n",
       "    }\n",
       "</style>\n",
       "<table border=\"1\" class=\"dataframe\">\n",
       "  <thead>\n",
       "    <tr style=\"text-align: right;\">\n",
       "      <th></th>\n",
       "      <th>user_id</th>\n",
       "      <th>jan</th>\n",
       "      <th>feb</th>\n",
       "      <th>mar</th>\n",
       "      <th>apr</th>\n",
       "      <th>may</th>\n",
       "      <th>jun</th>\n",
       "      <th>jul</th>\n",
       "      <th>aug</th>\n",
       "      <th>sep</th>\n",
       "      <th>oct</th>\n",
       "      <th>nov</th>\n",
       "      <th>dec</th>\n",
       "    </tr>\n",
       "  </thead>\n",
       "  <tbody>\n",
       "    <tr>\n",
       "      <td>0</td>\n",
       "      <td>1000</td>\n",
       "      <td>NaN</td>\n",
       "      <td>NaN</td>\n",
       "      <td>NaN</td>\n",
       "      <td>NaN</td>\n",
       "      <td>22.0</td>\n",
       "      <td>60.0</td>\n",
       "      <td>75.0</td>\n",
       "      <td>81.0</td>\n",
       "      <td>57.0</td>\n",
       "      <td>73.0</td>\n",
       "      <td>58.0</td>\n",
       "      <td>70.0</td>\n",
       "    </tr>\n",
       "    <tr>\n",
       "      <td>1</td>\n",
       "      <td>1002</td>\n",
       "      <td>NaN</td>\n",
       "      <td>NaN</td>\n",
       "      <td>NaN</td>\n",
       "      <td>NaN</td>\n",
       "      <td>NaN</td>\n",
       "      <td>4.0</td>\n",
       "      <td>11.0</td>\n",
       "      <td>13.0</td>\n",
       "      <td>4.0</td>\n",
       "      <td>10.0</td>\n",
       "      <td>16.0</td>\n",
       "      <td>12.0</td>\n",
       "    </tr>\n",
       "    <tr>\n",
       "      <td>2</td>\n",
       "      <td>1003</td>\n",
       "      <td>NaN</td>\n",
       "      <td>NaN</td>\n",
       "      <td>NaN</td>\n",
       "      <td>NaN</td>\n",
       "      <td>NaN</td>\n",
       "      <td>NaN</td>\n",
       "      <td>NaN</td>\n",
       "      <td>37.0</td>\n",
       "      <td>91.0</td>\n",
       "      <td>83.0</td>\n",
       "      <td>94.0</td>\n",
       "      <td>75.0</td>\n",
       "    </tr>\n",
       "    <tr>\n",
       "      <td>3</td>\n",
       "      <td>1004</td>\n",
       "      <td>NaN</td>\n",
       "      <td>NaN</td>\n",
       "      <td>NaN</td>\n",
       "      <td>NaN</td>\n",
       "      <td>95.0</td>\n",
       "      <td>134.0</td>\n",
       "      <td>181.0</td>\n",
       "      <td>151.0</td>\n",
       "      <td>146.0</td>\n",
       "      <td>165.0</td>\n",
       "      <td>158.0</td>\n",
       "      <td>162.0</td>\n",
       "    </tr>\n",
       "    <tr>\n",
       "      <td>4</td>\n",
       "      <td>1005</td>\n",
       "      <td>7.0</td>\n",
       "      <td>38.0</td>\n",
       "      <td>56.0</td>\n",
       "      <td>41.0</td>\n",
       "      <td>42.0</td>\n",
       "      <td>47.0</td>\n",
       "      <td>56.0</td>\n",
       "      <td>64.0</td>\n",
       "      <td>52.0</td>\n",
       "      <td>44.0</td>\n",
       "      <td>51.0</td>\n",
       "      <td>54.0</td>\n",
       "    </tr>\n",
       "  </tbody>\n",
       "</table>\n",
       "</div>"
      ],
      "text/plain": [
       "   user_id  jan   feb   mar   apr   may    jun    jul    aug    sep    oct  \\\n",
       "0     1000  NaN   NaN   NaN   NaN  22.0   60.0   75.0   81.0   57.0   73.0   \n",
       "1     1002  NaN   NaN   NaN   NaN   NaN    4.0   11.0   13.0    4.0   10.0   \n",
       "2     1003  NaN   NaN   NaN   NaN   NaN    NaN    NaN   37.0   91.0   83.0   \n",
       "3     1004  NaN   NaN   NaN   NaN  95.0  134.0  181.0  151.0  146.0  165.0   \n",
       "4     1005  7.0  38.0  56.0  41.0  42.0   47.0   56.0   64.0   52.0   44.0   \n",
       "\n",
       "     nov    dec  \n",
       "0   58.0   70.0  \n",
       "1   16.0   12.0  \n",
       "2   94.0   75.0  \n",
       "3  158.0  162.0  \n",
       "4   51.0   54.0  "
      ]
     },
     "execution_count": 14,
     "metadata": {},
     "output_type": "execute_result"
    }
   ],
   "source": [
    "#подсчитаем кто сколько отправил сообщений по месяцам\n",
    "\n",
    "messages_per_month = messages.pivot_table(index='user_id', columns='message_month', values='messages_id', aggfunc='count').reset_index(drop=False)\n",
    "\n",
    "#переименуем столбцы чтобы в дальнейшем проходили нужные расчеты\n",
    "messages_per_month.columns = ['user_id', 'jan', 'feb', 'mar', 'apr', 'may', 'jun','jul', 'aug', 'sep', 'oct', 'nov', 'dec']\n",
    "\n",
    "#проверим результаты\n",
    "print(messages_per_month.info())\n",
    "messages_per_month.head()"
   ]
  },
  {
   "cell_type": "markdown",
   "metadata": {},
   "source": [
    "Тех кто вообще не посылал сообщений ещё больше :-).\n",
    "Подсчитаем объем израсходованного интернет-трафика по месяцам для каждого пользователя"
   ]
  },
  {
   "cell_type": "code",
   "execution_count": 15,
   "metadata": {},
   "outputs": [
    {
     "name": "stdout",
     "output_type": "stream",
     "text": [
      "<class 'pandas.core.frame.DataFrame'>\n",
      "RangeIndex: 497 entries, 0 to 496\n",
      "Data columns (total 13 columns):\n",
      "user_id    497 non-null int64\n",
      "jan        43 non-null float64\n",
      "feb        80 non-null float64\n",
      "mar        114 non-null float64\n",
      "apr        167 non-null float64\n",
      "may        207 non-null float64\n",
      "jun        247 non-null float64\n",
      "jul        291 non-null float64\n",
      "aug        340 non-null float64\n",
      "sep        374 non-null float64\n",
      "oct        416 non-null float64\n",
      "nov        449 non-null float64\n",
      "dec        475 non-null float64\n",
      "dtypes: float64(12), int64(1)\n",
      "memory usage: 50.6 KB\n",
      "None\n"
     ]
    },
    {
     "data": {
      "text/html": [
       "<div>\n",
       "<style scoped>\n",
       "    .dataframe tbody tr th:only-of-type {\n",
       "        vertical-align: middle;\n",
       "    }\n",
       "\n",
       "    .dataframe tbody tr th {\n",
       "        vertical-align: top;\n",
       "    }\n",
       "\n",
       "    .dataframe thead th {\n",
       "        text-align: right;\n",
       "    }\n",
       "</style>\n",
       "<table border=\"1\" class=\"dataframe\">\n",
       "  <thead>\n",
       "    <tr style=\"text-align: right;\">\n",
       "      <th></th>\n",
       "      <th>user_id</th>\n",
       "      <th>jan</th>\n",
       "      <th>feb</th>\n",
       "      <th>mar</th>\n",
       "      <th>apr</th>\n",
       "      <th>may</th>\n",
       "      <th>jun</th>\n",
       "      <th>jul</th>\n",
       "      <th>aug</th>\n",
       "      <th>sep</th>\n",
       "      <th>oct</th>\n",
       "      <th>nov</th>\n",
       "      <th>dec</th>\n",
       "    </tr>\n",
       "  </thead>\n",
       "  <tbody>\n",
       "    <tr>\n",
       "      <td>0</td>\n",
       "      <td>1000</td>\n",
       "      <td>NaN</td>\n",
       "      <td>NaN</td>\n",
       "      <td>NaN</td>\n",
       "      <td>NaN</td>\n",
       "      <td>2253.49</td>\n",
       "      <td>23233.77</td>\n",
       "      <td>14003.64</td>\n",
       "      <td>14055.93</td>\n",
       "      <td>14568.91</td>\n",
       "      <td>14702.49</td>\n",
       "      <td>14756.47</td>\n",
       "      <td>9817.61</td>\n",
       "    </tr>\n",
       "    <tr>\n",
       "      <td>1</td>\n",
       "      <td>1001</td>\n",
       "      <td>NaN</td>\n",
       "      <td>NaN</td>\n",
       "      <td>NaN</td>\n",
       "      <td>NaN</td>\n",
       "      <td>NaN</td>\n",
       "      <td>NaN</td>\n",
       "      <td>NaN</td>\n",
       "      <td>NaN</td>\n",
       "      <td>NaN</td>\n",
       "      <td>NaN</td>\n",
       "      <td>18429.34</td>\n",
       "      <td>14036.66</td>\n",
       "    </tr>\n",
       "    <tr>\n",
       "      <td>2</td>\n",
       "      <td>1002</td>\n",
       "      <td>NaN</td>\n",
       "      <td>NaN</td>\n",
       "      <td>NaN</td>\n",
       "      <td>NaN</td>\n",
       "      <td>NaN</td>\n",
       "      <td>10856.82</td>\n",
       "      <td>17580.10</td>\n",
       "      <td>20319.26</td>\n",
       "      <td>16691.08</td>\n",
       "      <td>13888.25</td>\n",
       "      <td>18587.28</td>\n",
       "      <td>18113.73</td>\n",
       "    </tr>\n",
       "    <tr>\n",
       "      <td>3</td>\n",
       "      <td>1003</td>\n",
       "      <td>NaN</td>\n",
       "      <td>NaN</td>\n",
       "      <td>NaN</td>\n",
       "      <td>NaN</td>\n",
       "      <td>NaN</td>\n",
       "      <td>NaN</td>\n",
       "      <td>NaN</td>\n",
       "      <td>8565.21</td>\n",
       "      <td>12468.87</td>\n",
       "      <td>14768.14</td>\n",
       "      <td>11356.89</td>\n",
       "      <td>10121.53</td>\n",
       "    </tr>\n",
       "    <tr>\n",
       "      <td>4</td>\n",
       "      <td>1004</td>\n",
       "      <td>NaN</td>\n",
       "      <td>NaN</td>\n",
       "      <td>NaN</td>\n",
       "      <td>NaN</td>\n",
       "      <td>13403.98</td>\n",
       "      <td>17600.02</td>\n",
       "      <td>22229.58</td>\n",
       "      <td>28584.37</td>\n",
       "      <td>15109.03</td>\n",
       "      <td>18475.44</td>\n",
       "      <td>15616.02</td>\n",
       "      <td>18021.04</td>\n",
       "    </tr>\n",
       "  </tbody>\n",
       "</table>\n",
       "</div>"
      ],
      "text/plain": [
       "   user_id  jan  feb  mar  apr       may       jun       jul       aug  \\\n",
       "0     1000  NaN  NaN  NaN  NaN   2253.49  23233.77  14003.64  14055.93   \n",
       "1     1001  NaN  NaN  NaN  NaN       NaN       NaN       NaN       NaN   \n",
       "2     1002  NaN  NaN  NaN  NaN       NaN  10856.82  17580.10  20319.26   \n",
       "3     1003  NaN  NaN  NaN  NaN       NaN       NaN       NaN   8565.21   \n",
       "4     1004  NaN  NaN  NaN  NaN  13403.98  17600.02  22229.58  28584.37   \n",
       "\n",
       "        sep       oct       nov       dec  \n",
       "0  14568.91  14702.49  14756.47   9817.61  \n",
       "1       NaN       NaN  18429.34  14036.66  \n",
       "2  16691.08  13888.25  18587.28  18113.73  \n",
       "3  12468.87  14768.14  11356.89  10121.53  \n",
       "4  15109.03  18475.44  15616.02  18021.04  "
      ]
     },
     "execution_count": 15,
     "metadata": {},
     "output_type": "execute_result"
    }
   ],
   "source": [
    "# Подсчитаем объем израсходованного интернет-трафика по месяцам для каждого пользователя\n",
    "\n",
    "internet_per_month = internet.pivot_table(index='user_id', columns='session_month', values='mb_used', aggfunc='sum').reset_index(drop=False)\n",
    "\n",
    "#переименуем столбцы чтобы в дальнейшем проходили нужные расчеты\n",
    "internet_per_month.columns = ['user_id', 'jan', 'feb', 'mar', 'apr', 'may', 'jun','jul', 'aug', 'sep', 'oct', 'nov', 'dec']\n",
    "\n",
    "#проверим результаты\n",
    "print(internet_per_month.info())\n",
    "internet_per_month.head()"
   ]
  },
  {
   "cell_type": "markdown",
   "metadata": {},
   "source": [
    "А вот интернет используют почти все.\n",
    "Осталось узнать помесячную выручку с каждого пользователя. Для этого сначала подсчитаем стоимости переплаты в месяц, сведем их в одну таблицу и добавим стоимость абонемента. "
   ]
  },
  {
   "cell_type": "code",
   "execution_count": 16,
   "metadata": {},
   "outputs": [
    {
     "name": "stdout",
     "output_type": "stream",
     "text": [
      "   user_id tariff\n",
      "0     1000  ultra\n",
      "1     1001  smart\n",
      "2     1002  smart\n",
      "3     1003  ultra\n",
      "4     1004  ultra\n",
      "\n"
     ]
    },
    {
     "data": {
      "text/html": [
       "<div>\n",
       "<style scoped>\n",
       "    .dataframe tbody tr th:only-of-type {\n",
       "        vertical-align: middle;\n",
       "    }\n",
       "\n",
       "    .dataframe tbody tr th {\n",
       "        vertical-align: top;\n",
       "    }\n",
       "\n",
       "    .dataframe thead th {\n",
       "        text-align: right;\n",
       "    }\n",
       "</style>\n",
       "<table border=\"1\" class=\"dataframe\">\n",
       "  <thead>\n",
       "    <tr style=\"text-align: right;\">\n",
       "      <th></th>\n",
       "      <th>user_id</th>\n",
       "      <th>jan</th>\n",
       "      <th>feb</th>\n",
       "      <th>mar</th>\n",
       "      <th>apr</th>\n",
       "      <th>may</th>\n",
       "      <th>jun</th>\n",
       "      <th>jul</th>\n",
       "      <th>aug</th>\n",
       "      <th>sep</th>\n",
       "      <th>oct</th>\n",
       "      <th>nov</th>\n",
       "      <th>dec</th>\n",
       "      <th>tariff</th>\n",
       "    </tr>\n",
       "  </thead>\n",
       "  <tbody>\n",
       "    <tr>\n",
       "      <td>0</td>\n",
       "      <td>1000</td>\n",
       "      <td>NaN</td>\n",
       "      <td>NaN</td>\n",
       "      <td>NaN</td>\n",
       "      <td>NaN</td>\n",
       "      <td>159.0</td>\n",
       "      <td>172.0</td>\n",
       "      <td>340.0</td>\n",
       "      <td>408.0</td>\n",
       "      <td>466.0</td>\n",
       "      <td>350.0</td>\n",
       "      <td>338.0</td>\n",
       "      <td>333.0</td>\n",
       "      <td>ultra</td>\n",
       "    </tr>\n",
       "    <tr>\n",
       "      <td>1</td>\n",
       "      <td>1001</td>\n",
       "      <td>NaN</td>\n",
       "      <td>NaN</td>\n",
       "      <td>NaN</td>\n",
       "      <td>NaN</td>\n",
       "      <td>NaN</td>\n",
       "      <td>NaN</td>\n",
       "      <td>NaN</td>\n",
       "      <td>NaN</td>\n",
       "      <td>NaN</td>\n",
       "      <td>NaN</td>\n",
       "      <td>430.0</td>\n",
       "      <td>414.0</td>\n",
       "      <td>smart</td>\n",
       "    </tr>\n",
       "    <tr>\n",
       "      <td>2</td>\n",
       "      <td>1002</td>\n",
       "      <td>NaN</td>\n",
       "      <td>NaN</td>\n",
       "      <td>NaN</td>\n",
       "      <td>NaN</td>\n",
       "      <td>NaN</td>\n",
       "      <td>117.0</td>\n",
       "      <td>214.0</td>\n",
       "      <td>289.0</td>\n",
       "      <td>206.0</td>\n",
       "      <td>212.0</td>\n",
       "      <td>243.0</td>\n",
       "      <td>236.0</td>\n",
       "      <td>smart</td>\n",
       "    </tr>\n",
       "    <tr>\n",
       "      <td>3</td>\n",
       "      <td>1003</td>\n",
       "      <td>NaN</td>\n",
       "      <td>NaN</td>\n",
       "      <td>NaN</td>\n",
       "      <td>NaN</td>\n",
       "      <td>NaN</td>\n",
       "      <td>NaN</td>\n",
       "      <td>NaN</td>\n",
       "      <td>380.0</td>\n",
       "      <td>961.0</td>\n",
       "      <td>855.0</td>\n",
       "      <td>824.0</td>\n",
       "      <td>802.0</td>\n",
       "      <td>ultra</td>\n",
       "    </tr>\n",
       "    <tr>\n",
       "      <td>4</td>\n",
       "      <td>1004</td>\n",
       "      <td>NaN</td>\n",
       "      <td>NaN</td>\n",
       "      <td>NaN</td>\n",
       "      <td>NaN</td>\n",
       "      <td>35.0</td>\n",
       "      <td>171.0</td>\n",
       "      <td>135.0</td>\n",
       "      <td>137.0</td>\n",
       "      <td>117.0</td>\n",
       "      <td>145.0</td>\n",
       "      <td>117.0</td>\n",
       "      <td>130.0</td>\n",
       "      <td>ultra</td>\n",
       "    </tr>\n",
       "    <tr>\n",
       "      <td>5</td>\n",
       "      <td>1005</td>\n",
       "      <td>95.0</td>\n",
       "      <td>456.0</td>\n",
       "      <td>606.0</td>\n",
       "      <td>712.0</td>\n",
       "      <td>595.0</td>\n",
       "      <td>612.0</td>\n",
       "      <td>569.0</td>\n",
       "      <td>619.0</td>\n",
       "      <td>479.0</td>\n",
       "      <td>723.0</td>\n",
       "      <td>547.0</td>\n",
       "      <td>592.0</td>\n",
       "      <td>smart</td>\n",
       "    </tr>\n",
       "  </tbody>\n",
       "</table>\n",
       "</div>"
      ],
      "text/plain": [
       "   user_id   jan    feb    mar    apr    may    jun    jul    aug    sep  \\\n",
       "0     1000   NaN    NaN    NaN    NaN  159.0  172.0  340.0  408.0  466.0   \n",
       "1     1001   NaN    NaN    NaN    NaN    NaN    NaN    NaN    NaN    NaN   \n",
       "2     1002   NaN    NaN    NaN    NaN    NaN  117.0  214.0  289.0  206.0   \n",
       "3     1003   NaN    NaN    NaN    NaN    NaN    NaN    NaN  380.0  961.0   \n",
       "4     1004   NaN    NaN    NaN    NaN   35.0  171.0  135.0  137.0  117.0   \n",
       "5     1005  95.0  456.0  606.0  712.0  595.0  612.0  569.0  619.0  479.0   \n",
       "\n",
       "     oct    nov    dec tariff  \n",
       "0  350.0  338.0  333.0  ultra  \n",
       "1    NaN  430.0  414.0  smart  \n",
       "2  212.0  243.0  236.0  smart  \n",
       "3  855.0  824.0  802.0  ultra  \n",
       "4  145.0  117.0  130.0  ultra  \n",
       "5  723.0  547.0  592.0  smart  "
      ]
     },
     "metadata": {},
     "output_type": "display_data"
    },
    {
     "data": {
      "text/html": [
       "<div>\n",
       "<style scoped>\n",
       "    .dataframe tbody tr th:only-of-type {\n",
       "        vertical-align: middle;\n",
       "    }\n",
       "\n",
       "    .dataframe tbody tr th {\n",
       "        vertical-align: top;\n",
       "    }\n",
       "\n",
       "    .dataframe thead th {\n",
       "        text-align: right;\n",
       "    }\n",
       "</style>\n",
       "<table border=\"1\" class=\"dataframe\">\n",
       "  <thead>\n",
       "    <tr style=\"text-align: right;\">\n",
       "      <th></th>\n",
       "      <th>user_id</th>\n",
       "      <th>jan</th>\n",
       "      <th>feb</th>\n",
       "      <th>mar</th>\n",
       "      <th>apr</th>\n",
       "      <th>may</th>\n",
       "      <th>jun</th>\n",
       "      <th>jul</th>\n",
       "      <th>aug</th>\n",
       "      <th>sep</th>\n",
       "      <th>oct</th>\n",
       "      <th>nov</th>\n",
       "      <th>dec</th>\n",
       "      <th>tariff</th>\n",
       "    </tr>\n",
       "  </thead>\n",
       "  <tbody>\n",
       "    <tr>\n",
       "      <td>0</td>\n",
       "      <td>1000</td>\n",
       "      <td>NaN</td>\n",
       "      <td>NaN</td>\n",
       "      <td>NaN</td>\n",
       "      <td>NaN</td>\n",
       "      <td>22.0</td>\n",
       "      <td>60.0</td>\n",
       "      <td>75.0</td>\n",
       "      <td>81.0</td>\n",
       "      <td>57.0</td>\n",
       "      <td>73.0</td>\n",
       "      <td>58.0</td>\n",
       "      <td>70.0</td>\n",
       "      <td>ultra</td>\n",
       "    </tr>\n",
       "    <tr>\n",
       "      <td>1</td>\n",
       "      <td>1002</td>\n",
       "      <td>NaN</td>\n",
       "      <td>NaN</td>\n",
       "      <td>NaN</td>\n",
       "      <td>NaN</td>\n",
       "      <td>NaN</td>\n",
       "      <td>4.0</td>\n",
       "      <td>11.0</td>\n",
       "      <td>13.0</td>\n",
       "      <td>4.0</td>\n",
       "      <td>10.0</td>\n",
       "      <td>16.0</td>\n",
       "      <td>12.0</td>\n",
       "      <td>smart</td>\n",
       "    </tr>\n",
       "    <tr>\n",
       "      <td>2</td>\n",
       "      <td>1003</td>\n",
       "      <td>NaN</td>\n",
       "      <td>NaN</td>\n",
       "      <td>NaN</td>\n",
       "      <td>NaN</td>\n",
       "      <td>NaN</td>\n",
       "      <td>NaN</td>\n",
       "      <td>NaN</td>\n",
       "      <td>37.0</td>\n",
       "      <td>91.0</td>\n",
       "      <td>83.0</td>\n",
       "      <td>94.0</td>\n",
       "      <td>75.0</td>\n",
       "      <td>ultra</td>\n",
       "    </tr>\n",
       "    <tr>\n",
       "      <td>3</td>\n",
       "      <td>1004</td>\n",
       "      <td>NaN</td>\n",
       "      <td>NaN</td>\n",
       "      <td>NaN</td>\n",
       "      <td>NaN</td>\n",
       "      <td>95.0</td>\n",
       "      <td>134.0</td>\n",
       "      <td>181.0</td>\n",
       "      <td>151.0</td>\n",
       "      <td>146.0</td>\n",
       "      <td>165.0</td>\n",
       "      <td>158.0</td>\n",
       "      <td>162.0</td>\n",
       "      <td>ultra</td>\n",
       "    </tr>\n",
       "    <tr>\n",
       "      <td>4</td>\n",
       "      <td>1005</td>\n",
       "      <td>7.0</td>\n",
       "      <td>38.0</td>\n",
       "      <td>56.0</td>\n",
       "      <td>41.0</td>\n",
       "      <td>42.0</td>\n",
       "      <td>47.0</td>\n",
       "      <td>56.0</td>\n",
       "      <td>64.0</td>\n",
       "      <td>52.0</td>\n",
       "      <td>44.0</td>\n",
       "      <td>51.0</td>\n",
       "      <td>54.0</td>\n",
       "      <td>smart</td>\n",
       "    </tr>\n",
       "    <tr>\n",
       "      <td>5</td>\n",
       "      <td>1007</td>\n",
       "      <td>NaN</td>\n",
       "      <td>NaN</td>\n",
       "      <td>NaN</td>\n",
       "      <td>11.0</td>\n",
       "      <td>39.0</td>\n",
       "      <td>26.0</td>\n",
       "      <td>26.0</td>\n",
       "      <td>27.0</td>\n",
       "      <td>31.0</td>\n",
       "      <td>18.0</td>\n",
       "      <td>21.0</td>\n",
       "      <td>26.0</td>\n",
       "      <td>smart</td>\n",
       "    </tr>\n",
       "  </tbody>\n",
       "</table>\n",
       "</div>"
      ],
      "text/plain": [
       "   user_id  jan   feb   mar   apr   may    jun    jul    aug    sep    oct  \\\n",
       "0     1000  NaN   NaN   NaN   NaN  22.0   60.0   75.0   81.0   57.0   73.0   \n",
       "1     1002  NaN   NaN   NaN   NaN   NaN    4.0   11.0   13.0    4.0   10.0   \n",
       "2     1003  NaN   NaN   NaN   NaN   NaN    NaN    NaN   37.0   91.0   83.0   \n",
       "3     1004  NaN   NaN   NaN   NaN  95.0  134.0  181.0  151.0  146.0  165.0   \n",
       "4     1005  7.0  38.0  56.0  41.0  42.0   47.0   56.0   64.0   52.0   44.0   \n",
       "5     1007  NaN   NaN   NaN  11.0  39.0   26.0   26.0   27.0   31.0   18.0   \n",
       "\n",
       "     nov    dec tariff  \n",
       "0   58.0   70.0  ultra  \n",
       "1   16.0   12.0  smart  \n",
       "2   94.0   75.0  ultra  \n",
       "3  158.0  162.0  ultra  \n",
       "4   51.0   54.0  smart  \n",
       "5   21.0   26.0  smart  "
      ]
     },
     "metadata": {},
     "output_type": "display_data"
    },
    {
     "data": {
      "text/html": [
       "<div>\n",
       "<style scoped>\n",
       "    .dataframe tbody tr th:only-of-type {\n",
       "        vertical-align: middle;\n",
       "    }\n",
       "\n",
       "    .dataframe tbody tr th {\n",
       "        vertical-align: top;\n",
       "    }\n",
       "\n",
       "    .dataframe thead th {\n",
       "        text-align: right;\n",
       "    }\n",
       "</style>\n",
       "<table border=\"1\" class=\"dataframe\">\n",
       "  <thead>\n",
       "    <tr style=\"text-align: right;\">\n",
       "      <th></th>\n",
       "      <th>user_id</th>\n",
       "      <th>jan</th>\n",
       "      <th>feb</th>\n",
       "      <th>mar</th>\n",
       "      <th>apr</th>\n",
       "      <th>may</th>\n",
       "      <th>jun</th>\n",
       "      <th>jul</th>\n",
       "      <th>aug</th>\n",
       "      <th>sep</th>\n",
       "      <th>oct</th>\n",
       "      <th>nov</th>\n",
       "      <th>dec</th>\n",
       "      <th>tariff</th>\n",
       "    </tr>\n",
       "  </thead>\n",
       "  <tbody>\n",
       "    <tr>\n",
       "      <td>0</td>\n",
       "      <td>1000</td>\n",
       "      <td>NaN</td>\n",
       "      <td>NaN</td>\n",
       "      <td>NaN</td>\n",
       "      <td>NaN</td>\n",
       "      <td>2253.49</td>\n",
       "      <td>23233.77</td>\n",
       "      <td>14003.64</td>\n",
       "      <td>14055.93</td>\n",
       "      <td>14568.91</td>\n",
       "      <td>14702.49</td>\n",
       "      <td>14756.47</td>\n",
       "      <td>9817.61</td>\n",
       "      <td>ultra</td>\n",
       "    </tr>\n",
       "    <tr>\n",
       "      <td>1</td>\n",
       "      <td>1001</td>\n",
       "      <td>NaN</td>\n",
       "      <td>NaN</td>\n",
       "      <td>NaN</td>\n",
       "      <td>NaN</td>\n",
       "      <td>NaN</td>\n",
       "      <td>NaN</td>\n",
       "      <td>NaN</td>\n",
       "      <td>NaN</td>\n",
       "      <td>NaN</td>\n",
       "      <td>NaN</td>\n",
       "      <td>18429.34</td>\n",
       "      <td>14036.66</td>\n",
       "      <td>smart</td>\n",
       "    </tr>\n",
       "    <tr>\n",
       "      <td>2</td>\n",
       "      <td>1002</td>\n",
       "      <td>NaN</td>\n",
       "      <td>NaN</td>\n",
       "      <td>NaN</td>\n",
       "      <td>NaN</td>\n",
       "      <td>NaN</td>\n",
       "      <td>10856.82</td>\n",
       "      <td>17580.10</td>\n",
       "      <td>20319.26</td>\n",
       "      <td>16691.08</td>\n",
       "      <td>13888.25</td>\n",
       "      <td>18587.28</td>\n",
       "      <td>18113.73</td>\n",
       "      <td>smart</td>\n",
       "    </tr>\n",
       "    <tr>\n",
       "      <td>3</td>\n",
       "      <td>1003</td>\n",
       "      <td>NaN</td>\n",
       "      <td>NaN</td>\n",
       "      <td>NaN</td>\n",
       "      <td>NaN</td>\n",
       "      <td>NaN</td>\n",
       "      <td>NaN</td>\n",
       "      <td>NaN</td>\n",
       "      <td>8565.21</td>\n",
       "      <td>12468.87</td>\n",
       "      <td>14768.14</td>\n",
       "      <td>11356.89</td>\n",
       "      <td>10121.53</td>\n",
       "      <td>ultra</td>\n",
       "    </tr>\n",
       "    <tr>\n",
       "      <td>4</td>\n",
       "      <td>1004</td>\n",
       "      <td>NaN</td>\n",
       "      <td>NaN</td>\n",
       "      <td>NaN</td>\n",
       "      <td>NaN</td>\n",
       "      <td>13403.98</td>\n",
       "      <td>17600.02</td>\n",
       "      <td>22229.58</td>\n",
       "      <td>28584.37</td>\n",
       "      <td>15109.03</td>\n",
       "      <td>18475.44</td>\n",
       "      <td>15616.02</td>\n",
       "      <td>18021.04</td>\n",
       "      <td>ultra</td>\n",
       "    </tr>\n",
       "    <tr>\n",
       "      <td>5</td>\n",
       "      <td>1005</td>\n",
       "      <td>2727.97</td>\n",
       "      <td>7383.93</td>\n",
       "      <td>11104.25</td>\n",
       "      <td>9351.72</td>\n",
       "      <td>7865.53</td>\n",
       "      <td>9863.19</td>\n",
       "      <td>7694.56</td>\n",
       "      <td>7543.63</td>\n",
       "      <td>7016.46</td>\n",
       "      <td>7800.93</td>\n",
       "      <td>12666.95</td>\n",
       "      <td>8668.19</td>\n",
       "      <td>smart</td>\n",
       "    </tr>\n",
       "  </tbody>\n",
       "</table>\n",
       "</div>"
      ],
      "text/plain": [
       "   user_id      jan      feb       mar      apr       may       jun       jul  \\\n",
       "0     1000      NaN      NaN       NaN      NaN   2253.49  23233.77  14003.64   \n",
       "1     1001      NaN      NaN       NaN      NaN       NaN       NaN       NaN   \n",
       "2     1002      NaN      NaN       NaN      NaN       NaN  10856.82  17580.10   \n",
       "3     1003      NaN      NaN       NaN      NaN       NaN       NaN       NaN   \n",
       "4     1004      NaN      NaN       NaN      NaN  13403.98  17600.02  22229.58   \n",
       "5     1005  2727.97  7383.93  11104.25  9351.72   7865.53   9863.19   7694.56   \n",
       "\n",
       "        aug       sep       oct       nov       dec tariff  \n",
       "0  14055.93  14568.91  14702.49  14756.47   9817.61  ultra  \n",
       "1       NaN       NaN       NaN  18429.34  14036.66  smart  \n",
       "2  20319.26  16691.08  13888.25  18587.28  18113.73  smart  \n",
       "3   8565.21  12468.87  14768.14  11356.89  10121.53  ultra  \n",
       "4  28584.37  15109.03  18475.44  15616.02  18021.04  ultra  \n",
       "5   7543.63   7016.46   7800.93  12666.95   8668.19  smart  "
      ]
     },
     "metadata": {},
     "output_type": "display_data"
    }
   ],
   "source": [
    "#Добавим нужные нам данные  в наши таблицы для расчета переплаты\n",
    "#Выделим маленькую таблицу с тарифом\n",
    "user_tariff = users[['user_id', 'tariff']]\n",
    "#проверим, что получилось\n",
    "print(user_tariff.head())\n",
    "print('')\n",
    "\n",
    "#добавим в наши таблицы данные о тарифе\n",
    "minutes_per_month = minutes_per_month.merge(user_tariff, on='user_id', how='right')\n",
    "messages_per_month = messages_per_month.merge(user_tariff, on='user_id', how='right')\n",
    "internet_per_month = internet_per_month.merge(user_tariff, on='user_id', how='right')\n",
    "\n",
    "#Проверим что получилось\n",
    "display(minutes_per_month.head(6))\n",
    "display(messages_per_month.head(6))\n",
    "display(internet_per_month.head(6))\n",
    "\n",
    "#test_minutes_per_month = minutes_per_month.copy()\n",
    "#test_minutes_per_month1 = test_minutes_per_month.merge(user_tariff, on='user_id', how='left')\n",
    "#print(test_minutes_per_month1.info())\n",
    "#test_minutes_per_month1.head()\n",
    "\n",
    "#test_minutes_per_month2 = test_minutes_per_month.merge(user_tariff, on='user_id', how='right')\n",
    "#print(test_minutes_per_month2.info())\n",
    "#test_minutes_per_month2.head(10)"
   ]
  },
  {
   "cell_type": "code",
   "execution_count": 17,
   "metadata": {},
   "outputs": [
    {
     "data": {
      "text/html": [
       "<div>\n",
       "<style scoped>\n",
       "    .dataframe tbody tr th:only-of-type {\n",
       "        vertical-align: middle;\n",
       "    }\n",
       "\n",
       "    .dataframe tbody tr th {\n",
       "        vertical-align: top;\n",
       "    }\n",
       "\n",
       "    .dataframe thead th {\n",
       "        text-align: right;\n",
       "    }\n",
       "</style>\n",
       "<table border=\"1\" class=\"dataframe\">\n",
       "  <thead>\n",
       "    <tr style=\"text-align: right;\">\n",
       "      <th></th>\n",
       "      <th>user_id</th>\n",
       "      <th>jan</th>\n",
       "      <th>feb</th>\n",
       "      <th>mar</th>\n",
       "      <th>apr</th>\n",
       "      <th>may</th>\n",
       "      <th>jun</th>\n",
       "      <th>jul</th>\n",
       "      <th>aug</th>\n",
       "      <th>sep</th>\n",
       "      <th>oct</th>\n",
       "      <th>nov</th>\n",
       "      <th>dec</th>\n",
       "      <th>tariff</th>\n",
       "    </tr>\n",
       "  </thead>\n",
       "  <tbody>\n",
       "    <tr>\n",
       "      <td>0</td>\n",
       "      <td>1000</td>\n",
       "      <td>NaN</td>\n",
       "      <td>NaN</td>\n",
       "      <td>NaN</td>\n",
       "      <td>NaN</td>\n",
       "      <td>0.0</td>\n",
       "      <td>0.0</td>\n",
       "      <td>0.0</td>\n",
       "      <td>0.0</td>\n",
       "      <td>0.0</td>\n",
       "      <td>0.0</td>\n",
       "      <td>0.0</td>\n",
       "      <td>0.0</td>\n",
       "      <td>ultra</td>\n",
       "    </tr>\n",
       "    <tr>\n",
       "      <td>1</td>\n",
       "      <td>1001</td>\n",
       "      <td>NaN</td>\n",
       "      <td>NaN</td>\n",
       "      <td>NaN</td>\n",
       "      <td>NaN</td>\n",
       "      <td>NaN</td>\n",
       "      <td>NaN</td>\n",
       "      <td>NaN</td>\n",
       "      <td>NaN</td>\n",
       "      <td>NaN</td>\n",
       "      <td>NaN</td>\n",
       "      <td>0.0</td>\n",
       "      <td>0.0</td>\n",
       "      <td>smart</td>\n",
       "    </tr>\n",
       "    <tr>\n",
       "      <td>2</td>\n",
       "      <td>1002</td>\n",
       "      <td>NaN</td>\n",
       "      <td>NaN</td>\n",
       "      <td>NaN</td>\n",
       "      <td>NaN</td>\n",
       "      <td>NaN</td>\n",
       "      <td>0.0</td>\n",
       "      <td>0.0</td>\n",
       "      <td>0.0</td>\n",
       "      <td>0.0</td>\n",
       "      <td>0.0</td>\n",
       "      <td>0.0</td>\n",
       "      <td>0.0</td>\n",
       "      <td>smart</td>\n",
       "    </tr>\n",
       "    <tr>\n",
       "      <td>3</td>\n",
       "      <td>1003</td>\n",
       "      <td>NaN</td>\n",
       "      <td>NaN</td>\n",
       "      <td>NaN</td>\n",
       "      <td>NaN</td>\n",
       "      <td>NaN</td>\n",
       "      <td>NaN</td>\n",
       "      <td>NaN</td>\n",
       "      <td>0.0</td>\n",
       "      <td>0.0</td>\n",
       "      <td>0.0</td>\n",
       "      <td>0.0</td>\n",
       "      <td>0.0</td>\n",
       "      <td>ultra</td>\n",
       "    </tr>\n",
       "    <tr>\n",
       "      <td>4</td>\n",
       "      <td>1004</td>\n",
       "      <td>NaN</td>\n",
       "      <td>NaN</td>\n",
       "      <td>NaN</td>\n",
       "      <td>NaN</td>\n",
       "      <td>0.0</td>\n",
       "      <td>0.0</td>\n",
       "      <td>0.0</td>\n",
       "      <td>0.0</td>\n",
       "      <td>0.0</td>\n",
       "      <td>0.0</td>\n",
       "      <td>0.0</td>\n",
       "      <td>0.0</td>\n",
       "      <td>ultra</td>\n",
       "    </tr>\n",
       "    <tr>\n",
       "      <td>5</td>\n",
       "      <td>1005</td>\n",
       "      <td>0.0</td>\n",
       "      <td>0.0</td>\n",
       "      <td>318.0</td>\n",
       "      <td>636.0</td>\n",
       "      <td>285.0</td>\n",
       "      <td>336.0</td>\n",
       "      <td>207.0</td>\n",
       "      <td>357.0</td>\n",
       "      <td>0.0</td>\n",
       "      <td>669.0</td>\n",
       "      <td>141.0</td>\n",
       "      <td>276.0</td>\n",
       "      <td>smart</td>\n",
       "    </tr>\n",
       "    <tr>\n",
       "      <td>6</td>\n",
       "      <td>1006</td>\n",
       "      <td>NaN</td>\n",
       "      <td>0.0</td>\n",
       "      <td>0.0</td>\n",
       "      <td>0.0</td>\n",
       "      <td>0.0</td>\n",
       "      <td>0.0</td>\n",
       "      <td>0.0</td>\n",
       "      <td>0.0</td>\n",
       "      <td>0.0</td>\n",
       "      <td>0.0</td>\n",
       "      <td>0.0</td>\n",
       "      <td>0.0</td>\n",
       "      <td>smart</td>\n",
       "    </tr>\n",
       "    <tr>\n",
       "      <td>7</td>\n",
       "      <td>1007</td>\n",
       "      <td>NaN</td>\n",
       "      <td>NaN</td>\n",
       "      <td>NaN</td>\n",
       "      <td>0.0</td>\n",
       "      <td>0.0</td>\n",
       "      <td>135.0</td>\n",
       "      <td>231.0</td>\n",
       "      <td>0.0</td>\n",
       "      <td>465.0</td>\n",
       "      <td>0.0</td>\n",
       "      <td>240.0</td>\n",
       "      <td>0.0</td>\n",
       "      <td>smart</td>\n",
       "    </tr>\n",
       "    <tr>\n",
       "      <td>8</td>\n",
       "      <td>1008</td>\n",
       "      <td>NaN</td>\n",
       "      <td>NaN</td>\n",
       "      <td>NaN</td>\n",
       "      <td>NaN</td>\n",
       "      <td>NaN</td>\n",
       "      <td>NaN</td>\n",
       "      <td>NaN</td>\n",
       "      <td>NaN</td>\n",
       "      <td>NaN</td>\n",
       "      <td>NaN</td>\n",
       "      <td>NaN</td>\n",
       "      <td>0.0</td>\n",
       "      <td>smart</td>\n",
       "    </tr>\n",
       "    <tr>\n",
       "      <td>9</td>\n",
       "      <td>1009</td>\n",
       "      <td>NaN</td>\n",
       "      <td>NaN</td>\n",
       "      <td>0.0</td>\n",
       "      <td>0.0</td>\n",
       "      <td>0.0</td>\n",
       "      <td>0.0</td>\n",
       "      <td>0.0</td>\n",
       "      <td>0.0</td>\n",
       "      <td>0.0</td>\n",
       "      <td>0.0</td>\n",
       "      <td>0.0</td>\n",
       "      <td>0.0</td>\n",
       "      <td>smart</td>\n",
       "    </tr>\n",
       "  </tbody>\n",
       "</table>\n",
       "</div>"
      ],
      "text/plain": [
       "   user_id  jan  feb    mar    apr    may    jun    jul    aug    sep    oct  \\\n",
       "0     1000  NaN  NaN    NaN    NaN    0.0    0.0    0.0    0.0    0.0    0.0   \n",
       "1     1001  NaN  NaN    NaN    NaN    NaN    NaN    NaN    NaN    NaN    NaN   \n",
       "2     1002  NaN  NaN    NaN    NaN    NaN    0.0    0.0    0.0    0.0    0.0   \n",
       "3     1003  NaN  NaN    NaN    NaN    NaN    NaN    NaN    0.0    0.0    0.0   \n",
       "4     1004  NaN  NaN    NaN    NaN    0.0    0.0    0.0    0.0    0.0    0.0   \n",
       "5     1005  0.0  0.0  318.0  636.0  285.0  336.0  207.0  357.0    0.0  669.0   \n",
       "6     1006  NaN  0.0    0.0    0.0    0.0    0.0    0.0    0.0    0.0    0.0   \n",
       "7     1007  NaN  NaN    NaN    0.0    0.0  135.0  231.0    0.0  465.0    0.0   \n",
       "8     1008  NaN  NaN    NaN    NaN    NaN    NaN    NaN    NaN    NaN    NaN   \n",
       "9     1009  NaN  NaN    0.0    0.0    0.0    0.0    0.0    0.0    0.0    0.0   \n",
       "\n",
       "     nov    dec tariff  \n",
       "0    0.0    0.0  ultra  \n",
       "1    0.0    0.0  smart  \n",
       "2    0.0    0.0  smart  \n",
       "3    0.0    0.0  ultra  \n",
       "4    0.0    0.0  ultra  \n",
       "5  141.0  276.0  smart  \n",
       "6    0.0    0.0  smart  \n",
       "7  240.0    0.0  smart  \n",
       "8    NaN    0.0  smart  \n",
       "9    0.0    0.0  smart  "
      ]
     },
     "execution_count": 17,
     "metadata": {},
     "output_type": "execute_result"
    }
   ],
   "source": [
    "#напишем функцию для определения стоимости лишних звонков. \n",
    "#Округление у нас играет роль фильтра NaN\n",
    "\n",
    "def cash_for_calls (data, month):\n",
    "    if data['tariff'] == 'ultra':\n",
    "        if (data[month] - 3000) <= 0:\n",
    "            return 0\n",
    "        try:\n",
    "            return math.ceil(data[month] - 3000) * 1 \n",
    "        except:\n",
    "            return data[month] #отрабатываем NaN\n",
    "    else:\n",
    "        if (data[month] - 500) <= 0:\n",
    "            return 0\n",
    "        try:\n",
    "            return math.ceil(data[month] - 500) * 3 \n",
    "        except:\n",
    "            return data[month] #отрабатываем NaN\n",
    "\n",
    "        \n",
    "#применим функцию\n",
    "extra_cach_minutes_per_month = minutes_per_month.copy()\n",
    "\n",
    "for i in extra_cach_minutes_per_month.columns[1:13]:\n",
    "    extra_cach_minutes_per_month[i] = extra_cach_minutes_per_month.apply(cash_for_calls, axis=1, month=i)\n",
    "\n",
    "#проверим результат\n",
    "extra_cach_minutes_per_month.head(10)\n",
    "#extra_cach_minutes_per_month.info()"
   ]
  },
  {
   "cell_type": "code",
   "execution_count": 18,
   "metadata": {},
   "outputs": [
    {
     "data": {
      "text/html": [
       "<div>\n",
       "<style scoped>\n",
       "    .dataframe tbody tr th:only-of-type {\n",
       "        vertical-align: middle;\n",
       "    }\n",
       "\n",
       "    .dataframe tbody tr th {\n",
       "        vertical-align: top;\n",
       "    }\n",
       "\n",
       "    .dataframe thead th {\n",
       "        text-align: right;\n",
       "    }\n",
       "</style>\n",
       "<table border=\"1\" class=\"dataframe\">\n",
       "  <thead>\n",
       "    <tr style=\"text-align: right;\">\n",
       "      <th></th>\n",
       "      <th>user_id</th>\n",
       "      <th>jan</th>\n",
       "      <th>feb</th>\n",
       "      <th>mar</th>\n",
       "      <th>apr</th>\n",
       "      <th>may</th>\n",
       "      <th>jun</th>\n",
       "      <th>jul</th>\n",
       "      <th>aug</th>\n",
       "      <th>sep</th>\n",
       "      <th>oct</th>\n",
       "      <th>nov</th>\n",
       "      <th>dec</th>\n",
       "      <th>tariff</th>\n",
       "    </tr>\n",
       "  </thead>\n",
       "  <tbody>\n",
       "    <tr>\n",
       "      <td>0</td>\n",
       "      <td>1000</td>\n",
       "      <td>NaN</td>\n",
       "      <td>NaN</td>\n",
       "      <td>NaN</td>\n",
       "      <td>NaN</td>\n",
       "      <td>0.0</td>\n",
       "      <td>0.0</td>\n",
       "      <td>0.0</td>\n",
       "      <td>0.0</td>\n",
       "      <td>0.0</td>\n",
       "      <td>0.0</td>\n",
       "      <td>0.0</td>\n",
       "      <td>0.0</td>\n",
       "      <td>ultra</td>\n",
       "    </tr>\n",
       "    <tr>\n",
       "      <td>1</td>\n",
       "      <td>1002</td>\n",
       "      <td>NaN</td>\n",
       "      <td>NaN</td>\n",
       "      <td>NaN</td>\n",
       "      <td>NaN</td>\n",
       "      <td>NaN</td>\n",
       "      <td>0.0</td>\n",
       "      <td>0.0</td>\n",
       "      <td>0.0</td>\n",
       "      <td>0.0</td>\n",
       "      <td>0.0</td>\n",
       "      <td>0.0</td>\n",
       "      <td>0.0</td>\n",
       "      <td>smart</td>\n",
       "    </tr>\n",
       "    <tr>\n",
       "      <td>2</td>\n",
       "      <td>1003</td>\n",
       "      <td>NaN</td>\n",
       "      <td>NaN</td>\n",
       "      <td>NaN</td>\n",
       "      <td>NaN</td>\n",
       "      <td>NaN</td>\n",
       "      <td>NaN</td>\n",
       "      <td>NaN</td>\n",
       "      <td>0.0</td>\n",
       "      <td>0.0</td>\n",
       "      <td>0.0</td>\n",
       "      <td>0.0</td>\n",
       "      <td>0.0</td>\n",
       "      <td>ultra</td>\n",
       "    </tr>\n",
       "    <tr>\n",
       "      <td>3</td>\n",
       "      <td>1004</td>\n",
       "      <td>NaN</td>\n",
       "      <td>NaN</td>\n",
       "      <td>NaN</td>\n",
       "      <td>NaN</td>\n",
       "      <td>0.0</td>\n",
       "      <td>0.0</td>\n",
       "      <td>0.0</td>\n",
       "      <td>0.0</td>\n",
       "      <td>0.0</td>\n",
       "      <td>0.0</td>\n",
       "      <td>0.0</td>\n",
       "      <td>0.0</td>\n",
       "      <td>ultra</td>\n",
       "    </tr>\n",
       "    <tr>\n",
       "      <td>4</td>\n",
       "      <td>1005</td>\n",
       "      <td>0.0</td>\n",
       "      <td>0.0</td>\n",
       "      <td>18.0</td>\n",
       "      <td>0.0</td>\n",
       "      <td>0.0</td>\n",
       "      <td>0.0</td>\n",
       "      <td>18.0</td>\n",
       "      <td>42.0</td>\n",
       "      <td>6.0</td>\n",
       "      <td>0.0</td>\n",
       "      <td>3.0</td>\n",
       "      <td>12.0</td>\n",
       "      <td>smart</td>\n",
       "    </tr>\n",
       "    <tr>\n",
       "      <td>5</td>\n",
       "      <td>1007</td>\n",
       "      <td>NaN</td>\n",
       "      <td>NaN</td>\n",
       "      <td>NaN</td>\n",
       "      <td>0.0</td>\n",
       "      <td>0.0</td>\n",
       "      <td>0.0</td>\n",
       "      <td>0.0</td>\n",
       "      <td>0.0</td>\n",
       "      <td>0.0</td>\n",
       "      <td>0.0</td>\n",
       "      <td>0.0</td>\n",
       "      <td>0.0</td>\n",
       "      <td>smart</td>\n",
       "    </tr>\n",
       "    <tr>\n",
       "      <td>6</td>\n",
       "      <td>1008</td>\n",
       "      <td>NaN</td>\n",
       "      <td>NaN</td>\n",
       "      <td>NaN</td>\n",
       "      <td>NaN</td>\n",
       "      <td>NaN</td>\n",
       "      <td>NaN</td>\n",
       "      <td>NaN</td>\n",
       "      <td>NaN</td>\n",
       "      <td>NaN</td>\n",
       "      <td>NaN</td>\n",
       "      <td>NaN</td>\n",
       "      <td>18.0</td>\n",
       "      <td>smart</td>\n",
       "    </tr>\n",
       "    <tr>\n",
       "      <td>7</td>\n",
       "      <td>1009</td>\n",
       "      <td>NaN</td>\n",
       "      <td>NaN</td>\n",
       "      <td>0.0</td>\n",
       "      <td>0.0</td>\n",
       "      <td>0.0</td>\n",
       "      <td>0.0</td>\n",
       "      <td>0.0</td>\n",
       "      <td>0.0</td>\n",
       "      <td>0.0</td>\n",
       "      <td>0.0</td>\n",
       "      <td>0.0</td>\n",
       "      <td>0.0</td>\n",
       "      <td>smart</td>\n",
       "    </tr>\n",
       "    <tr>\n",
       "      <td>8</td>\n",
       "      <td>1011</td>\n",
       "      <td>NaN</td>\n",
       "      <td>NaN</td>\n",
       "      <td>0.0</td>\n",
       "      <td>0.0</td>\n",
       "      <td>0.0</td>\n",
       "      <td>0.0</td>\n",
       "      <td>0.0</td>\n",
       "      <td>0.0</td>\n",
       "      <td>0.0</td>\n",
       "      <td>0.0</td>\n",
       "      <td>0.0</td>\n",
       "      <td>0.0</td>\n",
       "      <td>smart</td>\n",
       "    </tr>\n",
       "    <tr>\n",
       "      <td>9</td>\n",
       "      <td>1012</td>\n",
       "      <td>NaN</td>\n",
       "      <td>NaN</td>\n",
       "      <td>0.0</td>\n",
       "      <td>0.0</td>\n",
       "      <td>0.0</td>\n",
       "      <td>0.0</td>\n",
       "      <td>0.0</td>\n",
       "      <td>0.0</td>\n",
       "      <td>0.0</td>\n",
       "      <td>0.0</td>\n",
       "      <td>0.0</td>\n",
       "      <td>0.0</td>\n",
       "      <td>smart</td>\n",
       "    </tr>\n",
       "  </tbody>\n",
       "</table>\n",
       "</div>"
      ],
      "text/plain": [
       "   user_id  jan  feb   mar  apr  may  jun   jul   aug  sep  oct  nov   dec  \\\n",
       "0     1000  NaN  NaN   NaN  NaN  0.0  0.0   0.0   0.0  0.0  0.0  0.0   0.0   \n",
       "1     1002  NaN  NaN   NaN  NaN  NaN  0.0   0.0   0.0  0.0  0.0  0.0   0.0   \n",
       "2     1003  NaN  NaN   NaN  NaN  NaN  NaN   NaN   0.0  0.0  0.0  0.0   0.0   \n",
       "3     1004  NaN  NaN   NaN  NaN  0.0  0.0   0.0   0.0  0.0  0.0  0.0   0.0   \n",
       "4     1005  0.0  0.0  18.0  0.0  0.0  0.0  18.0  42.0  6.0  0.0  3.0  12.0   \n",
       "5     1007  NaN  NaN   NaN  0.0  0.0  0.0   0.0   0.0  0.0  0.0  0.0   0.0   \n",
       "6     1008  NaN  NaN   NaN  NaN  NaN  NaN   NaN   NaN  NaN  NaN  NaN  18.0   \n",
       "7     1009  NaN  NaN   0.0  0.0  0.0  0.0   0.0   0.0  0.0  0.0  0.0   0.0   \n",
       "8     1011  NaN  NaN   0.0  0.0  0.0  0.0   0.0   0.0  0.0  0.0  0.0   0.0   \n",
       "9     1012  NaN  NaN   0.0  0.0  0.0  0.0   0.0   0.0  0.0  0.0  0.0   0.0   \n",
       "\n",
       "  tariff  \n",
       "0  ultra  \n",
       "1  smart  \n",
       "2  ultra  \n",
       "3  ultra  \n",
       "4  smart  \n",
       "5  smart  \n",
       "6  smart  \n",
       "7  smart  \n",
       "8  smart  \n",
       "9  smart  "
      ]
     },
     "execution_count": 18,
     "metadata": {},
     "output_type": "execute_result"
    }
   ],
   "source": [
    "#напишем функцию для определения стоимости лишних SMS\n",
    "\n",
    "def cash_for_messages (data, month):\n",
    "    if data['tariff'] == 'ultra':\n",
    "        if (data[month] - 1000) <= 0:\n",
    "            return 0\n",
    "        try:\n",
    "            return math.ceil(data[month] - 1000) * 1 \n",
    "        except:\n",
    "            return data[month] #отрабатываем NaN\n",
    "    else:\n",
    "        if (data[month] - 50) <= 0:\n",
    "            return 0\n",
    "        try:\n",
    "            return math.ceil(data[month] - 50) * 3 \n",
    "        except:\n",
    "            return data[month] #отрабатываем NaN\n",
    "\n",
    "        \n",
    "#применим функцию\n",
    "extra_cach_messages_per_month = messages_per_month.copy()\n",
    "\n",
    "for i in extra_cach_messages_per_month.columns[1:13]:\n",
    "    extra_cach_messages_per_month[i] = extra_cach_messages_per_month.apply(cash_for_messages, axis=1, month=i)\n",
    "\n",
    "#проверим результат\n",
    "extra_cach_messages_per_month.head(10)"
   ]
  },
  {
   "cell_type": "code",
   "execution_count": 19,
   "metadata": {},
   "outputs": [
    {
     "data": {
      "text/html": [
       "<div>\n",
       "<style scoped>\n",
       "    .dataframe tbody tr th:only-of-type {\n",
       "        vertical-align: middle;\n",
       "    }\n",
       "\n",
       "    .dataframe tbody tr th {\n",
       "        vertical-align: top;\n",
       "    }\n",
       "\n",
       "    .dataframe thead th {\n",
       "        text-align: right;\n",
       "    }\n",
       "</style>\n",
       "<table border=\"1\" class=\"dataframe\">\n",
       "  <thead>\n",
       "    <tr style=\"text-align: right;\">\n",
       "      <th></th>\n",
       "      <th>user_id</th>\n",
       "      <th>jan</th>\n",
       "      <th>feb</th>\n",
       "      <th>mar</th>\n",
       "      <th>apr</th>\n",
       "      <th>may</th>\n",
       "      <th>jun</th>\n",
       "      <th>jul</th>\n",
       "      <th>aug</th>\n",
       "      <th>sep</th>\n",
       "      <th>oct</th>\n",
       "      <th>nov</th>\n",
       "      <th>dec</th>\n",
       "      <th>tariff</th>\n",
       "    </tr>\n",
       "  </thead>\n",
       "  <tbody>\n",
       "    <tr>\n",
       "      <td>0</td>\n",
       "      <td>1000</td>\n",
       "      <td>NaN</td>\n",
       "      <td>NaN</td>\n",
       "      <td>NaN</td>\n",
       "      <td>NaN</td>\n",
       "      <td>0.0</td>\n",
       "      <td>0.0</td>\n",
       "      <td>0.0</td>\n",
       "      <td>0.0</td>\n",
       "      <td>0.0</td>\n",
       "      <td>0.0</td>\n",
       "      <td>0.0</td>\n",
       "      <td>0.0</td>\n",
       "      <td>ultra</td>\n",
       "    </tr>\n",
       "    <tr>\n",
       "      <td>1</td>\n",
       "      <td>1001</td>\n",
       "      <td>NaN</td>\n",
       "      <td>NaN</td>\n",
       "      <td>NaN</td>\n",
       "      <td>NaN</td>\n",
       "      <td>NaN</td>\n",
       "      <td>NaN</td>\n",
       "      <td>NaN</td>\n",
       "      <td>NaN</td>\n",
       "      <td>NaN</td>\n",
       "      <td>NaN</td>\n",
       "      <td>600.0</td>\n",
       "      <td>0.0</td>\n",
       "      <td>smart</td>\n",
       "    </tr>\n",
       "    <tr>\n",
       "      <td>2</td>\n",
       "      <td>1002</td>\n",
       "      <td>NaN</td>\n",
       "      <td>NaN</td>\n",
       "      <td>NaN</td>\n",
       "      <td>NaN</td>\n",
       "      <td>NaN</td>\n",
       "      <td>0.0</td>\n",
       "      <td>600.0</td>\n",
       "      <td>1000.0</td>\n",
       "      <td>400.0</td>\n",
       "      <td>0.0</td>\n",
       "      <td>800.0</td>\n",
       "      <td>600.0</td>\n",
       "      <td>smart</td>\n",
       "    </tr>\n",
       "    <tr>\n",
       "      <td>3</td>\n",
       "      <td>1003</td>\n",
       "      <td>NaN</td>\n",
       "      <td>NaN</td>\n",
       "      <td>NaN</td>\n",
       "      <td>NaN</td>\n",
       "      <td>NaN</td>\n",
       "      <td>NaN</td>\n",
       "      <td>NaN</td>\n",
       "      <td>0.0</td>\n",
       "      <td>0.0</td>\n",
       "      <td>0.0</td>\n",
       "      <td>0.0</td>\n",
       "      <td>0.0</td>\n",
       "      <td>ultra</td>\n",
       "    </tr>\n",
       "    <tr>\n",
       "      <td>4</td>\n",
       "      <td>1004</td>\n",
       "      <td>NaN</td>\n",
       "      <td>NaN</td>\n",
       "      <td>NaN</td>\n",
       "      <td>NaN</td>\n",
       "      <td>0.0</td>\n",
       "      <td>0.0</td>\n",
       "      <td>0.0</td>\n",
       "      <td>0.0</td>\n",
       "      <td>0.0</td>\n",
       "      <td>0.0</td>\n",
       "      <td>0.0</td>\n",
       "      <td>0.0</td>\n",
       "      <td>ultra</td>\n",
       "    </tr>\n",
       "    <tr>\n",
       "      <td>5</td>\n",
       "      <td>1005</td>\n",
       "      <td>0.0</td>\n",
       "      <td>0.0</td>\n",
       "      <td>0.0</td>\n",
       "      <td>0.0</td>\n",
       "      <td>0.0</td>\n",
       "      <td>0.0</td>\n",
       "      <td>0.0</td>\n",
       "      <td>0.0</td>\n",
       "      <td>0.0</td>\n",
       "      <td>0.0</td>\n",
       "      <td>0.0</td>\n",
       "      <td>0.0</td>\n",
       "      <td>smart</td>\n",
       "    </tr>\n",
       "    <tr>\n",
       "      <td>6</td>\n",
       "      <td>1006</td>\n",
       "      <td>NaN</td>\n",
       "      <td>0.0</td>\n",
       "      <td>400.0</td>\n",
       "      <td>0.0</td>\n",
       "      <td>0.0</td>\n",
       "      <td>0.0</td>\n",
       "      <td>1000.0</td>\n",
       "      <td>800.0</td>\n",
       "      <td>200.0</td>\n",
       "      <td>1000.0</td>\n",
       "      <td>0.0</td>\n",
       "      <td>800.0</td>\n",
       "      <td>smart</td>\n",
       "    </tr>\n",
       "    <tr>\n",
       "      <td>7</td>\n",
       "      <td>1007</td>\n",
       "      <td>NaN</td>\n",
       "      <td>NaN</td>\n",
       "      <td>NaN</td>\n",
       "      <td>0.0</td>\n",
       "      <td>600.0</td>\n",
       "      <td>0.0</td>\n",
       "      <td>200.0</td>\n",
       "      <td>1200.0</td>\n",
       "      <td>0.0</td>\n",
       "      <td>0.0</td>\n",
       "      <td>200.0</td>\n",
       "      <td>0.0</td>\n",
       "      <td>smart</td>\n",
       "    </tr>\n",
       "    <tr>\n",
       "      <td>8</td>\n",
       "      <td>1008</td>\n",
       "      <td>NaN</td>\n",
       "      <td>NaN</td>\n",
       "      <td>NaN</td>\n",
       "      <td>NaN</td>\n",
       "      <td>NaN</td>\n",
       "      <td>NaN</td>\n",
       "      <td>NaN</td>\n",
       "      <td>NaN</td>\n",
       "      <td>NaN</td>\n",
       "      <td>NaN</td>\n",
       "      <td>NaN</td>\n",
       "      <td>0.0</td>\n",
       "      <td>smart</td>\n",
       "    </tr>\n",
       "    <tr>\n",
       "      <td>9</td>\n",
       "      <td>1009</td>\n",
       "      <td>NaN</td>\n",
       "      <td>NaN</td>\n",
       "      <td>0.0</td>\n",
       "      <td>0.0</td>\n",
       "      <td>0.0</td>\n",
       "      <td>200.0</td>\n",
       "      <td>2000.0</td>\n",
       "      <td>1800.0</td>\n",
       "      <td>1400.0</td>\n",
       "      <td>1000.0</td>\n",
       "      <td>400.0</td>\n",
       "      <td>800.0</td>\n",
       "      <td>smart</td>\n",
       "    </tr>\n",
       "  </tbody>\n",
       "</table>\n",
       "</div>"
      ],
      "text/plain": [
       "   user_id  jan  feb    mar  apr    may    jun     jul     aug     sep  \\\n",
       "0     1000  NaN  NaN    NaN  NaN    0.0    0.0     0.0     0.0     0.0   \n",
       "1     1001  NaN  NaN    NaN  NaN    NaN    NaN     NaN     NaN     NaN   \n",
       "2     1002  NaN  NaN    NaN  NaN    NaN    0.0   600.0  1000.0   400.0   \n",
       "3     1003  NaN  NaN    NaN  NaN    NaN    NaN     NaN     0.0     0.0   \n",
       "4     1004  NaN  NaN    NaN  NaN    0.0    0.0     0.0     0.0     0.0   \n",
       "5     1005  0.0  0.0    0.0  0.0    0.0    0.0     0.0     0.0     0.0   \n",
       "6     1006  NaN  0.0  400.0  0.0    0.0    0.0  1000.0   800.0   200.0   \n",
       "7     1007  NaN  NaN    NaN  0.0  600.0    0.0   200.0  1200.0     0.0   \n",
       "8     1008  NaN  NaN    NaN  NaN    NaN    NaN     NaN     NaN     NaN   \n",
       "9     1009  NaN  NaN    0.0  0.0    0.0  200.0  2000.0  1800.0  1400.0   \n",
       "\n",
       "      oct    nov    dec tariff  \n",
       "0     0.0    0.0    0.0  ultra  \n",
       "1     NaN  600.0    0.0  smart  \n",
       "2     0.0  800.0  600.0  smart  \n",
       "3     0.0    0.0    0.0  ultra  \n",
       "4     0.0    0.0    0.0  ultra  \n",
       "5     0.0    0.0    0.0  smart  \n",
       "6  1000.0    0.0  800.0  smart  \n",
       "7     0.0  200.0    0.0  smart  \n",
       "8     NaN    NaN    0.0  smart  \n",
       "9  1000.0  400.0  800.0  smart  "
      ]
     },
     "execution_count": 19,
     "metadata": {},
     "output_type": "execute_result"
    }
   ],
   "source": [
    "#напишем функцию для определения стоимости лишних гигабайт\n",
    "\n",
    "def cash_for_internet (data, month):\n",
    "    if data['tariff'] == 'ultra':\n",
    "        if (data[month] - 30720) <= 0:\n",
    "            return 0\n",
    "        try:\n",
    "            return math.ceil((data[month] - 30720)/1024) * 150 \n",
    "        except:\n",
    "            return data[month] #отрабатываем NaN\n",
    "    else:\n",
    "        if (data[month] - 15360) <= 0:\n",
    "            return 0\n",
    "        try:\n",
    "            return math.ceil((data[month] - 15360)/1024) * 200 \n",
    "        except:\n",
    "            return data[month] #отрабатываем NaN\n",
    "\n",
    "        \n",
    "#применим функцию\n",
    "extra_cach_internet_per_month = internet_per_month.copy()\n",
    "\n",
    "for i in extra_cach_internet_per_month.columns[1:13]:\n",
    "    extra_cach_internet_per_month[i] = extra_cach_internet_per_month.apply(cash_for_internet, axis=1, month=i)\n",
    "\n",
    "#проверим результат\n",
    "extra_cach_internet_per_month.head(10)"
   ]
  },
  {
   "cell_type": "markdown",
   "metadata": {},
   "source": [
    "Нам можно проводить итоговое складывание и добавить абонентскую плату, но поскольку это удобно делать через user_id проверим этот столбец.\n",
    "Часть пользователей использовала только звонки, часть только сообщения, часть только интернет. возможно это повлияло на их сортировку. Проверим например на таблице сообщений:"
   ]
  },
  {
   "cell_type": "code",
   "execution_count": 20,
   "metadata": {},
   "outputs": [
    {
     "data": {
      "text/html": [
       "<div>\n",
       "<style scoped>\n",
       "    .dataframe tbody tr th:only-of-type {\n",
       "        vertical-align: middle;\n",
       "    }\n",
       "\n",
       "    .dataframe tbody tr th {\n",
       "        vertical-align: top;\n",
       "    }\n",
       "\n",
       "    .dataframe thead th {\n",
       "        text-align: right;\n",
       "    }\n",
       "</style>\n",
       "<table border=\"1\" class=\"dataframe\">\n",
       "  <thead>\n",
       "    <tr style=\"text-align: right;\">\n",
       "      <th></th>\n",
       "      <th>user_id</th>\n",
       "      <th>jan</th>\n",
       "      <th>feb</th>\n",
       "      <th>mar</th>\n",
       "      <th>apr</th>\n",
       "      <th>may</th>\n",
       "      <th>jun</th>\n",
       "      <th>jul</th>\n",
       "      <th>aug</th>\n",
       "      <th>sep</th>\n",
       "      <th>oct</th>\n",
       "      <th>nov</th>\n",
       "      <th>dec</th>\n",
       "      <th>tariff</th>\n",
       "    </tr>\n",
       "  </thead>\n",
       "  <tbody>\n",
       "    <tr>\n",
       "      <td>0</td>\n",
       "      <td>1000</td>\n",
       "      <td>NaN</td>\n",
       "      <td>NaN</td>\n",
       "      <td>NaN</td>\n",
       "      <td>NaN</td>\n",
       "      <td>0.0</td>\n",
       "      <td>0.0</td>\n",
       "      <td>0.0</td>\n",
       "      <td>0.0</td>\n",
       "      <td>0.0</td>\n",
       "      <td>0.0</td>\n",
       "      <td>0.0</td>\n",
       "      <td>0.0</td>\n",
       "      <td>ultra</td>\n",
       "    </tr>\n",
       "    <tr>\n",
       "      <td>1</td>\n",
       "      <td>1002</td>\n",
       "      <td>NaN</td>\n",
       "      <td>NaN</td>\n",
       "      <td>NaN</td>\n",
       "      <td>NaN</td>\n",
       "      <td>NaN</td>\n",
       "      <td>0.0</td>\n",
       "      <td>0.0</td>\n",
       "      <td>0.0</td>\n",
       "      <td>0.0</td>\n",
       "      <td>0.0</td>\n",
       "      <td>0.0</td>\n",
       "      <td>0.0</td>\n",
       "      <td>smart</td>\n",
       "    </tr>\n",
       "    <tr>\n",
       "      <td>2</td>\n",
       "      <td>1003</td>\n",
       "      <td>NaN</td>\n",
       "      <td>NaN</td>\n",
       "      <td>NaN</td>\n",
       "      <td>NaN</td>\n",
       "      <td>NaN</td>\n",
       "      <td>NaN</td>\n",
       "      <td>NaN</td>\n",
       "      <td>0.0</td>\n",
       "      <td>0.0</td>\n",
       "      <td>0.0</td>\n",
       "      <td>0.0</td>\n",
       "      <td>0.0</td>\n",
       "      <td>ultra</td>\n",
       "    </tr>\n",
       "    <tr>\n",
       "      <td>3</td>\n",
       "      <td>1004</td>\n",
       "      <td>NaN</td>\n",
       "      <td>NaN</td>\n",
       "      <td>NaN</td>\n",
       "      <td>NaN</td>\n",
       "      <td>0.0</td>\n",
       "      <td>0.0</td>\n",
       "      <td>0.0</td>\n",
       "      <td>0.0</td>\n",
       "      <td>0.0</td>\n",
       "      <td>0.0</td>\n",
       "      <td>0.0</td>\n",
       "      <td>0.0</td>\n",
       "      <td>ultra</td>\n",
       "    </tr>\n",
       "    <tr>\n",
       "      <td>4</td>\n",
       "      <td>1005</td>\n",
       "      <td>0.0</td>\n",
       "      <td>0.0</td>\n",
       "      <td>18.0</td>\n",
       "      <td>0.0</td>\n",
       "      <td>0.0</td>\n",
       "      <td>0.0</td>\n",
       "      <td>18.0</td>\n",
       "      <td>42.0</td>\n",
       "      <td>6.0</td>\n",
       "      <td>0.0</td>\n",
       "      <td>3.0</td>\n",
       "      <td>12.0</td>\n",
       "      <td>smart</td>\n",
       "    </tr>\n",
       "    <tr>\n",
       "      <td>5</td>\n",
       "      <td>1007</td>\n",
       "      <td>NaN</td>\n",
       "      <td>NaN</td>\n",
       "      <td>NaN</td>\n",
       "      <td>0.0</td>\n",
       "      <td>0.0</td>\n",
       "      <td>0.0</td>\n",
       "      <td>0.0</td>\n",
       "      <td>0.0</td>\n",
       "      <td>0.0</td>\n",
       "      <td>0.0</td>\n",
       "      <td>0.0</td>\n",
       "      <td>0.0</td>\n",
       "      <td>smart</td>\n",
       "    </tr>\n",
       "    <tr>\n",
       "      <td>6</td>\n",
       "      <td>1008</td>\n",
       "      <td>NaN</td>\n",
       "      <td>NaN</td>\n",
       "      <td>NaN</td>\n",
       "      <td>NaN</td>\n",
       "      <td>NaN</td>\n",
       "      <td>NaN</td>\n",
       "      <td>NaN</td>\n",
       "      <td>NaN</td>\n",
       "      <td>NaN</td>\n",
       "      <td>NaN</td>\n",
       "      <td>NaN</td>\n",
       "      <td>18.0</td>\n",
       "      <td>smart</td>\n",
       "    </tr>\n",
       "    <tr>\n",
       "      <td>7</td>\n",
       "      <td>1009</td>\n",
       "      <td>NaN</td>\n",
       "      <td>NaN</td>\n",
       "      <td>0.0</td>\n",
       "      <td>0.0</td>\n",
       "      <td>0.0</td>\n",
       "      <td>0.0</td>\n",
       "      <td>0.0</td>\n",
       "      <td>0.0</td>\n",
       "      <td>0.0</td>\n",
       "      <td>0.0</td>\n",
       "      <td>0.0</td>\n",
       "      <td>0.0</td>\n",
       "      <td>smart</td>\n",
       "    </tr>\n",
       "    <tr>\n",
       "      <td>8</td>\n",
       "      <td>1011</td>\n",
       "      <td>NaN</td>\n",
       "      <td>NaN</td>\n",
       "      <td>0.0</td>\n",
       "      <td>0.0</td>\n",
       "      <td>0.0</td>\n",
       "      <td>0.0</td>\n",
       "      <td>0.0</td>\n",
       "      <td>0.0</td>\n",
       "      <td>0.0</td>\n",
       "      <td>0.0</td>\n",
       "      <td>0.0</td>\n",
       "      <td>0.0</td>\n",
       "      <td>smart</td>\n",
       "    </tr>\n",
       "    <tr>\n",
       "      <td>9</td>\n",
       "      <td>1012</td>\n",
       "      <td>NaN</td>\n",
       "      <td>NaN</td>\n",
       "      <td>0.0</td>\n",
       "      <td>0.0</td>\n",
       "      <td>0.0</td>\n",
       "      <td>0.0</td>\n",
       "      <td>0.0</td>\n",
       "      <td>0.0</td>\n",
       "      <td>0.0</td>\n",
       "      <td>0.0</td>\n",
       "      <td>0.0</td>\n",
       "      <td>0.0</td>\n",
       "      <td>smart</td>\n",
       "    </tr>\n",
       "  </tbody>\n",
       "</table>\n",
       "</div>"
      ],
      "text/plain": [
       "   user_id  jan  feb   mar  apr  may  jun   jul   aug  sep  oct  nov   dec  \\\n",
       "0     1000  NaN  NaN   NaN  NaN  0.0  0.0   0.0   0.0  0.0  0.0  0.0   0.0   \n",
       "1     1002  NaN  NaN   NaN  NaN  NaN  0.0   0.0   0.0  0.0  0.0  0.0   0.0   \n",
       "2     1003  NaN  NaN   NaN  NaN  NaN  NaN   NaN   0.0  0.0  0.0  0.0   0.0   \n",
       "3     1004  NaN  NaN   NaN  NaN  0.0  0.0   0.0   0.0  0.0  0.0  0.0   0.0   \n",
       "4     1005  0.0  0.0  18.0  0.0  0.0  0.0  18.0  42.0  6.0  0.0  3.0  12.0   \n",
       "5     1007  NaN  NaN   NaN  0.0  0.0  0.0   0.0   0.0  0.0  0.0  0.0   0.0   \n",
       "6     1008  NaN  NaN   NaN  NaN  NaN  NaN   NaN   NaN  NaN  NaN  NaN  18.0   \n",
       "7     1009  NaN  NaN   0.0  0.0  0.0  0.0   0.0   0.0  0.0  0.0  0.0   0.0   \n",
       "8     1011  NaN  NaN   0.0  0.0  0.0  0.0   0.0   0.0  0.0  0.0  0.0   0.0   \n",
       "9     1012  NaN  NaN   0.0  0.0  0.0  0.0   0.0   0.0  0.0  0.0  0.0   0.0   \n",
       "\n",
       "  tariff  \n",
       "0  ultra  \n",
       "1  smart  \n",
       "2  ultra  \n",
       "3  ultra  \n",
       "4  smart  \n",
       "5  smart  \n",
       "6  smart  \n",
       "7  smart  \n",
       "8  smart  \n",
       "9  smart  "
      ]
     },
     "execution_count": 20,
     "metadata": {},
     "output_type": "execute_result"
    }
   ],
   "source": [
    "extra_cach_messages_per_month.head(10)"
   ]
  },
  {
   "cell_type": "markdown",
   "metadata": {},
   "source": [
    "Нет к примеру 1001 и 1006 пользователей. Посмотрим, что с ними :-)"
   ]
  },
  {
   "cell_type": "code",
   "execution_count": 21,
   "metadata": {},
   "outputs": [
    {
     "data": {
      "text/html": [
       "<div>\n",
       "<style scoped>\n",
       "    .dataframe tbody tr th:only-of-type {\n",
       "        vertical-align: middle;\n",
       "    }\n",
       "\n",
       "    .dataframe tbody tr th {\n",
       "        vertical-align: top;\n",
       "    }\n",
       "\n",
       "    .dataframe thead th {\n",
       "        text-align: right;\n",
       "    }\n",
       "</style>\n",
       "<table border=\"1\" class=\"dataframe\">\n",
       "  <thead>\n",
       "    <tr style=\"text-align: right;\">\n",
       "      <th></th>\n",
       "      <th>user_id</th>\n",
       "      <th>jan</th>\n",
       "      <th>feb</th>\n",
       "      <th>mar</th>\n",
       "      <th>apr</th>\n",
       "      <th>may</th>\n",
       "      <th>jun</th>\n",
       "      <th>jul</th>\n",
       "      <th>aug</th>\n",
       "      <th>sep</th>\n",
       "      <th>oct</th>\n",
       "      <th>nov</th>\n",
       "      <th>dec</th>\n",
       "      <th>tariff</th>\n",
       "    </tr>\n",
       "  </thead>\n",
       "  <tbody>\n",
       "    <tr>\n",
       "      <td>426</td>\n",
       "      <td>1001</td>\n",
       "      <td>NaN</td>\n",
       "      <td>NaN</td>\n",
       "      <td>NaN</td>\n",
       "      <td>NaN</td>\n",
       "      <td>NaN</td>\n",
       "      <td>NaN</td>\n",
       "      <td>NaN</td>\n",
       "      <td>NaN</td>\n",
       "      <td>NaN</td>\n",
       "      <td>NaN</td>\n",
       "      <td>NaN</td>\n",
       "      <td>NaN</td>\n",
       "      <td>smart</td>\n",
       "    </tr>\n",
       "  </tbody>\n",
       "</table>\n",
       "</div>"
      ],
      "text/plain": [
       "     user_id  jan  feb  mar  apr  may  jun  jul  aug  sep  oct  nov  dec  \\\n",
       "426     1001  NaN  NaN  NaN  NaN  NaN  NaN  NaN  NaN  NaN  NaN  NaN  NaN   \n",
       "\n",
       "    tariff  \n",
       "426  smart  "
      ]
     },
     "execution_count": 21,
     "metadata": {},
     "output_type": "execute_result"
    }
   ],
   "source": [
    "extra_cach_messages_per_month.query('user_id == 1001')"
   ]
  },
  {
   "cell_type": "markdown",
   "metadata": {},
   "source": [
    "Похоже он не посылал сообщений. Проверим его по тариф по таблице пользователей"
   ]
  },
  {
   "cell_type": "code",
   "execution_count": 22,
   "metadata": {},
   "outputs": [
    {
     "data": {
      "text/html": [
       "<div>\n",
       "<style scoped>\n",
       "    .dataframe tbody tr th:only-of-type {\n",
       "        vertical-align: middle;\n",
       "    }\n",
       "\n",
       "    .dataframe tbody tr th {\n",
       "        vertical-align: top;\n",
       "    }\n",
       "\n",
       "    .dataframe thead th {\n",
       "        text-align: right;\n",
       "    }\n",
       "</style>\n",
       "<table border=\"1\" class=\"dataframe\">\n",
       "  <thead>\n",
       "    <tr style=\"text-align: right;\">\n",
       "      <th></th>\n",
       "      <th>user_id</th>\n",
       "      <th>age</th>\n",
       "      <th>churn_date</th>\n",
       "      <th>city</th>\n",
       "      <th>first_name</th>\n",
       "      <th>last_name</th>\n",
       "      <th>reg_date</th>\n",
       "      <th>tariff</th>\n",
       "      <th>churn_month</th>\n",
       "      <th>reg_month</th>\n",
       "      <th>tariff_ind</th>\n",
       "    </tr>\n",
       "  </thead>\n",
       "  <tbody>\n",
       "    <tr>\n",
       "      <td>1</td>\n",
       "      <td>1001</td>\n",
       "      <td>41</td>\n",
       "      <td>2018-12-31</td>\n",
       "      <td>Москва</td>\n",
       "      <td>Иван</td>\n",
       "      <td>Ежов</td>\n",
       "      <td>2018-11-01</td>\n",
       "      <td>smart</td>\n",
       "      <td>12</td>\n",
       "      <td>11</td>\n",
       "      <td>0</td>\n",
       "    </tr>\n",
       "  </tbody>\n",
       "</table>\n",
       "</div>"
      ],
      "text/plain": [
       "   user_id  age churn_date    city first_name last_name   reg_date tariff  \\\n",
       "1     1001   41 2018-12-31  Москва       Иван      Ежов 2018-11-01  smart   \n",
       "\n",
       "   churn_month  reg_month  tariff_ind  \n",
       "1           12         11           0  "
      ]
     },
     "execution_count": 22,
     "metadata": {},
     "output_type": "execute_result"
    }
   ],
   "source": [
    "users.query('user_id == 1001')"
   ]
  },
  {
   "cell_type": "markdown",
   "metadata": {},
   "source": [
    "Он зарегистрировался в начале ноября. Посмотрим, что он вообще делал"
   ]
  },
  {
   "cell_type": "code",
   "execution_count": 23,
   "metadata": {},
   "outputs": [
    {
     "name": "stdout",
     "output_type": "stream",
     "text": [
      "   user_id  jan  feb  mar  apr  may  jun  jul  aug  sep  oct       nov  \\\n",
      "1     1001  NaN  NaN  NaN  NaN  NaN  NaN  NaN  NaN  NaN  NaN  18429.34   \n",
      "\n",
      "        dec tariff  \n",
      "1  14036.66  smart  \n"
     ]
    },
    {
     "data": {
      "text/html": [
       "<div>\n",
       "<style scoped>\n",
       "    .dataframe tbody tr th:only-of-type {\n",
       "        vertical-align: middle;\n",
       "    }\n",
       "\n",
       "    .dataframe tbody tr th {\n",
       "        vertical-align: top;\n",
       "    }\n",
       "\n",
       "    .dataframe thead th {\n",
       "        text-align: right;\n",
       "    }\n",
       "</style>\n",
       "<table border=\"1\" class=\"dataframe\">\n",
       "  <thead>\n",
       "    <tr style=\"text-align: right;\">\n",
       "      <th></th>\n",
       "      <th>user_id</th>\n",
       "      <th>jan</th>\n",
       "      <th>feb</th>\n",
       "      <th>mar</th>\n",
       "      <th>apr</th>\n",
       "      <th>may</th>\n",
       "      <th>jun</th>\n",
       "      <th>jul</th>\n",
       "      <th>aug</th>\n",
       "      <th>sep</th>\n",
       "      <th>oct</th>\n",
       "      <th>nov</th>\n",
       "      <th>dec</th>\n",
       "      <th>tariff</th>\n",
       "    </tr>\n",
       "  </thead>\n",
       "  <tbody>\n",
       "    <tr>\n",
       "      <td>1</td>\n",
       "      <td>1001</td>\n",
       "      <td>NaN</td>\n",
       "      <td>NaN</td>\n",
       "      <td>NaN</td>\n",
       "      <td>NaN</td>\n",
       "      <td>NaN</td>\n",
       "      <td>NaN</td>\n",
       "      <td>NaN</td>\n",
       "      <td>NaN</td>\n",
       "      <td>NaN</td>\n",
       "      <td>NaN</td>\n",
       "      <td>430.0</td>\n",
       "      <td>414.0</td>\n",
       "      <td>smart</td>\n",
       "    </tr>\n",
       "  </tbody>\n",
       "</table>\n",
       "</div>"
      ],
      "text/plain": [
       "   user_id  jan  feb  mar  apr  may  jun  jul  aug  sep  oct    nov    dec  \\\n",
       "1     1001  NaN  NaN  NaN  NaN  NaN  NaN  NaN  NaN  NaN  NaN  430.0  414.0   \n",
       "\n",
       "  tariff  \n",
       "1  smart  "
      ]
     },
     "execution_count": 23,
     "metadata": {},
     "output_type": "execute_result"
    }
   ],
   "source": [
    "print(internet_per_month.query('user_id == 1001'))\n",
    "minutes_per_month.query('user_id == 1001')"
   ]
  },
  {
   "cell_type": "markdown",
   "metadata": {},
   "source": [
    "Похоже Иван Ежов из Москвы просто не посылал сообщений. Видимо это как-то повлияло на сортировку. Перед складыванием таблиц нам нужно провести сортировку и только потом добавлять всё что нужно."
   ]
  },
  {
   "cell_type": "code",
   "execution_count": 24,
   "metadata": {},
   "outputs": [],
   "source": [
    "#Сведём все таблицы к одному виду и отбросим ненужные столбцы\n",
    "\n",
    "#сортируем сообщения\n",
    "sort_cach_messages = extra_cach_messages_per_month.sort_values(by='user_id')\n",
    "sort_cach_messages = sort_cach_messages.reset_index(drop=True)\n",
    "\n",
    "#сортируем интернет-сессии\n",
    "sort_cach_internet = extra_cach_internet_per_month.sort_values(by='user_id')\n",
    "sort_cach_internet = sort_cach_internet.reset_index(drop=True)\n",
    "\n",
    "#сортируем звонки\n",
    "sort_cach_minutes = extra_cach_minutes_per_month.sort_values(by='user_id')\n",
    "sort_cach_minutes = sort_cach_minutes.reset_index(drop=True)\n",
    "\n",
    "#удалим столбец по тарифам из таблице звонков, которую мы возьмем за начальную - он нам уже не нужен\n",
    "#total_cach = sort_cach_minutes.drop(columns=['tariff'])\n",
    "\n",
    "#total_cach.head(20)"
   ]
  },
  {
   "cell_type": "code",
   "execution_count": 25,
   "metadata": {},
   "outputs": [
    {
     "data": {
      "text/html": [
       "<div>\n",
       "<style scoped>\n",
       "    .dataframe tbody tr th:only-of-type {\n",
       "        vertical-align: middle;\n",
       "    }\n",
       "\n",
       "    .dataframe tbody tr th {\n",
       "        vertical-align: top;\n",
       "    }\n",
       "\n",
       "    .dataframe thead th {\n",
       "        text-align: right;\n",
       "    }\n",
       "</style>\n",
       "<table border=\"1\" class=\"dataframe\">\n",
       "  <thead>\n",
       "    <tr style=\"text-align: right;\">\n",
       "      <th></th>\n",
       "      <th>user_id</th>\n",
       "      <th>jan</th>\n",
       "      <th>feb</th>\n",
       "      <th>mar</th>\n",
       "      <th>apr</th>\n",
       "      <th>may</th>\n",
       "      <th>jun</th>\n",
       "      <th>jul</th>\n",
       "      <th>aug</th>\n",
       "      <th>sep</th>\n",
       "      <th>oct</th>\n",
       "      <th>nov</th>\n",
       "      <th>dec</th>\n",
       "      <th>tariff</th>\n",
       "    </tr>\n",
       "  </thead>\n",
       "  <tbody>\n",
       "    <tr>\n",
       "      <td>0</td>\n",
       "      <td>1000</td>\n",
       "      <td>NaN</td>\n",
       "      <td>NaN</td>\n",
       "      <td>NaN</td>\n",
       "      <td>NaN</td>\n",
       "      <td>0.0</td>\n",
       "      <td>0.0</td>\n",
       "      <td>0.0</td>\n",
       "      <td>0.0</td>\n",
       "      <td>0.0</td>\n",
       "      <td>0.0</td>\n",
       "      <td>0.0</td>\n",
       "      <td>0.0</td>\n",
       "      <td>ultra</td>\n",
       "    </tr>\n",
       "    <tr>\n",
       "      <td>1</td>\n",
       "      <td>1001</td>\n",
       "      <td>NaN</td>\n",
       "      <td>NaN</td>\n",
       "      <td>NaN</td>\n",
       "      <td>NaN</td>\n",
       "      <td>NaN</td>\n",
       "      <td>NaN</td>\n",
       "      <td>NaN</td>\n",
       "      <td>NaN</td>\n",
       "      <td>NaN</td>\n",
       "      <td>NaN</td>\n",
       "      <td>600.0</td>\n",
       "      <td>0.0</td>\n",
       "      <td>smart</td>\n",
       "    </tr>\n",
       "    <tr>\n",
       "      <td>2</td>\n",
       "      <td>1002</td>\n",
       "      <td>NaN</td>\n",
       "      <td>NaN</td>\n",
       "      <td>NaN</td>\n",
       "      <td>NaN</td>\n",
       "      <td>NaN</td>\n",
       "      <td>0.0</td>\n",
       "      <td>600.0</td>\n",
       "      <td>1000.0</td>\n",
       "      <td>400.0</td>\n",
       "      <td>0.0</td>\n",
       "      <td>800.0</td>\n",
       "      <td>600.0</td>\n",
       "      <td>smart</td>\n",
       "    </tr>\n",
       "    <tr>\n",
       "      <td>3</td>\n",
       "      <td>1003</td>\n",
       "      <td>NaN</td>\n",
       "      <td>NaN</td>\n",
       "      <td>NaN</td>\n",
       "      <td>NaN</td>\n",
       "      <td>NaN</td>\n",
       "      <td>NaN</td>\n",
       "      <td>NaN</td>\n",
       "      <td>0.0</td>\n",
       "      <td>0.0</td>\n",
       "      <td>0.0</td>\n",
       "      <td>0.0</td>\n",
       "      <td>0.0</td>\n",
       "      <td>ultra</td>\n",
       "    </tr>\n",
       "    <tr>\n",
       "      <td>4</td>\n",
       "      <td>1004</td>\n",
       "      <td>NaN</td>\n",
       "      <td>NaN</td>\n",
       "      <td>NaN</td>\n",
       "      <td>NaN</td>\n",
       "      <td>0.0</td>\n",
       "      <td>0.0</td>\n",
       "      <td>0.0</td>\n",
       "      <td>0.0</td>\n",
       "      <td>0.0</td>\n",
       "      <td>0.0</td>\n",
       "      <td>0.0</td>\n",
       "      <td>0.0</td>\n",
       "      <td>ultra</td>\n",
       "    </tr>\n",
       "    <tr>\n",
       "      <td>5</td>\n",
       "      <td>1005</td>\n",
       "      <td>0.0</td>\n",
       "      <td>0.0</td>\n",
       "      <td>336.0</td>\n",
       "      <td>636.0</td>\n",
       "      <td>285.0</td>\n",
       "      <td>336.0</td>\n",
       "      <td>225.0</td>\n",
       "      <td>399.0</td>\n",
       "      <td>6.0</td>\n",
       "      <td>669.0</td>\n",
       "      <td>144.0</td>\n",
       "      <td>288.0</td>\n",
       "      <td>smart</td>\n",
       "    </tr>\n",
       "    <tr>\n",
       "      <td>6</td>\n",
       "      <td>1006</td>\n",
       "      <td>NaN</td>\n",
       "      <td>0.0</td>\n",
       "      <td>400.0</td>\n",
       "      <td>0.0</td>\n",
       "      <td>0.0</td>\n",
       "      <td>0.0</td>\n",
       "      <td>1000.0</td>\n",
       "      <td>800.0</td>\n",
       "      <td>200.0</td>\n",
       "      <td>1000.0</td>\n",
       "      <td>0.0</td>\n",
       "      <td>800.0</td>\n",
       "      <td>smart</td>\n",
       "    </tr>\n",
       "    <tr>\n",
       "      <td>7</td>\n",
       "      <td>1007</td>\n",
       "      <td>NaN</td>\n",
       "      <td>NaN</td>\n",
       "      <td>NaN</td>\n",
       "      <td>0.0</td>\n",
       "      <td>600.0</td>\n",
       "      <td>135.0</td>\n",
       "      <td>431.0</td>\n",
       "      <td>1200.0</td>\n",
       "      <td>465.0</td>\n",
       "      <td>0.0</td>\n",
       "      <td>440.0</td>\n",
       "      <td>0.0</td>\n",
       "      <td>smart</td>\n",
       "    </tr>\n",
       "    <tr>\n",
       "      <td>8</td>\n",
       "      <td>1008</td>\n",
       "      <td>NaN</td>\n",
       "      <td>NaN</td>\n",
       "      <td>NaN</td>\n",
       "      <td>NaN</td>\n",
       "      <td>NaN</td>\n",
       "      <td>NaN</td>\n",
       "      <td>NaN</td>\n",
       "      <td>NaN</td>\n",
       "      <td>NaN</td>\n",
       "      <td>NaN</td>\n",
       "      <td>NaN</td>\n",
       "      <td>18.0</td>\n",
       "      <td>smart</td>\n",
       "    </tr>\n",
       "    <tr>\n",
       "      <td>9</td>\n",
       "      <td>1009</td>\n",
       "      <td>NaN</td>\n",
       "      <td>NaN</td>\n",
       "      <td>0.0</td>\n",
       "      <td>0.0</td>\n",
       "      <td>0.0</td>\n",
       "      <td>200.0</td>\n",
       "      <td>2000.0</td>\n",
       "      <td>1800.0</td>\n",
       "      <td>1400.0</td>\n",
       "      <td>1000.0</td>\n",
       "      <td>400.0</td>\n",
       "      <td>800.0</td>\n",
       "      <td>smart</td>\n",
       "    </tr>\n",
       "  </tbody>\n",
       "</table>\n",
       "</div>"
      ],
      "text/plain": [
       "   user_id  jan  feb    mar    apr    may    jun     jul     aug     sep  \\\n",
       "0     1000  NaN  NaN    NaN    NaN    0.0    0.0     0.0     0.0     0.0   \n",
       "1     1001  NaN  NaN    NaN    NaN    NaN    NaN     NaN     NaN     NaN   \n",
       "2     1002  NaN  NaN    NaN    NaN    NaN    0.0   600.0  1000.0   400.0   \n",
       "3     1003  NaN  NaN    NaN    NaN    NaN    NaN     NaN     0.0     0.0   \n",
       "4     1004  NaN  NaN    NaN    NaN    0.0    0.0     0.0     0.0     0.0   \n",
       "5     1005  0.0  0.0  336.0  636.0  285.0  336.0   225.0   399.0     6.0   \n",
       "6     1006  NaN  0.0  400.0    0.0    0.0    0.0  1000.0   800.0   200.0   \n",
       "7     1007  NaN  NaN    NaN    0.0  600.0  135.0   431.0  1200.0   465.0   \n",
       "8     1008  NaN  NaN    NaN    NaN    NaN    NaN     NaN     NaN     NaN   \n",
       "9     1009  NaN  NaN    0.0    0.0    0.0  200.0  2000.0  1800.0  1400.0   \n",
       "\n",
       "      oct    nov    dec tariff  \n",
       "0     0.0    0.0    0.0  ultra  \n",
       "1     NaN  600.0    0.0  smart  \n",
       "2     0.0  800.0  600.0  smart  \n",
       "3     0.0    0.0    0.0  ultra  \n",
       "4     0.0    0.0    0.0  ultra  \n",
       "5   669.0  144.0  288.0  smart  \n",
       "6  1000.0    0.0  800.0  smart  \n",
       "7     0.0  440.0    0.0  smart  \n",
       "8     NaN    NaN   18.0  smart  \n",
       "9  1000.0  400.0  800.0  smart  "
      ]
     },
     "execution_count": 25,
     "metadata": {},
     "output_type": "execute_result"
    }
   ],
   "source": [
    "# сделаем основу нашей общей таблицы на основе таблицы звонков\n",
    "total_cach = sort_cach_minutes\n",
    "\n",
    "# просуммируем значения\n",
    "for i in total_cach.columns[1:13]:\n",
    "    total_cach[i] = total_cach[i].add(sort_cach_messages[i], fill_value=0)\n",
    "    total_cach[i] = total_cach[i].add(sort_cach_internet[i], fill_value=0)\n",
    "\n",
    "# проверим результат\n",
    "total_cach.head(10)"
   ]
  },
  {
   "cell_type": "markdown",
   "metadata": {},
   "source": [
    "Дополним наши значения абонентской платой"
   ]
  },
  {
   "cell_type": "code",
   "execution_count": 26,
   "metadata": {},
   "outputs": [
    {
     "data": {
      "text/html": [
       "<div>\n",
       "<style scoped>\n",
       "    .dataframe tbody tr th:only-of-type {\n",
       "        vertical-align: middle;\n",
       "    }\n",
       "\n",
       "    .dataframe tbody tr th {\n",
       "        vertical-align: top;\n",
       "    }\n",
       "\n",
       "    .dataframe thead th {\n",
       "        text-align: right;\n",
       "    }\n",
       "</style>\n",
       "<table border=\"1\" class=\"dataframe\">\n",
       "  <thead>\n",
       "    <tr style=\"text-align: right;\">\n",
       "      <th></th>\n",
       "      <th>user_id</th>\n",
       "      <th>jan</th>\n",
       "      <th>feb</th>\n",
       "      <th>mar</th>\n",
       "      <th>apr</th>\n",
       "      <th>may</th>\n",
       "      <th>jun</th>\n",
       "      <th>jul</th>\n",
       "      <th>aug</th>\n",
       "      <th>sep</th>\n",
       "      <th>oct</th>\n",
       "      <th>nov</th>\n",
       "      <th>dec</th>\n",
       "      <th>tariff</th>\n",
       "    </tr>\n",
       "  </thead>\n",
       "  <tbody>\n",
       "    <tr>\n",
       "      <td>0</td>\n",
       "      <td>1000</td>\n",
       "      <td>NaN</td>\n",
       "      <td>NaN</td>\n",
       "      <td>NaN</td>\n",
       "      <td>NaN</td>\n",
       "      <td>1950.0</td>\n",
       "      <td>1950.0</td>\n",
       "      <td>1950.0</td>\n",
       "      <td>1950.0</td>\n",
       "      <td>1950.0</td>\n",
       "      <td>1950.0</td>\n",
       "      <td>1950.0</td>\n",
       "      <td>1950.0</td>\n",
       "      <td>ultra</td>\n",
       "    </tr>\n",
       "    <tr>\n",
       "      <td>1</td>\n",
       "      <td>1001</td>\n",
       "      <td>NaN</td>\n",
       "      <td>NaN</td>\n",
       "      <td>NaN</td>\n",
       "      <td>NaN</td>\n",
       "      <td>NaN</td>\n",
       "      <td>NaN</td>\n",
       "      <td>NaN</td>\n",
       "      <td>NaN</td>\n",
       "      <td>NaN</td>\n",
       "      <td>NaN</td>\n",
       "      <td>1150.0</td>\n",
       "      <td>550.0</td>\n",
       "      <td>smart</td>\n",
       "    </tr>\n",
       "    <tr>\n",
       "      <td>2</td>\n",
       "      <td>1002</td>\n",
       "      <td>NaN</td>\n",
       "      <td>NaN</td>\n",
       "      <td>NaN</td>\n",
       "      <td>NaN</td>\n",
       "      <td>NaN</td>\n",
       "      <td>550.0</td>\n",
       "      <td>1150.0</td>\n",
       "      <td>1550.0</td>\n",
       "      <td>950.0</td>\n",
       "      <td>550.0</td>\n",
       "      <td>1350.0</td>\n",
       "      <td>1150.0</td>\n",
       "      <td>smart</td>\n",
       "    </tr>\n",
       "    <tr>\n",
       "      <td>3</td>\n",
       "      <td>1003</td>\n",
       "      <td>NaN</td>\n",
       "      <td>NaN</td>\n",
       "      <td>NaN</td>\n",
       "      <td>NaN</td>\n",
       "      <td>NaN</td>\n",
       "      <td>NaN</td>\n",
       "      <td>NaN</td>\n",
       "      <td>1950.0</td>\n",
       "      <td>1950.0</td>\n",
       "      <td>1950.0</td>\n",
       "      <td>1950.0</td>\n",
       "      <td>1950.0</td>\n",
       "      <td>ultra</td>\n",
       "    </tr>\n",
       "    <tr>\n",
       "      <td>4</td>\n",
       "      <td>1004</td>\n",
       "      <td>NaN</td>\n",
       "      <td>NaN</td>\n",
       "      <td>NaN</td>\n",
       "      <td>NaN</td>\n",
       "      <td>1950.0</td>\n",
       "      <td>1950.0</td>\n",
       "      <td>1950.0</td>\n",
       "      <td>1950.0</td>\n",
       "      <td>1950.0</td>\n",
       "      <td>1950.0</td>\n",
       "      <td>1950.0</td>\n",
       "      <td>1950.0</td>\n",
       "      <td>ultra</td>\n",
       "    </tr>\n",
       "    <tr>\n",
       "      <td>5</td>\n",
       "      <td>1005</td>\n",
       "      <td>550.0</td>\n",
       "      <td>550.0</td>\n",
       "      <td>886.0</td>\n",
       "      <td>1186.0</td>\n",
       "      <td>835.0</td>\n",
       "      <td>886.0</td>\n",
       "      <td>775.0</td>\n",
       "      <td>949.0</td>\n",
       "      <td>556.0</td>\n",
       "      <td>1219.0</td>\n",
       "      <td>694.0</td>\n",
       "      <td>838.0</td>\n",
       "      <td>smart</td>\n",
       "    </tr>\n",
       "    <tr>\n",
       "      <td>6</td>\n",
       "      <td>1006</td>\n",
       "      <td>NaN</td>\n",
       "      <td>550.0</td>\n",
       "      <td>950.0</td>\n",
       "      <td>550.0</td>\n",
       "      <td>550.0</td>\n",
       "      <td>550.0</td>\n",
       "      <td>1550.0</td>\n",
       "      <td>1350.0</td>\n",
       "      <td>750.0</td>\n",
       "      <td>1550.0</td>\n",
       "      <td>550.0</td>\n",
       "      <td>1350.0</td>\n",
       "      <td>smart</td>\n",
       "    </tr>\n",
       "    <tr>\n",
       "      <td>7</td>\n",
       "      <td>1007</td>\n",
       "      <td>NaN</td>\n",
       "      <td>NaN</td>\n",
       "      <td>NaN</td>\n",
       "      <td>550.0</td>\n",
       "      <td>1150.0</td>\n",
       "      <td>685.0</td>\n",
       "      <td>981.0</td>\n",
       "      <td>1750.0</td>\n",
       "      <td>1015.0</td>\n",
       "      <td>550.0</td>\n",
       "      <td>990.0</td>\n",
       "      <td>550.0</td>\n",
       "      <td>smart</td>\n",
       "    </tr>\n",
       "    <tr>\n",
       "      <td>8</td>\n",
       "      <td>1008</td>\n",
       "      <td>NaN</td>\n",
       "      <td>NaN</td>\n",
       "      <td>NaN</td>\n",
       "      <td>NaN</td>\n",
       "      <td>NaN</td>\n",
       "      <td>NaN</td>\n",
       "      <td>NaN</td>\n",
       "      <td>NaN</td>\n",
       "      <td>NaN</td>\n",
       "      <td>NaN</td>\n",
       "      <td>NaN</td>\n",
       "      <td>568.0</td>\n",
       "      <td>smart</td>\n",
       "    </tr>\n",
       "    <tr>\n",
       "      <td>9</td>\n",
       "      <td>1009</td>\n",
       "      <td>NaN</td>\n",
       "      <td>NaN</td>\n",
       "      <td>550.0</td>\n",
       "      <td>550.0</td>\n",
       "      <td>550.0</td>\n",
       "      <td>750.0</td>\n",
       "      <td>2550.0</td>\n",
       "      <td>2350.0</td>\n",
       "      <td>1950.0</td>\n",
       "      <td>1550.0</td>\n",
       "      <td>950.0</td>\n",
       "      <td>1350.0</td>\n",
       "      <td>smart</td>\n",
       "    </tr>\n",
       "  </tbody>\n",
       "</table>\n",
       "</div>"
      ],
      "text/plain": [
       "   user_id    jan    feb    mar     apr     may     jun     jul     aug  \\\n",
       "0     1000    NaN    NaN    NaN     NaN  1950.0  1950.0  1950.0  1950.0   \n",
       "1     1001    NaN    NaN    NaN     NaN     NaN     NaN     NaN     NaN   \n",
       "2     1002    NaN    NaN    NaN     NaN     NaN   550.0  1150.0  1550.0   \n",
       "3     1003    NaN    NaN    NaN     NaN     NaN     NaN     NaN  1950.0   \n",
       "4     1004    NaN    NaN    NaN     NaN  1950.0  1950.0  1950.0  1950.0   \n",
       "5     1005  550.0  550.0  886.0  1186.0   835.0   886.0   775.0   949.0   \n",
       "6     1006    NaN  550.0  950.0   550.0   550.0   550.0  1550.0  1350.0   \n",
       "7     1007    NaN    NaN    NaN   550.0  1150.0   685.0   981.0  1750.0   \n",
       "8     1008    NaN    NaN    NaN     NaN     NaN     NaN     NaN     NaN   \n",
       "9     1009    NaN    NaN  550.0   550.0   550.0   750.0  2550.0  2350.0   \n",
       "\n",
       "      sep     oct     nov     dec tariff  \n",
       "0  1950.0  1950.0  1950.0  1950.0  ultra  \n",
       "1     NaN     NaN  1150.0   550.0  smart  \n",
       "2   950.0   550.0  1350.0  1150.0  smart  \n",
       "3  1950.0  1950.0  1950.0  1950.0  ultra  \n",
       "4  1950.0  1950.0  1950.0  1950.0  ultra  \n",
       "5   556.0  1219.0   694.0   838.0  smart  \n",
       "6   750.0  1550.0   550.0  1350.0  smart  \n",
       "7  1015.0   550.0   990.0   550.0  smart  \n",
       "8     NaN     NaN     NaN   568.0  smart  \n",
       "9  1950.0  1550.0   950.0  1350.0  smart  "
      ]
     },
     "execution_count": 26,
     "metadata": {},
     "output_type": "execute_result"
    }
   ],
   "source": [
    "#напишем функцию для добавления абонентской платы\n",
    "def month_cach(row,column):\n",
    "    if row['tariff'] == 'ultra':\n",
    "        return row[column] + 1950\n",
    "    return row[column] + 550\n",
    "\n",
    "for i in total_cach.columns[1:13]:\n",
    "    total_cach[i] = total_cach.apply(month_cach, axis=1, column=i)\n",
    "\n",
    "#проверим результат\n",
    "total_cach.head(10)"
   ]
  },
  {
   "cell_type": "markdown",
   "metadata": {},
   "source": [
    "Таблица с ценами по месяцам готова. Не хватает столбца с суммой дохода общего за 2018 год. Добавим его. Так же, нам нужно будет сравнить выручку пользователей из Москвы и других регионов - добавим в нашу таблицу локацию."
   ]
  },
  {
   "cell_type": "code",
   "execution_count": 27,
   "metadata": {},
   "outputs": [
    {
     "data": {
      "text/html": [
       "<div>\n",
       "<style scoped>\n",
       "    .dataframe tbody tr th:only-of-type {\n",
       "        vertical-align: middle;\n",
       "    }\n",
       "\n",
       "    .dataframe tbody tr th {\n",
       "        vertical-align: top;\n",
       "    }\n",
       "\n",
       "    .dataframe thead th {\n",
       "        text-align: right;\n",
       "    }\n",
       "</style>\n",
       "<table border=\"1\" class=\"dataframe\">\n",
       "  <thead>\n",
       "    <tr style=\"text-align: right;\">\n",
       "      <th></th>\n",
       "      <th>user_id</th>\n",
       "      <th>city</th>\n",
       "      <th>tariff</th>\n",
       "      <th>jan</th>\n",
       "      <th>feb</th>\n",
       "      <th>mar</th>\n",
       "      <th>apr</th>\n",
       "      <th>may</th>\n",
       "      <th>jun</th>\n",
       "      <th>jul</th>\n",
       "      <th>aug</th>\n",
       "      <th>sep</th>\n",
       "      <th>oct</th>\n",
       "      <th>nov</th>\n",
       "      <th>dec</th>\n",
       "      <th>year_cach</th>\n",
       "    </tr>\n",
       "  </thead>\n",
       "  <tbody>\n",
       "    <tr>\n",
       "      <td>0</td>\n",
       "      <td>1000</td>\n",
       "      <td>Краснодар</td>\n",
       "      <td>ultra</td>\n",
       "      <td>NaN</td>\n",
       "      <td>NaN</td>\n",
       "      <td>NaN</td>\n",
       "      <td>NaN</td>\n",
       "      <td>1950.0</td>\n",
       "      <td>1950.0</td>\n",
       "      <td>1950.0</td>\n",
       "      <td>1950.0</td>\n",
       "      <td>1950.0</td>\n",
       "      <td>1950.0</td>\n",
       "      <td>1950.0</td>\n",
       "      <td>1950.0</td>\n",
       "      <td>15600.0</td>\n",
       "    </tr>\n",
       "    <tr>\n",
       "      <td>1</td>\n",
       "      <td>1001</td>\n",
       "      <td>Москва</td>\n",
       "      <td>smart</td>\n",
       "      <td>NaN</td>\n",
       "      <td>NaN</td>\n",
       "      <td>NaN</td>\n",
       "      <td>NaN</td>\n",
       "      <td>NaN</td>\n",
       "      <td>NaN</td>\n",
       "      <td>NaN</td>\n",
       "      <td>NaN</td>\n",
       "      <td>NaN</td>\n",
       "      <td>NaN</td>\n",
       "      <td>1150.0</td>\n",
       "      <td>550.0</td>\n",
       "      <td>1700.0</td>\n",
       "    </tr>\n",
       "    <tr>\n",
       "      <td>2</td>\n",
       "      <td>1002</td>\n",
       "      <td>Стерлитамак</td>\n",
       "      <td>smart</td>\n",
       "      <td>NaN</td>\n",
       "      <td>NaN</td>\n",
       "      <td>NaN</td>\n",
       "      <td>NaN</td>\n",
       "      <td>NaN</td>\n",
       "      <td>550.0</td>\n",
       "      <td>1150.0</td>\n",
       "      <td>1550.0</td>\n",
       "      <td>950.0</td>\n",
       "      <td>550.0</td>\n",
       "      <td>1350.0</td>\n",
       "      <td>1150.0</td>\n",
       "      <td>7250.0</td>\n",
       "    </tr>\n",
       "    <tr>\n",
       "      <td>3</td>\n",
       "      <td>1003</td>\n",
       "      <td>Москва</td>\n",
       "      <td>ultra</td>\n",
       "      <td>NaN</td>\n",
       "      <td>NaN</td>\n",
       "      <td>NaN</td>\n",
       "      <td>NaN</td>\n",
       "      <td>NaN</td>\n",
       "      <td>NaN</td>\n",
       "      <td>NaN</td>\n",
       "      <td>1950.0</td>\n",
       "      <td>1950.0</td>\n",
       "      <td>1950.0</td>\n",
       "      <td>1950.0</td>\n",
       "      <td>1950.0</td>\n",
       "      <td>9750.0</td>\n",
       "    </tr>\n",
       "    <tr>\n",
       "      <td>4</td>\n",
       "      <td>1004</td>\n",
       "      <td>Новокузнецк</td>\n",
       "      <td>ultra</td>\n",
       "      <td>NaN</td>\n",
       "      <td>NaN</td>\n",
       "      <td>NaN</td>\n",
       "      <td>NaN</td>\n",
       "      <td>1950.0</td>\n",
       "      <td>1950.0</td>\n",
       "      <td>1950.0</td>\n",
       "      <td>1950.0</td>\n",
       "      <td>1950.0</td>\n",
       "      <td>1950.0</td>\n",
       "      <td>1950.0</td>\n",
       "      <td>1950.0</td>\n",
       "      <td>15600.0</td>\n",
       "    </tr>\n",
       "    <tr>\n",
       "      <td>5</td>\n",
       "      <td>1005</td>\n",
       "      <td>Набережные Челны</td>\n",
       "      <td>smart</td>\n",
       "      <td>550.0</td>\n",
       "      <td>550.0</td>\n",
       "      <td>886.0</td>\n",
       "      <td>1186.0</td>\n",
       "      <td>835.0</td>\n",
       "      <td>886.0</td>\n",
       "      <td>775.0</td>\n",
       "      <td>949.0</td>\n",
       "      <td>556.0</td>\n",
       "      <td>1219.0</td>\n",
       "      <td>694.0</td>\n",
       "      <td>838.0</td>\n",
       "      <td>9924.0</td>\n",
       "    </tr>\n",
       "    <tr>\n",
       "      <td>6</td>\n",
       "      <td>1006</td>\n",
       "      <td>Ульяновск</td>\n",
       "      <td>smart</td>\n",
       "      <td>NaN</td>\n",
       "      <td>550.0</td>\n",
       "      <td>950.0</td>\n",
       "      <td>550.0</td>\n",
       "      <td>550.0</td>\n",
       "      <td>550.0</td>\n",
       "      <td>1550.0</td>\n",
       "      <td>1350.0</td>\n",
       "      <td>750.0</td>\n",
       "      <td>1550.0</td>\n",
       "      <td>550.0</td>\n",
       "      <td>1350.0</td>\n",
       "      <td>10250.0</td>\n",
       "    </tr>\n",
       "    <tr>\n",
       "      <td>7</td>\n",
       "      <td>1007</td>\n",
       "      <td>Москва</td>\n",
       "      <td>smart</td>\n",
       "      <td>NaN</td>\n",
       "      <td>NaN</td>\n",
       "      <td>NaN</td>\n",
       "      <td>550.0</td>\n",
       "      <td>1150.0</td>\n",
       "      <td>685.0</td>\n",
       "      <td>981.0</td>\n",
       "      <td>1750.0</td>\n",
       "      <td>1015.0</td>\n",
       "      <td>550.0</td>\n",
       "      <td>990.0</td>\n",
       "      <td>550.0</td>\n",
       "      <td>8221.0</td>\n",
       "    </tr>\n",
       "    <tr>\n",
       "      <td>8</td>\n",
       "      <td>1008</td>\n",
       "      <td>Челябинск</td>\n",
       "      <td>smart</td>\n",
       "      <td>NaN</td>\n",
       "      <td>NaN</td>\n",
       "      <td>NaN</td>\n",
       "      <td>NaN</td>\n",
       "      <td>NaN</td>\n",
       "      <td>NaN</td>\n",
       "      <td>NaN</td>\n",
       "      <td>NaN</td>\n",
       "      <td>NaN</td>\n",
       "      <td>NaN</td>\n",
       "      <td>NaN</td>\n",
       "      <td>568.0</td>\n",
       "      <td>568.0</td>\n",
       "    </tr>\n",
       "    <tr>\n",
       "      <td>9</td>\n",
       "      <td>1009</td>\n",
       "      <td>Пермь</td>\n",
       "      <td>smart</td>\n",
       "      <td>NaN</td>\n",
       "      <td>NaN</td>\n",
       "      <td>550.0</td>\n",
       "      <td>550.0</td>\n",
       "      <td>550.0</td>\n",
       "      <td>750.0</td>\n",
       "      <td>2550.0</td>\n",
       "      <td>2350.0</td>\n",
       "      <td>1950.0</td>\n",
       "      <td>1550.0</td>\n",
       "      <td>950.0</td>\n",
       "      <td>1350.0</td>\n",
       "      <td>13100.0</td>\n",
       "    </tr>\n",
       "  </tbody>\n",
       "</table>\n",
       "</div>"
      ],
      "text/plain": [
       "   user_id              city tariff    jan    feb    mar     apr     may  \\\n",
       "0     1000         Краснодар  ultra    NaN    NaN    NaN     NaN  1950.0   \n",
       "1     1001            Москва  smart    NaN    NaN    NaN     NaN     NaN   \n",
       "2     1002       Стерлитамак  smart    NaN    NaN    NaN     NaN     NaN   \n",
       "3     1003            Москва  ultra    NaN    NaN    NaN     NaN     NaN   \n",
       "4     1004       Новокузнецк  ultra    NaN    NaN    NaN     NaN  1950.0   \n",
       "5     1005  Набережные Челны  smart  550.0  550.0  886.0  1186.0   835.0   \n",
       "6     1006         Ульяновск  smart    NaN  550.0  950.0   550.0   550.0   \n",
       "7     1007            Москва  smart    NaN    NaN    NaN   550.0  1150.0   \n",
       "8     1008         Челябинск  smart    NaN    NaN    NaN     NaN     NaN   \n",
       "9     1009             Пермь  smart    NaN    NaN  550.0   550.0   550.0   \n",
       "\n",
       "      jun     jul     aug     sep     oct     nov     dec  year_cach  \n",
       "0  1950.0  1950.0  1950.0  1950.0  1950.0  1950.0  1950.0    15600.0  \n",
       "1     NaN     NaN     NaN     NaN     NaN  1150.0   550.0     1700.0  \n",
       "2   550.0  1150.0  1550.0   950.0   550.0  1350.0  1150.0     7250.0  \n",
       "3     NaN     NaN  1950.0  1950.0  1950.0  1950.0  1950.0     9750.0  \n",
       "4  1950.0  1950.0  1950.0  1950.0  1950.0  1950.0  1950.0    15600.0  \n",
       "5   886.0   775.0   949.0   556.0  1219.0   694.0   838.0     9924.0  \n",
       "6   550.0  1550.0  1350.0   750.0  1550.0   550.0  1350.0    10250.0  \n",
       "7   685.0   981.0  1750.0  1015.0   550.0   990.0   550.0     8221.0  \n",
       "8     NaN     NaN     NaN     NaN     NaN     NaN   568.0      568.0  \n",
       "9   750.0  2550.0  2350.0  1950.0  1550.0   950.0  1350.0    13100.0  "
      ]
     },
     "execution_count": 27,
     "metadata": {},
     "output_type": "execute_result"
    }
   ],
   "source": [
    "#добавляем годовой доход за 2018 год с каждого пользователя\n",
    "total_cach['year_cach'] = 0\n",
    "\n",
    "for i in total_cach.columns[1:13]:\n",
    "    total_cach['year_cach'] = total_cach['year_cach'].add(total_cach[i], fill_value=0)\n",
    "\n",
    "#Добавим в таблицу локацию пользователя\n",
    "\n",
    "total_cach['city'] = users['city']\n",
    "\n",
    "\n",
    "#разместим столбцы в удобном порядке\n",
    "\n",
    "cols = total_cach.columns.tolist()\n",
    "column_to_move = \"city\"\n",
    "new_position = 1\n",
    "\n",
    "cols.insert(new_position, cols.pop(cols.index(column_to_move)))\n",
    "total_cach = total_cach[cols]\n",
    "\n",
    "cols = total_cach.columns.tolist()\n",
    "column_to_move = \"tariff\"\n",
    "new_position = 2\n",
    "\n",
    "cols.insert(new_position, cols.pop(cols.index(column_to_move)))\n",
    "total_cach = total_cach[cols]\n",
    "\n",
    "\n",
    "#проверим результат\n",
    "total_cach.head(10)"
   ]
  },
  {
   "cell_type": "markdown",
   "metadata": {},
   "source": [
    "## Выводы по промежуточным расчетам"
   ]
  },
  {
   "cell_type": "markdown",
   "metadata": {},
   "source": [
    "Мы сделали все нужные преобразования и готовы анализировать данные"
   ]
  },
  {
   "cell_type": "markdown",
   "metadata": {},
   "source": [
    "# Анализ полученных данных"
   ]
  },
  {
   "cell_type": "markdown",
   "metadata": {},
   "source": [
    "Опишем поведение клиентов оператора, исходя из выборки. \n",
    "\n",
    "Подсчитаем сколько минут разговора, сколько сообщений и какой объём интернет-трафика требуется пользователям каждого тарифа в месяц. Посчитаем среднее количество, дисперсию и стандартное отклонение, построим гистограммы и опишем распределения."
   ]
  },
  {
   "cell_type": "markdown",
   "metadata": {},
   "source": [
    "## Расмотрим статистику по потраченным минутам"
   ]
  },
  {
   "cell_type": "code",
   "execution_count": 29,
   "metadata": {},
   "outputs": [
    {
     "name": "stdout",
     "output_type": "stream",
     "text": [
      "Среднее значение потраченных минут разговора в тарифе Ультра в месяц\n",
      "545.5\n",
      "Среднее значение потраченных минут разговора в тарифе Смарт в месяц\n",
      "419.1\n",
      "\n",
      "Дисперсия выборки потраченных минут разговора по тарифу \"Ультра\"\n",
      "94203.4\n",
      "\n",
      "Дисперсия выборки потраченных минут разговора по тарифу \"Смарт\"\n",
      "35844.2\n",
      "\n",
      "Стандартное отклонение выборки потраченных минут разговора по тарифу \"Ультра\" в месяц\n",
      "306.9\n",
      "\n",
      "Стандартное отклонение выборки потраченных минут разговора по тарифу \"Смарт\" в месяц\n",
      "189.3\n"
     ]
    }
   ],
   "source": [
    "# Для расчетов добавим столбец с численными обозначениями тарифов в таблицы и отсортируем \n",
    "# промежуточные таблицы. Сведём все таблицы к одному виду\n",
    "\n",
    "#сортируем сообщения\n",
    "messages_per_month = messages_per_month.sort_values(by='user_id')\n",
    "messages_per_month = messages_per_month.reset_index(drop=True)\n",
    "\n",
    "#сортируем интернет-сессии\n",
    "internet_per_month = internet_per_month.sort_values(by='user_id')\n",
    "internet_per_month = internet_per_month.reset_index(drop=True)\n",
    "\n",
    "#сортируем звонки\n",
    "minutes_per_month = minutes_per_month.sort_values(by='user_id')\n",
    "minutes_per_month = minutes_per_month.reset_index(drop=True)\n",
    "\n",
    "\n",
    "\n",
    "\n",
    "\n",
    "#Для гистограмм по тарифам нам понадобится сделать выборку колонок-месяцев\n",
    "\n",
    "month_col = ['jan', 'feb', 'mar', 'apr', 'may', 'jun', 'jul', 'aug',\n",
    "             'sep', 'oct', 'nov', 'dec']\n",
    "\n",
    "\n",
    "\n",
    "#получим статистику по минутам разговора\n",
    "\n",
    "array_minutes_ultra = np.array (minutes_per_month.query('tariff == \"ultra\"')[month_col]).flatten()\n",
    "array_minutes_smart = np.array (minutes_per_month.query('tariff == \"smart\"')[month_col]).flatten()\n",
    "\n",
    "\n",
    "print('Среднее значение потраченных минут разговора в тарифе Ультра в месяц')\n",
    "print(\"{:.1f}\".format(np.nanmean(array_minutes_ultra)))\n",
    "\n",
    "print('Среднее значение потраченных минут разговора в тарифе Смарт в месяц')\n",
    "print(\"{:.1f}\".format(np.nanmean(array_minutes_smart)))\n",
    "print()\n",
    "\n",
    "print('Дисперсия выборки потраченных минут разговора по тарифу \"Ультра\"')\n",
    "\n",
    "print(\"{:.1f}\".format(np.nanvar(array_minutes_ultra, ddof=1)))\n",
    "print()\n",
    "\n",
    "print('Дисперсия выборки потраченных минут разговора по тарифу \"Смарт\"')\n",
    "\n",
    "print(\"{:.1f}\".format(np.nanvar(array_minutes_smart, ddof=1)))\n",
    "print()\n",
    "\n",
    "print('Стандартное отклонение выборки потраченных минут разговора по тарифу \"Ультра\" в месяц')\n",
    "print(\"{:.1f}\".format(np.nanstd(array_minutes_ultra, ddof=1)))\n",
    "print()\n",
    "\n",
    "print('Стандартное отклонение выборки потраченных минут разговора по тарифу \"Смарт\" в месяц')\n",
    "print(\"{:.1f}\".format(np.nanstd(array_minutes_smart, ddof=1)))\n",
    "\n"
   ]
  },
  {
   "cell_type": "code",
   "execution_count": 30,
   "metadata": {},
   "outputs": [
    {
     "data": {
      "image/png": "[encoded data removed]",
      "text/plain": [
       "<Figure size 432x288 with 1 Axes>"
      ]
     },
     "metadata": {
      "needs_background": "light"
     },
     "output_type": "display_data"
    }
   ],
   "source": [
    "pd.Series(np.array(\n",
    "    minutes_per_month.query('tariff == \"ultra\"')[month_col])\n",
    "          .flatten()).plot(bins=20, kind='hist', alpha=0.7, label='ultra')\n",
    "\n",
    "pd.Series(\n",
    "    np.array(minutes_per_month.query('tariff == \"smart\"')[month_col])\n",
    "    .flatten()).plot(\n",
    "    bins=20, kind='hist', alpha=0.3, label='smart')\n",
    "\n",
    "plt.legend()\n",
    "plt.xlabel('Минуты')\n",
    "plt.ylabel('Частота')\n",
    "plt.title('Гистограмма ежемесячного расхода минут, в зависимости от тарифа')\n",
    "plt.show()"
   ]
  },
  {
   "cell_type": "markdown",
   "metadata": {},
   "source": [
    "Судя по всему в независимости от тарифа чаще всего проговаривается в месяц примерно 400-600 минут. Пользователи тарифа ultra  гораздо спокойнее относятся к использованию всего лимита минут, пользователи же тарифа smart  стремятся использовать всё, отпущенное им количество минут и часто им требуются экстра минуты "
   ]
  },
  {
   "cell_type": "markdown",
   "metadata": {},
   "source": [
    "## Рассмотрим статистику по сообщениям"
   ]
  },
  {
   "cell_type": "code",
   "execution_count": 31,
   "metadata": {},
   "outputs": [
    {
     "name": "stdout",
     "output_type": "stream",
     "text": [
      "Среднее значение потраченных сообщений в тарифе Ультра в месяц\n",
      "61\n",
      "Среднее значение потраченных сообщений в тарифе Смарт в месяц\n",
      "39\n",
      "\n",
      "Дисперсия выборки сообщений по тарифу \"Ультра\" в месяц\n",
      "2109.7\n",
      "\n",
      "Дисперсия выборки сообщений по тарифу \"Смарт\" в месяц\n",
      "717.6\n",
      "\n",
      "Стандартное отклонение выборки сообщений по тарифу \"Ультра\" в месяц\n",
      "45.9\n",
      "\n",
      "Стандартное отклонение выборки сообщений по тарифу \"Смарт\" в месяц\n",
      "26.8\n"
     ]
    }
   ],
   "source": [
    "#действуем аналогично расчету минут\n",
    "\n",
    "\n",
    "array_messages_ultra = np.array (messages_per_month.query('tariff == \"ultra\"')[month_col]).flatten()\n",
    "array_messages_smart = np.array (messages_per_month.query('tariff == \"smart\"')[month_col]).flatten()\n",
    "\n",
    "\n",
    "print('Среднее значение потраченных сообщений в тарифе Ультра в месяц')\n",
    "print(\"{:.0f}\".format(np.nanmean(array_messages_ultra)))\n",
    "print('Среднее значение потраченных сообщений в тарифе Смарт в месяц')\n",
    "print(\"{:.0f}\".format(np.nanmean(array_messages_smart)))\n",
    "print()\n",
    "\n",
    "print('Дисперсия выборки сообщений по тарифу \"Ультра\" в месяц')\n",
    "print(\"{:.1f}\".format(np.nanvar(array_messages_ultra, ddof=1)))\n",
    "print()\n",
    "\n",
    "print('Дисперсия выборки сообщений по тарифу \"Смарт\" в месяц')\n",
    "print(\"{:.1f}\".format(np.nanvar(array_messages_smart, ddof=1)))\n",
    "print()\n",
    "\n",
    "print('Стандартное отклонение выборки сообщений по тарифу \"Ультра\" в месяц')\n",
    "print(\"{:.1f}\".format(np.nanstd(array_messages_ultra, ddof=1)))\n",
    "print()\n",
    "\n",
    "print('Стандартное отклонение выборки сообщений по тарифу \"Смарт\" в месяц')\n",
    "print(\"{:.1f}\".format(np.nanstd(array_messages_smart, ddof=1)))"
   ]
  },
  {
   "cell_type": "code",
   "execution_count": 32,
   "metadata": {},
   "outputs": [
    {
     "data": {
      "image/png": "[encoded data removed]",
      "text/plain": [
       "<Figure size 432x288 with 1 Axes>"
      ]
     },
     "metadata": {
      "needs_background": "light"
     },
     "output_type": "display_data"
    }
   ],
   "source": [
    "pd.Series(np.array(\n",
    "    messages_per_month.query('tariff == \"ultra\"')[month_col])\n",
    "          .flatten()).plot(bins=20, kind='hist', alpha=0.7, label='ultra')\n",
    "\n",
    "pd.Series(\n",
    "    np.array(messages_per_month.query('tariff == \"smart\"')[month_col])\n",
    "    .flatten()).plot(\n",
    "    bins=20, kind='hist', alpha=0.3, label='smart')\n",
    "\n",
    "plt.legend()\n",
    "plt.xlabel('Сообщения')\n",
    "plt.ylabel('Частота')\n",
    "plt.title('Гистограмма ежемесячного расхода сообщений в зависимости от тарифа')\n",
    "plt.show()"
   ]
  },
  {
   "cell_type": "markdown",
   "metadata": {},
   "source": [
    "Похоже популярность сообщений падает. Даже 50 сообщений включеных в тариф smart  не используются в большинстве своём пользователями. В целом похоже пользователям, в независимости от тарифа хватает около 50 сообщений в месяц"
   ]
  },
  {
   "cell_type": "markdown",
   "metadata": {},
   "source": [
    "## Рассмотрим статистику по расходованию интернет-трафика"
   ]
  },
  {
   "cell_type": "code",
   "execution_count": 33,
   "metadata": {},
   "outputs": [
    {
     "name": "stdout",
     "output_type": "stream",
     "text": [
      "Среднее значение использованного интернет-трафика в тарифе Ультра в месяц\n",
      "19668.5\n",
      "Среднее значение использованного интернет-трафика в тарифе Смарт в месяц\n",
      "16215.7\n",
      "\n",
      "Дисперсия использованного интернет-трафика  по тарифу \"Ультра\" в месяц\n",
      "98864249.0\n",
      "\n",
      "Дисперсия использованного интернет-трафика  по тарифу \"Смарт\" в месяц\n",
      "34359951.7\n",
      "\n",
      "Стандартное отклонение использованного интернет-трафика по тарифу \"Ультра\" в месяц\n",
      "9943.1\n",
      "\n",
      "Стандартное отклонение использованного интернет-трафика  по тарифу \"Смарт\" в месяц\n",
      "5861.7\n"
     ]
    }
   ],
   "source": [
    "#действуем аналогично расчету минут\n",
    "\n",
    "\n",
    "array_internet_ultra = np.array (internet_per_month.query('tariff == \"ultra\"')[month_col]).flatten()\n",
    "array_internet_smart = np.array (internet_per_month.query('tariff == \"smart\"')[month_col]).flatten()\n",
    "\n",
    "\n",
    "print('Среднее значение использованного интернет-трафика в тарифе Ультра в месяц')\n",
    "print(\"{:.1f}\".format(np.nanmean(array_internet_ultra)))\n",
    "print('Среднее значение использованного интернет-трафика в тарифе Смарт в месяц')\n",
    "print(\"{:.1f}\".format(np.nanmean(array_internet_smart)))\n",
    "print()\n",
    "\n",
    "print('Дисперсия использованного интернет-трафика  по тарифу \"Ультра\" в месяц')\n",
    "print(\"{:.1f}\".format(np.nanvar(array_internet_ultra, ddof=1)))\n",
    "print()\n",
    "\n",
    "print('Дисперсия использованного интернет-трафика  по тарифу \"Смарт\" в месяц')\n",
    "print(\"{:.1f}\".format(np.nanvar(array_internet_smart, ddof=1)))\n",
    "print()\n",
    "\n",
    "print('Стандартное отклонение использованного интернет-трафика по тарифу \"Ультра\" в месяц')\n",
    "print(\"{:.1f}\".format(np.nanstd(array_internet_ultra, ddof=1)))\n",
    "print()\n",
    "\n",
    "print('Стандартное отклонение использованного интернет-трафика  по тарифу \"Смарт\" в месяц')\n",
    "print(\"{:.1f}\".format(np.nanstd(array_internet_smart, ddof=1)))"
   ]
  },
  {
   "cell_type": "code",
   "execution_count": 34,
   "metadata": {},
   "outputs": [
    {
     "data": {
      "image/png": "[encoded data removed]",
      "text/plain": [
       "<Figure size 432x288 with 1 Axes>"
      ]
     },
     "metadata": {
      "needs_background": "light"
     },
     "output_type": "display_data"
    }
   ],
   "source": [
    "\n",
    "pd.Series(np.array(\n",
    "    internet_per_month.query('tariff == \"ultra\"')[month_col])\n",
    "          .flatten()).plot(bins=20, kind='hist', alpha=0.7, label='ultra')\n",
    "\n",
    "pd.Series(\n",
    "    np.array(internet_per_month.query('tariff == \"smart\"')[month_col])\n",
    "    .flatten()).plot(\n",
    "    bins=20, kind='hist', alpha=0.3, label='smart')\n",
    "\n",
    "plt.legend()\n",
    "plt.xlabel('Интернет-трафик')\n",
    "plt.ylabel('Частота')\n",
    "plt.title('Гистограмма ежемесячного расхода интернет-трафика в зависимости от тарифа')\n",
    "plt.show()"
   ]
  },
  {
   "cell_type": "markdown",
   "metadata": {},
   "source": [
    "Пользователи тарифа smart склонны по полной использовать весь включенный в тариф интернет-трафик. Пользователи тарифа ultra похоже используют интернет-трафик так, как им хочется - кто-то очень много, кто-то меньше.   "
   ]
  },
  {
   "cell_type": "markdown",
   "metadata": {},
   "source": [
    "# Проверка гипотез"
   ]
  },
  {
   "cell_type": "markdown",
   "metadata": {},
   "source": [
    "Проверим гипотезы выдвинутые коммерческим департаментом:\n",
    "1. Средняя выручка пользователей тарифов «Ультра» и «Смарт» различаются\n",
    "2. Средняя выручка пользователей из Москвы отличается от выручки пользователей из других регионов"
   ]
  },
  {
   "cell_type": "markdown",
   "metadata": {},
   "source": [
    "Рассмотрим первую гипотезу: Средняя выручка пользователей тарифов «Ультра» и «Смарт» различаются.\n",
    "\n",
    "Возьмем за нулевую гипотезу утверждение, что средняя выручка тарифа \"Ультра\" и тарифа \"Смарт\" равны.\n",
    "Алтернативной гипотезой будет утверждение, что средняя выручка пользователей тарифов «Ультра» и «Смарт» различаются.\n",
    "\n",
    "Значение альфа возьмем в 5%\n",
    "\n",
    "Попробуем опровергнуть нулевую гипотезу:"
   ]
  },
  {
   "cell_type": "code",
   "execution_count": 35,
   "metadata": {},
   "outputs": [],
   "source": [
    "total_cach_2 = total_cach.copy()"
   ]
  },
  {
   "cell_type": "code",
   "execution_count": 36,
   "metadata": {},
   "outputs": [
    {
     "data": {
      "text/html": [
       "<div>\n",
       "<style scoped>\n",
       "    .dataframe tbody tr th:only-of-type {\n",
       "        vertical-align: middle;\n",
       "    }\n",
       "\n",
       "    .dataframe tbody tr th {\n",
       "        vertical-align: top;\n",
       "    }\n",
       "\n",
       "    .dataframe thead th {\n",
       "        text-align: right;\n",
       "    }\n",
       "</style>\n",
       "<table border=\"1\" class=\"dataframe\">\n",
       "  <thead>\n",
       "    <tr style=\"text-align: right;\">\n",
       "      <th></th>\n",
       "      <th>user_id</th>\n",
       "      <th>city</th>\n",
       "      <th>tariff</th>\n",
       "      <th>jan</th>\n",
       "      <th>feb</th>\n",
       "      <th>mar</th>\n",
       "      <th>apr</th>\n",
       "      <th>may</th>\n",
       "      <th>jun</th>\n",
       "      <th>jul</th>\n",
       "      <th>aug</th>\n",
       "      <th>sep</th>\n",
       "      <th>oct</th>\n",
       "      <th>nov</th>\n",
       "      <th>dec</th>\n",
       "      <th>year_cach</th>\n",
       "    </tr>\n",
       "  </thead>\n",
       "  <tbody>\n",
       "    <tr>\n",
       "      <td>0</td>\n",
       "      <td>1000</td>\n",
       "      <td>Краснодар</td>\n",
       "      <td>ultra</td>\n",
       "      <td>0.0</td>\n",
       "      <td>0.0</td>\n",
       "      <td>0.0</td>\n",
       "      <td>0.0</td>\n",
       "      <td>1950.0</td>\n",
       "      <td>1950.0</td>\n",
       "      <td>1950.0</td>\n",
       "      <td>1950.0</td>\n",
       "      <td>1950.0</td>\n",
       "      <td>1950.0</td>\n",
       "      <td>1950.0</td>\n",
       "      <td>1950.0</td>\n",
       "      <td>15600.0</td>\n",
       "    </tr>\n",
       "    <tr>\n",
       "      <td>1</td>\n",
       "      <td>1001</td>\n",
       "      <td>Москва</td>\n",
       "      <td>smart</td>\n",
       "      <td>0.0</td>\n",
       "      <td>0.0</td>\n",
       "      <td>0.0</td>\n",
       "      <td>0.0</td>\n",
       "      <td>0.0</td>\n",
       "      <td>0.0</td>\n",
       "      <td>0.0</td>\n",
       "      <td>0.0</td>\n",
       "      <td>0.0</td>\n",
       "      <td>0.0</td>\n",
       "      <td>1150.0</td>\n",
       "      <td>550.0</td>\n",
       "      <td>1700.0</td>\n",
       "    </tr>\n",
       "    <tr>\n",
       "      <td>2</td>\n",
       "      <td>1002</td>\n",
       "      <td>Стерлитамак</td>\n",
       "      <td>smart</td>\n",
       "      <td>0.0</td>\n",
       "      <td>0.0</td>\n",
       "      <td>0.0</td>\n",
       "      <td>0.0</td>\n",
       "      <td>0.0</td>\n",
       "      <td>550.0</td>\n",
       "      <td>1150.0</td>\n",
       "      <td>1550.0</td>\n",
       "      <td>950.0</td>\n",
       "      <td>550.0</td>\n",
       "      <td>1350.0</td>\n",
       "      <td>1150.0</td>\n",
       "      <td>7250.0</td>\n",
       "    </tr>\n",
       "    <tr>\n",
       "      <td>3</td>\n",
       "      <td>1003</td>\n",
       "      <td>Москва</td>\n",
       "      <td>ultra</td>\n",
       "      <td>0.0</td>\n",
       "      <td>0.0</td>\n",
       "      <td>0.0</td>\n",
       "      <td>0.0</td>\n",
       "      <td>0.0</td>\n",
       "      <td>0.0</td>\n",
       "      <td>0.0</td>\n",
       "      <td>1950.0</td>\n",
       "      <td>1950.0</td>\n",
       "      <td>1950.0</td>\n",
       "      <td>1950.0</td>\n",
       "      <td>1950.0</td>\n",
       "      <td>9750.0</td>\n",
       "    </tr>\n",
       "    <tr>\n",
       "      <td>4</td>\n",
       "      <td>1004</td>\n",
       "      <td>Новокузнецк</td>\n",
       "      <td>ultra</td>\n",
       "      <td>0.0</td>\n",
       "      <td>0.0</td>\n",
       "      <td>0.0</td>\n",
       "      <td>0.0</td>\n",
       "      <td>1950.0</td>\n",
       "      <td>1950.0</td>\n",
       "      <td>1950.0</td>\n",
       "      <td>1950.0</td>\n",
       "      <td>1950.0</td>\n",
       "      <td>1950.0</td>\n",
       "      <td>1950.0</td>\n",
       "      <td>1950.0</td>\n",
       "      <td>15600.0</td>\n",
       "    </tr>\n",
       "  </tbody>\n",
       "</table>\n",
       "</div>"
      ],
      "text/plain": [
       "   user_id         city tariff  jan  feb  mar  apr     may     jun     jul  \\\n",
       "0     1000    Краснодар  ultra  0.0  0.0  0.0  0.0  1950.0  1950.0  1950.0   \n",
       "1     1001       Москва  smart  0.0  0.0  0.0  0.0     0.0     0.0     0.0   \n",
       "2     1002  Стерлитамак  smart  0.0  0.0  0.0  0.0     0.0   550.0  1150.0   \n",
       "3     1003       Москва  ultra  0.0  0.0  0.0  0.0     0.0     0.0     0.0   \n",
       "4     1004  Новокузнецк  ultra  0.0  0.0  0.0  0.0  1950.0  1950.0  1950.0   \n",
       "\n",
       "      aug     sep     oct     nov     dec  year_cach  \n",
       "0  1950.0  1950.0  1950.0  1950.0  1950.0    15600.0  \n",
       "1     0.0     0.0     0.0  1150.0   550.0     1700.0  \n",
       "2  1550.0   950.0   550.0  1350.0  1150.0     7250.0  \n",
       "3  1950.0  1950.0  1950.0  1950.0  1950.0     9750.0  \n",
       "4  1950.0  1950.0  1950.0  1950.0  1950.0    15600.0  "
      ]
     },
     "metadata": {},
     "output_type": "display_data"
    },
    {
     "name": "stdout",
     "output_type": "stream",
     "text": [
      "p-значение:  1.8933877119165368e-65\n",
      "Отвергаем нулевую гипотезу\n"
     ]
    }
   ],
   "source": [
    "#sample_ultra = np.array(total_cach.query('tariff == \"ultra\"')['year_cach']).flatten()\n",
    "\n",
    "#sample_smart = np.array(total_cach.query('tariff == \"smart\"')['year_cach']).flatten()\n",
    "\n",
    "# st.ttest_ind  у меня не работает с NaN. для получения статистики за месяц, я сделал \n",
    "# служебный массив с заменой NaN на 0\n",
    "\n",
    "for_statistic = total_cach.fillna(0)\n",
    "\n",
    "\n",
    "display(for_statistic.head())\n",
    "\n",
    "sample_ultra = np.array(for_statistic.query('tariff == \"ultra\"')[month_col]).flatten()\n",
    "\n",
    "\n",
    "\n",
    "sample_smart = np.array(for_statistic.query('tariff == \"smart\"')[month_col]).flatten()\n",
    "\n",
    "\n",
    "\n",
    "alpha = 0.05\n",
    "\n",
    "results = st.ttest_ind(sample_ultra, sample_smart)\n",
    "\n",
    "print('p-значение: ', results.pvalue)\n",
    "if results.pvalue < alpha:\n",
    "    print(\"Отвергаем нулевую гипотезу\")\n",
    "else:\n",
    "    print(\"Не получилось отвергнуть нулевую гипотезу\") "
   ]
  },
  {
   "cell_type": "markdown",
   "metadata": {},
   "source": [
    "Похоже коммерческий отдел прав и можно утверждать, что есть значительная вероятность того, что средняя выручка пользователей тарифов \"Ультра\" и \"Смарт\" отличаются.\n",
    "\n",
    "Проверим вторую гипотезу:\n",
    "\n",
    "Средняя выручка пользователей из Москвы отличается от выручки пользователей из других регионов. Возьмем за нулевую гипотезу утверждение, что средняя выручка не зависит от локации. \n",
    "\n",
    "Альтернативной гипотезой будет утверждение, что средняя выручка пользователей тарифов «Ультра» и «Смарт» различаются.\n",
    "\n",
    "Значение альфа возьмем в 5%\n",
    "\n",
    "Попробуем опровергнуть нулевую гипотезу:"
   ]
  },
  {
   "cell_type": "code",
   "execution_count": 38,
   "metadata": {},
   "outputs": [
    {
     "name": "stdout",
     "output_type": "stream",
     "text": [
      "p-значение:  0.34475932484730654\n",
      "Не получилось отвергнуть нулевую гипотезу\n"
     ]
    }
   ],
   "source": [
    "#sample_moscow = np.array(total_cach.query('city == \"Москва\"')['year_cach']).flatten()\n",
    "\n",
    "#sample_others = np.array(total_cach.query('city != \"Москва\"')['year_cach']).flatten()\n",
    "\n",
    "# st.ttest_ind  у меня не работает с NaN. для получения статистики за месяц, я сделал \n",
    "# служебный массив с заменой NaN на 0\n",
    "\n",
    "sample_moscow = np.array(for_statistic.query('city == \"Москва\"')[month_col]).flatten()\n",
    "\n",
    "\n",
    "sample_others = np.array(for_statistic.query('city != \"Москва\"')[month_col]).flatten()\n",
    "\n",
    "\n",
    "alpha = 0.05\n",
    "\n",
    "results = st.ttest_ind(sample_moscow, sample_others)\n",
    "\n",
    "print('p-значение: ', results.pvalue)\n",
    "\n",
    "if results.pvalue < alpha:\n",
    "    print(\"Отвергаем нулевую гипотезу\")\n",
    "else:\n",
    "    print(\"Не получилось отвергнуть нулевую гипотезу\") "
   ]
  },
  {
   "cell_type": "markdown",
   "metadata": {},
   "source": [
    "Можно утверждать, что со значительной вероятностью средняя выручка пользователей из Москвы не отличается от средней выручки пользователей из других регионов."
   ]
  },
  {
   "cell_type": "markdown",
   "metadata": {},
   "source": [
    "Поскольку подтвердилась гипотеза о том, что средняя выручка тарифов \"Ультра\" и \"Смарт\" различаются, давайте предположим от какого тарифа, компания получает больше денег. Именно так звучит задание коммерческого департамента\n"
   ]
  },
  {
   "cell_type": "code",
   "execution_count": 39,
   "metadata": {},
   "outputs": [
    {
     "data": {
      "text/html": [
       "<div>\n",
       "<style scoped>\n",
       "    .dataframe tbody tr th:only-of-type {\n",
       "        vertical-align: middle;\n",
       "    }\n",
       "\n",
       "    .dataframe tbody tr th {\n",
       "        vertical-align: top;\n",
       "    }\n",
       "\n",
       "    .dataframe thead th {\n",
       "        text-align: right;\n",
       "    }\n",
       "</style>\n",
       "<table border=\"1\" class=\"dataframe\">\n",
       "  <thead>\n",
       "    <tr style=\"text-align: right;\">\n",
       "      <th></th>\n",
       "      <th>year_cach</th>\n",
       "    </tr>\n",
       "    <tr>\n",
       "      <th>tariff</th>\n",
       "      <th></th>\n",
       "    </tr>\n",
       "  </thead>\n",
       "  <tbody>\n",
       "    <tr>\n",
       "      <td>smart</td>\n",
       "      <td>8191.883191</td>\n",
       "    </tr>\n",
       "    <tr>\n",
       "      <td>ultra</td>\n",
       "      <td>13685.234899</td>\n",
       "    </tr>\n",
       "  </tbody>\n",
       "</table>\n",
       "</div>"
      ],
      "text/plain": [
       "           year_cach\n",
       "tariff              \n",
       "smart    8191.883191\n",
       "ultra   13685.234899"
      ]
     },
     "execution_count": 39,
     "metadata": {},
     "output_type": "execute_result"
    }
   ],
   "source": [
    "total_cach.pivot_table(\n",
    "    index='tariff', values='year_cach', aggfunc='mean')"
   ]
  },
  {
   "cell_type": "markdown",
   "metadata": {},
   "source": [
    "Похоже, в рассматриваемой выборке, тариф \"Ультра\" приносит в среднем значительно больше, чем тариф \"Смарт\""
   ]
  },
  {
   "cell_type": "markdown",
   "metadata": {},
   "source": [
    "# Выводы"
   ]
  },
  {
   "cell_type": "markdown",
   "metadata": {},
   "source": [
    "  Федеральный оператор сотовой связи \"Мегалайн\" предлагает клиентам два тарифных плана: «Смарт» и «Ультра». Чтобы скорректировать рекламный бюджет, коммерческий департамент хочет понять, какой тариф приносит больше денег. Необходимо сделать предварительный анализ тарифов на небольшой выборке клиентов. \n",
    "\n",
    "   В нашем распоряжении данные 500 пользователей «Мегалайна»: кто они, откуда, каким тарифом пользуются, сколько звонков и сообщений каждый отправил за 2018 год.\n",
    "\n",
    "Данные переданы нам в нескольких таблицах.\n",
    "\n",
    "Таблица users (информация о пользователях)\n",
    "\n",
    "Таблица calls (информация о звонках)\n",
    "\n",
    "Таблица messages (информация о сообщениях)\n",
    "\n",
    "Таблица internet (информация об интернет-сессиях)\n",
    "\n",
    "Таблица tariffs (информация о тарифах)\n",
    "\n",
    "   Данные в целом в хорошем состоянии, исправления требуют совсем немного данных, но нам было необходимо добавить те колонки, которые пригодятся для анализа. Так же у нас оказалось три уникальных столбца называющихся одинаково (id) это точно может вызвать проблему при соединении таблиц. Для расчетов мы привели данные к нужным нам для анализа типам, исправили ошибки и подсчитали необходимые данные для каждого пользователя, а именно - количество сделанных звонков и израсходованных минут разговора по месяцам, количество отправленных сообщений по месяцам, объем израсходованного интернет-трафика по месяцам и помесячную выручку с каждого пользователя Мы округлили сразу минуты до целых, для каждого разговора, чтобы не возвращаться к этому позже. Проверили нулевые значения. \n",
    "   \n",
    "   После обработки данных, мы можем предположить поведение клиентов оператора, исходя из выборки:\n",
    "\n",
    "  -Судя по выборке в независимости от тарифа чаще всего проговаривается в месяц примерно 400-600 минут. Пользователи тарифа Ультра гораздо спокойнее относятся к использованию всего лимита минут, пользователи же тарифа Смарт стремятся использовать всё, отпущенное им количество минут и часто им требуются экстра минуты\n",
    "\n",
    "   -Похоже популярность сообщений падает. Даже 50 сообщений включеных в тариф Смарт не используются в большинстве своём пользователями. В целом похоже пользователям, в независимости от тарифа хватает около 50 сообщений в месяц\n",
    "\n",
    "   -Пользователи тарифа Смарт склонны по полной использовать весь включенный в тариф интернет-трафик. Пользователи тарифа Ультра похоже используют интернет-трафик так, как им хочется - кто-то очень много, кто-то меньше.\n",
    "\n",
    "\n",
    "   Проверим гипотезы выдвинутые коммерческим департаментом:\n",
    "\n",
    "1. Средняя выручка пользователей тарифов «Ультра» и «Смарт» различаются\n",
    "2. Средняя выручка пользователей из Москвы отличается от выручки пользователей из других регионов\n",
    "\n",
    "С значительной долей вероятности подтверждается гипотеза коммерческого отдела о том, что выручка от разных тарифов различается. Если исходить из имеющейся у нас выборки, то тариф \"Ультра\" вляется более выгодным для компании, чем тариф \"Смарт\". Наше исследование рекомендует скорректировать рекламный бюджет в сторону большего продвижения тарифа Ультра.  \n",
    "\n",
    "А вот гипотеза о том, что различается средняя выручка в Москве и регионах с значительной долей вероятности не подтверждается."
   ]
  }
 ],
 "metadata": {
  "ExecuteTimeLog": [
   {
    "duration": 332,
    "start_time": "2021-08-26T12:40:10.374Z"
   },
   {
    "duration": 2052,
    "start_time": "2021-08-26T12:40:19.065Z"
   },
   {
    "duration": 540,
    "start_time": "2021-08-26T12:40:25.413Z"
   },
   {
    "duration": 30,
    "start_time": "2021-08-26T12:40:29.303Z"
   },
   {
    "duration": 71,
    "start_time": "2021-08-26T12:43:29.179Z"
   },
   {
    "duration": 70,
    "start_time": "2021-08-26T12:43:55.746Z"
   },
   {
    "duration": 359,
    "start_time": "2021-08-26T14:39:32.991Z"
   },
   {
    "duration": 1935,
    "start_time": "2021-08-26T14:39:50.911Z"
   },
   {
    "duration": 75,
    "start_time": "2021-08-26T14:39:58.761Z"
   },
   {
    "duration": 45,
    "start_time": "2021-08-26T14:50:23.336Z"
   },
   {
    "duration": 1212,
    "start_time": "2021-08-26T14:55:44.894Z"
   },
   {
    "duration": 51,
    "start_time": "2021-08-26T14:57:04.514Z"
   },
   {
    "duration": 154,
    "start_time": "2021-08-27T19:42:38.695Z"
   },
   {
    "duration": -270,
    "start_time": "2021-08-27T19:42:39.122Z"
   },
   {
    "duration": -272,
    "start_time": "2021-08-27T19:42:39.126Z"
   },
   {
    "duration": -270,
    "start_time": "2021-08-27T19:42:39.126Z"
   },
   {
    "duration": -269,
    "start_time": "2021-08-27T19:42:39.128Z"
   },
   {
    "duration": -270,
    "start_time": "2021-08-27T19:42:39.131Z"
   },
   {
    "duration": 2003,
    "start_time": "2021-08-27T19:43:06.486Z"
   },
   {
    "duration": 81,
    "start_time": "2021-08-27T19:43:08.491Z"
   },
   {
    "duration": 79,
    "start_time": "2021-08-27T19:43:08.575Z"
   },
   {
    "duration": 44,
    "start_time": "2021-08-27T19:43:08.656Z"
   },
   {
    "duration": 49,
    "start_time": "2021-08-27T19:43:08.716Z"
   },
   {
    "duration": 35,
    "start_time": "2021-08-27T19:45:26.475Z"
   },
   {
    "duration": 118,
    "start_time": "2021-08-27T20:11:34.705Z"
   },
   {
    "duration": 76,
    "start_time": "2021-08-27T20:12:06.544Z"
   },
   {
    "duration": 71,
    "start_time": "2021-08-27T20:12:33.849Z"
   },
   {
    "duration": 71,
    "start_time": "2021-08-27T20:12:49.936Z"
   },
   {
    "duration": 81,
    "start_time": "2021-08-27T20:19:49.941Z"
   },
   {
    "duration": 608,
    "start_time": "2021-08-27T20:21:08.853Z"
   },
   {
    "duration": 2056,
    "start_time": "2021-08-27T20:21:40.471Z"
   },
   {
    "duration": 86,
    "start_time": "2021-08-27T20:21:42.530Z"
   },
   {
    "duration": 73,
    "start_time": "2021-08-27T20:21:42.620Z"
   },
   {
    "duration": 59,
    "start_time": "2021-08-27T20:21:42.696Z"
   },
   {
    "duration": 82,
    "start_time": "2021-08-27T20:21:42.757Z"
   },
   {
    "duration": 34,
    "start_time": "2021-08-27T20:21:42.842Z"
   },
   {
    "duration": 153,
    "start_time": "2021-08-27T20:21:42.878Z"
   },
   {
    "duration": 104,
    "start_time": "2021-08-27T20:21:43.033Z"
   },
   {
    "duration": -300,
    "start_time": "2021-08-27T20:32:58.813Z"
   },
   {
    "duration": -300,
    "start_time": "2021-08-27T20:33:25.796Z"
   },
   {
    "duration": 9456,
    "start_time": "2021-08-27T20:33:31.561Z"
   },
   {
    "duration": 9600,
    "start_time": "2021-08-27T20:34:12.013Z"
   },
   {
    "duration": 2008,
    "start_time": "2021-08-27T20:36:04.081Z"
   },
   {
    "duration": 79,
    "start_time": "2021-08-27T20:36:06.091Z"
   },
   {
    "duration": 84,
    "start_time": "2021-08-27T20:36:06.173Z"
   },
   {
    "duration": 62,
    "start_time": "2021-08-27T20:36:06.260Z"
   },
   {
    "duration": 49,
    "start_time": "2021-08-27T20:36:06.325Z"
   },
   {
    "duration": 68,
    "start_time": "2021-08-27T20:36:06.376Z"
   },
   {
    "duration": 139,
    "start_time": "2021-08-27T20:36:06.446Z"
   },
   {
    "duration": 94,
    "start_time": "2021-08-27T20:36:06.588Z"
   },
   {
    "duration": 10540,
    "start_time": "2021-08-27T20:36:06.685Z"
   },
   {
    "duration": 9913,
    "start_time": "2021-08-27T20:48:25.415Z"
   },
   {
    "duration": 513,
    "start_time": "2021-08-27T20:49:13.615Z"
   },
   {
    "duration": 46,
    "start_time": "2021-08-27T20:49:20.290Z"
   },
   {
    "duration": 67,
    "start_time": "2021-08-27T20:50:58.740Z"
   },
   {
    "duration": 1838,
    "start_time": "2021-08-29T11:08:30.599Z"
   },
   {
    "duration": 81,
    "start_time": "2021-08-29T11:08:32.439Z"
   },
   {
    "duration": 80,
    "start_time": "2021-08-29T11:08:32.523Z"
   },
   {
    "duration": 56,
    "start_time": "2021-08-29T11:08:32.606Z"
   },
   {
    "duration": 39,
    "start_time": "2021-08-29T11:08:32.665Z"
   },
   {
    "duration": 56,
    "start_time": "2021-08-29T11:08:32.707Z"
   },
   {
    "duration": 122,
    "start_time": "2021-08-29T11:08:32.765Z"
   },
   {
    "duration": 95,
    "start_time": "2021-08-29T11:08:32.890Z"
   },
   {
    "duration": 74,
    "start_time": "2021-08-29T11:08:32.988Z"
   },
   {
    "duration": 113,
    "start_time": "2021-08-29T11:08:33.065Z"
   },
   {
    "duration": 26,
    "start_time": "2021-08-29T11:14:43.492Z"
   },
   {
    "duration": 21,
    "start_time": "2021-08-29T11:19:42.760Z"
   },
   {
    "duration": 71,
    "start_time": "2021-08-29T11:56:28.972Z"
   },
   {
    "duration": 115,
    "start_time": "2021-08-29T12:01:20.110Z"
   },
   {
    "duration": 112,
    "start_time": "2021-08-29T12:01:41.130Z"
   },
   {
    "duration": 71,
    "start_time": "2021-08-29T12:02:11.692Z"
   },
   {
    "duration": 56,
    "start_time": "2021-08-29T12:02:18.078Z"
   },
   {
    "duration": 73,
    "start_time": "2021-08-29T12:02:57.814Z"
   },
   {
    "duration": 438,
    "start_time": "2021-08-29T12:06:32.278Z"
   },
   {
    "duration": 98,
    "start_time": "2021-08-29T12:07:17.453Z"
   },
   {
    "duration": 354,
    "start_time": "2021-08-29T12:07:46.591Z"
   },
   {
    "duration": 62,
    "start_time": "2021-08-29T12:09:56.667Z"
   },
   {
    "duration": 74,
    "start_time": "2021-08-29T12:12:18.783Z"
   },
   {
    "duration": 7567,
    "start_time": "2021-08-29T12:14:20.551Z"
   },
   {
    "duration": 105,
    "start_time": "2021-08-29T12:15:04.666Z"
   },
   {
    "duration": 75,
    "start_time": "2021-08-29T12:16:02.414Z"
   },
   {
    "duration": 55,
    "start_time": "2021-08-29T12:16:05.127Z"
   },
   {
    "duration": 58,
    "start_time": "2021-08-29T12:17:52.250Z"
   },
   {
    "duration": 31,
    "start_time": "2021-08-29T12:18:18.976Z"
   },
   {
    "duration": 58,
    "start_time": "2021-08-29T12:18:53.550Z"
   },
   {
    "duration": 58,
    "start_time": "2021-08-29T12:19:01.975Z"
   },
   {
    "duration": 72,
    "start_time": "2021-08-29T12:19:15.825Z"
   },
   {
    "duration": 53,
    "start_time": "2021-08-29T12:37:41.046Z"
   },
   {
    "duration": 315,
    "start_time": "2021-08-29T12:41:30.915Z"
   },
   {
    "duration": 50,
    "start_time": "2021-08-29T12:41:38.570Z"
   },
   {
    "duration": 31,
    "start_time": "2021-08-29T13:53:16.665Z"
   },
   {
    "duration": 29,
    "start_time": "2021-08-29T13:53:38.514Z"
   },
   {
    "duration": 41,
    "start_time": "2021-08-29T13:53:49.122Z"
   },
   {
    "duration": 1957,
    "start_time": "2021-08-29T13:54:43.711Z"
   },
   {
    "duration": 80,
    "start_time": "2021-08-29T13:54:45.671Z"
   },
   {
    "duration": 64,
    "start_time": "2021-08-29T13:54:45.754Z"
   },
   {
    "duration": 57,
    "start_time": "2021-08-29T13:54:45.821Z"
   },
   {
    "duration": 63,
    "start_time": "2021-08-29T13:54:45.880Z"
   },
   {
    "duration": 31,
    "start_time": "2021-08-29T13:54:45.946Z"
   },
   {
    "duration": 137,
    "start_time": "2021-08-29T13:54:45.980Z"
   },
   {
    "duration": 91,
    "start_time": "2021-08-29T13:54:46.122Z"
   },
   {
    "duration": 78,
    "start_time": "2021-08-29T13:54:46.216Z"
   },
   {
    "duration": 45,
    "start_time": "2021-08-29T13:54:46.297Z"
   },
   {
    "duration": 73,
    "start_time": "2021-08-29T13:54:46.345Z"
   },
   {
    "duration": 57,
    "start_time": "2021-08-29T13:54:46.440Z"
   },
   {
    "duration": 70,
    "start_time": "2021-08-29T13:54:46.499Z"
   },
   {
    "duration": 47,
    "start_time": "2021-08-29T13:54:46.571Z"
   },
   {
    "duration": 46,
    "start_time": "2021-08-29T13:54:46.620Z"
   },
   {
    "duration": 30,
    "start_time": "2021-08-29T13:56:16.447Z"
   },
   {
    "duration": 40,
    "start_time": "2021-08-29T13:56:39.934Z"
   },
   {
    "duration": 61,
    "start_time": "2021-08-29T13:57:41.422Z"
   },
   {
    "duration": 35,
    "start_time": "2021-08-29T13:59:17.422Z"
   },
   {
    "duration": 22,
    "start_time": "2021-08-29T14:01:19.997Z"
   },
   {
    "duration": 39,
    "start_time": "2021-08-29T14:01:41.171Z"
   },
   {
    "duration": 448,
    "start_time": "2021-08-29T14:13:54.020Z"
   },
   {
    "duration": 144,
    "start_time": "2021-08-29T14:15:56.418Z"
   },
   {
    "duration": 123,
    "start_time": "2021-08-29T14:16:10.007Z"
   },
   {
    "duration": 9731,
    "start_time": "2021-08-29T14:16:34.782Z"
   },
   {
    "duration": 7509,
    "start_time": "2021-08-29T14:17:36.295Z"
   },
   {
    "duration": 7784,
    "start_time": "2021-08-29T14:17:48.007Z"
   },
   {
    "duration": 8794,
    "start_time": "2021-08-29T14:18:49.332Z"
   },
   {
    "duration": 109,
    "start_time": "2021-08-29T14:24:37.768Z"
   },
   {
    "duration": 6645,
    "start_time": "2021-08-29T14:24:45.942Z"
   },
   {
    "duration": 74,
    "start_time": "2021-08-29T14:29:02.884Z"
   },
   {
    "duration": 59,
    "start_time": "2021-08-29T14:58:59.591Z"
   },
   {
    "duration": 27,
    "start_time": "2021-08-29T14:59:25.686Z"
   },
   {
    "duration": 335,
    "start_time": "2021-08-29T15:19:43.212Z"
   },
   {
    "duration": 220,
    "start_time": "2021-08-29T15:20:13.445Z"
   },
   {
    "duration": 37,
    "start_time": "2021-08-29T15:24:12.795Z"
   },
   {
    "duration": 180,
    "start_time": "2021-08-29T15:24:20.719Z"
   },
   {
    "duration": 186,
    "start_time": "2021-08-29T15:26:08.507Z"
   },
   {
    "duration": 219,
    "start_time": "2021-08-29T15:26:41.771Z"
   },
   {
    "duration": 498,
    "start_time": "2021-08-29T15:33:02.204Z"
   },
   {
    "duration": 230,
    "start_time": "2021-08-29T15:33:07.570Z"
   },
   {
    "duration": 34,
    "start_time": "2021-08-29T16:26:13.550Z"
   },
   {
    "duration": 1446,
    "start_time": "2021-08-29T16:26:45.405Z"
   },
   {
    "duration": 57,
    "start_time": "2021-08-29T16:26:46.853Z"
   },
   {
    "duration": 50,
    "start_time": "2021-08-29T16:26:46.912Z"
   },
   {
    "duration": 29,
    "start_time": "2021-08-29T16:26:46.964Z"
   },
   {
    "duration": 54,
    "start_time": "2021-08-29T16:26:46.994Z"
   },
   {
    "duration": 22,
    "start_time": "2021-08-29T16:26:47.049Z"
   },
   {
    "duration": 100,
    "start_time": "2021-08-29T16:26:47.072Z"
   },
   {
    "duration": 57,
    "start_time": "2021-08-29T16:26:47.174Z"
   },
   {
    "duration": 44,
    "start_time": "2021-08-29T16:26:47.240Z"
   },
   {
    "duration": 18,
    "start_time": "2021-08-29T16:26:47.285Z"
   },
   {
    "duration": 75,
    "start_time": "2021-08-29T16:26:47.305Z"
   },
   {
    "duration": 48,
    "start_time": "2021-08-29T16:26:47.382Z"
   },
   {
    "duration": 50,
    "start_time": "2021-08-29T16:26:47.431Z"
   },
   {
    "duration": 37,
    "start_time": "2021-08-29T16:26:47.483Z"
   },
   {
    "duration": 47,
    "start_time": "2021-08-29T16:26:47.522Z"
   },
   {
    "duration": 343,
    "start_time": "2021-08-29T16:26:47.570Z"
   },
   {
    "duration": 154,
    "start_time": "2021-08-29T16:30:24.166Z"
   },
   {
    "duration": 198,
    "start_time": "2021-08-29T16:31:15.323Z"
   },
   {
    "duration": 157,
    "start_time": "2021-08-29T16:34:06.567Z"
   },
   {
    "duration": 169,
    "start_time": "2021-08-29T16:35:22.710Z"
   },
   {
    "duration": 196,
    "start_time": "2021-08-29T16:37:14.310Z"
   },
   {
    "duration": 156,
    "start_time": "2021-08-29T16:37:44.297Z"
   },
   {
    "duration": 180,
    "start_time": "2021-08-29T16:39:53.933Z"
   },
   {
    "duration": 14,
    "start_time": "2021-08-29T16:41:37.972Z"
   },
   {
    "duration": 160,
    "start_time": "2021-08-29T16:42:31.522Z"
   },
   {
    "duration": 162,
    "start_time": "2021-08-29T16:48:06.790Z"
   },
   {
    "duration": 15,
    "start_time": "2021-08-29T16:48:28.370Z"
   },
   {
    "duration": 31,
    "start_time": "2021-08-29T17:50:21.208Z"
   },
   {
    "duration": 1465,
    "start_time": "2021-08-29T17:52:16.789Z"
   },
   {
    "duration": 57,
    "start_time": "2021-08-29T17:52:18.255Z"
   },
   {
    "duration": 45,
    "start_time": "2021-08-29T17:52:18.314Z"
   },
   {
    "duration": 28,
    "start_time": "2021-08-29T17:52:18.361Z"
   },
   {
    "duration": 27,
    "start_time": "2021-08-29T17:52:18.390Z"
   },
   {
    "duration": 43,
    "start_time": "2021-08-29T17:52:18.418Z"
   },
   {
    "duration": 96,
    "start_time": "2021-08-29T17:52:18.463Z"
   },
   {
    "duration": 56,
    "start_time": "2021-08-29T17:52:18.562Z"
   },
   {
    "duration": 61,
    "start_time": "2021-08-29T17:52:18.619Z"
   },
   {
    "duration": 18,
    "start_time": "2021-08-29T17:52:18.682Z"
   },
   {
    "duration": 68,
    "start_time": "2021-08-29T17:52:18.702Z"
   },
   {
    "duration": 43,
    "start_time": "2021-08-29T17:52:18.771Z"
   },
   {
    "duration": 56,
    "start_time": "2021-08-29T17:52:18.815Z"
   },
   {
    "duration": 37,
    "start_time": "2021-08-29T17:52:18.872Z"
   },
   {
    "duration": 45,
    "start_time": "2021-08-29T17:52:18.910Z"
   },
   {
    "duration": 218,
    "start_time": "2021-08-29T17:52:18.956Z"
   },
   {
    "duration": 151,
    "start_time": "2021-08-29T17:52:19.176Z"
   },
   {
    "duration": 162,
    "start_time": "2021-08-29T17:52:19.328Z"
   },
   {
    "duration": 33,
    "start_time": "2021-08-29T17:55:52.344Z"
   },
   {
    "duration": 286,
    "start_time": "2021-08-30T18:19:08.523Z"
   },
   {
    "duration": 1486,
    "start_time": "2021-08-30T18:19:23.640Z"
   },
   {
    "duration": 365,
    "start_time": "2021-08-30T18:19:25.515Z"
   },
   {
    "duration": 408,
    "start_time": "2021-08-30T18:19:39.122Z"
   },
   {
    "duration": 54,
    "start_time": "2021-08-30T18:19:39.941Z"
   },
   {
    "duration": 52,
    "start_time": "2021-08-30T18:19:41.266Z"
   },
   {
    "duration": 30,
    "start_time": "2021-08-30T18:19:42.204Z"
   },
   {
    "duration": 32,
    "start_time": "2021-08-30T18:19:42.791Z"
   },
   {
    "duration": 21,
    "start_time": "2021-08-30T18:19:43.241Z"
   },
   {
    "duration": 77,
    "start_time": "2021-08-30T18:19:44.129Z"
   },
   {
    "duration": 71,
    "start_time": "2021-08-30T18:19:44.565Z"
   },
   {
    "duration": 50,
    "start_time": "2021-08-30T18:19:45.079Z"
   },
   {
    "duration": 23,
    "start_time": "2021-08-30T18:19:45.791Z"
   },
   {
    "duration": 66,
    "start_time": "2021-08-30T18:19:48.161Z"
   },
   {
    "duration": 45,
    "start_time": "2021-08-30T18:19:48.229Z"
   },
   {
    "duration": 47,
    "start_time": "2021-08-30T18:19:49.179Z"
   },
   {
    "duration": 36,
    "start_time": "2021-08-30T18:19:50.430Z"
   },
   {
    "duration": 31,
    "start_time": "2021-08-30T18:19:51.904Z"
   },
   {
    "duration": 162,
    "start_time": "2021-08-30T18:19:52.653Z"
   },
   {
    "duration": 182,
    "start_time": "2021-08-30T18:19:53.879Z"
   },
   {
    "duration": 182,
    "start_time": "2021-08-30T18:19:54.541Z"
   },
   {
    "duration": 162,
    "start_time": "2021-08-30T18:20:52.015Z"
   },
   {
    "duration": 177,
    "start_time": "2021-08-30T18:21:14.566Z"
   },
   {
    "duration": 173,
    "start_time": "2021-08-30T18:22:20.290Z"
   },
   {
    "duration": 445,
    "start_time": "2021-08-30T18:23:01.029Z"
   },
   {
    "duration": 275,
    "start_time": "2021-08-30T18:23:21.165Z"
   },
   {
    "duration": 399,
    "start_time": "2021-08-30T18:29:31.003Z"
   },
   {
    "duration": 176,
    "start_time": "2021-08-30T18:31:30.990Z"
   },
   {
    "duration": 31,
    "start_time": "2021-08-30T18:34:25.202Z"
   },
   {
    "duration": 161,
    "start_time": "2021-08-30T18:37:54.939Z"
   },
   {
    "duration": 152,
    "start_time": "2021-08-30T18:43:21.201Z"
   },
   {
    "duration": 14,
    "start_time": "2021-08-30T18:45:50.337Z"
   },
   {
    "duration": 14,
    "start_time": "2021-08-30T18:46:46.937Z"
   },
   {
    "duration": 11,
    "start_time": "2021-08-30T18:47:45.326Z"
   },
   {
    "duration": 88,
    "start_time": "2021-08-30T18:50:17.800Z"
   },
   {
    "duration": 19,
    "start_time": "2021-08-30T18:50:24.224Z"
   },
   {
    "duration": 17,
    "start_time": "2021-08-30T18:52:11.487Z"
   },
   {
    "duration": 23,
    "start_time": "2021-08-30T19:10:09.545Z"
   },
   {
    "duration": 24,
    "start_time": "2021-08-30T19:14:43.157Z"
   },
   {
    "duration": 131,
    "start_time": "2021-08-30T19:36:33.477Z"
   },
   {
    "duration": 236,
    "start_time": "2021-08-30T19:43:55.651Z"
   },
   {
    "duration": 21,
    "start_time": "2021-08-30T19:44:15.415Z"
   },
   {
    "duration": 1822,
    "start_time": "2021-08-31T04:47:38.568Z"
   },
   {
    "duration": 73,
    "start_time": "2021-08-31T04:47:40.393Z"
   },
   {
    "duration": 63,
    "start_time": "2021-08-31T04:47:40.468Z"
   },
   {
    "duration": 55,
    "start_time": "2021-08-31T04:47:40.533Z"
   },
   {
    "duration": 40,
    "start_time": "2021-08-31T04:47:40.590Z"
   },
   {
    "duration": 64,
    "start_time": "2021-08-31T04:47:40.632Z"
   },
   {
    "duration": 124,
    "start_time": "2021-08-31T04:47:40.699Z"
   },
   {
    "duration": 88,
    "start_time": "2021-08-31T04:47:40.826Z"
   },
   {
    "duration": 67,
    "start_time": "2021-08-31T04:47:40.916Z"
   },
   {
    "duration": 25,
    "start_time": "2021-08-31T04:47:40.985Z"
   },
   {
    "duration": 99,
    "start_time": "2021-08-31T04:47:41.012Z"
   },
   {
    "duration": 72,
    "start_time": "2021-08-31T04:47:41.113Z"
   },
   {
    "duration": 52,
    "start_time": "2021-08-31T04:47:41.187Z"
   },
   {
    "duration": 64,
    "start_time": "2021-08-31T04:47:41.241Z"
   },
   {
    "duration": 38,
    "start_time": "2021-08-31T04:47:41.307Z"
   },
   {
    "duration": 207,
    "start_time": "2021-08-31T04:47:41.347Z"
   },
   {
    "duration": 217,
    "start_time": "2021-08-31T04:47:41.556Z"
   },
   {
    "duration": 215,
    "start_time": "2021-08-31T04:47:41.777Z"
   },
   {
    "duration": 19,
    "start_time": "2021-08-31T04:47:41.995Z"
   },
   {
    "duration": 22,
    "start_time": "2021-08-31T04:47:42.016Z"
   },
   {
    "duration": 116,
    "start_time": "2021-08-31T04:47:42.040Z"
   },
   {
    "duration": 516,
    "start_time": "2021-08-31T04:47:41.643Z"
   },
   {
    "duration": 516,
    "start_time": "2021-08-31T04:47:41.644Z"
   },
   {
    "duration": 515,
    "start_time": "2021-08-31T04:47:41.647Z"
   },
   {
    "duration": 513,
    "start_time": "2021-08-31T04:47:41.650Z"
   },
   {
    "duration": 513,
    "start_time": "2021-08-31T04:47:41.652Z"
   },
   {
    "duration": 513,
    "start_time": "2021-08-31T04:47:41.653Z"
   },
   {
    "duration": 1773,
    "start_time": "2021-08-31T04:48:19.466Z"
   },
   {
    "duration": 69,
    "start_time": "2021-08-31T04:48:21.241Z"
   },
   {
    "duration": 69,
    "start_time": "2021-08-31T04:48:21.314Z"
   },
   {
    "duration": 35,
    "start_time": "2021-08-31T04:48:21.385Z"
   },
   {
    "duration": 56,
    "start_time": "2021-08-31T04:48:21.422Z"
   },
   {
    "duration": 30,
    "start_time": "2021-08-31T04:48:21.480Z"
   },
   {
    "duration": 121,
    "start_time": "2021-08-31T04:48:21.512Z"
   },
   {
    "duration": 78,
    "start_time": "2021-08-31T04:48:21.636Z"
   },
   {
    "duration": 64,
    "start_time": "2021-08-31T04:48:21.717Z"
   },
   {
    "duration": 22,
    "start_time": "2021-08-31T04:48:21.783Z"
   },
   {
    "duration": 83,
    "start_time": "2021-08-31T04:48:21.807Z"
   },
   {
    "duration": 52,
    "start_time": "2021-08-31T04:48:21.892Z"
   },
   {
    "duration": 70,
    "start_time": "2021-08-31T04:48:21.946Z"
   },
   {
    "duration": 42,
    "start_time": "2021-08-31T04:48:22.018Z"
   },
   {
    "duration": 36,
    "start_time": "2021-08-31T04:48:22.077Z"
   },
   {
    "duration": 207,
    "start_time": "2021-08-31T04:48:22.114Z"
   },
   {
    "duration": 207,
    "start_time": "2021-08-31T04:48:22.323Z"
   },
   {
    "duration": 208,
    "start_time": "2021-08-31T04:48:22.531Z"
   },
   {
    "duration": 16,
    "start_time": "2021-08-31T04:48:22.741Z"
   },
   {
    "duration": 35,
    "start_time": "2021-08-31T04:48:22.759Z"
   },
   {
    "duration": 15,
    "start_time": "2021-08-31T04:48:22.796Z"
   },
   {
    "duration": 43,
    "start_time": "2021-08-31T04:48:22.812Z"
   },
   {
    "duration": 15,
    "start_time": "2021-08-31T04:48:22.857Z"
   },
   {
    "duration": 39,
    "start_time": "2021-08-31T04:48:22.873Z"
   },
   {
    "duration": 156,
    "start_time": "2021-08-31T04:48:22.914Z"
   },
   {
    "duration": 24,
    "start_time": "2021-08-31T04:48:23.073Z"
   },
   {
    "duration": 460,
    "start_time": "2021-08-31T05:00:20.738Z"
   },
   {
    "duration": 29,
    "start_time": "2021-08-31T05:00:29.923Z"
   },
   {
    "duration": 28,
    "start_time": "2021-08-31T05:09:59.847Z"
   },
   {
    "duration": 617,
    "start_time": "2021-08-31T05:11:21.534Z"
   },
   {
    "duration": 1752,
    "start_time": "2021-08-31T05:11:40.219Z"
   },
   {
    "duration": 73,
    "start_time": "2021-08-31T05:11:41.973Z"
   },
   {
    "duration": 79,
    "start_time": "2021-08-31T05:11:42.049Z"
   },
   {
    "duration": 62,
    "start_time": "2021-08-31T05:11:42.130Z"
   },
   {
    "duration": 43,
    "start_time": "2021-08-31T05:11:42.194Z"
   },
   {
    "duration": 50,
    "start_time": "2021-08-31T05:11:42.239Z"
   },
   {
    "duration": 115,
    "start_time": "2021-08-31T05:11:42.291Z"
   },
   {
    "duration": 94,
    "start_time": "2021-08-31T05:11:42.409Z"
   },
   {
    "duration": 71,
    "start_time": "2021-08-31T05:11:42.506Z"
   },
   {
    "duration": 23,
    "start_time": "2021-08-31T05:11:42.579Z"
   },
   {
    "duration": 88,
    "start_time": "2021-08-31T05:11:42.604Z"
   },
   {
    "duration": 57,
    "start_time": "2021-08-31T05:11:42.693Z"
   },
   {
    "duration": 68,
    "start_time": "2021-08-31T05:11:42.752Z"
   },
   {
    "duration": 65,
    "start_time": "2021-08-31T05:11:42.821Z"
   },
   {
    "duration": 37,
    "start_time": "2021-08-31T05:11:42.889Z"
   },
   {
    "duration": 222,
    "start_time": "2021-08-31T05:11:42.928Z"
   },
   {
    "duration": 209,
    "start_time": "2021-08-31T05:11:43.153Z"
   },
   {
    "duration": 209,
    "start_time": "2021-08-31T05:11:43.364Z"
   },
   {
    "duration": 18,
    "start_time": "2021-08-31T05:11:43.577Z"
   },
   {
    "duration": 22,
    "start_time": "2021-08-31T05:11:43.597Z"
   },
   {
    "duration": 13,
    "start_time": "2021-08-31T05:11:43.621Z"
   },
   {
    "duration": 44,
    "start_time": "2021-08-31T05:11:43.635Z"
   },
   {
    "duration": 7,
    "start_time": "2021-08-31T05:11:43.684Z"
   },
   {
    "duration": 27,
    "start_time": "2021-08-31T05:11:43.693Z"
   },
   {
    "duration": 179,
    "start_time": "2021-08-31T05:11:43.722Z"
   },
   {
    "duration": 31,
    "start_time": "2021-08-31T05:11:43.903Z"
   },
   {
    "duration": 29,
    "start_time": "2021-08-31T05:14:08.377Z"
   },
   {
    "duration": 29,
    "start_time": "2021-08-31T05:15:36.213Z"
   },
   {
    "duration": 33,
    "start_time": "2021-08-31T05:17:07.151Z"
   },
   {
    "duration": 451,
    "start_time": "2021-08-31T05:50:45.637Z"
   },
   {
    "duration": 425,
    "start_time": "2021-08-31T06:00:25.147Z"
   },
   {
    "duration": 107,
    "start_time": "2021-08-31T06:00:56.431Z"
   },
   {
    "duration": 78,
    "start_time": "2021-08-31T06:01:33.606Z"
   },
   {
    "duration": 93,
    "start_time": "2021-08-31T06:02:01.131Z"
   },
   {
    "duration": 316,
    "start_time": "2021-08-31T06:14:05.108Z"
   },
   {
    "duration": 1541,
    "start_time": "2021-08-31T18:54:58.025Z"
   },
   {
    "duration": 64,
    "start_time": "2021-08-31T18:54:59.568Z"
   },
   {
    "duration": 65,
    "start_time": "2021-08-31T18:54:59.635Z"
   },
   {
    "duration": 32,
    "start_time": "2021-08-31T18:54:59.703Z"
   },
   {
    "duration": 46,
    "start_time": "2021-08-31T18:54:59.737Z"
   },
   {
    "duration": 25,
    "start_time": "2021-08-31T18:54:59.784Z"
   },
   {
    "duration": 107,
    "start_time": "2021-08-31T18:54:59.810Z"
   },
   {
    "duration": 74,
    "start_time": "2021-08-31T18:54:59.919Z"
   },
   {
    "duration": 49,
    "start_time": "2021-08-31T18:54:59.996Z"
   },
   {
    "duration": 31,
    "start_time": "2021-08-31T18:55:00.047Z"
   },
   {
    "duration": 63,
    "start_time": "2021-08-31T18:55:00.080Z"
   },
   {
    "duration": 64,
    "start_time": "2021-08-31T18:55:00.145Z"
   },
   {
    "duration": 45,
    "start_time": "2021-08-31T18:55:00.211Z"
   },
   {
    "duration": 40,
    "start_time": "2021-08-31T18:55:00.277Z"
   },
   {
    "duration": 60,
    "start_time": "2021-08-31T18:55:00.319Z"
   },
   {
    "duration": 183,
    "start_time": "2021-08-31T18:55:00.381Z"
   },
   {
    "duration": 192,
    "start_time": "2021-08-31T18:55:00.566Z"
   },
   {
    "duration": 194,
    "start_time": "2021-08-31T18:55:00.760Z"
   },
   {
    "duration": 22,
    "start_time": "2021-08-31T18:55:00.956Z"
   },
   {
    "duration": 24,
    "start_time": "2021-08-31T18:55:00.980Z"
   },
   {
    "duration": 12,
    "start_time": "2021-08-31T18:55:01.006Z"
   },
   {
    "duration": 24,
    "start_time": "2021-08-31T18:55:01.021Z"
   },
   {
    "duration": 30,
    "start_time": "2021-08-31T18:55:01.047Z"
   },
   {
    "duration": 26,
    "start_time": "2021-08-31T18:55:01.079Z"
   },
   {
    "duration": 152,
    "start_time": "2021-08-31T18:55:01.107Z"
   },
   {
    "duration": 41,
    "start_time": "2021-08-31T18:55:01.261Z"
   },
   {
    "duration": 109,
    "start_time": "2021-08-31T18:55:01.306Z"
   },
   {
    "duration": 295,
    "start_time": "2021-08-31T18:55:01.417Z"
   },
   {
    "duration": 479,
    "start_time": "2021-08-31T18:58:34.698Z"
   },
   {
    "duration": 70,
    "start_time": "2021-08-31T18:59:05.189Z"
   },
   {
    "duration": 274,
    "start_time": "2021-08-31T19:00:10.292Z"
   },
   {
    "duration": 70,
    "start_time": "2021-08-31T19:07:55.509Z"
   },
   {
    "duration": 282,
    "start_time": "2021-08-31T19:08:10.229Z"
   },
   {
    "duration": 280,
    "start_time": "2021-08-31T19:08:47.321Z"
   },
   {
    "duration": 342,
    "start_time": "2021-08-31T19:37:42.093Z"
   },
   {
    "duration": 1607,
    "start_time": "2021-08-31T19:38:10.644Z"
   },
   {
    "duration": 61,
    "start_time": "2021-08-31T19:38:12.253Z"
   },
   {
    "duration": 51,
    "start_time": "2021-08-31T19:38:12.316Z"
   },
   {
    "duration": 32,
    "start_time": "2021-08-31T19:38:12.376Z"
   },
   {
    "duration": 35,
    "start_time": "2021-08-31T19:38:12.409Z"
   },
   {
    "duration": 53,
    "start_time": "2021-08-31T19:38:12.445Z"
   },
   {
    "duration": 109,
    "start_time": "2021-08-31T19:38:12.501Z"
   },
   {
    "duration": 77,
    "start_time": "2021-08-31T19:38:12.613Z"
   },
   {
    "duration": 48,
    "start_time": "2021-08-31T19:38:12.692Z"
   },
   {
    "duration": 37,
    "start_time": "2021-08-31T19:38:12.742Z"
   },
   {
    "duration": 60,
    "start_time": "2021-08-31T19:38:12.781Z"
   },
   {
    "duration": 64,
    "start_time": "2021-08-31T19:38:12.843Z"
   },
   {
    "duration": 45,
    "start_time": "2021-08-31T19:38:12.909Z"
   },
   {
    "duration": 56,
    "start_time": "2021-08-31T19:38:12.955Z"
   },
   {
    "duration": 32,
    "start_time": "2021-08-31T19:38:13.013Z"
   },
   {
    "duration": 192,
    "start_time": "2021-08-31T19:38:13.047Z"
   },
   {
    "duration": 182,
    "start_time": "2021-08-31T19:38:13.241Z"
   },
   {
    "duration": 180,
    "start_time": "2021-08-31T19:38:13.425Z"
   },
   {
    "duration": 16,
    "start_time": "2021-08-31T19:38:13.607Z"
   },
   {
    "duration": 18,
    "start_time": "2021-08-31T19:38:13.625Z"
   },
   {
    "duration": 33,
    "start_time": "2021-08-31T19:38:13.645Z"
   },
   {
    "duration": 20,
    "start_time": "2021-08-31T19:38:13.680Z"
   },
   {
    "duration": 7,
    "start_time": "2021-08-31T19:38:13.703Z"
   },
   {
    "duration": 29,
    "start_time": "2021-08-31T19:38:13.712Z"
   },
   {
    "duration": 154,
    "start_time": "2021-08-31T19:38:13.743Z"
   },
   {
    "duration": 28,
    "start_time": "2021-08-31T19:38:13.899Z"
   },
   {
    "duration": 96,
    "start_time": "2021-08-31T19:38:13.929Z"
   },
   {
    "duration": 300,
    "start_time": "2021-08-31T19:38:14.026Z"
   },
   {
    "duration": 83,
    "start_time": "2021-08-31T19:38:14.327Z"
   },
   {
    "duration": 280,
    "start_time": "2021-08-31T19:38:14.411Z"
   },
   {
    "duration": 84,
    "start_time": "2021-08-31T19:38:14.693Z"
   },
   {
    "duration": 297,
    "start_time": "2021-08-31T19:38:14.779Z"
   },
   {
    "duration": 441,
    "start_time": "2021-08-31T19:38:15.078Z"
   },
   {
    "duration": 10,
    "start_time": "2021-08-31T19:39:00.643Z"
   },
   {
    "duration": 8355,
    "start_time": "2021-08-31T19:44:19.446Z"
   },
   {
    "duration": 9,
    "start_time": "2021-08-31T19:44:48.280Z"
   },
   {
    "duration": 356,
    "start_time": "2021-08-31T19:46:37.692Z"
   },
   {
    "duration": 395,
    "start_time": "2021-08-31T19:47:02.029Z"
   },
   {
    "duration": 1713,
    "start_time": "2021-08-31T19:47:26.160Z"
   },
   {
    "duration": 61,
    "start_time": "2021-08-31T19:47:27.875Z"
   },
   {
    "duration": 65,
    "start_time": "2021-08-31T19:47:27.938Z"
   },
   {
    "duration": 32,
    "start_time": "2021-08-31T19:47:28.005Z"
   },
   {
    "duration": 50,
    "start_time": "2021-08-31T19:47:28.039Z"
   },
   {
    "duration": 27,
    "start_time": "2021-08-31T19:47:28.090Z"
   },
   {
    "duration": 114,
    "start_time": "2021-08-31T19:47:28.119Z"
   },
   {
    "duration": 74,
    "start_time": "2021-08-31T19:47:28.236Z"
   },
   {
    "duration": 47,
    "start_time": "2021-08-31T19:47:28.312Z"
   },
   {
    "duration": 34,
    "start_time": "2021-08-31T19:47:28.362Z"
   },
   {
    "duration": 60,
    "start_time": "2021-08-31T19:47:28.398Z"
   },
   {
    "duration": 61,
    "start_time": "2021-08-31T19:47:28.459Z"
   },
   {
    "duration": 60,
    "start_time": "2021-08-31T19:47:28.522Z"
   },
   {
    "duration": 38,
    "start_time": "2021-08-31T19:47:28.584Z"
   },
   {
    "duration": 53,
    "start_time": "2021-08-31T19:47:28.624Z"
   },
   {
    "duration": 183,
    "start_time": "2021-08-31T19:47:28.679Z"
   },
   {
    "duration": 192,
    "start_time": "2021-08-31T19:47:28.864Z"
   },
   {
    "duration": 189,
    "start_time": "2021-08-31T19:47:29.059Z"
   },
   {
    "duration": 15,
    "start_time": "2021-08-31T19:47:29.250Z"
   },
   {
    "duration": 17,
    "start_time": "2021-08-31T19:47:29.276Z"
   },
   {
    "duration": 12,
    "start_time": "2021-08-31T19:47:29.295Z"
   },
   {
    "duration": 23,
    "start_time": "2021-08-31T19:47:29.309Z"
   },
   {
    "duration": 14,
    "start_time": "2021-08-31T19:47:29.335Z"
   },
   {
    "duration": 44,
    "start_time": "2021-08-31T19:47:29.351Z"
   },
   {
    "duration": 140,
    "start_time": "2021-08-31T19:47:29.397Z"
   },
   {
    "duration": 26,
    "start_time": "2021-08-31T19:47:29.539Z"
   },
   {
    "duration": 75,
    "start_time": "2021-08-31T19:47:29.576Z"
   },
   {
    "duration": 315,
    "start_time": "2021-08-31T19:47:29.653Z"
   },
   {
    "duration": 75,
    "start_time": "2021-08-31T19:47:29.970Z"
   },
   {
    "duration": 323,
    "start_time": "2021-08-31T19:47:30.046Z"
   },
   {
    "duration": 78,
    "start_time": "2021-08-31T19:47:30.371Z"
   },
   {
    "duration": 341,
    "start_time": "2021-08-31T19:47:30.451Z"
   },
   {
    "duration": 12,
    "start_time": "2021-08-31T19:47:30.794Z"
   },
   {
    "duration": 24,
    "start_time": "2021-08-31T19:47:30.808Z"
   },
   {
    "duration": 427,
    "start_time": "2021-08-31T19:48:36.422Z"
   },
   {
    "duration": 566,
    "start_time": "2021-08-31T19:49:38.422Z"
   },
   {
    "duration": 1625,
    "start_time": "2021-08-31T19:50:09.136Z"
   },
   {
    "duration": 63,
    "start_time": "2021-08-31T19:50:10.766Z"
   },
   {
    "duration": 64,
    "start_time": "2021-08-31T19:50:10.831Z"
   },
   {
    "duration": 30,
    "start_time": "2021-08-31T19:50:10.897Z"
   },
   {
    "duration": 48,
    "start_time": "2021-08-31T19:50:10.929Z"
   },
   {
    "duration": 24,
    "start_time": "2021-08-31T19:50:10.979Z"
   },
   {
    "duration": 118,
    "start_time": "2021-08-31T19:50:11.005Z"
   },
   {
    "duration": 75,
    "start_time": "2021-08-31T19:50:11.126Z"
   },
   {
    "duration": 48,
    "start_time": "2021-08-31T19:50:11.203Z"
   },
   {
    "duration": 33,
    "start_time": "2021-08-31T19:50:11.252Z"
   },
   {
    "duration": 64,
    "start_time": "2021-08-31T19:50:11.287Z"
   },
   {
    "duration": 66,
    "start_time": "2021-08-31T19:50:11.352Z"
   },
   {
    "duration": 58,
    "start_time": "2021-08-31T19:50:11.420Z"
   },
   {
    "duration": 41,
    "start_time": "2021-08-31T19:50:11.480Z"
   },
   {
    "duration": 60,
    "start_time": "2021-08-31T19:50:11.522Z"
   },
   {
    "duration": 181,
    "start_time": "2021-08-31T19:50:11.584Z"
   },
   {
    "duration": 184,
    "start_time": "2021-08-31T19:50:11.767Z"
   },
   {
    "duration": 192,
    "start_time": "2021-08-31T19:50:11.953Z"
   },
   {
    "duration": 16,
    "start_time": "2021-08-31T19:50:12.147Z"
   },
   {
    "duration": 25,
    "start_time": "2021-08-31T19:50:12.177Z"
   },
   {
    "duration": 13,
    "start_time": "2021-08-31T19:50:12.204Z"
   },
   {
    "duration": 25,
    "start_time": "2021-08-31T19:50:12.219Z"
   },
   {
    "duration": 7,
    "start_time": "2021-08-31T19:50:12.245Z"
   },
   {
    "duration": 26,
    "start_time": "2021-08-31T19:50:12.277Z"
   },
   {
    "duration": 148,
    "start_time": "2021-08-31T19:50:12.305Z"
   },
   {
    "duration": 35,
    "start_time": "2021-08-31T19:50:12.456Z"
   },
   {
    "duration": 106,
    "start_time": "2021-08-31T19:50:12.493Z"
   },
   {
    "duration": 301,
    "start_time": "2021-08-31T19:50:12.601Z"
   },
   {
    "duration": 98,
    "start_time": "2021-08-31T19:50:12.904Z"
   },
   {
    "duration": 293,
    "start_time": "2021-08-31T19:50:13.004Z"
   },
   {
    "duration": 94,
    "start_time": "2021-08-31T19:50:13.299Z"
   },
   {
    "duration": 290,
    "start_time": "2021-08-31T19:50:13.394Z"
   },
   {
    "duration": 9,
    "start_time": "2021-08-31T19:50:13.686Z"
   },
   {
    "duration": 9,
    "start_time": "2021-08-31T19:50:13.697Z"
   },
   {
    "duration": 10,
    "start_time": "2021-08-31T19:50:38.593Z"
   },
   {
    "duration": 12,
    "start_time": "2021-08-31T20:08:38.710Z"
   },
   {
    "duration": 1552,
    "start_time": "2021-08-31T20:25:49.483Z"
   },
   {
    "duration": 60,
    "start_time": "2021-08-31T20:25:51.037Z"
   },
   {
    "duration": 52,
    "start_time": "2021-08-31T20:25:51.099Z"
   },
   {
    "duration": 40,
    "start_time": "2021-08-31T20:25:51.153Z"
   },
   {
    "duration": 31,
    "start_time": "2021-08-31T20:25:51.195Z"
   },
   {
    "duration": 25,
    "start_time": "2021-08-31T20:25:51.227Z"
   },
   {
    "duration": 104,
    "start_time": "2021-08-31T20:25:51.277Z"
   },
   {
    "duration": 62,
    "start_time": "2021-08-31T20:25:51.384Z"
   },
   {
    "duration": 61,
    "start_time": "2021-08-31T20:25:51.448Z"
   },
   {
    "duration": 21,
    "start_time": "2021-08-31T20:25:51.510Z"
   },
   {
    "duration": 81,
    "start_time": "2021-08-31T20:25:51.533Z"
   },
   {
    "duration": 46,
    "start_time": "2021-08-31T20:25:51.616Z"
   },
   {
    "duration": 53,
    "start_time": "2021-08-31T20:25:51.664Z"
   },
   {
    "duration": 57,
    "start_time": "2021-08-31T20:25:51.719Z"
   },
   {
    "duration": 32,
    "start_time": "2021-08-31T20:25:51.778Z"
   },
   {
    "duration": 189,
    "start_time": "2021-08-31T20:25:51.812Z"
   },
   {
    "duration": 187,
    "start_time": "2021-08-31T20:25:52.003Z"
   },
   {
    "duration": 186,
    "start_time": "2021-08-31T20:25:52.192Z"
   },
   {
    "duration": 16,
    "start_time": "2021-08-31T20:25:52.379Z"
   },
   {
    "duration": 41,
    "start_time": "2021-08-31T20:25:52.397Z"
   },
   {
    "duration": 29,
    "start_time": "2021-08-31T20:25:52.440Z"
   },
   {
    "duration": 35,
    "start_time": "2021-08-31T20:25:52.471Z"
   },
   {
    "duration": 9,
    "start_time": "2021-08-31T20:25:52.509Z"
   },
   {
    "duration": 46,
    "start_time": "2021-08-31T20:25:52.519Z"
   },
   {
    "duration": 139,
    "start_time": "2021-08-31T20:25:52.566Z"
   },
   {
    "duration": 26,
    "start_time": "2021-08-31T20:25:52.707Z"
   },
   {
    "duration": 87,
    "start_time": "2021-08-31T20:25:52.735Z"
   },
   {
    "duration": 309,
    "start_time": "2021-08-31T20:25:52.824Z"
   },
   {
    "duration": 85,
    "start_time": "2021-08-31T20:25:53.135Z"
   },
   {
    "duration": 292,
    "start_time": "2021-08-31T20:25:53.221Z"
   },
   {
    "duration": 89,
    "start_time": "2021-08-31T20:25:53.515Z"
   },
   {
    "duration": 294,
    "start_time": "2021-08-31T20:25:53.606Z"
   },
   {
    "duration": 10,
    "start_time": "2021-08-31T20:25:53.902Z"
   },
   {
    "duration": 30,
    "start_time": "2021-08-31T20:25:53.914Z"
   },
   {
    "duration": 22,
    "start_time": "2021-08-31T20:25:53.946Z"
   },
   {
    "duration": 1649,
    "start_time": "2021-09-01T12:27:23.672Z"
   },
   {
    "duration": 69,
    "start_time": "2021-09-01T12:27:25.323Z"
   },
   {
    "duration": 57,
    "start_time": "2021-09-01T12:27:25.395Z"
   },
   {
    "duration": 50,
    "start_time": "2021-09-01T12:27:25.454Z"
   },
   {
    "duration": 34,
    "start_time": "2021-09-01T12:27:25.505Z"
   },
   {
    "duration": 51,
    "start_time": "2021-09-01T12:27:25.541Z"
   },
   {
    "duration": 107,
    "start_time": "2021-09-01T12:27:25.594Z"
   },
   {
    "duration": 76,
    "start_time": "2021-09-01T12:27:25.704Z"
   },
   {
    "duration": 51,
    "start_time": "2021-09-01T12:27:25.783Z"
   },
   {
    "duration": 40,
    "start_time": "2021-09-01T12:27:25.836Z"
   },
   {
    "duration": 64,
    "start_time": "2021-09-01T12:27:25.879Z"
   },
   {
    "duration": 69,
    "start_time": "2021-09-01T12:27:25.945Z"
   },
   {
    "duration": 61,
    "start_time": "2021-09-01T12:27:26.017Z"
   },
   {
    "duration": 42,
    "start_time": "2021-09-01T12:27:26.080Z"
   },
   {
    "duration": 57,
    "start_time": "2021-09-01T12:27:26.124Z"
   },
   {
    "duration": 197,
    "start_time": "2021-09-01T12:27:26.183Z"
   },
   {
    "duration": 211,
    "start_time": "2021-09-01T12:27:26.381Z"
   },
   {
    "duration": 208,
    "start_time": "2021-09-01T12:27:26.594Z"
   },
   {
    "duration": 17,
    "start_time": "2021-09-01T12:27:26.804Z"
   },
   {
    "duration": 19,
    "start_time": "2021-09-01T12:27:26.823Z"
   },
   {
    "duration": 33,
    "start_time": "2021-09-01T12:27:26.844Z"
   },
   {
    "duration": 22,
    "start_time": "2021-09-01T12:27:26.879Z"
   },
   {
    "duration": 8,
    "start_time": "2021-09-01T12:27:26.905Z"
   },
   {
    "duration": 31,
    "start_time": "2021-09-01T12:27:26.915Z"
   },
   {
    "duration": 172,
    "start_time": "2021-09-01T12:27:26.948Z"
   },
   {
    "duration": 34,
    "start_time": "2021-09-01T12:27:27.123Z"
   },
   {
    "duration": 116,
    "start_time": "2021-09-01T12:27:27.180Z"
   },
   {
    "duration": 346,
    "start_time": "2021-09-01T12:27:27.298Z"
   },
   {
    "duration": 94,
    "start_time": "2021-09-01T12:27:27.645Z"
   },
   {
    "duration": 426,
    "start_time": "2021-09-01T12:27:27.741Z"
   },
   {
    "duration": 90,
    "start_time": "2021-09-01T12:27:28.169Z"
   },
   {
    "duration": 322,
    "start_time": "2021-09-01T12:27:28.277Z"
   },
   {
    "duration": 12,
    "start_time": "2021-09-01T12:27:28.601Z"
   },
   {
    "duration": 17,
    "start_time": "2021-09-01T12:27:28.615Z"
   },
   {
    "duration": 15,
    "start_time": "2021-09-01T12:27:28.634Z"
   },
   {
    "duration": 15,
    "start_time": "2021-09-01T12:57:51.196Z"
   },
   {
    "duration": 11285,
    "start_time": "2021-09-01T13:00:53.496Z"
   },
   {
    "duration": 6,
    "start_time": "2021-09-01T13:05:06.318Z"
   },
   {
    "duration": 4,
    "start_time": "2021-09-01T13:05:20.569Z"
   },
   {
    "duration": 517,
    "start_time": "2021-09-01T18:25:29.908Z"
   },
   {
    "duration": 2125,
    "start_time": "2021-09-01T18:25:43.019Z"
   },
   {
    "duration": 84,
    "start_time": "2021-09-01T18:25:45.147Z"
   },
   {
    "duration": 88,
    "start_time": "2021-09-01T18:25:45.237Z"
   },
   {
    "duration": 44,
    "start_time": "2021-09-01T18:25:45.328Z"
   },
   {
    "duration": 75,
    "start_time": "2021-09-01T18:25:45.374Z"
   },
   {
    "duration": 34,
    "start_time": "2021-09-01T18:25:45.452Z"
   },
   {
    "duration": 129,
    "start_time": "2021-09-01T18:25:45.517Z"
   },
   {
    "duration": 124,
    "start_time": "2021-09-01T18:25:45.649Z"
   },
   {
    "duration": 72,
    "start_time": "2021-09-01T18:25:45.775Z"
   },
   {
    "duration": 31,
    "start_time": "2021-09-01T18:25:45.850Z"
   },
   {
    "duration": 113,
    "start_time": "2021-09-01T18:25:45.883Z"
   },
   {
    "duration": 80,
    "start_time": "2021-09-01T18:25:45.999Z"
   },
   {
    "duration": 81,
    "start_time": "2021-09-01T18:25:46.081Z"
   },
   {
    "duration": 73,
    "start_time": "2021-09-01T18:25:46.164Z"
   },
   {
    "duration": 53,
    "start_time": "2021-09-01T18:25:46.239Z"
   },
   {
    "duration": 312,
    "start_time": "2021-09-01T18:25:46.294Z"
   },
   {
    "duration": 300,
    "start_time": "2021-09-01T18:25:46.616Z"
   },
   {
    "duration": 301,
    "start_time": "2021-09-01T18:25:46.918Z"
   },
   {
    "duration": 24,
    "start_time": "2021-09-01T18:25:47.222Z"
   },
   {
    "duration": 24,
    "start_time": "2021-09-01T18:25:47.248Z"
   },
   {
    "duration": 49,
    "start_time": "2021-09-01T18:25:47.275Z"
   },
   {
    "duration": 36,
    "start_time": "2021-09-01T18:25:47.329Z"
   },
   {
    "duration": 9,
    "start_time": "2021-09-01T18:25:47.369Z"
   },
   {
    "duration": 65,
    "start_time": "2021-09-01T18:25:47.380Z"
   },
   {
    "duration": 224,
    "start_time": "2021-09-01T18:25:47.447Z"
   },
   {
    "duration": 54,
    "start_time": "2021-09-01T18:25:47.673Z"
   },
   {
    "duration": 144,
    "start_time": "2021-09-01T18:25:47.729Z"
   },
   {
    "duration": 489,
    "start_time": "2021-09-01T18:25:47.875Z"
   },
   {
    "duration": 125,
    "start_time": "2021-09-01T18:25:48.366Z"
   },
   {
    "duration": 494,
    "start_time": "2021-09-01T18:25:48.493Z"
   },
   {
    "duration": 138,
    "start_time": "2021-09-01T18:25:48.989Z"
   },
   {
    "duration": 605,
    "start_time": "2021-09-01T18:25:49.130Z"
   },
   {
    "duration": 14,
    "start_time": "2021-09-01T18:25:49.738Z"
   },
   {
    "duration": 18,
    "start_time": "2021-09-01T18:25:49.755Z"
   },
   {
    "duration": 41,
    "start_time": "2021-09-01T18:25:49.776Z"
   },
   {
    "duration": 152,
    "start_time": "2021-09-01T18:42:17.204Z"
   },
   {
    "duration": 86,
    "start_time": "2021-09-01T19:24:38.939Z"
   },
   {
    "duration": 80,
    "start_time": "2021-09-01T19:26:00.097Z"
   },
   {
    "duration": 554,
    "start_time": "2021-09-01T19:28:25.813Z"
   },
   {
    "duration": 79,
    "start_time": "2021-09-01T19:28:26.646Z"
   },
   {
    "duration": 71,
    "start_time": "2021-09-01T19:28:29.370Z"
   },
   {
    "duration": 44,
    "start_time": "2021-09-01T19:28:33.971Z"
   },
   {
    "duration": 125,
    "start_time": "2021-09-01T19:29:02.398Z"
   },
   {
    "duration": 2090,
    "start_time": "2021-09-03T17:18:03.453Z"
   },
   {
    "duration": 83,
    "start_time": "2021-09-03T17:18:05.545Z"
   },
   {
    "duration": 71,
    "start_time": "2021-09-03T17:18:05.632Z"
   },
   {
    "duration": 46,
    "start_time": "2021-09-03T17:18:05.717Z"
   },
   {
    "duration": 78,
    "start_time": "2021-09-03T17:18:05.766Z"
   },
   {
    "duration": 38,
    "start_time": "2021-09-03T17:18:05.847Z"
   },
   {
    "duration": 142,
    "start_time": "2021-09-03T17:18:05.917Z"
   },
   {
    "duration": 134,
    "start_time": "2021-09-03T17:18:06.062Z"
   },
   {
    "duration": 79,
    "start_time": "2021-09-03T17:18:06.199Z"
   },
   {
    "duration": 37,
    "start_time": "2021-09-03T17:18:06.281Z"
   },
   {
    "duration": 106,
    "start_time": "2021-09-03T17:18:06.321Z"
   },
   {
    "duration": 93,
    "start_time": "2021-09-03T17:18:06.430Z"
   },
   {
    "duration": 90,
    "start_time": "2021-09-03T17:18:06.526Z"
   },
   {
    "duration": 57,
    "start_time": "2021-09-03T17:18:06.618Z"
   },
   {
    "duration": 79,
    "start_time": "2021-09-03T17:18:06.678Z"
   },
   {
    "duration": 300,
    "start_time": "2021-09-03T17:18:06.759Z"
   },
   {
    "duration": 306,
    "start_time": "2021-09-03T17:18:07.062Z"
   },
   {
    "duration": 304,
    "start_time": "2021-09-03T17:18:07.370Z"
   },
   {
    "duration": 42,
    "start_time": "2021-09-03T17:18:07.676Z"
   },
   {
    "duration": 32,
    "start_time": "2021-09-03T17:18:07.721Z"
   },
   {
    "duration": 18,
    "start_time": "2021-09-03T17:18:07.756Z"
   },
   {
    "duration": 71,
    "start_time": "2021-09-03T17:18:07.776Z"
   },
   {
    "duration": 11,
    "start_time": "2021-09-03T17:18:07.854Z"
   },
   {
    "duration": 65,
    "start_time": "2021-09-03T17:18:07.869Z"
   },
   {
    "duration": 236,
    "start_time": "2021-09-03T17:18:07.937Z"
   },
   {
    "duration": 60,
    "start_time": "2021-09-03T17:18:08.176Z"
   },
   {
    "duration": 148,
    "start_time": "2021-09-03T17:18:08.238Z"
   },
   {
    "duration": 627,
    "start_time": "2021-09-03T17:18:08.389Z"
   },
   {
    "duration": 135,
    "start_time": "2021-09-03T17:18:09.019Z"
   },
   {
    "duration": 549,
    "start_time": "2021-09-03T17:18:09.157Z"
   },
   {
    "duration": 152,
    "start_time": "2021-09-03T17:18:09.710Z"
   },
   {
    "duration": 564,
    "start_time": "2021-09-03T17:18:09.864Z"
   },
   {
    "duration": 22,
    "start_time": "2021-09-03T17:18:10.432Z"
   },
   {
    "duration": 21,
    "start_time": "2021-09-03T17:18:10.457Z"
   },
   {
    "duration": 57,
    "start_time": "2021-09-03T17:18:10.482Z"
   },
   {
    "duration": 89,
    "start_time": "2021-09-03T17:27:01.613Z"
   },
   {
    "duration": 604,
    "start_time": "2021-09-03T17:28:37.958Z"
   },
   {
    "duration": 543,
    "start_time": "2021-09-03T17:28:59.957Z"
   },
   {
    "duration": 542,
    "start_time": "2021-09-03T17:29:01.818Z"
   },
   {
    "duration": 523,
    "start_time": "2021-09-03T17:29:03.462Z"
   },
   {
    "duration": 146,
    "start_time": "2021-09-03T17:29:16.520Z"
   },
   {
    "duration": 16,
    "start_time": "2021-09-03T17:39:19.111Z"
   },
   {
    "duration": 15,
    "start_time": "2021-09-03T17:51:20.290Z"
   },
   {
    "duration": 16,
    "start_time": "2021-09-03T17:52:10.878Z"
   },
   {
    "duration": 420,
    "start_time": "2021-09-03T17:55:00.203Z"
   },
   {
    "duration": 41,
    "start_time": "2021-09-03T17:57:04.864Z"
   },
   {
    "duration": 16,
    "start_time": "2021-09-03T18:01:39.731Z"
   },
   {
    "duration": 9719,
    "start_time": "2021-09-03T18:48:16.648Z"
   },
   {
    "duration": 418,
    "start_time": "2021-09-03T18:56:50.722Z"
   },
   {
    "duration": 446,
    "start_time": "2021-09-03T18:57:11.231Z"
   },
   {
    "duration": 429,
    "start_time": "2021-09-03T18:57:13.529Z"
   },
   {
    "duration": 2186,
    "start_time": "2021-09-03T18:57:24.133Z"
   },
   {
    "duration": 85,
    "start_time": "2021-09-03T18:57:26.321Z"
   },
   {
    "duration": 74,
    "start_time": "2021-09-03T18:57:26.408Z"
   },
   {
    "duration": 66,
    "start_time": "2021-09-03T18:57:26.485Z"
   },
   {
    "duration": 74,
    "start_time": "2021-09-03T18:57:26.553Z"
   },
   {
    "duration": 41,
    "start_time": "2021-09-03T18:57:26.629Z"
   },
   {
    "duration": 170,
    "start_time": "2021-09-03T18:57:26.673Z"
   },
   {
    "duration": 138,
    "start_time": "2021-09-03T18:57:26.847Z"
   },
   {
    "duration": 90,
    "start_time": "2021-09-03T18:57:26.988Z"
   },
   {
    "duration": 57,
    "start_time": "2021-09-03T18:57:27.081Z"
   },
   {
    "duration": 109,
    "start_time": "2021-09-03T18:57:27.141Z"
   },
   {
    "duration": 90,
    "start_time": "2021-09-03T18:57:27.252Z"
   },
   {
    "duration": 81,
    "start_time": "2021-09-03T18:57:27.344Z"
   },
   {
    "duration": 59,
    "start_time": "2021-09-03T18:57:27.427Z"
   },
   {
    "duration": 106,
    "start_time": "2021-09-03T18:57:27.488Z"
   },
   {
    "duration": 326,
    "start_time": "2021-09-03T18:57:27.597Z"
   },
   {
    "duration": 307,
    "start_time": "2021-09-03T18:57:27.926Z"
   },
   {
    "duration": 307,
    "start_time": "2021-09-03T18:57:28.236Z"
   },
   {
    "duration": 23,
    "start_time": "2021-09-03T18:57:28.546Z"
   },
   {
    "duration": 46,
    "start_time": "2021-09-03T18:57:28.572Z"
   },
   {
    "duration": 19,
    "start_time": "2021-09-03T18:57:28.621Z"
   },
   {
    "duration": 32,
    "start_time": "2021-09-03T18:57:28.642Z"
   },
   {
    "duration": 43,
    "start_time": "2021-09-03T18:57:28.679Z"
   },
   {
    "duration": 44,
    "start_time": "2021-09-03T18:57:28.726Z"
   },
   {
    "duration": 231,
    "start_time": "2021-09-03T18:57:28.773Z"
   },
   {
    "duration": 48,
    "start_time": "2021-09-03T18:57:29.006Z"
   },
   {
    "duration": 573,
    "start_time": "2021-09-03T18:57:29.057Z"
   },
   {
    "duration": 115,
    "start_time": "2021-09-03T18:57:29.517Z"
   },
   {
    "duration": 114,
    "start_time": "2021-09-03T18:57:29.520Z"
   },
   {
    "duration": 111,
    "start_time": "2021-09-03T18:57:29.524Z"
   },
   {
    "duration": 111,
    "start_time": "2021-09-03T18:57:29.526Z"
   },
   {
    "duration": 110,
    "start_time": "2021-09-03T18:57:29.528Z"
   },
   {
    "duration": 110,
    "start_time": "2021-09-03T18:57:29.530Z"
   },
   {
    "duration": 109,
    "start_time": "2021-09-03T18:57:29.533Z"
   },
   {
    "duration": 108,
    "start_time": "2021-09-03T18:57:29.535Z"
   },
   {
    "duration": 642,
    "start_time": "2021-09-03T18:59:23.090Z"
   },
   {
    "duration": 29,
    "start_time": "2021-09-03T18:59:56.935Z"
   },
   {
    "duration": 33,
    "start_time": "2021-09-03T19:02:52.047Z"
   },
   {
    "duration": 32,
    "start_time": "2021-09-03T19:03:53.371Z"
   },
   {
    "duration": 32,
    "start_time": "2021-09-03T19:05:35.958Z"
   },
   {
    "duration": 24,
    "start_time": "2021-09-03T19:10:44.488Z"
   },
   {
    "duration": 24,
    "start_time": "2021-09-03T19:11:42.982Z"
   },
   {
    "duration": 35,
    "start_time": "2021-09-03T19:15:46.175Z"
   },
   {
    "duration": 22,
    "start_time": "2021-09-03T19:16:36.981Z"
   },
   {
    "duration": 32,
    "start_time": "2021-09-03T19:17:26.356Z"
   },
   {
    "duration": 2078,
    "start_time": "2021-09-03T19:17:43.758Z"
   },
   {
    "duration": 87,
    "start_time": "2021-09-03T19:17:45.839Z"
   },
   {
    "duration": 94,
    "start_time": "2021-09-03T19:17:45.931Z"
   },
   {
    "duration": 44,
    "start_time": "2021-09-03T19:17:46.028Z"
   },
   {
    "duration": 83,
    "start_time": "2021-09-03T19:17:46.076Z"
   },
   {
    "duration": 63,
    "start_time": "2021-09-03T19:17:46.163Z"
   },
   {
    "duration": 155,
    "start_time": "2021-09-03T19:17:46.230Z"
   },
   {
    "duration": 152,
    "start_time": "2021-09-03T19:17:46.391Z"
   },
   {
    "duration": 95,
    "start_time": "2021-09-03T19:17:46.547Z"
   },
   {
    "duration": 40,
    "start_time": "2021-09-03T19:17:46.645Z"
   },
   {
    "duration": 132,
    "start_time": "2021-09-03T19:17:46.688Z"
   },
   {
    "duration": 72,
    "start_time": "2021-09-03T19:17:46.822Z"
   },
   {
    "duration": 64,
    "start_time": "2021-09-03T19:17:46.916Z"
   },
   {
    "duration": 78,
    "start_time": "2021-09-03T19:17:46.982Z"
   },
   {
    "duration": 102,
    "start_time": "2021-09-03T19:17:47.062Z"
   },
   {
    "duration": 316,
    "start_time": "2021-09-03T19:17:47.167Z"
   },
   {
    "duration": 309,
    "start_time": "2021-09-03T19:17:47.487Z"
   },
   {
    "duration": 311,
    "start_time": "2021-09-03T19:17:47.799Z"
   },
   {
    "duration": 28,
    "start_time": "2021-09-03T19:17:48.112Z"
   },
   {
    "duration": 26,
    "start_time": "2021-09-03T19:17:48.143Z"
   },
   {
    "duration": 56,
    "start_time": "2021-09-03T19:17:48.173Z"
   },
   {
    "duration": 35,
    "start_time": "2021-09-03T19:17:48.233Z"
   },
   {
    "duration": 45,
    "start_time": "2021-09-03T19:17:48.274Z"
   },
   {
    "duration": 40,
    "start_time": "2021-09-03T19:17:48.322Z"
   },
   {
    "duration": 245,
    "start_time": "2021-09-03T19:17:48.365Z"
   },
   {
    "duration": 45,
    "start_time": "2021-09-03T19:17:48.617Z"
   },
   {
    "duration": 58,
    "start_time": "2021-09-03T19:17:48.665Z"
   },
   {
    "duration": 494,
    "start_time": "2021-09-03T19:17:48.725Z"
   },
   {
    "duration": 24,
    "start_time": "2021-09-03T19:17:49.222Z"
   },
   {
    "duration": 485,
    "start_time": "2021-09-03T19:17:49.249Z"
   },
   {
    "duration": 28,
    "start_time": "2021-09-03T19:17:49.736Z"
   },
   {
    "duration": 504,
    "start_time": "2021-09-03T19:17:49.767Z"
   },
   {
    "duration": 58,
    "start_time": "2021-09-03T19:17:50.274Z"
   },
   {
    "duration": 17,
    "start_time": "2021-09-03T19:17:50.335Z"
   },
   {
    "duration": 25,
    "start_time": "2021-09-03T19:17:50.355Z"
   },
   {
    "duration": 126,
    "start_time": "2021-09-03T19:24:46.065Z"
   },
   {
    "duration": 2084,
    "start_time": "2021-09-03T19:25:41.634Z"
   },
   {
    "duration": 95,
    "start_time": "2021-09-03T19:25:43.721Z"
   },
   {
    "duration": 72,
    "start_time": "2021-09-03T19:25:43.819Z"
   },
   {
    "duration": 60,
    "start_time": "2021-09-03T19:25:43.894Z"
   },
   {
    "duration": 73,
    "start_time": "2021-09-03T19:25:43.956Z"
   },
   {
    "duration": 44,
    "start_time": "2021-09-03T19:25:44.031Z"
   },
   {
    "duration": 150,
    "start_time": "2021-09-03T19:25:44.078Z"
   },
   {
    "duration": 139,
    "start_time": "2021-09-03T19:25:44.232Z"
   },
   {
    "duration": 83,
    "start_time": "2021-09-03T19:25:44.374Z"
   },
   {
    "duration": 65,
    "start_time": "2021-09-03T19:25:44.459Z"
   },
   {
    "duration": 139,
    "start_time": "2021-09-03T19:25:44.526Z"
   },
   {
    "duration": 106,
    "start_time": "2021-09-03T19:25:44.668Z"
   },
   {
    "duration": 80,
    "start_time": "2021-09-03T19:25:44.776Z"
   },
   {
    "duration": 69,
    "start_time": "2021-09-03T19:25:44.858Z"
   },
   {
    "duration": 104,
    "start_time": "2021-09-03T19:25:44.929Z"
   },
   {
    "duration": 300,
    "start_time": "2021-09-03T19:25:45.035Z"
   },
   {
    "duration": 307,
    "start_time": "2021-09-03T19:25:45.337Z"
   },
   {
    "duration": 325,
    "start_time": "2021-09-03T19:25:45.646Z"
   },
   {
    "duration": 25,
    "start_time": "2021-09-03T19:25:45.973Z"
   },
   {
    "duration": 22,
    "start_time": "2021-09-03T19:25:46.016Z"
   },
   {
    "duration": 19,
    "start_time": "2021-09-03T19:25:46.041Z"
   },
   {
    "duration": 56,
    "start_time": "2021-09-03T19:25:46.062Z"
   },
   {
    "duration": 14,
    "start_time": "2021-09-03T19:25:46.123Z"
   },
   {
    "duration": 49,
    "start_time": "2021-09-03T19:25:46.140Z"
   },
   {
    "duration": 236,
    "start_time": "2021-09-03T19:25:46.192Z"
   },
   {
    "duration": 44,
    "start_time": "2021-09-03T19:25:46.430Z"
   },
   {
    "duration": 176,
    "start_time": "2021-09-03T19:25:46.477Z"
   },
   {
    "duration": 30,
    "start_time": "2021-09-03T19:25:46.655Z"
   },
   {
    "duration": 482,
    "start_time": "2021-09-03T19:25:46.687Z"
   },
   {
    "duration": 23,
    "start_time": "2021-09-03T19:25:47.172Z"
   },
   {
    "duration": 488,
    "start_time": "2021-09-03T19:25:47.197Z"
   },
   {
    "duration": 30,
    "start_time": "2021-09-03T19:25:47.687Z"
   },
   {
    "duration": 477,
    "start_time": "2021-09-03T19:25:47.719Z"
   },
   {
    "duration": 55,
    "start_time": "2021-09-03T19:25:48.198Z"
   },
   {
    "duration": 15,
    "start_time": "2021-09-03T19:25:48.255Z"
   },
   {
    "duration": 49,
    "start_time": "2021-09-03T19:25:48.273Z"
   },
   {
    "duration": 3,
    "start_time": "2021-09-03T19:26:36.842Z"
   },
   {
    "duration": 2193,
    "start_time": "2021-09-03T19:35:37.039Z"
   },
   {
    "duration": 85,
    "start_time": "2021-09-03T19:35:39.235Z"
   },
   {
    "duration": 68,
    "start_time": "2021-09-03T19:35:39.323Z"
   },
   {
    "duration": 46,
    "start_time": "2021-09-03T19:35:39.416Z"
   },
   {
    "duration": 68,
    "start_time": "2021-09-03T19:35:39.464Z"
   },
   {
    "duration": 84,
    "start_time": "2021-09-03T19:35:39.535Z"
   },
   {
    "duration": 181,
    "start_time": "2021-09-03T19:35:39.622Z"
   },
   {
    "duration": 128,
    "start_time": "2021-09-03T19:35:39.818Z"
   },
   {
    "duration": 107,
    "start_time": "2021-09-03T19:35:39.949Z"
   },
   {
    "duration": 41,
    "start_time": "2021-09-03T19:35:40.058Z"
   },
   {
    "duration": 105,
    "start_time": "2021-09-03T19:35:40.117Z"
   },
   {
    "duration": 95,
    "start_time": "2021-09-03T19:35:40.225Z"
   },
   {
    "duration": 65,
    "start_time": "2021-09-03T19:35:40.323Z"
   },
   {
    "duration": 59,
    "start_time": "2021-09-03T19:35:40.415Z"
   },
   {
    "duration": 106,
    "start_time": "2021-09-03T19:35:40.477Z"
   },
   {
    "duration": 317,
    "start_time": "2021-09-03T19:35:40.585Z"
   },
   {
    "duration": 316,
    "start_time": "2021-09-03T19:35:40.905Z"
   },
   {
    "duration": 312,
    "start_time": "2021-09-03T19:35:41.223Z"
   },
   {
    "duration": 23,
    "start_time": "2021-09-03T19:35:41.537Z"
   },
   {
    "duration": 23,
    "start_time": "2021-09-03T19:35:41.563Z"
   },
   {
    "duration": 43,
    "start_time": "2021-09-03T19:35:41.588Z"
   },
   {
    "duration": 37,
    "start_time": "2021-09-03T19:35:41.633Z"
   },
   {
    "duration": 10,
    "start_time": "2021-09-03T19:35:41.675Z"
   },
   {
    "duration": 64,
    "start_time": "2021-09-03T19:35:41.688Z"
   },
   {
    "duration": 238,
    "start_time": "2021-09-03T19:35:41.755Z"
   },
   {
    "duration": 57,
    "start_time": "2021-09-03T19:35:41.995Z"
   },
   {
    "duration": 3,
    "start_time": "2021-09-03T19:35:42.054Z"
   },
   {
    "duration": 36,
    "start_time": "2021-09-03T19:35:42.059Z"
   },
   {
    "duration": 490,
    "start_time": "2021-09-03T19:35:42.098Z"
   },
   {
    "duration": 34,
    "start_time": "2021-09-03T19:35:42.590Z"
   },
   {
    "duration": 479,
    "start_time": "2021-09-03T19:35:42.627Z"
   },
   {
    "duration": 28,
    "start_time": "2021-09-03T19:35:43.108Z"
   },
   {
    "duration": 480,
    "start_time": "2021-09-03T19:35:43.139Z"
   },
   {
    "duration": 42,
    "start_time": "2021-09-03T19:35:43.622Z"
   },
   {
    "duration": 23,
    "start_time": "2021-09-03T19:35:43.666Z"
   },
   {
    "duration": 47,
    "start_time": "2021-09-03T19:35:43.691Z"
   },
   {
    "duration": 94,
    "start_time": "2021-09-03T19:39:17.970Z"
   },
   {
    "duration": 2130,
    "start_time": "2021-09-03T19:54:31.210Z"
   },
   {
    "duration": 83,
    "start_time": "2021-09-03T19:54:33.343Z"
   },
   {
    "duration": 68,
    "start_time": "2021-09-03T19:54:33.429Z"
   },
   {
    "duration": 43,
    "start_time": "2021-09-03T19:54:33.517Z"
   },
   {
    "duration": 80,
    "start_time": "2021-09-03T19:54:33.562Z"
   },
   {
    "duration": 36,
    "start_time": "2021-09-03T19:54:33.645Z"
   },
   {
    "duration": 170,
    "start_time": "2021-09-03T19:54:33.684Z"
   },
   {
    "duration": 135,
    "start_time": "2021-09-03T19:54:33.858Z"
   },
   {
    "duration": 81,
    "start_time": "2021-09-03T19:54:33.996Z"
   },
   {
    "duration": 60,
    "start_time": "2021-09-03T19:54:34.079Z"
   },
   {
    "duration": 108,
    "start_time": "2021-09-03T19:54:34.142Z"
   },
   {
    "duration": 87,
    "start_time": "2021-09-03T19:54:34.253Z"
   },
   {
    "duration": 76,
    "start_time": "2021-09-03T19:54:34.342Z"
   },
   {
    "duration": 58,
    "start_time": "2021-09-03T19:54:34.420Z"
   },
   {
    "duration": 107,
    "start_time": "2021-09-03T19:54:34.481Z"
   },
   {
    "duration": 337,
    "start_time": "2021-09-03T19:54:34.591Z"
   },
   {
    "duration": 311,
    "start_time": "2021-09-03T19:54:34.930Z"
   },
   {
    "duration": 307,
    "start_time": "2021-09-03T19:54:35.243Z"
   },
   {
    "duration": 25,
    "start_time": "2021-09-03T19:54:35.552Z"
   },
   {
    "duration": 43,
    "start_time": "2021-09-03T19:54:35.579Z"
   },
   {
    "duration": 27,
    "start_time": "2021-09-03T19:54:35.625Z"
   },
   {
    "duration": 39,
    "start_time": "2021-09-03T19:54:35.654Z"
   },
   {
    "duration": 24,
    "start_time": "2021-09-03T19:54:35.697Z"
   },
   {
    "duration": 42,
    "start_time": "2021-09-03T19:54:35.724Z"
   },
   {
    "duration": 242,
    "start_time": "2021-09-03T19:54:35.769Z"
   },
   {
    "duration": 48,
    "start_time": "2021-09-03T19:54:36.014Z"
   },
   {
    "duration": 16,
    "start_time": "2021-09-03T19:54:36.064Z"
   },
   {
    "duration": 52,
    "start_time": "2021-09-03T19:54:36.082Z"
   },
   {
    "duration": 511,
    "start_time": "2021-09-03T19:54:36.136Z"
   },
   {
    "duration": 22,
    "start_time": "2021-09-03T19:54:36.650Z"
   },
   {
    "duration": 485,
    "start_time": "2021-09-03T19:54:36.674Z"
   },
   {
    "duration": 22,
    "start_time": "2021-09-03T19:54:37.161Z"
   },
   {
    "duration": 497,
    "start_time": "2021-09-03T19:54:37.186Z"
   },
   {
    "duration": 52,
    "start_time": "2021-09-03T19:54:37.686Z"
   },
   {
    "duration": 16,
    "start_time": "2021-09-03T19:54:37.740Z"
   },
   {
    "duration": 28,
    "start_time": "2021-09-03T19:54:37.758Z"
   },
   {
    "duration": 308,
    "start_time": "2021-09-04T06:06:37.422Z"
   },
   {
    "duration": 1637,
    "start_time": "2021-09-04T06:06:58.574Z"
   },
   {
    "duration": 62,
    "start_time": "2021-09-04T06:07:00.213Z"
   },
   {
    "duration": 52,
    "start_time": "2021-09-04T06:07:00.277Z"
   },
   {
    "duration": 34,
    "start_time": "2021-09-04T06:07:00.331Z"
   },
   {
    "duration": 37,
    "start_time": "2021-09-04T06:07:00.376Z"
   },
   {
    "duration": 25,
    "start_time": "2021-09-04T06:07:00.415Z"
   },
   {
    "duration": 119,
    "start_time": "2021-09-04T06:07:00.441Z"
   },
   {
    "duration": 96,
    "start_time": "2021-09-04T06:07:00.563Z"
   },
   {
    "duration": 54,
    "start_time": "2021-09-04T06:07:00.661Z"
   },
   {
    "duration": 27,
    "start_time": "2021-09-04T06:07:00.716Z"
   },
   {
    "duration": 86,
    "start_time": "2021-09-04T06:07:00.745Z"
   },
   {
    "duration": 6407,
    "start_time": "2021-09-04T06:07:00.833Z"
   },
   {
    "duration": -241,
    "start_time": "2021-09-04T06:07:07.484Z"
   },
   {
    "duration": -256,
    "start_time": "2021-09-04T06:07:07.499Z"
   },
   {
    "duration": -263,
    "start_time": "2021-09-04T06:07:07.507Z"
   },
   {
    "duration": -270,
    "start_time": "2021-09-04T06:07:07.515Z"
   },
   {
    "duration": -275,
    "start_time": "2021-09-04T06:07:07.521Z"
   },
   {
    "duration": -283,
    "start_time": "2021-09-04T06:07:07.530Z"
   },
   {
    "duration": -289,
    "start_time": "2021-09-04T06:07:07.537Z"
   },
   {
    "duration": -298,
    "start_time": "2021-09-04T06:07:07.547Z"
   },
   {
    "duration": -304,
    "start_time": "2021-09-04T06:07:07.554Z"
   },
   {
    "duration": -315,
    "start_time": "2021-09-04T06:07:07.566Z"
   },
   {
    "duration": -337,
    "start_time": "2021-09-04T06:07:07.589Z"
   },
   {
    "duration": -344,
    "start_time": "2021-09-04T06:07:07.597Z"
   },
   {
    "duration": -354,
    "start_time": "2021-09-04T06:07:07.608Z"
   },
   {
    "duration": -364,
    "start_time": "2021-09-04T06:07:07.619Z"
   },
   {
    "duration": -370,
    "start_time": "2021-09-04T06:07:07.626Z"
   },
   {
    "duration": -378,
    "start_time": "2021-09-04T06:07:07.635Z"
   },
   {
    "duration": -385,
    "start_time": "2021-09-04T06:07:07.643Z"
   },
   {
    "duration": -392,
    "start_time": "2021-09-04T06:07:07.651Z"
   },
   {
    "duration": -399,
    "start_time": "2021-09-04T06:07:07.659Z"
   },
   {
    "duration": -407,
    "start_time": "2021-09-04T06:07:07.667Z"
   },
   {
    "duration": -413,
    "start_time": "2021-09-04T06:07:07.674Z"
   },
   {
    "duration": -421,
    "start_time": "2021-09-04T06:07:07.683Z"
   },
   {
    "duration": -441,
    "start_time": "2021-09-04T06:07:07.704Z"
   },
   {
    "duration": -451,
    "start_time": "2021-09-04T06:07:07.715Z"
   },
   {
    "duration": -457,
    "start_time": "2021-09-04T06:07:07.721Z"
   },
   {
    "duration": 21,
    "start_time": "2021-09-04T06:08:23.792Z"
   },
   {
    "duration": 28,
    "start_time": "2021-09-04T06:08:40.182Z"
   },
   {
    "duration": 1552,
    "start_time": "2021-09-04T06:08:47.198Z"
   },
   {
    "duration": 61,
    "start_time": "2021-09-04T06:08:48.752Z"
   },
   {
    "duration": 50,
    "start_time": "2021-09-04T06:08:48.815Z"
   },
   {
    "duration": 32,
    "start_time": "2021-09-04T06:08:48.875Z"
   },
   {
    "duration": 35,
    "start_time": "2021-09-04T06:08:48.908Z"
   },
   {
    "duration": 51,
    "start_time": "2021-09-04T06:08:48.945Z"
   },
   {
    "duration": 110,
    "start_time": "2021-09-04T06:08:48.998Z"
   },
   {
    "duration": 91,
    "start_time": "2021-09-04T06:08:49.111Z"
   },
   {
    "duration": 51,
    "start_time": "2021-09-04T06:08:49.204Z"
   },
   {
    "duration": 43,
    "start_time": "2021-09-04T06:08:49.256Z"
   },
   {
    "duration": 86,
    "start_time": "2021-09-04T06:08:49.301Z"
   },
   {
    "duration": 32,
    "start_time": "2021-09-04T06:08:49.389Z"
   },
   {
    "duration": 68,
    "start_time": "2021-09-04T06:08:49.423Z"
   },
   {
    "duration": 44,
    "start_time": "2021-09-04T06:08:49.493Z"
   },
   {
    "duration": 59,
    "start_time": "2021-09-04T06:08:49.538Z"
   },
   {
    "duration": 49,
    "start_time": "2021-09-04T06:08:49.599Z"
   },
   {
    "duration": 201,
    "start_time": "2021-09-04T06:08:49.650Z"
   },
   {
    "duration": 188,
    "start_time": "2021-09-04T06:08:49.853Z"
   },
   {
    "duration": 187,
    "start_time": "2021-09-04T06:08:50.043Z"
   },
   {
    "duration": 16,
    "start_time": "2021-09-04T06:08:50.232Z"
   },
   {
    "duration": 30,
    "start_time": "2021-09-04T06:08:50.250Z"
   },
   {
    "duration": 22,
    "start_time": "2021-09-04T06:08:50.282Z"
   },
   {
    "duration": 20,
    "start_time": "2021-09-04T06:08:50.308Z"
   },
   {
    "duration": 7,
    "start_time": "2021-09-04T06:08:50.331Z"
   },
   {
    "duration": 49,
    "start_time": "2021-09-04T06:08:50.340Z"
   },
   {
    "duration": 144,
    "start_time": "2021-09-04T06:08:50.391Z"
   },
   {
    "duration": 41,
    "start_time": "2021-09-04T06:08:50.537Z"
   },
   {
    "duration": 2,
    "start_time": "2021-09-04T06:08:50.579Z"
   },
   {
    "duration": 19,
    "start_time": "2021-09-04T06:08:50.583Z"
   },
   {
    "duration": 301,
    "start_time": "2021-09-04T06:08:50.603Z"
   },
   {
    "duration": 14,
    "start_time": "2021-09-04T06:08:50.906Z"
   },
   {
    "duration": 292,
    "start_time": "2021-09-04T06:08:50.922Z"
   },
   {
    "duration": 14,
    "start_time": "2021-09-04T06:08:51.216Z"
   },
   {
    "duration": 300,
    "start_time": "2021-09-04T06:08:51.232Z"
   },
   {
    "duration": 25,
    "start_time": "2021-09-04T06:08:51.533Z"
   },
   {
    "duration": 24,
    "start_time": "2021-09-04T06:08:51.559Z"
   },
   {
    "duration": 17,
    "start_time": "2021-09-04T06:08:51.585Z"
   },
   {
    "duration": 299,
    "start_time": "2021-09-04T09:33:38.002Z"
   },
   {
    "duration": 1501,
    "start_time": "2021-09-04T09:33:47.142Z"
   },
   {
    "duration": 58,
    "start_time": "2021-09-04T09:33:48.645Z"
   },
   {
    "duration": 59,
    "start_time": "2021-09-04T09:33:48.705Z"
   },
   {
    "duration": 28,
    "start_time": "2021-09-04T09:33:48.766Z"
   },
   {
    "duration": 51,
    "start_time": "2021-09-04T09:33:48.796Z"
   },
   {
    "duration": 24,
    "start_time": "2021-09-04T09:33:48.849Z"
   },
   {
    "duration": 109,
    "start_time": "2021-09-04T09:33:48.875Z"
   },
   {
    "duration": 92,
    "start_time": "2021-09-04T09:33:48.987Z"
   },
   {
    "duration": 47,
    "start_time": "2021-09-04T09:33:49.082Z"
   },
   {
    "duration": 25,
    "start_time": "2021-09-04T09:33:49.141Z"
   },
   {
    "duration": 81,
    "start_time": "2021-09-04T09:33:49.168Z"
   },
   {
    "duration": 30,
    "start_time": "2021-09-04T09:33:49.250Z"
   },
   {
    "duration": 43,
    "start_time": "2021-09-04T09:33:49.281Z"
   },
   {
    "duration": 40,
    "start_time": "2021-09-04T09:33:49.341Z"
   },
   {
    "duration": 35,
    "start_time": "2021-09-04T09:33:49.382Z"
   },
   {
    "duration": 66,
    "start_time": "2021-09-04T09:33:49.418Z"
   },
   {
    "duration": 177,
    "start_time": "2021-09-04T09:33:49.485Z"
   },
   {
    "duration": 168,
    "start_time": "2021-09-04T09:33:49.665Z"
   },
   {
    "duration": 174,
    "start_time": "2021-09-04T09:33:49.835Z"
   },
   {
    "duration": 16,
    "start_time": "2021-09-04T09:33:50.012Z"
   },
   {
    "duration": 14,
    "start_time": "2021-09-04T09:33:50.041Z"
   },
   {
    "duration": 13,
    "start_time": "2021-09-04T09:33:50.057Z"
   },
   {
    "duration": 20,
    "start_time": "2021-09-04T09:33:50.073Z"
   },
   {
    "duration": 6,
    "start_time": "2021-09-04T09:33:50.095Z"
   },
   {
    "duration": 54,
    "start_time": "2021-09-04T09:33:50.103Z"
   },
   {
    "duration": 132,
    "start_time": "2021-09-04T09:33:50.158Z"
   },
   {
    "duration": 26,
    "start_time": "2021-09-04T09:33:50.292Z"
   },
   {
    "duration": 21,
    "start_time": "2021-09-04T09:33:50.320Z"
   },
   {
    "duration": 19,
    "start_time": "2021-09-04T09:33:50.343Z"
   },
   {
    "duration": 286,
    "start_time": "2021-09-04T09:33:50.364Z"
   },
   {
    "duration": 16,
    "start_time": "2021-09-04T09:33:50.651Z"
   },
   {
    "duration": 284,
    "start_time": "2021-09-04T09:33:50.668Z"
   },
   {
    "duration": 14,
    "start_time": "2021-09-04T09:33:50.954Z"
   },
   {
    "duration": 377,
    "start_time": "2021-09-04T09:33:50.970Z"
   },
   {
    "duration": 386,
    "start_time": "2021-09-04T09:33:51.349Z"
   },
   {
    "duration": 2582,
    "start_time": "2021-09-04T09:33:49.155Z"
   },
   {
    "duration": 2580,
    "start_time": "2021-09-04T09:33:49.158Z"
   },
   {
    "duration": 22,
    "start_time": "2021-09-04T09:34:12.623Z"
   },
   {
    "duration": 302,
    "start_time": "2021-09-04T09:37:06.973Z"
   },
   {
    "duration": 23,
    "start_time": "2021-09-04T09:38:50.424Z"
   },
   {
    "duration": 1470,
    "start_time": "2021-09-04T09:41:33.773Z"
   },
   {
    "duration": 57,
    "start_time": "2021-09-04T09:41:35.245Z"
   },
   {
    "duration": 61,
    "start_time": "2021-09-04T09:41:35.305Z"
   },
   {
    "duration": 31,
    "start_time": "2021-09-04T09:41:35.369Z"
   },
   {
    "duration": 54,
    "start_time": "2021-09-04T09:41:35.402Z"
   },
   {
    "duration": 24,
    "start_time": "2021-09-04T09:41:35.458Z"
   },
   {
    "duration": 113,
    "start_time": "2021-09-04T09:41:35.484Z"
   },
   {
    "duration": 92,
    "start_time": "2021-09-04T09:41:35.600Z"
   },
   {
    "duration": 65,
    "start_time": "2021-09-04T09:41:35.695Z"
   },
   {
    "duration": 26,
    "start_time": "2021-09-04T09:41:35.762Z"
   },
   {
    "duration": 81,
    "start_time": "2021-09-04T09:41:35.789Z"
   },
   {
    "duration": 29,
    "start_time": "2021-09-04T09:41:35.871Z"
   },
   {
    "duration": 61,
    "start_time": "2021-09-04T09:41:35.901Z"
   },
   {
    "duration": 40,
    "start_time": "2021-09-04T09:41:35.963Z"
   },
   {
    "duration": 62,
    "start_time": "2021-09-04T09:41:36.005Z"
   },
   {
    "duration": 45,
    "start_time": "2021-09-04T09:41:36.069Z"
   },
   {
    "duration": 173,
    "start_time": "2021-09-04T09:41:36.115Z"
   },
   {
    "duration": 171,
    "start_time": "2021-09-04T09:41:36.290Z"
   },
   {
    "duration": 167,
    "start_time": "2021-09-04T09:41:36.463Z"
   },
   {
    "duration": 14,
    "start_time": "2021-09-04T09:41:36.631Z"
   },
   {
    "duration": 14,
    "start_time": "2021-09-04T09:41:36.646Z"
   },
   {
    "duration": 13,
    "start_time": "2021-09-04T09:41:36.662Z"
   },
   {
    "duration": 24,
    "start_time": "2021-09-04T09:41:36.678Z"
   },
   {
    "duration": 6,
    "start_time": "2021-09-04T09:41:36.704Z"
   },
   {
    "duration": 45,
    "start_time": "2021-09-04T09:41:36.712Z"
   },
   {
    "duration": 128,
    "start_time": "2021-09-04T09:41:36.759Z"
   },
   {
    "duration": 25,
    "start_time": "2021-09-04T09:41:36.889Z"
   },
   {
    "duration": 2,
    "start_time": "2021-09-04T09:41:36.916Z"
   },
   {
    "duration": 34,
    "start_time": "2021-09-04T09:41:36.919Z"
   },
   {
    "duration": 268,
    "start_time": "2021-09-04T09:41:36.954Z"
   },
   {
    "duration": 22,
    "start_time": "2021-09-04T09:41:37.224Z"
   },
   {
    "duration": 262,
    "start_time": "2021-09-04T09:41:37.248Z"
   },
   {
    "duration": 14,
    "start_time": "2021-09-04T09:41:37.511Z"
   },
   {
    "duration": 275,
    "start_time": "2021-09-04T09:41:37.526Z"
   },
   {
    "duration": 24,
    "start_time": "2021-09-04T09:41:37.802Z"
   },
   {
    "duration": 10,
    "start_time": "2021-09-04T09:41:37.840Z"
   },
   {
    "duration": 15,
    "start_time": "2021-09-04T09:41:37.852Z"
   },
   {
    "duration": 1663,
    "start_time": "2021-09-05T08:10:17.445Z"
   },
   {
    "duration": 67,
    "start_time": "2021-09-05T08:10:19.110Z"
   },
   {
    "duration": 68,
    "start_time": "2021-09-05T08:10:19.179Z"
   },
   {
    "duration": 38,
    "start_time": "2021-09-05T08:10:19.249Z"
   },
   {
    "duration": 66,
    "start_time": "2021-09-05T08:10:19.289Z"
   },
   {
    "duration": 27,
    "start_time": "2021-09-05T08:10:19.356Z"
   },
   {
    "duration": 121,
    "start_time": "2021-09-05T08:10:19.384Z"
   },
   {
    "duration": 101,
    "start_time": "2021-09-05T08:10:19.507Z"
   },
   {
    "duration": 64,
    "start_time": "2021-09-05T08:10:19.610Z"
   },
   {
    "duration": 27,
    "start_time": "2021-09-05T08:10:19.676Z"
   },
   {
    "duration": 90,
    "start_time": "2021-09-05T08:10:19.705Z"
   },
   {
    "duration": 46,
    "start_time": "2021-09-05T08:10:19.797Z"
   },
   {
    "duration": 50,
    "start_time": "2021-09-05T08:10:19.845Z"
   },
   {
    "duration": 62,
    "start_time": "2021-09-05T08:10:19.897Z"
   },
   {
    "duration": 39,
    "start_time": "2021-09-05T08:10:19.960Z"
   },
   {
    "duration": 78,
    "start_time": "2021-09-05T08:10:20.001Z"
   },
   {
    "duration": 204,
    "start_time": "2021-09-05T08:10:20.081Z"
   },
   {
    "duration": 206,
    "start_time": "2021-09-05T08:10:20.287Z"
   },
   {
    "duration": 205,
    "start_time": "2021-09-05T08:10:20.495Z"
   },
   {
    "duration": 17,
    "start_time": "2021-09-05T08:10:20.702Z"
   },
   {
    "duration": 30,
    "start_time": "2021-09-05T08:10:20.720Z"
   },
   {
    "duration": 20,
    "start_time": "2021-09-05T08:10:20.752Z"
   },
   {
    "duration": 26,
    "start_time": "2021-09-05T08:10:20.773Z"
   },
   {
    "duration": 10,
    "start_time": "2021-09-05T08:10:20.801Z"
   },
   {
    "duration": 49,
    "start_time": "2021-09-05T08:10:20.813Z"
   },
   {
    "duration": 150,
    "start_time": "2021-09-05T08:10:20.864Z"
   },
   {
    "duration": 42,
    "start_time": "2021-09-05T08:10:21.018Z"
   },
   {
    "duration": 3,
    "start_time": "2021-09-05T08:10:21.062Z"
   },
   {
    "duration": 20,
    "start_time": "2021-09-05T08:10:21.067Z"
   },
   {
    "duration": 333,
    "start_time": "2021-09-05T08:10:21.089Z"
   },
   {
    "duration": 23,
    "start_time": "2021-09-05T08:10:21.424Z"
   },
   {
    "duration": 310,
    "start_time": "2021-09-05T08:10:21.448Z"
   },
   {
    "duration": 16,
    "start_time": "2021-09-05T08:10:21.760Z"
   },
   {
    "duration": 316,
    "start_time": "2021-09-05T08:10:21.778Z"
   },
   {
    "duration": 26,
    "start_time": "2021-09-05T08:10:22.096Z"
   },
   {
    "duration": 24,
    "start_time": "2021-09-05T08:10:22.124Z"
   },
   {
    "duration": 17,
    "start_time": "2021-09-05T08:10:22.150Z"
   },
   {
    "duration": 9,
    "start_time": "2021-09-05T08:11:03.529Z"
   },
   {
    "duration": 21,
    "start_time": "2021-09-05T08:11:08.399Z"
   },
   {
    "duration": 1646,
    "start_time": "2021-09-05T08:16:24.102Z"
   },
   {
    "duration": 68,
    "start_time": "2021-09-05T08:16:25.750Z"
   },
   {
    "duration": 65,
    "start_time": "2021-09-05T08:16:25.820Z"
   },
   {
    "duration": 35,
    "start_time": "2021-09-05T08:16:25.887Z"
   },
   {
    "duration": 56,
    "start_time": "2021-09-05T08:16:25.924Z"
   },
   {
    "duration": 60,
    "start_time": "2021-09-05T08:16:25.982Z"
   },
   {
    "duration": 114,
    "start_time": "2021-09-05T08:16:26.045Z"
   },
   {
    "duration": 112,
    "start_time": "2021-09-05T08:16:26.163Z"
   },
   {
    "duration": 70,
    "start_time": "2021-09-05T08:16:26.278Z"
   },
   {
    "duration": 31,
    "start_time": "2021-09-05T08:16:26.351Z"
   },
   {
    "duration": 103,
    "start_time": "2021-09-05T08:16:26.384Z"
   },
   {
    "duration": 35,
    "start_time": "2021-09-05T08:16:26.489Z"
   },
   {
    "duration": 56,
    "start_time": "2021-09-05T08:16:26.540Z"
   },
   {
    "duration": 74,
    "start_time": "2021-09-05T08:16:26.598Z"
   },
   {
    "duration": 45,
    "start_time": "2021-09-05T08:16:26.675Z"
   },
   {
    "duration": 56,
    "start_time": "2021-09-05T08:16:26.741Z"
   },
   {
    "duration": 206,
    "start_time": "2021-09-05T08:16:26.798Z"
   },
   {
    "duration": 191,
    "start_time": "2021-09-05T08:16:27.006Z"
   },
   {
    "duration": 193,
    "start_time": "2021-09-05T08:16:27.199Z"
   },
   {
    "duration": 16,
    "start_time": "2021-09-05T08:16:27.394Z"
   },
   {
    "duration": 30,
    "start_time": "2021-09-05T08:16:27.412Z"
   },
   {
    "duration": 13,
    "start_time": "2021-09-05T08:16:27.444Z"
   },
   {
    "duration": 22,
    "start_time": "2021-09-05T08:16:27.461Z"
   },
   {
    "duration": 8,
    "start_time": "2021-09-05T08:16:27.486Z"
   },
   {
    "duration": 60,
    "start_time": "2021-09-05T08:16:27.496Z"
   },
   {
    "duration": 152,
    "start_time": "2021-09-05T08:16:27.557Z"
   },
   {
    "duration": 43,
    "start_time": "2021-09-05T08:16:27.711Z"
   },
   {
    "duration": 3,
    "start_time": "2021-09-05T08:16:27.755Z"
   },
   {
    "duration": 20,
    "start_time": "2021-09-05T08:16:27.760Z"
   },
   {
    "duration": 331,
    "start_time": "2021-09-05T08:16:27.782Z"
   },
   {
    "duration": 28,
    "start_time": "2021-09-05T08:16:28.115Z"
   },
   {
    "duration": 302,
    "start_time": "2021-09-05T08:16:28.145Z"
   },
   {
    "duration": 16,
    "start_time": "2021-09-05T08:16:28.449Z"
   },
   {
    "duration": 333,
    "start_time": "2021-09-05T08:16:28.467Z"
   },
   {
    "duration": 3,
    "start_time": "2021-09-05T08:16:28.802Z"
   },
   {
    "duration": 43,
    "start_time": "2021-09-05T08:16:28.807Z"
   },
   {
    "duration": 28,
    "start_time": "2021-09-05T08:16:28.852Z"
   },
   {
    "duration": 12,
    "start_time": "2021-09-05T08:16:28.883Z"
   },
   {
    "duration": 24,
    "start_time": "2021-09-05T08:16:28.897Z"
   },
   {
    "duration": 21,
    "start_time": "2021-09-05T08:16:35.404Z"
   },
   {
    "duration": 8,
    "start_time": "2021-09-05T08:16:58.649Z"
   },
   {
    "duration": 7,
    "start_time": "2021-09-05T08:18:41.616Z"
   },
   {
    "duration": 12,
    "start_time": "2021-09-05T08:18:42.054Z"
   },
   {
    "duration": 7,
    "start_time": "2021-09-05T08:18:58.922Z"
   },
   {
    "duration": 4,
    "start_time": "2021-09-05T08:18:59.449Z"
   },
   {
    "duration": 8,
    "start_time": "2021-09-05T08:19:15.746Z"
   }
  ],
  "kernelspec": {
   "display_name": "Python 3",
   "language": "python",
   "name": "python3"
  },
  "language_info": {
   "codemirror_mode": {
    "name": "ipython",
    "version": 3
   },
   "file_extension": ".py",
   "mimetype": "text/x-python",
   "name": "python",
   "nbconvert_exporter": "python",
   "pygments_lexer": "ipython3",
   "version": "3.7.10"
  },
  "toc": {
   "base_numbering": 1,
   "nav_menu": {
    "height": "182px",
    "width": "514px"
   },
   "number_sections": true,
   "sideBar": true,
   "skip_h1_title": false,
   "title_cell": "Содержание",
   "title_sidebar": "Contents",
   "toc_cell": true,
   "toc_position": {
    "height": "calc(100% - 180px)",
    "left": "10px",
    "top": "150px",
    "width": "165px"
   },
   "toc_section_display": true,
   "toc_window_display": true
  }
 },
 "nbformat": 4,
 "nbformat_minor": 2
}
