{
 "cells": [
  {
   "cell_type": "markdown",
   "metadata": {},
   "source": [
    "# Исследование объявлений о продаже квартир\n",
    "\n",
    "**Описание задания на исследование:**\n",
    "\n",
    "В вашем распоряжении архив объявлений о продаже квартир в Санкт-Петербурге и соседних населённых пунктах за несколько лет. Нужно научиться определять рыночную стоимость объектов недвижимости. Ваша задача — установить параметры. Это позволит построить автоматизированную систему: она отследит аномалии и мошенническую деятельность. \n",
    "\n",
    "По каждой квартире на продажу доступны два вида данных. Первые вписаны пользователем, вторые получены автоматически на основе картографических данных. Например, расстояние до центра, аэропорта, ближайшего парка и водоёма. "
   ]
  },
  {
   "cell_type": "markdown",
   "metadata": {},
   "source": [
    "**Цель исследования - установление параметров реальности продажи квартиры:**\n",
    "\n",
    "1. Рассмотрение закономерностей по времени продажи квартир\n",
    "2. Рассмотрение редких и выбивающихся значений\n",
    "3. Выявление факторов, в большей степени влияющих на стоимость квартир\n",
    "4. Анализ предложений квартир в центре Санкт-Петербурга\n",
    "\n",
    "**Ход исследования**\n",
    "\n",
    "Данные представлены заказчиком, частично заполнены вручную, частично собраны автоматически. О качестве данных ничего не известно, кроме описания столбцов. Таким образом, исследование необходимо выполнять в четыре этапа:\n",
    "1. Обзор и общее изучение данных.\n",
    "2. Предобработка данных.\n",
    "3. Выполнение дополнительных расчётов необходимых для достижения цели исследования.\n",
    "4. Исследовательский анализ данных и составление выводов."
   ]
  },
  {
   "cell_type": "markdown",
   "metadata": {},
   "source": [
    "## Изучение данных из файла"
   ]
  },
  {
   "cell_type": "markdown",
   "metadata": {},
   "source": [
    "Проведем необходимые изучение данных, подключим необходимые для исследования библиотеки"
   ]
  },
  {
   "cell_type": "code",
   "execution_count": 92,
   "metadata": {
    "scrolled": true
   },
   "outputs": [
    {
     "name": "stdout",
     "output_type": "stream",
     "text": [
      "<class 'pandas.core.frame.DataFrame'>\n",
      "RangeIndex: 23699 entries, 0 to 23698\n",
      "Data columns (total 22 columns):\n",
      "total_images            23699 non-null int64\n",
      "last_price              23699 non-null float64\n",
      "total_area              23699 non-null float64\n",
      "first_day_exposition    23699 non-null object\n",
      "rooms                   23699 non-null int64\n",
      "ceiling_height          14504 non-null float64\n",
      "floors_total            23613 non-null float64\n",
      "living_area             21796 non-null float64\n",
      "floor                   23699 non-null int64\n",
      "is_apartment            2775 non-null object\n",
      "studio                  23699 non-null bool\n",
      "open_plan               23699 non-null bool\n",
      "kitchen_area            21421 non-null float64\n",
      "balcony                 12180 non-null float64\n",
      "locality_name           23650 non-null object\n",
      "airports_nearest        18157 non-null float64\n",
      "cityCenters_nearest     18180 non-null float64\n",
      "parks_around3000        18181 non-null float64\n",
      "parks_nearest           8079 non-null float64\n",
      "ponds_around3000        18181 non-null float64\n",
      "ponds_nearest           9110 non-null float64\n",
      "days_exposition         20518 non-null float64\n",
      "dtypes: bool(2), float64(14), int64(3), object(3)\n",
      "memory usage: 3.7+ MB\n"
     ]
    }
   ],
   "source": [
    "# импортируем необходимые нам библиотеки\n",
    "\n",
    "import pandas as pd\n",
    "import matplotlib.pyplot as plt\n",
    "import seaborn as sns\n",
    "import numpy as np\n",
    "import warnings\n",
    "\n",
    "warnings.filterwarnings('ignore')\n",
    "\n",
    "#Подключим файл с данными указав как разделитель знак табуляции\n",
    "\n",
    "polluted_data = pd.read_csv('/datasets/real_estate_data.csv', sep='\\t')\n",
    "\n",
    "#Просмотрим общую информацию о данных\n",
    "polluted_data.info()"
   ]
  },
  {
   "cell_type": "markdown",
   "metadata": {},
   "source": [
    "Первый взгляд показывает наличие достаточного количества данных для анализа. При этом очевидно, что многие столбцы не содержат всей необходимой информации, есть пропуски, особенно в понимании, является квартира апартаментами или нет.\n",
    "Проверим случайные строчки базы данных:"
   ]
  },
  {
   "cell_type": "code",
   "execution_count": 87,
   "metadata": {},
   "outputs": [
    {
     "data": {
      "text/html": [
       "<div>\n",
       "<style scoped>\n",
       "    .dataframe tbody tr th:only-of-type {\n",
       "        vertical-align: middle;\n",
       "    }\n",
       "\n",
       "    .dataframe tbody tr th {\n",
       "        vertical-align: top;\n",
       "    }\n",
       "\n",
       "    .dataframe thead th {\n",
       "        text-align: right;\n",
       "    }\n",
       "</style>\n",
       "<table border=\"1\" class=\"dataframe\">\n",
       "  <thead>\n",
       "    <tr style=\"text-align: right;\">\n",
       "      <th></th>\n",
       "      <th>total_images</th>\n",
       "      <th>last_price</th>\n",
       "      <th>total_area</th>\n",
       "      <th>first_day_exposition</th>\n",
       "      <th>rooms</th>\n",
       "      <th>ceiling_height</th>\n",
       "      <th>floors_total</th>\n",
       "      <th>living_area</th>\n",
       "      <th>floor</th>\n",
       "      <th>is_apartment</th>\n",
       "      <th>...</th>\n",
       "      <th>kitchen_area</th>\n",
       "      <th>balcony</th>\n",
       "      <th>locality_name</th>\n",
       "      <th>airports_nearest</th>\n",
       "      <th>cityCenters_nearest</th>\n",
       "      <th>parks_around3000</th>\n",
       "      <th>parks_nearest</th>\n",
       "      <th>ponds_around3000</th>\n",
       "      <th>ponds_nearest</th>\n",
       "      <th>days_exposition</th>\n",
       "    </tr>\n",
       "  </thead>\n",
       "  <tbody>\n",
       "    <tr>\n",
       "      <td>17338</td>\n",
       "      <td>5</td>\n",
       "      <td>3300000.0</td>\n",
       "      <td>47.0</td>\n",
       "      <td>2018-03-30T00:00:00</td>\n",
       "      <td>1</td>\n",
       "      <td>3.00</td>\n",
       "      <td>10.0</td>\n",
       "      <td>NaN</td>\n",
       "      <td>4</td>\n",
       "      <td>NaN</td>\n",
       "      <td>...</td>\n",
       "      <td>NaN</td>\n",
       "      <td>NaN</td>\n",
       "      <td>деревня Новое Девяткино</td>\n",
       "      <td>NaN</td>\n",
       "      <td>NaN</td>\n",
       "      <td>NaN</td>\n",
       "      <td>NaN</td>\n",
       "      <td>NaN</td>\n",
       "      <td>NaN</td>\n",
       "      <td>42.0</td>\n",
       "    </tr>\n",
       "    <tr>\n",
       "      <td>13876</td>\n",
       "      <td>12</td>\n",
       "      <td>2290000.0</td>\n",
       "      <td>40.0</td>\n",
       "      <td>2016-01-17T00:00:00</td>\n",
       "      <td>2</td>\n",
       "      <td>3.00</td>\n",
       "      <td>3.0</td>\n",
       "      <td>27.0</td>\n",
       "      <td>2</td>\n",
       "      <td>False</td>\n",
       "      <td>...</td>\n",
       "      <td>7.4</td>\n",
       "      <td>NaN</td>\n",
       "      <td>Гатчина</td>\n",
       "      <td>NaN</td>\n",
       "      <td>NaN</td>\n",
       "      <td>NaN</td>\n",
       "      <td>NaN</td>\n",
       "      <td>NaN</td>\n",
       "      <td>NaN</td>\n",
       "      <td>895.0</td>\n",
       "    </tr>\n",
       "    <tr>\n",
       "      <td>3586</td>\n",
       "      <td>0</td>\n",
       "      <td>5450000.0</td>\n",
       "      <td>53.8</td>\n",
       "      <td>2018-02-01T00:00:00</td>\n",
       "      <td>2</td>\n",
       "      <td>2.85</td>\n",
       "      <td>2.0</td>\n",
       "      <td>36.5</td>\n",
       "      <td>2</td>\n",
       "      <td>NaN</td>\n",
       "      <td>...</td>\n",
       "      <td>5.3</td>\n",
       "      <td>1.0</td>\n",
       "      <td>Санкт-Петербург</td>\n",
       "      <td>38914.0</td>\n",
       "      <td>10617.0</td>\n",
       "      <td>1.0</td>\n",
       "      <td>255.0</td>\n",
       "      <td>0.0</td>\n",
       "      <td>NaN</td>\n",
       "      <td>64.0</td>\n",
       "    </tr>\n",
       "    <tr>\n",
       "      <td>6495</td>\n",
       "      <td>1</td>\n",
       "      <td>5482990.0</td>\n",
       "      <td>66.1</td>\n",
       "      <td>2016-02-19T00:00:00</td>\n",
       "      <td>2</td>\n",
       "      <td>NaN</td>\n",
       "      <td>25.0</td>\n",
       "      <td>43.6</td>\n",
       "      <td>1</td>\n",
       "      <td>NaN</td>\n",
       "      <td>...</td>\n",
       "      <td>11.1</td>\n",
       "      <td>0.0</td>\n",
       "      <td>поселок Бугры</td>\n",
       "      <td>NaN</td>\n",
       "      <td>NaN</td>\n",
       "      <td>NaN</td>\n",
       "      <td>NaN</td>\n",
       "      <td>NaN</td>\n",
       "      <td>NaN</td>\n",
       "      <td>469.0</td>\n",
       "    </tr>\n",
       "    <tr>\n",
       "      <td>14431</td>\n",
       "      <td>5</td>\n",
       "      <td>4190000.0</td>\n",
       "      <td>54.0</td>\n",
       "      <td>2017-10-30T00:00:00</td>\n",
       "      <td>2</td>\n",
       "      <td>3.00</td>\n",
       "      <td>12.0</td>\n",
       "      <td>34.0</td>\n",
       "      <td>3</td>\n",
       "      <td>NaN</td>\n",
       "      <td>...</td>\n",
       "      <td>9.0</td>\n",
       "      <td>2.0</td>\n",
       "      <td>Гатчина</td>\n",
       "      <td>NaN</td>\n",
       "      <td>NaN</td>\n",
       "      <td>NaN</td>\n",
       "      <td>NaN</td>\n",
       "      <td>NaN</td>\n",
       "      <td>NaN</td>\n",
       "      <td>73.0</td>\n",
       "    </tr>\n",
       "    <tr>\n",
       "      <td>8363</td>\n",
       "      <td>13</td>\n",
       "      <td>5690000.0</td>\n",
       "      <td>41.7</td>\n",
       "      <td>2016-12-29T00:00:00</td>\n",
       "      <td>2</td>\n",
       "      <td>3.20</td>\n",
       "      <td>5.0</td>\n",
       "      <td>23.0</td>\n",
       "      <td>2</td>\n",
       "      <td>NaN</td>\n",
       "      <td>...</td>\n",
       "      <td>7.5</td>\n",
       "      <td>0.0</td>\n",
       "      <td>Санкт-Петербург</td>\n",
       "      <td>23963.0</td>\n",
       "      <td>3530.0</td>\n",
       "      <td>2.0</td>\n",
       "      <td>352.0</td>\n",
       "      <td>3.0</td>\n",
       "      <td>341.0</td>\n",
       "      <td>283.0</td>\n",
       "    </tr>\n",
       "    <tr>\n",
       "      <td>15270</td>\n",
       "      <td>15</td>\n",
       "      <td>4999000.0</td>\n",
       "      <td>42.0</td>\n",
       "      <td>2018-11-23T00:00:00</td>\n",
       "      <td>1</td>\n",
       "      <td>2.80</td>\n",
       "      <td>17.0</td>\n",
       "      <td>22.0</td>\n",
       "      <td>4</td>\n",
       "      <td>NaN</td>\n",
       "      <td>...</td>\n",
       "      <td>11.0</td>\n",
       "      <td>2.0</td>\n",
       "      <td>Санкт-Петербург</td>\n",
       "      <td>30571.0</td>\n",
       "      <td>11470.0</td>\n",
       "      <td>1.0</td>\n",
       "      <td>721.0</td>\n",
       "      <td>0.0</td>\n",
       "      <td>NaN</td>\n",
       "      <td>60.0</td>\n",
       "    </tr>\n",
       "    <tr>\n",
       "      <td>2143</td>\n",
       "      <td>4</td>\n",
       "      <td>3350000.0</td>\n",
       "      <td>55.5</td>\n",
       "      <td>2017-11-14T00:00:00</td>\n",
       "      <td>2</td>\n",
       "      <td>NaN</td>\n",
       "      <td>5.0</td>\n",
       "      <td>33.5</td>\n",
       "      <td>3</td>\n",
       "      <td>NaN</td>\n",
       "      <td>...</td>\n",
       "      <td>8.5</td>\n",
       "      <td>2.0</td>\n",
       "      <td>Гатчина</td>\n",
       "      <td>NaN</td>\n",
       "      <td>NaN</td>\n",
       "      <td>NaN</td>\n",
       "      <td>NaN</td>\n",
       "      <td>NaN</td>\n",
       "      <td>NaN</td>\n",
       "      <td>211.0</td>\n",
       "    </tr>\n",
       "    <tr>\n",
       "      <td>11284</td>\n",
       "      <td>17</td>\n",
       "      <td>3200000.0</td>\n",
       "      <td>48.0</td>\n",
       "      <td>2017-10-25T00:00:00</td>\n",
       "      <td>1</td>\n",
       "      <td>2.80</td>\n",
       "      <td>9.0</td>\n",
       "      <td>19.0</td>\n",
       "      <td>4</td>\n",
       "      <td>NaN</td>\n",
       "      <td>...</td>\n",
       "      <td>11.5</td>\n",
       "      <td>2.0</td>\n",
       "      <td>Всеволожск</td>\n",
       "      <td>NaN</td>\n",
       "      <td>NaN</td>\n",
       "      <td>NaN</td>\n",
       "      <td>NaN</td>\n",
       "      <td>NaN</td>\n",
       "      <td>NaN</td>\n",
       "      <td>246.0</td>\n",
       "    </tr>\n",
       "    <tr>\n",
       "      <td>17095</td>\n",
       "      <td>8</td>\n",
       "      <td>5100000.0</td>\n",
       "      <td>50.2</td>\n",
       "      <td>2018-10-06T00:00:00</td>\n",
       "      <td>2</td>\n",
       "      <td>2.50</td>\n",
       "      <td>3.0</td>\n",
       "      <td>28.0</td>\n",
       "      <td>1</td>\n",
       "      <td>NaN</td>\n",
       "      <td>...</td>\n",
       "      <td>5.4</td>\n",
       "      <td>NaN</td>\n",
       "      <td>Пушкин</td>\n",
       "      <td>12671.0</td>\n",
       "      <td>24825.0</td>\n",
       "      <td>1.0</td>\n",
       "      <td>171.0</td>\n",
       "      <td>0.0</td>\n",
       "      <td>NaN</td>\n",
       "      <td>23.0</td>\n",
       "    </tr>\n",
       "  </tbody>\n",
       "</table>\n",
       "<p>10 rows × 22 columns</p>\n",
       "</div>"
      ],
      "text/plain": [
       "       total_images  last_price  total_area first_day_exposition  rooms  \\\n",
       "17338             5   3300000.0        47.0  2018-03-30T00:00:00      1   \n",
       "13876            12   2290000.0        40.0  2016-01-17T00:00:00      2   \n",
       "3586              0   5450000.0        53.8  2018-02-01T00:00:00      2   \n",
       "6495              1   5482990.0        66.1  2016-02-19T00:00:00      2   \n",
       "14431             5   4190000.0        54.0  2017-10-30T00:00:00      2   \n",
       "8363             13   5690000.0        41.7  2016-12-29T00:00:00      2   \n",
       "15270            15   4999000.0        42.0  2018-11-23T00:00:00      1   \n",
       "2143              4   3350000.0        55.5  2017-11-14T00:00:00      2   \n",
       "11284            17   3200000.0        48.0  2017-10-25T00:00:00      1   \n",
       "17095             8   5100000.0        50.2  2018-10-06T00:00:00      2   \n",
       "\n",
       "       ceiling_height  floors_total  living_area  floor is_apartment  ...  \\\n",
       "17338            3.00          10.0          NaN      4          NaN  ...   \n",
       "13876            3.00           3.0         27.0      2        False  ...   \n",
       "3586             2.85           2.0         36.5      2          NaN  ...   \n",
       "6495              NaN          25.0         43.6      1          NaN  ...   \n",
       "14431            3.00          12.0         34.0      3          NaN  ...   \n",
       "8363             3.20           5.0         23.0      2          NaN  ...   \n",
       "15270            2.80          17.0         22.0      4          NaN  ...   \n",
       "2143              NaN           5.0         33.5      3          NaN  ...   \n",
       "11284            2.80           9.0         19.0      4          NaN  ...   \n",
       "17095            2.50           3.0         28.0      1          NaN  ...   \n",
       "\n",
       "       kitchen_area  balcony            locality_name  airports_nearest  \\\n",
       "17338           NaN      NaN  деревня Новое Девяткино               NaN   \n",
       "13876           7.4      NaN                  Гатчина               NaN   \n",
       "3586            5.3      1.0          Санкт-Петербург           38914.0   \n",
       "6495           11.1      0.0            поселок Бугры               NaN   \n",
       "14431           9.0      2.0                  Гатчина               NaN   \n",
       "8363            7.5      0.0          Санкт-Петербург           23963.0   \n",
       "15270          11.0      2.0          Санкт-Петербург           30571.0   \n",
       "2143            8.5      2.0                  Гатчина               NaN   \n",
       "11284          11.5      2.0               Всеволожск               NaN   \n",
       "17095           5.4      NaN                   Пушкин           12671.0   \n",
       "\n",
       "      cityCenters_nearest  parks_around3000  parks_nearest  ponds_around3000  \\\n",
       "17338                 NaN               NaN            NaN               NaN   \n",
       "13876                 NaN               NaN            NaN               NaN   \n",
       "3586              10617.0               1.0          255.0               0.0   \n",
       "6495                  NaN               NaN            NaN               NaN   \n",
       "14431                 NaN               NaN            NaN               NaN   \n",
       "8363               3530.0               2.0          352.0               3.0   \n",
       "15270             11470.0               1.0          721.0               0.0   \n",
       "2143                  NaN               NaN            NaN               NaN   \n",
       "11284                 NaN               NaN            NaN               NaN   \n",
       "17095             24825.0               1.0          171.0               0.0   \n",
       "\n",
       "       ponds_nearest  days_exposition  \n",
       "17338            NaN             42.0  \n",
       "13876            NaN            895.0  \n",
       "3586             NaN             64.0  \n",
       "6495             NaN            469.0  \n",
       "14431            NaN             73.0  \n",
       "8363           341.0            283.0  \n",
       "15270            NaN             60.0  \n",
       "2143             NaN            211.0  \n",
       "11284            NaN            246.0  \n",
       "17095            NaN             23.0  \n",
       "\n",
       "[10 rows x 22 columns]"
      ]
     },
     "execution_count": 87,
     "metadata": {},
     "output_type": "execute_result"
    }
   ],
   "source": [
    "# Применим случайную выборку данных для первичного ознакомления\n",
    "# Укажем параметр random_state=1, для сохранения результата при повторных запусках алгоритма, если нам\n",
    "# вдруг понадобится\n",
    "\n",
    "polluted_data.sample(10, random_state=1)"
   ]
  },
  {
   "cell_type": "markdown",
   "metadata": {},
   "source": [
    "Видны большие пропуски в столбцах, которые заполнялись автоматически, не везде обозначена жилая площадь, есть записи с недостаточным количеством данных.\n",
    "Применим функцию describle, чтобы оценить разброс значений"
   ]
  },
  {
   "cell_type": "code",
   "execution_count": 88,
   "metadata": {},
   "outputs": [
    {
     "data": {
      "text/html": [
       "<div>\n",
       "<style scoped>\n",
       "    .dataframe tbody tr th:only-of-type {\n",
       "        vertical-align: middle;\n",
       "    }\n",
       "\n",
       "    .dataframe tbody tr th {\n",
       "        vertical-align: top;\n",
       "    }\n",
       "\n",
       "    .dataframe thead th {\n",
       "        text-align: right;\n",
       "    }\n",
       "</style>\n",
       "<table border=\"1\" class=\"dataframe\">\n",
       "  <thead>\n",
       "    <tr style=\"text-align: right;\">\n",
       "      <th></th>\n",
       "      <th>total_images</th>\n",
       "      <th>last_price</th>\n",
       "      <th>total_area</th>\n",
       "      <th>rooms</th>\n",
       "      <th>ceiling_height</th>\n",
       "      <th>floors_total</th>\n",
       "      <th>living_area</th>\n",
       "      <th>floor</th>\n",
       "      <th>kitchen_area</th>\n",
       "      <th>balcony</th>\n",
       "      <th>airports_nearest</th>\n",
       "      <th>cityCenters_nearest</th>\n",
       "      <th>parks_around3000</th>\n",
       "      <th>parks_nearest</th>\n",
       "      <th>ponds_around3000</th>\n",
       "      <th>ponds_nearest</th>\n",
       "      <th>days_exposition</th>\n",
       "    </tr>\n",
       "  </thead>\n",
       "  <tbody>\n",
       "    <tr>\n",
       "      <td>count</td>\n",
       "      <td>23699.000000</td>\n",
       "      <td>2.369900e+04</td>\n",
       "      <td>23699.000000</td>\n",
       "      <td>23699.000000</td>\n",
       "      <td>14504.000000</td>\n",
       "      <td>23613.000000</td>\n",
       "      <td>21796.000000</td>\n",
       "      <td>23699.000000</td>\n",
       "      <td>21421.000000</td>\n",
       "      <td>12180.000000</td>\n",
       "      <td>18157.000000</td>\n",
       "      <td>18180.000000</td>\n",
       "      <td>18181.000000</td>\n",
       "      <td>8079.000000</td>\n",
       "      <td>18181.000000</td>\n",
       "      <td>9110.000000</td>\n",
       "      <td>20518.000000</td>\n",
       "    </tr>\n",
       "    <tr>\n",
       "      <td>mean</td>\n",
       "      <td>9.858475</td>\n",
       "      <td>6.541549e+06</td>\n",
       "      <td>60.348651</td>\n",
       "      <td>2.070636</td>\n",
       "      <td>2.771499</td>\n",
       "      <td>10.673824</td>\n",
       "      <td>34.457852</td>\n",
       "      <td>5.892358</td>\n",
       "      <td>10.569807</td>\n",
       "      <td>1.150082</td>\n",
       "      <td>28793.672193</td>\n",
       "      <td>14191.277833</td>\n",
       "      <td>0.611408</td>\n",
       "      <td>490.804555</td>\n",
       "      <td>0.770255</td>\n",
       "      <td>517.980900</td>\n",
       "      <td>180.888634</td>\n",
       "    </tr>\n",
       "    <tr>\n",
       "      <td>std</td>\n",
       "      <td>5.682529</td>\n",
       "      <td>1.088701e+07</td>\n",
       "      <td>35.654083</td>\n",
       "      <td>1.078405</td>\n",
       "      <td>1.261056</td>\n",
       "      <td>6.597173</td>\n",
       "      <td>22.030445</td>\n",
       "      <td>4.885249</td>\n",
       "      <td>5.905438</td>\n",
       "      <td>1.071300</td>\n",
       "      <td>12630.880622</td>\n",
       "      <td>8608.386210</td>\n",
       "      <td>0.802074</td>\n",
       "      <td>342.317995</td>\n",
       "      <td>0.938346</td>\n",
       "      <td>277.720643</td>\n",
       "      <td>219.727988</td>\n",
       "    </tr>\n",
       "    <tr>\n",
       "      <td>min</td>\n",
       "      <td>0.000000</td>\n",
       "      <td>1.219000e+04</td>\n",
       "      <td>12.000000</td>\n",
       "      <td>0.000000</td>\n",
       "      <td>1.000000</td>\n",
       "      <td>1.000000</td>\n",
       "      <td>2.000000</td>\n",
       "      <td>1.000000</td>\n",
       "      <td>1.300000</td>\n",
       "      <td>0.000000</td>\n",
       "      <td>0.000000</td>\n",
       "      <td>181.000000</td>\n",
       "      <td>0.000000</td>\n",
       "      <td>1.000000</td>\n",
       "      <td>0.000000</td>\n",
       "      <td>13.000000</td>\n",
       "      <td>1.000000</td>\n",
       "    </tr>\n",
       "    <tr>\n",
       "      <td>25%</td>\n",
       "      <td>6.000000</td>\n",
       "      <td>3.400000e+06</td>\n",
       "      <td>40.000000</td>\n",
       "      <td>1.000000</td>\n",
       "      <td>2.520000</td>\n",
       "      <td>5.000000</td>\n",
       "      <td>18.600000</td>\n",
       "      <td>2.000000</td>\n",
       "      <td>7.000000</td>\n",
       "      <td>0.000000</td>\n",
       "      <td>18585.000000</td>\n",
       "      <td>9238.000000</td>\n",
       "      <td>0.000000</td>\n",
       "      <td>288.000000</td>\n",
       "      <td>0.000000</td>\n",
       "      <td>294.000000</td>\n",
       "      <td>45.000000</td>\n",
       "    </tr>\n",
       "    <tr>\n",
       "      <td>50%</td>\n",
       "      <td>9.000000</td>\n",
       "      <td>4.650000e+06</td>\n",
       "      <td>52.000000</td>\n",
       "      <td>2.000000</td>\n",
       "      <td>2.650000</td>\n",
       "      <td>9.000000</td>\n",
       "      <td>30.000000</td>\n",
       "      <td>4.000000</td>\n",
       "      <td>9.100000</td>\n",
       "      <td>1.000000</td>\n",
       "      <td>26726.000000</td>\n",
       "      <td>13098.500000</td>\n",
       "      <td>0.000000</td>\n",
       "      <td>455.000000</td>\n",
       "      <td>1.000000</td>\n",
       "      <td>502.000000</td>\n",
       "      <td>95.000000</td>\n",
       "    </tr>\n",
       "    <tr>\n",
       "      <td>75%</td>\n",
       "      <td>14.000000</td>\n",
       "      <td>6.800000e+06</td>\n",
       "      <td>69.900000</td>\n",
       "      <td>3.000000</td>\n",
       "      <td>2.800000</td>\n",
       "      <td>16.000000</td>\n",
       "      <td>42.300000</td>\n",
       "      <td>8.000000</td>\n",
       "      <td>12.000000</td>\n",
       "      <td>2.000000</td>\n",
       "      <td>37273.000000</td>\n",
       "      <td>16293.000000</td>\n",
       "      <td>1.000000</td>\n",
       "      <td>612.000000</td>\n",
       "      <td>1.000000</td>\n",
       "      <td>729.000000</td>\n",
       "      <td>232.000000</td>\n",
       "    </tr>\n",
       "    <tr>\n",
       "      <td>max</td>\n",
       "      <td>50.000000</td>\n",
       "      <td>7.630000e+08</td>\n",
       "      <td>900.000000</td>\n",
       "      <td>19.000000</td>\n",
       "      <td>100.000000</td>\n",
       "      <td>60.000000</td>\n",
       "      <td>409.700000</td>\n",
       "      <td>33.000000</td>\n",
       "      <td>112.000000</td>\n",
       "      <td>5.000000</td>\n",
       "      <td>84869.000000</td>\n",
       "      <td>65968.000000</td>\n",
       "      <td>3.000000</td>\n",
       "      <td>3190.000000</td>\n",
       "      <td>3.000000</td>\n",
       "      <td>1344.000000</td>\n",
       "      <td>1580.000000</td>\n",
       "    </tr>\n",
       "  </tbody>\n",
       "</table>\n",
       "</div>"
      ],
      "text/plain": [
       "       total_images    last_price    total_area         rooms  ceiling_height  \\\n",
       "count  23699.000000  2.369900e+04  23699.000000  23699.000000    14504.000000   \n",
       "mean       9.858475  6.541549e+06     60.348651      2.070636        2.771499   \n",
       "std        5.682529  1.088701e+07     35.654083      1.078405        1.261056   \n",
       "min        0.000000  1.219000e+04     12.000000      0.000000        1.000000   \n",
       "25%        6.000000  3.400000e+06     40.000000      1.000000        2.520000   \n",
       "50%        9.000000  4.650000e+06     52.000000      2.000000        2.650000   \n",
       "75%       14.000000  6.800000e+06     69.900000      3.000000        2.800000   \n",
       "max       50.000000  7.630000e+08    900.000000     19.000000      100.000000   \n",
       "\n",
       "       floors_total   living_area         floor  kitchen_area       balcony  \\\n",
       "count  23613.000000  21796.000000  23699.000000  21421.000000  12180.000000   \n",
       "mean      10.673824     34.457852      5.892358     10.569807      1.150082   \n",
       "std        6.597173     22.030445      4.885249      5.905438      1.071300   \n",
       "min        1.000000      2.000000      1.000000      1.300000      0.000000   \n",
       "25%        5.000000     18.600000      2.000000      7.000000      0.000000   \n",
       "50%        9.000000     30.000000      4.000000      9.100000      1.000000   \n",
       "75%       16.000000     42.300000      8.000000     12.000000      2.000000   \n",
       "max       60.000000    409.700000     33.000000    112.000000      5.000000   \n",
       "\n",
       "       airports_nearest  cityCenters_nearest  parks_around3000  parks_nearest  \\\n",
       "count      18157.000000         18180.000000      18181.000000    8079.000000   \n",
       "mean       28793.672193         14191.277833          0.611408     490.804555   \n",
       "std        12630.880622          8608.386210          0.802074     342.317995   \n",
       "min            0.000000           181.000000          0.000000       1.000000   \n",
       "25%        18585.000000          9238.000000          0.000000     288.000000   \n",
       "50%        26726.000000         13098.500000          0.000000     455.000000   \n",
       "75%        37273.000000         16293.000000          1.000000     612.000000   \n",
       "max        84869.000000         65968.000000          3.000000    3190.000000   \n",
       "\n",
       "       ponds_around3000  ponds_nearest  days_exposition  \n",
       "count      18181.000000    9110.000000     20518.000000  \n",
       "mean           0.770255     517.980900       180.888634  \n",
       "std            0.938346     277.720643       219.727988  \n",
       "min            0.000000      13.000000         1.000000  \n",
       "25%            0.000000     294.000000        45.000000  \n",
       "50%            1.000000     502.000000        95.000000  \n",
       "75%            1.000000     729.000000       232.000000  \n",
       "max            3.000000    1344.000000      1580.000000  "
      ]
     },
     "execution_count": 88,
     "metadata": {},
     "output_type": "execute_result"
    }
   ],
   "source": [
    "#Просмотрим данные функцией describle\n",
    "polluted_data.describe()"
   ]
  },
  {
   "cell_type": "markdown",
   "metadata": {},
   "source": [
    "Видно, что данные неоднородные, есть много выбросов с невероятными значениями ( например высота потолков в 100 м или 60 этажей (при том что самый высокий жилой дом в СПб имеет 35 жилых этажа)\n",
    "Наконец проверим дубликаты:"
   ]
  },
  {
   "cell_type": "code",
   "execution_count": 91,
   "metadata": {},
   "outputs": [
    {
     "name": "stdout",
     "output_type": "stream",
     "text": [
      "Дубликатов в таблице: 0\n"
     ]
    }
   ],
   "source": [
    "#проверим наличие дубликатов\n",
    "print ('Дубликатов в таблице:', polluted_data.duplicated().sum())"
   ]
  },
  {
   "cell_type": "markdown",
   "metadata": {},
   "source": [
    "## Вывод"
   ]
  },
  {
   "cell_type": "markdown",
   "metadata": {},
   "source": [
    "Таблица грязная, не хватает данных. Многие столбцы даны в виде, который затрудняет анализ данных, есть невероятные значения. Данные нуждаются в предобработке."
   ]
  },
  {
   "cell_type": "markdown",
   "metadata": {},
   "source": [
    "<div style=\"border:solid green 2px; padding: 20px\"> \n",
    "    \n",
    "**Комментарий ревьюера**\n",
    "\n",
    "Да, ты выбралf правильные методы для просмотра сырых данных. \n",
    "Молодец, что посмотрела наличие дублей.\n",
    "\n",
    "В целом можно было более конкретно указать проблемы для более четкого понимания предобработки. Возможно удобнее сделать табличкой, чтоб систематизировать наши находки\n",
    "    \n",
    "Например, так    \n",
    "    \n",
    "| Столбец        | Замена типа           | Пропуски  |\n",
    "| ------------- |:-------------:| -----:|\n",
    "| balcony     | int | 0 |\n",
    "| is_appartment     | bool      |   False |\n",
    "| days_expoition | int     |    не требуется |\n",
    "| total_area\t | не требуется    |    не требуется |\n",
    "    \n",
    "Возможно на предобработке так будет легче ориентироваться\n",
    "    \n",
    "</div>"
   ]
  },
  {
   "cell_type": "markdown",
   "metadata": {},
   "source": [
    "# Предобработка данных"
   ]
  },
  {
   "cell_type": "markdown",
   "metadata": {},
   "source": [
    "Проанализируем и обработаем все столбцы таблицы поочередно\n",
    "\n",
    "#### столбец total_images - количество фотографий в объявлении"
   ]
  },
  {
   "cell_type": "code",
   "execution_count": 93,
   "metadata": {},
   "outputs": [
    {
     "name": "stdout",
     "output_type": "stream",
     "text": [
      "10    1798\n",
      "9     1725\n",
      "20    1694\n",
      "8     1585\n",
      "7     1521\n",
      "6     1482\n",
      "11    1362\n",
      "5     1301\n",
      "12    1225\n",
      "0     1059\n",
      "13    1015\n",
      "14     986\n",
      "4      986\n",
      "15     948\n",
      "1      872\n",
      "3      769\n",
      "16     761\n",
      "17     650\n",
      "18     642\n",
      "2      640\n",
      "19     603\n",
      "23      16\n",
      "21      12\n",
      "24       8\n",
      "22       8\n",
      "26       5\n",
      "28       4\n",
      "32       4\n",
      "50       3\n",
      "29       3\n",
      "31       2\n",
      "35       2\n",
      "30       2\n",
      "27       2\n",
      "37       1\n",
      "39       1\n",
      "25       1\n",
      "42       1\n",
      "Name: total_images, dtype: int64\n"
     ]
    },
    {
     "data": {
      "text/html": [
       "<div>\n",
       "<style scoped>\n",
       "    .dataframe tbody tr th:only-of-type {\n",
       "        vertical-align: middle;\n",
       "    }\n",
       "\n",
       "    .dataframe tbody tr th {\n",
       "        vertical-align: top;\n",
       "    }\n",
       "\n",
       "    .dataframe thead th {\n",
       "        text-align: right;\n",
       "    }\n",
       "</style>\n",
       "<table border=\"1\" class=\"dataframe\">\n",
       "  <thead>\n",
       "    <tr style=\"text-align: right;\">\n",
       "      <th></th>\n",
       "      <th>total_images</th>\n",
       "      <th>last_price</th>\n",
       "      <th>total_area</th>\n",
       "      <th>first_day_exposition</th>\n",
       "      <th>rooms</th>\n",
       "      <th>ceiling_height</th>\n",
       "      <th>floors_total</th>\n",
       "      <th>living_area</th>\n",
       "      <th>floor</th>\n",
       "      <th>is_apartment</th>\n",
       "      <th>...</th>\n",
       "      <th>kitchen_area</th>\n",
       "      <th>balcony</th>\n",
       "      <th>locality_name</th>\n",
       "      <th>airports_nearest</th>\n",
       "      <th>cityCenters_nearest</th>\n",
       "      <th>parks_around3000</th>\n",
       "      <th>parks_nearest</th>\n",
       "      <th>ponds_around3000</th>\n",
       "      <th>ponds_nearest</th>\n",
       "      <th>days_exposition</th>\n",
       "    </tr>\n",
       "  </thead>\n",
       "  <tbody>\n",
       "    <tr>\n",
       "      <td>3</td>\n",
       "      <td>0</td>\n",
       "      <td>64900000.0</td>\n",
       "      <td>159.0</td>\n",
       "      <td>2015-07-24T00:00:00</td>\n",
       "      <td>3</td>\n",
       "      <td>NaN</td>\n",
       "      <td>14.0</td>\n",
       "      <td>NaN</td>\n",
       "      <td>9</td>\n",
       "      <td>NaN</td>\n",
       "      <td>...</td>\n",
       "      <td>NaN</td>\n",
       "      <td>0.0</td>\n",
       "      <td>Санкт-Петербург</td>\n",
       "      <td>28098.0</td>\n",
       "      <td>6800.0</td>\n",
       "      <td>2.0</td>\n",
       "      <td>84.0</td>\n",
       "      <td>3.0</td>\n",
       "      <td>234.0</td>\n",
       "      <td>424.0</td>\n",
       "    </tr>\n",
       "    <tr>\n",
       "      <td>62</td>\n",
       "      <td>0</td>\n",
       "      <td>4800000.0</td>\n",
       "      <td>78.6</td>\n",
       "      <td>2017-09-17T00:00:00</td>\n",
       "      <td>3</td>\n",
       "      <td>2.8</td>\n",
       "      <td>9.0</td>\n",
       "      <td>48.8</td>\n",
       "      <td>5</td>\n",
       "      <td>NaN</td>\n",
       "      <td>...</td>\n",
       "      <td>11.9</td>\n",
       "      <td>2.0</td>\n",
       "      <td>Сертолово</td>\n",
       "      <td>NaN</td>\n",
       "      <td>NaN</td>\n",
       "      <td>NaN</td>\n",
       "      <td>NaN</td>\n",
       "      <td>NaN</td>\n",
       "      <td>NaN</td>\n",
       "      <td>5.0</td>\n",
       "    </tr>\n",
       "    <tr>\n",
       "      <td>88</td>\n",
       "      <td>0</td>\n",
       "      <td>1700000.0</td>\n",
       "      <td>33.1</td>\n",
       "      <td>2019-04-09T00:00:00</td>\n",
       "      <td>1</td>\n",
       "      <td>NaN</td>\n",
       "      <td>5.0</td>\n",
       "      <td>18.4</td>\n",
       "      <td>1</td>\n",
       "      <td>NaN</td>\n",
       "      <td>...</td>\n",
       "      <td>6.4</td>\n",
       "      <td>NaN</td>\n",
       "      <td>посёлок городского типа Лебяжье</td>\n",
       "      <td>NaN</td>\n",
       "      <td>NaN</td>\n",
       "      <td>NaN</td>\n",
       "      <td>NaN</td>\n",
       "      <td>NaN</td>\n",
       "      <td>NaN</td>\n",
       "      <td>NaN</td>\n",
       "    </tr>\n",
       "    <tr>\n",
       "      <td>129</td>\n",
       "      <td>0</td>\n",
       "      <td>3200000.0</td>\n",
       "      <td>32.0</td>\n",
       "      <td>2018-02-01T00:00:00</td>\n",
       "      <td>1</td>\n",
       "      <td>2.5</td>\n",
       "      <td>9.0</td>\n",
       "      <td>18.0</td>\n",
       "      <td>3</td>\n",
       "      <td>NaN</td>\n",
       "      <td>...</td>\n",
       "      <td>8.0</td>\n",
       "      <td>NaN</td>\n",
       "      <td>Санкт-Петербург</td>\n",
       "      <td>49587.0</td>\n",
       "      <td>16425.0</td>\n",
       "      <td>1.0</td>\n",
       "      <td>215.0</td>\n",
       "      <td>0.0</td>\n",
       "      <td>NaN</td>\n",
       "      <td>40.0</td>\n",
       "    </tr>\n",
       "    <tr>\n",
       "      <td>166</td>\n",
       "      <td>0</td>\n",
       "      <td>2300000.0</td>\n",
       "      <td>60.0</td>\n",
       "      <td>2017-12-02T00:00:00</td>\n",
       "      <td>2</td>\n",
       "      <td>NaN</td>\n",
       "      <td>3.0</td>\n",
       "      <td>NaN</td>\n",
       "      <td>1</td>\n",
       "      <td>NaN</td>\n",
       "      <td>...</td>\n",
       "      <td>NaN</td>\n",
       "      <td>NaN</td>\n",
       "      <td>посёлок Плодовое</td>\n",
       "      <td>NaN</td>\n",
       "      <td>NaN</td>\n",
       "      <td>NaN</td>\n",
       "      <td>NaN</td>\n",
       "      <td>NaN</td>\n",
       "      <td>NaN</td>\n",
       "      <td>45.0</td>\n",
       "    </tr>\n",
       "  </tbody>\n",
       "</table>\n",
       "<p>5 rows × 22 columns</p>\n",
       "</div>"
      ],
      "text/plain": [
       "     total_images  last_price  total_area first_day_exposition  rooms  \\\n",
       "3               0  64900000.0       159.0  2015-07-24T00:00:00      3   \n",
       "62              0   4800000.0        78.6  2017-09-17T00:00:00      3   \n",
       "88              0   1700000.0        33.1  2019-04-09T00:00:00      1   \n",
       "129             0   3200000.0        32.0  2018-02-01T00:00:00      1   \n",
       "166             0   2300000.0        60.0  2017-12-02T00:00:00      2   \n",
       "\n",
       "     ceiling_height  floors_total  living_area  floor is_apartment  ...  \\\n",
       "3               NaN          14.0          NaN      9          NaN  ...   \n",
       "62              2.8           9.0         48.8      5          NaN  ...   \n",
       "88              NaN           5.0         18.4      1          NaN  ...   \n",
       "129             2.5           9.0         18.0      3          NaN  ...   \n",
       "166             NaN           3.0          NaN      1          NaN  ...   \n",
       "\n",
       "     kitchen_area  balcony                    locality_name  airports_nearest  \\\n",
       "3             NaN      0.0                  Санкт-Петербург           28098.0   \n",
       "62           11.9      2.0                        Сертолово               NaN   \n",
       "88            6.4      NaN  посёлок городского типа Лебяжье               NaN   \n",
       "129           8.0      NaN                  Санкт-Петербург           49587.0   \n",
       "166           NaN      NaN                 посёлок Плодовое               NaN   \n",
       "\n",
       "    cityCenters_nearest  parks_around3000  parks_nearest  ponds_around3000  \\\n",
       "3                6800.0               2.0           84.0               3.0   \n",
       "62                  NaN               NaN            NaN               NaN   \n",
       "88                  NaN               NaN            NaN               NaN   \n",
       "129             16425.0               1.0          215.0               0.0   \n",
       "166                 NaN               NaN            NaN               NaN   \n",
       "\n",
       "     ponds_nearest  days_exposition  \n",
       "3            234.0            424.0  \n",
       "62             NaN              5.0  \n",
       "88             NaN              NaN  \n",
       "129            NaN             40.0  \n",
       "166            NaN             45.0  \n",
       "\n",
       "[5 rows x 22 columns]"
      ]
     },
     "execution_count": 93,
     "metadata": {},
     "output_type": "execute_result"
    }
   ],
   "source": [
    "#проверяем уникальные значения и заодно отслеживаем пропуски\n",
    "print(polluted_data['total_images'].value_counts(dropna=False))\n",
    "#посмотрим строки с 0  может есть что-то общее?\n",
    "polluted_data.loc[polluted_data['total_images'] == 0].head(5)"
   ]
  },
  {
   "cell_type": "markdown",
   "metadata": {},
   "source": [
    "#### Результат:\n",
    "В целом всё нормально. Кому-то нравится много фото, кому-то мало. Зависимости почему нет фото тоже не видно, но для меня такие объявления немного подозрительны\n",
    "\n",
    "#### last_price - цена на момент снятия с публикации"
   ]
  },
  {
   "cell_type": "code",
   "execution_count": 99,
   "metadata": {},
   "outputs": [
    {
     "name": "stdout",
     "output_type": "stream",
     "text": [
      "4500000     342\n",
      "3500000     291\n",
      "4300000     260\n",
      "4000000     260\n",
      "4200000     259\n",
      "           ... \n",
      "3247000       1\n",
      "8555400       1\n",
      "11748225      1\n",
      "2182000       1\n",
      "12288000      1\n",
      "Name: last_price, Length: 2978, dtype: int64\n",
      "count    2.369900e+04\n",
      "mean     6.541549e+06\n",
      "std      1.088701e+07\n",
      "min      1.219000e+04\n",
      "25%      3.400000e+06\n",
      "50%      4.650000e+06\n",
      "75%      6.800000e+06\n",
      "max      7.630000e+08\n",
      "Name: last_price, dtype: float64\n"
     ]
    }
   ],
   "source": [
    "#проверяем уникальные значения и заодно отслеживаем пропуски\n",
    "print(polluted_data['last_price'].value_counts(dropna=False))\n",
    "\n",
    "#Просмотрим данные функцией describle\n",
    "print(polluted_data['last_price'].describe())\n",
    "\n",
    "#переведем цену в целые числа для удобства обработки\n",
    "polluted_data['last_price']=polluted_data['last_price'].astype(int)"
   ]
  },
  {
   "cell_type": "markdown",
   "metadata": {},
   "source": [
    "#### Результат:\n",
    "\n",
    "В целом всё нормально. В данном столбце везде есть значения. Нулевых и отрицательных нет. Максимальные и минимальные значения странные. Для удобства дальнейшей работы я перевул данные по цене в целые.\n",
    "\n",
    "#### total_area - общая площадь"
   ]
  },
  {
   "cell_type": "code",
   "execution_count": 101,
   "metadata": {},
   "outputs": [
    {
     "name": "stdout",
     "output_type": "stream",
     "text": [
      "45.00     419\n",
      "42.00     383\n",
      "60.00     347\n",
      "31.00     346\n",
      "44.00     345\n",
      "         ... \n",
      "45.85       1\n",
      "44.18       1\n",
      "59.83       1\n",
      "127.20      1\n",
      "23.55       1\n",
      "Name: total_area, Length: 2182, dtype: int64\n",
      "count    23699.000000\n",
      "mean        60.348651\n",
      "std         35.654083\n",
      "min         12.000000\n",
      "25%         40.000000\n",
      "50%         52.000000\n",
      "75%         69.900000\n",
      "max        900.000000\n",
      "Name: total_area, dtype: float64\n"
     ]
    }
   ],
   "source": [
    "#проверяем уникальные значения и заодно отслеживаем пропуски\n",
    "print(polluted_data['total_area'].value_counts(dropna=False))\n",
    "#Просмотрим данные функцией describle\n",
    "print(polluted_data['total_area'].describe())"
   ]
  },
  {
   "cell_type": "markdown",
   "metadata": {},
   "source": [
    "#### Результат:\n",
    "\n",
    "В целом всё нормально.Нулей и неопределенностей нет. \n",
    "\n",
    "#### first_day_exposition - дата публикации"
   ]
  },
  {
   "cell_type": "code",
   "execution_count": 103,
   "metadata": {},
   "outputs": [
    {
     "name": "stdout",
     "output_type": "stream",
     "text": [
      "2018-02-01    368\n",
      "2017-11-10    240\n",
      "2017-10-13    124\n",
      "2017-09-27    111\n",
      "2018-03-26     97\n",
      "             ... \n",
      "2015-02-03      1\n",
      "2016-10-28      1\n",
      "2015-05-17      1\n",
      "2016-01-06      1\n",
      "2015-09-02      1\n",
      "Name: first_day_exposition, Length: 1491, dtype: int64\n"
     ]
    }
   ],
   "source": [
    "#проверяем уникальные значения и заодно отслеживаем пропуски\n",
    "print(polluted_data['first_day_exposition'].value_counts(dropna=False))"
   ]
  },
  {
   "cell_type": "markdown",
   "metadata": {},
   "source": [
    "Пропусков нет, но нужно перевести данные в формат даты. Так будет удобнее."
   ]
  },
  {
   "cell_type": "code",
   "execution_count": 104,
   "metadata": {},
   "outputs": [
    {
     "data": {
      "text/plain": [
       "0   2019-03-07\n",
       "1   2018-12-04\n",
       "2   2015-08-20\n",
       "3   2015-07-24\n",
       "4   2018-06-19\n",
       "Name: first_day_exposition, dtype: datetime64[ns]"
      ]
     },
     "execution_count": 104,
     "metadata": {},
     "output_type": "execute_result"
    }
   ],
   "source": [
    "# Переведем столбец в режим даты\n",
    "polluted_data['first_day_exposition'] = pd.to_datetime(polluted_data['first_day_exposition'], format='%Y-%m-%dT%H:%M:%S')\n",
    "\n",
    "#Проверим как получилось\n",
    "polluted_data['first_day_exposition'].head()"
   ]
  },
  {
   "cell_type": "markdown",
   "metadata": {},
   "source": [
    "#### Результат:\n",
    "В целом всё нормально. В данном столбце везде есть значения. Нулевых и отрицательных нет. Данные перевели в формат даты\n",
    "#### rooms - количество комнат"
   ]
  },
  {
   "cell_type": "code",
   "execution_count": 105,
   "metadata": {},
   "outputs": [
    {
     "name": "stdout",
     "output_type": "stream",
     "text": [
      "1     8047\n",
      "2     7940\n",
      "3     5814\n",
      "4     1180\n",
      "5      326\n",
      "0      197\n",
      "6      105\n",
      "7       59\n",
      "8       12\n",
      "9        8\n",
      "10       3\n",
      "14       2\n",
      "11       2\n",
      "19       1\n",
      "12       1\n",
      "16       1\n",
      "15       1\n",
      "Name: rooms, dtype: int64\n",
      "Объявлений с 0 комнат:  total_images            197\n",
      "last_price              197\n",
      "total_area              197\n",
      "first_day_exposition    197\n",
      "rooms                   197\n",
      "ceiling_height           82\n",
      "floors_total            194\n",
      "living_area             183\n",
      "floor                   197\n",
      "is_apartment              6\n",
      "studio                  197\n",
      "open_plan               197\n",
      "kitchen_area              0\n",
      "balcony                 126\n",
      "locality_name           197\n",
      "airports_nearest        118\n",
      "cityCenters_nearest     118\n",
      "parks_around3000        118\n",
      "parks_nearest            29\n",
      "ponds_around3000        118\n",
      "ponds_nearest            69\n",
      "days_exposition         183\n",
      "dtype: int64\n",
      "Объявление с максимальным количеством комнат:         total_images  last_price  total_area first_day_exposition  rooms  \\\n",
      "14498             6    32250000       374.6           2018-06-09     19   \n",
      "\n",
      "       ceiling_height  floors_total  living_area  floor is_apartment  ...  \\\n",
      "14498             NaN           5.0        264.5      2          NaN  ...   \n",
      "\n",
      "       kitchen_area  balcony    locality_name  airports_nearest  \\\n",
      "14498          27.6      NaN  Санкт-Петербург           19497.0   \n",
      "\n",
      "      cityCenters_nearest  parks_around3000  parks_nearest  ponds_around3000  \\\n",
      "14498              3574.0               0.0            NaN               2.0   \n",
      "\n",
      "       ponds_nearest  days_exposition  \n",
      "14498          548.0            114.0  \n",
      "\n",
      "[1 rows x 22 columns]\n"
     ]
    }
   ],
   "source": [
    "#проверяем уникальные значения и заодно отслеживаем пропуски\n",
    "print(polluted_data['rooms'].value_counts(dropna=False))\n",
    "\n",
    "#посмотрим строки с 0  может есть что-то общее?\n",
    "print('Объявлений с 0 комнат: ',polluted_data.loc[polluted_data['rooms'] == 0].count())\n",
    "\n",
    "max_rooms = polluted_data['rooms'].max()\n",
    "print('Объявление с максимальным количеством комнат: ',polluted_data.loc[polluted_data.loc[:,'rooms'] == max_rooms])"
   ]
  },
  {
   "cell_type": "markdown",
   "metadata": {},
   "source": [
    "У нас 197 объявлений с числом комнат равным 0. В принципе это может быть верным только для студий или квартир с открытой планировкой. Проверим и поставим 0 только в этих объявлениях. Зачем проверим количество пропусков"
   ]
  },
  {
   "cell_type": "code",
   "execution_count": 107,
   "metadata": {},
   "outputs": [
    {
     "name": "stdout",
     "output_type": "stream",
     "text": [
      "1     8033\n",
      "2     7939\n",
      "3     5812\n",
      "4     1179\n",
      "5      325\n",
      "0      216\n",
      "6      105\n",
      "7       59\n",
      "8       12\n",
      "9        8\n",
      "10       3\n",
      "14       2\n",
      "11       2\n",
      "19       1\n",
      "12       1\n",
      "16       1\n",
      "15       1\n",
      "Name: clear_rooms, dtype: int64\n"
     ]
    }
   ],
   "source": [
    "#Сделаем исправление количества комнат. Результат на всякий случай запишем в новый столбец\n",
    "\n",
    "def clear_rooms (row):\n",
    "    if row['studio'] == True:\n",
    "        clear_rooms = 0\n",
    "        return clear_rooms\n",
    "    if row['open_plan'] == True:\n",
    "        clear_rooms = 0\n",
    "        return clear_rooms\n",
    "    else:\n",
    "        clear_rooms = row['rooms']\n",
    "        return clear_rooms\n",
    "\n",
    "polluted_data['clear_rooms'] = polluted_data.apply(clear_rooms, axis = 1)\n",
    "print(polluted_data['clear_rooms'].value_counts(dropna=False,ascending=False))"
   ]
  },
  {
   "cell_type": "markdown",
   "metadata": {},
   "source": [
    "#### Результат:\n",
    "\n",
    "Мы проверили количество комнат, исправили их значение и записали новый столбец, который будем использовать в дальнейшем\n",
    "\n",
    "#### ceiling_height - высота потолков"
   ]
  },
  {
   "cell_type": "code",
   "execution_count": 110,
   "metadata": {
    "scrolled": true
   },
   "outputs": [
    {
     "name": "stdout",
     "output_type": "stream",
     "text": [
      "NaN      9195\n",
      "2.50     3515\n",
      "2.60     1646\n",
      "2.70     1574\n",
      "3.00     1112\n",
      "         ... \n",
      "26.00       1\n",
      "3.88        1\n",
      "3.29        1\n",
      "3.83        1\n",
      "3.58        1\n",
      "Name: ceiling_height, Length: 184, dtype: int64\n",
      "total_images            36\n",
      "last_price              36\n",
      "total_area              36\n",
      "first_day_exposition    36\n",
      "rooms                   36\n",
      "ceiling_height          36\n",
      "floors_total            36\n",
      "living_area             34\n",
      "floor                   36\n",
      "is_apartment            13\n",
      "studio                  36\n",
      "open_plan               36\n",
      "kitchen_area            27\n",
      "balcony                 25\n",
      "locality_name           36\n",
      "airports_nearest        26\n",
      "cityCenters_nearest     26\n",
      "parks_around3000        26\n",
      "parks_nearest           15\n",
      "ponds_around3000        26\n",
      "ponds_nearest           15\n",
      "days_exposition         28\n",
      "clear_rooms             36\n",
      "dtype: int64\n",
      "total_images            14\n",
      "last_price              14\n",
      "total_area              14\n",
      "first_day_exposition    14\n",
      "rooms                   14\n",
      "ceiling_height          14\n",
      "floors_total            14\n",
      "living_area             12\n",
      "floor                   14\n",
      "is_apartment             1\n",
      "studio                  14\n",
      "open_plan               14\n",
      "kitchen_area            12\n",
      "balcony                  4\n",
      "locality_name           14\n",
      "airports_nearest         5\n",
      "cityCenters_nearest      5\n",
      "parks_around3000         5\n",
      "parks_nearest            3\n",
      "ponds_around3000         5\n",
      "ponds_nearest            4\n",
      "days_exposition         11\n",
      "clear_rooms             14\n",
      "dtype: int64\n"
     ]
    }
   ],
   "source": [
    "#проверяем уникальные значения и заодно отслеживаем пропуски\n",
    "print(polluted_data['ceiling_height'].value_counts(dropna=False,ascending=False))\n",
    "print(polluted_data.loc[polluted_data['ceiling_height'] > 5].count())\n",
    "print(polluted_data.loc[polluted_data['ceiling_height'] < 2.1].count())"
   ]
  },
  {
   "cell_type": "markdown",
   "metadata": {},
   "source": [
    "Очевидны пропуски в значениях и невероятные значения. Максимальное значение высоты потолков, с учетом того, что мы рассматриваем объявления в СПб, я бы обозначил как 5 м. Минимальное, которое можно условно рассматривать как допустимое нормами - 2 м.\n",
    "Заменим невероятные значения, а затем заполним пропуски"
   ]
  },
  {
   "cell_type": "code",
   "execution_count": 113,
   "metadata": {},
   "outputs": [
    {
     "name": "stdout",
     "output_type": "stream",
     "text": [
      "Пропуски до: 9195\n",
      "Пропуски после: 0\n",
      "count    23699.000000\n",
      "mean         2.699532\n",
      "std          0.233568\n",
      "min          2.000000\n",
      "25%          2.600000\n",
      "50%          2.650000\n",
      "75%          2.700000\n",
      "max          5.000000\n",
      "Name: clear_ceiling_height, dtype: float64\n"
     ]
    }
   ],
   "source": [
    "#Напишем функцию для отслеживания нереальных значений\n",
    "\n",
    "def clear_height(height_values):\n",
    "    if height_values > 5: \n",
    "        clear_height = 5\n",
    "        return clear_height\n",
    "    if height_values < 2:\n",
    "        clear_height = 2\n",
    "        return clear_height\n",
    "    else:\n",
    "        return height_values\n",
    "\n",
    "polluted_data['clear_ceiling_height'] = polluted_data['ceiling_height'].apply(clear_height)\n",
    "\n",
    "#Заполним и проверим заполнение пропусков\n",
    "print('Пропуски до:',polluted_data['clear_ceiling_height'].isna().sum())\n",
    "polluted_data.loc[polluted_data['clear_ceiling_height'].isna(), 'clear_ceiling_height'] = polluted_data['clear_ceiling_height'].median()\n",
    "print('Пропуски после:',polluted_data['clear_ceiling_height'].isna().sum())\n",
    "\n",
    "#Проверим характерные значения \n",
    "print(polluted_data['clear_ceiling_height'].describe())"
   ]
  },
  {
   "cell_type": "markdown",
   "metadata": {},
   "source": [
    "#### Результат:\n",
    "Теперь в данном столбце везде есть значения и они вполне реальны\n",
    "\n",
    "\n",
    "#### floors_total - количество этажей в здании.\n",
    "Оценим, какие вообще значения у нас есть и сколько у нас пропусков"
   ]
  },
  {
   "cell_type": "code",
   "execution_count": 114,
   "metadata": {},
   "outputs": [
    {
     "name": "stdout",
     "output_type": "stream",
     "text": [
      "count    23613.000000\n",
      "mean        10.673824\n",
      "std          6.597173\n",
      "min          1.000000\n",
      "25%          5.000000\n",
      "50%          9.000000\n",
      "75%         16.000000\n",
      "max         60.000000\n",
      "Name: floors_total, dtype: float64\n",
      "Пропуски в столбце: 86\n"
     ]
    }
   ],
   "source": [
    "print(polluted_data['floors_total'].describe())\n",
    "print('Пропуски в столбце:',polluted_data['floors_total'].isna().sum())"
   ]
  },
  {
   "cell_type": "markdown",
   "metadata": {},
   "source": [
    "У нас 86 отсутсвующих значений, к счастью нет нулевых и отрицательных, но точно есть какие-то очень большие. По википедии - максимальная этажность для СПб \n",
    "https://ru.wikipedia.org/wiki/%D0%A1%D0%BF%D0%B8%D1%81%D0%BE%D0%BA_%D1%81%D0%B0%D0%BC%D1%8B%D1%85_%D0%B2%D1%8B%D1%81%D0%BE%D0%BA%D0%B8%D1%85_%D0%B7%D0%B4%D0%B0%D0%BD%D0%B8%D0%B9_%D0%A1%D0%B0%D0%BD%D0%BA%D1%82-%D0%9F%D0%B5%D1%82%D0%B5%D1%80%D0%B1%D1%83%D1%80%D0%B3%D0%B0\n",
    "составляет 35 этажей\n",
    "Всё остальное - выбросы. Давайте проверим граничное значение в 35 этажей, нет ли там ещё чего-то общего:"
   ]
  },
  {
   "cell_type": "code",
   "execution_count": 116,
   "metadata": {},
   "outputs": [
    {
     "data": {
      "text/html": [
       "<div>\n",
       "<style scoped>\n",
       "    .dataframe tbody tr th:only-of-type {\n",
       "        vertical-align: middle;\n",
       "    }\n",
       "\n",
       "    .dataframe tbody tr th {\n",
       "        vertical-align: top;\n",
       "    }\n",
       "\n",
       "    .dataframe thead th {\n",
       "        text-align: right;\n",
       "    }\n",
       "</style>\n",
       "<table border=\"1\" class=\"dataframe\">\n",
       "  <thead>\n",
       "    <tr style=\"text-align: right;\">\n",
       "      <th></th>\n",
       "      <th>floors_total</th>\n",
       "      <th>cityCenters_nearest</th>\n",
       "    </tr>\n",
       "  </thead>\n",
       "  <tbody>\n",
       "    <tr>\n",
       "      <td>871</td>\n",
       "      <td>35.0</td>\n",
       "      <td>20444.0</td>\n",
       "    </tr>\n",
       "    <tr>\n",
       "      <td>1060</td>\n",
       "      <td>35.0</td>\n",
       "      <td>20444.0</td>\n",
       "    </tr>\n",
       "    <tr>\n",
       "      <td>1917</td>\n",
       "      <td>35.0</td>\n",
       "      <td>20444.0</td>\n",
       "    </tr>\n",
       "    <tr>\n",
       "      <td>2966</td>\n",
       "      <td>35.0</td>\n",
       "      <td>20444.0</td>\n",
       "    </tr>\n",
       "    <tr>\n",
       "      <td>4855</td>\n",
       "      <td>35.0</td>\n",
       "      <td>20339.0</td>\n",
       "    </tr>\n",
       "    <tr>\n",
       "      <td>5749</td>\n",
       "      <td>35.0</td>\n",
       "      <td>20444.0</td>\n",
       "    </tr>\n",
       "    <tr>\n",
       "      <td>5808</td>\n",
       "      <td>35.0</td>\n",
       "      <td>20444.0</td>\n",
       "    </tr>\n",
       "    <tr>\n",
       "      <td>7236</td>\n",
       "      <td>35.0</td>\n",
       "      <td>20444.0</td>\n",
       "    </tr>\n",
       "    <tr>\n",
       "      <td>8496</td>\n",
       "      <td>35.0</td>\n",
       "      <td>20444.0</td>\n",
       "    </tr>\n",
       "    <tr>\n",
       "      <td>9186</td>\n",
       "      <td>35.0</td>\n",
       "      <td>20444.0</td>\n",
       "    </tr>\n",
       "    <tr>\n",
       "      <td>9370</td>\n",
       "      <td>35.0</td>\n",
       "      <td>20444.0</td>\n",
       "    </tr>\n",
       "    <tr>\n",
       "      <td>9579</td>\n",
       "      <td>35.0</td>\n",
       "      <td>20444.0</td>\n",
       "    </tr>\n",
       "    <tr>\n",
       "      <td>12888</td>\n",
       "      <td>35.0</td>\n",
       "      <td>20444.0</td>\n",
       "    </tr>\n",
       "    <tr>\n",
       "      <td>12960</td>\n",
       "      <td>35.0</td>\n",
       "      <td>20444.0</td>\n",
       "    </tr>\n",
       "    <tr>\n",
       "      <td>13975</td>\n",
       "      <td>35.0</td>\n",
       "      <td>20444.0</td>\n",
       "    </tr>\n",
       "    <tr>\n",
       "      <td>14347</td>\n",
       "      <td>35.0</td>\n",
       "      <td>20444.0</td>\n",
       "    </tr>\n",
       "    <tr>\n",
       "      <td>15982</td>\n",
       "      <td>35.0</td>\n",
       "      <td>20444.0</td>\n",
       "    </tr>\n",
       "    <tr>\n",
       "      <td>18218</td>\n",
       "      <td>35.0</td>\n",
       "      <td>20450.0</td>\n",
       "    </tr>\n",
       "    <tr>\n",
       "      <td>18617</td>\n",
       "      <td>35.0</td>\n",
       "      <td>20339.0</td>\n",
       "    </tr>\n",
       "    <tr>\n",
       "      <td>18629</td>\n",
       "      <td>35.0</td>\n",
       "      <td>20444.0</td>\n",
       "    </tr>\n",
       "    <tr>\n",
       "      <td>20938</td>\n",
       "      <td>35.0</td>\n",
       "      <td>20444.0</td>\n",
       "    </tr>\n",
       "    <tr>\n",
       "      <td>21599</td>\n",
       "      <td>35.0</td>\n",
       "      <td>20444.0</td>\n",
       "    </tr>\n",
       "    <tr>\n",
       "      <td>21809</td>\n",
       "      <td>35.0</td>\n",
       "      <td>20444.0</td>\n",
       "    </tr>\n",
       "    <tr>\n",
       "      <td>22946</td>\n",
       "      <td>35.0</td>\n",
       "      <td>20444.0</td>\n",
       "    </tr>\n",
       "  </tbody>\n",
       "</table>\n",
       "</div>"
      ],
      "text/plain": [
       "       floors_total  cityCenters_nearest\n",
       "871            35.0              20444.0\n",
       "1060           35.0              20444.0\n",
       "1917           35.0              20444.0\n",
       "2966           35.0              20444.0\n",
       "4855           35.0              20339.0\n",
       "5749           35.0              20444.0\n",
       "5808           35.0              20444.0\n",
       "7236           35.0              20444.0\n",
       "8496           35.0              20444.0\n",
       "9186           35.0              20444.0\n",
       "9370           35.0              20444.0\n",
       "9579           35.0              20444.0\n",
       "12888          35.0              20444.0\n",
       "12960          35.0              20444.0\n",
       "13975          35.0              20444.0\n",
       "14347          35.0              20444.0\n",
       "15982          35.0              20444.0\n",
       "18218          35.0              20450.0\n",
       "18617          35.0              20339.0\n",
       "18629          35.0              20444.0\n",
       "20938          35.0              20444.0\n",
       "21599          35.0              20444.0\n",
       "21809          35.0              20444.0\n",
       "22946          35.0              20444.0"
      ]
     },
     "execution_count": 116,
     "metadata": {},
     "output_type": "execute_result"
    }
   ],
   "source": [
    "polluted_data[['floors_total', 'cityCenters_nearest']].query('floors_total == 35')"
   ]
  },
  {
   "cell_type": "markdown",
   "metadata": {},
   "source": [
    "Похоже это одно и тоже здание и это высотка \"Александр Невский\".\n",
    "Заменим все более высокие и отсутствующие значения медианой. Затем сделаем этажи целым числом для удобства."
   ]
  },
  {
   "cell_type": "code",
   "execution_count": 117,
   "metadata": {},
   "outputs": [
    {
     "name": "stdout",
     "output_type": "stream",
     "text": [
      "Пропуски до: 86\n",
      "Пропуски после: 0\n",
      "count    23699.000000\n",
      "mean        10.659184\n",
      "std          6.564315\n",
      "min          1.000000\n",
      "25%          5.000000\n",
      "50%          9.000000\n",
      "75%         16.000000\n",
      "max         35.000000\n",
      "Name: clear_floors_total, dtype: float64\n"
     ]
    }
   ],
   "source": [
    "#Напишем функцию для отслеживания нереальных значений\n",
    "def clear_floors(floors_values):\n",
    "    if floors_values > 35: \n",
    "        clear_floor = polluted_data['floors_total'].median()\n",
    "        return clear_floor\n",
    "    else:\n",
    "        return floors_values\n",
    "\n",
    "#Исправим странные значения и сохраним результат в новый столбец\n",
    "polluted_data['clear_floors_total'] = polluted_data['floors_total'].apply(clear_floors)\n",
    "\n",
    "#Заполним и проверим заполнение пропусков\n",
    "print('Пропуски до:',polluted_data['clear_floors_total'].isna().sum())\n",
    "polluted_data.loc[polluted_data['clear_floors_total'].isna(), 'clear_floors_total'] = polluted_data['clear_floors_total'].median()\n",
    "print('Пропуски после:',polluted_data['clear_floors_total'].isna().sum())\n",
    "\n",
    "\n",
    "polluted_data['clear_floors_total']=polluted_data['clear_floors_total'].astype(int)\n",
    "\n",
    "#Проверим характерные значения \n",
    "print(polluted_data['clear_floors_total'].describe())"
   ]
  },
  {
   "cell_type": "markdown",
   "metadata": {},
   "source": [
    "#### Результат:\n",
    "\n",
    "Всё поправили и убрали невероятные значения\n",
    "\n",
    "#### kitchen_area - площадь кухни\n",
    "\"...Площадь квартир социального использования государственного и муниципального жилищных фондов \n",
    "согласно [4] должна быть не менее: общей жилой комнаты в однокомнатной квартире - 14 м, \n",
    "общей жилой комнаты в квартирах с числом комнат две и более - 16 м, спальни - 8 м (на двух человек - 10 м); кухни - 8 м; кухонной зоны в кухне-столовой - 6 м. В однокомнатных квартирах допускается проектировать кухни или кухни-ниши площадью не менее 5 м...\" СП 54.13330.2016\n",
    "Проверим, есть ли у нас нарушающие данное предписание. Поскольку студии у нас проходят как странные однокомнатные квартиры свободной планировки, то для них допустим минимальные размер кухни. "
   ]
  },
  {
   "cell_type": "code",
   "execution_count": 120,
   "metadata": {},
   "outputs": [
    {
     "name": "stdout",
     "output_type": "stream",
     "text": [
      "count    21421.000000\n",
      "mean        10.569807\n",
      "std          5.905438\n",
      "min          1.300000\n",
      "25%          7.000000\n",
      "50%          9.100000\n",
      "75%         12.000000\n",
      "max        112.000000\n",
      "Name: kitchen_area, dtype: float64\n",
      "Пропуски в столбце: 2278\n"
     ]
    },
    {
     "data": {
      "text/html": [
       "<div>\n",
       "<style scoped>\n",
       "    .dataframe tbody tr th:only-of-type {\n",
       "        vertical-align: middle;\n",
       "    }\n",
       "\n",
       "    .dataframe tbody tr th {\n",
       "        vertical-align: top;\n",
       "    }\n",
       "\n",
       "    .dataframe thead th {\n",
       "        text-align: right;\n",
       "    }\n",
       "</style>\n",
       "<table border=\"1\" class=\"dataframe\">\n",
       "  <thead>\n",
       "    <tr style=\"text-align: right;\">\n",
       "      <th></th>\n",
       "      <th>total_area</th>\n",
       "      <th>kitchen_area</th>\n",
       "    </tr>\n",
       "  </thead>\n",
       "  <tbody>\n",
       "    <tr>\n",
       "      <td>76</td>\n",
       "      <td>55.1</td>\n",
       "      <td>4.9</td>\n",
       "    </tr>\n",
       "    <tr>\n",
       "      <td>298</td>\n",
       "      <td>42.8</td>\n",
       "      <td>4.5</td>\n",
       "    </tr>\n",
       "    <tr>\n",
       "      <td>422</td>\n",
       "      <td>55.2</td>\n",
       "      <td>4.5</td>\n",
       "    </tr>\n",
       "    <tr>\n",
       "      <td>906</td>\n",
       "      <td>27.0</td>\n",
       "      <td>2.0</td>\n",
       "    </tr>\n",
       "    <tr>\n",
       "      <td>1327</td>\n",
       "      <td>46.2</td>\n",
       "      <td>4.9</td>\n",
       "    </tr>\n",
       "    <tr>\n",
       "      <td>...</td>\n",
       "      <td>...</td>\n",
       "      <td>...</td>\n",
       "    </tr>\n",
       "    <tr>\n",
       "      <td>22839</td>\n",
       "      <td>27.0</td>\n",
       "      <td>4.0</td>\n",
       "    </tr>\n",
       "    <tr>\n",
       "      <td>22849</td>\n",
       "      <td>25.0</td>\n",
       "      <td>4.0</td>\n",
       "    </tr>\n",
       "    <tr>\n",
       "      <td>23110</td>\n",
       "      <td>34.0</td>\n",
       "      <td>4.0</td>\n",
       "    </tr>\n",
       "    <tr>\n",
       "      <td>23498</td>\n",
       "      <td>54.0</td>\n",
       "      <td>3.5</td>\n",
       "    </tr>\n",
       "    <tr>\n",
       "      <td>23678</td>\n",
       "      <td>43.0</td>\n",
       "      <td>4.9</td>\n",
       "    </tr>\n",
       "  </tbody>\n",
       "</table>\n",
       "<p>105 rows × 2 columns</p>\n",
       "</div>"
      ],
      "text/plain": [
       "       total_area  kitchen_area\n",
       "76           55.1           4.9\n",
       "298          42.8           4.5\n",
       "422          55.2           4.5\n",
       "906          27.0           2.0\n",
       "1327         46.2           4.9\n",
       "...           ...           ...\n",
       "22839        27.0           4.0\n",
       "22849        25.0           4.0\n",
       "23110        34.0           4.0\n",
       "23498        54.0           3.5\n",
       "23678        43.0           4.9\n",
       "\n",
       "[105 rows x 2 columns]"
      ]
     },
     "execution_count": 120,
     "metadata": {},
     "output_type": "execute_result"
    }
   ],
   "source": [
    "print(polluted_data['kitchen_area'].describe())\n",
    "print('Пропуски в столбце:',polluted_data['kitchen_area'].isna().sum())\n",
    "polluted_data[['total_area', 'kitchen_area']].query('kitchen_area <5')"
   ]
  },
  {
   "cell_type": "markdown",
   "metadata": {},
   "source": [
    "У нас больше двух тысяч объявлений без площади кухни и 105 объявлений со странными данными для кухни. Исправим значения слишком маленьких кухонь, а затем по медиане заполним недостающие значения. Результат сохраним в новом столбце"
   ]
  },
  {
   "cell_type": "code",
   "execution_count": 124,
   "metadata": {},
   "outputs": [
    {
     "name": "stdout",
     "output_type": "stream",
     "text": [
      "Пропуски после проверки: 0\n",
      "count    23699.000000\n",
      "mean        10.425362\n",
      "std          5.630724\n",
      "min          5.000000\n",
      "25%          7.300000\n",
      "50%          9.100000\n",
      "75%         11.440000\n",
      "max        112.000000\n",
      "Name: clear_kitchen_area, dtype: float64\n"
     ]
    }
   ],
   "source": [
    "#Напишем функцию для заполнения пропусков\n",
    "    \n",
    "def clear_k_area(row):\n",
    "    if row['studio'] == False and row['kitchen_area'] != row['kitchen_area']:\n",
    "        clear_k_a = polluted_data['kitchen_area'].median()\n",
    "        return clear_k_a\n",
    "    if row['studio'] == True and row['kitchen_area'] != row['kitchen_area']:\n",
    "        clear_k_a = 5\n",
    "        return clear_k_a\n",
    "    if row['studio'] != row['studio'] and row['kitchen_area'] != row['kitchen_area']:\n",
    "        clear_k_a = polluted_data['kitchen_area'].median()\n",
    "        return clear_k_a\n",
    "    else:\n",
    "        clear_k_a = row['kitchen_area']\n",
    "        return clear_k_a\n",
    "\n",
    "polluted_data['clear_kitchen_area'] = polluted_data.apply(clear_k_area, axis = 1)\n",
    "print('Пропуски после проверки:',polluted_data['clear_kitchen_area'].isna().sum())\n",
    "\n",
    "#Уберем маленькие значения\n",
    "polluted_data.loc[polluted_data['clear_kitchen_area'] < 5, 'clear_kitchen_area'] = polluted_data['kitchen_area'].median()\n",
    "\n",
    "#Проверим характерные значения \n",
    "print(polluted_data['clear_kitchen_area'].describe())"
   ]
  },
  {
   "cell_type": "markdown",
   "metadata": {},
   "source": [
    "#### Результат:\n",
    "Убрали маленькие значения и заполнили пропуски\n",
    "\n",
    "#### living_area - жилая площадь в квартире\n",
    "Проверим наличие пропусков и характерные значения"
   ]
  },
  {
   "cell_type": "code",
   "execution_count": 125,
   "metadata": {},
   "outputs": [
    {
     "name": "stdout",
     "output_type": "stream",
     "text": [
      "count    21796.000000\n",
      "mean        34.457852\n",
      "std         22.030445\n",
      "min          2.000000\n",
      "25%         18.600000\n",
      "50%         30.000000\n",
      "75%         42.300000\n",
      "max        409.700000\n",
      "Name: living_area, dtype: float64\n",
      "Пропуски в столбце до правки: 1903\n"
     ]
    }
   ],
   "source": [
    "#проверяем характерные значения и отслеживаем пропуски\n",
    "print(polluted_data['living_area'].describe())\n",
    "print('Пропуски в столбце до правки:',polluted_data['living_area'].isna().sum())"
   ]
  },
  {
   "cell_type": "markdown",
   "metadata": {},
   "source": [
    "Есть 1903 пропуска, так же жилая площадь по нормам не может быть меньше 14 м2\n",
    "Минимальные жилые площади мы обработаем позже. Пока заполним недостающие значения разностью между площадью квартиры и площадью кухни."
   ]
  },
  {
   "cell_type": "code",
   "execution_count": 126,
   "metadata": {},
   "outputs": [
    {
     "name": "stdout",
     "output_type": "stream",
     "text": [
      "Пропуски после правки: 0\n",
      "count    23699.000000\n",
      "mean        35.972236\n",
      "std         25.028915\n",
      "min          2.000000\n",
      "25%         19.000000\n",
      "50%         30.800000\n",
      "75%         43.300000\n",
      "max        571.000000\n",
      "Name: clear_living_area, dtype: float64\n"
     ]
    }
   ],
   "source": [
    "#Напишем функцию для заполнения пропусков\n",
    "\n",
    "def clear_l_area(row):\n",
    "    if row['living_area'] != row['living_area']:\n",
    "        clear_l_a = row['total_area'] - row['clear_kitchen_area']\n",
    "        return clear_l_a\n",
    "    else:\n",
    "        clear_l_a = row['living_area']\n",
    "        return clear_l_a\n",
    "\n",
    "polluted_data['clear_living_area'] = polluted_data.apply(clear_l_area, axis = 1)\n",
    "\n",
    "#проверим заполнение пропусков\n",
    "print('Пропуски после правки:',polluted_data['clear_living_area'].isna().sum())\n",
    "\n",
    "\n",
    "#Проверим характерные значения \n",
    "print(polluted_data['clear_living_area'].describe())\n"
   ]
  },
  {
   "cell_type": "markdown",
   "metadata": {},
   "source": [
    "#### Результат:\n",
    "\n",
    "Пропуски убрали. Невероятные значения в 2 метра квадратных площади являются на мой взгляд ошибочными объявлениями и мы их позднее удалим\n",
    "\n",
    "\n",
    "#### floor - этаж на котором находится квартира\n",
    "Проверим величины и пропуски"
   ]
  },
  {
   "cell_type": "code",
   "execution_count": 14,
   "metadata": {},
   "outputs": [
    {
     "name": "stdout",
     "output_type": "stream",
     "text": [
      "2     3368\n",
      "3     3073\n",
      "1     2917\n",
      "4     2804\n",
      "5     2621\n",
      "6     1305\n",
      "7     1218\n",
      "8     1083\n",
      "9     1051\n",
      "10     687\n",
      "12     526\n",
      "11     523\n",
      "13     379\n",
      "15     343\n",
      "14     337\n",
      "16     315\n",
      "17     227\n",
      "18     178\n",
      "19     147\n",
      "21     125\n",
      "22     113\n",
      "20     110\n",
      "23     100\n",
      "24      63\n",
      "25      46\n",
      "26      24\n",
      "27      10\n",
      "28       1\n",
      "33       1\n",
      "29       1\n",
      "30       1\n",
      "32       1\n",
      "31       1\n",
      "Name: floor, dtype: int64\n"
     ]
    }
   ],
   "source": [
    "#проверяем уникальные значения и заодно отслеживаем пропуски\n",
    "print(polluted_data['floor'].value_counts(dropna=False,ascending=False))"
   ]
  },
  {
   "cell_type": "markdown",
   "metadata": {},
   "source": [
    "#### Результат:\n",
    "Пропусков и странных значений нет.\n",
    "\n",
    "#### is_apartment - является ли квартира апартаментами"
   ]
  },
  {
   "cell_type": "code",
   "execution_count": 127,
   "metadata": {
    "scrolled": true
   },
   "outputs": [
    {
     "name": "stdout",
     "output_type": "stream",
     "text": [
      "NaN      20924\n",
      "False     2725\n",
      "True        50\n",
      "Name: is_apartment, dtype: int64\n"
     ]
    }
   ],
   "source": [
    "#проверяем уникальные значения и заодно отслеживаем пропуски\n",
    "print(polluted_data['is_apartment'].value_counts(dropna=False,ascending=False))\n"
   ]
  },
  {
   "cell_type": "markdown",
   "metadata": {},
   "source": [
    "#### Результат:\n",
    "По большинству объявлений непонятно, что это. Поскольку нет оснований предположить то или иное значение, я оставлю здесь пропуски\n",
    "\n",
    "#### studio - является ли квартира студией"
   ]
  },
  {
   "cell_type": "code",
   "execution_count": 128,
   "metadata": {
    "scrolled": false
   },
   "outputs": [
    {
     "name": "stdout",
     "output_type": "stream",
     "text": [
      "False    23550\n",
      "True       149\n",
      "Name: studio, dtype: int64\n"
     ]
    }
   ],
   "source": [
    "#проверяем уникальные значения и заодно отслеживаем пропуски\n",
    "print(polluted_data['studio'].value_counts(dropna=False,ascending=False))"
   ]
  },
  {
   "cell_type": "markdown",
   "metadata": {},
   "source": [
    "#### Результат:\n",
    "По большинству объявлений непонятно, что это. Поскольку нет оснований предположить то или иное значение, я оставлю здесь пропуски\n",
    "\n",
    "#### open_plan - является ли квартира квартирой со свободной планировкой"
   ]
  },
  {
   "cell_type": "code",
   "execution_count": 129,
   "metadata": {},
   "outputs": [
    {
     "name": "stdout",
     "output_type": "stream",
     "text": [
      "False    23632\n",
      "True        67\n",
      "Name: open_plan, dtype: int64\n"
     ]
    }
   ],
   "source": [
    "#проверяем уникальные значения и заодно отслеживаем пропуски\n",
    "print(polluted_data['open_plan'].value_counts(dropna=False,ascending=False))"
   ]
  },
  {
   "cell_type": "markdown",
   "metadata": {},
   "source": [
    "#### Результат:\n",
    "Пропусков нет. Поскольку понятие \"свободная планировка\" в целом маркетинговый ход, пропорции значений вызывают доверие\n",
    "\n",
    "#### balcony - количество балконов в объявлении"
   ]
  },
  {
   "cell_type": "code",
   "execution_count": 130,
   "metadata": {},
   "outputs": [
    {
     "name": "stdout",
     "output_type": "stream",
     "text": [
      "NaN    11519\n",
      "1.0     4195\n",
      "0.0     3758\n",
      "2.0     3659\n",
      "5.0      304\n",
      "4.0      183\n",
      "3.0       81\n",
      "Name: balcony, dtype: int64\n"
     ]
    }
   ],
   "source": [
    "#проверяем уникальные значения и заодно отслеживаем пропуски\n",
    "print(polluted_data['balcony'].value_counts(dropna=False,ascending=False))"
   ]
  },
  {
   "cell_type": "code",
   "execution_count": null,
   "metadata": {},
   "outputs": [],
   "source": [
    "Очень много пропусков. Я считаю, что логично заполнить эти пропуски как отсутсвие балконов"
   ]
  },
  {
   "cell_type": "code",
   "execution_count": 132,
   "metadata": {
    "scrolled": true
   },
   "outputs": [
    {
     "name": "stdout",
     "output_type": "stream",
     "text": [
      "Пропуски после заполнения: 0\n"
     ]
    },
    {
     "data": {
      "text/plain": [
       "0.0    15277\n",
       "1.0     4195\n",
       "2.0     3659\n",
       "5.0      304\n",
       "4.0      183\n",
       "3.0       81\n",
       "Name: balcony, dtype: int64"
      ]
     },
     "execution_count": 132,
     "metadata": {},
     "output_type": "execute_result"
    }
   ],
   "source": [
    "#заполним пропущенные значения\n",
    "polluted_data.loc[polluted_data['balcony'].isna(), 'balcony'] = 0\n",
    "print('Пропуски после заполнения:',polluted_data['balcony'].isna().sum())\n",
    "\n",
    "polluted_data['balcony'].value_counts(dropna=False,ascending=False)"
   ]
  },
  {
   "cell_type": "markdown",
   "metadata": {},
   "source": [
    "#### Результат:\n",
    "Пропусков не осталось. По количеству балконов в целом у меня вопросов нет - я видел в СПб здание где под каждым окном был минибалкончик.\n",
    "\n",
    "\n",
    "#### locality_name - название населенного пункта\n",
    "Проверим наличие пропусков:"
   ]
  },
  {
   "cell_type": "code",
   "execution_count": 135,
   "metadata": {},
   "outputs": [
    {
     "name": "stdout",
     "output_type": "stream",
     "text": [
      "Санкт-Петербург               15721\n",
      "посёлок Мурино                  522\n",
      "посёлок Шушары                  440\n",
      "Всеволожск                      398\n",
      "Пушкин                          369\n",
      "                              ...  \n",
      "деревня Куровицы                  1\n",
      "посёлок Плоское                   1\n",
      "поселок станции Корнево           1\n",
      "деревня Большая Пустомержа        1\n",
      "поселок Жилпосёлок                1\n",
      "Name: locality_name, Length: 365, dtype: int64\n",
      "Пропуски до проверки: 49\n"
     ]
    }
   ],
   "source": [
    "#проверяем уникальные значения и заодно отслеживаем пропуски\n",
    "print(polluted_data['locality_name'].value_counts(dropna=False,ascending=False))\n",
    "print('Пропуски до проверки:',polluted_data['locality_name'].isna().sum())"
   ]
  },
  {
   "cell_type": "markdown",
   "metadata": {},
   "source": [
    "Думаю, что пропуски заполню значением - Санкт-Петербург, так как подавляющее большинство объявлений оттуда и вполне возможно податель объявления считал нахождение квартиры в СПб само-сабой разумеющимся."
   ]
  },
  {
   "cell_type": "code",
   "execution_count": 137,
   "metadata": {
    "scrolled": true
   },
   "outputs": [
    {
     "name": "stdout",
     "output_type": "stream",
     "text": [
      "Пропуски после: 0\n",
      "Санкт-Петербург            15770\n",
      "посёлок Мурино               522\n",
      "посёлок Шушары               440\n",
      "Всеволожск                   398\n",
      "Пушкин                       369\n",
      "                           ...  \n",
      "деревня Чудской Бор            1\n",
      "деревня Куровицы               1\n",
      "посёлок Плоское                1\n",
      "поселок станции Корнево        1\n",
      "деревня Рапполово              1\n",
      "Name: locality_name, Length: 364, dtype: int64\n"
     ]
    }
   ],
   "source": [
    "polluted_data.loc[polluted_data['locality_name'].isna(), 'locality_name'] = \"Санкт-Петербург\"\n",
    "print('Пропуски после:',polluted_data['locality_name'].isna().sum())\n",
    "print(polluted_data['locality_name'].value_counts(dropna=False,ascending=False))"
   ]
  },
  {
   "cell_type": "markdown",
   "metadata": {},
   "source": [
    "#### Результат:\n",
    "Заполнил пропуски. Увидел, что большая часть объявлений из СПб\n",
    "\n",
    "\n",
    "#### airports_nearest - расстояние до аэропорта"
   ]
  },
  {
   "cell_type": "code",
   "execution_count": 138,
   "metadata": {
    "scrolled": true
   },
   "outputs": [
    {
     "name": "stdout",
     "output_type": "stream",
     "text": [
      "NaN        5542\n",
      "37434.0      61\n",
      "21928.0      32\n",
      "39946.0      30\n",
      "44870.0      30\n",
      "           ... \n",
      "25122.0       1\n",
      "26768.0       1\n",
      "22248.0       1\n",
      "20475.0       1\n",
      "14579.0       1\n",
      "Name: airports_nearest, Length: 8276, dtype: int64\n",
      "Пропуски до проверки: 5542\n"
     ]
    }
   ],
   "source": [
    "#проверяем уникальные значения и отслеживаем пропуски\n",
    "print(polluted_data['airports_nearest'].value_counts(dropna=False,ascending=False))\n",
    "\n",
    "print('Пропуски до проверки:',polluted_data['airports_nearest'].isna().sum())"
   ]
  },
  {
   "cell_type": "markdown",
   "metadata": {},
   "source": [
    "#### Результат:\n",
    "Очень много пропусков но я не могу логично понять как их заполнять, оставлю их без изменений\n",
    "\n",
    "#### cityCenters_nearest - расстояние до центра города"
   ]
  },
  {
   "cell_type": "code",
   "execution_count": 139,
   "metadata": {},
   "outputs": [
    {
     "name": "stdout",
     "output_type": "stream",
     "text": [
      "Пропуски до проверки: 5519\n"
     ]
    },
    {
     "data": {
      "text/plain": [
       "count    18180.000000\n",
       "mean     14191.277833\n",
       "std       8608.386210\n",
       "min        181.000000\n",
       "25%       9238.000000\n",
       "50%      13098.500000\n",
       "75%      16293.000000\n",
       "max      65968.000000\n",
       "Name: cityCenters_nearest, dtype: float64"
      ]
     },
     "execution_count": 139,
     "metadata": {},
     "output_type": "execute_result"
    }
   ],
   "source": [
    "#проверяем пропуски и характерные значения \n",
    "\n",
    "print('Пропуски до проверки:',polluted_data['cityCenters_nearest'].isna().sum())\n",
    "polluted_data['cityCenters_nearest'].describe()"
   ]
  },
  {
   "cell_type": "markdown",
   "metadata": {},
   "source": [
    "Поскольку нам в дальнейшем нужно будет работать с расстоянием до центра, я хочу заполнить недостающие данные и сохранить полученные значения в отдельном столбце"
   ]
  },
  {
   "cell_type": "code",
   "execution_count": 140,
   "metadata": {},
   "outputs": [
    {
     "name": "stdout",
     "output_type": "stream",
     "text": [
      "Пропуски после заполнения: 0\n"
     ]
    },
    {
     "data": {
      "text/plain": [
       "count    23699.000000\n",
       "mean     13936.676358\n",
       "std       7553.792559\n",
       "min        181.000000\n",
       "25%      10927.000000\n",
       "50%      13098.000000\n",
       "75%      15248.500000\n",
       "max      65968.000000\n",
       "Name: clear_cityCenters_nearest, dtype: float64"
      ]
     },
     "execution_count": 140,
     "metadata": {},
     "output_type": "execute_result"
    }
   ],
   "source": [
    "# проведем замену пропущенных значений, исходя из медианы.\n",
    "\n",
    "polluted_data['clear_cityCenters_nearest'] = polluted_data['cityCenters_nearest'].fillna(polluted_data['cityCenters_nearest'].median())\n",
    "\n",
    "# проверим, что получилось\n",
    "print('Пропуски после заполнения:',polluted_data['clear_cityCenters_nearest'].isna().sum())\n",
    "\n",
    "polluted_data['clear_cityCenters_nearest'] = polluted_data['clear_cityCenters_nearest'].astype('int')\n",
    "polluted_data['clear_cityCenters_nearest'].describe()"
   ]
  },
  {
   "cell_type": "markdown",
   "metadata": {},
   "source": [
    "#### Результат:\n",
    "\n",
    "Заполнил все пропуски, проследил, что нет нулевых или отрицательных значений\n",
    "\n",
    "#### parks_around3000 - число парков в 3-х километрах"
   ]
  },
  {
   "cell_type": "code",
   "execution_count": 141,
   "metadata": {
    "scrolled": true
   },
   "outputs": [
    {
     "name": "stdout",
     "output_type": "stream",
     "text": [
      "0.0    10106\n",
      "1.0     5681\n",
      "NaN     5518\n",
      "2.0     1747\n",
      "3.0      647\n",
      "Name: parks_around3000, dtype: int64\n"
     ]
    }
   ],
   "source": [
    "#проверяем уникальные значения и заодно отслеживаем пропуски\n",
    "print(polluted_data['parks_around3000'].value_counts(dropna=False))"
   ]
  },
  {
   "cell_type": "markdown",
   "metadata": {},
   "source": [
    "#### Результат:\n",
    "Очень много пропусков но я не могу логично понять как их заполнять, оставлю их без изменений\n",
    "\n",
    "#### parks_nearest - расстояние до ближайшего парка"
   ]
  },
  {
   "cell_type": "code",
   "execution_count": 142,
   "metadata": {},
   "outputs": [
    {
     "name": "stdout",
     "output_type": "stream",
     "text": [
      "NaN       15620\n",
      "441.0        67\n",
      "392.0        41\n",
      "173.0        41\n",
      "456.0        40\n",
      "          ...  \n",
      "1809.0        1\n",
      "2209.0        1\n",
      "81.0          1\n",
      "861.0         1\n",
      "775.0         1\n",
      "Name: parks_nearest, Length: 996, dtype: int64\n"
     ]
    }
   ],
   "source": [
    "#проверяем уникальные значения и заодно отслеживаем пропуски\n",
    "print(polluted_data['parks_nearest'].value_counts(dropna=False))"
   ]
  },
  {
   "cell_type": "markdown",
   "metadata": {},
   "source": [
    "#### Результат:\n",
    "Очень много пропусков но я не могу логично понять как их заполнять, оставлю их без изменений\n",
    "\n",
    "#### ponds_around3000 - число водоёмов в 3-х километрах"
   ]
  },
  {
   "cell_type": "code",
   "execution_count": 156,
   "metadata": {},
   "outputs": [
    {
     "name": "stdout",
     "output_type": "stream",
     "text": [
      "0.0    9071\n",
      "1.0    5717\n",
      "NaN    5518\n",
      "2.0    1892\n",
      "3.0    1501\n",
      "Name: ponds_around3000, dtype: int64\n"
     ]
    }
   ],
   "source": [
    "#проверяем уникальные значения и заодно отслеживаем пропуски\n",
    "print(polluted_data['ponds_around3000'].value_counts(dropna=False))\n"
   ]
  },
  {
   "cell_type": "markdown",
   "metadata": {},
   "source": [
    "#### Результат:\n",
    "Очень много пропусков но я не могу логично понять как их заполнять, оставлю их без изменений\n",
    "\n",
    "#### ponds_nearest - расстояние до ближайшего водоёма"
   ]
  },
  {
   "cell_type": "code",
   "execution_count": 157,
   "metadata": {},
   "outputs": [
    {
     "name": "stdout",
     "output_type": "stream",
     "text": [
      "NaN       14589\n",
      "427.0        70\n",
      "454.0        41\n",
      "153.0        40\n",
      "433.0        39\n",
      "          ...  \n",
      "600.0         1\n",
      "258.0         1\n",
      "37.0          1\n",
      "1041.0        1\n",
      "867.0         1\n",
      "Name: ponds_nearest, Length: 1097, dtype: int64\n"
     ]
    }
   ],
   "source": [
    "#проверяем уникальные значения и заодно отслеживаем пропуски\n",
    "print(polluted_data['ponds_nearest'].value_counts(dropna=False))\n"
   ]
  },
  {
   "cell_type": "markdown",
   "metadata": {},
   "source": [
    "#### Результат:\n",
    "Очень много пропусков но я не могу логично понять как их заполнять, оставлю их без изменений\n",
    "\n",
    "\n",
    "\n",
    "#### days_exposition - сколько дней было размещено объявление"
   ]
  },
  {
   "cell_type": "code",
   "execution_count": 158,
   "metadata": {
    "scrolled": false
   },
   "outputs": [
    {
     "name": "stdout",
     "output_type": "stream",
     "text": [
      "NaN       3181\n",
      "45.0       880\n",
      "60.0       538\n",
      "7.0        234\n",
      "30.0       208\n",
      "          ... \n",
      "1355.0       1\n",
      "873.0        1\n",
      "730.0        1\n",
      "976.0        1\n",
      "773.0        1\n",
      "Name: days_exposition, Length: 1142, dtype: int64\n"
     ]
    },
    {
     "data": {
      "text/plain": [
       "count    20518.000000\n",
       "mean       180.888634\n",
       "std        219.727988\n",
       "min          1.000000\n",
       "25%         45.000000\n",
       "50%         95.000000\n",
       "75%        232.000000\n",
       "max       1580.000000\n",
       "Name: days_exposition, dtype: float64"
      ]
     },
     "execution_count": 158,
     "metadata": {},
     "output_type": "execute_result"
    }
   ],
   "source": [
    "#проверяем уникальные значения и заодно отслеживаем пропуски\n",
    "print(polluted_data['days_exposition'].value_counts(dropna=False))\n",
    "polluted_data['days_exposition'].describe()"
   ]
  },
  {
   "cell_type": "markdown",
   "metadata": {},
   "source": [
    "#### Результат:\n",
    "Много пропусков и большой разброс значений но я не могу логично понять как их заполнять, оставлю их без изменений\n",
    "\n",
    "#### Посмотрим всю таблицу целиком после обработки:"
   ]
  },
  {
   "cell_type": "code",
   "execution_count": 159,
   "metadata": {
    "scrolled": true
   },
   "outputs": [
    {
     "data": {
      "text/html": [
       "<div>\n",
       "<style scoped>\n",
       "    .dataframe tbody tr th:only-of-type {\n",
       "        vertical-align: middle;\n",
       "    }\n",
       "\n",
       "    .dataframe tbody tr th {\n",
       "        vertical-align: top;\n",
       "    }\n",
       "\n",
       "    .dataframe thead th {\n",
       "        text-align: right;\n",
       "    }\n",
       "</style>\n",
       "<table border=\"1\" class=\"dataframe\">\n",
       "  <thead>\n",
       "    <tr style=\"text-align: right;\">\n",
       "      <th></th>\n",
       "      <th>total_images</th>\n",
       "      <th>last_price</th>\n",
       "      <th>total_area</th>\n",
       "      <th>rooms</th>\n",
       "      <th>ceiling_height</th>\n",
       "      <th>floors_total</th>\n",
       "      <th>living_area</th>\n",
       "      <th>floor</th>\n",
       "      <th>kitchen_area</th>\n",
       "      <th>balcony</th>\n",
       "      <th>...</th>\n",
       "      <th>clear_ceiling_height</th>\n",
       "      <th>clear_floors_total</th>\n",
       "      <th>clear_kitchen_area</th>\n",
       "      <th>clear_living_area</th>\n",
       "      <th>clear_cityCenters_nearest</th>\n",
       "      <th>cost_per_square_meter</th>\n",
       "      <th>month_exposition</th>\n",
       "      <th>year_exposition</th>\n",
       "      <th>useful_area_coefficient</th>\n",
       "      <th>kitchen_area_coefficient</th>\n",
       "    </tr>\n",
       "  </thead>\n",
       "  <tbody>\n",
       "    <tr>\n",
       "      <td>count</td>\n",
       "      <td>23699.000000</td>\n",
       "      <td>2.369900e+04</td>\n",
       "      <td>23699.000000</td>\n",
       "      <td>23699.000000</td>\n",
       "      <td>14504.000000</td>\n",
       "      <td>23613.000000</td>\n",
       "      <td>21796.000000</td>\n",
       "      <td>23699.000000</td>\n",
       "      <td>21421.000000</td>\n",
       "      <td>23699.000000</td>\n",
       "      <td>...</td>\n",
       "      <td>23699.000000</td>\n",
       "      <td>23699.000000</td>\n",
       "      <td>23699.000000</td>\n",
       "      <td>23699.000000</td>\n",
       "      <td>23699.000000</td>\n",
       "      <td>2.369900e+04</td>\n",
       "      <td>23699.000000</td>\n",
       "      <td>23699.000000</td>\n",
       "      <td>23699.000000</td>\n",
       "      <td>23699.000000</td>\n",
       "    </tr>\n",
       "    <tr>\n",
       "      <td>mean</td>\n",
       "      <td>9.858475</td>\n",
       "      <td>6.541549e+06</td>\n",
       "      <td>60.348651</td>\n",
       "      <td>2.070636</td>\n",
       "      <td>2.771499</td>\n",
       "      <td>10.673824</td>\n",
       "      <td>34.457852</td>\n",
       "      <td>5.892358</td>\n",
       "      <td>10.569807</td>\n",
       "      <td>0.591080</td>\n",
       "      <td>...</td>\n",
       "      <td>2.699532</td>\n",
       "      <td>10.659184</td>\n",
       "      <td>10.425362</td>\n",
       "      <td>35.972236</td>\n",
       "      <td>13936.676358</td>\n",
       "      <td>9.942121e+04</td>\n",
       "      <td>6.400101</td>\n",
       "      <td>2017.367146</td>\n",
       "      <td>0.584433</td>\n",
       "      <td>0.189147</td>\n",
       "    </tr>\n",
       "    <tr>\n",
       "      <td>std</td>\n",
       "      <td>5.682529</td>\n",
       "      <td>1.088701e+07</td>\n",
       "      <td>35.654083</td>\n",
       "      <td>1.078405</td>\n",
       "      <td>1.261056</td>\n",
       "      <td>6.597173</td>\n",
       "      <td>22.030445</td>\n",
       "      <td>4.885249</td>\n",
       "      <td>5.905438</td>\n",
       "      <td>0.959298</td>\n",
       "      <td>...</td>\n",
       "      <td>0.233568</td>\n",
       "      <td>6.564315</td>\n",
       "      <td>5.630724</td>\n",
       "      <td>25.028915</td>\n",
       "      <td>7553.792559</td>\n",
       "      <td>5.030681e+04</td>\n",
       "      <td>3.491561</td>\n",
       "      <td>1.039771</td>\n",
       "      <td>0.123224</td>\n",
       "      <td>0.075024</td>\n",
       "    </tr>\n",
       "    <tr>\n",
       "      <td>min</td>\n",
       "      <td>0.000000</td>\n",
       "      <td>1.219000e+04</td>\n",
       "      <td>12.000000</td>\n",
       "      <td>0.000000</td>\n",
       "      <td>1.000000</td>\n",
       "      <td>1.000000</td>\n",
       "      <td>2.000000</td>\n",
       "      <td>1.000000</td>\n",
       "      <td>1.300000</td>\n",
       "      <td>0.000000</td>\n",
       "      <td>...</td>\n",
       "      <td>2.000000</td>\n",
       "      <td>1.000000</td>\n",
       "      <td>5.000000</td>\n",
       "      <td>2.000000</td>\n",
       "      <td>181.000000</td>\n",
       "      <td>1.110000e+02</td>\n",
       "      <td>1.000000</td>\n",
       "      <td>2014.000000</td>\n",
       "      <td>0.020000</td>\n",
       "      <td>0.020000</td>\n",
       "    </tr>\n",
       "    <tr>\n",
       "      <td>25%</td>\n",
       "      <td>6.000000</td>\n",
       "      <td>3.400000e+06</td>\n",
       "      <td>40.000000</td>\n",
       "      <td>1.000000</td>\n",
       "      <td>2.520000</td>\n",
       "      <td>5.000000</td>\n",
       "      <td>18.600000</td>\n",
       "      <td>2.000000</td>\n",
       "      <td>7.000000</td>\n",
       "      <td>0.000000</td>\n",
       "      <td>...</td>\n",
       "      <td>2.600000</td>\n",
       "      <td>5.000000</td>\n",
       "      <td>7.300000</td>\n",
       "      <td>19.000000</td>\n",
       "      <td>10927.000000</td>\n",
       "      <td>7.658500e+04</td>\n",
       "      <td>3.000000</td>\n",
       "      <td>2017.000000</td>\n",
       "      <td>0.500000</td>\n",
       "      <td>0.130000</td>\n",
       "    </tr>\n",
       "    <tr>\n",
       "      <td>50%</td>\n",
       "      <td>9.000000</td>\n",
       "      <td>4.650000e+06</td>\n",
       "      <td>52.000000</td>\n",
       "      <td>2.000000</td>\n",
       "      <td>2.650000</td>\n",
       "      <td>9.000000</td>\n",
       "      <td>30.000000</td>\n",
       "      <td>4.000000</td>\n",
       "      <td>9.100000</td>\n",
       "      <td>0.000000</td>\n",
       "      <td>...</td>\n",
       "      <td>2.650000</td>\n",
       "      <td>9.000000</td>\n",
       "      <td>9.100000</td>\n",
       "      <td>30.800000</td>\n",
       "      <td>13098.000000</td>\n",
       "      <td>9.500000e+04</td>\n",
       "      <td>6.000000</td>\n",
       "      <td>2017.000000</td>\n",
       "      <td>0.580000</td>\n",
       "      <td>0.170000</td>\n",
       "    </tr>\n",
       "    <tr>\n",
       "      <td>75%</td>\n",
       "      <td>14.000000</td>\n",
       "      <td>6.800000e+06</td>\n",
       "      <td>69.900000</td>\n",
       "      <td>3.000000</td>\n",
       "      <td>2.800000</td>\n",
       "      <td>16.000000</td>\n",
       "      <td>42.300000</td>\n",
       "      <td>8.000000</td>\n",
       "      <td>12.000000</td>\n",
       "      <td>1.000000</td>\n",
       "      <td>...</td>\n",
       "      <td>2.700000</td>\n",
       "      <td>16.000000</td>\n",
       "      <td>11.440000</td>\n",
       "      <td>43.300000</td>\n",
       "      <td>15248.500000</td>\n",
       "      <td>1.142560e+05</td>\n",
       "      <td>10.000000</td>\n",
       "      <td>2018.000000</td>\n",
       "      <td>0.660000</td>\n",
       "      <td>0.230000</td>\n",
       "    </tr>\n",
       "    <tr>\n",
       "      <td>max</td>\n",
       "      <td>50.000000</td>\n",
       "      <td>7.630000e+08</td>\n",
       "      <td>900.000000</td>\n",
       "      <td>19.000000</td>\n",
       "      <td>100.000000</td>\n",
       "      <td>60.000000</td>\n",
       "      <td>409.700000</td>\n",
       "      <td>33.000000</td>\n",
       "      <td>112.000000</td>\n",
       "      <td>5.000000</td>\n",
       "      <td>...</td>\n",
       "      <td>5.000000</td>\n",
       "      <td>35.000000</td>\n",
       "      <td>112.000000</td>\n",
       "      <td>571.000000</td>\n",
       "      <td>65968.000000</td>\n",
       "      <td>1.907500e+06</td>\n",
       "      <td>12.000000</td>\n",
       "      <td>2019.000000</td>\n",
       "      <td>1.000000</td>\n",
       "      <td>0.790000</td>\n",
       "    </tr>\n",
       "  </tbody>\n",
       "</table>\n",
       "<p>8 rows × 28 columns</p>\n",
       "</div>"
      ],
      "text/plain": [
       "       total_images    last_price    total_area         rooms  ceiling_height  \\\n",
       "count  23699.000000  2.369900e+04  23699.000000  23699.000000    14504.000000   \n",
       "mean       9.858475  6.541549e+06     60.348651      2.070636        2.771499   \n",
       "std        5.682529  1.088701e+07     35.654083      1.078405        1.261056   \n",
       "min        0.000000  1.219000e+04     12.000000      0.000000        1.000000   \n",
       "25%        6.000000  3.400000e+06     40.000000      1.000000        2.520000   \n",
       "50%        9.000000  4.650000e+06     52.000000      2.000000        2.650000   \n",
       "75%       14.000000  6.800000e+06     69.900000      3.000000        2.800000   \n",
       "max       50.000000  7.630000e+08    900.000000     19.000000      100.000000   \n",
       "\n",
       "       floors_total   living_area         floor  kitchen_area       balcony  \\\n",
       "count  23613.000000  21796.000000  23699.000000  21421.000000  23699.000000   \n",
       "mean      10.673824     34.457852      5.892358     10.569807      0.591080   \n",
       "std        6.597173     22.030445      4.885249      5.905438      0.959298   \n",
       "min        1.000000      2.000000      1.000000      1.300000      0.000000   \n",
       "25%        5.000000     18.600000      2.000000      7.000000      0.000000   \n",
       "50%        9.000000     30.000000      4.000000      9.100000      0.000000   \n",
       "75%       16.000000     42.300000      8.000000     12.000000      1.000000   \n",
       "max       60.000000    409.700000     33.000000    112.000000      5.000000   \n",
       "\n",
       "       ...  clear_ceiling_height  clear_floors_total  clear_kitchen_area  \\\n",
       "count  ...          23699.000000        23699.000000        23699.000000   \n",
       "mean   ...              2.699532           10.659184           10.425362   \n",
       "std    ...              0.233568            6.564315            5.630724   \n",
       "min    ...              2.000000            1.000000            5.000000   \n",
       "25%    ...              2.600000            5.000000            7.300000   \n",
       "50%    ...              2.650000            9.000000            9.100000   \n",
       "75%    ...              2.700000           16.000000           11.440000   \n",
       "max    ...              5.000000           35.000000          112.000000   \n",
       "\n",
       "       clear_living_area  clear_cityCenters_nearest  cost_per_square_meter  \\\n",
       "count       23699.000000               23699.000000           2.369900e+04   \n",
       "mean           35.972236               13936.676358           9.942121e+04   \n",
       "std            25.028915                7553.792559           5.030681e+04   \n",
       "min             2.000000                 181.000000           1.110000e+02   \n",
       "25%            19.000000               10927.000000           7.658500e+04   \n",
       "50%            30.800000               13098.000000           9.500000e+04   \n",
       "75%            43.300000               15248.500000           1.142560e+05   \n",
       "max           571.000000               65968.000000           1.907500e+06   \n",
       "\n",
       "       month_exposition  year_exposition  useful_area_coefficient  \\\n",
       "count      23699.000000     23699.000000             23699.000000   \n",
       "mean           6.400101      2017.367146                 0.584433   \n",
       "std            3.491561         1.039771                 0.123224   \n",
       "min            1.000000      2014.000000                 0.020000   \n",
       "25%            3.000000      2017.000000                 0.500000   \n",
       "50%            6.000000      2017.000000                 0.580000   \n",
       "75%           10.000000      2018.000000                 0.660000   \n",
       "max           12.000000      2019.000000                 1.000000   \n",
       "\n",
       "       kitchen_area_coefficient  \n",
       "count              23699.000000  \n",
       "mean                   0.189147  \n",
       "std                    0.075024  \n",
       "min                    0.020000  \n",
       "25%                    0.130000  \n",
       "50%                    0.170000  \n",
       "75%                    0.230000  \n",
       "max                    0.790000  \n",
       "\n",
       "[8 rows x 28 columns]"
      ]
     },
     "execution_count": 159,
     "metadata": {},
     "output_type": "execute_result"
    }
   ],
   "source": [
    "polluted_data.describe()"
   ]
  },
  {
   "cell_type": "markdown",
   "metadata": {},
   "source": [
    "Проверим столбцы:"
   ]
  },
  {
   "cell_type": "code",
   "execution_count": 160,
   "metadata": {
    "scrolled": false
   },
   "outputs": [
    {
     "name": "stdout",
     "output_type": "stream",
     "text": [
      "<class 'pandas.core.frame.DataFrame'>\n",
      "RangeIndex: 23699 entries, 0 to 23698\n",
      "Data columns (total 35 columns):\n",
      "total_images                 23699 non-null int64\n",
      "last_price                   23699 non-null int32\n",
      "total_area                   23699 non-null float64\n",
      "first_day_exposition         23699 non-null datetime64[ns]\n",
      "rooms                        23699 non-null int64\n",
      "ceiling_height               14504 non-null float64\n",
      "floors_total                 23613 non-null float64\n",
      "living_area                  21796 non-null float64\n",
      "floor                        23699 non-null int64\n",
      "is_apartment                 2775 non-null object\n",
      "studio                       23699 non-null bool\n",
      "open_plan                    23699 non-null bool\n",
      "kitchen_area                 21421 non-null float64\n",
      "balcony                      23699 non-null float64\n",
      "locality_name                23699 non-null object\n",
      "airports_nearest             18157 non-null float64\n",
      "cityCenters_nearest          18180 non-null float64\n",
      "parks_around3000             18181 non-null float64\n",
      "parks_nearest                8079 non-null float64\n",
      "ponds_around3000             18181 non-null float64\n",
      "ponds_nearest                9110 non-null float64\n",
      "days_exposition              20518 non-null float64\n",
      "clear_rooms                  23699 non-null int64\n",
      "clear_ceiling_height         23699 non-null float64\n",
      "clear_floors_total           23699 non-null int32\n",
      "clear_kitchen_area           23699 non-null float64\n",
      "clear_living_area            23699 non-null float64\n",
      "clear_cityCenters_nearest    23699 non-null int32\n",
      "cost_per_square_meter        23699 non-null int32\n",
      "month_exposition             23699 non-null int64\n",
      "year_exposition              23699 non-null int64\n",
      "weekday_name_exposition      23699 non-null object\n",
      "first_and_last_floor         23699 non-null object\n",
      "useful_area_coefficient      23699 non-null float64\n",
      "kitchen_area_coefficient     23699 non-null float64\n",
      "dtypes: bool(2), datetime64[ns](1), float64(18), int32(4), int64(6), object(4)\n",
      "memory usage: 5.7+ MB\n"
     ]
    }
   ],
   "source": [
    "polluted_data.info()"
   ]
  },
  {
   "cell_type": "markdown",
   "metadata": {},
   "source": [
    "## Выводы\n",
    "После обработки пропусков и ошибочных значений, данные стали похожи на те, с которыми можно работать. Теперь необходимо добавить необходимые столбцы с расчетными величинами"
   ]
  },
  {
   "cell_type": "markdown",
   "metadata": {},
   "source": [
    "# Расчёты и добавление результатов в таблицу"
   ]
  },
  {
   "cell_type": "markdown",
   "metadata": {},
   "source": [
    "Для проведения исследовательского анализа данных, необходимо внести несколько аналитических столбцов. \n",
    "Рассчитаем и внесем в таблицу цену квадратного метра"
   ]
  },
  {
   "cell_type": "code",
   "execution_count": 161,
   "metadata": {},
   "outputs": [
    {
     "name": "stdout",
     "output_type": "stream",
     "text": [
      "count    2.369900e+04\n",
      "mean     9.942121e+04\n",
      "std      5.030681e+04\n",
      "min      1.110000e+02\n",
      "25%      7.658500e+04\n",
      "50%      9.500000e+04\n",
      "75%      1.142560e+05\n",
      "max      1.907500e+06\n",
      "Name: cost_per_square_meter, dtype: float64\n",
      "Пропуски после заполнения: 0\n"
     ]
    }
   ],
   "source": [
    "#рассчитаем цену квадратного метра\n",
    "\n",
    "def square_met(row):\n",
    "    square_met = row['last_price'] / row['total_area']\n",
    "    return square_met\n",
    "\n",
    "polluted_data['cost_per_square_meter'] = polluted_data.apply(square_met, axis = 1)\n",
    "polluted_data['cost_per_square_meter'] = polluted_data['cost_per_square_meter'].astype(int)\n",
    "\n",
    "print(polluted_data['cost_per_square_meter'].describe())\n",
    "print('Пропуски после заполнения:',polluted_data['cost_per_square_meter'].isna().sum())"
   ]
  },
  {
   "cell_type": "markdown",
   "metadata": {},
   "source": [
    "Добавим в таблицу день недели месяц и год публикации"
   ]
  },
  {
   "cell_type": "code",
   "execution_count": 162,
   "metadata": {},
   "outputs": [
    {
     "name": "stdout",
     "output_type": "stream",
     "text": [
      "<class 'pandas.core.frame.DataFrame'>\n",
      "RangeIndex: 23699 entries, 0 to 23698\n",
      "Data columns (total 35 columns):\n",
      "total_images                 23699 non-null int64\n",
      "last_price                   23699 non-null int32\n",
      "total_area                   23699 non-null float64\n",
      "first_day_exposition         23699 non-null datetime64[ns]\n",
      "rooms                        23699 non-null int64\n",
      "ceiling_height               14504 non-null float64\n",
      "floors_total                 23613 non-null float64\n",
      "living_area                  21796 non-null float64\n",
      "floor                        23699 non-null int64\n",
      "is_apartment                 2775 non-null object\n",
      "studio                       23699 non-null bool\n",
      "open_plan                    23699 non-null bool\n",
      "kitchen_area                 21421 non-null float64\n",
      "balcony                      23699 non-null float64\n",
      "locality_name                23699 non-null object\n",
      "airports_nearest             18157 non-null float64\n",
      "cityCenters_nearest          18180 non-null float64\n",
      "parks_around3000             18181 non-null float64\n",
      "parks_nearest                8079 non-null float64\n",
      "ponds_around3000             18181 non-null float64\n",
      "ponds_nearest                9110 non-null float64\n",
      "days_exposition              20518 non-null float64\n",
      "clear_rooms                  23699 non-null int64\n",
      "clear_ceiling_height         23699 non-null float64\n",
      "clear_floors_total           23699 non-null int32\n",
      "clear_kitchen_area           23699 non-null float64\n",
      "clear_living_area            23699 non-null float64\n",
      "clear_cityCenters_nearest    23699 non-null int32\n",
      "cost_per_square_meter        23699 non-null int32\n",
      "month_exposition             23699 non-null int64\n",
      "year_exposition              23699 non-null int64\n",
      "weekday_name_exposition      23699 non-null object\n",
      "first_and_last_floor         23699 non-null object\n",
      "useful_area_coefficient      23699 non-null float64\n",
      "kitchen_area_coefficient     23699 non-null float64\n",
      "dtypes: bool(2), datetime64[ns](1), float64(18), int32(4), int64(6), object(4)\n",
      "memory usage: 5.7+ MB\n"
     ]
    }
   ],
   "source": [
    "#добавим день недели месяц и год публикации\n",
    "polluted_data['month_exposition'] = pd.DatetimeIndex(polluted_data['first_day_exposition']).month\n",
    "polluted_data['year_exposition'] = pd.DatetimeIndex(polluted_data['first_day_exposition']).year\n",
    "polluted_data['weekday_name_exposition'] = pd.DatetimeIndex(polluted_data['first_day_exposition']).weekday_name\n",
    "\n",
    "polluted_data.info()"
   ]
  },
  {
   "cell_type": "markdown",
   "metadata": {},
   "source": [
    "Добавим в таблицу деление этажей на первый, последний и все остальные"
   ]
  },
  {
   "cell_type": "code",
   "execution_count": 163,
   "metadata": {},
   "outputs": [
    {
     "name": "stdout",
     "output_type": "stream",
     "text": [
      "другой       17441\n",
      "последний     3366\n",
      "первый        2892\n",
      "Name: first_and_last_floor, dtype: int64\n"
     ]
    }
   ],
   "source": [
    "#добавим этажи квартиры\n",
    "\n",
    "def f_and_l_floor(row):\n",
    "    if row['floor'] == row['clear_floors_total']:\n",
    "        f_l_f = 'последний'\n",
    "        return f_l_f\n",
    "    if row['floor'] == 1:\n",
    "        f_l_f = 'первый'\n",
    "        return f_l_f\n",
    "    else:\n",
    "        f_l_f = 'другой'\n",
    "        return f_l_f\n",
    "\n",
    "polluted_data['first_and_last_floor'] = polluted_data.apply(f_and_l_floor, axis = 1)\n",
    "print(polluted_data['first_and_last_floor'].value_counts(dropna=False,ascending=False))"
   ]
  },
  {
   "cell_type": "markdown",
   "metadata": {},
   "source": [
    "Выясним коэффициент полезной площади, рассчитаем его и внесем в таблицу\n",
    "Коэффициент полезной площади (Ks) рассчитывается по формуле: Ks = Sжилая / Sобщ\n",
    "и обычно находится в рекомендованном промежутке от 0,5 до 0,7. \n",
    "В комфортабельных квартирах он ближе к нижней границе, в более экономичных – к верхней. Округлим значение коэффициента до сотых"
   ]
  },
  {
   "cell_type": "code",
   "execution_count": 164,
   "metadata": {},
   "outputs": [
    {
     "name": "stdout",
     "output_type": "stream",
     "text": [
      "0.56    906\n",
      "0.55    885\n",
      "0.60    843\n",
      "0.62    831\n",
      "0.58    817\n",
      "       ... \n",
      "0.99      1\n",
      "0.14      1\n",
      "0.22      1\n",
      "0.13      1\n",
      "0.09      1\n",
      "Name: useful_area_coefficient, Length: 91, dtype: int64\n"
     ]
    }
   ],
   "source": [
    "# выясним соотношение жилой и общей площади\n",
    "def u_a_coeff(row):\n",
    "    u_a_c = row['clear_living_area'] / row['total_area']\n",
    "    return u_a_c\n",
    "\n",
    "polluted_data['useful_area_coefficient'] = polluted_data.apply(u_a_coeff, axis = 1)\n",
    "polluted_data['useful_area_coefficient'] = polluted_data['useful_area_coefficient'].round(2)\n",
    "print(polluted_data['useful_area_coefficient'].value_counts(dropna=False,ascending=False))"
   ]
  },
  {
   "cell_type": "markdown",
   "metadata": {},
   "source": [
    "Введем понятие отношения площади кухни к общей площади и рассчитаем его. Значение округлим до сотых и добавим в новый столбец."
   ]
  },
  {
   "cell_type": "code",
   "execution_count": 165,
   "metadata": {},
   "outputs": [
    {
     "name": "stdout",
     "output_type": "stream",
     "text": [
      "0.14    1612\n",
      "0.16    1524\n",
      "0.15    1497\n",
      "0.12    1480\n",
      "0.13    1416\n",
      "        ... \n",
      "0.66       1\n",
      "0.68       1\n",
      "0.69       1\n",
      "0.64       1\n",
      "0.79       1\n",
      "Name: kitchen_area_coefficient, Length: 71, dtype: int64\n"
     ]
    }
   ],
   "source": [
    "#выясним соотношение площади кухни к общей\n",
    "def k_a_coeff(row):\n",
    "    k_a_c = row['clear_kitchen_area'] / row['total_area']\n",
    "    return k_a_c\n",
    "\n",
    "polluted_data['kitchen_area_coefficient'] = polluted_data.apply(k_a_coeff, axis = 1)\n",
    "polluted_data['kitchen_area_coefficient'] = polluted_data['kitchen_area_coefficient'].round(2)\n",
    "print(polluted_data['kitchen_area_coefficient'].value_counts(dropna=False,ascending=False))"
   ]
  },
  {
   "cell_type": "markdown",
   "metadata": {},
   "source": [
    "## Выводы:\n",
    "В таблицу добавлены новые столбцы, которые затем будет удобно использовать для исследовательского анализа данных\n",
    "\n"
   ]
  },
  {
   "cell_type": "markdown",
   "metadata": {},
   "source": [
    "# Исследовательский анализ данных"
   ]
  },
  {
   "cell_type": "markdown",
   "metadata": {},
   "source": [
    "## Исследуем площадь предлагаемых к продаже квартир, цену на квартиры, число комнат, высоту потолков"
   ]
  },
  {
   "cell_type": "markdown",
   "metadata": {},
   "source": [
    "#### исследуем, какие площади квартир продаются чаще, построим гистограмму"
   ]
  },
  {
   "cell_type": "code",
   "execution_count": 166,
   "metadata": {},
   "outputs": [
    {
     "name": "stdout",
     "output_type": "stream",
     "text": [
      "count    23699.000000\n",
      "mean        60.348651\n",
      "std         35.654083\n",
      "min         12.000000\n",
      "25%         40.000000\n",
      "50%         52.000000\n",
      "75%         69.900000\n",
      "max        900.000000\n",
      "Name: total_area, dtype: float64\n",
      "AxesSubplot(0.125,0.125;0.775x0.755)\n"
     ]
    },
    {
     "data": {
      "image/png": "[encoded data removed]",
      "text/plain": [
       "<Figure size 432x288 with 1 Axes>"
      ]
     },
     "metadata": {
      "needs_background": "light"
     },
     "output_type": "display_data"
    }
   ],
   "source": [
    "# исследуем, какие площади квартир продаются чаще\n",
    "print(polluted_data['total_area'].describe())\n",
    "print(polluted_data['total_area'].hist(bins=50,range =(0, 900)))"
   ]
  },
  {
   "cell_type": "markdown",
   "metadata": {},
   "source": [
    "Больше всего на рынке представлены квартиры в промежутке от 40 кв.м до 70 кв.м. Пик предложения на 52 кв.м. Попробуем ещё проверить распределение на boxplot"
   ]
  },
  {
   "cell_type": "code",
   "execution_count": 36,
   "metadata": {},
   "outputs": [
    {
     "data": {
      "image/png": "[encoded data removed]",
      "text/plain": [
       "<Figure size 432x288 with 1 Axes>"
      ]
     },
     "metadata": {
      "needs_background": "light"
     },
     "output_type": "display_data"
    }
   ],
   "source": [
    "boxplot = polluted_data.boxplot(column=['total_area'])"
   ]
  },
  {
   "cell_type": "markdown",
   "metadata": {},
   "source": [
    "Видно, что хотя основной разброс предложений действительно от 40 до 70 кв.м есть постоянный, длинный хвост квартир примерно до 400 кв. м. Далее отдельные предложения."
   ]
  },
  {
   "cell_type": "markdown",
   "metadata": {},
   "source": [
    "#### исследуем, сколько чаще всего стоит квартира, построим гистограмму"
   ]
  },
  {
   "cell_type": "code",
   "execution_count": 170,
   "metadata": {
    "scrolled": true
   },
   "outputs": [
    {
     "name": "stdout",
     "output_type": "stream",
     "text": [
      "count    2.369900e+04\n",
      "mean     6.541549e+06\n",
      "std      1.088701e+07\n",
      "min      1.219000e+04\n",
      "25%      3.400000e+06\n",
      "50%      4.650000e+06\n",
      "75%      6.800000e+06\n",
      "max      7.630000e+08\n",
      "Name: last_price, dtype: float64\n",
      "AxesSubplot(0.125,0.125;0.775x0.755)\n"
     ]
    },
    {
     "data": {
      "image/png": "[encoded data removed]",
      "text/plain": [
       "<Figure size 432x288 with 1 Axes>"
      ]
     },
     "metadata": {
      "needs_background": "light"
     },
     "output_type": "display_data"
    }
   ],
   "source": [
    "# исследуем, стоимости квартир на рынке\n",
    "print(polluted_data['last_price'].describe())\n",
    "print(polluted_data['last_price'].hist(bins=100, range =(0,24000000)))"
   ]
  },
  {
   "cell_type": "code",
   "execution_count": null,
   "metadata": {},
   "outputs": [],
   "source": [
    "Большинство предложений приходится примерно на 4 миллиона рублей, распределение в целом нормальное. \n",
    "Попробуем ещё проверить распределение на boxplot"
   ]
  },
  {
   "cell_type": "code",
   "execution_count": 168,
   "metadata": {},
   "outputs": [
    {
     "data": {
      "image/png": "[encoded data removed]",
      "text/plain": [
       "<Figure size 432x288 with 1 Axes>"
      ]
     },
     "metadata": {
      "needs_background": "light"
     },
     "output_type": "display_data"
    }
   ],
   "source": [
    "boxplot = polluted_data.boxplot(column=['last_price'])"
   ]
  },
  {
   "cell_type": "markdown",
   "metadata": {},
   "source": [
    "Виден длинный хвост большой цены за большие квартиры. "
   ]
  },
  {
   "cell_type": "markdown",
   "metadata": {},
   "source": [
    "#### исследуем, сколько чаще всего комнат в предлагаемых квартирах, построим гистограмму"
   ]
  },
  {
   "cell_type": "code",
   "execution_count": 172,
   "metadata": {},
   "outputs": [
    {
     "name": "stdout",
     "output_type": "stream",
     "text": [
      "count    23699.000000\n",
      "mean         2.069328\n",
      "std          1.079409\n",
      "min          0.000000\n",
      "25%          1.000000\n",
      "50%          2.000000\n",
      "75%          3.000000\n",
      "max         19.000000\n",
      "Name: clear_rooms, dtype: float64\n",
      "AxesSubplot(0.125,0.125;0.775x0.755)\n"
     ]
    },
    {
     "data": {
      "image/png": "[encoded data removed]",
      "text/plain": [
       "<Figure size 432x288 with 1 Axes>"
      ]
     },
     "metadata": {
      "needs_background": "light"
     },
     "output_type": "display_data"
    }
   ],
   "source": [
    "# исследуем, количество комнат в квартирах представленных на рынке\n",
    "print(polluted_data['clear_rooms'].describe())\n",
    "print(polluted_data['clear_rooms'].hist(bins=20))"
   ]
  },
  {
   "cell_type": "markdown",
   "metadata": {},
   "source": [
    "Больше всего предложений на 1-2-х комнатные квартиры. Чуть меньше 3-х комнатных. Остальные предложения - экзотика связанная в основном со старым фондом в СПб.\n",
    "Попробуем ещё проверить распределение на boxplot"
   ]
  },
  {
   "cell_type": "code",
   "execution_count": 174,
   "metadata": {},
   "outputs": [
    {
     "data": {
      "image/png": "[encoded data removed]",
      "text/plain": [
       "<Figure size 432x288 with 1 Axes>"
      ]
     },
     "metadata": {
      "needs_background": "light"
     },
     "output_type": "display_data"
    }
   ],
   "source": [
    "boxplot = polluted_data.boxplot(column=['clear_rooms'])"
   ]
  },
  {
   "cell_type": "markdown",
   "metadata": {},
   "source": [
    "Подстверждается, что пик предложений на 2-х комнатных квартирах. И что настоящая экзотика начинается с 6-ти комнат :-)"
   ]
  },
  {
   "cell_type": "markdown",
   "metadata": {},
   "source": [
    "#### исследуем, высоту потолков в предлагаемых квартирах, построим гистограмму"
   ]
  },
  {
   "cell_type": "code",
   "execution_count": 175,
   "metadata": {},
   "outputs": [
    {
     "name": "stdout",
     "output_type": "stream",
     "text": [
      "count    23699.000000\n",
      "mean         2.699532\n",
      "std          0.233568\n",
      "min          2.000000\n",
      "25%          2.600000\n",
      "50%          2.650000\n",
      "75%          2.700000\n",
      "max          5.000000\n",
      "Name: clear_ceiling_height, dtype: float64\n",
      "AxesSubplot(0.125,0.125;0.775x0.755)\n"
     ]
    },
    {
     "data": {
      "image/png": "[encoded data removed]",
      "text/plain": [
       "<Figure size 432x288 with 1 Axes>"
      ]
     },
     "metadata": {
      "needs_background": "light"
     },
     "output_type": "display_data"
    }
   ],
   "source": [
    "# исследуем, какие высоты потолков встречаются\n",
    "print(polluted_data['clear_ceiling_height'].describe())\n",
    "print(polluted_data['clear_ceiling_height'].hist(bins=10))"
   ]
  },
  {
   "cell_type": "markdown",
   "metadata": {},
   "source": [
    "Основная часть предложения лежит вокруг 2,6 м. Это соответсвует нормам на эконом жильё. При этом присутсвует очень большой разброс, что характерно именно для СПб, где часто предлагаеются квартиры с очень высокими потолками.\n",
    "Попробуем ещё проверить распределение на boxplot"
   ]
  },
  {
   "cell_type": "code",
   "execution_count": 176,
   "metadata": {},
   "outputs": [
    {
     "data": {
      "image/png": "[encoded data removed]",
      "text/plain": [
       "<Figure size 432x288 with 1 Axes>"
      ]
     },
     "metadata": {
      "needs_background": "light"
     },
     "output_type": "display_data"
    }
   ],
   "source": [
    "boxplot = polluted_data.boxplot(column=['clear_ceiling_height'])"
   ]
  },
  {
   "cell_type": "markdown",
   "metadata": {},
   "source": [
    "Видны массовые выбросы в сторону высоких потолков"
   ]
  },
  {
   "cell_type": "markdown",
   "metadata": {},
   "source": [
    "\n",
    "## Рассмотрим и изучим время продажи квартиры\n",
    "\n",
    "Ответим на вопросы: \"Изучите время продажи квартиры. Постройте гистограмму. Посчитайте среднее и медиану. Опишите, сколько обычно занимает продажа. Когда можно считать, что продажи прошли очень быстро, а когда необычно долго?\""
   ]
  },
  {
   "cell_type": "code",
   "execution_count": 178,
   "metadata": {},
   "outputs": [
    {
     "name": "stdout",
     "output_type": "stream",
     "text": [
      "count    20518.000000\n",
      "mean       180.888634\n",
      "std        219.727988\n",
      "min          1.000000\n",
      "25%         45.000000\n",
      "50%         95.000000\n",
      "75%        232.000000\n",
      "max       1580.000000\n",
      "Name: days_exposition, dtype: float64\n",
      "AxesSubplot(0.125,0.125;0.775x0.755)\n",
      "Среднее количество дней до продажи: 180.88863436982163\n",
      "Медианное количество дней до продажи: 95.0\n"
     ]
    },
    {
     "data": {
      "image/png": "[encoded data removed]",
      "text/plain": [
       "<Figure size 432x288 with 1 Axes>"
      ]
     },
     "metadata": {
      "needs_background": "light"
     },
     "output_type": "display_data"
    }
   ],
   "source": [
    "print(polluted_data['days_exposition'].describe())\n",
    "print(polluted_data['days_exposition'].hist(bins=100,range =(0, 1600)))"
   ]
  },
  {
   "cell_type": "markdown",
   "metadata": {},
   "source": [
    "В половине случаев, квартира продается примерно за три месяца. При этом есть вероятность, что квартира будет висеть в продажах пару лет и среднее время продажи получается уже в 6 месяцев.\n",
    "Для определения очень быстрой и очень медленной продажи проверим распределение на boxplot"
   ]
  },
  {
   "cell_type": "code",
   "execution_count": 179,
   "metadata": {},
   "outputs": [
    {
     "data": {
      "image/png": "[encoded data removed]",
      "text/plain": [
       "<Figure size 432x288 with 1 Axes>"
      ]
     },
     "metadata": {
      "needs_background": "light"
     },
     "output_type": "display_data"
    }
   ],
   "source": [
    "boxplot = polluted_data.boxplot(column=['days_exposition'])"
   ]
  },
  {
   "cell_type": "markdown",
   "metadata": {},
   "source": [
    "В целом можно считать, что быстрая продажа, это продажа быстрее 45 дней, а медленной, продажу в пределах третьего квартиля - более 232 дней"
   ]
  },
  {
   "cell_type": "markdown",
   "metadata": {},
   "source": [
    "## Обработаем и уберем редкие и выбивающиеся значения.\n",
    "Возможно они указывают на ошибочные или мошеннические сделки. Для начала рассмотрим все имеющиеся у нас и подготовленные для анализа столбцы"
   ]
  },
  {
   "cell_type": "code",
   "execution_count": 180,
   "metadata": {
    "scrolled": true
   },
   "outputs": [
    {
     "name": "stdout",
     "output_type": "stream",
     "text": [
      "<class 'pandas.core.frame.DataFrame'>\n",
      "RangeIndex: 23699 entries, 0 to 23698\n",
      "Data columns (total 29 columns):\n",
      "total_images                 23699 non-null int64\n",
      "last_price                   23699 non-null int32\n",
      "total_area                   23699 non-null float64\n",
      "first_day_exposition         23699 non-null datetime64[ns]\n",
      "floor                        23699 non-null int64\n",
      "is_apartment                 2775 non-null object\n",
      "studio                       23699 non-null bool\n",
      "open_plan                    23699 non-null bool\n",
      "balcony                      23699 non-null float64\n",
      "locality_name                23699 non-null object\n",
      "airports_nearest             18157 non-null float64\n",
      "clear_cityCenters_nearest    23699 non-null int32\n",
      "parks_around3000             18181 non-null float64\n",
      "parks_nearest                8079 non-null float64\n",
      "ponds_around3000             18181 non-null float64\n",
      "ponds_nearest                9110 non-null float64\n",
      "days_exposition              20518 non-null float64\n",
      "clear_rooms                  23699 non-null int64\n",
      "clear_ceiling_height         23699 non-null float64\n",
      "clear_floors_total           23699 non-null int32\n",
      "clear_kitchen_area           23699 non-null float64\n",
      "clear_living_area            23699 non-null float64\n",
      "cost_per_square_meter        23699 non-null int32\n",
      "month_exposition             23699 non-null int64\n",
      "year_exposition              23699 non-null int64\n",
      "weekday_name_exposition      23699 non-null object\n",
      "first_and_last_floor         23699 non-null object\n",
      "useful_area_coefficient      23699 non-null float64\n",
      "kitchen_area_coefficient     23699 non-null float64\n",
      "dtypes: bool(2), datetime64[ns](1), float64(13), int32(4), int64(5), object(4)\n",
      "memory usage: 4.6+ MB\n",
      "None\n"
     ]
    },
    {
     "data": {
      "text/html": [
       "<div>\n",
       "<style scoped>\n",
       "    .dataframe tbody tr th:only-of-type {\n",
       "        vertical-align: middle;\n",
       "    }\n",
       "\n",
       "    .dataframe tbody tr th {\n",
       "        vertical-align: top;\n",
       "    }\n",
       "\n",
       "    .dataframe thead th {\n",
       "        text-align: right;\n",
       "    }\n",
       "</style>\n",
       "<table border=\"1\" class=\"dataframe\">\n",
       "  <thead>\n",
       "    <tr style=\"text-align: right;\">\n",
       "      <th></th>\n",
       "      <th>total_images</th>\n",
       "      <th>last_price</th>\n",
       "      <th>total_area</th>\n",
       "      <th>floor</th>\n",
       "      <th>balcony</th>\n",
       "      <th>airports_nearest</th>\n",
       "      <th>clear_cityCenters_nearest</th>\n",
       "      <th>parks_around3000</th>\n",
       "      <th>parks_nearest</th>\n",
       "      <th>ponds_around3000</th>\n",
       "      <th>...</th>\n",
       "      <th>clear_rooms</th>\n",
       "      <th>clear_ceiling_height</th>\n",
       "      <th>clear_floors_total</th>\n",
       "      <th>clear_kitchen_area</th>\n",
       "      <th>clear_living_area</th>\n",
       "      <th>cost_per_square_meter</th>\n",
       "      <th>month_exposition</th>\n",
       "      <th>year_exposition</th>\n",
       "      <th>useful_area_coefficient</th>\n",
       "      <th>kitchen_area_coefficient</th>\n",
       "    </tr>\n",
       "  </thead>\n",
       "  <tbody>\n",
       "    <tr>\n",
       "      <td>count</td>\n",
       "      <td>23699.000000</td>\n",
       "      <td>2.369900e+04</td>\n",
       "      <td>23699.000000</td>\n",
       "      <td>23699.000000</td>\n",
       "      <td>23699.000000</td>\n",
       "      <td>18157.000000</td>\n",
       "      <td>23699.000000</td>\n",
       "      <td>18181.000000</td>\n",
       "      <td>8079.000000</td>\n",
       "      <td>18181.000000</td>\n",
       "      <td>...</td>\n",
       "      <td>23699.000000</td>\n",
       "      <td>23699.000000</td>\n",
       "      <td>23699.000000</td>\n",
       "      <td>23699.000000</td>\n",
       "      <td>23699.000000</td>\n",
       "      <td>2.369900e+04</td>\n",
       "      <td>23699.000000</td>\n",
       "      <td>23699.000000</td>\n",
       "      <td>23699.000000</td>\n",
       "      <td>23699.000000</td>\n",
       "    </tr>\n",
       "    <tr>\n",
       "      <td>mean</td>\n",
       "      <td>9.858475</td>\n",
       "      <td>6.541549e+06</td>\n",
       "      <td>60.348651</td>\n",
       "      <td>5.892358</td>\n",
       "      <td>0.591080</td>\n",
       "      <td>28793.672193</td>\n",
       "      <td>13936.676358</td>\n",
       "      <td>0.611408</td>\n",
       "      <td>490.804555</td>\n",
       "      <td>0.770255</td>\n",
       "      <td>...</td>\n",
       "      <td>2.069328</td>\n",
       "      <td>2.699532</td>\n",
       "      <td>10.659184</td>\n",
       "      <td>10.425362</td>\n",
       "      <td>35.972236</td>\n",
       "      <td>9.942121e+04</td>\n",
       "      <td>6.400101</td>\n",
       "      <td>2017.367146</td>\n",
       "      <td>0.584433</td>\n",
       "      <td>0.189147</td>\n",
       "    </tr>\n",
       "    <tr>\n",
       "      <td>std</td>\n",
       "      <td>5.682529</td>\n",
       "      <td>1.088701e+07</td>\n",
       "      <td>35.654083</td>\n",
       "      <td>4.885249</td>\n",
       "      <td>0.959298</td>\n",
       "      <td>12630.880622</td>\n",
       "      <td>7553.792559</td>\n",
       "      <td>0.802074</td>\n",
       "      <td>342.317995</td>\n",
       "      <td>0.938346</td>\n",
       "      <td>...</td>\n",
       "      <td>1.079409</td>\n",
       "      <td>0.233568</td>\n",
       "      <td>6.564315</td>\n",
       "      <td>5.630724</td>\n",
       "      <td>25.028915</td>\n",
       "      <td>5.030681e+04</td>\n",
       "      <td>3.491561</td>\n",
       "      <td>1.039771</td>\n",
       "      <td>0.123224</td>\n",
       "      <td>0.075024</td>\n",
       "    </tr>\n",
       "    <tr>\n",
       "      <td>min</td>\n",
       "      <td>0.000000</td>\n",
       "      <td>1.219000e+04</td>\n",
       "      <td>12.000000</td>\n",
       "      <td>1.000000</td>\n",
       "      <td>0.000000</td>\n",
       "      <td>0.000000</td>\n",
       "      <td>181.000000</td>\n",
       "      <td>0.000000</td>\n",
       "      <td>1.000000</td>\n",
       "      <td>0.000000</td>\n",
       "      <td>...</td>\n",
       "      <td>0.000000</td>\n",
       "      <td>2.000000</td>\n",
       "      <td>1.000000</td>\n",
       "      <td>5.000000</td>\n",
       "      <td>2.000000</td>\n",
       "      <td>1.110000e+02</td>\n",
       "      <td>1.000000</td>\n",
       "      <td>2014.000000</td>\n",
       "      <td>0.020000</td>\n",
       "      <td>0.020000</td>\n",
       "    </tr>\n",
       "    <tr>\n",
       "      <td>25%</td>\n",
       "      <td>6.000000</td>\n",
       "      <td>3.400000e+06</td>\n",
       "      <td>40.000000</td>\n",
       "      <td>2.000000</td>\n",
       "      <td>0.000000</td>\n",
       "      <td>18585.000000</td>\n",
       "      <td>10927.000000</td>\n",
       "      <td>0.000000</td>\n",
       "      <td>288.000000</td>\n",
       "      <td>0.000000</td>\n",
       "      <td>...</td>\n",
       "      <td>1.000000</td>\n",
       "      <td>2.600000</td>\n",
       "      <td>5.000000</td>\n",
       "      <td>7.300000</td>\n",
       "      <td>19.000000</td>\n",
       "      <td>7.658500e+04</td>\n",
       "      <td>3.000000</td>\n",
       "      <td>2017.000000</td>\n",
       "      <td>0.500000</td>\n",
       "      <td>0.130000</td>\n",
       "    </tr>\n",
       "    <tr>\n",
       "      <td>50%</td>\n",
       "      <td>9.000000</td>\n",
       "      <td>4.650000e+06</td>\n",
       "      <td>52.000000</td>\n",
       "      <td>4.000000</td>\n",
       "      <td>0.000000</td>\n",
       "      <td>26726.000000</td>\n",
       "      <td>13098.000000</td>\n",
       "      <td>0.000000</td>\n",
       "      <td>455.000000</td>\n",
       "      <td>1.000000</td>\n",
       "      <td>...</td>\n",
       "      <td>2.000000</td>\n",
       "      <td>2.650000</td>\n",
       "      <td>9.000000</td>\n",
       "      <td>9.100000</td>\n",
       "      <td>30.800000</td>\n",
       "      <td>9.500000e+04</td>\n",
       "      <td>6.000000</td>\n",
       "      <td>2017.000000</td>\n",
       "      <td>0.580000</td>\n",
       "      <td>0.170000</td>\n",
       "    </tr>\n",
       "    <tr>\n",
       "      <td>75%</td>\n",
       "      <td>14.000000</td>\n",
       "      <td>6.800000e+06</td>\n",
       "      <td>69.900000</td>\n",
       "      <td>8.000000</td>\n",
       "      <td>1.000000</td>\n",
       "      <td>37273.000000</td>\n",
       "      <td>15248.500000</td>\n",
       "      <td>1.000000</td>\n",
       "      <td>612.000000</td>\n",
       "      <td>1.000000</td>\n",
       "      <td>...</td>\n",
       "      <td>3.000000</td>\n",
       "      <td>2.700000</td>\n",
       "      <td>16.000000</td>\n",
       "      <td>11.440000</td>\n",
       "      <td>43.300000</td>\n",
       "      <td>1.142560e+05</td>\n",
       "      <td>10.000000</td>\n",
       "      <td>2018.000000</td>\n",
       "      <td>0.660000</td>\n",
       "      <td>0.230000</td>\n",
       "    </tr>\n",
       "    <tr>\n",
       "      <td>max</td>\n",
       "      <td>50.000000</td>\n",
       "      <td>7.630000e+08</td>\n",
       "      <td>900.000000</td>\n",
       "      <td>33.000000</td>\n",
       "      <td>5.000000</td>\n",
       "      <td>84869.000000</td>\n",
       "      <td>65968.000000</td>\n",
       "      <td>3.000000</td>\n",
       "      <td>3190.000000</td>\n",
       "      <td>3.000000</td>\n",
       "      <td>...</td>\n",
       "      <td>19.000000</td>\n",
       "      <td>5.000000</td>\n",
       "      <td>35.000000</td>\n",
       "      <td>112.000000</td>\n",
       "      <td>571.000000</td>\n",
       "      <td>1.907500e+06</td>\n",
       "      <td>12.000000</td>\n",
       "      <td>2019.000000</td>\n",
       "      <td>1.000000</td>\n",
       "      <td>0.790000</td>\n",
       "    </tr>\n",
       "  </tbody>\n",
       "</table>\n",
       "<p>8 rows × 22 columns</p>\n",
       "</div>"
      ],
      "text/plain": [
       "       total_images    last_price    total_area         floor       balcony  \\\n",
       "count  23699.000000  2.369900e+04  23699.000000  23699.000000  23699.000000   \n",
       "mean       9.858475  6.541549e+06     60.348651      5.892358      0.591080   \n",
       "std        5.682529  1.088701e+07     35.654083      4.885249      0.959298   \n",
       "min        0.000000  1.219000e+04     12.000000      1.000000      0.000000   \n",
       "25%        6.000000  3.400000e+06     40.000000      2.000000      0.000000   \n",
       "50%        9.000000  4.650000e+06     52.000000      4.000000      0.000000   \n",
       "75%       14.000000  6.800000e+06     69.900000      8.000000      1.000000   \n",
       "max       50.000000  7.630000e+08    900.000000     33.000000      5.000000   \n",
       "\n",
       "       airports_nearest  clear_cityCenters_nearest  parks_around3000  \\\n",
       "count      18157.000000               23699.000000      18181.000000   \n",
       "mean       28793.672193               13936.676358          0.611408   \n",
       "std        12630.880622                7553.792559          0.802074   \n",
       "min            0.000000                 181.000000          0.000000   \n",
       "25%        18585.000000               10927.000000          0.000000   \n",
       "50%        26726.000000               13098.000000          0.000000   \n",
       "75%        37273.000000               15248.500000          1.000000   \n",
       "max        84869.000000               65968.000000          3.000000   \n",
       "\n",
       "       parks_nearest  ponds_around3000  ...   clear_rooms  \\\n",
       "count    8079.000000      18181.000000  ...  23699.000000   \n",
       "mean      490.804555          0.770255  ...      2.069328   \n",
       "std       342.317995          0.938346  ...      1.079409   \n",
       "min         1.000000          0.000000  ...      0.000000   \n",
       "25%       288.000000          0.000000  ...      1.000000   \n",
       "50%       455.000000          1.000000  ...      2.000000   \n",
       "75%       612.000000          1.000000  ...      3.000000   \n",
       "max      3190.000000          3.000000  ...     19.000000   \n",
       "\n",
       "       clear_ceiling_height  clear_floors_total  clear_kitchen_area  \\\n",
       "count          23699.000000        23699.000000        23699.000000   \n",
       "mean               2.699532           10.659184           10.425362   \n",
       "std                0.233568            6.564315            5.630724   \n",
       "min                2.000000            1.000000            5.000000   \n",
       "25%                2.600000            5.000000            7.300000   \n",
       "50%                2.650000            9.000000            9.100000   \n",
       "75%                2.700000           16.000000           11.440000   \n",
       "max                5.000000           35.000000          112.000000   \n",
       "\n",
       "       clear_living_area  cost_per_square_meter  month_exposition  \\\n",
       "count       23699.000000           2.369900e+04      23699.000000   \n",
       "mean           35.972236           9.942121e+04          6.400101   \n",
       "std            25.028915           5.030681e+04          3.491561   \n",
       "min             2.000000           1.110000e+02          1.000000   \n",
       "25%            19.000000           7.658500e+04          3.000000   \n",
       "50%            30.800000           9.500000e+04          6.000000   \n",
       "75%            43.300000           1.142560e+05         10.000000   \n",
       "max           571.000000           1.907500e+06         12.000000   \n",
       "\n",
       "       year_exposition  useful_area_coefficient  kitchen_area_coefficient  \n",
       "count     23699.000000             23699.000000              23699.000000  \n",
       "mean       2017.367146                 0.584433                  0.189147  \n",
       "std           1.039771                 0.123224                  0.075024  \n",
       "min        2014.000000                 0.020000                  0.020000  \n",
       "25%        2017.000000                 0.500000                  0.130000  \n",
       "50%        2017.000000                 0.580000                  0.170000  \n",
       "75%        2018.000000                 0.660000                  0.230000  \n",
       "max        2019.000000                 1.000000                  0.790000  \n",
       "\n",
       "[8 rows x 22 columns]"
      ]
     },
     "execution_count": 180,
     "metadata": {},
     "output_type": "execute_result"
    }
   ],
   "source": [
    "# выделим сокращенную таблицу, которую мы будем использовать в дальнейшем исследовании\n",
    "\n",
    "data = polluted_data[['total_images','last_price','total_area','first_day_exposition','floor',\n",
    "       'is_apartment', 'studio', 'open_plan', 'balcony',\n",
    "       'locality_name', 'airports_nearest','clear_cityCenters_nearest',\n",
    "       'parks_around3000', 'parks_nearest', 'ponds_around3000',\n",
    "       'ponds_nearest', 'days_exposition', 'clear_rooms',\n",
    "       'clear_ceiling_height', 'clear_floors_total', 'clear_kitchen_area',\n",
    "       'clear_living_area', 'cost_per_square_meter', 'month_exposition',\n",
    "       'year_exposition', 'weekday_name_exposition', 'first_and_last_floor',\n",
    "       'useful_area_coefficient', 'kitchen_area_coefficient']]\n",
    "\n",
    "#проверим столбцы\n",
    "print(data.info())\n",
    "# проверим значения \n",
    "data.describe()"
   ]
  },
  {
   "cell_type": "markdown",
   "metadata": {},
   "source": [
    "#### Проверим редкие и выдающиеся значения:\n",
    "\n",
    "total_images   -   количество фото в целом вполне невинная колонка и продавец может ставить сколько угодно фотографий для скорейшей продажи, медиана на примерно 10 фото это подтверждает. Здесь скорее отсутствие фото является чем то подозрительным. Думаю, в обработке я уберу те записи, в которых нет фотографий посчитав их подозрительными.\n",
    "\n",
    "last_price - квартиры разные и их стоимость может очень сильно отличаться. Но минимум и максимум очень странны \n",
    "\n",
    "total_area - странно выглядит длинный хвост из-за огромных квартир, но так то в Санкт-Петербурге действительно можно встретить огромные квартиры. Тут странно выглядят квартиры с маленькой площадью, однако в СПб есть и такие - как часть выгороженных коммуналок. Я бы посчитал это подозрительными предложениями однако, так как юридически они считаются частью большой квартиры. Думаю, я уберу из сравнения все данные, менее 21 м2 (по СП 54.13330.2016 - рекомендуемая для однокомнатных не менее 28 м2, но я встречал согласованные совмещения части кухни и коридора, которые позволяли официально делать квартиры до 21 м2)\n",
    "\n",
    "first_day_exposition  -  числа как числа :-) ничего особо удивительного \n",
    "\n",
    "floor - ничего уникального нет, всё нормально   \n",
    "\n",
    "is_apartment - здесь либо апартаменты, либо нет. Оснований сказать, что что-то странное просто нет \n",
    "\n",
    "studio - здесь либо студия, либо нет. Оснований сказать, что что-то странное просто нет\n",
    "\n",
    "open_plan - аналогично студиям или апартаментам :-) оставляю без изменения   \n",
    "\n",
    "balcony - Тут полный перекос в сторону отсутсвия или одного балкона. Чисто теоретически могут быть конечно и пять балконов, но вот когда их больше 3-х это уже странно. Но это безобидная странность, думаю оставить данные в таблице\n",
    "\n",
    "locality_name - тут тоже либо есть данные либо нет. Ничего особенно странного \n",
    "\n",
    "airports_nearest - тут странен минимум. Если посмотреть на карту СПб, то там ближе примерно 1800 метров от аэропорта жилья нет, стоит убрать все квартиры слишком близко к аэропорту\n",
    "\n",
    "clear_cityCenters_nearest - это созданный мною столбец, думаю, если я уточню исходные для него данные - он будет нормален.\n",
    "\n",
    "parks_around3000 - ничего особенного и заполнено автоматически\n",
    "\n",
    "parks_nearest  - ничего особенного и заполнено автоматически\n",
    "\n",
    "ponds_around3000 - ничего особенного и заполнено автоматически\n",
    "\n",
    "ponds_nearest  - ничего особенного и заполнено автоматически\n",
    "\n",
    "days_exposition  - Это странный столбец весь, учитывая, что иногда одна и та же квартира может сниматься с продажи и снова выставляться, а ещё продаваться по нескольку лет. Думаю, у меня нет оснований не верить этому столбцу.\n",
    "\n",
    "clear_rooms - всякое бывает :-) и 19 комнат тоже\n",
    "\n",
    "clear_ceiling_height - все данные непротиворечивы\n",
    "\n",
    "clear_floors_total - все данные непротиворечивы   \n",
    "\n",
    "clear_kitchen_area - все что больше 40 м2 странно, но возможно.\n",
    "\n",
    "clear_living_area - всё что ниже 19 м2 странно. Предположим, что 14 м2 ещё как-то можно оправдать, всё что ниже почти невозможно оформить как квартиру. \n",
    "\n",
    "cost_per_square_meter - это созданный мною столбец, думаю, если я уточню исходные для него данные - он будет нормален.\n",
    "\n",
    "month_exposition - это созданный мною столбец, думаю, если я уточню исходные для него данные - он будет нормален.\n",
    "\n",
    "year_exposition - это созданный мною столбец, думаю, если я уточню исходные для него данные - он будет нормален.\n",
    "\n",
    "weekday_name_exposition - это созданный мною столбец, думаю, если я уточню исходные для него данные - он будет нормален.\n",
    "\n",
    "first_and_last_floor - это созданный мною столбец, думаю, если я уточню исходные для него данные - он будет нормален.\n",
    "\n",
    "useful_area_coefficient - это созданный мною столбец, думаю, если я уточню исходные для него данные - он будет нормален. \n",
    "\n",
    "kitchen_area_coefficient - это созданный мною столбец, думаю, если я уточню исходные для него данные - он будет нормален."
   ]
  },
  {
   "cell_type": "markdown",
   "metadata": {},
   "source": [
    "#### Обработаем столбцы, которые вызывают подозрения"
   ]
  },
  {
   "cell_type": "markdown",
   "metadata": {},
   "source": [
    "Обработаем столбец total_images удалим подозрительные объявления без фотографий "
   ]
  },
  {
   "cell_type": "code",
   "execution_count": 181,
   "metadata": {
    "scrolled": true
   },
   "outputs": [
    {
     "data": {
      "text/plain": [
       "count    23699.000000\n",
       "mean         9.858475\n",
       "std          5.682529\n",
       "min          0.000000\n",
       "25%          6.000000\n",
       "50%          9.000000\n",
       "75%         14.000000\n",
       "max         50.000000\n",
       "Name: total_images, dtype: float64"
      ]
     },
     "execution_count": 181,
     "metadata": {},
     "output_type": "execute_result"
    }
   ],
   "source": [
    "# обрабатываю total_images\n",
    "data['total_images'].describe()"
   ]
  },
  {
   "cell_type": "code",
   "execution_count": 182,
   "metadata": {},
   "outputs": [
    {
     "data": {
      "text/plain": [
       "count    22640.000000\n",
       "mean        10.319611\n",
       "std          5.389126\n",
       "min          1.000000\n",
       "25%          6.000000\n",
       "50%         10.000000\n",
       "75%         14.000000\n",
       "max         50.000000\n",
       "Name: total_images, dtype: float64"
      ]
     },
     "execution_count": 182,
     "metadata": {},
     "output_type": "execute_result"
    }
   ],
   "source": [
    "data = data.drop(data.query(\n",
    "    'total_images ==0').index.tolist()).reset_index(drop=True)\n",
    "\n",
    "# проверим результаты\n",
    "data['total_images'].describe()"
   ]
  },
  {
   "cell_type": "markdown",
   "metadata": {},
   "source": [
    "Я удалил подозрительные объявления без фото. Их было не так и много"
   ]
  },
  {
   "cell_type": "markdown",
   "metadata": {},
   "source": [
    "Рассмотрим столбец с ценами на квартиры. "
   ]
  },
  {
   "cell_type": "code",
   "execution_count": 183,
   "metadata": {},
   "outputs": [
    {
     "data": {
      "text/plain": [
       "count    2.264000e+04\n",
       "mean     6.598647e+06\n",
       "std      1.108490e+07\n",
       "min      1.219000e+04\n",
       "25%      3.450000e+06\n",
       "50%      4.650000e+06\n",
       "75%      6.800000e+06\n",
       "max      7.630000e+08\n",
       "Name: last_price, dtype: float64"
      ]
     },
     "execution_count": 183,
     "metadata": {},
     "output_type": "execute_result"
    }
   ],
   "source": [
    "# обрабатываю last_price\n",
    "data['last_price'].describe()"
   ]
  },
  {
   "cell_type": "markdown",
   "metadata": {},
   "source": [
    "Рассмотрим минимум и максимум"
   ]
  },
  {
   "cell_type": "code",
   "execution_count": 184,
   "metadata": {},
   "outputs": [
    {
     "data": {
      "text/html": [
       "<div>\n",
       "<style scoped>\n",
       "    .dataframe tbody tr th:only-of-type {\n",
       "        vertical-align: middle;\n",
       "    }\n",
       "\n",
       "    .dataframe tbody tr th {\n",
       "        vertical-align: top;\n",
       "    }\n",
       "\n",
       "    .dataframe thead th {\n",
       "        text-align: right;\n",
       "    }\n",
       "</style>\n",
       "<table border=\"1\" class=\"dataframe\">\n",
       "  <thead>\n",
       "    <tr style=\"text-align: right;\">\n",
       "      <th></th>\n",
       "      <th>last_price</th>\n",
       "      <th>total_area</th>\n",
       "    </tr>\n",
       "  </thead>\n",
       "  <tbody>\n",
       "    <tr>\n",
       "      <td>5450</td>\n",
       "      <td>450000</td>\n",
       "      <td>42.0</td>\n",
       "    </tr>\n",
       "    <tr>\n",
       "      <td>6561</td>\n",
       "      <td>490000</td>\n",
       "      <td>40.0</td>\n",
       "    </tr>\n",
       "    <tr>\n",
       "      <td>8394</td>\n",
       "      <td>12190</td>\n",
       "      <td>109.0</td>\n",
       "    </tr>\n",
       "    <tr>\n",
       "      <td>9151</td>\n",
       "      <td>450000</td>\n",
       "      <td>43.4</td>\n",
       "    </tr>\n",
       "    <tr>\n",
       "      <td>10286</td>\n",
       "      <td>490000</td>\n",
       "      <td>29.1</td>\n",
       "    </tr>\n",
       "    <tr>\n",
       "      <td>14240</td>\n",
       "      <td>430000</td>\n",
       "      <td>54.0</td>\n",
       "    </tr>\n",
       "    <tr>\n",
       "      <td>15316</td>\n",
       "      <td>480000</td>\n",
       "      <td>32.0</td>\n",
       "    </tr>\n",
       "    <tr>\n",
       "      <td>15493</td>\n",
       "      <td>450000</td>\n",
       "      <td>38.5</td>\n",
       "    </tr>\n",
       "    <tr>\n",
       "      <td>15545</td>\n",
       "      <td>440000</td>\n",
       "      <td>40.0</td>\n",
       "    </tr>\n",
       "    <tr>\n",
       "      <td>16673</td>\n",
       "      <td>430000</td>\n",
       "      <td>30.4</td>\n",
       "    </tr>\n",
       "    <tr>\n",
       "      <td>18018</td>\n",
       "      <td>470000</td>\n",
       "      <td>41.0</td>\n",
       "    </tr>\n",
       "    <tr>\n",
       "      <td>22436</td>\n",
       "      <td>470000</td>\n",
       "      <td>44.5</td>\n",
       "    </tr>\n",
       "  </tbody>\n",
       "</table>\n",
       "</div>"
      ],
      "text/plain": [
       "       last_price  total_area\n",
       "5450       450000        42.0\n",
       "6561       490000        40.0\n",
       "8394        12190       109.0\n",
       "9151       450000        43.4\n",
       "10286      490000        29.1\n",
       "14240      430000        54.0\n",
       "15316      480000        32.0\n",
       "15493      450000        38.5\n",
       "15545      440000        40.0\n",
       "16673      430000        30.4\n",
       "18018      470000        41.0\n",
       "22436      470000        44.5"
      ]
     },
     "execution_count": 184,
     "metadata": {},
     "output_type": "execute_result"
    }
   ],
   "source": [
    "data[['last_price', 'total_area']].query('last_price < 500000')"
   ]
  },
  {
   "cell_type": "markdown",
   "metadata": {},
   "source": [
    "Похоже есть ошибочная запись с минимальной ценой, квартира явно не соответствует по площади с другими дешевыми квартирами. Думаю, поскольку непонятно, сколько может стоить эта квартира, минимальное значение необходимо удалить. Рассмотрим максимальные значения:"
   ]
  },
  {
   "cell_type": "code",
   "execution_count": 50,
   "metadata": {},
   "outputs": [
    {
     "data": {
      "text/html": [
       "<div>\n",
       "<style scoped>\n",
       "    .dataframe tbody tr th:only-of-type {\n",
       "        vertical-align: middle;\n",
       "    }\n",
       "\n",
       "    .dataframe tbody tr th {\n",
       "        vertical-align: top;\n",
       "    }\n",
       "\n",
       "    .dataframe thead th {\n",
       "        text-align: right;\n",
       "    }\n",
       "</style>\n",
       "<table border=\"1\" class=\"dataframe\">\n",
       "  <thead>\n",
       "    <tr style=\"text-align: right;\">\n",
       "      <th></th>\n",
       "      <th>last_price</th>\n",
       "      <th>total_area</th>\n",
       "    </tr>\n",
       "  </thead>\n",
       "  <tbody>\n",
       "    <tr>\n",
       "      <td>1378</td>\n",
       "      <td>330000000</td>\n",
       "      <td>190.0</td>\n",
       "    </tr>\n",
       "    <tr>\n",
       "      <td>5637</td>\n",
       "      <td>230000000</td>\n",
       "      <td>500.0</td>\n",
       "    </tr>\n",
       "    <tr>\n",
       "      <td>12384</td>\n",
       "      <td>763000000</td>\n",
       "      <td>400.0</td>\n",
       "    </tr>\n",
       "    <tr>\n",
       "      <td>13127</td>\n",
       "      <td>240000000</td>\n",
       "      <td>410.0</td>\n",
       "    </tr>\n",
       "    <tr>\n",
       "      <td>14040</td>\n",
       "      <td>401300000</td>\n",
       "      <td>401.0</td>\n",
       "    </tr>\n",
       "    <tr>\n",
       "      <td>14948</td>\n",
       "      <td>300000000</td>\n",
       "      <td>618.0</td>\n",
       "    </tr>\n",
       "    <tr>\n",
       "      <td>15724</td>\n",
       "      <td>245000000</td>\n",
       "      <td>285.7</td>\n",
       "    </tr>\n",
       "    <tr>\n",
       "      <td>18666</td>\n",
       "      <td>420000000</td>\n",
       "      <td>900.0</td>\n",
       "    </tr>\n",
       "    <tr>\n",
       "      <td>21812</td>\n",
       "      <td>289238400</td>\n",
       "      <td>187.5</td>\n",
       "    </tr>\n",
       "  </tbody>\n",
       "</table>\n",
       "</div>"
      ],
      "text/plain": [
       "       last_price  total_area\n",
       "1378    330000000       190.0\n",
       "5637    230000000       500.0\n",
       "12384   763000000       400.0\n",
       "13127   240000000       410.0\n",
       "14040   401300000       401.0\n",
       "14948   300000000       618.0\n",
       "15724   245000000       285.7\n",
       "18666   420000000       900.0\n",
       "21812   289238400       187.5"
      ]
     },
     "execution_count": 50,
     "metadata": {},
     "output_type": "execute_result"
    }
   ],
   "source": [
    "data[['last_price', 'total_area']].query('last_price > 200000000')"
   ]
  },
  {
   "cell_type": "markdown",
   "metadata": {},
   "source": [
    "Данный столбец может быть сколь угодно большим, но разница между максимумом и чем-то ближайшим слишком большой. Я думаю, максимальное значение также ошибка. Поскольку мы не понимаем, какая может быть цена, его стоит просто удалить."
   ]
  },
  {
   "cell_type": "code",
   "execution_count": 51,
   "metadata": {
    "scrolled": true
   },
   "outputs": [
    {
     "data": {
      "text/plain": [
       "count    2.263800e+04\n",
       "mean     6.565525e+06\n",
       "std      9.879688e+06\n",
       "min      4.300000e+05\n",
       "25%      3.450000e+06\n",
       "50%      4.650000e+06\n",
       "75%      6.800000e+06\n",
       "max      4.200000e+08\n",
       "Name: last_price, dtype: float64"
      ]
     },
     "execution_count": 51,
     "metadata": {},
     "output_type": "execute_result"
    }
   ],
   "source": [
    "#удалим подозрительные значения\n",
    "data = data.drop(data.query('last_price ==1.219000e+04').index.tolist()).reset_index(drop=True)\n",
    "data = data.drop(data.query('last_price ==7.630000e+08').index.tolist()).reset_index(drop=True)\n",
    "\n",
    "# проверим результаты\n",
    "data['last_price'].describe()"
   ]
  },
  {
   "cell_type": "markdown",
   "metadata": {},
   "source": [
    "Рассмотрим столбцы с площадью, которая вызывает сомнения, заодно проверим, апартаменты ли это."
   ]
  },
  {
   "cell_type": "code",
   "execution_count": 52,
   "metadata": {},
   "outputs": [
    {
     "data": {
      "text/plain": [
       "count    22638.000000\n",
       "mean        60.538841\n",
       "std         35.836216\n",
       "min         12.000000\n",
       "25%         40.000000\n",
       "50%         52.000000\n",
       "75%         70.000000\n",
       "max        900.000000\n",
       "Name: total_area, dtype: float64"
      ]
     },
     "execution_count": 52,
     "metadata": {},
     "output_type": "execute_result"
    }
   ],
   "source": [
    "# обрабатываю total_area\n",
    "data['total_area'].describe()"
   ]
  },
  {
   "cell_type": "markdown",
   "metadata": {},
   "source": [
    "Посмотрим внимательно значения меньше нормативных"
   ]
  },
  {
   "cell_type": "code",
   "execution_count": 53,
   "metadata": {
    "scrolled": true
   },
   "outputs": [],
   "source": [
    "#data['total_area'] = polluted_data['total_area'] \n",
    "#data['total_area'].describe()"
   ]
  },
  {
   "cell_type": "code",
   "execution_count": 54,
   "metadata": {},
   "outputs": [
    {
     "data": {
      "text/html": [
       "<div>\n",
       "<style scoped>\n",
       "    .dataframe tbody tr th:only-of-type {\n",
       "        vertical-align: middle;\n",
       "    }\n",
       "\n",
       "    .dataframe tbody tr th {\n",
       "        vertical-align: top;\n",
       "    }\n",
       "\n",
       "    .dataframe thead th {\n",
       "        text-align: right;\n",
       "    }\n",
       "</style>\n",
       "<table border=\"1\" class=\"dataframe\">\n",
       "  <thead>\n",
       "    <tr style=\"text-align: right;\">\n",
       "      <th></th>\n",
       "      <th>total_area</th>\n",
       "      <th>clear_living_area</th>\n",
       "      <th>clear_kitchen_area</th>\n",
       "    </tr>\n",
       "  </thead>\n",
       "  <tbody>\n",
       "    <tr>\n",
       "      <td>687</td>\n",
       "      <td>17.00</td>\n",
       "      <td>12.00</td>\n",
       "      <td>5.00</td>\n",
       "    </tr>\n",
       "    <tr>\n",
       "      <td>1541</td>\n",
       "      <td>20.10</td>\n",
       "      <td>11.00</td>\n",
       "      <td>9.10</td>\n",
       "    </tr>\n",
       "    <tr>\n",
       "      <td>3908</td>\n",
       "      <td>20.00</td>\n",
       "      <td>13.00</td>\n",
       "      <td>5.60</td>\n",
       "    </tr>\n",
       "    <tr>\n",
       "      <td>4356</td>\n",
       "      <td>18.00</td>\n",
       "      <td>9.00</td>\n",
       "      <td>9.10</td>\n",
       "    </tr>\n",
       "    <tr>\n",
       "      <td>5087</td>\n",
       "      <td>20.00</td>\n",
       "      <td>16.00</td>\n",
       "      <td>5.00</td>\n",
       "    </tr>\n",
       "    <tr>\n",
       "      <td>5601</td>\n",
       "      <td>19.50</td>\n",
       "      <td>12.70</td>\n",
       "      <td>5.00</td>\n",
       "    </tr>\n",
       "    <tr>\n",
       "      <td>5819</td>\n",
       "      <td>18.00</td>\n",
       "      <td>13.00</td>\n",
       "      <td>3.00</td>\n",
       "    </tr>\n",
       "    <tr>\n",
       "      <td>6259</td>\n",
       "      <td>20.30</td>\n",
       "      <td>16.00</td>\n",
       "      <td>4.00</td>\n",
       "    </tr>\n",
       "    <tr>\n",
       "      <td>7242</td>\n",
       "      <td>20.60</td>\n",
       "      <td>10.55</td>\n",
       "      <td>9.10</td>\n",
       "    </tr>\n",
       "    <tr>\n",
       "      <td>7411</td>\n",
       "      <td>20.67</td>\n",
       "      <td>14.95</td>\n",
       "      <td>14.95</td>\n",
       "    </tr>\n",
       "    <tr>\n",
       "      <td>8073</td>\n",
       "      <td>19.00</td>\n",
       "      <td>14.00</td>\n",
       "      <td>5.00</td>\n",
       "    </tr>\n",
       "    <tr>\n",
       "      <td>8332</td>\n",
       "      <td>18.40</td>\n",
       "      <td>14.00</td>\n",
       "      <td>2.40</td>\n",
       "    </tr>\n",
       "    <tr>\n",
       "      <td>8357</td>\n",
       "      <td>18.80</td>\n",
       "      <td>15.80</td>\n",
       "      <td>5.00</td>\n",
       "    </tr>\n",
       "    <tr>\n",
       "      <td>8471</td>\n",
       "      <td>20.00</td>\n",
       "      <td>14.00</td>\n",
       "      <td>6.00</td>\n",
       "    </tr>\n",
       "    <tr>\n",
       "      <td>8483</td>\n",
       "      <td>15.50</td>\n",
       "      <td>10.00</td>\n",
       "      <td>5.00</td>\n",
       "    </tr>\n",
       "    <tr>\n",
       "      <td>8989</td>\n",
       "      <td>16.00</td>\n",
       "      <td>13.00</td>\n",
       "      <td>9.10</td>\n",
       "    </tr>\n",
       "    <tr>\n",
       "      <td>9374</td>\n",
       "      <td>19.00</td>\n",
       "      <td>15.00</td>\n",
       "      <td>5.00</td>\n",
       "    </tr>\n",
       "    <tr>\n",
       "      <td>9740</td>\n",
       "      <td>17.00</td>\n",
       "      <td>13.00</td>\n",
       "      <td>3.00</td>\n",
       "    </tr>\n",
       "    <tr>\n",
       "      <td>9801</td>\n",
       "      <td>20.50</td>\n",
       "      <td>15.80</td>\n",
       "      <td>5.00</td>\n",
       "    </tr>\n",
       "    <tr>\n",
       "      <td>10462</td>\n",
       "      <td>20.00</td>\n",
       "      <td>16.00</td>\n",
       "      <td>9.10</td>\n",
       "    </tr>\n",
       "    <tr>\n",
       "      <td>11490</td>\n",
       "      <td>15.00</td>\n",
       "      <td>5.90</td>\n",
       "      <td>9.10</td>\n",
       "    </tr>\n",
       "    <tr>\n",
       "      <td>11798</td>\n",
       "      <td>20.80</td>\n",
       "      <td>15.79</td>\n",
       "      <td>9.10</td>\n",
       "    </tr>\n",
       "    <tr>\n",
       "      <td>12159</td>\n",
       "      <td>20.50</td>\n",
       "      <td>15.50</td>\n",
       "      <td>5.00</td>\n",
       "    </tr>\n",
       "    <tr>\n",
       "      <td>12294</td>\n",
       "      <td>18.50</td>\n",
       "      <td>9.40</td>\n",
       "      <td>9.10</td>\n",
       "    </tr>\n",
       "    <tr>\n",
       "      <td>12407</td>\n",
       "      <td>18.00</td>\n",
       "      <td>16.00</td>\n",
       "      <td>5.00</td>\n",
       "    </tr>\n",
       "    <tr>\n",
       "      <td>12883</td>\n",
       "      <td>20.67</td>\n",
       "      <td>14.85</td>\n",
       "      <td>9.10</td>\n",
       "    </tr>\n",
       "    <tr>\n",
       "      <td>16182</td>\n",
       "      <td>15.00</td>\n",
       "      <td>5.90</td>\n",
       "      <td>9.10</td>\n",
       "    </tr>\n",
       "    <tr>\n",
       "      <td>16223</td>\n",
       "      <td>20.00</td>\n",
       "      <td>10.90</td>\n",
       "      <td>9.10</td>\n",
       "    </tr>\n",
       "    <tr>\n",
       "      <td>17056</td>\n",
       "      <td>20.00</td>\n",
       "      <td>10.90</td>\n",
       "      <td>9.10</td>\n",
       "    </tr>\n",
       "    <tr>\n",
       "      <td>17153</td>\n",
       "      <td>13.00</td>\n",
       "      <td>3.90</td>\n",
       "      <td>9.10</td>\n",
       "    </tr>\n",
       "    <tr>\n",
       "      <td>18442</td>\n",
       "      <td>18.00</td>\n",
       "      <td>10.00</td>\n",
       "      <td>9.10</td>\n",
       "    </tr>\n",
       "    <tr>\n",
       "      <td>18602</td>\n",
       "      <td>20.00</td>\n",
       "      <td>16.00</td>\n",
       "      <td>9.10</td>\n",
       "    </tr>\n",
       "    <tr>\n",
       "      <td>18670</td>\n",
       "      <td>13.00</td>\n",
       "      <td>3.90</td>\n",
       "      <td>9.10</td>\n",
       "    </tr>\n",
       "    <tr>\n",
       "      <td>18682</td>\n",
       "      <td>13.20</td>\n",
       "      <td>4.10</td>\n",
       "      <td>9.10</td>\n",
       "    </tr>\n",
       "    <tr>\n",
       "      <td>18764</td>\n",
       "      <td>14.00</td>\n",
       "      <td>11.00</td>\n",
       "      <td>2.00</td>\n",
       "    </tr>\n",
       "    <tr>\n",
       "      <td>19009</td>\n",
       "      <td>12.00</td>\n",
       "      <td>10.00</td>\n",
       "      <td>9.10</td>\n",
       "    </tr>\n",
       "    <tr>\n",
       "      <td>19779</td>\n",
       "      <td>18.00</td>\n",
       "      <td>8.90</td>\n",
       "      <td>9.10</td>\n",
       "    </tr>\n",
       "    <tr>\n",
       "      <td>20461</td>\n",
       "      <td>20.00</td>\n",
       "      <td>14.00</td>\n",
       "      <td>2.00</td>\n",
       "    </tr>\n",
       "    <tr>\n",
       "      <td>20826</td>\n",
       "      <td>17.78</td>\n",
       "      <td>15.89</td>\n",
       "      <td>9.10</td>\n",
       "    </tr>\n",
       "    <tr>\n",
       "      <td>21356</td>\n",
       "      <td>17.20</td>\n",
       "      <td>8.10</td>\n",
       "      <td>9.10</td>\n",
       "    </tr>\n",
       "    <tr>\n",
       "      <td>22151</td>\n",
       "      <td>18.90</td>\n",
       "      <td>16.00</td>\n",
       "      <td>9.10</td>\n",
       "    </tr>\n",
       "  </tbody>\n",
       "</table>\n",
       "</div>"
      ],
      "text/plain": [
       "       total_area  clear_living_area  clear_kitchen_area\n",
       "687         17.00              12.00                5.00\n",
       "1541        20.10              11.00                9.10\n",
       "3908        20.00              13.00                5.60\n",
       "4356        18.00               9.00                9.10\n",
       "5087        20.00              16.00                5.00\n",
       "5601        19.50              12.70                5.00\n",
       "5819        18.00              13.00                3.00\n",
       "6259        20.30              16.00                4.00\n",
       "7242        20.60              10.55                9.10\n",
       "7411        20.67              14.95               14.95\n",
       "8073        19.00              14.00                5.00\n",
       "8332        18.40              14.00                2.40\n",
       "8357        18.80              15.80                5.00\n",
       "8471        20.00              14.00                6.00\n",
       "8483        15.50              10.00                5.00\n",
       "8989        16.00              13.00                9.10\n",
       "9374        19.00              15.00                5.00\n",
       "9740        17.00              13.00                3.00\n",
       "9801        20.50              15.80                5.00\n",
       "10462       20.00              16.00                9.10\n",
       "11490       15.00               5.90                9.10\n",
       "11798       20.80              15.79                9.10\n",
       "12159       20.50              15.50                5.00\n",
       "12294       18.50               9.40                9.10\n",
       "12407       18.00              16.00                5.00\n",
       "12883       20.67              14.85                9.10\n",
       "16182       15.00               5.90                9.10\n",
       "16223       20.00              10.90                9.10\n",
       "17056       20.00              10.90                9.10\n",
       "17153       13.00               3.90                9.10\n",
       "18442       18.00              10.00                9.10\n",
       "18602       20.00              16.00                9.10\n",
       "18670       13.00               3.90                9.10\n",
       "18682       13.20               4.10                9.10\n",
       "18764       14.00              11.00                2.00\n",
       "19009       12.00              10.00                9.10\n",
       "19779       18.00               8.90                9.10\n",
       "20461       20.00              14.00                2.00\n",
       "20826       17.78              15.89                9.10\n",
       "21356       17.20               8.10                9.10\n",
       "22151       18.90              16.00                9.10"
      ]
     },
     "execution_count": 54,
     "metadata": {},
     "output_type": "execute_result"
    }
   ],
   "source": [
    "data[['total_area', 'clear_living_area','clear_kitchen_area']].query('total_area < 21')"
   ]
  },
  {
   "cell_type": "markdown",
   "metadata": {},
   "source": [
    "Данные записи выглядят очень подозрительно. Все они похожи на характерные для СПб нарезанные кусочки бывших больших коммуналок. Проблема в том, что подобные нарезки практически никогда невозможно зарегистрировать как самостоятельные квартиры и они продаются как части общего имущества. Есть конечно вариант, что это бывшие дворницкие в центре СПб, но этот вариант маловероятен. Думаю, я удалю все подобные записи."
   ]
  },
  {
   "cell_type": "code",
   "execution_count": 55,
   "metadata": {},
   "outputs": [
    {
     "data": {
      "text/plain": [
       "count    22597.000000\n",
       "mean        60.615850\n",
       "std         35.822886\n",
       "min         21.000000\n",
       "25%         40.000000\n",
       "50%         52.000000\n",
       "75%         70.000000\n",
       "max        900.000000\n",
       "Name: total_area, dtype: float64"
      ]
     },
     "execution_count": 55,
     "metadata": {},
     "output_type": "execute_result"
    }
   ],
   "source": [
    "#удалим подозрительные значения\n",
    "data = data.drop(data.query('total_area < 21').index.tolist()).reset_index(drop=True)\n",
    "data['total_area'].describe()"
   ]
  },
  {
   "cell_type": "markdown",
   "metadata": {},
   "source": [
    "Проверим также максимумы площадей. Возможно там тоже что-то странное"
   ]
  },
  {
   "cell_type": "code",
   "execution_count": 56,
   "metadata": {},
   "outputs": [
    {
     "data": {
      "text/html": [
       "<div>\n",
       "<style scoped>\n",
       "    .dataframe tbody tr th:only-of-type {\n",
       "        vertical-align: middle;\n",
       "    }\n",
       "\n",
       "    .dataframe tbody tr th {\n",
       "        vertical-align: top;\n",
       "    }\n",
       "\n",
       "    .dataframe thead th {\n",
       "        text-align: right;\n",
       "    }\n",
       "</style>\n",
       "<table border=\"1\" class=\"dataframe\">\n",
       "  <thead>\n",
       "    <tr style=\"text-align: right;\">\n",
       "      <th></th>\n",
       "      <th>total_area</th>\n",
       "      <th>clear_living_area</th>\n",
       "      <th>clear_kitchen_area</th>\n",
       "      <th>last_price</th>\n",
       "      <th>clear_cityCenters_nearest</th>\n",
       "      <th>clear_ceiling_height</th>\n",
       "      <th>clear_rooms</th>\n",
       "    </tr>\n",
       "  </thead>\n",
       "  <tbody>\n",
       "    <tr>\n",
       "      <td>2979</td>\n",
       "      <td>631.0</td>\n",
       "      <td>571.0</td>\n",
       "      <td>60.0</td>\n",
       "      <td>140000000</td>\n",
       "      <td>4972</td>\n",
       "      <td>NaN</td>\n",
       "      <td>7</td>\n",
       "    </tr>\n",
       "    <tr>\n",
       "      <td>4057</td>\n",
       "      <td>517.0</td>\n",
       "      <td>332.0</td>\n",
       "      <td>22.0</td>\n",
       "      <td>50000000</td>\n",
       "      <td>1847</td>\n",
       "      <td>NaN</td>\n",
       "      <td>7</td>\n",
       "    </tr>\n",
       "    <tr>\n",
       "      <td>5126</td>\n",
       "      <td>590.0</td>\n",
       "      <td>409.0</td>\n",
       "      <td>100.0</td>\n",
       "      <td>65000000</td>\n",
       "      <td>4666</td>\n",
       "      <td>3.50</td>\n",
       "      <td>15</td>\n",
       "    </tr>\n",
       "    <tr>\n",
       "      <td>7647</td>\n",
       "      <td>507.0</td>\n",
       "      <td>301.5</td>\n",
       "      <td>45.5</td>\n",
       "      <td>84000000</td>\n",
       "      <td>5735</td>\n",
       "      <td>4.45</td>\n",
       "      <td>5</td>\n",
       "    </tr>\n",
       "    <tr>\n",
       "      <td>12250</td>\n",
       "      <td>631.2</td>\n",
       "      <td>322.3</td>\n",
       "      <td>19.5</td>\n",
       "      <td>140000000</td>\n",
       "      <td>4972</td>\n",
       "      <td>3.90</td>\n",
       "      <td>7</td>\n",
       "    </tr>\n",
       "    <tr>\n",
       "      <td>14920</td>\n",
       "      <td>618.0</td>\n",
       "      <td>258.0</td>\n",
       "      <td>70.0</td>\n",
       "      <td>300000000</td>\n",
       "      <td>5297</td>\n",
       "      <td>3.40</td>\n",
       "      <td>7</td>\n",
       "    </tr>\n",
       "    <tr>\n",
       "      <td>18632</td>\n",
       "      <td>900.0</td>\n",
       "      <td>409.7</td>\n",
       "      <td>112.0</td>\n",
       "      <td>420000000</td>\n",
       "      <td>7877</td>\n",
       "      <td>2.80</td>\n",
       "      <td>12</td>\n",
       "    </tr>\n",
       "  </tbody>\n",
       "</table>\n",
       "</div>"
      ],
      "text/plain": [
       "       total_area  clear_living_area  clear_kitchen_area  last_price  \\\n",
       "2979        631.0              571.0                60.0   140000000   \n",
       "4057        517.0              332.0                22.0    50000000   \n",
       "5126        590.0              409.0               100.0    65000000   \n",
       "7647        507.0              301.5                45.5    84000000   \n",
       "12250       631.2              322.3                19.5   140000000   \n",
       "14920       618.0              258.0                70.0   300000000   \n",
       "18632       900.0              409.7               112.0   420000000   \n",
       "\n",
       "       clear_cityCenters_nearest  clear_ceiling_height  clear_rooms  \n",
       "2979                        4972                   NaN            7  \n",
       "4057                        1847                   NaN            7  \n",
       "5126                        4666                  3.50           15  \n",
       "7647                        5735                  4.45            5  \n",
       "12250                       4972                  3.90            7  \n",
       "14920                       5297                  3.40            7  \n",
       "18632                       7877                  2.80           12  "
      ]
     },
     "execution_count": 56,
     "metadata": {},
     "output_type": "execute_result"
    }
   ],
   "source": [
    "data[['total_area', 'clear_living_area','clear_kitchen_area', 'last_price','clear_cityCenters_nearest','clear_ceiling_height','clear_rooms']].query('total_area > 500')"
   ]
  },
  {
   "cell_type": "markdown",
   "metadata": {},
   "source": [
    "Подобные квартиры выглядят странно. Но они находятся в центре СПб и в общем реальны.  "
   ]
  },
  {
   "cell_type": "markdown",
   "metadata": {},
   "source": [
    "Обработаем столбец близости к аэропорту. В СПб нет жилых зданий ближе 1800 м от аэропорта"
   ]
  },
  {
   "cell_type": "code",
   "execution_count": 185,
   "metadata": {},
   "outputs": [
    {
     "data": {
      "text/plain": [
       "count    17349.000000\n",
       "mean     28815.234941\n",
       "std      12584.096865\n",
       "min       6450.000000\n",
       "25%      18641.000000\n",
       "50%      26771.000000\n",
       "75%      37284.000000\n",
       "max      84869.000000\n",
       "Name: airports_nearest, dtype: float64"
      ]
     },
     "execution_count": 185,
     "metadata": {},
     "output_type": "execute_result"
    }
   ],
   "source": [
    "data['airports_nearest'].describe()"
   ]
  },
  {
   "cell_type": "markdown",
   "metadata": {},
   "source": [
    "Похоже все подозрительные значения удалились при более ранней обработке базы"
   ]
  },
  {
   "cell_type": "markdown",
   "metadata": {},
   "source": [
    "Проверим жилую площадь, столбец clear_living_area, всё что ниже 14 м2 почти невероятно оформить как квартиру. Скорее всего это части большой квартиры. Удалим все подозрительные данные."
   ]
  },
  {
   "cell_type": "code",
   "execution_count": 186,
   "metadata": {},
   "outputs": [
    {
     "data": {
      "text/plain": [
       "count    22640.000000\n",
       "mean        36.018009\n",
       "std         25.152176\n",
       "min          2.000000\n",
       "25%         19.000000\n",
       "50%         30.800000\n",
       "75%         43.300000\n",
       "max        571.000000\n",
       "Name: clear_living_area, dtype: float64"
      ]
     },
     "execution_count": 186,
     "metadata": {},
     "output_type": "execute_result"
    }
   ],
   "source": [
    "data['clear_living_area'].describe()"
   ]
  },
  {
   "cell_type": "code",
   "execution_count": 187,
   "metadata": {},
   "outputs": [
    {
     "data": {
      "text/plain": [
       "count    22306.000000\n",
       "mean        36.382030\n",
       "std         25.160737\n",
       "min         14.000000\n",
       "25%         19.500000\n",
       "50%         31.000000\n",
       "75%         43.500000\n",
       "max        571.000000\n",
       "Name: clear_living_area, dtype: float64"
      ]
     },
     "execution_count": 187,
     "metadata": {},
     "output_type": "execute_result"
    }
   ],
   "source": [
    "data = data.drop(data.query('clear_living_area < 14').index.tolist()).reset_index(drop=True)\n",
    "data['clear_living_area'].describe()"
   ]
  },
  {
   "cell_type": "markdown",
   "metadata": {},
   "source": [
    "Попробуем снова посмотреть отредактированную таблицу"
   ]
  },
  {
   "cell_type": "code",
   "execution_count": 60,
   "metadata": {},
   "outputs": [
    {
     "name": "stdout",
     "output_type": "stream",
     "text": [
      "<class 'pandas.core.frame.DataFrame'>\n",
      "RangeIndex: 22286 entries, 0 to 22285\n",
      "Data columns (total 29 columns):\n",
      "total_images                 22286 non-null int64\n",
      "last_price                   22286 non-null int32\n",
      "total_area                   22286 non-null float64\n",
      "first_day_exposition         22286 non-null datetime64[ns]\n",
      "floor                        22286 non-null int64\n",
      "is_apartment                 2658 non-null object\n",
      "studio                       22286 non-null bool\n",
      "open_plan                    22286 non-null bool\n",
      "balcony                      22286 non-null float64\n",
      "locality_name                22239 non-null object\n",
      "airports_nearest             17099 non-null float64\n",
      "clear_cityCenters_nearest    22286 non-null int32\n",
      "parks_around3000             17121 non-null float64\n",
      "parks_nearest                7646 non-null float64\n",
      "ponds_around3000             17121 non-null float64\n",
      "ponds_nearest                8583 non-null float64\n",
      "days_exposition              19194 non-null float64\n",
      "clear_rooms                  22286 non-null int64\n",
      "clear_ceiling_height         13798 non-null float64\n",
      "clear_floors_total           22286 non-null int32\n",
      "clear_kitchen_area           22286 non-null float64\n",
      "clear_living_area            22286 non-null float64\n",
      "cost_per_square_meter        22286 non-null int32\n",
      "month_exposition             22286 non-null int64\n",
      "year_exposition              22286 non-null int64\n",
      "weekday_name_exposition      22286 non-null object\n",
      "first_and_last_floor         22286 non-null object\n",
      "useful_area_coefficient      22286 non-null float64\n",
      "kitchen_area_coefficient     22286 non-null float64\n",
      "dtypes: bool(2), datetime64[ns](1), float64(13), int32(4), int64(5), object(4)\n",
      "memory usage: 4.3+ MB\n",
      "None\n"
     ]
    },
    {
     "data": {
      "text/html": [
       "<div>\n",
       "<style scoped>\n",
       "    .dataframe tbody tr th:only-of-type {\n",
       "        vertical-align: middle;\n",
       "    }\n",
       "\n",
       "    .dataframe tbody tr th {\n",
       "        vertical-align: top;\n",
       "    }\n",
       "\n",
       "    .dataframe thead th {\n",
       "        text-align: right;\n",
       "    }\n",
       "</style>\n",
       "<table border=\"1\" class=\"dataframe\">\n",
       "  <thead>\n",
       "    <tr style=\"text-align: right;\">\n",
       "      <th></th>\n",
       "      <th>total_images</th>\n",
       "      <th>last_price</th>\n",
       "      <th>total_area</th>\n",
       "      <th>floor</th>\n",
       "      <th>balcony</th>\n",
       "      <th>airports_nearest</th>\n",
       "      <th>clear_cityCenters_nearest</th>\n",
       "      <th>parks_around3000</th>\n",
       "      <th>parks_nearest</th>\n",
       "      <th>ponds_around3000</th>\n",
       "      <th>...</th>\n",
       "      <th>clear_rooms</th>\n",
       "      <th>clear_ceiling_height</th>\n",
       "      <th>clear_floors_total</th>\n",
       "      <th>clear_kitchen_area</th>\n",
       "      <th>clear_living_area</th>\n",
       "      <th>cost_per_square_meter</th>\n",
       "      <th>month_exposition</th>\n",
       "      <th>year_exposition</th>\n",
       "      <th>useful_area_coefficient</th>\n",
       "      <th>kitchen_area_coefficient</th>\n",
       "    </tr>\n",
       "  </thead>\n",
       "  <tbody>\n",
       "    <tr>\n",
       "      <td>count</td>\n",
       "      <td>22286.000000</td>\n",
       "      <td>2.228600e+04</td>\n",
       "      <td>22286.000000</td>\n",
       "      <td>22286.00000</td>\n",
       "      <td>22286.000000</td>\n",
       "      <td>17099.000000</td>\n",
       "      <td>22286.000000</td>\n",
       "      <td>17121.000000</td>\n",
       "      <td>7646.000000</td>\n",
       "      <td>17121.00000</td>\n",
       "      <td>...</td>\n",
       "      <td>22286.000000</td>\n",
       "      <td>13798.000000</td>\n",
       "      <td>22286.000000</td>\n",
       "      <td>22286.000000</td>\n",
       "      <td>22286.000000</td>\n",
       "      <td>2.228600e+04</td>\n",
       "      <td>22286.000000</td>\n",
       "      <td>22286.000000</td>\n",
       "      <td>22286.000000</td>\n",
       "      <td>22286.000000</td>\n",
       "    </tr>\n",
       "    <tr>\n",
       "      <td>mean</td>\n",
       "      <td>10.344611</td>\n",
       "      <td>6.609929e+06</td>\n",
       "      <td>60.954928</td>\n",
       "      <td>5.90402</td>\n",
       "      <td>0.594185</td>\n",
       "      <td>28788.522077</td>\n",
       "      <td>13855.225927</td>\n",
       "      <td>0.615443</td>\n",
       "      <td>491.147659</td>\n",
       "      <td>0.77221</td>\n",
       "      <td>...</td>\n",
       "      <td>2.088037</td>\n",
       "      <td>2.731607</td>\n",
       "      <td>10.671991</td>\n",
       "      <td>10.424064</td>\n",
       "      <td>36.389889</td>\n",
       "      <td>9.957953e+04</td>\n",
       "      <td>6.388764</td>\n",
       "      <td>2017.376873</td>\n",
       "      <td>0.586137</td>\n",
       "      <td>0.186063</td>\n",
       "    </tr>\n",
       "    <tr>\n",
       "      <td>std</td>\n",
       "      <td>5.393276</td>\n",
       "      <td>9.940295e+06</td>\n",
       "      <td>35.933370</td>\n",
       "      <td>4.88757</td>\n",
       "      <td>0.963871</td>\n",
       "      <td>12554.060980</td>\n",
       "      <td>7460.711877</td>\n",
       "      <td>0.804415</td>\n",
       "      <td>342.973201</td>\n",
       "      <td>0.94026</td>\n",
       "      <td>...</td>\n",
       "      <td>1.080956</td>\n",
       "      <td>0.292120</td>\n",
       "      <td>6.565834</td>\n",
       "      <td>5.697704</td>\n",
       "      <td>25.124008</td>\n",
       "      <td>4.933142e+04</td>\n",
       "      <td>3.489358</td>\n",
       "      <td>1.039357</td>\n",
       "      <td>0.119869</td>\n",
       "      <td>0.071060</td>\n",
       "    </tr>\n",
       "    <tr>\n",
       "      <td>min</td>\n",
       "      <td>1.000000</td>\n",
       "      <td>4.300000e+05</td>\n",
       "      <td>21.000000</td>\n",
       "      <td>1.00000</td>\n",
       "      <td>0.000000</td>\n",
       "      <td>6450.000000</td>\n",
       "      <td>181.000000</td>\n",
       "      <td>0.000000</td>\n",
       "      <td>1.000000</td>\n",
       "      <td>0.00000</td>\n",
       "      <td>...</td>\n",
       "      <td>0.000000</td>\n",
       "      <td>2.000000</td>\n",
       "      <td>1.000000</td>\n",
       "      <td>1.300000</td>\n",
       "      <td>14.000000</td>\n",
       "      <td>7.962000e+03</td>\n",
       "      <td>1.000000</td>\n",
       "      <td>2014.000000</td>\n",
       "      <td>0.160000</td>\n",
       "      <td>0.020000</td>\n",
       "    </tr>\n",
       "    <tr>\n",
       "      <td>25%</td>\n",
       "      <td>6.000000</td>\n",
       "      <td>3.480000e+06</td>\n",
       "      <td>40.500000</td>\n",
       "      <td>2.00000</td>\n",
       "      <td>0.000000</td>\n",
       "      <td>18626.000000</td>\n",
       "      <td>10885.000000</td>\n",
       "      <td>0.000000</td>\n",
       "      <td>288.000000</td>\n",
       "      <td>0.00000</td>\n",
       "      <td>...</td>\n",
       "      <td>1.000000</td>\n",
       "      <td>2.520000</td>\n",
       "      <td>5.000000</td>\n",
       "      <td>7.200000</td>\n",
       "      <td>19.500000</td>\n",
       "      <td>7.669675e+04</td>\n",
       "      <td>3.000000</td>\n",
       "      <td>2017.000000</td>\n",
       "      <td>0.500000</td>\n",
       "      <td>0.130000</td>\n",
       "    </tr>\n",
       "    <tr>\n",
       "      <td>50%</td>\n",
       "      <td>10.000000</td>\n",
       "      <td>4.700000e+06</td>\n",
       "      <td>52.600000</td>\n",
       "      <td>4.00000</td>\n",
       "      <td>0.000000</td>\n",
       "      <td>26766.000000</td>\n",
       "      <td>13098.000000</td>\n",
       "      <td>0.000000</td>\n",
       "      <td>455.000000</td>\n",
       "      <td>1.00000</td>\n",
       "      <td>...</td>\n",
       "      <td>2.000000</td>\n",
       "      <td>2.650000</td>\n",
       "      <td>9.000000</td>\n",
       "      <td>9.100000</td>\n",
       "      <td>31.000000</td>\n",
       "      <td>9.516100e+04</td>\n",
       "      <td>6.000000</td>\n",
       "      <td>2017.000000</td>\n",
       "      <td>0.580000</td>\n",
       "      <td>0.170000</td>\n",
       "    </tr>\n",
       "    <tr>\n",
       "      <td>75%</td>\n",
       "      <td>14.000000</td>\n",
       "      <td>6.857500e+06</td>\n",
       "      <td>70.000000</td>\n",
       "      <td>8.00000</td>\n",
       "      <td>1.000000</td>\n",
       "      <td>37243.000000</td>\n",
       "      <td>15194.250000</td>\n",
       "      <td>1.000000</td>\n",
       "      <td>612.000000</td>\n",
       "      <td>1.00000</td>\n",
       "      <td>...</td>\n",
       "      <td>3.000000</td>\n",
       "      <td>2.800000</td>\n",
       "      <td>16.000000</td>\n",
       "      <td>11.500000</td>\n",
       "      <td>43.500000</td>\n",
       "      <td>1.144252e+05</td>\n",
       "      <td>10.000000</td>\n",
       "      <td>2018.000000</td>\n",
       "      <td>0.660000</td>\n",
       "      <td>0.230000</td>\n",
       "    </tr>\n",
       "    <tr>\n",
       "      <td>max</td>\n",
       "      <td>50.000000</td>\n",
       "      <td>4.200000e+08</td>\n",
       "      <td>900.000000</td>\n",
       "      <td>33.00000</td>\n",
       "      <td>5.000000</td>\n",
       "      <td>84869.000000</td>\n",
       "      <td>65968.000000</td>\n",
       "      <td>3.000000</td>\n",
       "      <td>3190.000000</td>\n",
       "      <td>3.00000</td>\n",
       "      <td>...</td>\n",
       "      <td>19.000000</td>\n",
       "      <td>5.000000</td>\n",
       "      <td>35.000000</td>\n",
       "      <td>112.000000</td>\n",
       "      <td>571.000000</td>\n",
       "      <td>1.736842e+06</td>\n",
       "      <td>12.000000</td>\n",
       "      <td>2019.000000</td>\n",
       "      <td>1.000000</td>\n",
       "      <td>0.790000</td>\n",
       "    </tr>\n",
       "  </tbody>\n",
       "</table>\n",
       "<p>8 rows × 22 columns</p>\n",
       "</div>"
      ],
      "text/plain": [
       "       total_images    last_price    total_area        floor       balcony  \\\n",
       "count  22286.000000  2.228600e+04  22286.000000  22286.00000  22286.000000   \n",
       "mean      10.344611  6.609929e+06     60.954928      5.90402      0.594185   \n",
       "std        5.393276  9.940295e+06     35.933370      4.88757      0.963871   \n",
       "min        1.000000  4.300000e+05     21.000000      1.00000      0.000000   \n",
       "25%        6.000000  3.480000e+06     40.500000      2.00000      0.000000   \n",
       "50%       10.000000  4.700000e+06     52.600000      4.00000      0.000000   \n",
       "75%       14.000000  6.857500e+06     70.000000      8.00000      1.000000   \n",
       "max       50.000000  4.200000e+08    900.000000     33.00000      5.000000   \n",
       "\n",
       "       airports_nearest  clear_cityCenters_nearest  parks_around3000  \\\n",
       "count      17099.000000               22286.000000      17121.000000   \n",
       "mean       28788.522077               13855.225927          0.615443   \n",
       "std        12554.060980                7460.711877          0.804415   \n",
       "min         6450.000000                 181.000000          0.000000   \n",
       "25%        18626.000000               10885.000000          0.000000   \n",
       "50%        26766.000000               13098.000000          0.000000   \n",
       "75%        37243.000000               15194.250000          1.000000   \n",
       "max        84869.000000               65968.000000          3.000000   \n",
       "\n",
       "       parks_nearest  ponds_around3000  ...   clear_rooms  \\\n",
       "count    7646.000000       17121.00000  ...  22286.000000   \n",
       "mean      491.147659           0.77221  ...      2.088037   \n",
       "std       342.973201           0.94026  ...      1.080956   \n",
       "min         1.000000           0.00000  ...      0.000000   \n",
       "25%       288.000000           0.00000  ...      1.000000   \n",
       "50%       455.000000           1.00000  ...      2.000000   \n",
       "75%       612.000000           1.00000  ...      3.000000   \n",
       "max      3190.000000           3.00000  ...     19.000000   \n",
       "\n",
       "       clear_ceiling_height  clear_floors_total  clear_kitchen_area  \\\n",
       "count          13798.000000        22286.000000        22286.000000   \n",
       "mean               2.731607           10.671991           10.424064   \n",
       "std                0.292120            6.565834            5.697704   \n",
       "min                2.000000            1.000000            1.300000   \n",
       "25%                2.520000            5.000000            7.200000   \n",
       "50%                2.650000            9.000000            9.100000   \n",
       "75%                2.800000           16.000000           11.500000   \n",
       "max                5.000000           35.000000          112.000000   \n",
       "\n",
       "       clear_living_area  cost_per_square_meter  month_exposition  \\\n",
       "count       22286.000000           2.228600e+04      22286.000000   \n",
       "mean           36.389889           9.957953e+04          6.388764   \n",
       "std            25.124008           4.933142e+04          3.489358   \n",
       "min            14.000000           7.962000e+03          1.000000   \n",
       "25%            19.500000           7.669675e+04          3.000000   \n",
       "50%            31.000000           9.516100e+04          6.000000   \n",
       "75%            43.500000           1.144252e+05         10.000000   \n",
       "max           571.000000           1.736842e+06         12.000000   \n",
       "\n",
       "       year_exposition  useful_area_coefficient  kitchen_area_coefficient  \n",
       "count     22286.000000             22286.000000              22286.000000  \n",
       "mean       2017.376873                 0.586137                  0.186063  \n",
       "std           1.039357                 0.119869                  0.071060  \n",
       "min        2014.000000                 0.160000                  0.020000  \n",
       "25%        2017.000000                 0.500000                  0.130000  \n",
       "50%        2017.000000                 0.580000                  0.170000  \n",
       "75%        2018.000000                 0.660000                  0.230000  \n",
       "max        2019.000000                 1.000000                  0.790000  \n",
       "\n",
       "[8 rows x 22 columns]"
      ]
     },
     "metadata": {},
     "output_type": "display_data"
    }
   ],
   "source": [
    "#проверим столбцы\n",
    "print(data.info())\n",
    "# проверим характериные значения\n",
    "display(data.describe())"
   ]
  },
  {
   "cell_type": "markdown",
   "metadata": {},
   "source": [
    "В целом данные стали ровнее. Выбросов стало меньше."
   ]
  },
  {
   "cell_type": "markdown",
   "metadata": {},
   "source": [
    "### Ответим на вопрос исследования: \"Какие факторы больше всего влияют на стоимость квартиры? \n",
    "зависит ли цена от квадратного метра, числа комнат, этажа (первого или последнего), удалённости от центра."
   ]
  },
  {
   "cell_type": "code",
   "execution_count": 188,
   "metadata": {},
   "outputs": [
    {
     "data": {
      "text/html": [
       "<div>\n",
       "<style scoped>\n",
       "    .dataframe tbody tr th:only-of-type {\n",
       "        vertical-align: middle;\n",
       "    }\n",
       "\n",
       "    .dataframe tbody tr th {\n",
       "        vertical-align: top;\n",
       "    }\n",
       "\n",
       "    .dataframe thead th {\n",
       "        text-align: right;\n",
       "    }\n",
       "</style>\n",
       "<table border=\"1\" class=\"dataframe\">\n",
       "  <thead>\n",
       "    <tr style=\"text-align: right;\">\n",
       "      <th></th>\n",
       "      <th>last_price</th>\n",
       "      <th>total_area</th>\n",
       "      <th>clear_rooms</th>\n",
       "      <th>clear_cityCenters_nearest</th>\n",
       "    </tr>\n",
       "  </thead>\n",
       "  <tbody>\n",
       "    <tr>\n",
       "      <td>count</td>\n",
       "      <td>2.230600e+04</td>\n",
       "      <td>22306.000000</td>\n",
       "      <td>22306.000000</td>\n",
       "      <td>22306.000000</td>\n",
       "    </tr>\n",
       "    <tr>\n",
       "      <td>mean</td>\n",
       "      <td>6.639829e+06</td>\n",
       "      <td>60.938933</td>\n",
       "      <td>2.087017</td>\n",
       "      <td>13853.757061</td>\n",
       "    </tr>\n",
       "    <tr>\n",
       "      <td>std</td>\n",
       "      <td>1.115299e+07</td>\n",
       "      <td>36.009514</td>\n",
       "      <td>1.081940</td>\n",
       "      <td>7459.347617</td>\n",
       "    </tr>\n",
       "    <tr>\n",
       "      <td>min</td>\n",
       "      <td>1.219000e+04</td>\n",
       "      <td>17.780000</td>\n",
       "      <td>0.000000</td>\n",
       "      <td>181.000000</td>\n",
       "    </tr>\n",
       "    <tr>\n",
       "      <td>25%</td>\n",
       "      <td>3.480000e+06</td>\n",
       "      <td>40.400000</td>\n",
       "      <td>1.000000</td>\n",
       "      <td>10885.000000</td>\n",
       "    </tr>\n",
       "    <tr>\n",
       "      <td>50%</td>\n",
       "      <td>4.700000e+06</td>\n",
       "      <td>52.600000</td>\n",
       "      <td>2.000000</td>\n",
       "      <td>13098.000000</td>\n",
       "    </tr>\n",
       "    <tr>\n",
       "      <td>75%</td>\n",
       "      <td>6.850000e+06</td>\n",
       "      <td>70.000000</td>\n",
       "      <td>3.000000</td>\n",
       "      <td>15189.750000</td>\n",
       "    </tr>\n",
       "    <tr>\n",
       "      <td>max</td>\n",
       "      <td>7.630000e+08</td>\n",
       "      <td>900.000000</td>\n",
       "      <td>19.000000</td>\n",
       "      <td>65968.000000</td>\n",
       "    </tr>\n",
       "  </tbody>\n",
       "</table>\n",
       "</div>"
      ],
      "text/plain": [
       "         last_price    total_area   clear_rooms  clear_cityCenters_nearest\n",
       "count  2.230600e+04  22306.000000  22306.000000               22306.000000\n",
       "mean   6.639829e+06     60.938933      2.087017               13853.757061\n",
       "std    1.115299e+07     36.009514      1.081940                7459.347617\n",
       "min    1.219000e+04     17.780000      0.000000                 181.000000\n",
       "25%    3.480000e+06     40.400000      1.000000               10885.000000\n",
       "50%    4.700000e+06     52.600000      2.000000               13098.000000\n",
       "75%    6.850000e+06     70.000000      3.000000               15189.750000\n",
       "max    7.630000e+08    900.000000     19.000000               65968.000000"
      ]
     },
     "execution_count": 188,
     "metadata": {},
     "output_type": "execute_result"
    }
   ],
   "source": [
    "#сделаем сводную таблицу и матрицу рассеяния\n",
    "important_price_factor_1 = data[['last_price', 'total_area', 'clear_rooms','first_and_last_floor','clear_cityCenters_nearest']]\n",
    "important_price_factor_1.describe()"
   ]
  },
  {
   "cell_type": "markdown",
   "metadata": {},
   "source": [
    "Не получается вывести столбец first_and_last_floor. Приведем его к числовому виду, для обработки. Установим первый этаж как 1, не первый и не последний как 2 и последний как 3"
   ]
  },
  {
   "cell_type": "code",
   "execution_count": 189,
   "metadata": {},
   "outputs": [
    {
     "name": "stdout",
     "output_type": "stream",
     "text": [
      "другой       16466\n",
      "последний     3152\n",
      "первый        2688\n",
      "Name: first_and_last_floor, dtype: int64\n",
      "2    16466\n",
      "3     3152\n",
      "1     2688\n",
      "Name: first_and_last_floor, dtype: int64\n"
     ]
    },
    {
     "name": "stderr",
     "output_type": "stream",
     "text": [
      "C:\\Users\\Igor\\anaconda3\\envs\\praktikum\\lib\\site-packages\\ipykernel_launcher.py:3: SettingWithCopyWarning: \n",
      "A value is trying to be set on a copy of a slice from a DataFrame.\n",
      "Try using .loc[row_indexer,col_indexer] = value instead\n",
      "\n",
      "See the caveats in the documentation: http://pandas.pydata.org/pandas-docs/stable/user_guide/indexing.html#returning-a-view-versus-a-copy\n",
      "  This is separate from the ipykernel package so we can avoid doing imports until\n",
      "C:\\Users\\Igor\\anaconda3\\envs\\praktikum\\lib\\site-packages\\ipykernel_launcher.py:4: SettingWithCopyWarning: \n",
      "A value is trying to be set on a copy of a slice from a DataFrame.\n",
      "Try using .loc[row_indexer,col_indexer] = value instead\n",
      "\n",
      "See the caveats in the documentation: http://pandas.pydata.org/pandas-docs/stable/user_guide/indexing.html#returning-a-view-versus-a-copy\n",
      "  after removing the cwd from sys.path.\n",
      "C:\\Users\\Igor\\anaconda3\\envs\\praktikum\\lib\\site-packages\\ipykernel_launcher.py:5: SettingWithCopyWarning: \n",
      "A value is trying to be set on a copy of a slice from a DataFrame.\n",
      "Try using .loc[row_indexer,col_indexer] = value instead\n",
      "\n",
      "See the caveats in the documentation: http://pandas.pydata.org/pandas-docs/stable/user_guide/indexing.html#returning-a-view-versus-a-copy\n",
      "  \"\"\"\n"
     ]
    }
   ],
   "source": [
    "#Преобразуем столбец\n",
    "print(data['first_and_last_floor'].value_counts(dropna=False,ascending=False))\n",
    "important_price_factor_1['first_and_last_floor'] = important_price_factor_1['first_and_last_floor'].replace('первый', 1)\n",
    "important_price_factor_1['first_and_last_floor'] = important_price_factor_1['first_and_last_floor'].replace('другой', 2)\n",
    "important_price_factor_1['first_and_last_floor'] = important_price_factor_1['first_and_last_floor'].replace('последний', 3)\n",
    "print(important_price_factor_1['first_and_last_floor'].value_counts(dropna=False,ascending=False))"
   ]
  },
  {
   "cell_type": "markdown",
   "metadata": {},
   "source": [
    "Построим и изучим матрицу рассеяния и матрицу корреляции"
   ]
  },
  {
   "cell_type": "code",
   "execution_count": 190,
   "metadata": {
    "scrolled": true
   },
   "outputs": [
    {
     "data": {
      "text/plain": [
       "<seaborn.axisgrid.PairGrid at 0x1242c4cdf88>"
      ]
     },
     "execution_count": 190,
     "metadata": {},
     "output_type": "execute_result"
    },
    {
     "data": {
      "image/png": "[encoded data removed]",
      "text/plain": [
       "<Figure size 900x900 with 30 Axes>"
      ]
     },
     "metadata": {
      "needs_background": "light"
     },
     "output_type": "display_data"
    }
   ],
   "source": [
    "sns.pairplot(important_price_factor_1)"
   ]
  },
  {
   "cell_type": "code",
   "execution_count": 191,
   "metadata": {},
   "outputs": [
    {
     "name": "stdout",
     "output_type": "stream",
     "text": [
      "                           last_price  total_area  clear_rooms  \\\n",
      "last_price                   1.000000    0.653989     0.361918   \n",
      "total_area                   0.653989    1.000000     0.755959   \n",
      "clear_rooms                  0.361918    0.755959     1.000000   \n",
      "first_and_last_floor         0.057717    0.065701     0.028094   \n",
      "clear_cityCenters_nearest   -0.192408   -0.214066    -0.165788   \n",
      "\n",
      "                           first_and_last_floor  clear_cityCenters_nearest  \n",
      "last_price                             0.057717                  -0.192408  \n",
      "total_area                             0.065701                  -0.214066  \n",
      "clear_rooms                            0.028094                  -0.165788  \n",
      "first_and_last_floor                   1.000000                  -0.022083  \n",
      "clear_cityCenters_nearest             -0.022083                   1.000000  \n"
     ]
    }
   ],
   "source": [
    "print(important_price_factor_1.corr())"
   ]
  },
  {
   "cell_type": "markdown",
   "metadata": {},
   "source": [
    "Итак, стоимость квартиры очень сильно зависит от её размера, это логично, так как во многом связано со стоимостью квадратного метра, чем больше площадь квартиры, тем больше цена на неё. Так-же очевидно, что количество комнат зависит от площади квартиры :-), чем больше площадь, тем больше комнат. Очевидно, что квартиры находящиеся более чем в 10 км от центра резко падают в цене. Также квартиры на первом этаже дешевле, чем другие, а самые дорогие те, которые расположены не на первом и не на последнем этаже. При этом есть сверхдорогие выбросы квартир на последнем этаже. Судя по всему это многоэтажные пентхаусы. "
   ]
  },
  {
   "cell_type": "markdown",
   "metadata": {},
   "source": [
    "### Давайте рассмотрим зависимость стоимости продажи от даты размещения: дня недели, месяца и года. "
   ]
  },
  {
   "cell_type": "code",
   "execution_count": 192,
   "metadata": {},
   "outputs": [
    {
     "data": {
      "text/plain": [
       "array([[<matplotlib.axes._subplots.AxesSubplot object at 0x000001242C9614C8>,\n",
       "        <matplotlib.axes._subplots.AxesSubplot object at 0x000001242C98E5C8>,\n",
       "        <matplotlib.axes._subplots.AxesSubplot object at 0x000001242C9A6888>],\n",
       "       [<matplotlib.axes._subplots.AxesSubplot object at 0x000001242C9DE188>,\n",
       "        <matplotlib.axes._subplots.AxesSubplot object at 0x000001242CA15B48>,\n",
       "        <matplotlib.axes._subplots.AxesSubplot object at 0x000001242CA4F488>],\n",
       "       [<matplotlib.axes._subplots.AxesSubplot object at 0x000001242CAC4E48>,\n",
       "        <matplotlib.axes._subplots.AxesSubplot object at 0x000001242CAFDF48>,\n",
       "        <matplotlib.axes._subplots.AxesSubplot object at 0x000001242D0A8B48>]],\n",
       "      dtype=object)"
      ]
     },
     "execution_count": 192,
     "metadata": {},
     "output_type": "execute_result"
    },
    {
     "data": {
      "image/png": "[encoded data removed]",
      "text/plain": [
       "<Figure size 648x648 with 9 Axes>"
      ]
     },
     "metadata": {
      "needs_background": "light"
     },
     "output_type": "display_data"
    }
   ],
   "source": [
    "important_price_factor_2 = data[['last_price', 'weekday_name_exposition','month_exposition', 'year_exposition']]\n",
    "pd.plotting.scatter_matrix(important_price_factor_2, figsize=(9, 9)) "
   ]
  },
  {
   "cell_type": "code",
   "execution_count": 193,
   "metadata": {},
   "outputs": [
    {
     "name": "stdout",
     "output_type": "stream",
     "text": [
      "                  last_price  month_exposition  year_exposition\n",
      "last_price          1.000000          0.002264        -0.043649\n",
      "month_exposition    0.002264          1.000000        -0.268969\n",
      "year_exposition    -0.043649         -0.268969         1.000000\n"
     ]
    }
   ],
   "source": [
    "print(important_price_factor_2.corr())"
   ]
  },
  {
   "cell_type": "markdown",
   "metadata": {},
   "source": [
    "Цена продажи никак не связана с временем размещения объявления"
   ]
  },
  {
   "cell_type": "markdown",
   "metadata": {},
   "source": [
    "### Ответим на вопрос: \"Выберите 10 населённых пунктов с наибольшим числом объявлений. Посчитайте среднюю цену квадратного метра в этих населённых пунктах. Выделите населённые пункты с самой высокой и низкой стоимостью жилья\""
   ]
  },
  {
   "cell_type": "code",
   "execution_count": 194,
   "metadata": {},
   "outputs": [
    {
     "name": "stdout",
     "output_type": "stream",
     "text": [
      "       locality_name  cost_per_square_meter\n",
      "0    Санкт-Петербург                  14929\n",
      "1     посёлок Мурино                    487\n",
      "2     посёлок Шушары                    405\n",
      "3         Всеволожск                    378\n",
      "4             Пушкин                    344\n",
      "5  посёлок Парголово                    296\n",
      "6            Колпино                    295\n",
      "7            Гатчина                    295\n",
      "8    деревня Кудрово                    275\n",
      "9             Выборг                    228\n"
     ]
    }
   ],
   "source": [
    "# сгруппируем и отсортируем населенные пункты по количеству объявлений, выберем десять населенных пунктов \n",
    "# с максимальным количеством объявлений\n",
    "\n",
    "local_price = (data.pivot_table(index='locality_name', values='cost_per_square_meter', aggfunc='count')\n",
    "    .sort_values(by='cost_per_square_meter', ascending=False).head(10).reset_index())\n",
    "print(local_price)"
   ]
  },
  {
   "cell_type": "code",
   "execution_count": 195,
   "metadata": {},
   "outputs": [
    {
     "data": {
      "text/html": [
       "<div>\n",
       "<style scoped>\n",
       "    .dataframe tbody tr th:only-of-type {\n",
       "        vertical-align: middle;\n",
       "    }\n",
       "\n",
       "    .dataframe tbody tr th {\n",
       "        vertical-align: top;\n",
       "    }\n",
       "\n",
       "    .dataframe thead th {\n",
       "        text-align: right;\n",
       "    }\n",
       "</style>\n",
       "<table border=\"1\" class=\"dataframe\">\n",
       "  <thead>\n",
       "    <tr style=\"text-align: right;\">\n",
       "      <th></th>\n",
       "      <th>locality_name</th>\n",
       "      <th>cost_per_square_meter</th>\n",
       "    </tr>\n",
       "  </thead>\n",
       "  <tbody>\n",
       "    <tr>\n",
       "      <td>0</td>\n",
       "      <td>Санкт-Петербург</td>\n",
       "      <td>114953</td>\n",
       "    </tr>\n",
       "    <tr>\n",
       "      <td>4</td>\n",
       "      <td>Пушкин</td>\n",
       "      <td>103790</td>\n",
       "    </tr>\n",
       "    <tr>\n",
       "      <td>8</td>\n",
       "      <td>деревня Кудрово</td>\n",
       "      <td>92405</td>\n",
       "    </tr>\n",
       "    <tr>\n",
       "      <td>5</td>\n",
       "      <td>посёлок Парголово</td>\n",
       "      <td>89322</td>\n",
       "    </tr>\n",
       "    <tr>\n",
       "      <td>1</td>\n",
       "      <td>посёлок Мурино</td>\n",
       "      <td>85546</td>\n",
       "    </tr>\n",
       "    <tr>\n",
       "      <td>2</td>\n",
       "      <td>посёлок Шушары</td>\n",
       "      <td>78356</td>\n",
       "    </tr>\n",
       "    <tr>\n",
       "      <td>6</td>\n",
       "      <td>Колпино</td>\n",
       "      <td>75593</td>\n",
       "    </tr>\n",
       "    <tr>\n",
       "      <td>3</td>\n",
       "      <td>Всеволожск</td>\n",
       "      <td>68810</td>\n",
       "    </tr>\n",
       "    <tr>\n",
       "      <td>7</td>\n",
       "      <td>Гатчина</td>\n",
       "      <td>68687</td>\n",
       "    </tr>\n",
       "    <tr>\n",
       "      <td>9</td>\n",
       "      <td>Выборг</td>\n",
       "      <td>57942</td>\n",
       "    </tr>\n",
       "  </tbody>\n",
       "</table>\n",
       "</div>"
      ],
      "text/plain": [
       "       locality_name  cost_per_square_meter\n",
       "0    Санкт-Петербург                 114953\n",
       "4             Пушкин                 103790\n",
       "8    деревня Кудрово                  92405\n",
       "5  посёлок Парголово                  89322\n",
       "1     посёлок Мурино                  85546\n",
       "2     посёлок Шушары                  78356\n",
       "6            Колпино                  75593\n",
       "3         Всеволожск                  68810\n",
       "7            Гатчина                  68687\n",
       "9             Выборг                  57942"
      ]
     },
     "execution_count": 195,
     "metadata": {},
     "output_type": "execute_result"
    }
   ],
   "source": [
    "#Посчитаем среднюю стоимость квадратного метра в этих населенных пунктах\n",
    "local_10_name = []\n",
    "local_10_square = []\n",
    "\n",
    "for i in local_price['locality_name']:\n",
    "    local_10_name.append(i)\n",
    "    local_10_square.append(data[data['locality_name'] == i]['cost_per_square_meter'].mean().astype('int'))\n",
    "\n",
    "local_square_tab = pd.DataFrame({'locality_name': local_10_name,'cost_per_square_meter': local_10_square})\n",
    "\n",
    "local_square_tab.sort_values(by='cost_per_square_meter',ascending=False)"
   ]
  },
  {
   "cell_type": "markdown",
   "metadata": {},
   "source": [
    "Из всех населенных пунктов, самую большую цену квадратного метра имеет Санкт-Петербург. Интересно, что цена квадратного метра квартиры в Пушкине, который находится относительно далеко от СПб, превышает цены в фактически являющимися пригородами СПб Кудрово, Мурино и Шушарах. Минимальная цена за квадратный метр в Выборге. Возможно это связано с удаленностью Выборга от СПб."
   ]
  },
  {
   "cell_type": "markdown",
   "metadata": {},
   "source": [
    "### Определение и изучение квартир в центре Санкт-Петербурга\n",
    "\n",
    "Выясним, какая область входит в центр (предполагаю, что те 10 км, которые очень влияют на цену квадратного метра). Для ответа на вопрос создадим столбец с расстоянием до центра в километрах и посчитаем среднюю цену для каждого километра. Построим график и определим границу, где график сильно меняется — это и будет центральная зона."
   ]
  },
  {
   "cell_type": "code",
   "execution_count": 196,
   "metadata": {},
   "outputs": [
    {
     "name": "stdout",
     "output_type": "stream",
     "text": [
      "    km_from_center  cost_per_square_meter\n",
      "0                0          191191.234568\n",
      "1                1          168424.172566\n",
      "2                6          152901.466814\n",
      "3                2          148324.600683\n",
      "4                5          146072.347411\n",
      "5                7          142326.525510\n",
      "6                4          137345.936709\n",
      "7               27          132115.000000\n",
      "8                3          128933.007874\n",
      "9                8          120120.748823\n",
      "10              10          111918.119678\n",
      "11               9          109839.699695\n",
      "12              13          108997.580014\n",
      "13              12          108398.999310\n",
      "14              20          107423.573171\n",
      "15              11          106758.736684\n",
      "16              14          105076.371964\n",
      "17              15          101884.615981\n",
      "18              16          100211.366412\n",
      "19              18           95673.681529\n",
      "20              17           93846.774131\n",
      "21              19           93267.080000\n",
      "22              23           91447.275862\n",
      "23              25           90991.090909\n",
      "24              21           90934.893048\n",
      "25              22           87946.244275\n",
      "26              24           82439.909091\n",
      "27              28           79687.250000\n",
      "28              26           75171.333333\n",
      "29              31           64029.500000\n",
      "30              29           62481.666667\n"
     ]
    },
    {
     "data": {
      "text/plain": [
       "<matplotlib.axes._subplots.AxesSubplot at 0x1242d277808>"
      ]
     },
     "execution_count": 196,
     "metadata": {},
     "output_type": "execute_result"
    },
    {
     "data": {
      "image/png": "[encoded data removed]",
      "text/plain": [
       "<Figure size 432x288 with 1 Axes>"
      ]
     },
     "metadata": {
      "needs_background": "light"
     },
     "output_type": "display_data"
    }
   ],
   "source": [
    "# округлим расстояние до километров\n",
    "\n",
    "data['km_from_center'] = data['clear_cityCenters_nearest'] / 1000\n",
    "data['km_from_center'] = data['km_from_center'].astype('int')\n",
    "\n",
    "# отберем значения для построения графика\n",
    "in_spb = data.query('locality_name == \"Санкт-Петербург\"')\n",
    "\n",
    "cityCenter_price_per_km = (\n",
    "    in_spb.pivot_table(index='km_from_center', values='cost_per_square_meter', aggfunc='mean')\n",
    "    .sort_values(by='cost_per_square_meter', ascending=False).reset_index())\n",
    "\n",
    "# проверим что получилось\n",
    "print(cityCenter_price_per_km)\n",
    "\n",
    "# и построим график\n",
    "cityCenter_price_per_km.sort_values('km_from_center').plot(\n",
    "    x='km_from_center', y='cost_per_square_meter', grid=True,\n",
    "    title='Влияние расстояния до центра на стоимость квартиры') "
   ]
  },
  {
   "cell_type": "markdown",
   "metadata": {},
   "source": [
    "На графике видно три пика стоимости. Первый, это сам центр, примерно радусом 3,5 км. Второй пик - около 7 км от центра, это реконструируемый \"серый пояс\", когда бывшие фабрики переделываются под высококачественное жильё. И третий пик - около 30 км, это скорее всего высококачественное жильё практически за городом, скорее всего в Курортном районе Санкт-Петербурга. Границей центра СПб, я обозначу расстояние в 3,5 км."
   ]
  },
  {
   "cell_type": "markdown",
   "metadata": {},
   "source": [
    "### Изучим квартиры в центре Санкт-Петербурга\n",
    "Рассмотрим характерные особенности: площадь, цену, число комнат и высоту потолков. \n",
    "Проанализируем от чего зависит цена квартиры"
   ]
  },
  {
   "cell_type": "code",
   "execution_count": 197,
   "metadata": {},
   "outputs": [
    {
     "name": "stdout",
     "output_type": "stream",
     "text": [
      "<class 'pandas.core.frame.DataFrame'>\n",
      "Int64Index: 1108 entries, 22 to 22259\n",
      "Data columns (total 30 columns):\n",
      "total_images                 1108 non-null int64\n",
      "last_price                   1108 non-null int32\n",
      "total_area                   1108 non-null float64\n",
      "first_day_exposition         1108 non-null datetime64[ns]\n",
      "floor                        1108 non-null int64\n",
      "is_apartment                 143 non-null object\n",
      "studio                       1108 non-null bool\n",
      "open_plan                    1108 non-null bool\n",
      "balcony                      1108 non-null float64\n",
      "locality_name                1108 non-null object\n",
      "airports_nearest             1108 non-null float64\n",
      "clear_cityCenters_nearest    1108 non-null int32\n",
      "parks_around3000             1108 non-null float64\n",
      "parks_nearest                795 non-null float64\n",
      "ponds_around3000             1108 non-null float64\n",
      "ponds_nearest                953 non-null float64\n",
      "days_exposition              898 non-null float64\n",
      "clear_rooms                  1108 non-null int64\n",
      "clear_ceiling_height         1108 non-null float64\n",
      "clear_floors_total           1108 non-null int32\n",
      "clear_kitchen_area           1108 non-null float64\n",
      "clear_living_area            1108 non-null float64\n",
      "cost_per_square_meter        1108 non-null int32\n",
      "month_exposition             1108 non-null int64\n",
      "year_exposition              1108 non-null int64\n",
      "weekday_name_exposition      1108 non-null object\n",
      "first_and_last_floor         1108 non-null object\n",
      "useful_area_coefficient      1108 non-null float64\n",
      "kitchen_area_coefficient     1108 non-null float64\n",
      "km_from_center               1108 non-null int32\n",
      "dtypes: bool(2), datetime64[ns](1), float64(13), int32(5), int64(5), object(4)\n",
      "memory usage: 231.6+ KB\n"
     ]
    }
   ],
   "source": [
    "#выделим выборку по центру\n",
    "spb_center = data.query('locality_name == \"Санкт-Петербург\" and km_from_center < 3.5')\n",
    "spb_center.info()"
   ]
  },
  {
   "cell_type": "markdown",
   "metadata": {},
   "source": [
    "В центре СПб предлагается чуть более тысячи квартир. \n",
    "\n",
    "#### Какова обычная площадь подобных предложений?"
   ]
  },
  {
   "cell_type": "code",
   "execution_count": 203,
   "metadata": {},
   "outputs": [
    {
     "data": {
      "text/plain": [
       "count    1108.000000\n",
       "mean       98.685397\n",
       "std        56.071620\n",
       "min        21.000000\n",
       "25%        63.225000\n",
       "50%        85.100000\n",
       "75%       116.700000\n",
       "max       517.000000\n",
       "Name: total_area, dtype: float64"
      ]
     },
     "execution_count": 203,
     "metadata": {},
     "output_type": "execute_result"
    },
    {
     "data": {
      "image/png": "[encoded data removed]",
      "text/plain": [
       "<Figure size 432x288 with 1 Axes>"
      ]
     },
     "metadata": {
      "needs_background": "light"
     },
     "output_type": "display_data"
    }
   ],
   "source": [
    "spb_center['total_area'].plot.hist(bins=10, grid=True)\n",
    "spb_center['total_area'].describe()"
   ]
  },
  {
   "cell_type": "markdown",
   "metadata": {},
   "source": [
    "Площадь квартир предлагаемых в центре СПб значительно больше квартир предлагаемых за пределами центра. Похоже почти все выбросы по площади квартир сосредоточены здесь. Половина квартир предлагаемых в центре имеет площадь около 100 кв. м. Это примерно в два раза больше медианной площади предлагаемых всего квартир. \n",
    "\n",
    "#### Рассмотрим ценовые предложения\n",
    "Для удобства переведем цены в миллионы рублей"
   ]
  },
  {
   "cell_type": "code",
   "execution_count": 205,
   "metadata": {},
   "outputs": [
    {
     "data": {
      "text/plain": [
       "count    1108.000000\n",
       "mean       16.358796\n",
       "std        33.596201\n",
       "min         2.176000\n",
       "25%         7.200000\n",
       "50%         9.675000\n",
       "75%        14.550000\n",
       "max       763.000000\n",
       "Name: last_price, dtype: float64"
      ]
     },
     "execution_count": 205,
     "metadata": {},
     "output_type": "execute_result"
    },
    {
     "data": {
      "image/png": "[encoded data removed]",
      "text/plain": [
       "<Figure size 432x288 with 1 Axes>"
      ]
     },
     "metadata": {
      "needs_background": "light"
     },
     "output_type": "display_data"
    }
   ],
   "source": [
    "price_for_spb_center = spb_center['last_price'] / 1000000\n",
    "price_for_spb_center.plot.hist(bins=400, xlim=(0, 100), grid=True)\n",
    "price_for_spb_center.describe()"
   ]
  },
  {
   "cell_type": "markdown",
   "metadata": {},
   "source": [
    "Половина квартир в центре стоит чуть больше 9,5 млн. рублей. При этом сдвиг в большую сторону средней цены в центре вызвана небольшим количеством крайне дорогих и больших квартир.\n",
    "\n",
    "#### Рассмотрим какое количество комнат в квартирах центра СПб"
   ]
  },
  {
   "cell_type": "code",
   "execution_count": 208,
   "metadata": {},
   "outputs": [
    {
     "data": {
      "text/plain": [
       "count    1108.000000\n",
       "mean        3.132671\n",
       "std         1.566213\n",
       "min         0.000000\n",
       "25%         2.000000\n",
       "50%         3.000000\n",
       "75%         4.000000\n",
       "max        19.000000\n",
       "Name: clear_rooms, dtype: float64"
      ]
     },
     "execution_count": 208,
     "metadata": {},
     "output_type": "execute_result"
    },
    {
     "data": {
      "image/png": "[encoded data removed]",
      "text/plain": [
       "<Figure size 432x288 with 1 Axes>"
      ]
     },
     "metadata": {
      "needs_background": "light"
     },
     "output_type": "display_data"
    }
   ],
   "source": [
    "spb_center['clear_rooms'].plot.hist(bins=20, grid=True)\n",
    "spb_center['clear_rooms'].describe()"
   ]
  },
  {
   "cell_type": "markdown",
   "metadata": {},
   "source": [
    "Очевидно, что в квартирах расположенных в центре СПб большее количество комнат чем в среднем по городу. Это связано и с большей площадью квартир и с тем, что в \"старом фонде\" возможно не соблюдать современные нормы по площадям комнат \n",
    "\n",
    "#### Рассмотрим высоту потолков в квартирах предлагаемых в центре"
   ]
  },
  {
   "cell_type": "code",
   "execution_count": 210,
   "metadata": {},
   "outputs": [
    {
     "data": {
      "text/plain": [
       "count    1108.000000\n",
       "mean        3.033899\n",
       "std         0.403532\n",
       "min         2.450000\n",
       "25%         2.650000\n",
       "50%         3.000000\n",
       "75%         3.300000\n",
       "max         5.000000\n",
       "Name: clear_ceiling_height, dtype: float64"
      ]
     },
     "execution_count": 210,
     "metadata": {},
     "output_type": "execute_result"
    },
    {
     "data": {
      "image/png": "[encoded data removed]",
      "text/plain": [
       "<Figure size 432x288 with 1 Axes>"
      ]
     },
     "metadata": {
      "needs_background": "light"
     },
     "output_type": "display_data"
    }
   ],
   "source": [
    "spb_center['clear_ceiling_height'].plot.hist(bins=5, grid=True)\n",
    "spb_center['clear_ceiling_height'].describe()"
   ]
  },
  {
   "cell_type": "markdown",
   "metadata": {},
   "source": [
    "Потолки в центре СПб в среднем выше, чем вне центра. Обычная их высота 3 м с большим количеством более высоких вариантов. Это вполне соответсвует реальности. В целом, несмотря на то, что я ограничил высоту потолков 5 м, я сам видел однокомнатную квартиру площадью окло 100 м2 с высотой потолков в 8 м."
   ]
  },
  {
   "cell_type": "markdown",
   "metadata": {},
   "source": [
    "#### Исследуем факторы, которые могут иметь влияние на стоимость квартиры для центра СПб\n",
    "Проверим как число комнат, этаж, удалённость от центра, дата размещения объявления влияют на цену\n",
    "Создадим нужную нам выборку, сделаем матрицу корреляции и матрицу распределения"
   ]
  },
  {
   "cell_type": "code",
   "execution_count": 219,
   "metadata": {
    "scrolled": true
   },
   "outputs": [
    {
     "name": "stderr",
     "output_type": "stream",
     "text": [
      "C:\\Users\\Igor\\anaconda3\\envs\\praktikum\\lib\\site-packages\\ipykernel_launcher.py:4: SettingWithCopyWarning: \n",
      "A value is trying to be set on a copy of a slice from a DataFrame.\n",
      "Try using .loc[row_indexer,col_indexer] = value instead\n",
      "\n",
      "See the caveats in the documentation: http://pandas.pydata.org/pandas-docs/stable/user_guide/indexing.html#returning-a-view-versus-a-copy\n",
      "  after removing the cwd from sys.path.\n",
      "C:\\Users\\Igor\\anaconda3\\envs\\praktikum\\lib\\site-packages\\ipykernel_launcher.py:5: SettingWithCopyWarning: \n",
      "A value is trying to be set on a copy of a slice from a DataFrame.\n",
      "Try using .loc[row_indexer,col_indexer] = value instead\n",
      "\n",
      "See the caveats in the documentation: http://pandas.pydata.org/pandas-docs/stable/user_guide/indexing.html#returning-a-view-versus-a-copy\n",
      "  \"\"\"\n",
      "C:\\Users\\Igor\\anaconda3\\envs\\praktikum\\lib\\site-packages\\ipykernel_launcher.py:6: SettingWithCopyWarning: \n",
      "A value is trying to be set on a copy of a slice from a DataFrame.\n",
      "Try using .loc[row_indexer,col_indexer] = value instead\n",
      "\n",
      "See the caveats in the documentation: http://pandas.pydata.org/pandas-docs/stable/user_guide/indexing.html#returning-a-view-versus-a-copy\n",
      "  \n"
     ]
    },
    {
     "data": {
      "text/plain": [
       "array([[<matplotlib.axes._subplots.AxesSubplot object at 0x0000012431C20048>,\n",
       "        <matplotlib.axes._subplots.AxesSubplot object at 0x0000012431C41348>,\n",
       "        <matplotlib.axes._subplots.AxesSubplot object at 0x0000012431C77D48>],\n",
       "       [<matplotlib.axes._subplots.AxesSubplot object at 0x0000012431CB1C48>,\n",
       "        <matplotlib.axes._subplots.AxesSubplot object at 0x0000012431CEAD48>,\n",
       "        <matplotlib.axes._subplots.AxesSubplot object at 0x0000012431D22E88>],\n",
       "       [<matplotlib.axes._subplots.AxesSubplot object at 0x0000012431D5BF08>,\n",
       "        <matplotlib.axes._subplots.AxesSubplot object at 0x0000012431D97048>,\n",
       "        <matplotlib.axes._subplots.AxesSubplot object at 0x0000012431D9DC08>]],\n",
       "      dtype=object)"
      ]
     },
     "execution_count": 219,
     "metadata": {},
     "output_type": "execute_result"
    },
    {
     "data": {
      "image/png": "[encoded data removed]",
      "text/plain": [
       "<Figure size 720x720 with 25 Axes>"
      ]
     },
     "metadata": {
      "needs_background": "light"
     },
     "output_type": "display_data"
    },
    {
     "data": {
      "image/png": "[encoded data removed]",
      "text/plain": [
       "<Figure size 648x648 with 9 Axes>"
      ]
     },
     "metadata": {
      "needs_background": "light"
     },
     "output_type": "display_data"
    }
   ],
   "source": [
    "\n",
    "important_center_price_factor = spb_center[['last_price', 'total_area', 'clear_rooms','first_and_last_floor','km_from_center']]\n",
    "\n",
    "# снова подготовим столбец first_and_last_floor к сравнению\n",
    "important_center_price_factor['first_and_last_floor'] = important_center_price_factor['first_and_last_floor'].replace('первый', 1)\n",
    "important_center_price_factor['first_and_last_floor'] = important_center_price_factor['first_and_last_floor'].replace('другой', 2)\n",
    "important_center_price_factor['first_and_last_floor'] = important_center_price_factor['first_and_last_floor'].replace('последний', 3)\n",
    "\n",
    "pd.plotting.scatter_matrix(important_center_price_factor, figsize=(10, 10)) \n",
    "\n",
    "\n",
    "important_center_price_factor_time = spb_center[['last_price', 'weekday_name_exposition','month_exposition', 'year_exposition']]\n",
    "\n",
    "pd.plotting.scatter_matrix(important_center_price_factor_time, figsize=(9, 9)) "
   ]
  },
  {
   "cell_type": "code",
   "execution_count": 218,
   "metadata": {},
   "outputs": [
    {
     "name": "stdout",
     "output_type": "stream",
     "text": [
      "                      last_price  total_area  clear_rooms  \\\n",
      "last_price              1.000000    0.532471     0.241160   \n",
      "total_area              0.532471    1.000000     0.751934   \n",
      "clear_rooms             0.241160    0.751934     1.000000   \n",
      "first_and_last_floor    0.085596    0.118298     0.105591   \n",
      "km_from_center         -0.096472   -0.126306    -0.064659   \n",
      "\n",
      "                      first_and_last_floor  km_from_center  \n",
      "last_price                        0.085596       -0.096472  \n",
      "total_area                        0.118298       -0.126306  \n",
      "clear_rooms                       0.105591       -0.064659  \n",
      "first_and_last_floor              1.000000       -0.007873  \n",
      "km_from_center                   -0.007873        1.000000  \n"
     ]
    }
   ],
   "source": [
    "print(important_center_price_factor.corr())"
   ]
  },
  {
   "cell_type": "markdown",
   "metadata": {},
   "source": [
    "В целом зависимости стоимости квартиры для центра такие же как и везде - чем больше площадь, тем больше цена. Первый этаж всегда уменьшает стоимость квартиры. Стоимость квартир в среднем каждый год растет. Заметный скачек цен был в 2017 году"
   ]
  },
  {
   "cell_type": "markdown",
   "metadata": {},
   "source": [
    "## Общий вывод"
   ]
  },
  {
   "cell_type": "markdown",
   "metadata": {},
   "source": [
    "Больше всего на стоимость квартиры влияет площадь квартиры и близость квартиры к центру. Сами квартиры в СПб очень разнообразны. Квартиры в центре как правило больше и имеют более высокие потолки. Интересно, что кроме резкого пика по стоимости квартир в центре, но стоимостям выделяются квартиры в реновируемых районах \"серого пояса\" и квартиры на удалении примерно 30 км от центра СПб, предположительно расположенные в Курортном районе. \n",
    "Квартиры в СПб дороже квартир в Ленинградской области."
   ]
  }
 ],
 "metadata": {
  "ExecuteTimeLog": [
   {
    "duration": 228,
    "start_time": "2021-06-08T18:54:20.409Z"
   },
   {
    "duration": 636,
    "start_time": "2021-06-08T18:54:32.275Z"
   },
   {
    "duration": 74,
    "start_time": "2021-06-08T18:54:34.264Z"
   },
   {
    "duration": 74,
    "start_time": "2021-06-08T18:54:38.655Z"
   },
   {
    "duration": 13,
    "start_time": "2021-06-08T18:54:39.684Z"
   },
   {
    "duration": 75,
    "start_time": "2021-06-08T18:54:43.085Z"
   },
   {
    "duration": 34,
    "start_time": "2021-06-08T18:54:48.260Z"
   },
   {
    "duration": 23,
    "start_time": "2021-06-08T18:54:50.513Z"
   },
   {
    "duration": 19,
    "start_time": "2021-06-08T18:56:40.652Z"
   },
   {
    "duration": 10,
    "start_time": "2021-06-08T18:57:21.739Z"
   },
   {
    "duration": 18,
    "start_time": "2021-06-08T18:57:54.775Z"
   },
   {
    "duration": 19,
    "start_time": "2021-06-08T18:58:08.025Z"
   },
   {
    "duration": 28,
    "start_time": "2021-06-08T18:58:19.264Z"
   },
   {
    "duration": 15,
    "start_time": "2021-06-08T18:58:41.689Z"
   },
   {
    "duration": 15,
    "start_time": "2021-06-08T18:59:45.388Z"
   },
   {
    "duration": 12,
    "start_time": "2021-06-08T19:00:23.600Z"
   },
   {
    "duration": 64,
    "start_time": "2021-06-08T19:00:36.288Z"
   },
   {
    "duration": 20,
    "start_time": "2021-06-08T19:00:42.062Z"
   },
   {
    "duration": 20,
    "start_time": "2021-06-08T19:01:45.949Z"
   },
   {
    "duration": 17,
    "start_time": "2021-06-08T19:02:45.787Z"
   },
   {
    "duration": 10,
    "start_time": "2021-06-08T19:03:36.238Z"
   },
   {
    "duration": 108,
    "start_time": "2021-08-22T04:09:05.688Z"
   },
   {
    "duration": 100,
    "start_time": "2021-08-22T04:19:26.245Z"
   },
   {
    "duration": 97,
    "start_time": "2021-08-22T04:24:14.772Z"
   }
  ],
  "kernelspec": {
   "display_name": "Python 3",
   "language": "python",
   "name": "python3"
  },
  "language_info": {
   "codemirror_mode": {
    "name": "ipython",
    "version": 3
   },
   "file_extension": ".py",
   "mimetype": "text/x-python",
   "name": "python",
   "nbconvert_exporter": "python",
   "pygments_lexer": "ipython3",
   "version": "3.7.10"
  },
  "toc": {
   "base_numbering": 1,
   "nav_menu": {},
   "number_sections": true,
   "sideBar": true,
   "skip_h1_title": true,
   "title_cell": "Содержание",
   "title_sidebar": "Contents",
   "toc_cell": true,
   "toc_position": {},
   "toc_section_display": true,
   "toc_window_display": true
  }
 },
 "nbformat": 4,
 "nbformat_minor": 2
}
