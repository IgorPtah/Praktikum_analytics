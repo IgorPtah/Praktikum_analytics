{
 "cells": [
  {
   "cell_type": "markdown",
   "id": "4404a85d",
   "metadata": {},
   "source": [
    "# Анализ пользовательского взаимодействия с карточками статей"
   ]
  },
  {
   "cell_type": "markdown",
   "id": "a8495557",
   "metadata": {},
   "source": [
    "## Вводные данные"
   ]
  },
  {
   "cell_type": "markdown",
   "id": "c958af6c",
   "metadata": {},
   "source": [
    "У аналитиков в в Яндекс.Дзене почти всё время занимает анализ пользовательского взаимодействия с карточками статей.\n",
    "Каждую карточку определяют её тема и источник (у него тоже есть тема). Примеры тем: «Красота и здоровье», «Россия», «Путешествия».\n",
    "Пользователей системы характеризует возрастная категория. Скажем, «26-30» или «45+».\n",
    "Есть три способа взаимодействия пользователей с системой:\n",
    "Карточка отображена для пользователя (show);\n",
    "Пользователь кликнул на карточку (click);\n",
    "Пользователь просмотрел статью карточки (view).\n",
    "\n",
    "Регулярно поступают следующие вопросы:\n",
    "Сколько взаимодействий пользователей с карточками происходит в системе с разбивкой по темам карточек?\n",
    "Как много карточек генерируют источники с разными темами?\n",
    "Как соотносятся темы карточек и темы источников?\n",
    "\n",
    "Необходимо создать дашборд с ответами на данные вопросы"
   ]
  },
  {
   "cell_type": "markdown",
   "id": "4e63266f",
   "metadata": {},
   "source": [
    "### Планы исследования"
   ]
  },
  {
   "cell_type": "markdown",
   "id": "0f9af57d",
   "metadata": {},
   "source": [
    "1. Загрузим и подготовим данные к анализу - выгрузим данные из таблицы dash_visits в файл dash_visits.csv;\n",
    "2. В Tableau Public на основе файла dash_visits.csv сформируем дашборд в соответствии с согласованным ТЗ;\n",
    "3. Ответим на заданные вопросы и подготовим презентацию"
   ]
  },
  {
   "cell_type": "markdown",
   "id": "8363c7a4",
   "metadata": {},
   "source": [
    "## Загрузка и подготовка данных к анализу"
   ]
  },
  {
   "cell_type": "markdown",
   "id": "4fb7a08a",
   "metadata": {},
   "source": [
    "Загрузим необходимые библиотеки и переданный нам датасет"
   ]
  },
  {
   "cell_type": "code",
   "execution_count": 3,
   "id": "703cad2d",
   "metadata": {},
   "outputs": [],
   "source": [
    "# импортируем библиотеки\n",
    "import pandas as pd\n",
    "from sqlalchemy import create_engine\n",
    "\n",
    "db_config = {'user': '******', # имя пользователя\n",
    "            'pwd': '*****', # пароль\n",
    "            'host': '******',\n",
    "            'port': ****, # порт подключения\n",
    "            'db': '******'} # название базы данных\n",
    "\n",
    "connection_string = 'postgresql://{}:{}@{}:{}/{}'.format(db_config['user'],\n",
    "                                                db_config['pwd'],\n",
    "                                                db_config['host'],\n",
    "                                                db_config['port'],\n",
    "                                                db_config['db'])\n",
    "\n",
    "engine = create_engine(connection_string) "
   ]
  },
  {
   "cell_type": "code",
   "execution_count": 4,
   "id": "927d827a",
   "metadata": {},
   "outputs": [],
   "source": [
    "query = '''\n",
    "            SELECT *\n",
    "            FROM dash_visits\n",
    "        '''"
   ]
  },
  {
   "cell_type": "code",
   "execution_count": 5,
   "id": "3fe3bed8",
   "metadata": {},
   "outputs": [],
   "source": [
    "dash_visits = pd.io.sql.read_sql(query, con = engine) "
   ]
  },
  {
   "cell_type": "code",
   "execution_count": 6,
   "id": "15a31f7b",
   "metadata": {},
   "outputs": [
    {
     "name": "stdout",
     "output_type": "stream",
     "text": [
      "Таблица dash_visits (информация о карточках и темах)\n",
      " \n",
      "Общая информация о данных\n",
      "<class 'pandas.core.frame.DataFrame'>\n",
      "RangeIndex: 30745 entries, 0 to 30744\n",
      "Data columns (total 6 columns):\n",
      "record_id       30745 non-null int64\n",
      "item_topic      30745 non-null object\n",
      "source_topic    30745 non-null object\n",
      "age_segment     30745 non-null object\n",
      "dt              30745 non-null datetime64[ns]\n",
      "visits          30745 non-null int64\n",
      "dtypes: datetime64[ns](1), int64(2), object(3)\n",
      "memory usage: 1.4+ MB\n",
      " \n",
      "Описание данных\n",
      "          record_id        visits\n",
      "count  3.074500e+04  30745.000000\n",
      "mean   1.055969e+06     10.089673\n",
      "std    8.875461e+03     19.727601\n",
      "min    1.040597e+06      1.000000\n",
      "25%    1.048283e+06      1.000000\n",
      "50%    1.055969e+06      3.000000\n",
      "75%    1.063655e+06     10.000000\n",
      "max    1.071341e+06    371.000000\n",
      " \n",
      "Случайная выборка данных\n"
     ]
    },
    {
     "data": {
      "text/html": [
       "<div>\n",
       "<style scoped>\n",
       "    .dataframe tbody tr th:only-of-type {\n",
       "        vertical-align: middle;\n",
       "    }\n",
       "\n",
       "    .dataframe tbody tr th {\n",
       "        vertical-align: top;\n",
       "    }\n",
       "\n",
       "    .dataframe thead th {\n",
       "        text-align: right;\n",
       "    }\n",
       "</style>\n",
       "<table border=\"1\" class=\"dataframe\">\n",
       "  <thead>\n",
       "    <tr style=\"text-align: right;\">\n",
       "      <th></th>\n",
       "      <th>record_id</th>\n",
       "      <th>item_topic</th>\n",
       "      <th>source_topic</th>\n",
       "      <th>age_segment</th>\n",
       "      <th>dt</th>\n",
       "      <th>visits</th>\n",
       "    </tr>\n",
       "  </thead>\n",
       "  <tbody>\n",
       "    <tr>\n",
       "      <td>12599</td>\n",
       "      <td>1053196</td>\n",
       "      <td>Культура</td>\n",
       "      <td>Полезные советы</td>\n",
       "      <td>26-30</td>\n",
       "      <td>2019-09-24 19:00:00</td>\n",
       "      <td>1</td>\n",
       "    </tr>\n",
       "    <tr>\n",
       "      <td>10691</td>\n",
       "      <td>1051288</td>\n",
       "      <td>История</td>\n",
       "      <td>Спорт</td>\n",
       "      <td>18-25</td>\n",
       "      <td>2019-09-24 19:00:00</td>\n",
       "      <td>4</td>\n",
       "    </tr>\n",
       "    <tr>\n",
       "      <td>8682</td>\n",
       "      <td>1049279</td>\n",
       "      <td>Искусство</td>\n",
       "      <td>История</td>\n",
       "      <td>31-35</td>\n",
       "      <td>2019-09-24 19:00:00</td>\n",
       "      <td>2</td>\n",
       "    </tr>\n",
       "    <tr>\n",
       "      <td>23712</td>\n",
       "      <td>1064309</td>\n",
       "      <td>Рассказы</td>\n",
       "      <td>Семейные отношения</td>\n",
       "      <td>26-30</td>\n",
       "      <td>2019-09-24 18:54:00</td>\n",
       "      <td>17</td>\n",
       "    </tr>\n",
       "    <tr>\n",
       "      <td>6192</td>\n",
       "      <td>1046789</td>\n",
       "      <td>Знаменитости</td>\n",
       "      <td>Музыка</td>\n",
       "      <td>18-25</td>\n",
       "      <td>2019-09-24 18:29:00</td>\n",
       "      <td>1</td>\n",
       "    </tr>\n",
       "  </tbody>\n",
       "</table>\n",
       "</div>"
      ],
      "text/plain": [
       "       record_id    item_topic        source_topic age_segment  \\\n",
       "12599    1053196      Культура     Полезные советы       26-30   \n",
       "10691    1051288       История               Спорт       18-25   \n",
       "8682     1049279     Искусство             История       31-35   \n",
       "23712    1064309      Рассказы  Семейные отношения       26-30   \n",
       "6192     1046789  Знаменитости              Музыка       18-25   \n",
       "\n",
       "                       dt  visits  \n",
       "12599 2019-09-24 19:00:00       1  \n",
       "10691 2019-09-24 19:00:00       4  \n",
       "8682  2019-09-24 19:00:00       2  \n",
       "23712 2019-09-24 18:54:00      17  \n",
       "6192  2019-09-24 18:29:00       1  "
      ]
     },
     "execution_count": 6,
     "metadata": {},
     "output_type": "execute_result"
    }
   ],
   "source": [
    "print('Таблица dash_visits (информация о карточках и темах)')\n",
    "#Просмотрим общую информацию о данных\n",
    "\n",
    "print (' ')\n",
    "print ('Общая информация о данных')\n",
    "dash_visits.info()\n",
    "\n",
    "#Просмотрим данные функцией describle\n",
    "\n",
    "print (' ')\n",
    "print ('Описание данных')\n",
    "print(dash_visits.describe())\n",
    "print (' ')\n",
    "\n",
    "# Применим случайную выборку данных для первичного ознакомления\n",
    "# Укажем параметр random_state=1, для сохранения результата при повторных запусках алгоритма, если нам\n",
    "# вдруг понадобится\n",
    "\n",
    "print ('Случайная выборка данных')\n",
    "dash_visits.sample(5, random_state=1)"
   ]
  },
  {
   "cell_type": "markdown",
   "id": "7c2a6803",
   "metadata": {},
   "source": [
    "Агрегированная таблица dash_visits содержит:\n",
    "- record_id — идентификатор пользователя;\n",
    "- item_topic — название темы;\n",
    "- source_topic — название источника;\n",
    "- age_segment — возрастная категория;\n",
    "- dt — время визита;\n",
    "- visits — количество посещений."
   ]
  },
  {
   "cell_type": "code",
   "execution_count": 9,
   "id": "a3c688aa",
   "metadata": {},
   "outputs": [],
   "source": [
    "# выгрузим подготовленные данные\n",
    "dash_visits.to_csv('dash_visits.csv', index=False)"
   ]
  },
  {
   "cell_type": "markdown",
   "id": "c2cb8a1b",
   "metadata": {},
   "source": [
    "## Выводы"
   ]
  },
  {
   "cell_type": "markdown",
   "id": "89bd206b",
   "metadata": {},
   "source": [
    "Мы выполнили часть работы в Jupyter Notebook. Дальнейшую работу по сбору дашборда проведем на сайте Tableau Public"
   ]
  },
  {
   "cell_type": "markdown",
   "id": "936d57bb",
   "metadata": {},
   "source": [
    "**Ссылка на дашборд на сайте Tableau Public:**  <https://public.tableau.com/app/profile/igor.lundyshev/viz/_16389893109480/sheet4?publish=yes>"
   ]
  }
 ],
 "metadata": {
  "kernelspec": {
   "display_name": "Python 3",
   "language": "python",
   "name": "python3"
  },
  "language_info": {
   "codemirror_mode": {
    "name": "ipython",
    "version": 3
   },
   "file_extension": ".py",
   "mimetype": "text/x-python",
   "name": "python",
   "nbconvert_exporter": "python",
   "pygments_lexer": "ipython3",
   "version": "3.7.10"
  }
 },
 "nbformat": 4,
 "nbformat_minor": 5
}
