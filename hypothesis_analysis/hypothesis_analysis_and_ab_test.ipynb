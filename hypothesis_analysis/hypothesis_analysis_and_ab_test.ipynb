{
 "cells": [
  {
   "cell_type": "markdown",
   "metadata": {},
   "source": [
    "# Анализ гипотез для увеличения выручки интернет-магазина"
   ]
  },
  {
   "cell_type": "markdown",
   "metadata": {},
   "source": [
    "## Вводные данные"
   ]
  },
  {
   "cell_type": "markdown",
   "metadata": {},
   "source": [
    "Заказчиком исследования выступает интернет-магазин. Совместно с отделом маркетинга был подготовлен список гипотез для увеличения выручки. \n",
    "\n",
    "**Цели исследования:**\n",
    "\n",
    "Необходимо приоритизировать гипотезы, запустить A/B-тест и проанализировать результаты.\n",
    "\n",
    "Данные и описание их содержания предоставлены заказчиком. О качестве данных ничего не известно."
   ]
  },
  {
   "cell_type": "markdown",
   "metadata": {},
   "source": [
    "### Планы исследования"
   ]
  },
  {
   "cell_type": "markdown",
   "metadata": {},
   "source": [
    "**Часть 1. Приоритизация гипотез**\n",
    "\n",
    "1. Применить фреймворк ICE для приоритизации гипотез. Отсортировать их по убыванию приоритета.\n",
    "2. Применить фреймворк RICE для приоритизации гипотез. Отсортировать их по убыванию приоритета.\n",
    "3. Указать, как изменилась приоритизация гипотез при применении RICE вместо ICE. Объяснить, почему так произошло."
   ]
  },
  {
   "cell_type": "markdown",
   "metadata": {},
   "source": [
    "**Часть 2. Анализ A/B-теста**\n",
    "\n",
    "Проанализировать A/B-тест. Подготовить выводы и предположение по следующим пунктам:\n",
    "1. Построить график кумулятивной выручки по группам.\n",
    "2. Построить график кумулятивного среднего чека по группам. \n",
    "3. Построить график относительного изменения кумулятивного среднего чека группы B к группе A. \n",
    "4. Построить график кумулятивной конверсии по группам. \n",
    "5. Построить график относительного изменения кумулятивной конверсии группы B к группе A. \n",
    "6. Построить точечный график количества заказов по пользователям. \n",
    "7. Посчитать 95-й и 99-й перцентили количества заказов на пользователя. Выбрать границу для определения аномальных пользователей.\n",
    "8. Построить точечный график стоимостей заказов. \n",
    "9. Посчитать 95-й и 99-й перцентили стоимости заказов. Выбрать границу для определения аномальных заказов.\n",
    "10. Посчитать статистическую значимость различий в конверсии между группами по «сырым» данным. \n",
    "11. Посчитать статистическую значимость различий в среднем чеке заказа между группами по «сырым» данным. \n",
    "12. Посчитать статистическую значимость различий в конверсии между группами по «очищенным» данным.\n",
    "13. Посчитать статистическую значимость различий в среднем чеке заказа между группами по «очищенным» данным. \n",
    "14. Принять решение по результатам теста и объясните его. Варианты решений: 1. Остановить тест, зафиксировать победу одной из групп. 2. Остановить тест, зафиксировать отсутствие различий между группами. 3. Продолжить тест."
   ]
  },
  {
   "cell_type": "markdown",
   "metadata": {},
   "source": [
    "## Загрузка и подготовка данных к анализу"
   ]
  },
  {
   "cell_type": "markdown",
   "metadata": {},
   "source": [
    "Загрузим необходимые библиотеки и переданные нам датасеты"
   ]
  },
  {
   "cell_type": "code",
   "execution_count": 1,
   "metadata": {},
   "outputs": [
    {
     "name": "stdout",
     "output_type": "stream",
     "text": [
      "файл с данными подключен\n",
      "файл с данными подключен\n",
      "файл с данными подключен\n"
     ]
    }
   ],
   "source": [
    "# импортируем необходимые нам библиотеки\n",
    "import pandas as pd\n",
    "import matplotlib.pyplot as plt\n",
    "import seaborn as sns\n",
    "import numpy as np\n",
    "import math as math\n",
    "import collections\n",
    "import datetime as dt\n",
    "from cycler import cycler\n",
    "from scipy import stats as st\n",
    "from IPython.display import display, HTML\n",
    "import warnings\n",
    "\n",
    "\n",
    "#введем некотрые настройки\n",
    "warnings.filterwarnings(\"ignore\")\n",
    "pd.set_option('max_colwidth', 400)\n",
    "\n",
    "#Подключим файлы с данными \n",
    "\n",
    "try:\n",
    "    hypothesis = pd.read_csv('/datasets/hypothesis.csv')\n",
    "except:\n",
    "    print('файл с данными не подключен')\n",
    "else:\n",
    "    print('файл с данными подключен')\n",
    "\n",
    "try:\n",
    "    orders = pd.read_csv('/datasets/orders.csv')\n",
    "except:\n",
    "    print('файл с данными не подключен')\n",
    "else:\n",
    "    print('файл с данными подключен')\n",
    "    \n",
    "try:\n",
    "    visitors = pd.read_csv('/datasets/visitors.csv')\n",
    "except:\n",
    "    print('файл с данными не подключен')\n",
    "else:\n",
    "    print('файл с данными подключен')\n"
   ]
  },
  {
   "cell_type": "markdown",
   "metadata": {},
   "source": [
    "Согласно описанию данных предоставленому заказчиком:\n",
    "    \n",
    "Датасет hypothesis.csv содержит:\n",
    "- Hypothesis — краткое описание гипотезы;\n",
    "- Reach — охват пользователей по 10-балльной шкале;\n",
    "- Impact — влияние на пользователей по 10-балльной шкале;\n",
    "- Confidence — уверенность в гипотезе по 10-балльной шкале;\n",
    "- Efforts — затраты ресурсов на проверку гипотезы по 10-балльной шкале. Чем больше значение Efforts, тем дороже проверка гипотезы.\n",
    "\n",
    "Датасет orders.csv содержит:\n",
    "- transactionId — идентификатор заказа;\n",
    "- visitorId — идентификатор пользователя, совершившего заказ;\n",
    "- date — дата, когда был совершён заказ;\n",
    "- revenue — выручка заказа;\n",
    "- group — группа A/B-теста, в которую попал заказ.\n",
    "\n",
    "Датасет visitors.csv содержит:\n",
    "- date — дата;\n",
    "- group — группа A/B-теста;\n",
    "- visitors — количество пользователей в указанную дату в указанной группе A/B-теста."
   ]
  },
  {
   "cell_type": "markdown",
   "metadata": {},
   "source": [
    "Проверим полученные данные"
   ]
  },
  {
   "cell_type": "code",
   "execution_count": 2,
   "metadata": {},
   "outputs": [
    {
     "name": "stdout",
     "output_type": "stream",
     "text": [
      "Таблица hypothesis (информация о рассматриваемых гипотезах)\n",
      " \n",
      "Общая информация о данных\n",
      "<class 'pandas.core.frame.DataFrame'>\n",
      "RangeIndex: 9 entries, 0 to 8\n",
      "Data columns (total 5 columns):\n",
      "Hypothesis    9 non-null object\n",
      "Reach         9 non-null int64\n",
      "Impact        9 non-null int64\n",
      "Confidence    9 non-null int64\n",
      "Efforts       9 non-null int64\n",
      "dtypes: int64(4), object(1)\n",
      "memory usage: 488.0+ bytes\n",
      " \n",
      "Описание данных\n",
      "           Reach     Impact  Confidence    Efforts\n",
      "count   9.000000   9.000000    9.000000   9.000000\n",
      "mean    4.777778   4.777778    5.555556   4.888889\n",
      "std     3.153481   3.192874    3.045944   2.803767\n",
      "min     1.000000   1.000000    1.000000   1.000000\n",
      "25%     3.000000   3.000000    3.000000   3.000000\n",
      "50%     3.000000   3.000000    7.000000   5.000000\n",
      "75%     8.000000   7.000000    8.000000   6.000000\n",
      "max    10.000000  10.000000    9.000000  10.000000\n",
      " \n",
      "Случайная выборка данных\n"
     ]
    },
    {
     "data": {
      "text/html": [
       "<div>\n",
       "<style scoped>\n",
       "    .dataframe tbody tr th:only-of-type {\n",
       "        vertical-align: middle;\n",
       "    }\n",
       "\n",
       "    .dataframe tbody tr th {\n",
       "        vertical-align: top;\n",
       "    }\n",
       "\n",
       "    .dataframe thead th {\n",
       "        text-align: right;\n",
       "    }\n",
       "</style>\n",
       "<table border=\"1\" class=\"dataframe\">\n",
       "  <thead>\n",
       "    <tr style=\"text-align: right;\">\n",
       "      <th></th>\n",
       "      <th>Hypothesis</th>\n",
       "      <th>Reach</th>\n",
       "      <th>Impact</th>\n",
       "      <th>Confidence</th>\n",
       "      <th>Efforts</th>\n",
       "    </tr>\n",
       "  </thead>\n",
       "  <tbody>\n",
       "    <tr>\n",
       "      <td>8</td>\n",
       "      <td>Запустить акцию, дающую скидку на товар в день рождения</td>\n",
       "      <td>1</td>\n",
       "      <td>9</td>\n",
       "      <td>9</td>\n",
       "      <td>5</td>\n",
       "    </tr>\n",
       "    <tr>\n",
       "      <td>2</td>\n",
       "      <td>Добавить блоки рекомендаций товаров на сайт интернет магазина, чтобы повысить конверсию и средний чек заказа</td>\n",
       "      <td>8</td>\n",
       "      <td>3</td>\n",
       "      <td>7</td>\n",
       "      <td>3</td>\n",
       "    </tr>\n",
       "    <tr>\n",
       "      <td>6</td>\n",
       "      <td>Показать на главной странице баннеры с актуальными акциями и распродажами, чтобы увеличить конверсию</td>\n",
       "      <td>5</td>\n",
       "      <td>3</td>\n",
       "      <td>8</td>\n",
       "      <td>3</td>\n",
       "    </tr>\n",
       "    <tr>\n",
       "      <td>7</td>\n",
       "      <td>Добавить форму подписки на все основные страницы, чтобы собрать базу клиентов для email-рассылок</td>\n",
       "      <td>10</td>\n",
       "      <td>7</td>\n",
       "      <td>8</td>\n",
       "      <td>5</td>\n",
       "    </tr>\n",
       "    <tr>\n",
       "      <td>1</td>\n",
       "      <td>Запустить собственную службу доставки, что сократит срок доставки заказов</td>\n",
       "      <td>2</td>\n",
       "      <td>5</td>\n",
       "      <td>4</td>\n",
       "      <td>10</td>\n",
       "    </tr>\n",
       "  </tbody>\n",
       "</table>\n",
       "</div>"
      ],
      "text/plain": [
       "                                                                                                     Hypothesis  \\\n",
       "8                                                       Запустить акцию, дающую скидку на товар в день рождения   \n",
       "2  Добавить блоки рекомендаций товаров на сайт интернет магазина, чтобы повысить конверсию и средний чек заказа   \n",
       "6          Показать на главной странице баннеры с актуальными акциями и распродажами, чтобы увеличить конверсию   \n",
       "7              Добавить форму подписки на все основные страницы, чтобы собрать базу клиентов для email-рассылок   \n",
       "1                                     Запустить собственную службу доставки, что сократит срок доставки заказов   \n",
       "\n",
       "   Reach  Impact  Confidence  Efforts  \n",
       "8      1       9           9        5  \n",
       "2      8       3           7        3  \n",
       "6      5       3           8        3  \n",
       "7     10       7           8        5  \n",
       "1      2       5           4       10  "
      ]
     },
     "execution_count": 2,
     "metadata": {},
     "output_type": "execute_result"
    }
   ],
   "source": [
    "print('Таблица hypothesis (информация о рассматриваемых гипотезах)')\n",
    "#Просмотрим общую информацию о данных\n",
    "\n",
    "print (' ')\n",
    "print ('Общая информация о данных')\n",
    "hypothesis.info()\n",
    "\n",
    "#Просмотрим данные функцией describle\n",
    "\n",
    "print (' ')\n",
    "print ('Описание данных')\n",
    "print(hypothesis.describe())\n",
    "print (' ')\n",
    "\n",
    "# Применим случайную выборку данных для первичного ознакомления\n",
    "# Укажем параметр random_state=1, для сохранения результата при повторных запусках алгоритма, если нам\n",
    "# вдруг понадобится\n",
    "\n",
    "print ('Случайная выборка данных')\n",
    "hypothesis.sample(5, random_state=1)"
   ]
  },
  {
   "cell_type": "code",
   "execution_count": 3,
   "metadata": {},
   "outputs": [
    {
     "name": "stdout",
     "output_type": "stream",
     "text": [
      "Таблица orders (информация о заказах)\n",
      " \n",
      "Общая информация о данных\n",
      "<class 'pandas.core.frame.DataFrame'>\n",
      "RangeIndex: 1197 entries, 0 to 1196\n",
      "Data columns (total 5 columns):\n",
      "transactionId    1197 non-null int64\n",
      "visitorId        1197 non-null int64\n",
      "date             1197 non-null object\n",
      "revenue          1197 non-null int64\n",
      "group            1197 non-null object\n",
      "dtypes: int64(3), object(2)\n",
      "memory usage: 46.9+ KB\n",
      " \n",
      "Описание данных\n",
      "       transactionId     visitorId       revenue\n",
      "count   1.197000e+03  1.197000e+03  1.197000e+03\n",
      "mean    2.155621e+09  2.165960e+09  8.348006e+03\n",
      "std     1.229085e+09  1.236014e+09  3.919113e+04\n",
      "min     1.062393e+06  5.114589e+06  5.000000e+01\n",
      "25%     1.166776e+09  1.111826e+09  1.220000e+03\n",
      "50%     2.145194e+09  2.217985e+09  2.978000e+03\n",
      "75%     3.237740e+09  3.177606e+09  8.290000e+03\n",
      "max     4.293856e+09  4.283872e+09  1.294500e+06\n",
      " \n",
      "Случайная выборка данных\n"
     ]
    },
    {
     "data": {
      "text/html": [
       "<div>\n",
       "<style scoped>\n",
       "    .dataframe tbody tr th:only-of-type {\n",
       "        vertical-align: middle;\n",
       "    }\n",
       "\n",
       "    .dataframe tbody tr th {\n",
       "        vertical-align: top;\n",
       "    }\n",
       "\n",
       "    .dataframe thead th {\n",
       "        text-align: right;\n",
       "    }\n",
       "</style>\n",
       "<table border=\"1\" class=\"dataframe\">\n",
       "  <thead>\n",
       "    <tr style=\"text-align: right;\">\n",
       "      <th></th>\n",
       "      <th>transactionId</th>\n",
       "      <th>visitorId</th>\n",
       "      <th>date</th>\n",
       "      <th>revenue</th>\n",
       "      <th>group</th>\n",
       "    </tr>\n",
       "  </thead>\n",
       "  <tbody>\n",
       "    <tr>\n",
       "      <td>886</td>\n",
       "      <td>51443164</td>\n",
       "      <td>4278982564</td>\n",
       "      <td>2019-08-05</td>\n",
       "      <td>24744</td>\n",
       "      <td>A</td>\n",
       "    </tr>\n",
       "    <tr>\n",
       "      <td>1093</td>\n",
       "      <td>3894437543</td>\n",
       "      <td>276558944</td>\n",
       "      <td>2019-08-12</td>\n",
       "      <td>5050</td>\n",
       "      <td>A</td>\n",
       "    </tr>\n",
       "    <tr>\n",
       "      <td>801</td>\n",
       "      <td>504373597</td>\n",
       "      <td>2604012846</td>\n",
       "      <td>2019-08-05</td>\n",
       "      <td>890</td>\n",
       "      <td>B</td>\n",
       "    </tr>\n",
       "    <tr>\n",
       "      <td>189</td>\n",
       "      <td>4189935502</td>\n",
       "      <td>1648269707</td>\n",
       "      <td>2019-08-17</td>\n",
       "      <td>290</td>\n",
       "      <td>B</td>\n",
       "    </tr>\n",
       "    <tr>\n",
       "      <td>808</td>\n",
       "      <td>2344401705</td>\n",
       "      <td>366673373</td>\n",
       "      <td>2019-08-05</td>\n",
       "      <td>1460</td>\n",
       "      <td>A</td>\n",
       "    </tr>\n",
       "    <tr>\n",
       "      <td>480</td>\n",
       "      <td>1954636284</td>\n",
       "      <td>2600415354</td>\n",
       "      <td>2019-08-06</td>\n",
       "      <td>1530</td>\n",
       "      <td>B</td>\n",
       "    </tr>\n",
       "    <tr>\n",
       "      <td>202</td>\n",
       "      <td>532398042</td>\n",
       "      <td>1306302251</td>\n",
       "      <td>2019-08-23</td>\n",
       "      <td>1498</td>\n",
       "      <td>A</td>\n",
       "    </tr>\n",
       "    <tr>\n",
       "      <td>311</td>\n",
       "      <td>3567356314</td>\n",
       "      <td>3077396270</td>\n",
       "      <td>2019-08-24</td>\n",
       "      <td>4195</td>\n",
       "      <td>B</td>\n",
       "    </tr>\n",
       "    <tr>\n",
       "      <td>866</td>\n",
       "      <td>707525727</td>\n",
       "      <td>1270030113</td>\n",
       "      <td>2019-08-30</td>\n",
       "      <td>3290</td>\n",
       "      <td>B</td>\n",
       "    </tr>\n",
       "    <tr>\n",
       "      <td>752</td>\n",
       "      <td>237002862</td>\n",
       "      <td>1398592185</td>\n",
       "      <td>2019-08-20</td>\n",
       "      <td>390</td>\n",
       "      <td>A</td>\n",
       "    </tr>\n",
       "  </tbody>\n",
       "</table>\n",
       "</div>"
      ],
      "text/plain": [
       "      transactionId   visitorId        date  revenue group\n",
       "886        51443164  4278982564  2019-08-05    24744     A\n",
       "1093     3894437543   276558944  2019-08-12     5050     A\n",
       "801       504373597  2604012846  2019-08-05      890     B\n",
       "189      4189935502  1648269707  2019-08-17      290     B\n",
       "808      2344401705   366673373  2019-08-05     1460     A\n",
       "480      1954636284  2600415354  2019-08-06     1530     B\n",
       "202       532398042  1306302251  2019-08-23     1498     A\n",
       "311      3567356314  3077396270  2019-08-24     4195     B\n",
       "866       707525727  1270030113  2019-08-30     3290     B\n",
       "752       237002862  1398592185  2019-08-20      390     A"
      ]
     },
     "execution_count": 3,
     "metadata": {},
     "output_type": "execute_result"
    }
   ],
   "source": [
    "print('Таблица orders (информация о заказах)')\n",
    "#Просмотрим общую информацию о данных\n",
    "\n",
    "print (' ')\n",
    "print ('Общая информация о данных')\n",
    "orders.info()\n",
    "\n",
    "#Просмотрим данные функцией describle\n",
    "print (' ')\n",
    "print ('Описание данных')\n",
    "print(orders.describe())\n",
    "\n",
    "# Применим случайную выборку данных для первичного ознакомления\n",
    "# Укажем параметр random_state=1, для сохранения результата при повторных запусках алгоритма, если нам\n",
    "# вдруг понадобится\n",
    "\n",
    "print (' ')\n",
    "print ('Случайная выборка данных')\n",
    "orders.sample(10, random_state=1)"
   ]
  },
  {
   "cell_type": "code",
   "execution_count": 4,
   "metadata": {},
   "outputs": [
    {
     "name": "stdout",
     "output_type": "stream",
     "text": [
      "Таблица visitors (информация о пользователях)\n",
      " \n",
      "Общая информация о данных\n",
      "<class 'pandas.core.frame.DataFrame'>\n",
      "RangeIndex: 62 entries, 0 to 61\n",
      "Data columns (total 3 columns):\n",
      "date        62 non-null object\n",
      "group       62 non-null object\n",
      "visitors    62 non-null int64\n",
      "dtypes: int64(1), object(2)\n",
      "memory usage: 1.6+ KB\n",
      " \n",
      "Описание данных\n",
      "         visitors\n",
      "count   62.000000\n",
      "mean   607.290323\n",
      "std    114.400560\n",
      "min    361.000000\n",
      "25%    534.000000\n",
      "50%    624.500000\n",
      "75%    710.500000\n",
      "max    770.000000\n",
      " \n",
      "Случайная выборка данных\n"
     ]
    },
    {
     "data": {
      "text/html": [
       "<div>\n",
       "<style scoped>\n",
       "    .dataframe tbody tr th:only-of-type {\n",
       "        vertical-align: middle;\n",
       "    }\n",
       "\n",
       "    .dataframe tbody tr th {\n",
       "        vertical-align: top;\n",
       "    }\n",
       "\n",
       "    .dataframe thead th {\n",
       "        text-align: right;\n",
       "    }\n",
       "</style>\n",
       "<table border=\"1\" class=\"dataframe\">\n",
       "  <thead>\n",
       "    <tr style=\"text-align: right;\">\n",
       "      <th></th>\n",
       "      <th>date</th>\n",
       "      <th>group</th>\n",
       "      <th>visitors</th>\n",
       "    </tr>\n",
       "  </thead>\n",
       "  <tbody>\n",
       "    <tr>\n",
       "      <td>21</td>\n",
       "      <td>2019-08-22</td>\n",
       "      <td>A</td>\n",
       "      <td>609</td>\n",
       "    </tr>\n",
       "    <tr>\n",
       "      <td>52</td>\n",
       "      <td>2019-08-22</td>\n",
       "      <td>B</td>\n",
       "      <td>650</td>\n",
       "    </tr>\n",
       "    <tr>\n",
       "      <td>38</td>\n",
       "      <td>2019-08-08</td>\n",
       "      <td>B</td>\n",
       "      <td>654</td>\n",
       "    </tr>\n",
       "    <tr>\n",
       "      <td>24</td>\n",
       "      <td>2019-08-25</td>\n",
       "      <td>A</td>\n",
       "      <td>621</td>\n",
       "    </tr>\n",
       "    <tr>\n",
       "      <td>2</td>\n",
       "      <td>2019-08-03</td>\n",
       "      <td>A</td>\n",
       "      <td>507</td>\n",
       "    </tr>\n",
       "    <tr>\n",
       "      <td>41</td>\n",
       "      <td>2019-08-11</td>\n",
       "      <td>B</td>\n",
       "      <td>721</td>\n",
       "    </tr>\n",
       "    <tr>\n",
       "      <td>60</td>\n",
       "      <td>2019-08-30</td>\n",
       "      <td>B</td>\n",
       "      <td>490</td>\n",
       "    </tr>\n",
       "    <tr>\n",
       "      <td>50</td>\n",
       "      <td>2019-08-20</td>\n",
       "      <td>B</td>\n",
       "      <td>560</td>\n",
       "    </tr>\n",
       "    <tr>\n",
       "      <td>35</td>\n",
       "      <td>2019-08-05</td>\n",
       "      <td>B</td>\n",
       "      <td>707</td>\n",
       "    </tr>\n",
       "    <tr>\n",
       "      <td>44</td>\n",
       "      <td>2019-08-14</td>\n",
       "      <td>B</td>\n",
       "      <td>746</td>\n",
       "    </tr>\n",
       "  </tbody>\n",
       "</table>\n",
       "</div>"
      ],
      "text/plain": [
       "          date group  visitors\n",
       "21  2019-08-22     A       609\n",
       "52  2019-08-22     B       650\n",
       "38  2019-08-08     B       654\n",
       "24  2019-08-25     A       621\n",
       "2   2019-08-03     A       507\n",
       "41  2019-08-11     B       721\n",
       "60  2019-08-30     B       490\n",
       "50  2019-08-20     B       560\n",
       "35  2019-08-05     B       707\n",
       "44  2019-08-14     B       746"
      ]
     },
     "execution_count": 4,
     "metadata": {},
     "output_type": "execute_result"
    }
   ],
   "source": [
    "print('Таблица visitors (информация о пользователях)')\n",
    "#Просмотрим общую информацию о данных\n",
    "\n",
    "print (' ')\n",
    "print ('Общая информация о данных')\n",
    "visitors.info()\n",
    "\n",
    "#Просмотрим данные функцией describle\n",
    "\n",
    "print (' ')\n",
    "print ('Описание данных')\n",
    "print(visitors.describe())\n",
    "print (' ')\n",
    "\n",
    "# Применим случайную выборку данных для первичного ознакомления\n",
    "# Укажем параметр random_state=1, для сохранения результата при повторных запусках алгоритма, если нам\n",
    "# вдруг понадобится\n",
    "\n",
    "print ('Случайная выборка данных')\n",
    "visitors.sample(10, random_state=1)"
   ]
  },
  {
   "cell_type": "markdown",
   "metadata": {},
   "source": [
    "В целом данные чистые. Но в столбце date указан не временной тип. Имеет смысл привести названия столбцов к одному виду и поправить тип данных в колонке date."
   ]
  },
  {
   "cell_type": "code",
   "execution_count": 5,
   "metadata": {
    "scrolled": true
   },
   "outputs": [
    {
     "name": "stdout",
     "output_type": "stream",
     "text": [
      "<class 'pandas.core.frame.DataFrame'>\n",
      "RangeIndex: 9 entries, 0 to 8\n",
      "Data columns (total 5 columns):\n",
      "hypothesis    9 non-null object\n",
      "reach         9 non-null int64\n",
      "impact        9 non-null int64\n",
      "confidence    9 non-null int64\n",
      "efforts       9 non-null int64\n",
      "dtypes: int64(4), object(1)\n",
      "memory usage: 488.0+ bytes\n",
      "<class 'pandas.core.frame.DataFrame'>\n",
      "RangeIndex: 1197 entries, 0 to 1196\n",
      "Data columns (total 5 columns):\n",
      "transactionid    1197 non-null int64\n",
      "visitorid        1197 non-null int64\n",
      "date             1197 non-null object\n",
      "revenue          1197 non-null int64\n",
      "group            1197 non-null object\n",
      "dtypes: int64(3), object(2)\n",
      "memory usage: 46.9+ KB\n"
     ]
    }
   ],
   "source": [
    "# исправим наименование колонок\n",
    "hypothesis.columns = hypothesis.columns.str.lower()\n",
    "orders.columns = orders.columns.str.lower()\n",
    "\n",
    "# проверим результат\n",
    "hypothesis.info()\n",
    "orders.info()"
   ]
  },
  {
   "cell_type": "markdown",
   "metadata": {},
   "source": [
    "Поменяем тип даты и проверим результат."
   ]
  },
  {
   "cell_type": "code",
   "execution_count": 6,
   "metadata": {},
   "outputs": [
    {
     "name": "stdout",
     "output_type": "stream",
     "text": [
      "<class 'pandas.core.frame.DataFrame'>\n",
      "RangeIndex: 62 entries, 0 to 61\n",
      "Data columns (total 3 columns):\n",
      "date        62 non-null datetime64[ns]\n",
      "group       62 non-null object\n",
      "visitors    62 non-null int64\n",
      "dtypes: datetime64[ns](1), int64(1), object(1)\n",
      "memory usage: 1.6+ KB\n",
      "<class 'pandas.core.frame.DataFrame'>\n",
      "RangeIndex: 1197 entries, 0 to 1196\n",
      "Data columns (total 5 columns):\n",
      "transactionid    1197 non-null int64\n",
      "visitorid        1197 non-null int64\n",
      "date             1197 non-null datetime64[ns]\n",
      "revenue          1197 non-null int64\n",
      "group            1197 non-null object\n",
      "dtypes: datetime64[ns](1), int64(3), object(1)\n",
      "memory usage: 46.9+ KB\n"
     ]
    }
   ],
   "source": [
    "# поменяем тип даты\n",
    "\n",
    "visitors['date'] = pd.to_datetime(visitors['date'])\n",
    "orders['date'] = pd.to_datetime(orders['date'])\n",
    "\n",
    "# проверим результат\n",
    "visitors.info()\n",
    "orders.info()\n"
   ]
  },
  {
   "cell_type": "markdown",
   "metadata": {},
   "source": [
    "Проверим наличие дубликатов"
   ]
  },
  {
   "cell_type": "code",
   "execution_count": 7,
   "metadata": {},
   "outputs": [
    {
     "name": "stdout",
     "output_type": "stream",
     "text": [
      "\u001b[1mКоличество пропусков:\u001b[0m\n"
     ]
    },
    {
     "data": {
      "text/plain": [
       "transactionid    0\n",
       "visitorid        0\n",
       "date             0\n",
       "revenue          0\n",
       "group            0\n",
       "dtype: int64"
      ]
     },
     "metadata": {},
     "output_type": "display_data"
    },
    {
     "name": "stdout",
     "output_type": "stream",
     "text": [
      "=============================================\n",
      "\n",
      "\u001b[1mКоличество явных дубликатов:\u001b[0m 0\n"
     ]
    }
   ],
   "source": [
    "print('\\033[1m' + 'Количество пропусков:' + '\\033[0m')\n",
    "display(orders.isna().sum())\n",
    "print('=' * 45)\n",
    "print()\n",
    "\n",
    "print('\\033[1m' + 'Количество явных дубликатов:' + '\\033[0m', \n",
    "      orders.duplicated().sum())"
   ]
  },
  {
   "cell_type": "code",
   "execution_count": 8,
   "metadata": {},
   "outputs": [
    {
     "name": "stdout",
     "output_type": "stream",
     "text": [
      "\u001b[1mКоличество пропусков:\u001b[0m\n"
     ]
    },
    {
     "data": {
      "text/plain": [
       "date        0\n",
       "group       0\n",
       "visitors    0\n",
       "dtype: int64"
      ]
     },
     "metadata": {},
     "output_type": "display_data"
    },
    {
     "name": "stdout",
     "output_type": "stream",
     "text": [
      "=============================================\n",
      "\n",
      "\u001b[1mКоличество явных дубликатов:\u001b[0m 0\n"
     ]
    }
   ],
   "source": [
    "print('\\033[1m' + 'Количество пропусков:' + '\\033[0m')\n",
    "display(visitors.isna().sum())\n",
    "print('=' * 45)\n",
    "print()\n",
    "\n",
    "print('\\033[1m' + 'Количество явных дубликатов:' + '\\033[0m', \n",
    "      visitors.duplicated().sum())"
   ]
  },
  {
   "cell_type": "markdown",
   "metadata": {},
   "source": [
    "На всякий случай (поскольку для А/В теста это важно) проверим дубликаты пользователей в группах."
   ]
  },
  {
   "cell_type": "code",
   "execution_count": 9,
   "metadata": {},
   "outputs": [
    {
     "name": "stdout",
     "output_type": "stream",
     "text": [
      "Дубликаты 'visitorid':  166\n"
     ]
    }
   ],
   "source": [
    "print('Дубликаты \\'visitorid\\': ',orders['visitorid'].duplicated().sum())"
   ]
  },
  {
   "cell_type": "markdown",
   "metadata": {},
   "source": [
    "Дубликаты есть. Изучим их подробнее"
   ]
  },
  {
   "cell_type": "code",
   "execution_count": 10,
   "metadata": {},
   "outputs": [
    {
     "name": "stdout",
     "output_type": "stream",
     "text": [
      "[4069496402, 2742574263, 963407295, 351125977, 3234906277, 199603092, 237748145, 3803269165, 2038680547, 2378935119, 4256040402, 2712142231, 8300375, 249864742, 2096506107, 276558944, 3379260072, 457167155, 2706377257, 611059232, 3062433592, 1738359350, 2458001652, 2716752286, 3967698036, 678354126, 3362039251, 3891541246, 2892265953, 2366521417, 522292794, 1648269707, 3656415546, 3332057097, 2232111114, 2686716486, 2954449915, 2927087541, 3469608676, 2579882178, 3957174400, 2988190573, 2780786433, 3984495233, 3077396270, 818047933, 1668030113, 3717692402, 1772171838, 2044997962, 1959144690, 1294878855, 1404934699, 2587333274, 4109358064, 2397843657, 3202540741, 1333886533, 1404560065, 1637811943, 2600415354, 2744017357, 3951559397, 2108163459, 1617417821, 393266494, 3972127743, 3908431265, 3941503500, 2025197455, 3935952912, 4120364173, 366673373, 4266935830, 1230306981, 1614305549, 759473111, 477780734, 406208401, 1602967004, 1801183820, 4186807279, 3766097110, 3941795274, 471551937, 1316129916, 2306096143, 2733145037, 4134830387, 232979603, 1985475298, 2654030115, 3963646447, 2949041841]\n",
      "94\n"
     ]
    }
   ],
   "source": [
    "# составим список дубликатов\n",
    "dupes = [item for item, count in collections.Counter(orders['visitorid']).items() if count > 1]\n",
    "print(dupes)\n",
    "print(len(dupes))"
   ]
  },
  {
   "cell_type": "code",
   "execution_count": 11,
   "metadata": {},
   "outputs": [
    {
     "data": {
      "text/html": [
       "<div>\n",
       "<style scoped>\n",
       "    .dataframe tbody tr th:only-of-type {\n",
       "        vertical-align: middle;\n",
       "    }\n",
       "\n",
       "    .dataframe tbody tr th {\n",
       "        vertical-align: top;\n",
       "    }\n",
       "\n",
       "    .dataframe thead th {\n",
       "        text-align: right;\n",
       "    }\n",
       "</style>\n",
       "<table border=\"1\" class=\"dataframe\">\n",
       "  <thead>\n",
       "    <tr style=\"text-align: right;\">\n",
       "      <th></th>\n",
       "      <th>transactionid</th>\n",
       "      <th>visitorid</th>\n",
       "      <th>date</th>\n",
       "      <th>revenue</th>\n",
       "      <th>group</th>\n",
       "    </tr>\n",
       "  </thead>\n",
       "  <tbody>\n",
       "    <tr>\n",
       "      <td>71</td>\n",
       "      <td>3679129301</td>\n",
       "      <td>8300375</td>\n",
       "      <td>2019-08-01</td>\n",
       "      <td>10510</td>\n",
       "      <td>B</td>\n",
       "    </tr>\n",
       "    <tr>\n",
       "      <td>703</td>\n",
       "      <td>4293855558</td>\n",
       "      <td>8300375</td>\n",
       "      <td>2019-08-07</td>\n",
       "      <td>1790</td>\n",
       "      <td>A</td>\n",
       "    </tr>\n",
       "    <tr>\n",
       "      <td>1102</td>\n",
       "      <td>1941707234</td>\n",
       "      <td>199603092</td>\n",
       "      <td>2019-08-12</td>\n",
       "      <td>6438</td>\n",
       "      <td>A</td>\n",
       "    </tr>\n",
       "    <tr>\n",
       "      <td>823</td>\n",
       "      <td>2971973105</td>\n",
       "      <td>199603092</td>\n",
       "      <td>2019-08-27</td>\n",
       "      <td>2790</td>\n",
       "      <td>A</td>\n",
       "    </tr>\n",
       "    <tr>\n",
       "      <td>134</td>\n",
       "      <td>62794304</td>\n",
       "      <td>199603092</td>\n",
       "      <td>2019-08-22</td>\n",
       "      <td>6976</td>\n",
       "      <td>A</td>\n",
       "    </tr>\n",
       "    <tr>\n",
       "      <td>26</td>\n",
       "      <td>2223239646</td>\n",
       "      <td>199603092</td>\n",
       "      <td>2019-08-15</td>\n",
       "      <td>3488</td>\n",
       "      <td>A</td>\n",
       "    </tr>\n",
       "    <tr>\n",
       "      <td>246</td>\n",
       "      <td>437656952</td>\n",
       "      <td>199603092</td>\n",
       "      <td>2019-08-02</td>\n",
       "      <td>3488</td>\n",
       "      <td>B</td>\n",
       "    </tr>\n",
       "    <tr>\n",
       "      <td>1013</td>\n",
       "      <td>83566152</td>\n",
       "      <td>232979603</td>\n",
       "      <td>2019-08-31</td>\n",
       "      <td>60</td>\n",
       "      <td>A</td>\n",
       "    </tr>\n",
       "    <tr>\n",
       "      <td>1009</td>\n",
       "      <td>2670069237</td>\n",
       "      <td>232979603</td>\n",
       "      <td>2019-08-31</td>\n",
       "      <td>2640</td>\n",
       "      <td>B</td>\n",
       "    </tr>\n",
       "    <tr>\n",
       "      <td>1097</td>\n",
       "      <td>3357467820</td>\n",
       "      <td>237748145</td>\n",
       "      <td>2019-08-12</td>\n",
       "      <td>340</td>\n",
       "      <td>A</td>\n",
       "    </tr>\n",
       "  </tbody>\n",
       "</table>\n",
       "</div>"
      ],
      "text/plain": [
       "      transactionid  visitorid       date  revenue group\n",
       "71       3679129301    8300375 2019-08-01    10510     B\n",
       "703      4293855558    8300375 2019-08-07     1790     A\n",
       "1102     1941707234  199603092 2019-08-12     6438     A\n",
       "823      2971973105  199603092 2019-08-27     2790     A\n",
       "134        62794304  199603092 2019-08-22     6976     A\n",
       "26       2223239646  199603092 2019-08-15     3488     A\n",
       "246       437656952  199603092 2019-08-02     3488     B\n",
       "1013       83566152  232979603 2019-08-31       60     A\n",
       "1009     2670069237  232979603 2019-08-31     2640     B\n",
       "1097     3357467820  237748145 2019-08-12      340     A"
      ]
     },
     "execution_count": 11,
     "metadata": {},
     "output_type": "execute_result"
    }
   ],
   "source": [
    "# изучим дубликаты\n",
    "orders.query('visitorid in @dupes').sort_values(by='visitorid').head(10)"
   ]
  },
  {
   "cell_type": "code",
   "execution_count": 12,
   "metadata": {},
   "outputs": [
    {
     "data": {
      "text/plain": [
       "58"
      ]
     },
     "execution_count": 12,
     "metadata": {},
     "output_type": "execute_result"
    }
   ],
   "source": [
    "# из списка общих дубликатов сформируем список дубликатов, присутствующих в обеих группах\n",
    "double_group_dupes = []\n",
    "for i in dupes:\n",
    "    if len(set(orders.query('visitorid == @i')['group'])) > 1:\n",
    "        double_group_dupes.append(i)\n",
    "len(double_group_dupes)"
   ]
  },
  {
   "cell_type": "code",
   "execution_count": 13,
   "metadata": {},
   "outputs": [
    {
     "name": "stdout",
     "output_type": "stream",
     "text": [
      "Количество наблюдений в датасете orders до очистки: 1197\n",
      "Количество наблюдений в датасете orders уменьшится на: 181\n",
      "и после очистки составит: 1016\n"
     ]
    }
   ],
   "source": [
    "print('Количество наблюдений в датасете orders до очистки:', len(orders))\n",
    "print(\n",
    "    'Количество наблюдений в датасете orders уменьшится на:',\n",
    "    len(orders)\n",
    "    -len(orders.query('visitorid not in @double_group_dupes'))\n",
    "    )\n",
    "print('и после очистки составит:', len(orders.query('visitorid not in @double_group_dupes')))"
   ]
  },
  {
   "cell_type": "markdown",
   "metadata": {},
   "source": [
    "Дубликатов более 10% и они могут внести погрешность в решение. Думаю, я их удалю."
   ]
  },
  {
   "cell_type": "code",
   "execution_count": 14,
   "metadata": {},
   "outputs": [
    {
     "name": "stdout",
     "output_type": "stream",
     "text": [
      "<class 'pandas.core.frame.DataFrame'>\n",
      "Int64Index: 1016 entries, 0 to 1196\n",
      "Data columns (total 5 columns):\n",
      "transactionid    1016 non-null int64\n",
      "visitorid        1016 non-null int64\n",
      "date             1016 non-null datetime64[ns]\n",
      "revenue          1016 non-null int64\n",
      "group            1016 non-null object\n",
      "dtypes: datetime64[ns](1), int64(3), object(1)\n",
      "memory usage: 47.6+ KB\n"
     ]
    }
   ],
   "source": [
    "orders = orders.query('visitorid not in @double_group_dupes')\n",
    "\n",
    "# проверим результат\n",
    "orders.info()"
   ]
  },
  {
   "cell_type": "markdown",
   "metadata": {},
   "source": [
    "### Выводы"
   ]
  },
  {
   "cell_type": "markdown",
   "metadata": {},
   "source": [
    "Данные в целом хорошо отобраны. Мы исправили тип данных в столбце date, нашли и почистили дубликаты в пользователях и привели названия столбцов к одному виду. Данные готовы к анализу"
   ]
  },
  {
   "cell_type": "markdown",
   "metadata": {},
   "source": [
    "## Приоритизация гипотез"
   ]
  },
  {
   "cell_type": "markdown",
   "metadata": {},
   "source": [
    "Датасет hypothesis содержит ранее выдвинутые гипотезы по увеличению выручки интернет-магазина с указанными параметрами Reach, Impact, Confidence, Effort, нам необходимо расставить приоритеты и сравнить как приоретизация зависит от применяемого фреймворка\n"
   ]
  },
  {
   "cell_type": "markdown",
   "metadata": {},
   "source": [
    "Рассмотрим предоставленные нам данные"
   ]
  },
  {
   "cell_type": "code",
   "execution_count": 15,
   "metadata": {},
   "outputs": [
    {
     "data": {
      "text/html": [
       "<div>\n",
       "<style scoped>\n",
       "    .dataframe tbody tr th:only-of-type {\n",
       "        vertical-align: middle;\n",
       "    }\n",
       "\n",
       "    .dataframe tbody tr th {\n",
       "        vertical-align: top;\n",
       "    }\n",
       "\n",
       "    .dataframe thead th {\n",
       "        text-align: right;\n",
       "    }\n",
       "</style>\n",
       "<table border=\"1\" class=\"dataframe\">\n",
       "  <thead>\n",
       "    <tr style=\"text-align: right;\">\n",
       "      <th></th>\n",
       "      <th>hypothesis</th>\n",
       "      <th>reach</th>\n",
       "      <th>impact</th>\n",
       "      <th>confidence</th>\n",
       "      <th>efforts</th>\n",
       "    </tr>\n",
       "  </thead>\n",
       "  <tbody>\n",
       "    <tr>\n",
       "      <td>0</td>\n",
       "      <td>Добавить два новых канала привлечения трафика, что позволит привлекать на 30% больше пользователей</td>\n",
       "      <td>3</td>\n",
       "      <td>10</td>\n",
       "      <td>8</td>\n",
       "      <td>6</td>\n",
       "    </tr>\n",
       "    <tr>\n",
       "      <td>1</td>\n",
       "      <td>Запустить собственную службу доставки, что сократит срок доставки заказов</td>\n",
       "      <td>2</td>\n",
       "      <td>5</td>\n",
       "      <td>4</td>\n",
       "      <td>10</td>\n",
       "    </tr>\n",
       "    <tr>\n",
       "      <td>2</td>\n",
       "      <td>Добавить блоки рекомендаций товаров на сайт интернет магазина, чтобы повысить конверсию и средний чек заказа</td>\n",
       "      <td>8</td>\n",
       "      <td>3</td>\n",
       "      <td>7</td>\n",
       "      <td>3</td>\n",
       "    </tr>\n",
       "    <tr>\n",
       "      <td>3</td>\n",
       "      <td>Изменить структура категорий, что увеличит конверсию, т.к. пользователи быстрее найдут нужный товар</td>\n",
       "      <td>8</td>\n",
       "      <td>3</td>\n",
       "      <td>3</td>\n",
       "      <td>8</td>\n",
       "    </tr>\n",
       "    <tr>\n",
       "      <td>4</td>\n",
       "      <td>Изменить цвет фона главной страницы, чтобы увеличить вовлеченность пользователей</td>\n",
       "      <td>3</td>\n",
       "      <td>1</td>\n",
       "      <td>1</td>\n",
       "      <td>1</td>\n",
       "    </tr>\n",
       "    <tr>\n",
       "      <td>5</td>\n",
       "      <td>Добавить страницу отзывов клиентов о магазине, что позволит увеличить количество заказов</td>\n",
       "      <td>3</td>\n",
       "      <td>2</td>\n",
       "      <td>2</td>\n",
       "      <td>3</td>\n",
       "    </tr>\n",
       "    <tr>\n",
       "      <td>6</td>\n",
       "      <td>Показать на главной странице баннеры с актуальными акциями и распродажами, чтобы увеличить конверсию</td>\n",
       "      <td>5</td>\n",
       "      <td>3</td>\n",
       "      <td>8</td>\n",
       "      <td>3</td>\n",
       "    </tr>\n",
       "    <tr>\n",
       "      <td>7</td>\n",
       "      <td>Добавить форму подписки на все основные страницы, чтобы собрать базу клиентов для email-рассылок</td>\n",
       "      <td>10</td>\n",
       "      <td>7</td>\n",
       "      <td>8</td>\n",
       "      <td>5</td>\n",
       "    </tr>\n",
       "    <tr>\n",
       "      <td>8</td>\n",
       "      <td>Запустить акцию, дающую скидку на товар в день рождения</td>\n",
       "      <td>1</td>\n",
       "      <td>9</td>\n",
       "      <td>9</td>\n",
       "      <td>5</td>\n",
       "    </tr>\n",
       "  </tbody>\n",
       "</table>\n",
       "</div>"
      ],
      "text/plain": [
       "                                                                                                     hypothesis  \\\n",
       "0            Добавить два новых канала привлечения трафика, что позволит привлекать на 30% больше пользователей   \n",
       "1                                     Запустить собственную службу доставки, что сократит срок доставки заказов   \n",
       "2  Добавить блоки рекомендаций товаров на сайт интернет магазина, чтобы повысить конверсию и средний чек заказа   \n",
       "3           Изменить структура категорий, что увеличит конверсию, т.к. пользователи быстрее найдут нужный товар   \n",
       "4                              Изменить цвет фона главной страницы, чтобы увеличить вовлеченность пользователей   \n",
       "5                      Добавить страницу отзывов клиентов о магазине, что позволит увеличить количество заказов   \n",
       "6          Показать на главной странице баннеры с актуальными акциями и распродажами, чтобы увеличить конверсию   \n",
       "7              Добавить форму подписки на все основные страницы, чтобы собрать базу клиентов для email-рассылок   \n",
       "8                                                       Запустить акцию, дающую скидку на товар в день рождения   \n",
       "\n",
       "   reach  impact  confidence  efforts  \n",
       "0      3      10           8        6  \n",
       "1      2       5           4       10  \n",
       "2      8       3           7        3  \n",
       "3      8       3           3        8  \n",
       "4      3       1           1        1  \n",
       "5      3       2           2        3  \n",
       "6      5       3           8        3  \n",
       "7     10       7           8        5  \n",
       "8      1       9           9        5  "
      ]
     },
     "execution_count": 15,
     "metadata": {},
     "output_type": "execute_result"
    }
   ],
   "source": [
    "hypothesis"
   ]
  },
  {
   "cell_type": "markdown",
   "metadata": {},
   "source": [
    "### Приоритизация по ICE"
   ]
  },
  {
   "cell_type": "markdown",
   "metadata": {},
   "source": [
    "**ICE** (от англ. impact, confidence, effort / ease «влияние, уверенность, усилия / простота») — один из самых популярных способов приоритизации задач\n",
    "\n",
    "$$ICE = \\frac{Impact * Confidence}{Efforts}$$\n",
    "\n",
    "данный фреймворк состоит из следующих компонент:\n",
    "\n",
    "**Impact** — насколько сильно изменение повлияет на пользователей, их опыт и удовлетворение от продукта;\n",
    "\n",
    "**Confidence** — насколько вы уверены, что это изменение повлияет на пользователей именно так;\n",
    "\n",
    "**Efforts** — сколько стоит протестировать эту гипотезу."
   ]
  },
  {
   "cell_type": "code",
   "execution_count": 16,
   "metadata": {},
   "outputs": [
    {
     "data": {
      "text/html": [
       "<div>\n",
       "<style scoped>\n",
       "    .dataframe tbody tr th:only-of-type {\n",
       "        vertical-align: middle;\n",
       "    }\n",
       "\n",
       "    .dataframe tbody tr th {\n",
       "        vertical-align: top;\n",
       "    }\n",
       "\n",
       "    .dataframe thead th {\n",
       "        text-align: right;\n",
       "    }\n",
       "</style>\n",
       "<table border=\"1\" class=\"dataframe\">\n",
       "  <thead>\n",
       "    <tr style=\"text-align: right;\">\n",
       "      <th></th>\n",
       "      <th>hypothesis</th>\n",
       "      <th>ICE</th>\n",
       "    </tr>\n",
       "  </thead>\n",
       "  <tbody>\n",
       "    <tr>\n",
       "      <td>8</td>\n",
       "      <td>Запустить акцию, дающую скидку на товар в день рождения</td>\n",
       "      <td>16.200000</td>\n",
       "    </tr>\n",
       "    <tr>\n",
       "      <td>0</td>\n",
       "      <td>Добавить два новых канала привлечения трафика, что позволит привлекать на 30% больше пользователей</td>\n",
       "      <td>13.333333</td>\n",
       "    </tr>\n",
       "    <tr>\n",
       "      <td>7</td>\n",
       "      <td>Добавить форму подписки на все основные страницы, чтобы собрать базу клиентов для email-рассылок</td>\n",
       "      <td>11.200000</td>\n",
       "    </tr>\n",
       "    <tr>\n",
       "      <td>6</td>\n",
       "      <td>Показать на главной странице баннеры с актуальными акциями и распродажами, чтобы увеличить конверсию</td>\n",
       "      <td>8.000000</td>\n",
       "    </tr>\n",
       "    <tr>\n",
       "      <td>2</td>\n",
       "      <td>Добавить блоки рекомендаций товаров на сайт интернет магазина, чтобы повысить конверсию и средний чек заказа</td>\n",
       "      <td>7.000000</td>\n",
       "    </tr>\n",
       "    <tr>\n",
       "      <td>1</td>\n",
       "      <td>Запустить собственную службу доставки, что сократит срок доставки заказов</td>\n",
       "      <td>2.000000</td>\n",
       "    </tr>\n",
       "    <tr>\n",
       "      <td>5</td>\n",
       "      <td>Добавить страницу отзывов клиентов о магазине, что позволит увеличить количество заказов</td>\n",
       "      <td>1.333333</td>\n",
       "    </tr>\n",
       "    <tr>\n",
       "      <td>3</td>\n",
       "      <td>Изменить структура категорий, что увеличит конверсию, т.к. пользователи быстрее найдут нужный товар</td>\n",
       "      <td>1.125000</td>\n",
       "    </tr>\n",
       "    <tr>\n",
       "      <td>4</td>\n",
       "      <td>Изменить цвет фона главной страницы, чтобы увеличить вовлеченность пользователей</td>\n",
       "      <td>1.000000</td>\n",
       "    </tr>\n",
       "  </tbody>\n",
       "</table>\n",
       "</div>"
      ],
      "text/plain": [
       "                                                                                                     hypothesis  \\\n",
       "8                                                       Запустить акцию, дающую скидку на товар в день рождения   \n",
       "0            Добавить два новых канала привлечения трафика, что позволит привлекать на 30% больше пользователей   \n",
       "7              Добавить форму подписки на все основные страницы, чтобы собрать базу клиентов для email-рассылок   \n",
       "6          Показать на главной странице баннеры с актуальными акциями и распродажами, чтобы увеличить конверсию   \n",
       "2  Добавить блоки рекомендаций товаров на сайт интернет магазина, чтобы повысить конверсию и средний чек заказа   \n",
       "1                                     Запустить собственную службу доставки, что сократит срок доставки заказов   \n",
       "5                      Добавить страницу отзывов клиентов о магазине, что позволит увеличить количество заказов   \n",
       "3           Изменить структура категорий, что увеличит конверсию, т.к. пользователи быстрее найдут нужный товар   \n",
       "4                              Изменить цвет фона главной страницы, чтобы увеличить вовлеченность пользователей   \n",
       "\n",
       "         ICE  \n",
       "8  16.200000  \n",
       "0  13.333333  \n",
       "7  11.200000  \n",
       "6   8.000000  \n",
       "2   7.000000  \n",
       "1   2.000000  \n",
       "5   1.333333  \n",
       "3   1.125000  \n",
       "4   1.000000  "
      ]
     },
     "metadata": {},
     "output_type": "display_data"
    }
   ],
   "source": [
    "# расчитаем ICE и добавим оценку в таблицу\n",
    "hypothesis['ICE'] = (hypothesis['impact'] * hypothesis['confidence']) / hypothesis['efforts']\n",
    "\n",
    "# выведем на экран\n",
    "display(hypothesis[['hypothesis', 'ICE']].sort_values(by='ICE', ascending=False))"
   ]
  },
  {
   "cell_type": "markdown",
   "metadata": {},
   "source": [
    "Точно видны самые приоритетные гипотезы, можно утверждать, что 8,0,7 гипотезы отчетливо более приоритетны"
   ]
  },
  {
   "cell_type": "markdown",
   "metadata": {},
   "source": [
    "### Приоритизация по RICE"
   ]
  },
  {
   "cell_type": "markdown",
   "metadata": {},
   "source": [
    "Фреймворк **RICE** является модификацией ICE\n",
    "\n",
    "$$RICE = \\frac{Rearch * Impact * Confidence}{Efforts}$$\n",
    "\n",
    "и добавляет компоненту\n",
    "\n",
    "**Rearch** — скольких пользователей затронет изменение, которое вы хотите внести;"
   ]
  },
  {
   "cell_type": "code",
   "execution_count": 17,
   "metadata": {},
   "outputs": [
    {
     "data": {
      "text/html": [
       "<div>\n",
       "<style scoped>\n",
       "    .dataframe tbody tr th:only-of-type {\n",
       "        vertical-align: middle;\n",
       "    }\n",
       "\n",
       "    .dataframe tbody tr th {\n",
       "        vertical-align: top;\n",
       "    }\n",
       "\n",
       "    .dataframe thead th {\n",
       "        text-align: right;\n",
       "    }\n",
       "</style>\n",
       "<table border=\"1\" class=\"dataframe\">\n",
       "  <thead>\n",
       "    <tr style=\"text-align: right;\">\n",
       "      <th></th>\n",
       "      <th>hypothesis</th>\n",
       "      <th>RICE</th>\n",
       "    </tr>\n",
       "  </thead>\n",
       "  <tbody>\n",
       "    <tr>\n",
       "      <td>7</td>\n",
       "      <td>Добавить форму подписки на все основные страницы, чтобы собрать базу клиентов для email-рассылок</td>\n",
       "      <td>112.0</td>\n",
       "    </tr>\n",
       "    <tr>\n",
       "      <td>2</td>\n",
       "      <td>Добавить блоки рекомендаций товаров на сайт интернет магазина, чтобы повысить конверсию и средний чек заказа</td>\n",
       "      <td>56.0</td>\n",
       "    </tr>\n",
       "    <tr>\n",
       "      <td>0</td>\n",
       "      <td>Добавить два новых канала привлечения трафика, что позволит привлекать на 30% больше пользователей</td>\n",
       "      <td>40.0</td>\n",
       "    </tr>\n",
       "    <tr>\n",
       "      <td>6</td>\n",
       "      <td>Показать на главной странице баннеры с актуальными акциями и распродажами, чтобы увеличить конверсию</td>\n",
       "      <td>40.0</td>\n",
       "    </tr>\n",
       "    <tr>\n",
       "      <td>8</td>\n",
       "      <td>Запустить акцию, дающую скидку на товар в день рождения</td>\n",
       "      <td>16.2</td>\n",
       "    </tr>\n",
       "    <tr>\n",
       "      <td>3</td>\n",
       "      <td>Изменить структура категорий, что увеличит конверсию, т.к. пользователи быстрее найдут нужный товар</td>\n",
       "      <td>9.0</td>\n",
       "    </tr>\n",
       "    <tr>\n",
       "      <td>1</td>\n",
       "      <td>Запустить собственную службу доставки, что сократит срок доставки заказов</td>\n",
       "      <td>4.0</td>\n",
       "    </tr>\n",
       "    <tr>\n",
       "      <td>5</td>\n",
       "      <td>Добавить страницу отзывов клиентов о магазине, что позволит увеличить количество заказов</td>\n",
       "      <td>4.0</td>\n",
       "    </tr>\n",
       "    <tr>\n",
       "      <td>4</td>\n",
       "      <td>Изменить цвет фона главной страницы, чтобы увеличить вовлеченность пользователей</td>\n",
       "      <td>3.0</td>\n",
       "    </tr>\n",
       "  </tbody>\n",
       "</table>\n",
       "</div>"
      ],
      "text/plain": [
       "                                                                                                     hypothesis  \\\n",
       "7              Добавить форму подписки на все основные страницы, чтобы собрать базу клиентов для email-рассылок   \n",
       "2  Добавить блоки рекомендаций товаров на сайт интернет магазина, чтобы повысить конверсию и средний чек заказа   \n",
       "0            Добавить два новых канала привлечения трафика, что позволит привлекать на 30% больше пользователей   \n",
       "6          Показать на главной странице баннеры с актуальными акциями и распродажами, чтобы увеличить конверсию   \n",
       "8                                                       Запустить акцию, дающую скидку на товар в день рождения   \n",
       "3           Изменить структура категорий, что увеличит конверсию, т.к. пользователи быстрее найдут нужный товар   \n",
       "1                                     Запустить собственную службу доставки, что сократит срок доставки заказов   \n",
       "5                      Добавить страницу отзывов клиентов о магазине, что позволит увеличить количество заказов   \n",
       "4                              Изменить цвет фона главной страницы, чтобы увеличить вовлеченность пользователей   \n",
       "\n",
       "    RICE  \n",
       "7  112.0  \n",
       "2   56.0  \n",
       "0   40.0  \n",
       "6   40.0  \n",
       "8   16.2  \n",
       "3    9.0  \n",
       "1    4.0  \n",
       "5    4.0  \n",
       "4    3.0  "
      ]
     },
     "metadata": {},
     "output_type": "display_data"
    }
   ],
   "source": [
    "# расчитаем RICE и добавим оценку в таблицу\n",
    "hypothesis['RICE'] = (hypothesis['reach'] * hypothesis['impact'] * hypothesis['confidence']) / hypothesis['efforts']\n",
    "\n",
    "# выведем на экран\n",
    "display(hypothesis[['hypothesis', 'RICE']].sort_values(by='RICE', ascending=False))"
   ]
  },
  {
   "cell_type": "markdown",
   "metadata": {},
   "source": [
    "Отчетливо виден лидер, это гипотеза 7, также выделяются и сильно гипотезы 2, 0 и 6. Остальные сильно им уступают"
   ]
  },
  {
   "cell_type": "markdown",
   "metadata": {},
   "source": [
    "### Анализ гипотез по ICE и RICE"
   ]
  },
  {
   "cell_type": "markdown",
   "metadata": {},
   "source": [
    "Изучим топ-3 гипотез по разным фреймворкам."
   ]
  },
  {
   "cell_type": "code",
   "execution_count": 18,
   "metadata": {},
   "outputs": [
    {
     "data": {
      "text/html": [
       "<style  type=\"text/css\" >\n",
       "</style><table id=\"T_4bc9c35c_3bf6_11ec_a0e4_02420a393575\" ><caption>ТОП-3 ГИПОТЕЗ ПО ФРЕЙМВОРКУ ICE</caption><thead>    <tr>        <th class=\"blank level0\" ></th>        <th class=\"col_heading level0 col0\" >hypothesis</th>        <th class=\"col_heading level0 col1\" >reach</th>        <th class=\"col_heading level0 col2\" >impact</th>        <th class=\"col_heading level0 col3\" >confidence</th>        <th class=\"col_heading level0 col4\" >efforts</th>        <th class=\"col_heading level0 col5\" >ICE</th>        <th class=\"col_heading level0 col6\" >RICE</th>    </tr></thead><tbody>\n",
       "                <tr>\n",
       "                        <th id=\"T_4bc9c35c_3bf6_11ec_a0e4_02420a393575level0_row0\" class=\"row_heading level0 row0\" >8</th>\n",
       "                        <td id=\"T_4bc9c35c_3bf6_11ec_a0e4_02420a393575row0_col0\" class=\"data row0 col0\" >Запустить акцию, дающую скидку на товар в день рождения</td>\n",
       "                        <td id=\"T_4bc9c35c_3bf6_11ec_a0e4_02420a393575row0_col1\" class=\"data row0 col1\" >1</td>\n",
       "                        <td id=\"T_4bc9c35c_3bf6_11ec_a0e4_02420a393575row0_col2\" class=\"data row0 col2\" >9</td>\n",
       "                        <td id=\"T_4bc9c35c_3bf6_11ec_a0e4_02420a393575row0_col3\" class=\"data row0 col3\" >9</td>\n",
       "                        <td id=\"T_4bc9c35c_3bf6_11ec_a0e4_02420a393575row0_col4\" class=\"data row0 col4\" >5</td>\n",
       "                        <td id=\"T_4bc9c35c_3bf6_11ec_a0e4_02420a393575row0_col5\" class=\"data row0 col5\" >16.2</td>\n",
       "                        <td id=\"T_4bc9c35c_3bf6_11ec_a0e4_02420a393575row0_col6\" class=\"data row0 col6\" >16.2</td>\n",
       "            </tr>\n",
       "            <tr>\n",
       "                        <th id=\"T_4bc9c35c_3bf6_11ec_a0e4_02420a393575level0_row1\" class=\"row_heading level0 row1\" >0</th>\n",
       "                        <td id=\"T_4bc9c35c_3bf6_11ec_a0e4_02420a393575row1_col0\" class=\"data row1 col0\" >Добавить два новых канала привлечения трафика, что позволит привлекать на 30% больше пользователей</td>\n",
       "                        <td id=\"T_4bc9c35c_3bf6_11ec_a0e4_02420a393575row1_col1\" class=\"data row1 col1\" >3</td>\n",
       "                        <td id=\"T_4bc9c35c_3bf6_11ec_a0e4_02420a393575row1_col2\" class=\"data row1 col2\" >10</td>\n",
       "                        <td id=\"T_4bc9c35c_3bf6_11ec_a0e4_02420a393575row1_col3\" class=\"data row1 col3\" >8</td>\n",
       "                        <td id=\"T_4bc9c35c_3bf6_11ec_a0e4_02420a393575row1_col4\" class=\"data row1 col4\" >6</td>\n",
       "                        <td id=\"T_4bc9c35c_3bf6_11ec_a0e4_02420a393575row1_col5\" class=\"data row1 col5\" >13.3333</td>\n",
       "                        <td id=\"T_4bc9c35c_3bf6_11ec_a0e4_02420a393575row1_col6\" class=\"data row1 col6\" >40</td>\n",
       "            </tr>\n",
       "            <tr>\n",
       "                        <th id=\"T_4bc9c35c_3bf6_11ec_a0e4_02420a393575level0_row2\" class=\"row_heading level0 row2\" >7</th>\n",
       "                        <td id=\"T_4bc9c35c_3bf6_11ec_a0e4_02420a393575row2_col0\" class=\"data row2 col0\" >Добавить форму подписки на все основные страницы, чтобы собрать базу клиентов для email-рассылок</td>\n",
       "                        <td id=\"T_4bc9c35c_3bf6_11ec_a0e4_02420a393575row2_col1\" class=\"data row2 col1\" >10</td>\n",
       "                        <td id=\"T_4bc9c35c_3bf6_11ec_a0e4_02420a393575row2_col2\" class=\"data row2 col2\" >7</td>\n",
       "                        <td id=\"T_4bc9c35c_3bf6_11ec_a0e4_02420a393575row2_col3\" class=\"data row2 col3\" >8</td>\n",
       "                        <td id=\"T_4bc9c35c_3bf6_11ec_a0e4_02420a393575row2_col4\" class=\"data row2 col4\" >5</td>\n",
       "                        <td id=\"T_4bc9c35c_3bf6_11ec_a0e4_02420a393575row2_col5\" class=\"data row2 col5\" >11.2</td>\n",
       "                        <td id=\"T_4bc9c35c_3bf6_11ec_a0e4_02420a393575row2_col6\" class=\"data row2 col6\" >112</td>\n",
       "            </tr>\n",
       "    </tbody></table>"
      ],
      "text/plain": [
       "<pandas.io.formats.style.Styler at 0x7f6171d88ad0>"
      ]
     },
     "metadata": {},
     "output_type": "display_data"
    },
    {
     "data": {
      "text/html": [
       "<style  type=\"text/css\" >\n",
       "</style><table id=\"T_4bcad0d0_3bf6_11ec_a0e4_02420a393575\" ><caption>ТОП-3 ГИПОТЕЗ ПО ФРЕЙМВОРКУ RICE</caption><thead>    <tr>        <th class=\"blank level0\" ></th>        <th class=\"col_heading level0 col0\" >hypothesis</th>        <th class=\"col_heading level0 col1\" >reach</th>        <th class=\"col_heading level0 col2\" >impact</th>        <th class=\"col_heading level0 col3\" >confidence</th>        <th class=\"col_heading level0 col4\" >efforts</th>        <th class=\"col_heading level0 col5\" >ICE</th>        <th class=\"col_heading level0 col6\" >RICE</th>    </tr></thead><tbody>\n",
       "                <tr>\n",
       "                        <th id=\"T_4bcad0d0_3bf6_11ec_a0e4_02420a393575level0_row0\" class=\"row_heading level0 row0\" >7</th>\n",
       "                        <td id=\"T_4bcad0d0_3bf6_11ec_a0e4_02420a393575row0_col0\" class=\"data row0 col0\" >Добавить форму подписки на все основные страницы, чтобы собрать базу клиентов для email-рассылок</td>\n",
       "                        <td id=\"T_4bcad0d0_3bf6_11ec_a0e4_02420a393575row0_col1\" class=\"data row0 col1\" >10</td>\n",
       "                        <td id=\"T_4bcad0d0_3bf6_11ec_a0e4_02420a393575row0_col2\" class=\"data row0 col2\" >7</td>\n",
       "                        <td id=\"T_4bcad0d0_3bf6_11ec_a0e4_02420a393575row0_col3\" class=\"data row0 col3\" >8</td>\n",
       "                        <td id=\"T_4bcad0d0_3bf6_11ec_a0e4_02420a393575row0_col4\" class=\"data row0 col4\" >5</td>\n",
       "                        <td id=\"T_4bcad0d0_3bf6_11ec_a0e4_02420a393575row0_col5\" class=\"data row0 col5\" >11.2</td>\n",
       "                        <td id=\"T_4bcad0d0_3bf6_11ec_a0e4_02420a393575row0_col6\" class=\"data row0 col6\" >112</td>\n",
       "            </tr>\n",
       "            <tr>\n",
       "                        <th id=\"T_4bcad0d0_3bf6_11ec_a0e4_02420a393575level0_row1\" class=\"row_heading level0 row1\" >2</th>\n",
       "                        <td id=\"T_4bcad0d0_3bf6_11ec_a0e4_02420a393575row1_col0\" class=\"data row1 col0\" >Добавить блоки рекомендаций товаров на сайт интернет магазина, чтобы повысить конверсию и средний чек заказа</td>\n",
       "                        <td id=\"T_4bcad0d0_3bf6_11ec_a0e4_02420a393575row1_col1\" class=\"data row1 col1\" >8</td>\n",
       "                        <td id=\"T_4bcad0d0_3bf6_11ec_a0e4_02420a393575row1_col2\" class=\"data row1 col2\" >3</td>\n",
       "                        <td id=\"T_4bcad0d0_3bf6_11ec_a0e4_02420a393575row1_col3\" class=\"data row1 col3\" >7</td>\n",
       "                        <td id=\"T_4bcad0d0_3bf6_11ec_a0e4_02420a393575row1_col4\" class=\"data row1 col4\" >3</td>\n",
       "                        <td id=\"T_4bcad0d0_3bf6_11ec_a0e4_02420a393575row1_col5\" class=\"data row1 col5\" >7</td>\n",
       "                        <td id=\"T_4bcad0d0_3bf6_11ec_a0e4_02420a393575row1_col6\" class=\"data row1 col6\" >56</td>\n",
       "            </tr>\n",
       "            <tr>\n",
       "                        <th id=\"T_4bcad0d0_3bf6_11ec_a0e4_02420a393575level0_row2\" class=\"row_heading level0 row2\" >0</th>\n",
       "                        <td id=\"T_4bcad0d0_3bf6_11ec_a0e4_02420a393575row2_col0\" class=\"data row2 col0\" >Добавить два новых канала привлечения трафика, что позволит привлекать на 30% больше пользователей</td>\n",
       "                        <td id=\"T_4bcad0d0_3bf6_11ec_a0e4_02420a393575row2_col1\" class=\"data row2 col1\" >3</td>\n",
       "                        <td id=\"T_4bcad0d0_3bf6_11ec_a0e4_02420a393575row2_col2\" class=\"data row2 col2\" >10</td>\n",
       "                        <td id=\"T_4bcad0d0_3bf6_11ec_a0e4_02420a393575row2_col3\" class=\"data row2 col3\" >8</td>\n",
       "                        <td id=\"T_4bcad0d0_3bf6_11ec_a0e4_02420a393575row2_col4\" class=\"data row2 col4\" >6</td>\n",
       "                        <td id=\"T_4bcad0d0_3bf6_11ec_a0e4_02420a393575row2_col5\" class=\"data row2 col5\" >13.3333</td>\n",
       "                        <td id=\"T_4bcad0d0_3bf6_11ec_a0e4_02420a393575row2_col6\" class=\"data row2 col6\" >40</td>\n",
       "            </tr>\n",
       "    </tbody></table>"
      ],
      "text/plain": [
       "<pandas.io.formats.style.Styler at 0x7f6171cc3b90>"
      ]
     },
     "metadata": {},
     "output_type": "display_data"
    },
    {
     "data": {
      "text/html": [
       "<style  type=\"text/css\" >\n",
       "</style><table id=\"T_4bcb6dc4_3bf6_11ec_a0e4_02420a393575\" ><caption>ГИПОТЕЗЫ ПО ПАРАМЕТРУ REACH (Охват)</caption><thead>    <tr>        <th class=\"blank level0\" ></th>        <th class=\"col_heading level0 col0\" >hypothesis</th>        <th class=\"col_heading level0 col1\" >reach</th>        <th class=\"col_heading level0 col2\" >impact</th>        <th class=\"col_heading level0 col3\" >confidence</th>        <th class=\"col_heading level0 col4\" >efforts</th>        <th class=\"col_heading level0 col5\" >ICE</th>        <th class=\"col_heading level0 col6\" >RICE</th>    </tr></thead><tbody>\n",
       "                <tr>\n",
       "                        <th id=\"T_4bcb6dc4_3bf6_11ec_a0e4_02420a393575level0_row0\" class=\"row_heading level0 row0\" >7</th>\n",
       "                        <td id=\"T_4bcb6dc4_3bf6_11ec_a0e4_02420a393575row0_col0\" class=\"data row0 col0\" >Добавить форму подписки на все основные страницы, чтобы собрать базу клиентов для email-рассылок</td>\n",
       "                        <td id=\"T_4bcb6dc4_3bf6_11ec_a0e4_02420a393575row0_col1\" class=\"data row0 col1\" >10</td>\n",
       "                        <td id=\"T_4bcb6dc4_3bf6_11ec_a0e4_02420a393575row0_col2\" class=\"data row0 col2\" >7</td>\n",
       "                        <td id=\"T_4bcb6dc4_3bf6_11ec_a0e4_02420a393575row0_col3\" class=\"data row0 col3\" >8</td>\n",
       "                        <td id=\"T_4bcb6dc4_3bf6_11ec_a0e4_02420a393575row0_col4\" class=\"data row0 col4\" >5</td>\n",
       "                        <td id=\"T_4bcb6dc4_3bf6_11ec_a0e4_02420a393575row0_col5\" class=\"data row0 col5\" >11.2</td>\n",
       "                        <td id=\"T_4bcb6dc4_3bf6_11ec_a0e4_02420a393575row0_col6\" class=\"data row0 col6\" >112</td>\n",
       "            </tr>\n",
       "            <tr>\n",
       "                        <th id=\"T_4bcb6dc4_3bf6_11ec_a0e4_02420a393575level0_row1\" class=\"row_heading level0 row1\" >2</th>\n",
       "                        <td id=\"T_4bcb6dc4_3bf6_11ec_a0e4_02420a393575row1_col0\" class=\"data row1 col0\" >Добавить блоки рекомендаций товаров на сайт интернет магазина, чтобы повысить конверсию и средний чек заказа</td>\n",
       "                        <td id=\"T_4bcb6dc4_3bf6_11ec_a0e4_02420a393575row1_col1\" class=\"data row1 col1\" >8</td>\n",
       "                        <td id=\"T_4bcb6dc4_3bf6_11ec_a0e4_02420a393575row1_col2\" class=\"data row1 col2\" >3</td>\n",
       "                        <td id=\"T_4bcb6dc4_3bf6_11ec_a0e4_02420a393575row1_col3\" class=\"data row1 col3\" >7</td>\n",
       "                        <td id=\"T_4bcb6dc4_3bf6_11ec_a0e4_02420a393575row1_col4\" class=\"data row1 col4\" >3</td>\n",
       "                        <td id=\"T_4bcb6dc4_3bf6_11ec_a0e4_02420a393575row1_col5\" class=\"data row1 col5\" >7</td>\n",
       "                        <td id=\"T_4bcb6dc4_3bf6_11ec_a0e4_02420a393575row1_col6\" class=\"data row1 col6\" >56</td>\n",
       "            </tr>\n",
       "            <tr>\n",
       "                        <th id=\"T_4bcb6dc4_3bf6_11ec_a0e4_02420a393575level0_row2\" class=\"row_heading level0 row2\" >3</th>\n",
       "                        <td id=\"T_4bcb6dc4_3bf6_11ec_a0e4_02420a393575row2_col0\" class=\"data row2 col0\" >Изменить структура категорий, что увеличит конверсию, т.к. пользователи быстрее найдут нужный товар</td>\n",
       "                        <td id=\"T_4bcb6dc4_3bf6_11ec_a0e4_02420a393575row2_col1\" class=\"data row2 col1\" >8</td>\n",
       "                        <td id=\"T_4bcb6dc4_3bf6_11ec_a0e4_02420a393575row2_col2\" class=\"data row2 col2\" >3</td>\n",
       "                        <td id=\"T_4bcb6dc4_3bf6_11ec_a0e4_02420a393575row2_col3\" class=\"data row2 col3\" >3</td>\n",
       "                        <td id=\"T_4bcb6dc4_3bf6_11ec_a0e4_02420a393575row2_col4\" class=\"data row2 col4\" >8</td>\n",
       "                        <td id=\"T_4bcb6dc4_3bf6_11ec_a0e4_02420a393575row2_col5\" class=\"data row2 col5\" >1.125</td>\n",
       "                        <td id=\"T_4bcb6dc4_3bf6_11ec_a0e4_02420a393575row2_col6\" class=\"data row2 col6\" >9</td>\n",
       "            </tr>\n",
       "            <tr>\n",
       "                        <th id=\"T_4bcb6dc4_3bf6_11ec_a0e4_02420a393575level0_row3\" class=\"row_heading level0 row3\" >6</th>\n",
       "                        <td id=\"T_4bcb6dc4_3bf6_11ec_a0e4_02420a393575row3_col0\" class=\"data row3 col0\" >Показать на главной странице баннеры с актуальными акциями и распродажами, чтобы увеличить конверсию</td>\n",
       "                        <td id=\"T_4bcb6dc4_3bf6_11ec_a0e4_02420a393575row3_col1\" class=\"data row3 col1\" >5</td>\n",
       "                        <td id=\"T_4bcb6dc4_3bf6_11ec_a0e4_02420a393575row3_col2\" class=\"data row3 col2\" >3</td>\n",
       "                        <td id=\"T_4bcb6dc4_3bf6_11ec_a0e4_02420a393575row3_col3\" class=\"data row3 col3\" >8</td>\n",
       "                        <td id=\"T_4bcb6dc4_3bf6_11ec_a0e4_02420a393575row3_col4\" class=\"data row3 col4\" >3</td>\n",
       "                        <td id=\"T_4bcb6dc4_3bf6_11ec_a0e4_02420a393575row3_col5\" class=\"data row3 col5\" >8</td>\n",
       "                        <td id=\"T_4bcb6dc4_3bf6_11ec_a0e4_02420a393575row3_col6\" class=\"data row3 col6\" >40</td>\n",
       "            </tr>\n",
       "            <tr>\n",
       "                        <th id=\"T_4bcb6dc4_3bf6_11ec_a0e4_02420a393575level0_row4\" class=\"row_heading level0 row4\" >0</th>\n",
       "                        <td id=\"T_4bcb6dc4_3bf6_11ec_a0e4_02420a393575row4_col0\" class=\"data row4 col0\" >Добавить два новых канала привлечения трафика, что позволит привлекать на 30% больше пользователей</td>\n",
       "                        <td id=\"T_4bcb6dc4_3bf6_11ec_a0e4_02420a393575row4_col1\" class=\"data row4 col1\" >3</td>\n",
       "                        <td id=\"T_4bcb6dc4_3bf6_11ec_a0e4_02420a393575row4_col2\" class=\"data row4 col2\" >10</td>\n",
       "                        <td id=\"T_4bcb6dc4_3bf6_11ec_a0e4_02420a393575row4_col3\" class=\"data row4 col3\" >8</td>\n",
       "                        <td id=\"T_4bcb6dc4_3bf6_11ec_a0e4_02420a393575row4_col4\" class=\"data row4 col4\" >6</td>\n",
       "                        <td id=\"T_4bcb6dc4_3bf6_11ec_a0e4_02420a393575row4_col5\" class=\"data row4 col5\" >13.3333</td>\n",
       "                        <td id=\"T_4bcb6dc4_3bf6_11ec_a0e4_02420a393575row4_col6\" class=\"data row4 col6\" >40</td>\n",
       "            </tr>\n",
       "            <tr>\n",
       "                        <th id=\"T_4bcb6dc4_3bf6_11ec_a0e4_02420a393575level0_row5\" class=\"row_heading level0 row5\" >4</th>\n",
       "                        <td id=\"T_4bcb6dc4_3bf6_11ec_a0e4_02420a393575row5_col0\" class=\"data row5 col0\" >Изменить цвет фона главной страницы, чтобы увеличить вовлеченность пользователей</td>\n",
       "                        <td id=\"T_4bcb6dc4_3bf6_11ec_a0e4_02420a393575row5_col1\" class=\"data row5 col1\" >3</td>\n",
       "                        <td id=\"T_4bcb6dc4_3bf6_11ec_a0e4_02420a393575row5_col2\" class=\"data row5 col2\" >1</td>\n",
       "                        <td id=\"T_4bcb6dc4_3bf6_11ec_a0e4_02420a393575row5_col3\" class=\"data row5 col3\" >1</td>\n",
       "                        <td id=\"T_4bcb6dc4_3bf6_11ec_a0e4_02420a393575row5_col4\" class=\"data row5 col4\" >1</td>\n",
       "                        <td id=\"T_4bcb6dc4_3bf6_11ec_a0e4_02420a393575row5_col5\" class=\"data row5 col5\" >1</td>\n",
       "                        <td id=\"T_4bcb6dc4_3bf6_11ec_a0e4_02420a393575row5_col6\" class=\"data row5 col6\" >3</td>\n",
       "            </tr>\n",
       "            <tr>\n",
       "                        <th id=\"T_4bcb6dc4_3bf6_11ec_a0e4_02420a393575level0_row6\" class=\"row_heading level0 row6\" >5</th>\n",
       "                        <td id=\"T_4bcb6dc4_3bf6_11ec_a0e4_02420a393575row6_col0\" class=\"data row6 col0\" >Добавить страницу отзывов клиентов о магазине, что позволит увеличить количество заказов</td>\n",
       "                        <td id=\"T_4bcb6dc4_3bf6_11ec_a0e4_02420a393575row6_col1\" class=\"data row6 col1\" >3</td>\n",
       "                        <td id=\"T_4bcb6dc4_3bf6_11ec_a0e4_02420a393575row6_col2\" class=\"data row6 col2\" >2</td>\n",
       "                        <td id=\"T_4bcb6dc4_3bf6_11ec_a0e4_02420a393575row6_col3\" class=\"data row6 col3\" >2</td>\n",
       "                        <td id=\"T_4bcb6dc4_3bf6_11ec_a0e4_02420a393575row6_col4\" class=\"data row6 col4\" >3</td>\n",
       "                        <td id=\"T_4bcb6dc4_3bf6_11ec_a0e4_02420a393575row6_col5\" class=\"data row6 col5\" >1.33333</td>\n",
       "                        <td id=\"T_4bcb6dc4_3bf6_11ec_a0e4_02420a393575row6_col6\" class=\"data row6 col6\" >4</td>\n",
       "            </tr>\n",
       "            <tr>\n",
       "                        <th id=\"T_4bcb6dc4_3bf6_11ec_a0e4_02420a393575level0_row7\" class=\"row_heading level0 row7\" >1</th>\n",
       "                        <td id=\"T_4bcb6dc4_3bf6_11ec_a0e4_02420a393575row7_col0\" class=\"data row7 col0\" >Запустить собственную службу доставки, что сократит срок доставки заказов</td>\n",
       "                        <td id=\"T_4bcb6dc4_3bf6_11ec_a0e4_02420a393575row7_col1\" class=\"data row7 col1\" >2</td>\n",
       "                        <td id=\"T_4bcb6dc4_3bf6_11ec_a0e4_02420a393575row7_col2\" class=\"data row7 col2\" >5</td>\n",
       "                        <td id=\"T_4bcb6dc4_3bf6_11ec_a0e4_02420a393575row7_col3\" class=\"data row7 col3\" >4</td>\n",
       "                        <td id=\"T_4bcb6dc4_3bf6_11ec_a0e4_02420a393575row7_col4\" class=\"data row7 col4\" >10</td>\n",
       "                        <td id=\"T_4bcb6dc4_3bf6_11ec_a0e4_02420a393575row7_col5\" class=\"data row7 col5\" >2</td>\n",
       "                        <td id=\"T_4bcb6dc4_3bf6_11ec_a0e4_02420a393575row7_col6\" class=\"data row7 col6\" >4</td>\n",
       "            </tr>\n",
       "            <tr>\n",
       "                        <th id=\"T_4bcb6dc4_3bf6_11ec_a0e4_02420a393575level0_row8\" class=\"row_heading level0 row8\" >8</th>\n",
       "                        <td id=\"T_4bcb6dc4_3bf6_11ec_a0e4_02420a393575row8_col0\" class=\"data row8 col0\" >Запустить акцию, дающую скидку на товар в день рождения</td>\n",
       "                        <td id=\"T_4bcb6dc4_3bf6_11ec_a0e4_02420a393575row8_col1\" class=\"data row8 col1\" >1</td>\n",
       "                        <td id=\"T_4bcb6dc4_3bf6_11ec_a0e4_02420a393575row8_col2\" class=\"data row8 col2\" >9</td>\n",
       "                        <td id=\"T_4bcb6dc4_3bf6_11ec_a0e4_02420a393575row8_col3\" class=\"data row8 col3\" >9</td>\n",
       "                        <td id=\"T_4bcb6dc4_3bf6_11ec_a0e4_02420a393575row8_col4\" class=\"data row8 col4\" >5</td>\n",
       "                        <td id=\"T_4bcb6dc4_3bf6_11ec_a0e4_02420a393575row8_col5\" class=\"data row8 col5\" >16.2</td>\n",
       "                        <td id=\"T_4bcb6dc4_3bf6_11ec_a0e4_02420a393575row8_col6\" class=\"data row8 col6\" >16.2</td>\n",
       "            </tr>\n",
       "    </tbody></table>"
      ],
      "text/plain": [
       "<pandas.io.formats.style.Styler at 0x7f61719400d0>"
      ]
     },
     "metadata": {},
     "output_type": "display_data"
    }
   ],
   "source": [
    "# выведем топ-3 по разным фреймворкам\n",
    "display(hypothesis.sort_values(by='ICE', ascending=False).head(3).style.set_caption('ТОП-3 ГИПОТЕЗ ПО ФРЕЙМВОРКУ ICE'))\n",
    "display(hypothesis.sort_values(by='RICE', ascending=False).head(3).style.set_caption('ТОП-3 ГИПОТЕЗ ПО ФРЕЙМВОРКУ RICE'))\n",
    "\n",
    "# выведем гипотезы по охвату\n",
    "display(hypothesis.sort_values(by='reach', ascending=False).style.set_caption('ГИПОТЕЗЫ ПО ПАРАМЕТРУ REACH (Охват)'))"
   ]
  },
  {
   "cell_type": "markdown",
   "metadata": {},
   "source": [
    "### Выводы"
   ]
  },
  {
   "cell_type": "markdown",
   "metadata": {},
   "source": [
    "В целом фреймворк ICE и его модификация RICE дают похожие результаты. Введение параметра Reach (Охват) только несколько корректирует результаты и делает приоретизацию гипотезы более явной. На мой взгляд основное влияние на результат даёт регулировка параметра Efforts (стоимость теста). Это отчетливо видно на примере сравнения гипотезы 4 и 5 когда имеющая более слабые оценки гипотеза 4 имеет сравнимую приоритетность только потому, что её проверка будет стоить сильно дешевле.\n",
    "\n",
    "В целом я бы рекомендовал сосредоточиться на всех гипотезах входящих в топ 3 и ICE и RICE. Гипотеза 8, которая не вошла в топ три по RICE имеет самый высокий уровень Confidence и сработает почти наверняка, несмотря на то, что охватит небольшую часть пользователей. "
   ]
  },
  {
   "cell_type": "markdown",
   "metadata": {},
   "source": [
    "## Анализ А/В-теста"
   ]
  },
  {
   "cell_type": "markdown",
   "metadata": {},
   "source": [
    "Проанализировать A/B-тест. Подготовить выводы и предположение по следующим пунктам:\n",
    "1. Построить график кумулятивной выручки по группам.\n",
    "2. Построить график кумулятивного среднего чека по группам. \n",
    "3. Построить график относительного изменения кумулятивного среднего чека группы B к группе A. \n",
    "4. Построить график кумулятивной конверсии по группам. \n",
    "5. Построить график относительного изменения кумулятивной конверсии группы B к группе A. \n",
    "6. Построить точечный график количества заказов по пользователям. \n",
    "7. Посчитать 95-й и 99-й перцентили количества заказов на пользователя. Выбрать границу для определения аномальных пользователей.\n",
    "8. Построить точечный график стоимостей заказов. \n",
    "9. Посчитать 95-й и 99-й перцентили стоимости заказов. Выбрать границу для определения аномальных заказов.\n",
    "10. Посчитать статистическую значимость различий в конверсии между группами по «сырым» данным. \n",
    "11. Посчитать статистическую значимость различий в среднем чеке заказа между группами по «сырым» данным. \n",
    "12. Посчитать статистическую значимость различий в конверсии между группами по «очищенным» данным.\n",
    "13. Посчитать статистическую значимость различий в среднем чеке заказа между группами по «очищенным» данным. \n",
    "14. Принять решение по результатам теста и объясните его. \n",
    "Варианты решений: 1. Остановить тест, зафиксировать победу одной из групп. 2. Остановить тест, зафиксировать отсутствие различий между группами. 3. Продолжить тест."
   ]
  },
  {
   "cell_type": "markdown",
   "metadata": {},
   "source": [
    "### Кумулятивная выручка по группам"
   ]
  },
  {
   "cell_type": "code",
   "execution_count": 19,
   "metadata": {},
   "outputs": [
    {
     "name": "stdout",
     "output_type": "stream",
     "text": [
      "        date group  orders  buyers  revenue  visitors\n",
      "0 2019-08-01     A      23      19   142779       719\n",
      "1 2019-08-01     B      17      17    59758       713\n",
      "2 2019-08-02     A      42      36   234381      1338\n",
      "3 2019-08-02     B      40      39   221801      1294\n",
      "4 2019-08-03     A      66      60   346854      1845\n"
     ]
    }
   ],
   "source": [
    "# создадим массив уникальных пар значений дат и групп теста\n",
    "datesGroups = orders[['date','group']].drop_duplicates()\n",
    "\n",
    "# получаем агрегированные кумулятивные по дням данные о заказах \n",
    "ordersAggregated = datesGroups.apply(\n",
    "    lambda x: orders[np.logical_and(\n",
    "        orders['date'] <= x['date'], orders['group'] == x['group']\n",
    "    )]\n",
    "    .agg(\n",
    "        {'date' : 'max', 'group' : 'max', 'transactionid' : pd.Series.nunique,\n",
    "          'visitorid' : pd.Series.nunique, 'revenue' : 'sum'}\n",
    "    ), \n",
    "    axis=1).sort_values(by=['date','group'])\n",
    "\n",
    "# получаем агрегированные кумулятивные по дням данные о посетителях интернет-магазина \n",
    "visitorsAggregated = datesGroups.apply(\n",
    "    lambda x: visitors[np.logical_and(\n",
    "        visitors['date'] <= x['date'], visitors['group'] == x['group']\n",
    "    )]\n",
    "    .agg(\n",
    "        {'date' : 'max', 'group' : 'max', 'visitors' : 'sum'}\n",
    "    ),\n",
    "    axis=1).sort_values(by=['date','group'])\n",
    "\n",
    "# объединяем кумулятивные данные в одной таблице и присваиваем ее столбцам понятные названия\n",
    "cumulativeData = ordersAggregated.merge(\n",
    "    visitorsAggregated, left_on=['date', 'group'], \n",
    "    right_on=['date', 'group']\n",
    ")\n",
    "cumulativeData.columns = ['date', 'group', 'orders', 'buyers', 'revenue', 'visitors']\n",
    "\n",
    "# проверим результат\n",
    "print(cumulativeData.head(5))"
   ]
  },
  {
   "cell_type": "code",
   "execution_count": 20,
   "metadata": {},
   "outputs": [],
   "source": [
    "# зададим стандартные параметры для графиков\n",
    "plt.rcParams.update({'figure.figsize': (15,8)})\n",
    "sns.set()"
   ]
  },
  {
   "cell_type": "code",
   "execution_count": 21,
   "metadata": {},
   "outputs": [
    {
     "data": {
      "image/png": "[encoded data removed]",
      "text/plain": [
       "<Figure size 1080x576 with 1 Axes>"
      ]
     },
     "metadata": {},
     "output_type": "display_data"
    }
   ],
   "source": [
    "# датафрейм с кумулятивным количеством заказов и кумулятивной выручкой по дням в группе А\n",
    "cumulativeRevenueA = cumulativeData[cumulativeData['group']=='A'][['date','revenue', 'orders']]\n",
    "\n",
    "# датафрейм с кумулятивным количеством заказов и кумулятивной выручкой по дням в группе B\n",
    "cumulativeRevenueB = cumulativeData[cumulativeData['group']=='B'][['date','revenue', 'orders']]\n",
    "\n",
    "# Строим график выручки группы А\n",
    "plt.plot(cumulativeRevenueA['date'], cumulativeRevenueA['revenue'], label='A', color='red')\n",
    "\n",
    "# Строим график выручки группы B\n",
    "plt.plot(cumulativeRevenueB['date'], cumulativeRevenueB['revenue'], label='B')\n",
    "\n",
    "# настроим отображение\n",
    "plt.legend()\n",
    "plt.title('Изменение кумулятивной выручки по группам А и В', fontsize=16)\n",
    "plt.xlabel('Время теста', fontsize=13)\n",
    "plt.ylabel('Кумулятивная выручка', fontsize=13)\n",
    "plt.show()"
   ]
  },
  {
   "cell_type": "markdown",
   "metadata": {},
   "source": [
    "**Итоги:**\n",
    "\n",
    "Во время теста выручка увеличивается у обеих групп. Однако 18 августа группа В демонстрирует резкий скачок вверх. Это может быть связано либо с всплеском активности, либо с появлением в выборке крайне больших заказов, что проанализируем позднее."
   ]
  },
  {
   "cell_type": "markdown",
   "metadata": {},
   "source": [
    "### Кумулятивный средний чек по группам"
   ]
  },
  {
   "cell_type": "code",
   "execution_count": 22,
   "metadata": {},
   "outputs": [
    {
     "data": {
      "image/png": "[encoded data removed]",
      "text/plain": [
       "<Figure size 1080x576 with 1 Axes>"
      ]
     },
     "metadata": {},
     "output_type": "display_data"
    }
   ],
   "source": [
    "plt.plot(cumulativeRevenueA['date'], \n",
    "         cumulativeRevenueA['revenue']/cumulativeRevenueA['orders'], label='A', color='red')\n",
    "\n",
    "plt.plot(cumulativeRevenueB['date'], \n",
    "         cumulativeRevenueB['revenue']/cumulativeRevenueB['orders'], label='B')\n",
    "\n",
    "# настроим отображение\n",
    "plt.legend()\n",
    "plt.title('Изменение кумулятивного среднего чека по группам А и В', fontsize=16)\n",
    "plt.xlabel('Время теста', fontsize=13)\n",
    "plt.ylabel('Кумулятивный средний чек', fontsize=13)\n",
    "plt.show()"
   ]
  },
  {
   "cell_type": "markdown",
   "metadata": {},
   "source": [
    "**Итоги:**\n",
    "\n",
    "Средний чек также испытывает сильное колебание в тех же датах. Кроме того, есть заметные просадки в начале теста. Если гипотеза о попадании в выборку выбросов верна, то для усреднения графика естественным образом необходимо больше времени. Виден резкий скачек 18 августа. В принципе можно было бы посчитать это выбросом, но значительная разница в среднем чеке сохраняется. Возможно 17 августа сработал какой-то неучтенный фактор, который далее стал действовать. Или наконец результаты стабилизировались "
   ]
  },
  {
   "cell_type": "markdown",
   "metadata": {},
   "source": [
    "### Относительное изменение кумулятивного среднего чека группы B к группе A"
   ]
  },
  {
   "cell_type": "code",
   "execution_count": 23,
   "metadata": {},
   "outputs": [
    {
     "data": {
      "image/png": "[encoded data removed]",
      "text/plain": [
       "<Figure size 1080x576 with 1 Axes>"
      ]
     },
     "metadata": {},
     "output_type": "display_data"
    }
   ],
   "source": [
    "# собираем данные в одном датафрейме\n",
    "mergedCumulativeRevenue = cumulativeRevenueA.merge(\n",
    "    cumulativeRevenueB, left_on='date', \n",
    "    right_on='date', how='left', suffixes=['A', 'B']\n",
    ")\n",
    "\n",
    "# cтроим отношение средних чеков\n",
    "plt.plot(\n",
    "    mergedCumulativeRevenue['date'], \n",
    "    (mergedCumulativeRevenue['revenueB']/mergedCumulativeRevenue['ordersB'])\n",
    "    /(mergedCumulativeRevenue['revenueA']/mergedCumulativeRevenue['ordersA'])-1, color='red')\n",
    "\n",
    "# добавляем ось X\n",
    "plt.axhline(y=0, color='black', linestyle='--')\n",
    "\n",
    "# настроим отображение\n",
    "plt.title('Относительное изменение кумулятивного среднего чека группы В к группе А', fontsize=16)\n",
    "plt.xlabel('Время теста', fontsize=13)\n",
    "plt.ylabel('Относительный кумулятивный средний чек', fontsize=13)\n",
    "plt.show()"
   ]
  },
  {
   "cell_type": "markdown",
   "metadata": {},
   "source": [
    "**Итоги:**\n",
    "\n",
    "Несмотря на общую положительную динамику, изменение сильно скачет. А значит в выборке обнаружены выбросы, которые необходимо очистить, перед окончательными выводами."
   ]
  },
  {
   "cell_type": "markdown",
   "metadata": {},
   "source": [
    "### Кумулятивная конверсия по группам"
   ]
  },
  {
   "cell_type": "code",
   "execution_count": 24,
   "metadata": {},
   "outputs": [
    {
     "data": {
      "image/png": "[encoded data removed]",
      "text/plain": [
       "<Figure size 1080x576 with 1 Axes>"
      ]
     },
     "metadata": {},
     "output_type": "display_data"
    }
   ],
   "source": [
    "# считаем кумулятивную конверсию\n",
    "cumulativeData['conversion'] = cumulativeData['orders']/cumulativeData['visitors']\n",
    "\n",
    "# отделяем данные по группе A\n",
    "cumulativeDataA = cumulativeData[cumulativeData['group']=='A']\n",
    "\n",
    "# отделяем данные по группе B\n",
    "cumulativeDataB = cumulativeData[cumulativeData['group']=='B']\n",
    "\n",
    "# строим графики\n",
    "plt.plot(cumulativeDataA['date'], cumulativeDataA['conversion'], label='A', color='red')\n",
    "plt.plot(cumulativeDataB['date'], cumulativeDataB['conversion'], label='B')\n",
    "plt.legend()\n",
    "\n",
    "# настроим отображение\n",
    "plt.title('Кумулятивная конверсия по группам А/В-теста', fontsize=16)\n",
    "plt.xlabel('Время теста', fontsize=13)\n",
    "plt.ylabel('Кумулятивная конверсия', fontsize=13)\n",
    "plt.show()"
   ]
  },
  {
   "cell_type": "markdown",
   "metadata": {},
   "source": [
    "**Итоги:**\n",
    "\n",
    "После резкого скачка (вниз для группы А и вверх для группы В), происходит относительная стабилизация на одном уровне. Несмотря на колебания, среднее значение остается одинаковым. Возможно искажения связано с выбросами в датасете. При этом, группа В демонстрирует уверенное превосходство над группой А."
   ]
  },
  {
   "cell_type": "markdown",
   "metadata": {},
   "source": [
    "### Относительное изменение кумулятивной конверсии"
   ]
  },
  {
   "cell_type": "code",
   "execution_count": 25,
   "metadata": {},
   "outputs": [
    {
     "data": {
      "image/png": "[encoded data removed]",
      "text/plain": [
       "<Figure size 1080x576 with 1 Axes>"
      ]
     },
     "metadata": {},
     "output_type": "display_data"
    }
   ],
   "source": [
    "mergedCumulativeConversions = cumulativeDataA[['date','conversion']].merge(\n",
    "    cumulativeDataB[['date','conversion']], left_on='date', \n",
    "    right_on='date', how='left', suffixes=['A', 'B']\n",
    ")\n",
    "\n",
    "plt.plot(\n",
    "    mergedCumulativeConversions['date'], \n",
    "    mergedCumulativeConversions['conversionB']/mergedCumulativeConversions['conversionA']-1,\n",
    "    color='red'\n",
    "    )\n",
    "\n",
    "# настроим отображение\n",
    "plt.title('Относительное изменение кумулятивной конверсии', fontsize=16)\n",
    "plt.xlabel('Время теста')\n",
    "plt.ylabel('Изменение кумулятивной конверсии')\n",
    "plt.axhline(y=0, color='black', linestyle='--')\n",
    "plt.show()"
   ]
  },
  {
   "cell_type": "markdown",
   "metadata": {},
   "source": [
    "**Итоги:**\n",
    "\n",
    "В начале теста конверсия группы В проигрывала конверсии группы А. После резкого скачка вверх, она снова откатывается назад, после чего демонстрирует уверенный рост. Визуальный анализ позволяет предварительно предупредить наличие выбросов в группе А в начале теста и в группе В в следующий период."
   ]
  },
  {
   "cell_type": "markdown",
   "metadata": {},
   "source": [
    "### Точечный график количества заказов по пользователям"
   ]
  },
  {
   "cell_type": "code",
   "execution_count": 26,
   "metadata": {},
   "outputs": [
    {
     "name": "stdout",
     "output_type": "stream",
     "text": [
      "      visitorid  orders\n",
      "58    611059232       3\n",
      "211  2108163459       3\n",
      "310  2988190573       3\n",
      "409  3908431265       3\n",
      "416  3967698036       3\n",
      "302  2892265953       2\n",
      "374  3469608676       2\n",
      "72    759473111       2\n",
      "286  2744017357       2\n",
      "282  2733145037       2\n"
     ]
    }
   ],
   "source": [
    "# сформируем два фрейма для графика\n",
    "# фрейм для группы А\n",
    "ordersByUsersA = (\n",
    "    orders.query('group == \"A\"')\n",
    "    .drop(['group', 'revenue', 'date'], axis=1)\n",
    "    .groupby('visitorid', as_index=False)\n",
    "    .agg({'transactionid': pd.Series.nunique})\n",
    ")\n",
    "\n",
    "ordersByUsersA.columns = ['visitorid', 'orders']\n",
    "\n",
    "print(ordersByUsersA.sort_values(by='orders', ascending=False).head(10))"
   ]
  },
  {
   "cell_type": "code",
   "execution_count": 27,
   "metadata": {},
   "outputs": [
    {
     "name": "stdout",
     "output_type": "stream",
     "text": [
      "      visitorid  orders\n",
      "347  2742574263       3\n",
      "33    249864742       3\n",
      "486  3935952912       2\n",
      "256  2025197455       2\n",
      "418  3332057097       2\n",
      "51    406208401       2\n",
      "507  4134830387       2\n",
      "250  1985475298       2\n",
      "296  2366521417       2\n",
      "421  3362039251       2\n"
     ]
    }
   ],
   "source": [
    "# фрейм для группы В\n",
    "ordersByUsersB = (\n",
    "    orders.query('group == \"B\"')\n",
    "    .drop(['group', 'revenue', 'date'], axis=1)\n",
    "    .groupby('visitorid', as_index=False)\n",
    "    .agg({'transactionid': pd.Series.nunique})\n",
    ")\n",
    "\n",
    "ordersByUsersB.columns = ['visitorid', 'orders']\n",
    "\n",
    "print(ordersByUsersB.sort_values(by='orders', ascending=False).head(10))"
   ]
  },
  {
   "cell_type": "code",
   "execution_count": 28,
   "metadata": {},
   "outputs": [
    {
     "data": {
      "image/png": "[encoded data removed]",
      "text/plain": [
       "<Figure size 1080x576 with 1 Axes>"
      ]
     },
     "metadata": {},
     "output_type": "display_data"
    }
   ],
   "source": [
    "A_values = pd.Series(range(0,len(ordersByUsersA)))\n",
    "plt.scatter(A_values, ordersByUsersA['orders'], color='r', label='Группа А')\n",
    "B_values = pd.Series(range(0,len(ordersByUsersB)))\n",
    "plt.scatter(B_values, ordersByUsersB['orders'], alpha=0.3, label='Группа В')\n",
    "\n",
    "# настроим отображение\n",
    "plt.title('Точечный график количества заказов по пользователям', fontsize=16)\n",
    "plt.xlabel('Пользователи')\n",
    "plt.ylabel('Количество заказов')\n",
    "plt.legend()\n",
    "plt.show()"
   ]
  },
  {
   "cell_type": "markdown",
   "metadata": {},
   "source": [
    "**Итоги:**\n",
    "\n",
    "Подавляющее большинство пользователей совершает 1 заказ. На втором месте достаточно массивная группа, совершающая 2 заказа. 3 и более заказа являются редкостью."
   ]
  },
  {
   "cell_type": "markdown",
   "metadata": {},
   "source": [
    "### Перцентили заказов. Аномальные пользователи"
   ]
  },
  {
   "cell_type": "markdown",
   "metadata": {},
   "source": [
    "Посчитаем 95-й и 99-й перцентили количества заказов на пользователя. После чего, выберем границу для определения аномальных пользователей."
   ]
  },
  {
   "cell_type": "code",
   "execution_count": 29,
   "metadata": {},
   "outputs": [
    {
     "name": "stdout",
     "output_type": "stream",
     "text": [
      "[1. 2.]\n"
     ]
    }
   ],
   "source": [
    "# сформируем единый датасет, содержащий сведения по заказам\n",
    "ordersByUsers = (\n",
    "    orders\n",
    "    .drop(['group', 'revenue', 'date'], axis=1)\n",
    "    .groupby('visitorid', as_index=False)\n",
    "    .agg({'transactionid': pd.Series.nunique})\n",
    ")\n",
    "\n",
    "ordersByUsers.columns = ['visitorid', 'orders']\n",
    "\n",
    "print(np.percentile(ordersByUsers['orders'], [95, 99]))"
   ]
  },
  {
   "cell_type": "markdown",
   "metadata": {},
   "source": [
    "**Итоги:**\n",
    "\n",
    "Для определенеия аномальных пользователей разумно выбрать пользователей, имеющих 3 и более заказов."
   ]
  },
  {
   "cell_type": "markdown",
   "metadata": {},
   "source": [
    "### Точечный график стоимости заказа"
   ]
  },
  {
   "cell_type": "code",
   "execution_count": 30,
   "metadata": {},
   "outputs": [
    {
     "data": {
      "image/png": "[encoded data removed]",
      "text/plain": [
       "<Figure size 1080x576 with 2 Axes>"
      ]
     },
     "metadata": {},
     "output_type": "display_data"
    }
   ],
   "source": [
    "# выделим группу А\n",
    "A_values = pd.Series(range(0,len(orders.query('group == \"A\"')['revenue'])))\n",
    "\n",
    "# первый график\n",
    "plt.subplot(2, 1, 1)\n",
    "plt.scatter(A_values, orders.query('group == \"A\"')['revenue'], color='r', label='Группа А')\n",
    "\n",
    "# выделим группу В\n",
    "B_values = pd.Series(range(0,len(orders.query('group == \"B\"')['revenue'])))\n",
    "plt.scatter(B_values, orders.query('group == \"B\"')['revenue'], label='Группа В')\n",
    "\n",
    "\n",
    "# настроим отображение\n",
    "plt.title('Точечный график стоимости заказа', fontsize=16)\n",
    "plt.xlabel('Заказ', fontsize=13)\n",
    "plt.ylabel('Стоимость заказа', fontsize=13)\n",
    "plt.legend()\n",
    "\n",
    "# второй укрупненный график\n",
    "plt.subplot(2, 1, 2)\n",
    "plt.scatter(A_values, orders.query('group == \"A\"')['revenue'], color='r', label='Группа А')\n",
    "plt.scatter(B_values, orders.query('group == \"B\"')['revenue'], label='Группа В')\n",
    "\n",
    "# настроим отображение\n",
    "plt.ylim(-100, 100000)\n",
    "plt.title('Укрупненный точечный график стоимости заказа', fontsize=16)\n",
    "plt.xlabel('Заказ', fontsize=13)\n",
    "plt.ylabel('Стоимость заказа', fontsize=13)\n",
    "plt.legend()\n",
    "plt.tight_layout()\n",
    "\n",
    "plt.show()"
   ]
  },
  {
   "cell_type": "markdown",
   "metadata": {},
   "source": [
    "Итоги:\n",
    "\n",
    "Как и предполагалось, есть значительные выбросы, а также большое количество средних заказов. Чтобы определить пограничные цифры, подсчитаем перцентили."
   ]
  },
  {
   "cell_type": "markdown",
   "metadata": {},
   "source": [
    "### Перцентили стоимости заказов. Аномальные заказы"
   ]
  },
  {
   "cell_type": "code",
   "execution_count": 31,
   "metadata": {},
   "outputs": [
    {
     "name": "stdout",
     "output_type": "stream",
     "text": [
      "[26785. 53904.]\n"
     ]
    }
   ],
   "source": [
    "print(np.percentile(orders['revenue'], [95, 99]))"
   ]
  },
  {
   "cell_type": "markdown",
   "metadata": {},
   "source": [
    "**Итоги:**\n",
    "\n",
    "95% пользователей осуществляли заказыв на сумму менее 26785. Сумма 53904, характерная для 99% пользователей, значительно выше (больше чем в два раза), чем 95% заказов. Поэтому остановимся на сумме 26785, чтобы определить порог для отсеивания аномальных заказов."
   ]
  },
  {
   "cell_type": "markdown",
   "metadata": {},
   "source": [
    "### Формирование гипотез для анализа А/В-теста"
   ]
  },
  {
   "cell_type": "markdown",
   "metadata": {},
   "source": [
    "Для проведения анализа установим уровень статистической значимости, равный 5% (alpha = 0.05). \n",
    "\n",
    "Также, определим гипотезы для проверки.\n",
    "\n",
    "\n",
    "Гипотезы для конверсии:\n",
    "\n",
    "$H_0$ Статистически значимых различий в конверсии между группой А и группой В нет.\n",
    "\n",
    "$H_1$ Статистически значимые различия в конверсии между группой А и группой В есть.\n",
    "\n",
    "\n",
    "Гипотезы для среднего чека:\n",
    "\n",
    "$H_0$ Статистически значимых различий в среднем чеке между группой А и группой В нет.\n",
    "\n",
    "$H_1$ Статистически значимые различия в среднем чеке между группой А и группой В есть."
   ]
  },
  {
   "cell_type": "markdown",
   "metadata": {},
   "source": [
    "### Статистическая значимость в конверсии по сырым данным"
   ]
  },
  {
   "cell_type": "markdown",
   "metadata": {},
   "source": [
    "Посчитаем статистическую значимость без удаления аномальных пользователей, чтобы затем сравнить ее с результатами анализа \"очищенных\" данных.\n",
    "\n",
    "Для этого подготовим данные в единый датафрейм."
   ]
  },
  {
   "cell_type": "code",
   "execution_count": 32,
   "metadata": {},
   "outputs": [
    {
     "data": {
      "text/html": [
       "<div>\n",
       "<style scoped>\n",
       "    .dataframe tbody tr th:only-of-type {\n",
       "        vertical-align: middle;\n",
       "    }\n",
       "\n",
       "    .dataframe tbody tr th {\n",
       "        vertical-align: top;\n",
       "    }\n",
       "\n",
       "    .dataframe thead th {\n",
       "        text-align: right;\n",
       "    }\n",
       "</style>\n",
       "<table border=\"1\" class=\"dataframe\">\n",
       "  <thead>\n",
       "    <tr style=\"text-align: right;\">\n",
       "      <th></th>\n",
       "      <th>date</th>\n",
       "      <th>ordersPerDateA</th>\n",
       "      <th>revenuePerDateA</th>\n",
       "      <th>ordersPerDateB</th>\n",
       "      <th>revenuePerDateB</th>\n",
       "      <th>ordersCummulativeA</th>\n",
       "      <th>revenueCummulativeA</th>\n",
       "      <th>ordersCummulativeB</th>\n",
       "      <th>revenueCummulativeB</th>\n",
       "      <th>visitorsPerDateA</th>\n",
       "      <th>visitorsPerDateB</th>\n",
       "      <th>visitorsCummulativeA</th>\n",
       "      <th>visitorsCummulativeB</th>\n",
       "    </tr>\n",
       "  </thead>\n",
       "  <tbody>\n",
       "    <tr>\n",
       "      <td>0</td>\n",
       "      <td>2019-08-01</td>\n",
       "      <td>23</td>\n",
       "      <td>142779</td>\n",
       "      <td>17</td>\n",
       "      <td>59758</td>\n",
       "      <td>23</td>\n",
       "      <td>142779</td>\n",
       "      <td>17</td>\n",
       "      <td>59758</td>\n",
       "      <td>719</td>\n",
       "      <td>713</td>\n",
       "      <td>719</td>\n",
       "      <td>713</td>\n",
       "    </tr>\n",
       "    <tr>\n",
       "      <td>1</td>\n",
       "      <td>2019-08-02</td>\n",
       "      <td>19</td>\n",
       "      <td>91602</td>\n",
       "      <td>23</td>\n",
       "      <td>162043</td>\n",
       "      <td>42</td>\n",
       "      <td>234381</td>\n",
       "      <td>40</td>\n",
       "      <td>221801</td>\n",
       "      <td>619</td>\n",
       "      <td>581</td>\n",
       "      <td>1338</td>\n",
       "      <td>1294</td>\n",
       "    </tr>\n",
       "    <tr>\n",
       "      <td>2</td>\n",
       "      <td>2019-08-03</td>\n",
       "      <td>24</td>\n",
       "      <td>112473</td>\n",
       "      <td>14</td>\n",
       "      <td>67049</td>\n",
       "      <td>66</td>\n",
       "      <td>346854</td>\n",
       "      <td>54</td>\n",
       "      <td>288850</td>\n",
       "      <td>507</td>\n",
       "      <td>509</td>\n",
       "      <td>1845</td>\n",
       "      <td>1803</td>\n",
       "    </tr>\n",
       "    <tr>\n",
       "      <td>3</td>\n",
       "      <td>2019-08-04</td>\n",
       "      <td>11</td>\n",
       "      <td>41176</td>\n",
       "      <td>14</td>\n",
       "      <td>96890</td>\n",
       "      <td>77</td>\n",
       "      <td>388030</td>\n",
       "      <td>68</td>\n",
       "      <td>385740</td>\n",
       "      <td>717</td>\n",
       "      <td>770</td>\n",
       "      <td>2562</td>\n",
       "      <td>2573</td>\n",
       "    </tr>\n",
       "    <tr>\n",
       "      <td>4</td>\n",
       "      <td>2019-08-05</td>\n",
       "      <td>22</td>\n",
       "      <td>86383</td>\n",
       "      <td>21</td>\n",
       "      <td>89908</td>\n",
       "      <td>99</td>\n",
       "      <td>474413</td>\n",
       "      <td>89</td>\n",
       "      <td>475648</td>\n",
       "      <td>756</td>\n",
       "      <td>707</td>\n",
       "      <td>3318</td>\n",
       "      <td>3280</td>\n",
       "    </tr>\n",
       "  </tbody>\n",
       "</table>\n",
       "</div>"
      ],
      "text/plain": [
       "        date  ordersPerDateA  revenuePerDateA  ordersPerDateB  \\\n",
       "0 2019-08-01              23           142779              17   \n",
       "1 2019-08-02              19            91602              23   \n",
       "2 2019-08-03              24           112473              14   \n",
       "3 2019-08-04              11            41176              14   \n",
       "4 2019-08-05              22            86383              21   \n",
       "\n",
       "   revenuePerDateB  ordersCummulativeA  revenueCummulativeA  \\\n",
       "0            59758                  23               142779   \n",
       "1           162043                  42               234381   \n",
       "2            67049                  66               346854   \n",
       "3            96890                  77               388030   \n",
       "4            89908                  99               474413   \n",
       "\n",
       "   ordersCummulativeB  revenueCummulativeB  visitorsPerDateA  \\\n",
       "0                  17                59758               719   \n",
       "1                  40               221801               619   \n",
       "2                  54               288850               507   \n",
       "3                  68               385740               717   \n",
       "4                  89               475648               756   \n",
       "\n",
       "   visitorsPerDateB  visitorsCummulativeA  visitorsCummulativeB  \n",
       "0               713                   719                   713  \n",
       "1               581                  1338                  1294  \n",
       "2               509                  1845                  1803  \n",
       "3               770                  2562                  2573  \n",
       "4               707                  3318                  3280  "
      ]
     },
     "metadata": {},
     "output_type": "display_data"
    }
   ],
   "source": [
    "# создадим фреймы, содержащие посетителей, разбитых по групам\n",
    "# начнем с группы А\n",
    "visitorsADaily = visitors[visitors['group'] == 'A'][['date', 'visitors']]\n",
    "visitorsADaily.columns = ['date', 'visitorsPerDateA']\n",
    "\n",
    "# посчитаем кумулятивных посетителей\n",
    "visitorsACummulative = visitorsADaily.apply(\n",
    "    lambda x: visitorsADaily[visitorsADaily['date'] <= x['date']].agg(\n",
    "        {'date': 'max', 'visitorsPerDateA': 'sum'}\n",
    "    ),\n",
    "    axis=1,\n",
    ")\n",
    "visitorsACummulative.columns = ['date', 'visitorsCummulativeA']\n",
    "\n",
    "# повторим процедуру для группы В\n",
    "visitorsBDaily = visitors[visitors['group'] == 'B'][['date', 'visitors']]\n",
    "visitorsBDaily.columns = ['date', 'visitorsPerDateB']\n",
    "\n",
    "visitorsBCummulative = visitorsBDaily.apply(\n",
    "    lambda x: visitorsBDaily[visitorsBDaily['date'] <= x['date']].agg(\n",
    "        {'date': 'max', 'visitorsPerDateB': 'sum'}\n",
    "    ),\n",
    "    axis=1,\n",
    ")\n",
    "visitorsBCummulative.columns = ['date', 'visitorsCummulativeB']\n",
    "\n",
    "# сформируем датафрейм с уникальными заказами для группы А\n",
    "ordersADaily = (\n",
    "    orders[orders['group'] == 'A'][['date', 'transactionid', 'visitorid', 'revenue']]\n",
    "    .groupby('date', as_index=False)\n",
    "    .agg({'transactionid': pd.Series.nunique, 'revenue': 'sum'})\n",
    ")\n",
    "ordersADaily.columns = ['date', 'ordersPerDateA', 'revenuePerDateA']\n",
    "\n",
    "# посчитаем суммы заказов\n",
    "ordersACummulative = ordersADaily.apply(\n",
    "    lambda x: ordersADaily[ordersADaily['date'] <= x['date']].agg(\n",
    "        {'date': 'max', 'ordersPerDateA': 'sum', 'revenuePerDateA': 'sum'}\n",
    "    ),\n",
    "    axis=1,\n",
    ").sort_values(by=['date'])\n",
    "\n",
    "ordersACummulative.columns = [\n",
    "    'date',\n",
    "    'ordersCummulativeA',\n",
    "    'revenueCummulativeA',\n",
    "]\n",
    "\n",
    "# повторим процедуру для группы В\n",
    "ordersBDaily = (\n",
    "    orders[orders['group'] == 'B'][['date', 'transactionid', 'visitorid', 'revenue']]\n",
    "    .groupby('date', as_index=False)\n",
    "    .agg({'transactionid': pd.Series.nunique, 'revenue': 'sum'})\n",
    ")\n",
    "ordersBDaily.columns = ['date', 'ordersPerDateB', 'revenuePerDateB']\n",
    "\n",
    "ordersBCummulative = ordersBDaily.apply(\n",
    "    lambda x: ordersBDaily[ordersBDaily['date'] <= x['date']].agg(\n",
    "        {'date': 'max', 'ordersPerDateB': 'sum', 'revenuePerDateB': 'sum'}\n",
    "    ),\n",
    "    axis=1,\n",
    ").sort_values(by=['date'])\n",
    "ordersBCummulative.columns = [\n",
    "    'date',\n",
    "    'ordersCummulativeB',\n",
    "    'revenueCummulativeB',\n",
    "]\n",
    "\n",
    "# подготовим итоговый датафрейм для расчетов эффективности А/В-теста\n",
    "data = (\n",
    "    ordersADaily.merge(\n",
    "        ordersBDaily, left_on='date', right_on='date', how='left'\n",
    "    )\n",
    "    .merge(ordersACummulative, left_on='date', right_on='date', how='left')\n",
    "    .merge(ordersBCummulative, left_on='date', right_on='date', how='left')\n",
    "    .merge(visitorsADaily, left_on='date', right_on='date', how='left')\n",
    "    .merge(visitorsBDaily, left_on='date', right_on='date', how='left')\n",
    "    .merge(visitorsACummulative, left_on='date', right_on='date', how='left')\n",
    "    .merge(visitorsBCummulative, left_on='date', right_on='date', how='left')\n",
    ")\n",
    "\n",
    "# проверим результат\n",
    "display(data.head(5)) "
   ]
  },
  {
   "cell_type": "markdown",
   "metadata": {},
   "source": [
    "Для пользователей, сделавших хотя бы один заказ, укажем число совершенных заказов. Объявим переменные sampleA и sampleB, в которых пользователям из разных групп будет соответствовать количество заказов. Тем, кто ничего не заказал, будут соответствовать нули. Это нужно, чтобы подготовить выборки к проверке критерием Манна-Уитни."
   ]
  },
  {
   "cell_type": "code",
   "execution_count": 33,
   "metadata": {},
   "outputs": [
    {
     "name": "stdout",
     "output_type": "stream",
     "text": [
      "p-значение:  0.011\n",
      "Отвергаем нулевую гипотезу\n",
      "Разница в конверсии между группой А и группой В: 0.1598\n"
     ]
    }
   ],
   "source": [
    "ordersByUsersA = (\n",
    "    orders[orders['group'] == 'A']\n",
    "    .groupby('visitorid', as_index=False)\n",
    "    .agg({'transactionid': pd.Series.nunique})\n",
    ")\n",
    "ordersByUsersA.columns = ['userId', 'orders']\n",
    "\n",
    "ordersByUsersB = (\n",
    "    orders[orders['group'] == 'B']\n",
    "    .groupby('visitorid', as_index=False)\n",
    "    .agg({'transactionid': pd.Series.nunique})\n",
    ")\n",
    "ordersByUsersB.columns = ['userId', 'orders']\n",
    "\n",
    "# сцепим необходимые данные через метод concat\n",
    "# для группы А\n",
    "sampleA = pd.concat(\n",
    "    [\n",
    "        ordersByUsersA['orders'],\n",
    "        pd.Series(\n",
    "            0, \n",
    "            index=np.arange(data['visitorsPerDateA'].sum() - len(ordersByUsersA['orders'])\n",
    "            ),\n",
    "            name='orders')], axis=0,\n",
    ")\n",
    "\n",
    "# для группы В\n",
    "sampleB = pd.concat(\n",
    "    [\n",
    "        ordersByUsersB['orders'],\n",
    "        pd.Series(\n",
    "            0,\n",
    "            index=np.arange(data['visitorsPerDateB'].sum() - len(ordersByUsersB['orders'])\n",
    "            ),\n",
    "            name='orders')], axis=0,\n",
    ")\n",
    "\n",
    "result = st.mannwhitneyu(sampleA, sampleB,alternative='two-sided')[1]\n",
    "alpha = 0.05\n",
    "\n",
    "print('p-значение: ', result.round(4))\n",
    "if result < alpha:\n",
    "    print(\"Отвергаем нулевую гипотезу\")\n",
    "else:\n",
    "    print(\"Не получилось отвергнуть нулевую гипотезу\") \n",
    "    \n",
    "print(\"Разница в конверсии между группой А и группой В:\",\"{0:.4f}\".format(\n",
    "    (data['ordersPerDateB'].sum()/data['visitorsPerDateB'].sum())\n",
    "    /(data['ordersPerDateA'].sum()/data['visitorsPerDateA'].sum())-1))"
   ]
  },
  {
   "cell_type": "markdown",
   "metadata": {},
   "source": [
    "**Итоги:**\n",
    "\n",
    "p-value = 0.011 меньше 0.05. Значит, нулевую гипотезу о том, что статистически значимых различий в конверсии между группами нет, можно отвергнуть. \n",
    "\n",
    "Преимущество конверсии в группе В составляет 16%.\n",
    "\n",
    "Следовательно, по «сырым», можно прийти к выводу, что между группами А и В есть различия. А преимущество конверсии в 16% получено не случайным образом."
   ]
  },
  {
   "cell_type": "markdown",
   "metadata": {},
   "source": [
    "### Статистическая значимость в среднем чеке по сырым данным"
   ]
  },
  {
   "cell_type": "markdown",
   "metadata": {},
   "source": [
    "Пересчитаем статистику для среднего чека по сырым данным."
   ]
  },
  {
   "cell_type": "code",
   "execution_count": 34,
   "metadata": {},
   "outputs": [],
   "source": [
    "result = st.mannwhitneyu(\n",
    "    orders[orders['group']=='A']['revenue'], \n",
    "    orders[orders['group']=='B']['revenue'],\n",
    "    alternative='two-sided'\n",
    ")[1]\n",
    "alpha = 0.05"
   ]
  },
  {
   "cell_type": "code",
   "execution_count": 35,
   "metadata": {},
   "outputs": [
    {
     "name": "stdout",
     "output_type": "stream",
     "text": [
      "p-значение:  0.8295\n",
      "Не получилось отвергнуть нулевую гипотезу\n",
      "Разница в среднем чеке между группой А и группой В: 0.287\n"
     ]
    }
   ],
   "source": [
    "print('p-значение: ', result.round(4))\n",
    "if result < alpha:\n",
    "    print(\"Отвергаем нулевую гипотезу\")\n",
    "else:\n",
    "    print(\"Не получилось отвергнуть нулевую гипотезу\") \n",
    "\n",
    "print(\"Разница в среднем чеке между группой А и группой В:\",\n",
    "    '{0:.3f}'.format(orders[orders['group']=='B']['revenue'].mean()\n",
    "                     /orders[orders['group']=='A']['revenue'].mean()-1)\n",
    ")"
   ]
  },
  {
   "cell_type": "markdown",
   "metadata": {},
   "source": [
    "**Итоги:**\n",
    "\n",
    "P-value значительно больше 0.05. Значит, причин отвергать нулевую гипотезу и считать, что в среднем чеке есть различия, нет. Но при этом видно значительное преимущество в среднем чеке группы В (на 29%). Налицо противоречие. Надо уточнять результаты на очищенных данных.\n",
    "\n"
   ]
  },
  {
   "cell_type": "markdown",
   "metadata": {},
   "source": [
    "### Статистическая значимость в конверсии по очищенным данным"
   ]
  },
  {
   "cell_type": "markdown",
   "metadata": {},
   "source": [
    "Используем полученные нами ранее данные, чтобы очистить данные от выбросов. "
   ]
  },
  {
   "cell_type": "markdown",
   "metadata": {},
   "source": [
    "#### Очистка данных"
   ]
  },
  {
   "cell_type": "markdown",
   "metadata": {},
   "source": [
    "95% пользователей соответствуют указанным ниже параметрам:\n",
    "- Допустимое количество заказов на пользователя - 2;\n",
    "- Допустимая сумма заказа - до 26785."
   ]
  },
  {
   "cell_type": "code",
   "execution_count": 36,
   "metadata": {},
   "outputs": [
    {
     "data": {
      "text/plain": [
       "568     113298937\n",
       "1099    148427295\n",
       "928     204675465\n",
       "33      249864742\n",
       "684     358944393\n",
       "dtype: int64"
      ]
     },
     "metadata": {},
     "output_type": "display_data"
    },
    {
     "data": {
      "text/plain": [
       "(58,)"
      ]
     },
     "metadata": {},
     "output_type": "display_data"
    }
   ],
   "source": [
    "# узнаем количество аномальных пользователей\n",
    "\n",
    "# выберем пользователей с количеством заказов 3 и более\n",
    "usersWithManyOrders = pd.concat(\n",
    "    [\n",
    "        ordersByUsersA[ordersByUsersA['orders'] > 2]['userId'],\n",
    "        ordersByUsersB[ordersByUsersB['orders'] > 2]['userId'],\n",
    "    ],\n",
    "    axis=0\n",
    ")\n",
    "\n",
    "# выберем пользователей с суммой заказа более 26785\n",
    "usersWithExpensiveOrders = orders[orders['revenue'] > 26785]['visitorid']\n",
    "\n",
    "# объединим данные в единый фрейм аномальных пользователей\n",
    "abnormalUsers = (\n",
    "    pd.concat([usersWithManyOrders, usersWithExpensiveOrders], axis=0)\n",
    "    .drop_duplicates()\n",
    "    .sort_values()\n",
    ")\n",
    "display(abnormalUsers.head(5))\n",
    "display(abnormalUsers.shape)"
   ]
  },
  {
   "cell_type": "markdown",
   "metadata": {},
   "source": [
    "**Итоги:**\n",
    "\n",
    "В массиве присутствует 58 пользователей, признанных нами аномальными. Используя эти данные, очистим датасет от выбросов и пересчитаем статистическую достоверность исследования."
   ]
  },
  {
   "cell_type": "markdown",
   "metadata": {},
   "source": [
    "#### Оценка статистического влияния"
   ]
  },
  {
   "cell_type": "code",
   "execution_count": 37,
   "metadata": {},
   "outputs": [],
   "source": [
    "# подготовим выборки, очищенные от выбросов\n",
    "# для группы А\n",
    "sampleAFiltered = pd.concat(\n",
    "    [\n",
    "        ordersByUsersA[\n",
    "            np.logical_not(ordersByUsersA['userId'].isin(abnormalUsers))\n",
    "        ]['orders'], pd.Series(0, index=np.arange(\n",
    "                data['visitorsPerDateA'].sum() - len(ordersByUsersA['orders'])\n",
    "            ), name='orders')], axis=0\n",
    ")\n",
    "\n",
    "# для группы В\n",
    "sampleBFiltered = pd.concat(\n",
    "    [\n",
    "        ordersByUsersB[\n",
    "            np.logical_not(ordersByUsersB['userId'].isin(abnormalUsers))\n",
    "        ]['orders'], pd.Series(0, index=np.arange(\n",
    "                data['visitorsPerDateB'].sum() - len(ordersByUsersB['orders'])\n",
    "            ), name='orders')], axis=0\n",
    ")"
   ]
  },
  {
   "cell_type": "code",
   "execution_count": 38,
   "metadata": {},
   "outputs": [
    {
     "name": "stdout",
     "output_type": "stream",
     "text": [
      "p-значение:  0.0124\n",
      "Отвергаем нулевую гипотезу\n",
      "Разница в конверсии между группой А и группой В: 0.1819\n"
     ]
    }
   ],
   "source": [
    "result = st.mannwhitneyu(sampleAFiltered, sampleBFiltered, alternative='two-sided')[1]\n",
    "alpha = 0.05\n",
    "\n",
    "print('p-значение: ', result.round(4))\n",
    "if result < alpha:\n",
    "    print(\"Отвергаем нулевую гипотезу\")\n",
    "else:\n",
    "    print(\"Не получилось отвергнуть нулевую гипотезу\") \n",
    "    \n",
    "print(\"Разница в конверсии между группой А и группой В:\",'{0:.4f}'.format(sampleBFiltered.mean()/sampleAFiltered.mean()-1))\n"
   ]
  },
  {
   "cell_type": "markdown",
   "metadata": {},
   "source": [
    "**Итоги:**\n",
    "\n",
    "p-value = 0.0124 и по прежнему меньше 0.05. Значит, нулевую гипотезу о том, что статистически значимых различий в конверсии между группами нет, по прежнему можно отвергнуть. \n",
    "\n",
    "Преимущество конверсии в группе В по сравнению с сырыми данными выросло на 2% и составило 18%.\n",
    "\n",
    "Следовательно, по «очищенным» данным, можно прийти к выводу, что между группами А и В есть различия. А преимущество конверсии в 18% получено не случайным образом. Более того, избавившись от выбросов, мы только закрепили лидерство группы В в этой метрике."
   ]
  },
  {
   "cell_type": "markdown",
   "metadata": {},
   "source": [
    "### Статистическая значимость в среднем чеке по очищенным данным"
   ]
  },
  {
   "cell_type": "code",
   "execution_count": 39,
   "metadata": {},
   "outputs": [
    {
     "name": "stdout",
     "output_type": "stream",
     "text": [
      "p-значение:  0.6459\n",
      "Не получилось отвергнуть нулевую гипотезу\n",
      "Разница в среднем чеке между группой А и группой В: -0.0485\n"
     ]
    }
   ],
   "source": [
    "result = st.mannwhitneyu(orders[np.logical_and(orders['group'] == 'A',\n",
    "                    np.logical_not(orders['visitorid'].isin(abnormalUsers)),\n",
    "                )]['revenue'],\n",
    "            orders[np.logical_and(\n",
    "                    orders['group'] == 'B',\n",
    "                    np.logical_not(orders['visitorid'].isin(abnormalUsers)),\n",
    "                )]['revenue'], alternative='two-sided')[1]\n",
    "\n",
    "alpha = 0.05\n",
    "\n",
    "print('p-значение: ', result.round(4))\n",
    "if result < alpha:\n",
    "    print(\"Отвергаем нулевую гипотезу\")\n",
    "else:\n",
    "    print(\"Не получилось отвергнуть нулевую гипотезу\")\n",
    "\n",
    "print(\"Разница в среднем чеке между группой А и группой В:\",\n",
    "    \"{0:.4f}\".format(\n",
    "        orders[\n",
    "            np.logical_and(\n",
    "                orders['group'] == 'B',\n",
    "                np.logical_not(orders['visitorid'].isin(abnormalUsers)),\n",
    "            )\n",
    "        ]['revenue'].mean()\n",
    "        / orders[\n",
    "            np.logical_and(\n",
    "                orders['group'] == 'A',\n",
    "                np.logical_not(orders['visitorid'].isin(abnormalUsers)),\n",
    "            )\n",
    "        ]['revenue'].mean()\n",
    "        - 1\n",
    "    )\n",
    ")"
   ]
  },
  {
   "cell_type": "markdown",
   "metadata": {},
   "source": [
    "**Итоги:**\n",
    "\n",
    "P-value  пусть и меньше чем на сырых данных, но по прежнему значительно больше 0.05. При этом после того, как мы отбросили выбросы, очевидно, что средний чек группы В не просто не вырос, а и несколько меньше, чем чек группы А. Похоже конверсия выросла, а вот средний чек даже немного упал. Либо возможно изменения группы В затронули небольшую группу клиентов, которые склонны к большим заказам."
   ]
  },
  {
   "cell_type": "markdown",
   "metadata": {},
   "source": [
    "### Выводы"
   ]
  },
  {
   "cell_type": "markdown",
   "metadata": {},
   "source": [
    "По результатам исследования материалов А/В-теста, можно прийти к следующим выводам:\n",
    "\n",
    "Во время теста **выручка** увеличивается у обеих групп. Однако 18 августа группа В демонстрирует резкий скачок вверх и затем демонстрирует стабильно лучшие показатели чем группа А. Средний чек также испытывает сильное колебание в тех же датах. Кроме того, есть заметные просадки в начале теста. Если гипотеза о попадании в выборку выбросов верна, то для усреднения графика естественным образом необходимо больше времени. Виден резкий скачек 18 августа. В принципе можно было бы посчитать это выбросом, но значительная разница в среднем чеке сохраняется. Возможно 17 августа сработал какой-то неучтенный фактор, который далее стал действовать. Или наконец результаты стабилизировались.\n",
    "\n",
    "По **конверсии**, после резкого скачка (вниз для группы А и вверх для группы В), происходит относительная стабилизация на одном уровне. Несмотря на колебания, среднее значение остается одинаковым. Возможно искажения связано с выбросами в датасете. При этом, группа В демонстрирует уверенное превосходство над группой А.\n",
    "\n",
    "\n",
    "По **количеству покупок**, подавляющее большинство пользователей совершает 1 заказ. На втором месте достаточно массивная группа, совершающая 2 заказа. 3 и более заказа являются редкостью.\n",
    "\n",
    "По **сумме заказов** 95% пользователей осуществляли заказыв на сумму менее 26785. Сумма 53904, характерная для 99% пользователей, значительно выше (больше чем в два раза), чем 95% заказов. Поэтому остановимся на сумме 26785, чтобы определить порог для отсеивания аномальных заказов.\n",
    "\n",
    "Результаты статистической проверки гипотез по изменению конверсии сайта показывают, что можно предположить статистически заметную разницу между группами и что преимущество по конверсии по группе В составляет не менее 16% (по неочищенным данным). Если же очистить данные, то преимущество по конверсии составит 18%\n",
    "\n",
    "В то же время результаты статистической проверки гипотез по изменению среднего чека показывают, что  статистически заметной разницы между группами нет и нет оснований считать, что средний чек группы В будет отличаться от среднего чека группы А. Но при этом на сырых данных видно значительное преимущество в среднем чеке группы В (на 29%). Налицо противоречие. \n",
    "С одной стороны, после очистки данных и удаления 58 пользователей признанных нами аномальными становится очевидно, что чек группы В, в среднем, даже несколько ( на 4%) меньше чем чек группы А. Но с другой стороны значительное преимущество в среднем чеке группы В сохраняется после 18 августа регулярно. Возможно, эти 58 пользователей, это небольшая группа пользователей, которая оказалась крайне затронута данным изменением и далее также будет увеличивать средний чек. \n",
    "\n",
    "**Соответственно я предлагаю продолжать тест и обратить особое внимание на заказы с суммой более 26785 с целью проверить увеличение их количества или сохранение их устойчивого количества.**\n",
    "\n",
    "При этом можно зафиксировать положительное влияние гипотезы реализованной в группе В на конверсию сайта."
   ]
  },
  {
   "cell_type": "markdown",
   "metadata": {},
   "source": [
    "## Вывод"
   ]
  },
  {
   "cell_type": "markdown",
   "metadata": {},
   "source": [
    "Данные предоставленные нам в целом хорошо отобраны и обработаны. Мы исправили тип данных в столбце date, нашли и почистили дубликаты в пользователях и привели названия столбцов к одному виду.\n",
    "\n",
    "В целом фреймворк ICE и его модификация RICE дают похожие результаты. Введение параметра Reach (Охват) только несколько корректирует результаты и делает приоретизацию гипотезы более явной. На мой взгляд основное влияние на результат даёт регулировка параметра Efforts (стоимость теста). Это отчетливо видно на примере сравнения гипотезы 4 и 5 когда имеющая более слабые оценки гипотеза 4 имеет сравнимую приоритетность только потому, что её проверка будет стоить сильно дешевле.\n",
    "**Я бы рекомендовал сосредоточиться на всех гипотезах входящих в топ 3 и ICE и RICE (Гипотезы 7,0,2,8)** . Гипотеза 8, которая не вошла в топ три по RICE имеет самый высокий уровень Confidence и сработает почти наверняка, несмотря на то, что охватит небольшую часть пользователей.\n",
    "\n",
    "По результатам исследования материалов А/В-теста, можно прийти к следующим выводам:\n",
    "Результаты статистической проверки гипотез по изменению конверсии сайта показывают, что можно предположить статистически заметную разницу между группами и что преимущество по конверсии по группе В составляет не менее 16% (по неочищенным данным). Если же очистить данные, то преимущество по конверсии составит 18%\n",
    "\n",
    "В то же время результаты статистической проверки гипотез по изменению среднего чека показывают, что  статистически заметной разницы между группами нет и нет оснований считать, что средний чек группы В будет отличаться от среднего чека группы А. Но при этом на сырых данных видно значительное преимущество в среднем чеке группы В (на 29%). Налицо противоречие. \n",
    "С одной стороны, после очистки данных и удаления 58 пользователей признанных нами аномальными становится очевидно, что чек группы В, в среднем, даже несколько ( на 4%) меньше чем чек группы А. Но с другой стороны значительное преимущество в среднем чеке группы В сохраняется после 18 августа регулярно. Возможно, эти 58 пользователей, это небольшая группа пользователей, которая оказалась крайне затронута данным изменением и далее также будет увеличивать средний чек. \n",
    "\n",
    "**Соответственно я предлагаю продолжать тест и обратить особое внимание на заказы с суммой более 26785 с целью проверить увеличение их количества или сохранение их устойчивого количества.**\n",
    "\n",
    "При этом можно зафиксировать положительное влияние гипотезы реализованной в группе В на конверсию сайта."
   ]
  }
 ],
 "metadata": {
  "ExecuteTimeLog": [
   {
    "duration": 3,
    "start_time": "2021-10-31T12:59:18.919Z"
   },
   {
    "duration": 3,
    "start_time": "2021-10-31T12:59:19.561Z"
   },
   {
    "duration": 3,
    "start_time": "2021-10-31T13:01:24.649Z"
   },
   {
    "duration": 2,
    "start_time": "2021-10-31T13:01:25.624Z"
   },
   {
    "duration": 1330,
    "start_time": "2021-10-31T13:13:03.979Z"
   },
   {
    "duration": 1613,
    "start_time": "2021-10-31T13:13:05.311Z"
   },
   {
    "duration": -52,
    "start_time": "2021-10-31T13:13:06.978Z"
   },
   {
    "duration": 24,
    "start_time": "2021-10-31T13:13:08.409Z"
   },
   {
    "duration": 28,
    "start_time": "2021-10-31T13:13:54.116Z"
   },
   {
    "duration": 27,
    "start_time": "2021-10-31T13:14:00.859Z"
   },
   {
    "duration": 9,
    "start_time": "2021-10-31T13:24:00.701Z"
   },
   {
    "duration": 2216,
    "start_time": "2021-10-31T13:27:10.026Z"
   },
   {
    "duration": 13,
    "start_time": "2021-10-31T13:29:05.165Z"
   },
   {
    "duration": 11,
    "start_time": "2021-10-31T13:33:41.225Z"
   },
   {
    "duration": 10,
    "start_time": "2021-10-31T13:35:31.380Z"
   },
   {
    "duration": 10,
    "start_time": "2021-10-31T13:35:34.118Z"
   },
   {
    "duration": 4,
    "start_time": "2021-10-31T13:40:26.536Z"
   },
   {
    "duration": 380,
    "start_time": "2021-10-31T13:41:24.967Z"
   },
   {
    "duration": 61,
    "start_time": "2021-10-31T13:42:18.649Z"
   },
   {
    "duration": -58,
    "start_time": "2021-10-31T13:42:31.929Z"
   },
   {
    "duration": 61,
    "start_time": "2021-10-31T13:43:31.242Z"
   },
   {
    "duration": 28,
    "start_time": "2021-10-31T13:43:32.217Z"
   },
   {
    "duration": 27,
    "start_time": "2021-10-31T13:43:32.516Z"
   },
   {
    "duration": 20,
    "start_time": "2021-10-31T13:43:32.892Z"
   },
   {
    "duration": 11,
    "start_time": "2021-10-31T13:43:33.691Z"
   },
   {
    "duration": 12,
    "start_time": "2021-10-31T13:43:34.328Z"
   },
   {
    "duration": 10,
    "start_time": "2021-10-31T13:43:34.941Z"
   },
   {
    "duration": 9,
    "start_time": "2021-10-31T13:43:35.166Z"
   },
   {
    "duration": 5,
    "start_time": "2021-10-31T13:43:35.602Z"
   },
   {
    "duration": 4,
    "start_time": "2021-10-31T13:43:36.041Z"
   },
   {
    "duration": 116,
    "start_time": "2021-10-31T13:43:37.441Z"
   },
   {
    "duration": 17,
    "start_time": "2021-10-31T13:44:04.228Z"
   },
   {
    "duration": 147,
    "start_time": "2021-10-31T13:44:19.991Z"
   },
   {
    "duration": 9,
    "start_time": "2021-10-31T13:44:33.728Z"
   },
   {
    "duration": 10,
    "start_time": "2021-10-31T13:44:50.303Z"
   },
   {
    "duration": 5,
    "start_time": "2021-10-31T13:45:24.228Z"
   },
   {
    "duration": 9,
    "start_time": "2021-10-31T13:45:45.552Z"
   },
   {
    "duration": 10,
    "start_time": "2021-10-31T13:47:33.860Z"
   },
   {
    "duration": 350,
    "start_time": "2021-10-31T15:26:25.892Z"
   },
   {
    "duration": 1503,
    "start_time": "2021-10-31T15:26:36.115Z"
   },
   {
    "duration": 59,
    "start_time": "2021-10-31T15:26:37.621Z"
   },
   {
    "duration": 60,
    "start_time": "2021-10-31T15:26:37.684Z"
   },
   {
    "duration": 48,
    "start_time": "2021-10-31T15:26:37.747Z"
   },
   {
    "duration": 15,
    "start_time": "2021-10-31T15:26:37.798Z"
   },
   {
    "duration": 60,
    "start_time": "2021-10-31T15:26:37.815Z"
   },
   {
    "duration": 18,
    "start_time": "2021-10-31T15:26:37.888Z"
   },
   {
    "duration": 15,
    "start_time": "2021-10-31T15:26:37.911Z"
   },
   {
    "duration": 37,
    "start_time": "2021-10-31T15:26:37.930Z"
   },
   {
    "duration": 9,
    "start_time": "2021-10-31T15:26:37.971Z"
   },
   {
    "duration": 27,
    "start_time": "2021-10-31T15:26:37.983Z"
   },
   {
    "duration": 378,
    "start_time": "2021-10-31T15:26:38.014Z"
   },
   {
    "duration": 13,
    "start_time": "2021-10-31T15:26:38.395Z"
   },
   {
    "duration": 12,
    "start_time": "2021-10-31T15:26:38.410Z"
   },
   {
    "duration": 52,
    "start_time": "2021-10-31T15:26:38.425Z"
   },
   {
    "duration": 17,
    "start_time": "2021-10-31T15:28:40.105Z"
   },
   {
    "duration": 14,
    "start_time": "2021-10-31T15:30:36.993Z"
   },
   {
    "duration": 661,
    "start_time": "2021-10-31T15:58:09.908Z"
   },
   {
    "duration": 24,
    "start_time": "2021-10-31T15:58:32.995Z"
   },
   {
    "duration": 592,
    "start_time": "2021-10-31T16:04:47.288Z"
   },
   {
    "duration": 351,
    "start_time": "2021-10-31T16:05:16.888Z"
   },
   {
    "duration": 6,
    "start_time": "2021-10-31T16:05:25.374Z"
   },
   {
    "duration": 669,
    "start_time": "2021-10-31T16:05:26.457Z"
   },
   {
    "duration": 650,
    "start_time": "2021-10-31T16:06:57.145Z"
   },
   {
    "duration": 840,
    "start_time": "2021-10-31T16:07:54.512Z"
   },
   {
    "duration": 741,
    "start_time": "2021-10-31T16:08:42.207Z"
   },
   {
    "duration": 722,
    "start_time": "2021-10-31T16:09:16.695Z"
   },
   {
    "duration": 23,
    "start_time": "2021-10-31T16:10:26.162Z"
   },
   {
    "duration": 100,
    "start_time": "2021-10-31T16:10:58.820Z"
   },
   {
    "duration": 115,
    "start_time": "2021-10-31T16:11:17.236Z"
   },
   {
    "duration": 802,
    "start_time": "2021-10-31T16:11:28.051Z"
   },
   {
    "duration": 219,
    "start_time": "2021-10-31T16:12:25.649Z"
   },
   {
    "duration": 1663,
    "start_time": "2021-10-31T16:25:54.321Z"
   },
   {
    "duration": 426,
    "start_time": "2021-10-31T16:27:20.745Z"
   },
   {
    "duration": 221,
    "start_time": "2021-10-31T16:28:14.059Z"
   },
   {
    "duration": 1565,
    "start_time": "2021-10-31T16:28:16.671Z"
   },
   {
    "duration": 278,
    "start_time": "2021-10-31T16:28:19.195Z"
   },
   {
    "duration": 6,
    "start_time": "2021-10-31T16:29:59.283Z"
   },
   {
    "duration": 477,
    "start_time": "2021-10-31T16:34:39.152Z"
   },
   {
    "duration": 520,
    "start_time": "2021-10-31T16:37:01.889Z"
   },
   {
    "duration": 242,
    "start_time": "2021-10-31T16:37:58.657Z"
   },
   {
    "duration": 1585,
    "start_time": "2021-10-31T16:38:30.426Z"
   },
   {
    "duration": 49,
    "start_time": "2021-10-31T16:38:32.014Z"
   },
   {
    "duration": 42,
    "start_time": "2021-10-31T16:38:32.066Z"
   },
   {
    "duration": 30,
    "start_time": "2021-10-31T16:38:32.112Z"
   },
   {
    "duration": 16,
    "start_time": "2021-10-31T16:38:32.168Z"
   },
   {
    "duration": 21,
    "start_time": "2021-10-31T16:38:32.187Z"
   },
   {
    "duration": 61,
    "start_time": "2021-10-31T16:38:32.211Z"
   },
   {
    "duration": 15,
    "start_time": "2021-10-31T16:38:32.277Z"
   },
   {
    "duration": 7,
    "start_time": "2021-10-31T16:38:32.296Z"
   },
   {
    "duration": 10,
    "start_time": "2021-10-31T16:38:32.306Z"
   },
   {
    "duration": 23,
    "start_time": "2021-10-31T16:38:32.368Z"
   },
   {
    "duration": 280,
    "start_time": "2021-10-31T16:38:32.393Z"
   },
   {
    "duration": 13,
    "start_time": "2021-10-31T16:38:32.676Z"
   },
   {
    "duration": 12,
    "start_time": "2021-10-31T16:38:32.692Z"
   },
   {
    "duration": 20,
    "start_time": "2021-10-31T16:38:32.707Z"
   },
   {
    "duration": 39,
    "start_time": "2021-10-31T16:38:32.730Z"
   },
   {
    "duration": 20,
    "start_time": "2021-10-31T16:38:32.772Z"
   },
   {
    "duration": 694,
    "start_time": "2021-10-31T16:38:32.794Z"
   },
   {
    "duration": 665,
    "start_time": "2021-10-31T16:38:33.491Z"
   },
   {
    "duration": 11,
    "start_time": "2021-10-31T16:38:34.158Z"
   },
   {
    "duration": 776,
    "start_time": "2021-10-31T16:38:34.172Z"
   },
   {
    "duration": 671,
    "start_time": "2021-10-31T16:38:34.951Z"
   },
   {
    "duration": 830,
    "start_time": "2021-10-31T16:38:35.627Z"
   },
   {
    "duration": 664,
    "start_time": "2021-10-31T16:38:36.459Z"
   },
   {
    "duration": 950,
    "start_time": "2021-10-31T16:38:37.126Z"
   },
   {
    "duration": 151,
    "start_time": "2021-10-31T16:38:38.079Z"
   },
   {
    "duration": 127,
    "start_time": "2021-10-31T16:38:38.233Z"
   },
   {
    "duration": 767,
    "start_time": "2021-10-31T16:38:38.363Z"
   },
   {
    "duration": 190,
    "start_time": "2021-10-31T16:38:39.132Z"
   },
   {
    "duration": 1638,
    "start_time": "2021-10-31T16:38:39.324Z"
   },
   {
    "duration": 6,
    "start_time": "2021-10-31T16:38:40.966Z"
   },
   {
    "duration": 5,
    "start_time": "2021-10-31T16:38:40.974Z"
   },
   {
    "duration": 502,
    "start_time": "2021-10-31T16:38:40.982Z"
   },
   {
    "duration": 225,
    "start_time": "2021-10-31T16:38:41.486Z"
   },
   {
    "duration": 11,
    "start_time": "2021-10-31T16:40:50.806Z"
   },
   {
    "duration": 17,
    "start_time": "2021-10-31T16:44:14.968Z"
   },
   {
    "duration": 19,
    "start_time": "2021-10-31T16:44:44.929Z"
   },
   {
    "duration": 498,
    "start_time": "2021-10-31T16:46:43.280Z"
   },
   {
    "duration": 11,
    "start_time": "2021-10-31T16:46:52.011Z"
   },
   {
    "duration": 10,
    "start_time": "2021-10-31T16:46:53.023Z"
   },
   {
    "duration": 23,
    "start_time": "2021-10-31T16:48:21.754Z"
   },
   {
    "duration": 1565,
    "start_time": "2021-10-31T16:50:37.340Z"
   },
   {
    "duration": 47,
    "start_time": "2021-10-31T16:50:38.908Z"
   },
   {
    "duration": 40,
    "start_time": "2021-10-31T16:50:38.961Z"
   },
   {
    "duration": 31,
    "start_time": "2021-10-31T16:50:39.004Z"
   },
   {
    "duration": 14,
    "start_time": "2021-10-31T16:50:39.068Z"
   },
   {
    "duration": 22,
    "start_time": "2021-10-31T16:50:39.086Z"
   },
   {
    "duration": 55,
    "start_time": "2021-10-31T16:50:39.113Z"
   },
   {
    "duration": 12,
    "start_time": "2021-10-31T16:50:39.171Z"
   },
   {
    "duration": 7,
    "start_time": "2021-10-31T16:50:39.185Z"
   },
   {
    "duration": 8,
    "start_time": "2021-10-31T16:50:39.194Z"
   },
   {
    "duration": 27,
    "start_time": "2021-10-31T16:50:39.204Z"
   },
   {
    "duration": 275,
    "start_time": "2021-10-31T16:50:39.267Z"
   },
   {
    "duration": 26,
    "start_time": "2021-10-31T16:50:39.544Z"
   },
   {
    "duration": 12,
    "start_time": "2021-10-31T16:50:39.572Z"
   },
   {
    "duration": 14,
    "start_time": "2021-10-31T16:50:39.587Z"
   },
   {
    "duration": 16,
    "start_time": "2021-10-31T16:50:39.603Z"
   },
   {
    "duration": 55,
    "start_time": "2021-10-31T16:50:39.622Z"
   },
   {
    "duration": 825,
    "start_time": "2021-10-31T16:50:39.680Z"
   },
   {
    "duration": 641,
    "start_time": "2021-10-31T16:50:40.508Z"
   },
   {
    "duration": 5,
    "start_time": "2021-10-31T16:50:41.151Z"
   },
   {
    "duration": 682,
    "start_time": "2021-10-31T16:50:41.168Z"
   },
   {
    "duration": 677,
    "start_time": "2021-10-31T16:50:41.855Z"
   },
   {
    "duration": 912,
    "start_time": "2021-10-31T16:50:42.536Z"
   },
   {
    "duration": 708,
    "start_time": "2021-10-31T16:50:43.451Z"
   },
   {
    "duration": 858,
    "start_time": "2021-10-31T16:50:44.161Z"
   },
   {
    "duration": 115,
    "start_time": "2021-10-31T16:50:45.021Z"
   },
   {
    "duration": 160,
    "start_time": "2021-10-31T16:50:45.138Z"
   },
   {
    "duration": 754,
    "start_time": "2021-10-31T16:50:45.300Z"
   },
   {
    "duration": 205,
    "start_time": "2021-10-31T16:50:46.056Z"
   },
   {
    "duration": 1746,
    "start_time": "2021-10-31T16:50:46.263Z"
   },
   {
    "duration": 6,
    "start_time": "2021-10-31T16:50:48.011Z"
   },
   {
    "duration": 6,
    "start_time": "2021-10-31T16:50:48.020Z"
   },
   {
    "duration": 535,
    "start_time": "2021-10-31T16:50:48.028Z"
   },
   {
    "duration": 271,
    "start_time": "2021-10-31T16:50:48.565Z"
   },
   {
    "duration": 9,
    "start_time": "2021-10-31T16:50:48.839Z"
   },
   {
    "duration": 11,
    "start_time": "2021-10-31T16:50:48.867Z"
   },
   {
    "duration": 95,
    "start_time": "2021-10-31T16:50:48.881Z"
   },
   {
    "duration": 395,
    "start_time": "2021-10-31T16:50:48.583Z"
   },
   {
    "duration": 389,
    "start_time": "2021-10-31T16:50:48.591Z"
   },
   {
    "duration": 387,
    "start_time": "2021-10-31T16:50:48.594Z"
   },
   {
    "duration": 385,
    "start_time": "2021-10-31T16:50:48.597Z"
   },
   {
    "duration": 237,
    "start_time": "2021-10-31T18:00:12.074Z"
   },
   {
    "duration": 215,
    "start_time": "2021-10-31T18:00:40.244Z"
   },
   {
    "duration": 11,
    "start_time": "2021-10-31T18:02:54.307Z"
   },
   {
    "duration": 16,
    "start_time": "2021-10-31T18:04:10.271Z"
   },
   {
    "duration": 11,
    "start_time": "2021-10-31T18:04:19.033Z"
   },
   {
    "duration": 13,
    "start_time": "2021-10-31T18:04:20.107Z"
   },
   {
    "duration": 23,
    "start_time": "2021-10-31T18:05:15.070Z"
   },
   {
    "duration": 23,
    "start_time": "2021-10-31T18:06:14.536Z"
   },
   {
    "duration": 12,
    "start_time": "2021-10-31T18:06:33.671Z"
   },
   {
    "duration": 2286,
    "start_time": "2021-10-31T18:37:58.041Z"
   },
   {
    "duration": 51,
    "start_time": "2021-10-31T18:38:00.330Z"
   },
   {
    "duration": 44,
    "start_time": "2021-10-31T18:38:00.384Z"
   },
   {
    "duration": 56,
    "start_time": "2021-10-31T18:38:00.431Z"
   },
   {
    "duration": 15,
    "start_time": "2021-10-31T18:38:00.490Z"
   },
   {
    "duration": 60,
    "start_time": "2021-10-31T18:38:00.508Z"
   },
   {
    "duration": 32,
    "start_time": "2021-10-31T18:38:00.571Z"
   },
   {
    "duration": 19,
    "start_time": "2021-10-31T18:38:00.607Z"
   },
   {
    "duration": 39,
    "start_time": "2021-10-31T18:38:00.630Z"
   },
   {
    "duration": 8,
    "start_time": "2021-10-31T18:38:00.672Z"
   },
   {
    "duration": 71,
    "start_time": "2021-10-31T18:38:00.683Z"
   },
   {
    "duration": 253,
    "start_time": "2021-10-31T18:38:00.757Z"
   },
   {
    "duration": 14,
    "start_time": "2021-10-31T18:38:01.012Z"
   },
   {
    "duration": 39,
    "start_time": "2021-10-31T18:38:01.028Z"
   },
   {
    "duration": 12,
    "start_time": "2021-10-31T18:38:01.070Z"
   },
   {
    "duration": 29,
    "start_time": "2021-10-31T18:38:01.084Z"
   },
   {
    "duration": 19,
    "start_time": "2021-10-31T18:38:01.116Z"
   },
   {
    "duration": 741,
    "start_time": "2021-10-31T18:38:01.138Z"
   },
   {
    "duration": 639,
    "start_time": "2021-10-31T18:38:01.881Z"
   },
   {
    "duration": 6,
    "start_time": "2021-10-31T18:38:02.522Z"
   },
   {
    "duration": 697,
    "start_time": "2021-10-31T18:38:02.530Z"
   },
   {
    "duration": 679,
    "start_time": "2021-10-31T18:38:03.230Z"
   },
   {
    "duration": 830,
    "start_time": "2021-10-31T18:38:03.915Z"
   },
   {
    "duration": 687,
    "start_time": "2021-10-31T18:38:04.748Z"
   },
   {
    "duration": 987,
    "start_time": "2021-10-31T18:38:05.438Z"
   },
   {
    "duration": 174,
    "start_time": "2021-10-31T18:38:06.428Z"
   },
   {
    "duration": 186,
    "start_time": "2021-10-31T18:38:06.605Z"
   },
   {
    "duration": 1176,
    "start_time": "2021-10-31T18:38:06.795Z"
   },
   {
    "duration": 353,
    "start_time": "2021-10-31T18:38:07.974Z"
   },
   {
    "duration": 2395,
    "start_time": "2021-10-31T18:38:08.331Z"
   },
   {
    "duration": 7,
    "start_time": "2021-10-31T18:38:10.729Z"
   },
   {
    "duration": 770,
    "start_time": "2021-10-31T18:38:10.739Z"
   },
   {
    "duration": 255,
    "start_time": "2021-10-31T18:38:11.512Z"
   },
   {
    "duration": 11,
    "start_time": "2021-10-31T18:38:11.769Z"
   },
   {
    "duration": 14,
    "start_time": "2021-10-31T18:38:11.783Z"
   },
   {
    "duration": 18,
    "start_time": "2021-10-31T18:38:11.799Z"
   },
   {
    "duration": 58,
    "start_time": "2021-10-31T18:38:11.819Z"
   },
   {
    "duration": 15,
    "start_time": "2021-10-31T18:38:11.879Z"
   },
   {
    "duration": 25,
    "start_time": "2021-10-31T18:38:11.897Z"
   },
   {
    "duration": 1584,
    "start_time": "2021-11-01T10:00:33.496Z"
   },
   {
    "duration": 51,
    "start_time": "2021-11-01T10:00:35.082Z"
   },
   {
    "duration": 57,
    "start_time": "2021-11-01T10:00:35.137Z"
   },
   {
    "duration": 30,
    "start_time": "2021-11-01T10:00:35.197Z"
   },
   {
    "duration": 45,
    "start_time": "2021-11-01T10:00:35.230Z"
   },
   {
    "duration": 31,
    "start_time": "2021-11-01T10:00:35.278Z"
   },
   {
    "duration": 37,
    "start_time": "2021-11-01T10:00:35.311Z"
   },
   {
    "duration": 28,
    "start_time": "2021-11-01T10:00:35.351Z"
   },
   {
    "duration": 6,
    "start_time": "2021-11-01T10:00:35.382Z"
   },
   {
    "duration": 8,
    "start_time": "2021-11-01T10:00:35.392Z"
   },
   {
    "duration": 25,
    "start_time": "2021-11-01T10:00:35.403Z"
   },
   {
    "duration": 308,
    "start_time": "2021-11-01T10:00:35.431Z"
   },
   {
    "duration": 34,
    "start_time": "2021-11-01T10:00:35.742Z"
   },
   {
    "duration": 13,
    "start_time": "2021-11-01T10:00:35.779Z"
   },
   {
    "duration": 17,
    "start_time": "2021-11-01T10:00:35.794Z"
   },
   {
    "duration": 17,
    "start_time": "2021-11-01T10:00:35.813Z"
   },
   {
    "duration": 15,
    "start_time": "2021-11-01T10:00:35.867Z"
   },
   {
    "duration": 74325,
    "start_time": "2021-11-01T10:00:35.884Z"
   },
   {
    "duration": 678,
    "start_time": "2021-11-01T10:01:50.212Z"
   },
   {
    "duration": 5,
    "start_time": "2021-11-01T10:01:50.893Z"
   },
   {
    "duration": 759,
    "start_time": "2021-11-01T10:01:50.901Z"
   },
   {
    "duration": 762,
    "start_time": "2021-11-01T10:01:51.662Z"
   },
   {
    "duration": 900,
    "start_time": "2021-11-01T10:01:52.427Z"
   },
   {
    "duration": 908,
    "start_time": "2021-11-01T10:01:53.330Z"
   },
   {
    "duration": 927,
    "start_time": "2021-11-01T10:01:54.240Z"
   },
   {
    "duration": 141,
    "start_time": "2021-11-01T10:01:55.169Z"
   },
   {
    "duration": 171,
    "start_time": "2021-11-01T10:01:55.315Z"
   },
   {
    "duration": 753,
    "start_time": "2021-11-01T10:01:55.490Z"
   },
   {
    "duration": 234,
    "start_time": "2021-11-01T10:01:56.245Z"
   },
   {
    "duration": 1694,
    "start_time": "2021-11-01T10:01:56.481Z"
   },
   {
    "duration": 7,
    "start_time": "2021-11-01T10:01:58.178Z"
   },
   {
    "duration": 562,
    "start_time": "2021-11-01T10:01:58.189Z"
   },
   {
    "duration": 289,
    "start_time": "2021-11-01T10:01:58.754Z"
   },
   {
    "duration": 22,
    "start_time": "2021-11-01T10:01:59.045Z"
   },
   {
    "duration": 15,
    "start_time": "2021-11-01T10:01:59.071Z"
   },
   {
    "duration": 21,
    "start_time": "2021-11-01T10:01:59.089Z"
   },
   {
    "duration": 16,
    "start_time": "2021-11-01T10:01:59.112Z"
   },
   {
    "duration": 45,
    "start_time": "2021-11-01T10:01:59.130Z"
   },
   {
    "duration": 22,
    "start_time": "2021-11-01T10:01:59.178Z"
   },
   {
    "duration": 1184,
    "start_time": "2021-11-02T16:01:12.994Z"
   },
   {
    "duration": 33,
    "start_time": "2021-11-02T16:01:14.180Z"
   },
   {
    "duration": 29,
    "start_time": "2021-11-02T16:01:14.216Z"
   },
   {
    "duration": 25,
    "start_time": "2021-11-02T16:01:14.248Z"
   },
   {
    "duration": 16,
    "start_time": "2021-11-02T16:01:14.274Z"
   },
   {
    "duration": 15,
    "start_time": "2021-11-02T16:01:14.291Z"
   },
   {
    "duration": 37,
    "start_time": "2021-11-02T16:01:14.308Z"
   },
   {
    "duration": 16,
    "start_time": "2021-11-02T16:01:14.348Z"
   },
   {
    "duration": 9,
    "start_time": "2021-11-02T16:01:14.367Z"
   },
   {
    "duration": 13,
    "start_time": "2021-11-02T16:01:14.378Z"
   },
   {
    "duration": 22,
    "start_time": "2021-11-02T16:01:14.393Z"
   },
   {
    "duration": 218,
    "start_time": "2021-11-02T16:01:14.417Z"
   },
   {
    "duration": 15,
    "start_time": "2021-11-02T16:01:14.636Z"
   },
   {
    "duration": 17,
    "start_time": "2021-11-02T16:01:14.654Z"
   },
   {
    "duration": 10,
    "start_time": "2021-11-02T16:01:14.673Z"
   },
   {
    "duration": 13,
    "start_time": "2021-11-02T16:01:14.685Z"
   },
   {
    "duration": 44,
    "start_time": "2021-11-02T16:01:14.701Z"
   },
   {
    "duration": 81384,
    "start_time": "2021-11-02T16:01:14.748Z"
   },
   {
    "duration": 397,
    "start_time": "2021-11-02T16:02:36.134Z"
   },
   {
    "duration": 11,
    "start_time": "2021-11-02T16:02:36.534Z"
   },
   {
    "duration": 435,
    "start_time": "2021-11-02T16:02:36.547Z"
   },
   {
    "duration": 427,
    "start_time": "2021-11-02T16:02:36.984Z"
   },
   {
    "duration": 581,
    "start_time": "2021-11-02T16:02:37.415Z"
   },
   {
    "duration": 424,
    "start_time": "2021-11-02T16:02:37.998Z"
   },
   {
    "duration": 619,
    "start_time": "2021-11-02T16:02:38.425Z"
   },
   {
    "duration": 75,
    "start_time": "2021-11-02T16:02:39.046Z"
   },
   {
    "duration": 89,
    "start_time": "2021-11-02T16:02:39.123Z"
   },
   {
    "duration": 566,
    "start_time": "2021-11-02T16:02:39.214Z"
   },
   {
    "duration": 111,
    "start_time": "2021-11-02T16:02:39.782Z"
   },
   {
    "duration": 1032,
    "start_time": "2021-11-02T16:02:39.895Z"
   },
   {
    "duration": 15,
    "start_time": "2021-11-02T16:02:40.929Z"
   },
   {
    "duration": 305,
    "start_time": "2021-11-02T16:02:40.947Z"
   },
   {
    "duration": 121,
    "start_time": "2021-11-02T16:02:41.254Z"
   },
   {
    "duration": 6,
    "start_time": "2021-11-02T16:02:41.377Z"
   },
   {
    "duration": 12,
    "start_time": "2021-11-02T16:02:41.385Z"
   },
   {
    "duration": 14,
    "start_time": "2021-11-02T16:02:41.399Z"
   },
   {
    "duration": 34,
    "start_time": "2021-11-02T16:02:41.416Z"
   },
   {
    "duration": 12,
    "start_time": "2021-11-02T16:02:41.452Z"
   },
   {
    "duration": 18,
    "start_time": "2021-11-02T16:02:41.466Z"
   }
  ],
  "kernelspec": {
   "display_name": "Python 3",
   "language": "python",
   "name": "python3"
  },
  "language_info": {
   "codemirror_mode": {
    "name": "ipython",
    "version": 3
   },
   "file_extension": ".py",
   "mimetype": "text/x-python",
   "name": "python",
   "nbconvert_exporter": "python",
   "pygments_lexer": "ipython3",
   "version": "3.7.10"
  },
  "toc": {
   "base_numbering": 1,
   "nav_menu": {},
   "number_sections": true,
   "sideBar": true,
   "skip_h1_title": true,
   "title_cell": "Table of Contents",
   "title_sidebar": "Contents",
   "toc_cell": true,
   "toc_position": {
    "height": "calc(100% - 180px)",
    "left": "10px",
    "top": "150px",
    "width": "238.26px"
   },
   "toc_section_display": true,
   "toc_window_display": false
  }
 },
 "nbformat": 4,
 "nbformat_minor": 2
}
