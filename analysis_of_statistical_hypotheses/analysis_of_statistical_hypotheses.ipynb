{
 "cells": [
  {
   "cell_type": "markdown",
   "metadata": {},
   "source": [
    "# Исследование поведения пользователей мобильного приложения"
   ]
  },
  {
   "cell_type": "markdown",
   "metadata": {},
   "source": [
    "## Вводные данные"
   ]
  },
  {
   "cell_type": "markdown",
   "metadata": {},
   "source": [
    "Вы работаете в стартапе, который продаёт продукты питания. Нужно разобраться, как ведут себя пользователи вашего мобильного приложения.\n",
    "Изучите воронку продаж. Узнайте, как пользователи доходят до покупки. Сколько пользователей доходит до покупки, а сколько — «застревает» на предыдущих шагах? На каких именно?\n",
    "После этого исследуйте результаты A/A/B-эксперимента. Дизайнеры захотели поменять шрифты во всём приложении, а менеджеры испугались, что пользователям будет непривычно. Договорились принять решение по результатам A/A/B-теста. "
   ]
  },
  {
   "cell_type": "markdown",
   "metadata": {},
   "source": [
    "### Планы исследования"
   ]
  },
  {
   "cell_type": "markdown",
   "metadata": {},
   "source": [
    "1. Изучим данные.\n",
    "2. Проведем предобработку данных,проверим, что данные пользователей в А/А/B тесте не пересекаются\n",
    "3. Изучим воронку событий проверим как ведут себя пользователи мобильного приложения\n",
    "4. Изучим результаты эксперимента по внесению изменений в дизайн, проверим различие А/А/В теста\n",
    "5. Подведем итоги"
   ]
  },
  {
   "cell_type": "markdown",
   "metadata": {},
   "source": [
    "## Загрузка и подготовка данных к анализу"
   ]
  },
  {
   "cell_type": "markdown",
   "metadata": {},
   "source": [
    "Загрузим необходимые библиотеки и переданный нам датасет"
   ]
  },
  {
   "cell_type": "code",
   "execution_count": 1,
   "metadata": {},
   "outputs": [
    {
     "name": "stdout",
     "output_type": "stream",
     "text": [
      "файл с данными подключен\n"
     ]
    }
   ],
   "source": [
    "# импортируем необходимые нам библиотеки\n",
    "import pandas as pd\n",
    "import matplotlib.pyplot as plt\n",
    "import seaborn as sns\n",
    "import numpy as np\n",
    "import math as math\n",
    "from statsmodels.stats.proportion import proportions_ztest\n",
    "import collections\n",
    "from collections import defaultdict\n",
    "import datetime as dt\n",
    "from cycler import cycler\n",
    "from scipy import stats as st\n",
    "import plotly.express as px\n",
    "from plotly import graph_objects as go\n",
    "from IPython.display import display, HTML\n",
    "import warnings\n",
    "import re\n",
    "\n",
    "\n",
    "#введем некотрые настройки\n",
    "warnings.filterwarnings(\"ignore\")\n",
    "pd.set_option('max_colwidth', 400)\n",
    "sns.set()\n",
    "plt.rcParams.update({'figure.figsize': (15,8)})\n",
    "\n",
    "#Подключим файлы с данными \n",
    "\n",
    "try:\n",
    "    le = pd.read_csv('/datasets/logs_exp.csv', sep='\\t')\n",
    "except:\n",
    "    print('файл с данными не подключен')\n",
    "else:\n",
    "    print('файл с данными подключен')\n",
    "\n"
   ]
  },
  {
   "cell_type": "markdown",
   "metadata": {},
   "source": [
    "Согласно описанию данных предоставленому заказчиком:\n",
    "\n",
    "Каждая запись в логе — это действие пользователя, или событие.\n",
    "\n",
    "•\tEventName — название события;\n",
    "\n",
    "•\tDeviceIDHash — уникальный идентификатор пользователя;\n",
    "\n",
    "•\tEventTimestamp — время события;\n",
    "\n",
    "•\tExpId — номер эксперимента: 246 и 247 — контрольные группы, а 248 — экспериментальная.\n"
   ]
  },
  {
   "cell_type": "markdown",
   "metadata": {},
   "source": [
    "Проверим полученные данные"
   ]
  },
  {
   "cell_type": "code",
   "execution_count": 2,
   "metadata": {},
   "outputs": [
    {
     "name": "stdout",
     "output_type": "stream",
     "text": [
      "Таблица logs_exp (Информация о действиях пользователя)\n",
      " \n",
      "Общая информация о данных\n",
      "<class 'pandas.core.frame.DataFrame'>\n",
      "RangeIndex: 244126 entries, 0 to 244125\n",
      "Data columns (total 4 columns):\n",
      "EventName         244126 non-null object\n",
      "DeviceIDHash      244126 non-null int64\n",
      "EventTimestamp    244126 non-null int64\n",
      "ExpId             244126 non-null int64\n",
      "dtypes: int64(3), object(1)\n",
      "memory usage: 7.5+ MB\n",
      " \n",
      "Описание данных\n",
      "       DeviceIDHash  EventTimestamp          ExpId\n",
      "count  2.441260e+05    2.441260e+05  244126.000000\n",
      "mean   4.627568e+18    1.564914e+09     247.022296\n",
      "std    2.642425e+18    1.771343e+05       0.824434\n",
      "min    6.888747e+15    1.564030e+09     246.000000\n",
      "25%    2.372212e+18    1.564757e+09     246.000000\n",
      "50%    4.623192e+18    1.564919e+09     247.000000\n",
      "75%    6.932517e+18    1.565075e+09     248.000000\n",
      "max    9.222603e+18    1.565213e+09     248.000000\n",
      " \n",
      "Случайная выборка данных\n"
     ]
    },
    {
     "data": {
      "text/html": [
       "<div>\n",
       "<style scoped>\n",
       "    .dataframe tbody tr th:only-of-type {\n",
       "        vertical-align: middle;\n",
       "    }\n",
       "\n",
       "    .dataframe tbody tr th {\n",
       "        vertical-align: top;\n",
       "    }\n",
       "\n",
       "    .dataframe thead th {\n",
       "        text-align: right;\n",
       "    }\n",
       "</style>\n",
       "<table border=\"1\" class=\"dataframe\">\n",
       "  <thead>\n",
       "    <tr style=\"text-align: right;\">\n",
       "      <th></th>\n",
       "      <th>EventName</th>\n",
       "      <th>DeviceIDHash</th>\n",
       "      <th>EventTimestamp</th>\n",
       "      <th>ExpId</th>\n",
       "    </tr>\n",
       "  </thead>\n",
       "  <tbody>\n",
       "    <tr>\n",
       "      <td>120873</td>\n",
       "      <td>MainScreenAppear</td>\n",
       "      <td>9096061512161785646</td>\n",
       "      <td>1564917596</td>\n",
       "      <td>248</td>\n",
       "    </tr>\n",
       "    <tr>\n",
       "      <td>4103</td>\n",
       "      <td>OffersScreenAppear</td>\n",
       "      <td>1074933668878523996</td>\n",
       "      <td>1564631437</td>\n",
       "      <td>247</td>\n",
       "    </tr>\n",
       "    <tr>\n",
       "      <td>92724</td>\n",
       "      <td>OffersScreenAppear</td>\n",
       "      <td>8115340604306569112</td>\n",
       "      <td>1564838447</td>\n",
       "      <td>246</td>\n",
       "    </tr>\n",
       "    <tr>\n",
       "      <td>128891</td>\n",
       "      <td>CartScreenAppear</td>\n",
       "      <td>3163109716415429772</td>\n",
       "      <td>1564930563</td>\n",
       "      <td>246</td>\n",
       "    </tr>\n",
       "    <tr>\n",
       "      <td>186942</td>\n",
       "      <td>OffersScreenAppear</td>\n",
       "      <td>2405626918155135838</td>\n",
       "      <td>1565082344</td>\n",
       "      <td>247</td>\n",
       "    </tr>\n",
       "  </tbody>\n",
       "</table>\n",
       "</div>"
      ],
      "text/plain": [
       "                 EventName         DeviceIDHash  EventTimestamp  ExpId\n",
       "120873    MainScreenAppear  9096061512161785646      1564917596    248\n",
       "4103    OffersScreenAppear  1074933668878523996      1564631437    247\n",
       "92724   OffersScreenAppear  8115340604306569112      1564838447    246\n",
       "128891    CartScreenAppear  3163109716415429772      1564930563    246\n",
       "186942  OffersScreenAppear  2405626918155135838      1565082344    247"
      ]
     },
     "execution_count": 2,
     "metadata": {},
     "output_type": "execute_result"
    }
   ],
   "source": [
    "print('Таблица logs_exp (Информация о действиях пользователя)')\n",
    "#Просмотрим общую информацию о данных\n",
    "\n",
    "print (' ')\n",
    "print ('Общая информация о данных')\n",
    "le.info()\n",
    "\n",
    "#Просмотрим данные функцией describle\n",
    "\n",
    "print (' ')\n",
    "print ('Описание данных')\n",
    "print(le.describe())\n",
    "print (' ')\n",
    "\n",
    "# Применим случайную выборку данных для первичного ознакомления\n",
    "# Укажем параметр random_state=1, для сохранения результата при повторных запусках алгоритма, если нам\n",
    "# вдруг понадобится\n",
    "\n",
    "print ('Случайная выборка данных')\n",
    "le.sample(5, random_state=1)"
   ]
  },
  {
   "cell_type": "markdown",
   "metadata": {},
   "source": [
    "В целом данные чистые. Проверим наличие дубликатов"
   ]
  },
  {
   "cell_type": "code",
   "execution_count": 3,
   "metadata": {},
   "outputs": [
    {
     "name": "stdout",
     "output_type": "stream",
     "text": [
      "\u001b[1mКоличество пропусков:\u001b[0m\n"
     ]
    },
    {
     "data": {
      "text/plain": [
       "EventName         0\n",
       "DeviceIDHash      0\n",
       "EventTimestamp    0\n",
       "ExpId             0\n",
       "dtype: int64"
      ]
     },
     "metadata": {},
     "output_type": "display_data"
    },
    {
     "name": "stdout",
     "output_type": "stream",
     "text": [
      "=============================================\n",
      "\n",
      "\u001b[1mКоличество явных дубликатов:\u001b[0m 413\n"
     ]
    }
   ],
   "source": [
    "print('\\033[1m' + 'Количество пропусков:' + '\\033[0m')\n",
    "display(le.isna().sum())\n",
    "print('=' * 45)\n",
    "print()\n",
    "\n",
    "print('\\033[1m' + 'Количество явных дубликатов:' + '\\033[0m', \n",
    "      le.duplicated().sum())"
   ]
  },
  {
   "cell_type": "markdown",
   "metadata": {},
   "source": [
    "Посмотрим на дубликаты поподробнее:"
   ]
  },
  {
   "cell_type": "code",
   "execution_count": 4,
   "metadata": {},
   "outputs": [
    {
     "data": {
      "text/html": [
       "<div>\n",
       "<style scoped>\n",
       "    .dataframe tbody tr th:only-of-type {\n",
       "        vertical-align: middle;\n",
       "    }\n",
       "\n",
       "    .dataframe tbody tr th {\n",
       "        vertical-align: top;\n",
       "    }\n",
       "\n",
       "    .dataframe thead th {\n",
       "        text-align: right;\n",
       "    }\n",
       "</style>\n",
       "<table border=\"1\" class=\"dataframe\">\n",
       "  <thead>\n",
       "    <tr style=\"text-align: right;\">\n",
       "      <th></th>\n",
       "      <th>EventName</th>\n",
       "      <th>DeviceIDHash</th>\n",
       "      <th>EventTimestamp</th>\n",
       "      <th>ExpId</th>\n",
       "    </tr>\n",
       "  </thead>\n",
       "  <tbody>\n",
       "    <tr>\n",
       "      <td>453</td>\n",
       "      <td>MainScreenAppear</td>\n",
       "      <td>5613408041324010552</td>\n",
       "      <td>1564474784</td>\n",
       "      <td>248</td>\n",
       "    </tr>\n",
       "    <tr>\n",
       "      <td>2350</td>\n",
       "      <td>CartScreenAppear</td>\n",
       "      <td>1694940645335807244</td>\n",
       "      <td>1564609899</td>\n",
       "      <td>248</td>\n",
       "    </tr>\n",
       "    <tr>\n",
       "      <td>3573</td>\n",
       "      <td>MainScreenAppear</td>\n",
       "      <td>434103746454591587</td>\n",
       "      <td>1564628377</td>\n",
       "      <td>248</td>\n",
       "    </tr>\n",
       "    <tr>\n",
       "      <td>4076</td>\n",
       "      <td>MainScreenAppear</td>\n",
       "      <td>3761373764179762633</td>\n",
       "      <td>1564631266</td>\n",
       "      <td>247</td>\n",
       "    </tr>\n",
       "    <tr>\n",
       "      <td>4803</td>\n",
       "      <td>MainScreenAppear</td>\n",
       "      <td>2835328739789306622</td>\n",
       "      <td>1564634641</td>\n",
       "      <td>248</td>\n",
       "    </tr>\n",
       "    <tr>\n",
       "      <td>...</td>\n",
       "      <td>...</td>\n",
       "      <td>...</td>\n",
       "      <td>...</td>\n",
       "      <td>...</td>\n",
       "    </tr>\n",
       "    <tr>\n",
       "      <td>242329</td>\n",
       "      <td>MainScreenAppear</td>\n",
       "      <td>8870358373313968633</td>\n",
       "      <td>1565206004</td>\n",
       "      <td>247</td>\n",
       "    </tr>\n",
       "    <tr>\n",
       "      <td>242332</td>\n",
       "      <td>PaymentScreenSuccessful</td>\n",
       "      <td>4718002964983105693</td>\n",
       "      <td>1565206005</td>\n",
       "      <td>247</td>\n",
       "    </tr>\n",
       "    <tr>\n",
       "      <td>242360</td>\n",
       "      <td>PaymentScreenSuccessful</td>\n",
       "      <td>2382591782303281935</td>\n",
       "      <td>1565206049</td>\n",
       "      <td>246</td>\n",
       "    </tr>\n",
       "    <tr>\n",
       "      <td>242362</td>\n",
       "      <td>CartScreenAppear</td>\n",
       "      <td>2382591782303281935</td>\n",
       "      <td>1565206049</td>\n",
       "      <td>246</td>\n",
       "    </tr>\n",
       "    <tr>\n",
       "      <td>242635</td>\n",
       "      <td>MainScreenAppear</td>\n",
       "      <td>4097782667445790512</td>\n",
       "      <td>1565206618</td>\n",
       "      <td>246</td>\n",
       "    </tr>\n",
       "  </tbody>\n",
       "</table>\n",
       "<p>413 rows × 4 columns</p>\n",
       "</div>"
      ],
      "text/plain": [
       "                      EventName         DeviceIDHash  EventTimestamp  ExpId\n",
       "453            MainScreenAppear  5613408041324010552      1564474784    248\n",
       "2350           CartScreenAppear  1694940645335807244      1564609899    248\n",
       "3573           MainScreenAppear   434103746454591587      1564628377    248\n",
       "4076           MainScreenAppear  3761373764179762633      1564631266    247\n",
       "4803           MainScreenAppear  2835328739789306622      1564634641    248\n",
       "...                         ...                  ...             ...    ...\n",
       "242329         MainScreenAppear  8870358373313968633      1565206004    247\n",
       "242332  PaymentScreenSuccessful  4718002964983105693      1565206005    247\n",
       "242360  PaymentScreenSuccessful  2382591782303281935      1565206049    246\n",
       "242362         CartScreenAppear  2382591782303281935      1565206049    246\n",
       "242635         MainScreenAppear  4097782667445790512      1565206618    246\n",
       "\n",
       "[413 rows x 4 columns]"
      ]
     },
     "execution_count": 4,
     "metadata": {},
     "output_type": "execute_result"
    }
   ],
   "source": [
    "#посмотрим на все дубликаты\n",
    "le[le.duplicated(keep='first')]"
   ]
  },
  {
   "cell_type": "markdown",
   "metadata": {},
   "source": [
    "Выглядит как ошибка. Данных у нас достаточно и я думаю, что просто удалю эти дубликаты. "
   ]
  },
  {
   "cell_type": "code",
   "execution_count": 5,
   "metadata": {},
   "outputs": [
    {
     "name": "stdout",
     "output_type": "stream",
     "text": [
      "\u001b[1mКоличество явных дубликатов:\u001b[0m 0\n",
      " \n",
      "<class 'pandas.core.frame.DataFrame'>\n",
      "RangeIndex: 243713 entries, 0 to 243712\n",
      "Data columns (total 4 columns):\n",
      "EventName         243713 non-null object\n",
      "DeviceIDHash      243713 non-null int64\n",
      "EventTimestamp    243713 non-null int64\n",
      "ExpId             243713 non-null int64\n",
      "dtypes: int64(3), object(1)\n",
      "memory usage: 7.4+ MB\n"
     ]
    }
   ],
   "source": [
    "#удалим дубликаты и проверим результат\n",
    "le = le.drop_duplicates().reset_index(drop=True)\n",
    "print('\\033[1m' + 'Количество явных дубликатов:' + '\\033[0m', le.duplicated().sum())\n",
    "print (' ')\n",
    "le.info()"
   ]
  },
  {
   "cell_type": "markdown",
   "metadata": {},
   "source": [
    "Названия столбцов не самые удачные и могут повлечь ошибки - заменим названия столбцов на названия в одном регистре с подчеркиванием"
   ]
  },
  {
   "cell_type": "code",
   "execution_count": 6,
   "metadata": {},
   "outputs": [
    {
     "name": "stdout",
     "output_type": "stream",
     "text": [
      " \n",
      "<class 'pandas.core.frame.DataFrame'>\n",
      "RangeIndex: 243713 entries, 0 to 243712\n",
      "Data columns (total 4 columns):\n",
      "eventname         243713 non-null object\n",
      "deviceidhash      243713 non-null int64\n",
      "eventtimestamp    243713 non-null int64\n",
      "expid             243713 non-null int64\n",
      "dtypes: int64(3), object(1)\n",
      "memory usage: 7.4+ MB\n"
     ]
    }
   ],
   "source": [
    "# исправим регистр\n",
    "le.columns = le.columns.str.lower()\n",
    "# проверим результат\n",
    "le.columns\n",
    "print (' ')\n",
    "le.info()"
   ]
  },
  {
   "cell_type": "code",
   "execution_count": 7,
   "metadata": {},
   "outputs": [
    {
     "data": {
      "text/plain": [
       "Index(['event_name', 'id', 'event_timestamp', 'group'], dtype='object')"
      ]
     },
     "execution_count": 7,
     "metadata": {},
     "output_type": "execute_result"
    }
   ],
   "source": [
    "# переименуем столбцы\n",
    "le = le.rename(columns = {'eventname': 'event_name', \n",
    "               'deviceidhash': 'id', \n",
    "               'eventtimestamp': 'event_timestamp', \n",
    "               'expid': 'group'})\n",
    "# проверим результат\n",
    "le.columns"
   ]
  },
  {
   "cell_type": "markdown",
   "metadata": {},
   "source": [
    "У нас есть время события  в формате Unix Timestamp. Для удобства дальнейшего анализа добавим столбец даты и времени в формате datetime, а также отдельный столбец дат."
   ]
  },
  {
   "cell_type": "code",
   "execution_count": 8,
   "metadata": {},
   "outputs": [
    {
     "name": "stdout",
     "output_type": "stream",
     "text": [
      "                event_name                   id  event_timestamp  group  \\\n",
      "0         MainScreenAppear  4575588528974610257       1564029816    246   \n",
      "1         MainScreenAppear  7416695313311560658       1564053102    246   \n",
      "2  PaymentScreenSuccessful  3518123091307005509       1564054127    248   \n",
      "3         CartScreenAppear  3518123091307005509       1564054127    248   \n",
      "4  PaymentScreenSuccessful  6217807653094995999       1564055322    248   \n",
      "5         CartScreenAppear  6217807653094995999       1564055323    248   \n",
      "6       OffersScreenAppear  8351860793733343758       1564066242    246   \n",
      "7         MainScreenAppear  5682100281902512875       1564085677    246   \n",
      "8         MainScreenAppear  1850981295691852772       1564086702    247   \n",
      "9         MainScreenAppear  5407636962369102641       1564112112    246   \n",
      "\n",
      "           event_time event_date  \n",
      "0 2019-07-25 04:43:36 2019-07-25  \n",
      "1 2019-07-25 11:11:42 2019-07-25  \n",
      "2 2019-07-25 11:28:47 2019-07-25  \n",
      "3 2019-07-25 11:28:47 2019-07-25  \n",
      "4 2019-07-25 11:48:42 2019-07-25  \n",
      "5 2019-07-25 11:48:43 2019-07-25  \n",
      "6 2019-07-25 14:50:42 2019-07-25  \n",
      "7 2019-07-25 20:14:37 2019-07-25  \n",
      "8 2019-07-25 20:31:42 2019-07-25  \n",
      "9 2019-07-26 03:35:12 2019-07-26  \n",
      "<class 'pandas.core.frame.DataFrame'>\n",
      "RangeIndex: 243713 entries, 0 to 243712\n",
      "Data columns (total 6 columns):\n",
      "event_name         243713 non-null object\n",
      "id                 243713 non-null int64\n",
      "event_timestamp    243713 non-null int64\n",
      "group              243713 non-null int64\n",
      "event_time         243713 non-null datetime64[ns]\n",
      "event_date         243713 non-null datetime64[ns]\n",
      "dtypes: datetime64[ns](2), int64(3), object(1)\n",
      "memory usage: 11.2+ MB\n"
     ]
    }
   ],
   "source": [
    "# поменяем тип данных unix на datetime в отдельном столбце\n",
    "le['event_time'] = pd.to_datetime(le['event_timestamp'], unit='s')\n",
    "#выделим отдельный столбец с датой \n",
    "le['event_date'] = le['event_time'].dt.date\n",
    "le['event_date'] = pd.to_datetime(le['event_date'])\n",
    "#проверим результат\n",
    "print(le.head(10))\n",
    "le.info()"
   ]
  },
  {
   "cell_type": "markdown",
   "metadata": {},
   "source": [
    "**Выводы** Мы подготовили данные к работе сними, переименовали столбца исключив возможность случайной опечатки, проверили пропуски и удалили полные дубликаты, а также добавили необходимые нам позднее столбцы с датой и временем события.\n",
    "\n",
    "**Проведем предобработку данных** изучим и проверим их более внимательно. Хватает ли нам данных, за какой период они даны, нет ли нелогичных данных, нет ли пересечений между группами в А/А/В тестировании\n",
    "\n",
    "Рассмотрим, сколько и какие события есть в логе"
   ]
  },
  {
   "cell_type": "code",
   "execution_count": 9,
   "metadata": {},
   "outputs": [
    {
     "name": "stdout",
     "output_type": "stream",
     "text": [
      "События в логе:\n",
      "MainScreenAppear           119101\n",
      "OffersScreenAppear          46808\n",
      "CartScreenAppear            42668\n",
      "PaymentScreenSuccessful     34118\n",
      "Tutorial                     1018\n",
      "Name: event_name, dtype: int64\n"
     ]
    },
    {
     "data": {
      "image/png": "[encoded data removed]",
      "text/plain": [
       "<Figure size 1080x576 with 1 Axes>"
      ]
     },
     "metadata": {},
     "output_type": "display_data"
    }
   ],
   "source": [
    "# посчитаем количество событий в логе\n",
    "print('События в логе:')\n",
    "print(le['event_name'].value_counts())\n",
    "\n",
    "#построим график\n",
    "le['event_name'].value_counts().plot.bar()\n",
    "plt.xticks(rotation=0)\n",
    "plt.title('Распределение событий в логе')\n",
    "plt.ylabel('Количество')\n",
    "plt.xlabel('Тип')\n",
    "plt.show()"
   ]
  },
  {
   "cell_type": "markdown",
   "metadata": {},
   "source": [
    "У нас пять событий. Больше всего заходов на главную страницу, меньше всего чтений руководства :-). В принципе ничего странного. Вполне возможно, что руководство читают только когда что-то сломалось.\n",
    "\n",
    "Описание событий Заказчик нам не предоставил, но из названий можно предположить что за события нам предоставлены:\n",
    "\n",
    "'MainScreenAppear' - пользователь зашел на посадочную страницу, что-то думает и читает;\n",
    "\n",
    "'OffersScreenAppear' - пользователь на странице предложения приложения;\n",
    "\n",
    "'CartScreenAppear' - пользователь на странице \"корзины\" приложения;\n",
    "\n",
    "'PaymentScreenSuccessful' - пользователь произвел оплату заказа;\n",
    "\n",
    "'Tutorial' - пользователь почитал руководство :-)."
   ]
  },
  {
   "cell_type": "markdown",
   "metadata": {},
   "source": [
    "Подсчитаем, сколько всего уникальных пользователей в логе:"
   ]
  },
  {
   "cell_type": "code",
   "execution_count": 10,
   "metadata": {},
   "outputs": [
    {
     "name": "stdout",
     "output_type": "stream",
     "text": [
      "Количество уникальных пользователей в логе:\n"
     ]
    },
    {
     "data": {
      "text/plain": [
       "7551"
      ]
     },
     "execution_count": 10,
     "metadata": {},
     "output_type": "execute_result"
    }
   ],
   "source": [
    "# посчитаем количество уникальных пользователей в логе\n",
    "print('Количество уникальных пользователей в логе:')\n",
    "le['id'].nunique()"
   ]
  },
  {
   "cell_type": "markdown",
   "metadata": {},
   "source": [
    "Проверим сколько в среднем событий приходится на пользователя:"
   ]
  },
  {
   "cell_type": "code",
   "execution_count": 11,
   "metadata": {},
   "outputs": [
    {
     "name": "stdout",
     "output_type": "stream",
     "text": [
      "В среднем, пользователь совершил:\n",
      "32.3\n"
     ]
    }
   ],
   "source": [
    "print('В среднем, пользователь совершил:')\n",
    "\n",
    "print(round(le['event_name'].value_counts().sum() / le['id'].nunique(), 1))"
   ]
  },
  {
   "cell_type": "markdown",
   "metadata": {},
   "source": [
    "Проверим, данные за какой период нам предоставили. Найдем максимальную и минимальную дату. Построим гистограмму по дате и времени. "
   ]
  },
  {
   "cell_type": "code",
   "execution_count": 12,
   "metadata": {
    "scrolled": true
   },
   "outputs": [
    {
     "name": "stdout",
     "output_type": "stream",
     "text": [
      "Максимальная дата события:  2019-08-07 21:15:17\n",
      "Минимальная дата события:  2019-07-25 04:43:36\n",
      "Сырые данные предоставлены за: 13 days 16:31:41\n"
     ]
    },
    {
     "data": {
      "image/png": "[encoded data removed]",
      "text/plain": [
       "<Figure size 1080x576 with 1 Axes>"
      ]
     },
     "metadata": {},
     "output_type": "display_data"
    }
   ],
   "source": [
    "#выясним, даты данных\n",
    "max_date = le['event_time'].max()\n",
    "min_date = le['event_time'].min()\n",
    "period = max_date - min_date\n",
    "print('Максимальная дата события: ',max_date)\n",
    "print('Минимальная дата события: ',min_date)\n",
    "print('Сырые данные предоставлены за:',period)\n",
    "\n",
    "le['event_date'].hist(bins=10)\n",
    "plt.xticks(rotation=45)\n",
    "plt.title('Предоставленные данные')\n",
    "plt.ylabel('Количество данных')\n",
    "plt.xlabel('Дата')\n",
    "plt.show()"
   ]
  },
  {
   "cell_type": "markdown",
   "metadata": {},
   "source": [
    "Очевидно, что у нас наблюдается небольшое количество неполных данных ранее 1.08.2019 года. Обычно для события хранятся два поля - дата отправки и дата приёма. Возможно данные для нас выгрузили по времени приёма, но в датасете оставили только время отправки.\n",
    "Поскольку данных ранее 1.08.2019 не очень много, мы можем их просто отбросить."
   ]
  },
  {
   "cell_type": "code",
   "execution_count": 13,
   "metadata": {},
   "outputs": [
    {
     "name": "stdout",
     "output_type": "stream",
     "text": [
      "<class 'pandas.core.frame.DataFrame'>\n",
      "RangeIndex: 243713 entries, 0 to 243712\n",
      "Data columns (total 6 columns):\n",
      "event_name         243713 non-null object\n",
      "id                 243713 non-null int64\n",
      "event_timestamp    243713 non-null int64\n",
      "group              243713 non-null int64\n",
      "event_time         243713 non-null datetime64[ns]\n",
      "event_date         243713 non-null datetime64[ns]\n",
      "dtypes: datetime64[ns](2), int64(3), object(1)\n",
      "memory usage: 11.2+ MB\n"
     ]
    }
   ],
   "source": [
    "type(le['event_date'])\n",
    "le.info()"
   ]
  },
  {
   "cell_type": "code",
   "execution_count": 14,
   "metadata": {},
   "outputs": [
    {
     "data": {
      "text/html": [
       "<div>\n",
       "<style scoped>\n",
       "    .dataframe tbody tr th:only-of-type {\n",
       "        vertical-align: middle;\n",
       "    }\n",
       "\n",
       "    .dataframe tbody tr th {\n",
       "        vertical-align: top;\n",
       "    }\n",
       "\n",
       "    .dataframe thead th {\n",
       "        text-align: right;\n",
       "    }\n",
       "</style>\n",
       "<table border=\"1\" class=\"dataframe\">\n",
       "  <thead>\n",
       "    <tr style=\"text-align: right;\">\n",
       "      <th></th>\n",
       "      <th>event_name</th>\n",
       "      <th>id</th>\n",
       "      <th>event_timestamp</th>\n",
       "      <th>group</th>\n",
       "      <th>event_time</th>\n",
       "      <th>event_date</th>\n",
       "    </tr>\n",
       "  </thead>\n",
       "  <tbody>\n",
       "    <tr>\n",
       "      <td>0</td>\n",
       "      <td>Tutorial</td>\n",
       "      <td>3737462046622621720</td>\n",
       "      <td>1564618048</td>\n",
       "      <td>246</td>\n",
       "      <td>2019-08-01 00:07:28</td>\n",
       "      <td>2019-08-01</td>\n",
       "    </tr>\n",
       "    <tr>\n",
       "      <td>1</td>\n",
       "      <td>MainScreenAppear</td>\n",
       "      <td>3737462046622621720</td>\n",
       "      <td>1564618080</td>\n",
       "      <td>246</td>\n",
       "      <td>2019-08-01 00:08:00</td>\n",
       "      <td>2019-08-01</td>\n",
       "    </tr>\n",
       "    <tr>\n",
       "      <td>2</td>\n",
       "      <td>MainScreenAppear</td>\n",
       "      <td>3737462046622621720</td>\n",
       "      <td>1564618135</td>\n",
       "      <td>246</td>\n",
       "      <td>2019-08-01 00:08:55</td>\n",
       "      <td>2019-08-01</td>\n",
       "    </tr>\n",
       "    <tr>\n",
       "      <td>3</td>\n",
       "      <td>OffersScreenAppear</td>\n",
       "      <td>3737462046622621720</td>\n",
       "      <td>1564618138</td>\n",
       "      <td>246</td>\n",
       "      <td>2019-08-01 00:08:58</td>\n",
       "      <td>2019-08-01</td>\n",
       "    </tr>\n",
       "    <tr>\n",
       "      <td>4</td>\n",
       "      <td>MainScreenAppear</td>\n",
       "      <td>1433840883824088890</td>\n",
       "      <td>1564618139</td>\n",
       "      <td>247</td>\n",
       "      <td>2019-08-01 00:08:59</td>\n",
       "      <td>2019-08-01</td>\n",
       "    </tr>\n",
       "  </tbody>\n",
       "</table>\n",
       "</div>"
      ],
      "text/plain": [
       "           event_name                   id  event_timestamp  group  \\\n",
       "0            Tutorial  3737462046622621720       1564618048    246   \n",
       "1    MainScreenAppear  3737462046622621720       1564618080    246   \n",
       "2    MainScreenAppear  3737462046622621720       1564618135    246   \n",
       "3  OffersScreenAppear  3737462046622621720       1564618138    246   \n",
       "4    MainScreenAppear  1433840883824088890       1564618139    247   \n",
       "\n",
       "           event_time event_date  \n",
       "0 2019-08-01 00:07:28 2019-08-01  \n",
       "1 2019-08-01 00:08:00 2019-08-01  \n",
       "2 2019-08-01 00:08:55 2019-08-01  \n",
       "3 2019-08-01 00:08:58 2019-08-01  \n",
       "4 2019-08-01 00:08:59 2019-08-01  "
      ]
     },
     "execution_count": 14,
     "metadata": {},
     "output_type": "execute_result"
    }
   ],
   "source": [
    "#отбросим ненужные нам данные\n",
    "mask = le['event_date'] >= '2019-08-01'\n",
    "le_clear = le.loc[mask].reset_index(drop=True)\n",
    "#проверим результат\n",
    "le_clear.head()\n"
   ]
  },
  {
   "cell_type": "code",
   "execution_count": 15,
   "metadata": {},
   "outputs": [
    {
     "name": "stdout",
     "output_type": "stream",
     "text": [
      "Максимальная дата события:  2019-08-07 21:15:17\n",
      "Минимальная дата события:  2019-08-01 00:07:28\n",
      "Сырые данные предоставлены за: 6 days 21:07:49\n"
     ]
    }
   ],
   "source": [
    "#проверим снова лимиты\n",
    "max_date_clear = le_clear['event_time'].max()\n",
    "min_date_clear = le_clear['event_time'].min()\n",
    "period_clear = max_date_clear - min_date_clear\n",
    "print('Максимальная дата события: ',max_date_clear)\n",
    "print('Минимальная дата события: ',min_date_clear)\n",
    "print('Сырые данные предоставлены за:',period_clear)"
   ]
  },
  {
   "cell_type": "markdown",
   "metadata": {},
   "source": [
    "Похоже у нас есть данные только с утра 01.08.2019 по вечер 07.08.2019"
   ]
  },
  {
   "cell_type": "markdown",
   "metadata": {},
   "source": [
    "Проверим, много ли событий и пользователей мы потеряли, отбросив старые данные:"
   ]
  },
  {
   "cell_type": "code",
   "execution_count": 16,
   "metadata": {},
   "outputs": [
    {
     "name": "stdout",
     "output_type": "stream",
     "text": [
      "Событий отбросили:  2826\n",
      "Пользователей отбросили:  17\n"
     ]
    }
   ],
   "source": [
    "print('Событий отбросили: ',len(le)-len(le_clear))\n",
    "print('Пользователей отбросили: ',le['id'].nunique()-le_clear['id'].nunique())"
   ]
  },
  {
   "cell_type": "markdown",
   "metadata": {},
   "source": [
    "Мы отбросили примерно 1% событий - я думаю, это не повлияет на результаты исследования"
   ]
  },
  {
   "cell_type": "markdown",
   "metadata": {},
   "source": [
    "Проверим, что у на есть пользователи из всех трёх экспериментальных групп, проверим - нет ли у нас одинаковых пользователей, которые оказались в разных группах"
   ]
  },
  {
   "cell_type": "code",
   "execution_count": 17,
   "metadata": {},
   "outputs": [
    {
     "data": {
      "text/plain": [
       "248    84563\n",
       "246    79302\n",
       "247    77022\n",
       "Name: group, dtype: int64"
      ]
     },
     "execution_count": 17,
     "metadata": {},
     "output_type": "execute_result"
    }
   ],
   "source": [
    "le_clear['group'].value_counts()"
   ]
  },
  {
   "cell_type": "code",
   "execution_count": 18,
   "metadata": {},
   "outputs": [
    {
     "name": "stdout",
     "output_type": "stream",
     "text": [
      "Задвоений в группах:  0\n"
     ]
    }
   ],
   "source": [
    "#проверим дубликаты по группам\n",
    "users_group = le_clear.groupby('id')['group'].nunique()\n",
    "\n",
    "dubles = users_group[users_group > 1].index \n",
    "\n",
    "print('Задвоений в группах: ',len(dubles))"
   ]
  },
  {
   "cell_type": "markdown",
   "metadata": {},
   "source": [
    "### Промежуточные выводы"
   ]
  },
  {
   "cell_type": "markdown",
   "metadata": {},
   "source": [
    "Данные в целом пришли в хорошем виде. Присутсвовало небольшое количество дубликатов и некотрое количество неполных данных (данных до 01.08.2019). Поскольку их было небольшое количество, они были удалены из анализа. Задвоений пользователей по группам А/А/В тестирования не найдено. Данные готовы для анализа и проведения А/А/В теста"
   ]
  },
  {
   "cell_type": "markdown",
   "metadata": {},
   "source": [
    "## Анализ данных"
   ]
  },
  {
   "cell_type": "markdown",
   "metadata": {},
   "source": [
    "**Изучим воронку событий**\n",
    "\n",
    "В процессе подготовки данных, мы увидели, что всего в логах у нас есть пять событий Описание событий Заказчик нам не предоставил, но из названий можно предположить что за события нам предоставлены:\n",
    "\n",
    "'MainScreenAppear' - пользователь зашел на посадочную страницу, что-то думает и читает;\n",
    "\n",
    "'OffersScreenAppear' - пользователь на странице предложения приложения;\n",
    "\n",
    "'CartScreenAppear' - пользователь на странице \"корзины\" приложения;\n",
    "\n",
    "'PaymentScreenSuccessful' - пользователь произвел оплату заказа;\n",
    "\n",
    "'Tutorial' - пользователь почитал руководство.\n",
    "\n",
    "\n",
    "Больше всего пользователи выходят на посадочную страницу, меньше всего читают инструкции. \n",
    "Посчитаем, сколько пользователей совершали каждое из этих событий. Отсортируем события по числу пользователей. "
   ]
  },
  {
   "cell_type": "code",
   "execution_count": 19,
   "metadata": {},
   "outputs": [
    {
     "name": "stdout",
     "output_type": "stream",
     "text": [
      "События в логе:\n",
      "MainScreenAppear           117328\n",
      "OffersScreenAppear          46333\n",
      "CartScreenAppear            42303\n",
      "PaymentScreenSuccessful     33918\n",
      "Tutorial                     1005\n",
      "Name: event_name, dtype: int64\n"
     ]
    }
   ],
   "source": [
    "# отсортируем количество событий в логе\n",
    "print('События в логе:')\n",
    "print(le_clear['event_name'].value_counts())"
   ]
  },
  {
   "cell_type": "markdown",
   "metadata": {},
   "source": [
    "Посчитаем долю пользователей, которые хоть раз совершали событие."
   ]
  },
  {
   "cell_type": "code",
   "execution_count": 20,
   "metadata": {},
   "outputs": [
    {
     "name": "stdout",
     "output_type": "stream",
     "text": [
      "Всего уникальных пользователей: 7534\n",
      " \n",
      "Уникальные пользователи совершающие те или иные действия\n"
     ]
    },
    {
     "data": {
      "text/html": [
       "<div>\n",
       "<style scoped>\n",
       "    .dataframe tbody tr th:only-of-type {\n",
       "        vertical-align: middle;\n",
       "    }\n",
       "\n",
       "    .dataframe tbody tr th {\n",
       "        vertical-align: top;\n",
       "    }\n",
       "\n",
       "    .dataframe thead th {\n",
       "        text-align: right;\n",
       "    }\n",
       "</style>\n",
       "<table border=\"1\" class=\"dataframe\">\n",
       "  <thead>\n",
       "    <tr style=\"text-align: right;\">\n",
       "      <th></th>\n",
       "      <th>event_name</th>\n",
       "      <th>id</th>\n",
       "    </tr>\n",
       "  </thead>\n",
       "  <tbody>\n",
       "    <tr>\n",
       "      <td>0</td>\n",
       "      <td>MainScreenAppear</td>\n",
       "      <td>7419</td>\n",
       "    </tr>\n",
       "    <tr>\n",
       "      <td>1</td>\n",
       "      <td>OffersScreenAppear</td>\n",
       "      <td>4593</td>\n",
       "    </tr>\n",
       "    <tr>\n",
       "      <td>2</td>\n",
       "      <td>CartScreenAppear</td>\n",
       "      <td>3734</td>\n",
       "    </tr>\n",
       "    <tr>\n",
       "      <td>3</td>\n",
       "      <td>PaymentScreenSuccessful</td>\n",
       "      <td>3539</td>\n",
       "    </tr>\n",
       "    <tr>\n",
       "      <td>4</td>\n",
       "      <td>Tutorial</td>\n",
       "      <td>840</td>\n",
       "    </tr>\n",
       "  </tbody>\n",
       "</table>\n",
       "</div>"
      ],
      "text/plain": [
       "                event_name    id\n",
       "0         MainScreenAppear  7419\n",
       "1       OffersScreenAppear  4593\n",
       "2         CartScreenAppear  3734\n",
       "3  PaymentScreenSuccessful  3539\n",
       "4                 Tutorial   840"
      ]
     },
     "execution_count": 20,
     "metadata": {},
     "output_type": "execute_result"
    }
   ],
   "source": [
    "#сделаем копию данных для проработки воронки событий\n",
    "vz = le_clear.copy()\n",
    "print('Всего уникальных пользователей:',vz['id'].nunique())\n",
    "print(' ')\n",
    "print('Уникальные пользователи совершающие те или иные действия')\n",
    "vz_act = vz.groupby('event_name')['id'].nunique().sort_values(ascending=False).reset_index()\n",
    "vz_act"
   ]
  },
  {
   "cell_type": "markdown",
   "metadata": {},
   "source": [
    "Думаю, что можно предположить следующую последовательность событий:\n",
    "Пользователь заходит на главную страницу, некотрое время проводит там, возможно возвращается на страницу несколько раз.\n",
    "Затем он выбирает нужные ему продукты изучает цены и думает над покупкой\n",
    "На третьем шаге он оказывается в \"корзине\", где просматривает условия и заказ и решается на покупку.\n",
    "После удачной оплаты он оказывается на странице успешной оплаты и радуется, что все оформил и оплатил.\n",
    "Данные события выстраиваются в понятную последовательную цепочку. При этом у нас есть пользователи читающие руководство. Они могут делать это на любом этапе воронки и это собтие не встраивается в воронку. Думаю мы должны выключить его из расчета воронки.\n",
    "\n",
    "Таким образом, я предлагаю следующую воронку событий:\n",
    "'MainScreenAppear'\n",
    "'OffersScreenAppear'\n",
    "'CartScreenAppear'\n",
    "'PaymentScreenSuccessful'\n",
    "\n",
    "Посчитаем, какая доля пользователей проходит на следующий шаг воронки (от числа пользователей на предыдущем)."
   ]
  },
  {
   "cell_type": "code",
   "execution_count": 21,
   "metadata": {},
   "outputs": [
    {
     "name": "stdout",
     "output_type": "stream",
     "text": [
      "События в логе:\n",
      "0           MainScreenAppear\n",
      "1         OffersScreenAppear\n",
      "2           CartScreenAppear\n",
      "3    PaymentScreenSuccessful\n",
      "Name: event_name, dtype: object\n"
     ]
    }
   ],
   "source": [
    "#уберем события, которые мы не учитываем при создании воронки событий\n",
    "mask1 = vz_act['event_name'] != 'Tutorial'\n",
    "vz_act = vz_act.loc[mask1].reset_index(drop=True)\n",
    "\n",
    "#проверим результат\n",
    "print('События в логе:')\n",
    "print(vz_act['event_name'])"
   ]
  },
  {
   "cell_type": "code",
   "execution_count": 22,
   "metadata": {},
   "outputs": [
    {
     "data": {
      "text/html": [
       "<div>\n",
       "<style scoped>\n",
       "    .dataframe tbody tr th:only-of-type {\n",
       "        vertical-align: middle;\n",
       "    }\n",
       "\n",
       "    .dataframe tbody tr th {\n",
       "        vertical-align: top;\n",
       "    }\n",
       "\n",
       "    .dataframe thead th {\n",
       "        text-align: right;\n",
       "    }\n",
       "</style>\n",
       "<table border=\"1\" class=\"dataframe\">\n",
       "  <thead>\n",
       "    <tr style=\"text-align: right;\">\n",
       "      <th></th>\n",
       "      <th>event_name</th>\n",
       "      <th>id</th>\n",
       "      <th>transition_percent</th>\n",
       "      <th>full_transition_percent</th>\n",
       "    </tr>\n",
       "  </thead>\n",
       "  <tbody>\n",
       "    <tr>\n",
       "      <td>0</td>\n",
       "      <td>MainScreenAppear</td>\n",
       "      <td>7419</td>\n",
       "      <td>NaN</td>\n",
       "      <td>1.000000</td>\n",
       "    </tr>\n",
       "    <tr>\n",
       "      <td>1</td>\n",
       "      <td>OffersScreenAppear</td>\n",
       "      <td>4593</td>\n",
       "      <td>0.619086</td>\n",
       "      <td>0.619086</td>\n",
       "    </tr>\n",
       "    <tr>\n",
       "      <td>2</td>\n",
       "      <td>CartScreenAppear</td>\n",
       "      <td>3734</td>\n",
       "      <td>0.812976</td>\n",
       "      <td>0.503302</td>\n",
       "    </tr>\n",
       "    <tr>\n",
       "      <td>3</td>\n",
       "      <td>PaymentScreenSuccessful</td>\n",
       "      <td>3539</td>\n",
       "      <td>0.947777</td>\n",
       "      <td>0.477018</td>\n",
       "    </tr>\n",
       "  </tbody>\n",
       "</table>\n",
       "</div>"
      ],
      "text/plain": [
       "                event_name    id  transition_percent  full_transition_percent\n",
       "0         MainScreenAppear  7419                 NaN                 1.000000\n",
       "1       OffersScreenAppear  4593            0.619086                 0.619086\n",
       "2         CartScreenAppear  3734            0.812976                 0.503302\n",
       "3  PaymentScreenSuccessful  3539            0.947777                 0.477018"
      ]
     },
     "execution_count": 22,
     "metadata": {},
     "output_type": "execute_result"
    }
   ],
   "source": [
    "#Вычислим доли пользователей\n",
    "vz_act['transition_percent'] = vz_act['id'].div(vz_act['id'].shift(1))\n",
    "vz_act['full_transition_percent'] = vz_act['id'] / vz_act['id'][0]\n",
    "vz_act"
   ]
  },
  {
   "cell_type": "code",
   "execution_count": 23,
   "metadata": {},
   "outputs": [
    {
     "data": {
      "image/png": "[encoded data removed]",
      "text/plain": [
       "<Figure size 1080x576 with 1 Axes>"
      ]
     },
     "metadata": {},
     "output_type": "display_data"
    }
   ],
   "source": [
    "#построим график\n",
    "\n",
    "x = vz_act['event_name']\n",
    "y = vz_act['full_transition_percent']\n",
    "\n",
    "fig, ax = plt.subplots()\n",
    "\n",
    "ax.bar(x, y)\n",
    "\n",
    "ax.set_title('Событийная воронка', fontsize=14)\n",
    "ax.set_xlabel('События')\n",
    "ax.set_ylabel('Процент перехода')\n",
    "\n",
    "plt.show()"
   ]
  },
  {
   "cell_type": "markdown",
   "metadata": {},
   "source": [
    "**Итог анализа событийной воронки**\n",
    "\n",
    "Больше всего пользователей теряется на этапе формирования заказа - почти 38%. На остальных этапах потери пользователей заметно меньше. В целом от захода на посадочную страницу до страницы удачной оплаты добирается 48% пользователей. В целом - достойный результат."
   ]
  },
  {
   "cell_type": "markdown",
   "metadata": {},
   "source": [
    "**Изучим результаты эксперимента и подведем итоги**\n",
    "Нам предоставлены данные по трем группам для подведения итогов А/А/В тестирования. В первую очередь нам нужно проверить количество пользователей в группах и отсутсвие статистической разницы между контрольными группами 246 и 247. Затем нам нужно проверить группу 248, которой был предоставлен вариант сайта с измененным шрифтом"
   ]
  },
  {
   "cell_type": "code",
   "execution_count": 24,
   "metadata": {},
   "outputs": [
    {
     "data": {
      "text/plain": [
       "248    84563\n",
       "246    79302\n",
       "247    77022\n",
       "Name: group, dtype: int64"
      ]
     },
     "execution_count": 24,
     "metadata": {},
     "output_type": "execute_result"
    }
   ],
   "source": [
    "#сделаем отдельный датафрейм для проведения проверки эксперимента\n",
    "aab =le_clear.copy()\n",
    "#проверим количество событий в группах\n",
    "aab['group'].value_counts()"
   ]
  },
  {
   "cell_type": "code",
   "execution_count": 25,
   "metadata": {},
   "outputs": [
    {
     "data": {
      "text/html": [
       "<div>\n",
       "<style scoped>\n",
       "    .dataframe tbody tr th:only-of-type {\n",
       "        vertical-align: middle;\n",
       "    }\n",
       "\n",
       "    .dataframe tbody tr th {\n",
       "        vertical-align: top;\n",
       "    }\n",
       "\n",
       "    .dataframe thead th {\n",
       "        text-align: right;\n",
       "    }\n",
       "</style>\n",
       "<table border=\"1\" class=\"dataframe\">\n",
       "  <thead>\n",
       "    <tr style=\"text-align: right;\">\n",
       "      <th></th>\n",
       "      <th>group</th>\n",
       "      <th>id</th>\n",
       "    </tr>\n",
       "    <tr>\n",
       "      <th>group</th>\n",
       "      <th></th>\n",
       "      <th></th>\n",
       "    </tr>\n",
       "  </thead>\n",
       "  <tbody>\n",
       "    <tr>\n",
       "      <td>246</td>\n",
       "      <td>1</td>\n",
       "      <td>2484</td>\n",
       "    </tr>\n",
       "    <tr>\n",
       "      <td>247</td>\n",
       "      <td>1</td>\n",
       "      <td>2513</td>\n",
       "    </tr>\n",
       "    <tr>\n",
       "      <td>248</td>\n",
       "      <td>1</td>\n",
       "      <td>2537</td>\n",
       "    </tr>\n",
       "  </tbody>\n",
       "</table>\n",
       "</div>"
      ],
      "text/plain": [
       "       group    id\n",
       "group             \n",
       "246        1  2484\n",
       "247        1  2513\n",
       "248        1  2537"
      ]
     },
     "execution_count": 25,
     "metadata": {},
     "output_type": "execute_result"
    }
   ],
   "source": [
    "#определим количество пользователей в группах\n",
    "aab.pivot_table(index = 'group', values = 'id', aggfunc = 'nunique')"
   ]
  },
  {
   "cell_type": "markdown",
   "metadata": {},
   "source": [
    "Количество уникальных пользователей в группах примерно одинаково. Ранее, на этапе подготовки данных, мы проверили отсутствие задвоения пользователей. Мы можем проверить разницу между контрольными выборками 246 и 247. Выберем самое популярное событие. Посчитаем число пользователей, совершивших это событие в каждой из контрольных групп. Посчитаем долю пользователей, совершивших это событие. Проверим, есть ли у нас статистически достоверное различие\n"
   ]
  },
  {
   "cell_type": "markdown",
   "metadata": {},
   "source": [
    "Для проведения анализа установим уровень статистической значимости, равный 5% (alpha = 0.05). \n",
    "\n",
    "Также, определим гипотезы для проверки.\n",
    "\n",
    "$H_0$ Статистически значимых различий между группами нет.\n",
    "\n",
    "$H_1$ Статистически значимые различия между группами есть.\n"
   ]
  },
  {
   "cell_type": "code",
   "execution_count": 40,
   "metadata": {},
   "outputs": [],
   "source": [
    "#сделаем функцию для автоматизации расчета\n",
    "\n",
    "def ztest(group_1, group_2, transition, alpha):\n",
    "    \n",
    "    # подготовим переменные\n",
    "    successes_1 = aab.query('event_name == @transition & group == @group_1')['id'].nunique()\n",
    "    successes_2 = aab.query('event_name == @transition & group == @group_2')['id'].nunique()\n",
    "    trials_1 = aab.query('event_name == \"MainScreenAppear\" & group == @group_1')['id'].nunique()\n",
    "    trials_2 = aab.query('event_name == \"MainScreenAppear\" & group == @group_2')['id'].nunique()\n",
    "    successes_combined = np.array([successes_1, successes_2])\n",
    "    trials_combined = np.array([trials_1, trials_2])\n",
    "    \n",
    "    # проведём расчеты\n",
    "    stat, p_val = proportions_ztest(successes_combined, trials_combined, alternative='two-sided')\n",
    "\n",
    "    # выведем результаты\n",
    "    print('p-значение: ',p_val.round(4))\n",
    "    print(f'Доля пользователей, дошедших с посадочной страницы до страницы {transition}:')\n",
    "    print(f'Для группы {group_1} - {successes_1/trials_1:.2%}')\n",
    "    print(f'Для группы {group_2} - {successes_2/trials_2:.2%}')\n",
    "    print(' ')\n",
    "    if p_val < alpha:\n",
    "        print(\"Отвергаем нулевую гипотезу\")\n",
    "    else:\n",
    "        print(\"Не получилось отвергнуть нулевую гипотезу\") \n",
    "    print(' ')\n",
    "\n",
    "#вариант функции учитывающий всех уникальных пользователей\n",
    "def ztest2(group_1, group_2, transition, alpha):\n",
    "    \n",
    "    # подготовим переменные\n",
    "    successes_1 = aab.query('event_name == @transition & group == @group_1')['id'].nunique()\n",
    "    successes_2 = aab.query('event_name == @transition & group == @group_2')['id'].nunique()\n",
    "    trials_1 = aab.query('group == @group_1')['id'].nunique()\n",
    "    trials_2 = aab.query('group == @group_2')['id'].nunique()\n",
    "    successes_combined = np.array([successes_1, successes_2])\n",
    "    trials_combined = np.array([trials_1, trials_2])\n",
    "    \n",
    "    # проведём расчеты\n",
    "    stat, p_val = proportions_ztest(successes_combined, trials_combined, alternative='two-sided')\n",
    "\n",
    "    # выведем результаты\n",
    "    print('p-значение: ',p_val.round(4))\n",
    "    print(f'Доля пользователей, сделавших событие {transition}:')\n",
    "    print(f'Для группы {group_1} - {successes_1/trials_1:.2%}')\n",
    "    print(f'Для группы {group_2} - {successes_2/trials_2:.2%}')\n",
    "    print(' ')\n",
    "    if p_val < alpha:\n",
    "        print(\"Отвергаем нулевую гипотезу\")\n",
    "    else:\n",
    "        print(\"Не получилось отвергнуть нулевую гипотезу\") \n",
    "    print(' ')"
   ]
  },
  {
   "cell_type": "markdown",
   "metadata": {},
   "source": [
    "Сделаем список всех событий, по которым будем проверять статистически достоверные различия. "
   ]
  },
  {
   "cell_type": "code",
   "execution_count": 37,
   "metadata": {},
   "outputs": [
    {
     "name": "stdout",
     "output_type": "stream",
     "text": [
      "Всего уникальных пользователей: 7534\n",
      " \n",
      "Уникальные пользователи совершающие те или иные действия\n"
     ]
    },
    {
     "data": {
      "text/html": [
       "<div>\n",
       "<style scoped>\n",
       "    .dataframe tbody tr th:only-of-type {\n",
       "        vertical-align: middle;\n",
       "    }\n",
       "\n",
       "    .dataframe tbody tr th {\n",
       "        vertical-align: top;\n",
       "    }\n",
       "\n",
       "    .dataframe thead th {\n",
       "        text-align: right;\n",
       "    }\n",
       "</style>\n",
       "<table border=\"1\" class=\"dataframe\">\n",
       "  <thead>\n",
       "    <tr style=\"text-align: right;\">\n",
       "      <th></th>\n",
       "      <th>event_name</th>\n",
       "      <th>id</th>\n",
       "    </tr>\n",
       "  </thead>\n",
       "  <tbody>\n",
       "    <tr>\n",
       "      <td>0</td>\n",
       "      <td>MainScreenAppear</td>\n",
       "      <td>7419</td>\n",
       "    </tr>\n",
       "    <tr>\n",
       "      <td>1</td>\n",
       "      <td>OffersScreenAppear</td>\n",
       "      <td>4593</td>\n",
       "    </tr>\n",
       "    <tr>\n",
       "      <td>2</td>\n",
       "      <td>CartScreenAppear</td>\n",
       "      <td>3734</td>\n",
       "    </tr>\n",
       "    <tr>\n",
       "      <td>3</td>\n",
       "      <td>PaymentScreenSuccessful</td>\n",
       "      <td>3539</td>\n",
       "    </tr>\n",
       "    <tr>\n",
       "      <td>4</td>\n",
       "      <td>Tutorial</td>\n",
       "      <td>840</td>\n",
       "    </tr>\n",
       "  </tbody>\n",
       "</table>\n",
       "</div>"
      ],
      "text/plain": [
       "                event_name    id\n",
       "0         MainScreenAppear  7419\n",
       "1       OffersScreenAppear  4593\n",
       "2         CartScreenAppear  3734\n",
       "3  PaymentScreenSuccessful  3539\n",
       "4                 Tutorial   840"
      ]
     },
     "execution_count": 37,
     "metadata": {},
     "output_type": "execute_result"
    }
   ],
   "source": [
    "print('Всего уникальных пользователей:',vz['id'].nunique())\n",
    "print(' ')\n",
    "print('Уникальные пользователи совершающие те или иные действия')\n",
    "vz_full = vz.groupby('event_name')['id'].nunique().sort_values(ascending=False).reset_index()\n",
    "vz_full"
   ]
  },
  {
   "cell_type": "markdown",
   "metadata": {},
   "source": [
    "Самое популярное  событие это переход на главную страницу. Проверим статистически достоверное различие между группами 246 и 247 ( контрольные группы)"
   ]
  },
  {
   "cell_type": "code",
   "execution_count": 41,
   "metadata": {},
   "outputs": [
    {
     "name": "stdout",
     "output_type": "stream",
     "text": [
      "p-значение:  0.7571\n",
      "Доля пользователей, сделавших событие MainScreenAppear:\n",
      "Для группы 246 - 98.63%\n",
      "Для группы 247 - 98.53%\n",
      " \n",
      "Не получилось отвергнуть нулевую гипотезу\n",
      " \n"
     ]
    }
   ],
   "source": [
    "ztest2(246, 247, vz_full['event_name'][0],0.05)"
   ]
  },
  {
   "cell_type": "markdown",
   "metadata": {},
   "source": [
    "Проверим остальные переходы в контрольных таблицах"
   ]
  },
  {
   "cell_type": "code",
   "execution_count": 42,
   "metadata": {},
   "outputs": [
    {
     "name": "stdout",
     "output_type": "stream",
     "text": [
      "p-значение:  0.2481\n",
      "Доля пользователей, сделавших событие OffersScreenAppear:\n",
      "Для группы 246 - 62.08%\n",
      "Для группы 247 - 60.49%\n",
      " \n",
      "Не получилось отвергнуть нулевую гипотезу\n",
      " \n",
      "p-значение:  0.2288\n",
      "Доля пользователей, сделавших событие CartScreenAppear:\n",
      "Для группы 246 - 50.97%\n",
      "Для группы 247 - 49.26%\n",
      " \n",
      "Не получилось отвергнуть нулевую гипотезу\n",
      " \n",
      "p-значение:  0.1146\n",
      "Доля пользователей, сделавших событие PaymentScreenSuccessful:\n",
      "Для группы 246 - 48.31%\n",
      "Для группы 247 - 46.08%\n",
      " \n",
      "Не получилось отвергнуть нулевую гипотезу\n",
      " \n",
      "p-значение:  0.9377\n",
      "Доля пользователей, сделавших событие Tutorial:\n",
      "Для группы 246 - 11.19%\n",
      "Для группы 247 - 11.26%\n",
      " \n",
      "Не получилось отвергнуть нулевую гипотезу\n",
      " \n"
     ]
    }
   ],
   "source": [
    "for i in range(1, 5):\n",
    "    ztest2(246, 247, vz_full['event_name'][i],0.05)"
   ]
  },
  {
   "cell_type": "markdown",
   "metadata": {},
   "source": [
    "Судя по всему, наши контрольные группы подобраны правильно и не имеют статистически значимых различий"
   ]
  },
  {
   "cell_type": "markdown",
   "metadata": {},
   "source": [
    "Сравним теперь контрольные группы (попеременно и совместно) с группой 248 которой показали измененный шрифт "
   ]
  },
  {
   "cell_type": "markdown",
   "metadata": {},
   "source": [
    "1) Сравним группы 246 и 248"
   ]
  },
  {
   "cell_type": "code",
   "execution_count": 30,
   "metadata": {},
   "outputs": [
    {
     "name": "stdout",
     "output_type": "stream",
     "text": [
      "p-значение:  0.295\n",
      "Доля пользователей, сделавших событие MainScreenAppear:\n",
      "Для группы 246 - 98.63%\n",
      "Для группы 248 - 98.27%\n",
      " \n",
      "Не получилось отвергнуть нулевую гипотезу\n",
      " \n",
      "p-значение:  0.2084\n",
      "Доля пользователей, сделавших событие OffersScreenAppear:\n",
      "Для группы 246 - 62.08%\n",
      "Для группы 248 - 60.35%\n",
      " \n",
      "Не получилось отвергнуть нулевую гипотезу\n",
      " \n",
      "p-значение:  0.0784\n",
      "Доля пользователей, сделавших событие CartScreenAppear:\n",
      "Для группы 246 - 50.97%\n",
      "Для группы 248 - 48.48%\n",
      " \n",
      "Не получилось отвергнуть нулевую гипотезу\n",
      " \n",
      "p-значение:  0.2123\n",
      "Доля пользователей, сделавших событие PaymentScreenSuccessful:\n",
      "Для группы 246 - 48.31%\n",
      "Для группы 248 - 46.55%\n",
      " \n",
      "Не получилось отвергнуть нулевую гипотезу\n",
      " \n",
      "p-значение:  0.8264\n",
      "Доля пользователей, сделавших событие Tutorial:\n",
      "Для группы 246 - 11.19%\n",
      "Для группы 248 - 11.00%\n",
      " \n",
      "Не получилось отвергнуть нулевую гипотезу\n",
      " \n"
     ]
    }
   ],
   "source": [
    "for i in range(0, 5):\n",
    "    ztest2(246, 248, vz_full['event_name'][i],0.05)"
   ]
  },
  {
   "cell_type": "markdown",
   "metadata": {},
   "source": [
    "1) Сравним группы 247 и 248"
   ]
  },
  {
   "cell_type": "code",
   "execution_count": 31,
   "metadata": {},
   "outputs": [
    {
     "name": "stdout",
     "output_type": "stream",
     "text": [
      "p-значение:  0.4587\n",
      "Доля пользователей, сделавших событие MainScreenAppear:\n",
      "Для группы 247 - 98.53%\n",
      "Для группы 248 - 98.27%\n",
      " \n",
      "Не получилось отвергнуть нулевую гипотезу\n",
      " \n",
      "p-значение:  0.9198\n",
      "Доля пользователей, сделавших событие OffersScreenAppear:\n",
      "Для группы 247 - 60.49%\n",
      "Для группы 248 - 60.35%\n",
      " \n",
      "Не получилось отвергнуть нулевую гипотезу\n",
      " \n",
      "p-значение:  0.5786\n",
      "Доля пользователей, сделавших событие CartScreenAppear:\n",
      "Для группы 247 - 49.26%\n",
      "Для группы 248 - 48.48%\n",
      " \n",
      "Не получилось отвергнуть нулевую гипотезу\n",
      " \n",
      "p-значение:  0.7373\n",
      "Доля пользователей, сделавших событие PaymentScreenSuccessful:\n",
      "Для группы 247 - 46.08%\n",
      "Для группы 248 - 46.55%\n",
      " \n",
      "Не получилось отвергнуть нулевую гипотезу\n",
      " \n",
      "p-значение:  0.7653\n",
      "Доля пользователей, сделавших событие Tutorial:\n",
      "Для группы 247 - 11.26%\n",
      "Для группы 248 - 11.00%\n",
      " \n",
      "Не получилось отвергнуть нулевую гипотезу\n",
      " \n"
     ]
    }
   ],
   "source": [
    "for i in range(0, 5):\n",
    "    ztest2(247, 248, vz_full['event_name'][i],0.05)"
   ]
  },
  {
   "cell_type": "markdown",
   "metadata": {},
   "source": [
    "1) Сравним объеденённую контрольную группу из групп 246 и 247 с группой 248"
   ]
  },
  {
   "cell_type": "code",
   "execution_count": 32,
   "metadata": {},
   "outputs": [],
   "source": [
    "union_control = [246, 247]"
   ]
  },
  {
   "cell_type": "code",
   "execution_count": 33,
   "metadata": {},
   "outputs": [
    {
     "name": "stdout",
     "output_type": "stream",
     "text": [
      "p-значение:  0.2942\n",
      "Доля пользователей, сделавших событие MainScreenAppear:\n",
      "Для группы [246, 247] - 98.58%\n",
      "Для группы 248 - 98.27%\n",
      " \n",
      "Не получилось отвергнуть нулевую гипотезу\n",
      " \n",
      "p-значение:  0.4343\n",
      "Доля пользователей, сделавших событие OffersScreenAppear:\n",
      "Для группы [246, 247] - 61.28%\n",
      "Для группы 248 - 60.35%\n",
      " \n",
      "Не получилось отвергнуть нулевую гипотезу\n",
      " \n",
      "p-значение:  0.1818\n",
      "Доля пользователей, сделавших событие CartScreenAppear:\n",
      "Для группы [246, 247] - 50.11%\n",
      "Для группы 248 - 48.48%\n",
      " \n",
      "Не получилось отвергнуть нулевую гипотезу\n",
      " \n",
      "p-значение:  0.6004\n",
      "Доля пользователей, сделавших событие PaymentScreenSuccessful:\n",
      "Для группы [246, 247] - 47.19%\n",
      "Для группы 248 - 46.55%\n",
      " \n",
      "Не получилось отвергнуть нулевую гипотезу\n",
      " \n",
      "p-значение:  0.7649\n",
      "Доля пользователей, сделавших событие Tutorial:\n",
      "Для группы [246, 247] - 11.23%\n",
      "Для группы 248 - 11.00%\n",
      " \n",
      "Не получилось отвергнуть нулевую гипотезу\n",
      " \n"
     ]
    }
   ],
   "source": [
    "for i in range(0, 5):\n",
    "    ztest2(union_control, 248, vz_full['event_name'][i],0.05)"
   ]
  },
  {
   "cell_type": "markdown",
   "metadata": {},
   "source": [
    "Мы сделали двадцать проверок статистических гипотез при уровне значимости 5%, при этом нигде не получилось опровергнуть гипотезу о наличии статистически достоверной разницы между группами\n",
    "Можно сделать проемжуточный вывод, что **не доказано влияние изменения шрифта на переходы с посадочной страницы** на последующие страницы воронки событий. "
   ]
  },
  {
   "cell_type": "markdown",
   "metadata": {},
   "source": [
    "### Промежуточные выводы"
   ]
  },
  {
   "cell_type": "markdown",
   "metadata": {},
   "source": [
    "**Событийная воронка**\n",
    "\n",
    "Думаю, что можно предположить следующую последовательность событий: Пользователь заходит на главную страницу, некотрое время проводит там, возможно возвращается на страницу несколько раз. Затем он выбирает нужные ему продукты изучает цены и думает над покупкой На третьем шаге он оказывается в \"корзине\", где просматривает условия и заказ и решается на покупку. После удачной оплаты он оказывается на странице успешной оплаты и радуется, что все оформил и оплатил. Данные события выстраиваются в понятную последовательную цепочку. При этом у нас есть пользователи читающие руководство. Они могут делать это на любом этапе воронки и это собтие не встраивается в воронку. Думаю мы должны выключить его из расчета воронки.\n",
    "\n",
    "Таким образом, я предлагаю использовать следующую воронку событий: 'MainScreenAppear' 'OffersScreenAppear' 'CartScreenAppear' 'PaymentScreenSuccessful'\n",
    "\n",
    "Больше всего пользователей теряется на этапе формирования заказа - почти 38%. На остальных этапах потери пользователей заметно меньше. В целом от захода на посадочную страницу до страницы удачной оплаты добирается 48% пользователей. В целом - достойный результат.\n",
    "\n",
    "**А/А/В тестирование**\n",
    "Нам предоставлены данные по трем группам для подведения итогов А/А/В тестирования. В первую очередь нам нужно проверить количество пользователей в группах и отсутсвие статистической разницы между контрольными группами 246 и 247. Затем нам нужно проверить группу 248, которой был предоставлен вариант сайта с измененным шрифтом\n",
    "\n",
    "Мы сделали двадцать проверок статистических гипотез при уровне значимости 5%, при этом нигде не получилось опровергнуть гипотезу о наличии статистически достоверной разницы между группами\n",
    "Можно сделать вывод, что **не доказано влияние изменения шрифта на переходы с посадочной страницы** на последующие страницы воронки событий. "
   ]
  },
  {
   "cell_type": "markdown",
   "metadata": {},
   "source": [
    "Предположим, что мы взяли слишком большой уровень значимости. Проверим несколько результатов при уровне значимости 0,15. "
   ]
  },
  {
   "cell_type": "code",
   "execution_count": 34,
   "metadata": {},
   "outputs": [
    {
     "name": "stdout",
     "output_type": "stream",
     "text": [
      "p-значение:  0.7571\n",
      "Доля пользователей, сделавших событие MainScreenAppear:\n",
      "Для группы 246 - 98.63%\n",
      "Для группы 247 - 98.53%\n",
      " \n",
      "Не получилось отвергнуть нулевую гипотезу\n",
      " \n",
      "p-значение:  0.2481\n",
      "Доля пользователей, сделавших событие OffersScreenAppear:\n",
      "Для группы 246 - 62.08%\n",
      "Для группы 247 - 60.49%\n",
      " \n",
      "Не получилось отвергнуть нулевую гипотезу\n",
      " \n",
      "p-значение:  0.2288\n",
      "Доля пользователей, сделавших событие CartScreenAppear:\n",
      "Для группы 246 - 50.97%\n",
      "Для группы 247 - 49.26%\n",
      " \n",
      "Не получилось отвергнуть нулевую гипотезу\n",
      " \n",
      "p-значение:  0.1146\n",
      "Доля пользователей, сделавших событие PaymentScreenSuccessful:\n",
      "Для группы 246 - 48.31%\n",
      "Для группы 247 - 46.08%\n",
      " \n",
      "Отвергаем нулевую гипотезу\n",
      " \n",
      "p-значение:  0.9377\n",
      "Доля пользователей, сделавших событие Tutorial:\n",
      "Для группы 246 - 11.19%\n",
      "Для группы 247 - 11.26%\n",
      " \n",
      "Не получилось отвергнуть нулевую гипотезу\n",
      " \n"
     ]
    }
   ],
   "source": [
    "for i in range(0, 5):\n",
    "    ztest2(246, 247, vz_full['event_name'][i],0.15)"
   ]
  },
  {
   "attachments": {
    "image.png": {
     "image/png": "[encoded data removed]"
    }
   },
   "cell_type": "markdown",
   "metadata": {},
   "source": [
    "Четвертая проверка показывает возможное расхождение в контрольных группах. Нам необходимо применить поправку на множественную проверку гипотез, как способ устранения эффекта множественных сравнений (с каждой новой проверкой гипотезы растёт вероятность ошибки первого рода)\n",
    "\n",
    "Применим поправку Бонферрони для расчета нужного нам уровня значимости:\n",
    "Уровни значимости в каждом из $m$ сравнений в $m$ раз меньше, чем уровень значимости, требуемый при единственном сравнении.\n",
    "![image.png](attachment:image.png)\n",
    "\n",
    "Мы провели 5 сравнений, соответсвенно сделаем проверочный расчет с (alpha = 0.15/5 = 0,03)"
   ]
  },
  {
   "cell_type": "code",
   "execution_count": 35,
   "metadata": {},
   "outputs": [
    {
     "name": "stdout",
     "output_type": "stream",
     "text": [
      "p-значение:  0.1146\n",
      "Доля пользователей, сделавших событие PaymentScreenSuccessful:\n",
      "Для группы 246 - 48.31%\n",
      "Для группы 247 - 46.08%\n",
      " \n",
      "Не получилось отвергнуть нулевую гипотезу\n",
      " \n"
     ]
    }
   ],
   "source": [
    "ztest2(246, 247, vz_full['event_name'][3],0.03)"
   ]
  },
  {
   "cell_type": "markdown",
   "metadata": {},
   "source": [
    "Проверка с поправкой Бонферрони показала отсутсвие статичтически достоверной разницы между контрольными группами"
   ]
  },
  {
   "cell_type": "markdown",
   "metadata": {},
   "source": [
    "## Выводы"
   ]
  },
  {
   "cell_type": "markdown",
   "metadata": {},
   "source": [
    "Данные в целом пришли в хорошем виде. Присутсвовало небольшое количество дубликатов и некотрое количество неполных данных (данных до 01.08.2019). Поскольку их было небольшое количество, они были удалены из анализа. Задвоений пользователей по группам А/А/В тестирования не найдено. Данные готовы для анализа и проведения А/А/В теста\n",
    "\n",
    "**Событийная воронка**\n",
    "\n",
    "Думаю, что можно предположить следующую последовательность событий: Пользователь заходит на главную страницу, некотрое время проводит там, возможно возвращается на страницу несколько раз. Затем он выбирает нужные ему продукты изучает цены и думает над покупкой На третьем шаге он оказывается в \"корзине\", где просматривает условия и заказ и решается на покупку. После удачной оплаты он оказывается на странице успешной оплаты и радуется, что все оформил и оплатил. Данные события выстраиваются в понятную последовательную цепочку. При этом у нас есть пользователи читающие руководство. Они могут делать это на любом этапе воронки и это собтие не встраивается в воронку. Думаю мы должны выключить его из расчета воронки.\n",
    "\n",
    "Таким образом, я предлагаю использовать следующую воронку событий: 'MainScreenAppear' 'OffersScreenAppear' 'CartScreenAppear' 'PaymentScreenSuccessful'\n",
    "\n",
    "Больше всего пользователей теряется на этапе формирования заказа - почти 38%. На остальных этапах потери пользователей заметно меньше. В целом от захода на посадочную страницу до страницы удачной оплаты добирается 48% пользователей. В целом - достойный результат.\n",
    "\n",
    "**А/А/В тестирование**\n",
    "Нам предоставлены данные по трем группам для подведения итогов А/А/В тестирования. В первую очередь нам нужно проверить количество пользователей в группах и отсутсвие статистической разницы между контрольными группами 246 и 247. Затем нам нужно проверить группу 248, которой был предоставлен вариант сайта с измененным шрифтом\n",
    "\n",
    "Мы сделали двадцать проверок статистических гипотез при уровне значимости 5%, при этом нигде не получилось опровергнуть гипотезу о наличии статистически достоверной разницы между группами\n",
    "Можно сделать вывод, что **не доказано влияние изменения шрифта на переходы с посадочной страницы** на последующие страницы воронки событий. Дополнительно мы проверили расчеты с большим уровнем значимости и применением поправки Бонферрони.\n",
    "\n",
    "\n",
    "**Рекомендации**\n",
    " Самый большой отток пользователей происходит на этапе перехода с посадочной страницы на страницу формирования заказа. Стоит проверить более пристально поведение посетителей на этом переходе."
   ]
  }
 ],
 "metadata": {
  "ExecuteTimeLog": [
   {
    "duration": 1572,
    "start_time": "2021-11-18T08:59:30.277Z"
   },
   {
    "duration": 342,
    "start_time": "2021-11-18T09:00:57.765Z"
   },
   {
    "duration": 241,
    "start_time": "2021-11-18T09:02:12.307Z"
   },
   {
    "duration": 376,
    "start_time": "2021-11-18T09:02:17.648Z"
   },
   {
    "duration": 144,
    "start_time": "2021-11-18T09:03:44.759Z"
   },
   {
    "duration": 66,
    "start_time": "2021-11-18T11:13:10.198Z"
   },
   {
    "duration": 64,
    "start_time": "2021-11-18T11:13:27.145Z"
   },
   {
    "duration": 68,
    "start_time": "2021-11-18T11:16:04.984Z"
   },
   {
    "duration": 237,
    "start_time": "2021-11-18T11:16:51.971Z"
   },
   {
    "duration": 70,
    "start_time": "2021-11-18T11:17:16.096Z"
   },
   {
    "duration": 593,
    "start_time": "2021-11-18T11:18:35.836Z"
   },
   {
    "duration": 642,
    "start_time": "2021-11-18T11:18:41.387Z"
   },
   {
    "duration": 392,
    "start_time": "2021-11-18T11:18:43.572Z"
   },
   {
    "duration": 91,
    "start_time": "2021-11-18T11:27:34.959Z"
   },
   {
    "duration": 90,
    "start_time": "2021-11-18T11:29:20.277Z"
   },
   {
    "duration": 88,
    "start_time": "2021-11-18T11:29:52.321Z"
   },
   {
    "duration": 18,
    "start_time": "2021-11-18T11:30:06.576Z"
   },
   {
    "duration": 231,
    "start_time": "2021-11-18T11:30:26.045Z"
   },
   {
    "duration": 415,
    "start_time": "2021-11-18T11:30:30.764Z"
   },
   {
    "duration": 380,
    "start_time": "2021-11-18T11:30:36.288Z"
   },
   {
    "duration": 17,
    "start_time": "2021-11-18T11:30:38.968Z"
   },
   {
    "duration": 87,
    "start_time": "2021-11-18T11:32:33.351Z"
   },
   {
    "duration": 65,
    "start_time": "2021-11-18T11:33:50.058Z"
   },
   {
    "duration": 229,
    "start_time": "2021-11-18T11:43:42.923Z"
   },
   {
    "duration": 2321,
    "start_time": "2021-11-23T02:57:18.434Z"
   },
   {
    "duration": 105,
    "start_time": "2021-11-23T02:57:20.758Z"
   },
   {
    "duration": 111,
    "start_time": "2021-11-23T02:57:20.866Z"
   },
   {
    "duration": 103,
    "start_time": "2021-11-23T02:57:20.980Z"
   },
   {
    "duration": 192,
    "start_time": "2021-11-23T02:57:21.086Z"
   },
   {
    "duration": 20,
    "start_time": "2021-11-23T02:57:21.281Z"
   },
   {
    "duration": 33,
    "start_time": "2021-11-23T02:57:21.304Z"
   },
   {
    "duration": 204,
    "start_time": "2021-11-23T02:57:21.343Z"
   },
   {
    "duration": 529,
    "start_time": "2021-11-23T02:57:21.550Z"
   },
   {
    "duration": 9,
    "start_time": "2021-11-23T02:57:22.081Z"
   },
   {
    "duration": 56,
    "start_time": "2021-11-23T02:57:22.092Z"
   },
   {
    "duration": 628,
    "start_time": "2021-11-23T02:57:22.150Z"
   },
   {
    "duration": 21,
    "start_time": "2021-11-23T02:57:22.780Z"
   },
   {
    "duration": 52,
    "start_time": "2021-11-23T02:57:22.803Z"
   },
   {
    "duration": 9,
    "start_time": "2021-11-23T02:57:22.858Z"
   },
   {
    "duration": 14,
    "start_time": "2021-11-23T02:57:22.869Z"
   },
   {
    "duration": 53,
    "start_time": "2021-11-23T02:57:22.886Z"
   },
   {
    "duration": 45,
    "start_time": "2021-11-23T02:57:22.943Z"
   },
   {
    "duration": 55,
    "start_time": "2021-11-23T02:57:22.990Z"
   },
   {
    "duration": 103,
    "start_time": "2021-11-23T02:57:23.048Z"
   },
   {
    "duration": 8,
    "start_time": "2021-11-23T02:57:23.153Z"
   },
   {
    "duration": 21,
    "start_time": "2021-11-23T02:57:23.163Z"
   },
   {
    "duration": 459,
    "start_time": "2021-11-23T02:57:23.189Z"
   },
   {
    "duration": 20,
    "start_time": "2021-11-23T02:57:23.651Z"
   },
   {
    "duration": 93,
    "start_time": "2021-11-23T02:57:23.674Z"
   },
   {
    "duration": 8,
    "start_time": "2021-11-23T02:57:23.769Z"
   },
   {
    "duration": 95,
    "start_time": "2021-11-23T02:57:23.779Z"
   },
   {
    "duration": 148,
    "start_time": "2021-11-23T02:57:23.876Z"
   },
   {
    "duration": 218,
    "start_time": "2021-11-23T02:57:24.030Z"
   },
   {
    "duration": 207,
    "start_time": "2021-11-23T02:57:24.250Z"
   },
   {
    "duration": 3,
    "start_time": "2021-11-23T02:57:24.460Z"
   },
   {
    "duration": 235,
    "start_time": "2021-11-23T02:57:24.465Z"
   },
   {
    "duration": 8,
    "start_time": "2021-11-23T03:01:57.804Z"
   },
   {
    "duration": 72,
    "start_time": "2021-11-23T03:02:00.070Z"
   },
   {
    "duration": 125,
    "start_time": "2021-11-23T03:02:13.337Z"
   },
   {
    "duration": 8,
    "start_time": "2021-11-23T03:02:31.309Z"
   },
   {
    "duration": 67,
    "start_time": "2021-11-23T03:02:34.220Z"
   },
   {
    "duration": 125,
    "start_time": "2021-11-23T03:02:36.708Z"
   },
   {
    "duration": 2221,
    "start_time": "2021-11-23T15:51:06.618Z"
   },
   {
    "duration": 80,
    "start_time": "2021-11-23T15:51:08.842Z"
   },
   {
    "duration": 111,
    "start_time": "2021-11-23T15:51:08.925Z"
   },
   {
    "duration": 100,
    "start_time": "2021-11-23T15:51:09.039Z"
   },
   {
    "duration": 189,
    "start_time": "2021-11-23T15:51:09.142Z"
   },
   {
    "duration": 31,
    "start_time": "2021-11-23T15:51:09.334Z"
   },
   {
    "duration": 18,
    "start_time": "2021-11-23T15:51:09.368Z"
   },
   {
    "duration": 225,
    "start_time": "2021-11-23T15:51:09.393Z"
   },
   {
    "duration": 545,
    "start_time": "2021-11-23T15:51:09.622Z"
   },
   {
    "duration": 9,
    "start_time": "2021-11-23T15:51:10.169Z"
   },
   {
    "duration": 32,
    "start_time": "2021-11-23T15:51:10.180Z"
   },
   {
    "duration": 649,
    "start_time": "2021-11-23T15:51:10.214Z"
   },
   {
    "duration": 22,
    "start_time": "2021-11-23T15:51:10.866Z"
   },
   {
    "duration": 37,
    "start_time": "2021-11-23T15:51:10.890Z"
   },
   {
    "duration": 34,
    "start_time": "2021-11-23T15:51:10.929Z"
   },
   {
    "duration": 11,
    "start_time": "2021-11-23T15:51:10.965Z"
   },
   {
    "duration": 13,
    "start_time": "2021-11-23T15:51:10.978Z"
   },
   {
    "duration": 83,
    "start_time": "2021-11-23T15:51:10.994Z"
   },
   {
    "duration": 31,
    "start_time": "2021-11-23T15:51:11.080Z"
   },
   {
    "duration": 107,
    "start_time": "2021-11-23T15:51:11.113Z"
   },
   {
    "duration": 8,
    "start_time": "2021-11-23T15:51:11.222Z"
   },
   {
    "duration": 43,
    "start_time": "2021-11-23T15:51:11.233Z"
   },
   {
    "duration": 437,
    "start_time": "2021-11-23T15:51:11.281Z"
   },
   {
    "duration": 19,
    "start_time": "2021-11-23T15:51:11.721Z"
   },
   {
    "duration": 84,
    "start_time": "2021-11-23T15:51:11.743Z"
   },
   {
    "duration": 12,
    "start_time": "2021-11-23T15:51:11.830Z"
   },
   {
    "duration": 75,
    "start_time": "2021-11-23T15:51:11.860Z"
   },
   {
    "duration": 80,
    "start_time": "2021-11-23T15:51:11.937Z"
   },
   {
    "duration": 204,
    "start_time": "2021-11-23T15:51:12.020Z"
   },
   {
    "duration": 255,
    "start_time": "2021-11-23T15:51:12.226Z"
   },
   {
    "duration": 254,
    "start_time": "2021-11-23T15:51:12.484Z"
   },
   {
    "duration": 3,
    "start_time": "2021-11-23T15:51:12.741Z"
   },
   {
    "duration": 328,
    "start_time": "2021-11-23T15:51:12.747Z"
   },
   {
    "duration": 245,
    "start_time": "2021-11-23T15:51:13.077Z"
   },
   {
    "duration": 66,
    "start_time": "2021-11-23T15:51:13.325Z"
   },
   {
    "duration": 13,
    "start_time": "2021-11-23T15:53:23.382Z"
   },
   {
    "duration": 69,
    "start_time": "2021-11-23T15:53:26.415Z"
   },
   {
    "duration": 85,
    "start_time": "2021-11-23T15:53:31.003Z"
   },
   {
    "duration": 194,
    "start_time": "2021-11-23T15:53:35.217Z"
   },
   {
    "duration": 12,
    "start_time": "2021-11-23T15:53:48.811Z"
   },
   {
    "duration": 82,
    "start_time": "2021-11-23T15:54:14.078Z"
   },
   {
    "duration": 188,
    "start_time": "2021-11-23T15:54:16.484Z"
   }
  ],
  "kernelspec": {
   "display_name": "Python 3",
   "language": "python",
   "name": "python3"
  },
  "language_info": {
   "codemirror_mode": {
    "name": "ipython",
    "version": 3
   },
   "file_extension": ".py",
   "mimetype": "text/x-python",
   "name": "python",
   "nbconvert_exporter": "python",
   "pygments_lexer": "ipython3",
   "version": "3.7.10"
  },
  "toc": {
   "base_numbering": 1,
   "nav_menu": {},
   "number_sections": true,
   "sideBar": true,
   "skip_h1_title": true,
   "title_cell": "Table of Contents",
   "title_sidebar": "Contents",
   "toc_cell": true,
   "toc_position": {
    "height": "calc(100% - 180px)",
    "left": "10px",
    "top": "150px",
    "width": "238.26px"
   },
   "toc_section_display": true,
   "toc_window_display": true
  }
 },
 "nbformat": 4,
 "nbformat_minor": 2
}
